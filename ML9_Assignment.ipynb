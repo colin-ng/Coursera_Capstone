{
 "metadata": {
  "language_info": {
   "codemirror_mode": {
    "name": "ipython",
    "version": 3
   },
   "file_extension": ".py",
   "mimetype": "text/x-python",
   "name": "python",
   "nbconvert_exporter": "python",
   "pygments_lexer": "ipython3",
   "version": "3.8.5-final"
  },
  "orig_nbformat": 2,
  "kernelspec": {
   "name": "python3",
   "display_name": "Python 3"
  }
 },
 "nbformat": 4,
 "nbformat_minor": 2,
 "cells": [
  {
   "source": [
    "# Peer-Graded Assignment: Segmenting and Clustering Neighborhoods in Toronto\n",
    "\n",
    "## This project is about exploring and clustering neighbourhoods in Toronto, Canada.\n",
    "## Web scraping technique is used to read a HTML table containing postal code, borough and neighbourhoods from the Wiki page https://en.wikipedia.org/wiki/List_of_postal_codes_of_Canada:_M."
   ],
   "cell_type": "markdown",
   "metadata": {}
  },
  {
   "source": [
    "## Imports"
   ],
   "cell_type": "markdown",
   "metadata": {}
  },
  {
   "cell_type": "code",
   "execution_count": 1,
   "metadata": {},
   "outputs": [],
   "source": [
    "import numpy as np\n",
    "import pandas as pd\n",
    "\n",
    "import requests # library to handle requests\n",
    "import json # library to handle JSON files\n",
    "from pandas.io.json import json_normalize # tranform JSON file into a pandas dataframe\n",
    "\n",
    "from geopy.geocoders import Nominatim # convert an address into coordinates\n",
    "\n",
    "# Matplotlib and associated plotting modules\n",
    "import matplotlib.cm as cm\n",
    "import matplotlib.colors as colors\n",
    "\n",
    "import folium # map rendering library\n",
    "from IPython.core.display import HTML\n",
    "\n",
    "from sklearn.cluster import KMeans # import K-Means algorithm\n",
    "\n",
    "%matplotlib inline"
   ]
  },
  {
   "source": [
    "## Get the data"
   ],
   "cell_type": "markdown",
   "metadata": {}
  },
  {
   "cell_type": "code",
   "execution_count": 2,
   "metadata": {},
   "outputs": [
    {
     "output_type": "execute_result",
     "data": {
      "text/plain": [
       "3"
      ]
     },
     "metadata": {},
     "execution_count": 2
    }
   ],
   "source": [
    "url = 'https://en.wikipedia.org/wiki/List_of_postal_codes_of_Canada:_M'\n",
    "tbl = pd.read_html(url)\n",
    "len(tbl)"
   ]
  },
  {
   "cell_type": "code",
   "execution_count": 3,
   "metadata": {},
   "outputs": [
    {
     "output_type": "execute_result",
     "data": {
      "text/plain": [
       "  Postal Code           Borough              Neighbourhood\n",
       "0         M1A      Not assigned               Not assigned\n",
       "1         M2A      Not assigned               Not assigned\n",
       "2         M3A        North York                  Parkwoods\n",
       "3         M4A        North York           Victoria Village\n",
       "4         M5A  Downtown Toronto  Regent Park, Harbourfront"
      ],
      "text/html": "<div>\n<style scoped>\n    .dataframe tbody tr th:only-of-type {\n        vertical-align: middle;\n    }\n\n    .dataframe tbody tr th {\n        vertical-align: top;\n    }\n\n    .dataframe thead th {\n        text-align: right;\n    }\n</style>\n<table border=\"1\" class=\"dataframe\">\n  <thead>\n    <tr style=\"text-align: right;\">\n      <th></th>\n      <th>Postal Code</th>\n      <th>Borough</th>\n      <th>Neighbourhood</th>\n    </tr>\n  </thead>\n  <tbody>\n    <tr>\n      <th>0</th>\n      <td>M1A</td>\n      <td>Not assigned</td>\n      <td>Not assigned</td>\n    </tr>\n    <tr>\n      <th>1</th>\n      <td>M2A</td>\n      <td>Not assigned</td>\n      <td>Not assigned</td>\n    </tr>\n    <tr>\n      <th>2</th>\n      <td>M3A</td>\n      <td>North York</td>\n      <td>Parkwoods</td>\n    </tr>\n    <tr>\n      <th>3</th>\n      <td>M4A</td>\n      <td>North York</td>\n      <td>Victoria Village</td>\n    </tr>\n    <tr>\n      <th>4</th>\n      <td>M5A</td>\n      <td>Downtown Toronto</td>\n      <td>Regent Park, Harbourfront</td>\n    </tr>\n  </tbody>\n</table>\n</div>"
     },
     "metadata": {},
     "execution_count": 3
    }
   ],
   "source": [
    "df = tbl[0]\n",
    "df.head()"
   ]
  },
  {
   "source": [
    "## Data Wrangling"
   ],
   "cell_type": "markdown",
   "metadata": {}
  },
  {
   "source": [
    "# Display number of rows and columns\n",
    "df.shape"
   ],
   "cell_type": "code",
   "metadata": {},
   "execution_count": 4,
   "outputs": [
    {
     "output_type": "execute_result",
     "data": {
      "text/plain": [
       "(180, 3)"
      ]
     },
     "metadata": {},
     "execution_count": 4
    }
   ]
  },
  {
   "source": [
    "### Remove rows with that the borough is having 'Not assigned'."
   ],
   "cell_type": "markdown",
   "metadata": {}
  },
  {
   "cell_type": "code",
   "execution_count": 5,
   "metadata": {},
   "outputs": [],
   "source": [
    "df.drop(df[df['Borough'] == 'Not assigned'].index, axis = 0, inplace = True)"
   ]
  },
  {
   "source": [
    "### To double check that all rows which borough is 'Not assigned' are removed."
   ],
   "cell_type": "markdown",
   "metadata": {}
  },
  {
   "cell_type": "code",
   "execution_count": 6,
   "metadata": {},
   "outputs": [
    {
     "output_type": "execute_result",
     "data": {
      "text/plain": [
       "Postal Code      False\n",
       "Borough          False\n",
       "Neighbourhood    False\n",
       "dtype: bool"
      ]
     },
     "metadata": {},
     "execution_count": 6
    }
   ],
   "source": [
    "df[df['Borough'] == 'Not assigned'].any()"
   ]
  },
  {
   "source": [
    "### Check if there's duplicated 'Postal Code' row."
   ],
   "cell_type": "markdown",
   "metadata": {}
  },
  {
   "cell_type": "code",
   "execution_count": 7,
   "metadata": {},
   "outputs": [
    {
     "output_type": "execute_result",
     "data": {
      "text/plain": [
       "False"
      ]
     },
     "metadata": {},
     "execution_count": 7
    }
   ],
   "source": [
    "df['Postal Code'].duplicated().any()"
   ]
  },
  {
   "source": [
    "### Display number of rows and columns after the dataframe is cleaned."
   ],
   "cell_type": "markdown",
   "metadata": {}
  },
  {
   "cell_type": "code",
   "execution_count": 8,
   "metadata": {},
   "outputs": [],
   "source": [
    "df.reset_index(drop = True, inplace = True)"
   ]
  },
  {
   "cell_type": "code",
   "execution_count": 9,
   "metadata": {},
   "outputs": [
    {
     "output_type": "execute_result",
     "data": {
      "text/plain": [
       "   Postal Code           Borough  \\\n",
       "0          M3A        North York   \n",
       "1          M4A        North York   \n",
       "2          M5A  Downtown Toronto   \n",
       "3          M6A        North York   \n",
       "4          M7A  Downtown Toronto   \n",
       "5          M9A         Etobicoke   \n",
       "6          M1B       Scarborough   \n",
       "7          M3B        North York   \n",
       "8          M4B         East York   \n",
       "9          M5B  Downtown Toronto   \n",
       "10         M6B        North York   \n",
       "11         M9B         Etobicoke   \n",
       "\n",
       "                                        Neighbourhood  \n",
       "0                                           Parkwoods  \n",
       "1                                    Victoria Village  \n",
       "2                           Regent Park, Harbourfront  \n",
       "3                    Lawrence Manor, Lawrence Heights  \n",
       "4         Queen's Park, Ontario Provincial Government  \n",
       "5             Islington Avenue, Humber Valley Village  \n",
       "6                                      Malvern, Rouge  \n",
       "7                                           Don Mills  \n",
       "8                     Parkview Hill, Woodbine Gardens  \n",
       "9                            Garden District, Ryerson  \n",
       "10                                          Glencairn  \n",
       "11  West Deane Park, Princess Gardens, Martin Grov...  "
      ],
      "text/html": "<div>\n<style scoped>\n    .dataframe tbody tr th:only-of-type {\n        vertical-align: middle;\n    }\n\n    .dataframe tbody tr th {\n        vertical-align: top;\n    }\n\n    .dataframe thead th {\n        text-align: right;\n    }\n</style>\n<table border=\"1\" class=\"dataframe\">\n  <thead>\n    <tr style=\"text-align: right;\">\n      <th></th>\n      <th>Postal Code</th>\n      <th>Borough</th>\n      <th>Neighbourhood</th>\n    </tr>\n  </thead>\n  <tbody>\n    <tr>\n      <th>0</th>\n      <td>M3A</td>\n      <td>North York</td>\n      <td>Parkwoods</td>\n    </tr>\n    <tr>\n      <th>1</th>\n      <td>M4A</td>\n      <td>North York</td>\n      <td>Victoria Village</td>\n    </tr>\n    <tr>\n      <th>2</th>\n      <td>M5A</td>\n      <td>Downtown Toronto</td>\n      <td>Regent Park, Harbourfront</td>\n    </tr>\n    <tr>\n      <th>3</th>\n      <td>M6A</td>\n      <td>North York</td>\n      <td>Lawrence Manor, Lawrence Heights</td>\n    </tr>\n    <tr>\n      <th>4</th>\n      <td>M7A</td>\n      <td>Downtown Toronto</td>\n      <td>Queen's Park, Ontario Provincial Government</td>\n    </tr>\n    <tr>\n      <th>5</th>\n      <td>M9A</td>\n      <td>Etobicoke</td>\n      <td>Islington Avenue, Humber Valley Village</td>\n    </tr>\n    <tr>\n      <th>6</th>\n      <td>M1B</td>\n      <td>Scarborough</td>\n      <td>Malvern, Rouge</td>\n    </tr>\n    <tr>\n      <th>7</th>\n      <td>M3B</td>\n      <td>North York</td>\n      <td>Don Mills</td>\n    </tr>\n    <tr>\n      <th>8</th>\n      <td>M4B</td>\n      <td>East York</td>\n      <td>Parkview Hill, Woodbine Gardens</td>\n    </tr>\n    <tr>\n      <th>9</th>\n      <td>M5B</td>\n      <td>Downtown Toronto</td>\n      <td>Garden District, Ryerson</td>\n    </tr>\n    <tr>\n      <th>10</th>\n      <td>M6B</td>\n      <td>North York</td>\n      <td>Glencairn</td>\n    </tr>\n    <tr>\n      <th>11</th>\n      <td>M9B</td>\n      <td>Etobicoke</td>\n      <td>West Deane Park, Princess Gardens, Martin Grov...</td>\n    </tr>\n  </tbody>\n</table>\n</div>"
     },
     "metadata": {},
     "execution_count": 9
    }
   ],
   "source": [
    "df.head(12)"
   ]
  },
  {
   "cell_type": "code",
   "execution_count": 10,
   "metadata": {},
   "outputs": [
    {
     "output_type": "execute_result",
     "data": {
      "text/plain": [
       "(103, 3)"
      ]
     },
     "metadata": {},
     "execution_count": 10
    }
   ],
   "source": [
    "df.shape"
   ]
  },
  {
   "source": [
    "### Get coorindates of all postal codes in the dataframe."
   ],
   "cell_type": "markdown",
   "metadata": {}
  },
  {
   "cell_type": "code",
   "execution_count": 11,
   "metadata": {},
   "outputs": [
    {
     "output_type": "execute_result",
     "data": {
      "text/plain": [
       "  Postal Code   Latitude  Longitude\n",
       "0         M1B  43.806686 -79.194353\n",
       "1         M1C  43.784535 -79.160497\n",
       "2         M1E  43.763573 -79.188711\n",
       "3         M1G  43.770992 -79.216917\n",
       "4         M1H  43.773136 -79.239476"
      ],
      "text/html": "<div>\n<style scoped>\n    .dataframe tbody tr th:only-of-type {\n        vertical-align: middle;\n    }\n\n    .dataframe tbody tr th {\n        vertical-align: top;\n    }\n\n    .dataframe thead th {\n        text-align: right;\n    }\n</style>\n<table border=\"1\" class=\"dataframe\">\n  <thead>\n    <tr style=\"text-align: right;\">\n      <th></th>\n      <th>Postal Code</th>\n      <th>Latitude</th>\n      <th>Longitude</th>\n    </tr>\n  </thead>\n  <tbody>\n    <tr>\n      <th>0</th>\n      <td>M1B</td>\n      <td>43.806686</td>\n      <td>-79.194353</td>\n    </tr>\n    <tr>\n      <th>1</th>\n      <td>M1C</td>\n      <td>43.784535</td>\n      <td>-79.160497</td>\n    </tr>\n    <tr>\n      <th>2</th>\n      <td>M1E</td>\n      <td>43.763573</td>\n      <td>-79.188711</td>\n    </tr>\n    <tr>\n      <th>3</th>\n      <td>M1G</td>\n      <td>43.770992</td>\n      <td>-79.216917</td>\n    </tr>\n    <tr>\n      <th>4</th>\n      <td>M1H</td>\n      <td>43.773136</td>\n      <td>-79.239476</td>\n    </tr>\n  </tbody>\n</table>\n</div>"
     },
     "metadata": {},
     "execution_count": 11
    }
   ],
   "source": [
    "df1 = pd.read_csv('Geospatial_Coordinates.csv')\n",
    "df1.head()"
   ]
  },
  {
   "source": [
    "### Merge dataframes to get the coorindates for all postal codes."
   ],
   "cell_type": "markdown",
   "metadata": {}
  },
  {
   "cell_type": "code",
   "execution_count": 12,
   "metadata": {},
   "outputs": [
    {
     "output_type": "execute_result",
     "data": {
      "text/plain": [
       "   Postal Code           Borough  \\\n",
       "0          M3A        North York   \n",
       "1          M4A        North York   \n",
       "2          M5A  Downtown Toronto   \n",
       "3          M6A        North York   \n",
       "4          M7A  Downtown Toronto   \n",
       "5          M9A         Etobicoke   \n",
       "6          M1B       Scarborough   \n",
       "7          M3B        North York   \n",
       "8          M4B         East York   \n",
       "9          M5B  Downtown Toronto   \n",
       "10         M6B        North York   \n",
       "11         M9B         Etobicoke   \n",
       "\n",
       "                                        Neighbourhood   Latitude  Longitude  \n",
       "0                                           Parkwoods  43.753259 -79.329656  \n",
       "1                                    Victoria Village  43.725882 -79.315572  \n",
       "2                           Regent Park, Harbourfront  43.654260 -79.360636  \n",
       "3                    Lawrence Manor, Lawrence Heights  43.718518 -79.464763  \n",
       "4         Queen's Park, Ontario Provincial Government  43.662301 -79.389494  \n",
       "5             Islington Avenue, Humber Valley Village  43.667856 -79.532242  \n",
       "6                                      Malvern, Rouge  43.806686 -79.194353  \n",
       "7                                           Don Mills  43.745906 -79.352188  \n",
       "8                     Parkview Hill, Woodbine Gardens  43.706397 -79.309937  \n",
       "9                            Garden District, Ryerson  43.657162 -79.378937  \n",
       "10                                          Glencairn  43.709577 -79.445073  \n",
       "11  West Deane Park, Princess Gardens, Martin Grov...  43.650943 -79.554724  "
      ],
      "text/html": "<div>\n<style scoped>\n    .dataframe tbody tr th:only-of-type {\n        vertical-align: middle;\n    }\n\n    .dataframe tbody tr th {\n        vertical-align: top;\n    }\n\n    .dataframe thead th {\n        text-align: right;\n    }\n</style>\n<table border=\"1\" class=\"dataframe\">\n  <thead>\n    <tr style=\"text-align: right;\">\n      <th></th>\n      <th>Postal Code</th>\n      <th>Borough</th>\n      <th>Neighbourhood</th>\n      <th>Latitude</th>\n      <th>Longitude</th>\n    </tr>\n  </thead>\n  <tbody>\n    <tr>\n      <th>0</th>\n      <td>M3A</td>\n      <td>North York</td>\n      <td>Parkwoods</td>\n      <td>43.753259</td>\n      <td>-79.329656</td>\n    </tr>\n    <tr>\n      <th>1</th>\n      <td>M4A</td>\n      <td>North York</td>\n      <td>Victoria Village</td>\n      <td>43.725882</td>\n      <td>-79.315572</td>\n    </tr>\n    <tr>\n      <th>2</th>\n      <td>M5A</td>\n      <td>Downtown Toronto</td>\n      <td>Regent Park, Harbourfront</td>\n      <td>43.654260</td>\n      <td>-79.360636</td>\n    </tr>\n    <tr>\n      <th>3</th>\n      <td>M6A</td>\n      <td>North York</td>\n      <td>Lawrence Manor, Lawrence Heights</td>\n      <td>43.718518</td>\n      <td>-79.464763</td>\n    </tr>\n    <tr>\n      <th>4</th>\n      <td>M7A</td>\n      <td>Downtown Toronto</td>\n      <td>Queen's Park, Ontario Provincial Government</td>\n      <td>43.662301</td>\n      <td>-79.389494</td>\n    </tr>\n    <tr>\n      <th>5</th>\n      <td>M9A</td>\n      <td>Etobicoke</td>\n      <td>Islington Avenue, Humber Valley Village</td>\n      <td>43.667856</td>\n      <td>-79.532242</td>\n    </tr>\n    <tr>\n      <th>6</th>\n      <td>M1B</td>\n      <td>Scarborough</td>\n      <td>Malvern, Rouge</td>\n      <td>43.806686</td>\n      <td>-79.194353</td>\n    </tr>\n    <tr>\n      <th>7</th>\n      <td>M3B</td>\n      <td>North York</td>\n      <td>Don Mills</td>\n      <td>43.745906</td>\n      <td>-79.352188</td>\n    </tr>\n    <tr>\n      <th>8</th>\n      <td>M4B</td>\n      <td>East York</td>\n      <td>Parkview Hill, Woodbine Gardens</td>\n      <td>43.706397</td>\n      <td>-79.309937</td>\n    </tr>\n    <tr>\n      <th>9</th>\n      <td>M5B</td>\n      <td>Downtown Toronto</td>\n      <td>Garden District, Ryerson</td>\n      <td>43.657162</td>\n      <td>-79.378937</td>\n    </tr>\n    <tr>\n      <th>10</th>\n      <td>M6B</td>\n      <td>North York</td>\n      <td>Glencairn</td>\n      <td>43.709577</td>\n      <td>-79.445073</td>\n    </tr>\n    <tr>\n      <th>11</th>\n      <td>M9B</td>\n      <td>Etobicoke</td>\n      <td>West Deane Park, Princess Gardens, Martin Grov...</td>\n      <td>43.650943</td>\n      <td>-79.554724</td>\n    </tr>\n  </tbody>\n</table>\n</div>"
     },
     "metadata": {},
     "execution_count": 12
    }
   ],
   "source": [
    "df2 = df.merge(df1)\n",
    "df2.head(12)"
   ]
  },
  {
   "source": [
    "### Verify that the new dataframe contains all rows merged from the original dataframe and also contains coorindates."
   ],
   "cell_type": "markdown",
   "metadata": {}
  },
  {
   "cell_type": "code",
   "execution_count": 13,
   "metadata": {},
   "outputs": [
    {
     "output_type": "execute_result",
     "data": {
      "text/plain": [
       "(103, 5)"
      ]
     },
     "metadata": {},
     "execution_count": 13
    }
   ],
   "source": [
    "df2.shape"
   ]
  },
  {
   "cell_type": "code",
   "execution_count": 14,
   "metadata": {},
   "outputs": [
    {
     "output_type": "execute_result",
     "data": {
      "text/plain": [
       "array(['North York', 'Downtown Toronto', 'Etobicoke', 'Scarborough',\n",
       "       'East York', 'York', 'East Toronto', 'West Toronto',\n",
       "       'Central Toronto', 'Mississauga'], dtype=object)"
      ]
     },
     "metadata": {},
     "execution_count": 14
    }
   ],
   "source": [
    "df2['Borough'].unique()"
   ]
  },
  {
   "source": [
    "## Exploratory Data Analysis\n",
    "### Let's just focus on neighbourhoods in Toronto."
   ],
   "cell_type": "markdown",
   "metadata": {}
  },
  {
   "cell_type": "code",
   "execution_count": 15,
   "metadata": {},
   "outputs": [],
   "source": [
    "toronto = ['Downtown Toronto', 'East Toronto', 'West Toronto', 'Central Toronto']\n",
    "df3 = df2.loc[df2['Borough'].isin(toronto)].reset_index(drop = True)"
   ]
  },
  {
   "cell_type": "code",
   "execution_count": 16,
   "metadata": {},
   "outputs": [],
   "source": [
    "# drop the column 'Postal Code' as we've already got the coorindates\n",
    "df3.drop('Postal Code', axis = 1, inplace = True)"
   ]
  },
  {
   "cell_type": "code",
   "execution_count": 17,
   "metadata": {},
   "outputs": [
    {
     "output_type": "execute_result",
     "data": {
      "text/plain": [
       "            Borough                                Neighbourhood   Latitude  \\\n",
       "0  Downtown Toronto                    Regent Park, Harbourfront  43.654260   \n",
       "1  Downtown Toronto  Queen's Park, Ontario Provincial Government  43.662301   \n",
       "2  Downtown Toronto                     Garden District, Ryerson  43.657162   \n",
       "3  Downtown Toronto                               St. James Town  43.651494   \n",
       "4      East Toronto                                  The Beaches  43.676357   \n",
       "\n",
       "   Longitude  \n",
       "0 -79.360636  \n",
       "1 -79.389494  \n",
       "2 -79.378937  \n",
       "3 -79.375418  \n",
       "4 -79.293031  "
      ],
      "text/html": "<div>\n<style scoped>\n    .dataframe tbody tr th:only-of-type {\n        vertical-align: middle;\n    }\n\n    .dataframe tbody tr th {\n        vertical-align: top;\n    }\n\n    .dataframe thead th {\n        text-align: right;\n    }\n</style>\n<table border=\"1\" class=\"dataframe\">\n  <thead>\n    <tr style=\"text-align: right;\">\n      <th></th>\n      <th>Borough</th>\n      <th>Neighbourhood</th>\n      <th>Latitude</th>\n      <th>Longitude</th>\n    </tr>\n  </thead>\n  <tbody>\n    <tr>\n      <th>0</th>\n      <td>Downtown Toronto</td>\n      <td>Regent Park, Harbourfront</td>\n      <td>43.654260</td>\n      <td>-79.360636</td>\n    </tr>\n    <tr>\n      <th>1</th>\n      <td>Downtown Toronto</td>\n      <td>Queen's Park, Ontario Provincial Government</td>\n      <td>43.662301</td>\n      <td>-79.389494</td>\n    </tr>\n    <tr>\n      <th>2</th>\n      <td>Downtown Toronto</td>\n      <td>Garden District, Ryerson</td>\n      <td>43.657162</td>\n      <td>-79.378937</td>\n    </tr>\n    <tr>\n      <th>3</th>\n      <td>Downtown Toronto</td>\n      <td>St. James Town</td>\n      <td>43.651494</td>\n      <td>-79.375418</td>\n    </tr>\n    <tr>\n      <th>4</th>\n      <td>East Toronto</td>\n      <td>The Beaches</td>\n      <td>43.676357</td>\n      <td>-79.293031</td>\n    </tr>\n  </tbody>\n</table>\n</div>"
     },
     "metadata": {},
     "execution_count": 17
    }
   ],
   "source": [
    "df3.head()"
   ]
  },
  {
   "source": [
    "### Get the coorindates for Toronto, Ontario."
   ],
   "cell_type": "markdown",
   "metadata": {}
  },
  {
   "cell_type": "code",
   "execution_count": 18,
   "metadata": {},
   "outputs": [
    {
     "output_type": "stream",
     "name": "stdout",
     "text": [
      "The geograpical coordinate of Toronto, Ontraio are 43.6534817, -79.3839347.\n"
     ]
    }
   ],
   "source": [
    "address = 'Toronto, Ontario'\n",
    "\n",
    "geolocator = Nominatim(user_agent=\"trt_explorer\")\n",
    "location = geolocator.geocode(address)\n",
    "latitude = location.latitude\n",
    "longitude = location.longitude\n",
    "print('The geograpical coordinate of Toronto, Ontraio are {}, {}.'.format(latitude, longitude))"
   ]
  },
  {
   "source": [
    "### Visualise the Toronto neighbourhoods by using Folium."
   ],
   "cell_type": "markdown",
   "metadata": {}
  },
  {
   "cell_type": "code",
   "execution_count": 19,
   "metadata": {},
   "outputs": [
    {
     "output_type": "execute_result",
     "data": {
      "text/plain": [
       "<folium.folium.Map at 0x18f944d8ac0>"
      ],
      "text/html": "<div style=\"width:100%;\"><div style=\"position:relative;width:100%;height:0;padding-bottom:60%;\"><span style=\"color:#565656\">Make this Notebook Trusted to load map: File -> Trust Notebook</span><iframe src=\"about:blank\" style=\"position:absolute;width:100%;height:100%;left:0;top:0;border:none !important;\" data-html=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 onload=\"this.contentDocument.open();this.contentDocument.write(atob(this.getAttribute('data-html')));this.contentDocument.close();\" allowfullscreen webkitallowfullscreen mozallowfullscreen></iframe></div></div>"
     },
     "metadata": {},
     "execution_count": 19
    }
   ],
   "source": [
    "# create map of Toronto using latitude and longitude values\n",
    "map_toronto = folium.Map(location=[latitude, longitude], zoom_start=12)\n",
    "\n",
    "# add markers to map\n",
    "for lat, lng, label in zip(df3['Latitude'], df3['Longitude'], df3['Neighbourhood']):\n",
    "    label = folium.Popup(label, parse_html = True)\n",
    "    folium.CircleMarker(\n",
    "        [lat, lng],\n",
    "        radius = 5,\n",
    "        popup = label,\n",
    "        color = 'blue',\n",
    "        fill = True,\n",
    "        fill_color = '#3186cc',\n",
    "        fill_opacity = 0.7,\n",
    "        parse_html = False).add_to(map_toronto)\n",
    "    \n",
    "map_toronto"
   ]
  },
  {
   "source": [
    "### Define Foursquare credentials and version."
   ],
   "cell_type": "markdown",
   "metadata": {}
  },
  {
   "cell_type": "code",
   "execution_count": 20,
   "metadata": {},
   "outputs": [
    {
     "output_type": "stream",
     "name": "stdout",
     "text": [
      "Your credentails:\nCLIENT_ID: SKIHD1D2H4F15FAJ10N2WMQRNMVR5PDIAEDBL3CLNUAOTGTD\nCLIENT_SECRET:NEOL1YKQQAPD2CC3O5JD4RAKDQOEDNHZPCHDSJIZTRF414XX\n"
     ]
    }
   ],
   "source": [
    "CLIENT_ID = 'SKIHD1D2H4F15FAJ10N2WMQRNMVR5PDIAEDBL3CLNUAOTGTD' # Foursquare ID\n",
    "CLIENT_SECRET = 'NEOL1YKQQAPD2CC3O5JD4RAKDQOEDNHZPCHDSJIZTRF414XX' # Foursquare Secret\n",
    "VERSION = '20180605' # Foursquare API version\n",
    "LIMIT = 100 # A default Foursquare API limit value\n",
    "\n",
    "print('Your credentails:')\n",
    "print('CLIENT_ID: ' + CLIENT_ID)\n",
    "print('CLIENT_SECRET:' + CLIENT_SECRET)"
   ]
  },
  {
   "source": [
    "### What's the first neighbourhood?"
   ],
   "cell_type": "markdown",
   "metadata": {}
  },
  {
   "cell_type": "code",
   "execution_count": 21,
   "metadata": {},
   "outputs": [
    {
     "output_type": "execute_result",
     "data": {
      "text/plain": [
       "'Regent Park, Harbourfront'"
      ]
     },
     "metadata": {},
     "execution_count": 21
    }
   ],
   "source": [
    "df3.loc[0, 'Neighbourhood']"
   ]
  },
  {
   "source": [
    "### Store the coorindates and the name of the neighbourhood."
   ],
   "cell_type": "markdown",
   "metadata": {}
  },
  {
   "cell_type": "code",
   "execution_count": 22,
   "metadata": {},
   "outputs": [
    {
     "output_type": "stream",
     "name": "stdout",
     "text": [
      "The latitude and longitude of Regent Park, Harbourfront are 43.6542599 and -79.3606359\n"
     ]
    }
   ],
   "source": [
    "nb_name = df3.loc[0, 'Neighbourhood']\n",
    "nb_lat = df3.loc[0, 'Latitude']\n",
    "nb_lng = df3.loc[0, 'Longitude']\n",
    "print('The latitude and longitude of {} are {} and {}'.format(nb_name, nb_lat, nb_lng))"
   ]
  },
  {
   "source": [
    "### Let's get the top 100 venues that are within radius of 500 metres of Regent Park, Harbourfront."
   ],
   "cell_type": "markdown",
   "metadata": {}
  },
  {
   "cell_type": "code",
   "execution_count": 23,
   "metadata": {},
   "outputs": [
    {
     "output_type": "execute_result",
     "data": {
      "text/plain": [
       "'https://api.foursquare.com/v2/venues/explore?client_id=SKIHD1D2H4F15FAJ10N2WMQRNMVR5PDIAEDBL3CLNUAOTGTD&client_secret=NEOL1YKQQAPD2CC3O5JD4RAKDQOEDNHZPCHDSJIZTRF414XX&ll=43.6542599,-79.3606359&v=20180605&radius=500&limit=100'"
      ]
     },
     "metadata": {},
     "execution_count": 23
    }
   ],
   "source": [
    "# build the url string\n",
    "radius = 500\n",
    "url = 'https://api.foursquare.com/v2/venues/explore?client_id={}&client_secret={}&ll={},{}&v={}&radius={}&limit={}'.format(CLIENT_ID, CLIENT_SECRET, nb_lat, nb_lng, VERSION, radius, LIMIT)\n",
    "url"
   ]
  },
  {
   "source": [
    "### Send the GET request and examine the results."
   ],
   "cell_type": "markdown",
   "metadata": {}
  },
  {
   "cell_type": "code",
   "execution_count": 24,
   "metadata": {},
   "outputs": [
    {
     "output_type": "execute_result",
     "data": {
      "text/plain": [
       "': 'Yoga Studio',\n",
       "         'pluralName': 'Yoga Studios',\n",
       "         'shortName': 'Yoga Studio',\n",
       "         'icon': {'prefix': 'https://ss3.4sqi.net/img/categories_v2/shops/gym_yogastudio_',\n",
       "          'suffix': '.png'},\n",
       "         'primary': True}],\n",
       "       'photos': {'count': 0, 'groups': []}},\n",
       "      'referralId': 'e-0-4b58dd55f964a5208f6f28e3-26'},\n",
       "     {'reasons': {'count': 0,\n",
       "       'items': [{'summary': 'This spot is popular',\n",
       "         'type': 'general',\n",
       "         'reasonName': 'globalInteractionReason'}]},\n",
       "      'venue': {'id': '4c16a548955976b0cadea4f6',\n",
       "       'name': 'Parliament Square Park',\n",
       "       'location': {'address': '44 Parliament Street',\n",
       "        'lat': 43.65026388338689,\n",
       "        'lng': -79.36219509081177,\n",
       "        'labeledLatLngs': [{'label': 'display',\n",
       "          'lat': 43.65026388338689,\n",
       "          'lng': -79.36219509081177}],\n",
       "        'distance': 462,\n",
       "        'cc': 'CA',\n",
       "        'city': 'Toronto',\n",
       "        'state': 'ON',\n",
       "        'country': 'Canada',\n",
       "        'formattedAddress': ['44 Parliament Street', 'Toronto ON', 'Canada']},\n",
       "       'categories': [{'id': '4bf58dd8d48988d163941735',\n",
       "         'name': 'Park',\n",
       "         'pluralName': 'Parks',\n",
       "         'shortName': 'Park',\n",
       "         'icon': {'prefix': 'https://ss3.4sqi.net/img/categories_v2/parks_outdoors/park_',\n",
       "          'suffix': '.png'},\n",
       "         'primary': True}],\n",
       "       'photos': {'count': 0, 'groups': []}},\n",
       "      'referralId': 'e-0-4c16a548955976b0cadea4f6-27'},\n",
       "     {'reasons': {'count': 0,\n",
       "       'items': [{'summary': 'This spot is popular',\n",
       "         'type': 'general',\n",
       "         'reasonName': 'globalInteractionReason'}]},\n",
       "      'venue': {'id': '4d84d98181fdb1f7d4a704c0',\n",
       "       'name': 'Caffe Furbo',\n",
       "       'location': {'address': '12 case goods lane',\n",
       "        'lat': 43.649969882303814,\n",
       "        'lng': -79.35884946388191,\n",
       "        'labeledLatLngs': [{'label': 'display',\n",
       "          'lat': 43.649969882303814,\n",
       "          'lng': -79.35884946388191}],\n",
       "        'distance': 498,\n",
       "        'postalCode': 'M5A 3C4',\n",
       "        'cc': 'CA',\n",
       "        'city': 'Toronto',\n",
       "        'state': 'ON',\n",
       "        'country': 'Canada',\n",
       "        'formattedAddress': ['12 case goods lane',\n",
       "         'Toronto ON M5A 3C4',\n",
       "         'Canada']},\n",
       "       'categories': [{'id': '4bf58dd8d48988d16d941735',\n",
       "         'name': 'Café',\n",
       "         'pluralName': 'Cafés',\n",
       "         'shortName': 'Café',\n",
       "         'icon': {'prefix': 'https://ss3.4sqi.net/img/categories_v2/food/cafe_',\n",
       "          'suffix': '.png'},\n",
       "         'primary': True}],\n",
       "       'photos': {'count': 0, 'groups': []},\n",
       "       'venuePage': {'id': '47611149'}},\n",
       "      'referralId': 'e-0-4d84d98181fdb1f7d4a704c0-28'},\n",
       "     {'reasons': {'count': 0,\n",
       "       'items': [{'summary': 'This spot is popular',\n",
       "         'type': 'general',\n",
       "         'reasonName': 'globalInteractionReason'}]},\n",
       "      'venue': {'id': '4bb52a8bf562ef3b7d992e97',\n",
       "       'name': 'Soulpepper Theatre',\n",
       "       'location': {'address': '55 Mill St',\n",
       "        'lat': 43.65078003430492,\n",
       "        'lng': -79.35761534068922,\n",
       "        'labeledLatLngs': [{'label': 'display',\n",
       "          'lat': 43.65078003430492,\n",
       "          'lng': -79.35761534068922}],\n",
       "        'distance': 457,\n",
       "        'cc': 'CA',\n",
       "        'city': 'Toronto',\n",
       "        'state': 'ON',\n",
       "        'country': 'Canada',\n",
       "        'formattedAddress': ['55 Mill St', 'Toronto ON', 'Canada']},\n",
       "       'categories': [{'id': '4bf58dd8d48988d137941735',\n",
       "         'name': 'Theater',\n",
       "         'pluralName': 'Theaters',\n",
       "         'shortName': 'Theater',\n",
       "         'icon': {'prefix': 'https://ss3.4sqi.net/img/categories_v2/arts_entertainment/performingarts_theater_',\n",
       "          'suffix': '.png'},\n",
       "         'primary': True}],\n",
       "       'photos': {'count': 0, 'groups': []}},\n",
       "      'referralId': 'e-0-4bb52a8bf562ef3b7d992e97-29'},\n",
       "     {'reasons': {'count': 0,\n",
       "       'items': [{'summary': 'This spot is popular',\n",
       "         'type': 'general',\n",
       "         'reasonName': 'globalInteractionReason'}]},\n",
       "      'venue': {'id': '4ade8ea8f964a5205a7621e3',\n",
       "       'name': 'Berkeley Church',\n",
       "       'location': {'address': '315 Queen St E',\n",
       "        'crossStreet': 'at Berkeley St',\n",
       "        'lat': 43.65512324174501,\n",
       "        'lng': -79.36587330410705,\n",
       "        'labeledLatLngs': [{'label': 'display',\n",
       "          'lat': 43.65512324174501,\n",
       "          'lng': -79.36587330410705}],\n",
       "        'distance': 432,\n",
       "        'postalCode': 'M5A 1S7',\n",
       "        'cc': 'CA',\n",
       "        'city': 'Toronto',\n",
       "        'state': 'ON',\n",
       "        'country': 'Canada',\n",
       "        'formattedAddress': ['315 Queen St E (at Berkeley St)',\n",
       "         'Toronto ON M5A 1S7',\n",
       "         'Canada']},\n",
       "       'categories': [{'id': '4bf58dd8d48988d171941735',\n",
       "         'name': 'Event Space',\n",
       "         'pluralName': 'Event Spaces',\n",
       "         'shortName': 'Event Space',\n",
       "         'icon': {'prefix': 'https://ss3.4sqi.net/img/categories_v2/building/eventspace_',\n",
       "          'suffix': '.png'},\n",
       "         'primary': True}],\n",
       "       'photos': {'count': 0, 'groups': []}},\n",
       "      'referralId': 'e-0-4ade8ea8f964a5205a7621e3-30'},\n",
       "     {'reasons': {'count': 0,\n",
       "       'items': [{'summary': 'This spot is popular',\n",
       "         'type': 'general',\n",
       "         'reasonName': 'globalInteractionReason'}]},\n",
       "      'venue': {'id': '51828372e4b0ea1bac906b00',\n",
       "       'name': 'John Fluevog Shoes',\n",
       "       'location': {'address': '4 Trinity St.',\n",
       "        'crossStreet': 'Distillery District',\n",
       "        'lat': 43.64989585773889,\n",
       "        'lng': -79.3594359503061,\n",
       "        'labeledLatLngs': [{'label': 'display',\n",
       "          'lat': 43.64989585773889,\n",
       "          'lng': -79.3594359503061}],\n",
       "        'distance': 495,\n",
       "        'postalCode': 'M5A 3C4',\n",
       "        'cc': 'CA',\n",
       "        'city': 'Toronto',\n",
       "        'state': 'ON',\n",
       "        'country': 'Canada',\n",
       "        'formattedAddress': ['4 Trinity St. (Distillery District)',\n",
       "         'Toronto ON M5A 3C4',\n",
       "         'Canada']},\n",
       "       'categories': [{'id': '4bf58dd8d48988d107951735',\n",
       "         'name': 'Shoe Store',\n",
       "         'pluralName': 'Shoe Stores',\n",
       "         'shortName': 'Shoes',\n",
       "         'icon': {'prefix': 'https://ss3.4sqi.net/img/categories_v2/shops/apparel_shoestore_',\n",
       "          'suffix': '.png'},\n",
       "         'primary': True}],\n",
       "       'photos': {'count': 0, 'groups': []}},\n",
       "      'referralId': 'e-0-51828372e4b0ea1bac906b00-31'},\n",
       "     {'reasons': {'count': 0,\n",
       "       'items': [{'summary': 'This spot is popular',\n",
       "         'type': 'general',\n",
       "         'reasonName': 'globalInteractionReason'}]},\n",
       "      'venue': {'id': '4af9fc95f964a520ca1522e3',\n",
       "       'name': 'Mill St. Brew Pub',\n",
       "       'location': {'address': '21 Tank House Ln',\n",
       "        'crossStreet': 'at Pure Spirits Mews',\n",
       "        'lat': 43.65035331843578,\n",
       "        'lng': -79.35848936650571,\n",
       "        'labeledLatLngs': [{'label': 'display',\n",
       "          'lat': 43.65035331843578,\n",
       "          'lng': -79.35848936650571}],\n",
       "        'distance': 467,\n",
       "        'postalCode': 'M5A 3C4',\n",
       "        'cc': 'CA',\n",
       "        'neighborhood': 'Distillery District',\n",
       "        'city': 'Toronto',\n",
       "        'state': 'ON',\n",
       "        'country': 'Canada',\n",
       "        'formattedAddress': ['21 Tank House Ln (at Pure Spirits Mews)',\n",
       "         'Toronto ON M5A 3C4',\n",
       "         'Canada']},\n",
       "       'categories': [{'id': '4bf58dd8d48988d11b941735',\n",
       "         'name': 'Pub',\n",
       "         'pluralName': 'Pubs',\n",
       "         'shortName': 'Pub',\n",
       "         'icon': {'prefix': 'https://ss3.4sqi.net/img/categories_v2/nightlife/pub_',\n",
       "          'suffix': '.png'},\n",
       "         'primary': True}],\n",
       "       'photos': {'count': 0, 'groups': []}},\n",
       "      'referralId': 'e-0-4af9fc95f964a520ca1522e3-32'},\n",
       "     {'reasons': {'count': 0,\n",
       "       'items': [{'summary': 'This spot is popular',\n",
       "         'type': 'general',\n",
       "         'reasonName': 'globalInteractionReason'}]},\n",
       "      'venue': {'id': '54d37e23498e5e29bcb35362',\n",
       "       'name': 'ODIN Cafe + Bar',\n",
       "       'location': {'address': '514 King St E',\n",
       "        'crossStreet': 'at River St',\n",
       "        'lat': 43.656738544928054,\n",
       "        'lng': -79.35650305267754,\n",
       "        'labeledLatLngs': [{'label': 'display',\n",
       "          'lat': 43.656738544928054,\n",
       "          'lng': -79.35650305267754}],\n",
       "        'distance': 432,\n",
       "        'postalCode': 'M5A 1M1',\n",
       "        'cc': 'CA',\n",
       "        'city': 'Toronto',\n",
       "        'state': 'ON',\n",
       "        'country': 'Canada',\n",
       "        'formattedAddress': ['514 King St E (at River St)',\n",
       "         'Toronto ON M5A 1M1',\n",
       "         'Canada']},\n",
       "       'categories': [{'id': '4bf58dd8d48988d16d941735',\n",
       "         'name': 'Café',\n",
       "         'pluralName': 'Cafés',\n",
       "         'shortName': 'Café',\n",
       "         'icon': {'prefix': 'https://ss3.4sqi.net/img/categories_v2/food/cafe_',\n",
       "          'suffix': '.png'},\n",
       "         'primary': True}],\n",
       "       'photos': {'count': 0, 'groups': []}},\n",
       "      'referralId': 'e-0-54d37e23498e5e29bcb35362-33'},\n",
       "     {'reasons': {'count': 0,\n",
       "       'items': [{'summary': 'This spot is popular',\n",
       "         'type': 'general',\n",
       "         'reasonName': 'globalInteractionReason'}]},\n",
       "      'venue': {'id': '5b7ccd5e1f8ed6002c9bd7d0',\n",
       "       'name': 'The Aviary',\n",
       "       'location': {'lat': 43.65363394725125,\n",
       "        'lng': -79.35466212072043,\n",
       "        'labeledLatLngs': [{'label': 'display',\n",
       "          'lat': 43.65363394725125,\n",
       "          'lng': -79.35466212072043}],\n",
       "        'distance': 486,\n",
       "        'postalCode': 'M5A 1H7',\n",
       "        'cc': 'CA',\n",
       "        'city': 'Toronto',\n",
       "        'state': 'ON',\n",
       "        'country': 'Canada',\n",
       "        'formattedAddress': ['Toronto ON M5A 1H7', 'Canada']},\n",
       "       'categories': [{'id': '4bf58dd8d48988d11b941735',\n",
       "         'name': 'Pub',\n",
       "         'pluralName': 'Pubs',\n",
       "         'shortName': 'Pub',\n",
       "         'icon': {'prefix': 'https://ss3.4sqi.net/img/categories_v2/nightlife/pub_',\n",
       "          'suffix': '.png'},\n",
       "         'primary': True}],\n",
       "       'photos': {'count': 0, 'groups': []}},\n",
       "      'referralId': 'e-0-5b7ccd5e1f8ed6002c9bd7d0-34'},\n",
       "     {'reasons': {'count': 0,\n",
       "       'items': [{'summary': 'This spot is popular',\n",
       "         'type': 'general',\n",
       "         'reasonName': 'globalInteractionReason'}]},\n",
       "      'venue': {'id': '4af21e78f964a520fae521e3',\n",
       "       'name': 'Arta Gallery',\n",
       "       'location': {'address': '14 Distillery Lane',\n",
       "        'crossStreet': 'Distillery District',\n",
       "        'lat': 43.650022181882065,\n",
       "        'lng': -79.36122168476822,\n",
       "        'labeledLatLngs': [{'label': 'display',\n",
       "          'lat': 43.650022181882065,\n",
       "          'lng': -79.36122168476822}],\n",
       "        'distance': 474,\n",
       "        'postalCode': 'M5A 3C4',\n",
       "        'cc': 'CA',\n",
       "        'city': 'Toronto',\n",
       "        'state': 'ON',\n",
       "        'country': 'Canada',\n",
       "        'formattedAddress': ['14 Distillery Lane (Distillery District)',\n",
       "         'Toronto ON M5A 3C4',\n",
       "         'Canada']},\n",
       "       'categories': [{'id': '4bf58dd8d48988d1e2931735',\n",
       "         'name': 'Art Gallery',\n",
       "         'pluralName': 'Art Galleries',\n",
       "         'shortName': 'Art Gallery',\n",
       "         'icon': {'prefix': 'https://ss3.4sqi.net/img/categories_v2/arts_entertainment/artgallery_',\n",
       "          'suffix': '.png'},\n",
       "         'primary': True}],\n",
       "       'photos': {'count': 0, 'groups': []}},\n",
       "      'referralId': 'e-0-4af21e78f964a520fae521e3-35'},\n",
       "     {'reasons': {'count': 0,\n",
       "       'items': [{'summary': 'This spot is popular',\n",
       "         'type': 'general',\n",
       "         'reasonName': 'globalInteractionReason'}]},\n",
       "      'venue': {'id': '4ad8d551f964a5201f1521e3',\n",
       "       'name': 'Vistek',\n",
       "       'location': {'address': '496 Queen St E',\n",
       "        'crossStreet': 'at Sumach',\n",
       "        'lat': 43.65704640025721,\n",
       "        'lng': -79.35966695607046,\n",
       "        'labeledLatLngs': [{'label': 'display',\n",
       "          'lat': 43.65704640025721,\n",
       "          'lng': -79.35966695607046}],\n",
       "        'distance': 319,\n",
       "        'cc': 'CA',\n",
       "        'city': 'Toronto',\n",
       "        'state': 'ON',\n",
       "        'country': 'Canada',\n",
       "        'formattedAddress': ['496 Queen St E (at Sumach)',\n",
       "         'Toronto ON',\n",
       "         'Canada']},\n",
       "       'categories': [{'id': '4bf58dd8d48988d122951735',\n",
       "         'name': 'Electronics Store',\n",
       "         'pluralName': 'Electronics Stores',\n",
       "         'shortName': 'Electronics',\n",
       "         'icon': {'prefix': 'https://ss3.4sqi.net/img/categories_v2/shops/technology_',\n",
       "          'suffix': '.png'},\n",
       "         'primary': True}],\n",
       "       'photos': {'count': 0, 'groups': []}},\n",
       "      'referralId': 'e-0-4ad8d551f964a5201f1521e3-36'},\n",
       "     {'reasons': {'count': 0,\n",
       "       'items': [{'summary': 'This spot is popular',\n",
       "         'type': 'general',\n",
       "         'reasonName': 'globalInteractionReason'}]},\n",
       "      'venue': {'id': '4dbb2d7a6e815ab0de64d555',\n",
       "       'name': 'Ontario Spring Water Sake Company',\n",
       "       'location': {'address': '51 Gristmill Lane',\n",
       "        'lat': 43.649921646081026,\n",
       "        'lng': -79.36007302731126,\n",
       "        'labeledLatLngs': [{'label': 'display',\n",
       "          'lat': 43.649921646081026,\n",
       "          'lng': -79.36007302731126}],\n",
       "        'distance': 485,\n",
       "        'postalCode': 'M5A 3C4',\n",
       "        'cc': 'CA',\n",
       "        'city': 'Toronto',\n",
       "        'state': 'ON',\n",
       "        'country': 'Canada',\n",
       "        'formattedAddress': ['51 Gristmill Lane',\n",
       "         'Toronto ON M5A 3C4',\n",
       "         'Canada']},\n",
       "       'categories': [{'id': '50327c8591d4c4b30a586d5d',\n",
       "         'name': 'Brewery',\n",
       "         'pluralName': 'Breweries',\n",
       "         'shortName': 'Brewery',\n",
       "         'icon': {'prefix': 'https://ss3.4sqi.net/img/categories_v2/food/brewery_',\n",
       "          'suffix': '.png'},\n",
       "         'primary': True}],\n",
       "       'photos': {'count': 0, 'groups': []}},\n",
       "      'referralId': 'e-0-4dbb2d7a6e815ab0de64d555-37'},\n",
       "     {'reasons': {'count': 0,\n",
       "       'items': [{'summary': 'This spot is popular',\n",
       "         'type': 'general',\n",
       "         'reasonName': 'globalInteractionReason'}]},\n",
       "      'venue': {'id': '4d126fd3d1848cfad5cfbb71',\n",
       "       'name': 'TD Canada Trust',\n",
       "       'location': {'address': '457 Front Street East',\n",
       "        'lat': 43.652779762702764,\n",
       "        'lng': -79.3563362625656,\n",
       "        'labeledLatLngs': [{'label': 'display',\n",
       "          'lat': 43.652779762702764,\n",
       "          'lng': -79.3563362625656}],\n",
       "        'distance': 383,\n",
       "        'postalCode': 'M5A 0J2',\n",
       "        'cc': 'CA',\n",
       "        'city': 'Toronto',\n",
       "        'state': 'ON',\n",
       "        'country': 'Canada',\n",
       "        'formattedAddress': ['457 Front Street East',\n",
       "         'Toronto ON M5A 0J2',\n",
       "         'Canada']},\n",
       "       'categories': [{'id': '4bf58dd8d48988d10a951735',\n",
       "         'name': 'Bank',\n",
       "         'pluralName': 'Banks',\n",
       "         'shortName': 'Bank',\n",
       "         'icon': {'prefix': 'https://ss3.4sqi.net/img/categories_v2/shops/financial_',\n",
       "          'suffix': '.png'},\n",
       "         'primary': True}],\n",
       "       'photos': {'count': 0, 'groups': []}},\n",
       "      'referralId': 'e-0-4d126fd3d1848cfad5cfbb71-38'},\n",
       "     {'reasons': {'count': 0,\n",
       "       'items': [{'summary': 'This spot is popular',\n",
       "         'type': 'general',\n",
       "         'reasonName': 'globalInteractionReason'}]},\n",
       "      'venue': {'id': '4b8acdfdf964a520378232e3',\n",
       "       'name': 'The Beer Store',\n",
       "       'location': {'address': '28 River Street',\n",
       "        'crossStreet': 'Queen St E',\n",
       "        'lat': 43.657773,\n",
       "        'lng': -79.3574632,\n",
       "        'labeledLatLngs': [{'label': 'display',\n",
       "          'lat': 43.657773,\n",
       "          'lng': -79.3574632}],\n",
       "        'distance': 467,\n",
       "        'postalCode': 'M5A 3N9',\n",
       "        'cc': 'CA',\n",
       "        'city': 'Toronto',\n",
       "        'state': 'ON',\n",
       "        'country': 'Canada',\n",
       "        'formattedAddress': ['28 River Street (Queen St E)',\n",
       "         'Toronto ON M5A 3N9',\n",
       "         'Canada']},\n",
       "       'categories': [{'id': '5370f356bcbc57f1066c94c2',\n",
       "         'name': 'Beer Store',\n",
       "         'pluralName': 'Beer Stores',\n",
       "         'shortName': 'Beer Store',\n",
       "         'icon': {'prefix': 'https://ss3.4sqi.net/img/categories_v2/nightlife/beergarden_',\n",
       "          'suffix': '.png'},\n",
       "         'primary': True}],\n",
       "       'photos': {'count': 0, 'groups': []}},\n",
       "      'referralId': 'e-0-4b8acdfdf964a520378232e3-39'},\n",
       "     {'reasons': {'count': 0,\n",
       "       'items': [{'summary': 'This spot is popular',\n",
       "         'type': 'general',\n",
       "         'reasonName': 'globalInteractionReason'}]},\n",
       "      'venue': {'id': '4b2cf78cf964a52077cb24e3',\n",
       "       'name': 'Savoury Grounds',\n",
       "       'location': {'address': '481 Queen St. East',\n",
       "        'crossStreet': 'Sumach St',\n",
       "        'lat': 43.656820970004496,\n",
       "        'lng': -79.3589698353747,\n",
       "        'labeledLatLngs': [{'label': 'display',\n",
       "          'lat': 43.656820970004496,\n",
       "          'lng': -79.3589698353747}],\n",
       "        'distance': 315,\n",
       "        'cc': 'CA',\n",
       "        'city': 'Toronto',\n",
       "        'state': 'ON',\n",
       "        'country': 'Canada',\n",
       "        'formattedAddress': ['481 Queen St. East (Sumach St)',\n",
       "         'Toronto ON',\n",
       "         'Canada']},\n",
       "       'categories': [{'id': '4bf58dd8d48988d1e0931735',\n",
       "         'name': 'Coffee Shop',\n",
       "         'pluralName': 'Coffee Shops',\n",
       "         'shortName': 'Coffee Shop',\n",
       "         'icon': {'prefix': 'https://ss3.4sqi.net/img/categories_v2/food/coffeeshop_',\n",
       "          'suffix': '.png'},\n",
       "         'primary': True}],\n",
       "       'photos': {'count': 0, 'groups': []}},\n",
       "      'referralId': 'e-0-4b2cf78cf964a52077cb24e3-40'},\n",
       "     {'reasons': {'count': 0,\n",
       "       'items': [{'summary': 'This spot is popular',\n",
       "         'type': 'general',\n",
       "         'reasonName': 'globalInteractionReason'}]},\n",
       "      'venue': {'id': '593b5fbea35dce738ebbb4ec',\n",
       "       'name': 'Residence & Conference Centre',\n",
       "       'location': {'address': '80 Cooperage',\n",
       "        'crossStreet': 'Front Street',\n",
       "        'lat': 43.65304,\n",
       "        'lng': -79.35704,\n",
       "        'labeledLatLngs': [{'label': 'display',\n",
       "          'lat': 43.65304,\n",
       "          'lng': -79.35704}],\n",
       "        'distance': 319,\n",
       "        'postalCode': 'M5A 1G9',\n",
       "        'cc': 'CA',\n",
       "        'city': 'Toronto',\n",
       "        'state': 'ON',\n",
       "        'country': 'Canada',\n",
       "        'formattedAddress': ['80 Cooperage (Front Street)',\n",
       "         'Toronto ON M5A 1G9',\n",
       "         'Canada']},\n",
       "       'categories': [{'id': '4bf58dd8d48988d1fa931735',\n",
       "         'name': 'Hotel',\n",
       "         'pluralName': 'Hotels',\n",
       "         'shortName': 'Hotel',\n",
       "         'icon': {'prefix': 'https://ss3.4sqi.net/img/categories_v2/travel/hotel_',\n",
       "          'suffix': '.png'},\n",
       "         'primary': True}],\n",
       "       'photos': {'count': 0, 'groups': []}},\n",
       "      'referralId': 'e-0-593b5fbea35dce738ebbb4ec-41'},\n",
       "     {'reasons': {'count': 0,\n",
       "       'items': [{'summary': 'This spot is popular',\n",
       "         'type': 'general',\n",
       "         'reasonName': 'globalInteractionReason'}]},\n",
       "      'venue': {'id': '57dd8bcd498e8eec19b9c896',\n",
       "       'name': 'FUEL+',\n",
       "       'location': {'address': '469 Front St',\n",
       "        'crossStreet': 'Rolling Mills Rd',\n",
       "        'lat': 43.653193,\n",
       "        'lng': -79.355867,\n",
       "        'labeledLatLngs': [{'label': 'display',\n",
       "          'lat': 43.653193,\n",
       "          'lng': -79.355867}],\n",
       "        'distance': 402,\n",
       "        'postalCode': 'M5A',\n",
       "        'cc': 'CA',\n",
       "        'city': 'Toronto',\n",
       "        'state': 'ON',\n",
       "        'country': 'Canada',\n",
       "        'formattedAddress': ['469 Front St (Rolling Mills Rd)',\n",
       "         'Toronto ON M5A',\n",
       "         'Canada']},\n",
       "       'categories': [{'id': '4bf58dd8d48988d1e0931735',\n",
       "         'name': 'Coffee Shop',\n",
       "         'pluralName': 'Coffee Shops',\n",
       "         'shortName': 'Coffee Shop',\n",
       "         'icon': {'prefix': 'https://ss3.4sqi.net/img/categories_v2/food/coffeeshop_',\n",
       "          'suffix': '.png'},\n",
       "         'primary': True}],\n",
       "       'photos': {'count': 0, 'groups': []}},\n",
       "      'referralId': 'e-0-57dd8bcd498e8eec19b9c896-42'},\n",
       "     {'reasons': {'count': 0,\n",
       "       'items': [{'summary': 'This spot is popular',\n",
       "         'type': 'general',\n",
       "         'reasonName': 'globalInteractionReason'}]},\n",
       "      'venue': {'id': '579cc5f2498e0fe8397deebb',\n",
       "       'name': 'GW General',\n",
       "       'location': {'lat': 43.650495,\n",
       "        'lng': -79.357538,\n",
       "        'labeledLatLngs': [{'label': 'display',\n",
       "          'lat': 43.650495,\n",
       "          'lng': -79.357538}],\n",
       "        'distance': 487,\n",
       "        'cc': 'CA',\n",
       "        'country': 'Canada',\n",
       "        'formattedAddress': ['Canada']},\n",
       "       'categories': [{'id': '4bf58dd8d48988d116951735',\n",
       "         'name': 'Antique Shop',\n",
       "         'pluralName': 'Antique Shops',\n",
       "         'shortName': 'Antiques',\n",
       "         'icon': {'prefix': 'https://ss3.4sqi.net/img/categories_v2/shops/antique_',\n",
       "          'suffix': '.png'},\n",
       "         'primary': True}],\n",
       "       'photos': {'count': 0, 'groups': []}},\n",
       "      'referralId': 'e-0-579cc5f2498e0fe8397deebb-43'}]}]}}"
      ]
     },
     "metadata": {},
     "execution_count": 24
    }
   ],
   "source": [
    "results = requests.get(url).json()\n",
    "results"
   ]
  },
  {
   "source": [
    "### Define a function that extracts the category of the venue."
   ],
   "cell_type": "markdown",
   "metadata": {}
  },
  {
   "cell_type": "code",
   "execution_count": 25,
   "metadata": {},
   "outputs": [],
   "source": [
    "# define the function that extracts the category of the venue\n",
    "def get_category_type(row):\n",
    "    try:\n",
    "        categories_list = row['categories']\n",
    "    except:\n",
    "        categories_list = row['venue.categories']\n",
    "        \n",
    "    if len(categories_list) == 0:\n",
    "        return None\n",
    "    else:\n",
    "        return categories_list[0]['name']"
   ]
  },
  {
   "source": [
    "### Create a dataframe to store the venues, the corresponding categories and coordinates."
   ],
   "cell_type": "markdown",
   "metadata": {}
  },
  {
   "cell_type": "code",
   "execution_count": 26,
   "metadata": {},
   "outputs": [
    {
     "output_type": "execute_result",
     "data": {
      "text/plain": [
       "                     name           categories        lat        lng\n",
       "0        Roselle Desserts               Bakery  43.653447 -79.362017\n",
       "1           Tandem Coffee          Coffee Shop  43.653559 -79.361809\n",
       "2  Cooper Koo Family YMCA  Distribution Center  43.653249 -79.358008\n",
       "3          Impact Kitchen           Restaurant  43.656369 -79.356980\n",
       "4     Body Blitz Spa East                  Spa  43.654735 -79.359874"
      ],
      "text/html": "<div>\n<style scoped>\n    .dataframe tbody tr th:only-of-type {\n        vertical-align: middle;\n    }\n\n    .dataframe tbody tr th {\n        vertical-align: top;\n    }\n\n    .dataframe thead th {\n        text-align: right;\n    }\n</style>\n<table border=\"1\" class=\"dataframe\">\n  <thead>\n    <tr style=\"text-align: right;\">\n      <th></th>\n      <th>name</th>\n      <th>categories</th>\n      <th>lat</th>\n      <th>lng</th>\n    </tr>\n  </thead>\n  <tbody>\n    <tr>\n      <th>0</th>\n      <td>Roselle Desserts</td>\n      <td>Bakery</td>\n      <td>43.653447</td>\n      <td>-79.362017</td>\n    </tr>\n    <tr>\n      <th>1</th>\n      <td>Tandem Coffee</td>\n      <td>Coffee Shop</td>\n      <td>43.653559</td>\n      <td>-79.361809</td>\n    </tr>\n    <tr>\n      <th>2</th>\n      <td>Cooper Koo Family YMCA</td>\n      <td>Distribution Center</td>\n      <td>43.653249</td>\n      <td>-79.358008</td>\n    </tr>\n    <tr>\n      <th>3</th>\n      <td>Impact Kitchen</td>\n      <td>Restaurant</td>\n      <td>43.656369</td>\n      <td>-79.356980</td>\n    </tr>\n    <tr>\n      <th>4</th>\n      <td>Body Blitz Spa East</td>\n      <td>Spa</td>\n      <td>43.654735</td>\n      <td>-79.359874</td>\n    </tr>\n  </tbody>\n</table>\n</div>"
     },
     "metadata": {},
     "execution_count": 26
    }
   ],
   "source": [
    "venues = results['response']['groups'][0]['items']\n",
    "    \n",
    "nearby_venues = json_normalize(venues) # flatten JSON\n",
    "\n",
    "# filter columns\n",
    "filtered_columns = ['venue.name', 'venue.categories', 'venue.location.lat', 'venue.location.lng']\n",
    "nearby_venues = nearby_venues.loc[:, filtered_columns]\n",
    "\n",
    "# filter the category for each row\n",
    "nearby_venues['venue.categories'] = nearby_venues.apply(get_category_type, axis = 1)\n",
    "\n",
    "# clean columns\n",
    "nearby_venues.columns = [col.split(\".\")[-1] for col in nearby_venues.columns]\n",
    "\n",
    "nearby_venues.head()"
   ]
  },
  {
   "source": [
    "### How many venues returned by Foursquare?"
   ],
   "cell_type": "markdown",
   "metadata": {}
  },
  {
   "cell_type": "code",
   "execution_count": 27,
   "metadata": {},
   "outputs": [
    {
     "output_type": "stream",
     "name": "stdout",
     "text": [
      "44 venues were returned by Foursquare.\n"
     ]
    }
   ],
   "source": [
    "print('{} venues were returned by Foursquare.'.format(nearby_venues.shape[0]))"
   ]
  },
  {
   "source": [
    "### Define a function to repeat the same process for all neighbourhoods."
   ],
   "cell_type": "markdown",
   "metadata": {}
  },
  {
   "cell_type": "code",
   "execution_count": 28,
   "metadata": {},
   "outputs": [],
   "source": [
    "def getNearbyVenues(names, latitudes, longitudes, radius = 500):\n",
    "    \n",
    "    venues_list = []\n",
    "    for name, lat, lng in zip(names, latitudes, longitudes):\n",
    "        print(name)\n",
    "            \n",
    "        # create the API request URL\n",
    "        url = 'https://api.foursquare.com/v2/venues/explore?&client_id={}&client_secret={}&v={}&ll={},{}&radius={}&limit={}'.format(\n",
    "            CLIENT_ID, \n",
    "            CLIENT_SECRET, \n",
    "            VERSION, \n",
    "            lat, \n",
    "            lng, \n",
    "            radius, \n",
    "            LIMIT)\n",
    "            \n",
    "        # make the GET request\n",
    "        results = requests.get(url).json()[\"response\"]['groups'][0]['items']\n",
    "        \n",
    "        # return only relevant information for each nearby venue\n",
    "        venues_list.append([(\n",
    "            name, \n",
    "            lat, \n",
    "            lng, \n",
    "            v['venue']['name'], \n",
    "            v['venue']['location']['lat'], \n",
    "            v['venue']['location']['lng'],  \n",
    "            v['venue']['categories'][0]['name']) for v in results])\n",
    "\n",
    "    nearby_venues = pd.DataFrame([item for venue_list in venues_list for item in venue_list])\n",
    "    nearby_venues.columns = ['Neighbourhood', \n",
    "                  'Neighbourhood Latitude', \n",
    "                  'Neighbourhood Longitude', \n",
    "                  'Venue', \n",
    "                  'Venue Latitude', \n",
    "                  'Venue Longitude', \n",
    "                  'Venue Category']\n",
    "    \n",
    "    return(nearby_venues)"
   ]
  },
  {
   "source": [
    "### What are the neighbourhoods?"
   ],
   "cell_type": "markdown",
   "metadata": {}
  },
  {
   "cell_type": "code",
   "execution_count": 29,
   "metadata": {},
   "outputs": [
    {
     "output_type": "stream",
     "name": "stdout",
     "text": [
      "Regent Park, Harbourfront\n",
      "Queen's Park, Ontario Provincial Government\n",
      "Garden District, Ryerson\n",
      "St. James Town\n",
      "The Beaches\n",
      "Berczy Park\n",
      "Central Bay Street\n",
      "Christie\n",
      "Richmond, Adelaide, King\n",
      "Dufferin, Dovercourt Village\n",
      "Harbourfront East, Union Station, Toronto Islands\n",
      "Little Portugal, Trinity\n",
      "The Danforth West, Riverdale\n",
      "Toronto Dominion Centre, Design Exchange\n",
      "Brockton, Parkdale Village, Exhibition Place\n",
      "India Bazaar, The Beaches West\n",
      "Commerce Court, Victoria Hotel\n",
      "Studio District\n",
      "Lawrence Park\n",
      "Roselawn\n",
      "Davisville North\n",
      "Forest Hill North & West, Forest Hill Road Park\n",
      "High Park, The Junction South\n",
      "North Toronto West, Lawrence Park\n",
      "The Annex, North Midtown, Yorkville\n",
      "Parkdale, Roncesvalles\n",
      "Davisville\n",
      "University of Toronto, Harbord\n",
      "Runnymede, Swansea\n",
      "Moore Park, Summerhill East\n",
      "Kensington Market, Chinatown, Grange Park\n",
      "Summerhill West, Rathnelly, South Hill, Forest Hill SE, Deer Park\n",
      "CN Tower, King and Spadina, Railway Lands, Harbourfront West, Bathurst Quay, South Niagara, Island airport\n",
      "Rosedale\n",
      "Stn A PO Boxes\n",
      "St. James Town, Cabbagetown\n",
      "First Canadian Place, Underground city\n",
      "Church and Wellesley\n",
      "Business reply mail Processing Centre, South Central Letter Processing Plant Toronto\n"
     ]
    }
   ],
   "source": [
    "toronto_venues = getNearbyVenues(names = df3['Neighbourhood'], latitudes = df3['Latitude'], longitudes = df3['Longitude'])"
   ]
  },
  {
   "source": [
    "### What's the size of the resulting dataframe?"
   ],
   "cell_type": "markdown",
   "metadata": {}
  },
  {
   "cell_type": "code",
   "execution_count": 30,
   "metadata": {},
   "outputs": [
    {
     "output_type": "stream",
     "name": "stdout",
     "text": [
      "(1624, 7)\n"
     ]
    },
    {
     "output_type": "execute_result",
     "data": {
      "text/plain": [
       "               Neighbourhood  Neighbourhood Latitude  Neighbourhood Longitude  \\\n",
       "0  Regent Park, Harbourfront                43.65426               -79.360636   \n",
       "1  Regent Park, Harbourfront                43.65426               -79.360636   \n",
       "2  Regent Park, Harbourfront                43.65426               -79.360636   \n",
       "3  Regent Park, Harbourfront                43.65426               -79.360636   \n",
       "4  Regent Park, Harbourfront                43.65426               -79.360636   \n",
       "\n",
       "                    Venue  Venue Latitude  Venue Longitude  \\\n",
       "0        Roselle Desserts       43.653447       -79.362017   \n",
       "1           Tandem Coffee       43.653559       -79.361809   \n",
       "2  Cooper Koo Family YMCA       43.653249       -79.358008   \n",
       "3          Impact Kitchen       43.656369       -79.356980   \n",
       "4     Body Blitz Spa East       43.654735       -79.359874   \n",
       "\n",
       "        Venue Category  \n",
       "0               Bakery  \n",
       "1          Coffee Shop  \n",
       "2  Distribution Center  \n",
       "3           Restaurant  \n",
       "4                  Spa  "
      ],
      "text/html": "<div>\n<style scoped>\n    .dataframe tbody tr th:only-of-type {\n        vertical-align: middle;\n    }\n\n    .dataframe tbody tr th {\n        vertical-align: top;\n    }\n\n    .dataframe thead th {\n        text-align: right;\n    }\n</style>\n<table border=\"1\" class=\"dataframe\">\n  <thead>\n    <tr style=\"text-align: right;\">\n      <th></th>\n      <th>Neighbourhood</th>\n      <th>Neighbourhood Latitude</th>\n      <th>Neighbourhood Longitude</th>\n      <th>Venue</th>\n      <th>Venue Latitude</th>\n      <th>Venue Longitude</th>\n      <th>Venue Category</th>\n    </tr>\n  </thead>\n  <tbody>\n    <tr>\n      <th>0</th>\n      <td>Regent Park, Harbourfront</td>\n      <td>43.65426</td>\n      <td>-79.360636</td>\n      <td>Roselle Desserts</td>\n      <td>43.653447</td>\n      <td>-79.362017</td>\n      <td>Bakery</td>\n    </tr>\n    <tr>\n      <th>1</th>\n      <td>Regent Park, Harbourfront</td>\n      <td>43.65426</td>\n      <td>-79.360636</td>\n      <td>Tandem Coffee</td>\n      <td>43.653559</td>\n      <td>-79.361809</td>\n      <td>Coffee Shop</td>\n    </tr>\n    <tr>\n      <th>2</th>\n      <td>Regent Park, Harbourfront</td>\n      <td>43.65426</td>\n      <td>-79.360636</td>\n      <td>Cooper Koo Family YMCA</td>\n      <td>43.653249</td>\n      <td>-79.358008</td>\n      <td>Distribution Center</td>\n    </tr>\n    <tr>\n      <th>3</th>\n      <td>Regent Park, Harbourfront</td>\n      <td>43.65426</td>\n      <td>-79.360636</td>\n      <td>Impact Kitchen</td>\n      <td>43.656369</td>\n      <td>-79.356980</td>\n      <td>Restaurant</td>\n    </tr>\n    <tr>\n      <th>4</th>\n      <td>Regent Park, Harbourfront</td>\n      <td>43.65426</td>\n      <td>-79.360636</td>\n      <td>Body Blitz Spa East</td>\n      <td>43.654735</td>\n      <td>-79.359874</td>\n      <td>Spa</td>\n    </tr>\n  </tbody>\n</table>\n</div>"
     },
     "metadata": {},
     "execution_count": 30
    }
   ],
   "source": [
    "print(toronto_venues.shape)\n",
    "toronto_venues.head()"
   ]
  },
  {
   "source": [
    "### How many venues are there for each of the neighbourhoods?"
   ],
   "cell_type": "markdown",
   "metadata": {}
  },
  {
   "cell_type": "code",
   "execution_count": 31,
   "metadata": {},
   "outputs": [
    {
     "output_type": "execute_result",
     "data": {
      "text/plain": [
       "                                                    Neighbourhood Latitude  \\\n",
       "Neighbourhood                                                                \n",
       "Berczy Park                                                             55   \n",
       "Brockton, Parkdale Village, Exhibition Place                            23   \n",
       "Business reply mail Processing Centre, South Ce...                      16   \n",
       "CN Tower, King and Spadina, Railway Lands, Harb...                      16   \n",
       "Central Bay Street                                                      68   \n",
       "Christie                                                                16   \n",
       "Church and Wellesley                                                    75   \n",
       "Commerce Court, Victoria Hotel                                         100   \n",
       "Davisville                                                              33   \n",
       "Davisville North                                                         9   \n",
       "Dufferin, Dovercourt Village                                            13   \n",
       "First Canadian Place, Underground city                                 100   \n",
       "Forest Hill North & West, Forest Hill Road Park                          4   \n",
       "Garden District, Ryerson                                               100   \n",
       "Harbourfront East, Union Station, Toronto Islands                      100   \n",
       "High Park, The Junction South                                           25   \n",
       "India Bazaar, The Beaches West                                          19   \n",
       "Kensington Market, Chinatown, Grange Park                               74   \n",
       "Lawrence Park                                                            3   \n",
       "Little Portugal, Trinity                                                45   \n",
       "Moore Park, Summerhill East                                              2   \n",
       "North Toronto West, Lawrence Park                                       18   \n",
       "Parkdale, Roncesvalles                                                  14   \n",
       "Queen's Park, Ontario Provincial Government                             33   \n",
       "Regent Park, Harbourfront                                               44   \n",
       "Richmond, Adelaide, King                                               100   \n",
       "Rosedale                                                                 4   \n",
       "Roselawn                                                                 2   \n",
       "Runnymede, Swansea                                                      33   \n",
       "St. James Town                                                          85   \n",
       "St. James Town, Cabbagetown                                             48   \n",
       "Stn A PO Boxes                                                          96   \n",
       "Studio District                                                         37   \n",
       "Summerhill West, Rathnelly, South Hill, Forest ...                      14   \n",
       "The Annex, North Midtown, Yorkville                                     19   \n",
       "The Beaches                                                              4   \n",
       "The Danforth West, Riverdale                                            43   \n",
       "Toronto Dominion Centre, Design Exchange                               100   \n",
       "University of Toronto, Harbord                                          34   \n",
       "\n",
       "                                                    Neighbourhood Longitude  \\\n",
       "Neighbourhood                                                                 \n",
       "Berczy Park                                                              55   \n",
       "Brockton, Parkdale Village, Exhibition Place                             23   \n",
       "Business reply mail Processing Centre, South Ce...                       16   \n",
       "CN Tower, King and Spadina, Railway Lands, Harb...                       16   \n",
       "Central Bay Street                                                       68   \n",
       "Christie                                                                 16   \n",
       "Church and Wellesley                                                     75   \n",
       "Commerce Court, Victoria Hotel                                          100   \n",
       "Davisville                                                               33   \n",
       "Davisville North                                                          9   \n",
       "Dufferin, Dovercourt Village                                             13   \n",
       "First Canadian Place, Underground city                                  100   \n",
       "Forest Hill North & West, Forest Hill Road Park                           4   \n",
       "Garden District, Ryerson                                                100   \n",
       "Harbourfront East, Union Station, Toronto Islands                       100   \n",
       "High Park, The Junction South                                            25   \n",
       "India Bazaar, The Beaches West                                           19   \n",
       "Kensington Market, Chinatown, Grange Park                                74   \n",
       "Lawrence Park                                                             3   \n",
       "Little Portugal, Trinity                                                 45   \n",
       "Moore Park, Summerhill East                                               2   \n",
       "North Toronto West, Lawrence Park                                        18   \n",
       "Parkdale, Roncesvalles                                                   14   \n",
       "Queen's Park, Ontario Provincial Government                              33   \n",
       "Regent Park, Harbourfront                                                44   \n",
       "Richmond, Adelaide, King                                                100   \n",
       "Rosedale                                                                  4   \n",
       "Roselawn                                                                  2   \n",
       "Runnymede, Swansea                                                       33   \n",
       "St. James Town                                                           85   \n",
       "St. James Town, Cabbagetown                                              48   \n",
       "Stn A PO Boxes                                                           96   \n",
       "Studio District                                                          37   \n",
       "Summerhill West, Rathnelly, South Hill, Forest ...                       14   \n",
       "The Annex, North Midtown, Yorkville                                      19   \n",
       "The Beaches                                                               4   \n",
       "The Danforth West, Riverdale                                             43   \n",
       "Toronto Dominion Centre, Design Exchange                                100   \n",
       "University of Toronto, Harbord                                           34   \n",
       "\n",
       "                                                    Venue  Venue Latitude  \\\n",
       "Neighbourhood                                                               \n",
       "Berczy Park                                            55              55   \n",
       "Brockton, Parkdale Village, Exhibition Place           23              23   \n",
       "Business reply mail Processing Centre, South Ce...     16              16   \n",
       "CN Tower, King and Spadina, Railway Lands, Harb...     16              16   \n",
       "Central Bay Street                                     68              68   \n",
       "Christie                                               16              16   \n",
       "Church and Wellesley                                   75              75   \n",
       "Commerce Court, Victoria Hotel                        100             100   \n",
       "Davisville                                             33              33   \n",
       "Davisville North                                        9               9   \n",
       "Dufferin, Dovercourt Village                           13              13   \n",
       "First Canadian Place, Underground city                100             100   \n",
       "Forest Hill North & West, Forest Hill Road Park         4               4   \n",
       "Garden District, Ryerson                              100             100   \n",
       "Harbourfront East, Union Station, Toronto Islands     100             100   \n",
       "High Park, The Junction South                          25              25   \n",
       "India Bazaar, The Beaches West                         19              19   \n",
       "Kensington Market, Chinatown, Grange Park              74              74   \n",
       "Lawrence Park                                           3               3   \n",
       "Little Portugal, Trinity                               45              45   \n",
       "Moore Park, Summerhill East                             2               2   \n",
       "North Toronto West, Lawrence Park                      18              18   \n",
       "Parkdale, Roncesvalles                                 14              14   \n",
       "Queen's Park, Ontario Provincial Government            33              33   \n",
       "Regent Park, Harbourfront                              44              44   \n",
       "Richmond, Adelaide, King                              100             100   \n",
       "Rosedale                                                4               4   \n",
       "Roselawn                                                2               2   \n",
       "Runnymede, Swansea                                     33              33   \n",
       "St. James Town                                         85              85   \n",
       "St. James Town, Cabbagetown                            48              48   \n",
       "Stn A PO Boxes                                         96              96   \n",
       "Studio District                                        37              37   \n",
       "Summerhill West, Rathnelly, South Hill, Forest ...     14              14   \n",
       "The Annex, North Midtown, Yorkville                    19              19   \n",
       "The Beaches                                             4               4   \n",
       "The Danforth West, Riverdale                           43              43   \n",
       "Toronto Dominion Centre, Design Exchange              100             100   \n",
       "University of Toronto, Harbord                         34              34   \n",
       "\n",
       "                                                    Venue Longitude  \\\n",
       "Neighbourhood                                                         \n",
       "Berczy Park                                                      55   \n",
       "Brockton, Parkdale Village, Exhibition Place                     23   \n",
       "Business reply mail Processing Centre, South Ce...               16   \n",
       "CN Tower, King and Spadina, Railway Lands, Harb...               16   \n",
       "Central Bay Street                                               68   \n",
       "Christie                                                         16   \n",
       "Church and Wellesley                                             75   \n",
       "Commerce Court, Victoria Hotel                                  100   \n",
       "Davisville                                                       33   \n",
       "Davisville North                                                  9   \n",
       "Dufferin, Dovercourt Village                                     13   \n",
       "First Canadian Place, Underground city                          100   \n",
       "Forest Hill North & West, Forest Hill Road Park                   4   \n",
       "Garden District, Ryerson                                        100   \n",
       "Harbourfront East, Union Station, Toronto Islands               100   \n",
       "High Park, The Junction South                                    25   \n",
       "India Bazaar, The Beaches West                                   19   \n",
       "Kensington Market, Chinatown, Grange Park                        74   \n",
       "Lawrence Park                                                     3   \n",
       "Little Portugal, Trinity                                         45   \n",
       "Moore Park, Summerhill East                                       2   \n",
       "North Toronto West, Lawrence Park                                18   \n",
       "Parkdale, Roncesvalles                                           14   \n",
       "Queen's Park, Ontario Provincial Government                      33   \n",
       "Regent Park, Harbourfront                                        44   \n",
       "Richmond, Adelaide, King                                        100   \n",
       "Rosedale                                                          4   \n",
       "Roselawn                                                          2   \n",
       "Runnymede, Swansea                                               33   \n",
       "St. James Town                                                   85   \n",
       "St. James Town, Cabbagetown                                      48   \n",
       "Stn A PO Boxes                                                   96   \n",
       "Studio District                                                  37   \n",
       "Summerhill West, Rathnelly, South Hill, Forest ...               14   \n",
       "The Annex, North Midtown, Yorkville                              19   \n",
       "The Beaches                                                       4   \n",
       "The Danforth West, Riverdale                                     43   \n",
       "Toronto Dominion Centre, Design Exchange                        100   \n",
       "University of Toronto, Harbord                                   34   \n",
       "\n",
       "                                                    Venue Category  \n",
       "Neighbourhood                                                       \n",
       "Berczy Park                                                     55  \n",
       "Brockton, Parkdale Village, Exhibition Place                    23  \n",
       "Business reply mail Processing Centre, South Ce...              16  \n",
       "CN Tower, King and Spadina, Railway Lands, Harb...              16  \n",
       "Central Bay Street                                              68  \n",
       "Christie                                                        16  \n",
       "Church and Wellesley                                            75  \n",
       "Commerce Court, Victoria Hotel                                 100  \n",
       "Davisville                                                      33  \n",
       "Davisville North                                                 9  \n",
       "Dufferin, Dovercourt Village                                    13  \n",
       "First Canadian Place, Underground city                         100  \n",
       "Forest Hill North & West, Forest Hill Road Park                  4  \n",
       "Garden District, Ryerson                                       100  \n",
       "Harbourfront East, Union Station, Toronto Islands              100  \n",
       "High Park, The Junction South                                   25  \n",
       "India Bazaar, The Beaches West                                  19  \n",
       "Kensington Market, Chinatown, Grange Park                       74  \n",
       "Lawrence Park                                                    3  \n",
       "Little Portugal, Trinity                                        45  \n",
       "Moore Park, Summerhill East                                      2  \n",
       "North Toronto West, Lawrence Park                               18  \n",
       "Parkdale, Roncesvalles                                          14  \n",
       "Queen's Park, Ontario Provincial Government                     33  \n",
       "Regent Park, Harbourfront                                       44  \n",
       "Richmond, Adelaide, King                                       100  \n",
       "Rosedale                                                         4  \n",
       "Roselawn                                                         2  \n",
       "Runnymede, Swansea                                              33  \n",
       "St. James Town                                                  85  \n",
       "St. James Town, Cabbagetown                                     48  \n",
       "Stn A PO Boxes                                                  96  \n",
       "Studio District                                                 37  \n",
       "Summerhill West, Rathnelly, South Hill, Forest ...              14  \n",
       "The Annex, North Midtown, Yorkville                             19  \n",
       "The Beaches                                                      4  \n",
       "The Danforth West, Riverdale                                    43  \n",
       "Toronto Dominion Centre, Design Exchange                       100  \n",
       "University of Toronto, Harbord                                  34  "
      ],
      "text/html": "<div>\n<style scoped>\n    .dataframe tbody tr th:only-of-type {\n        vertical-align: middle;\n    }\n\n    .dataframe tbody tr th {\n        vertical-align: top;\n    }\n\n    .dataframe thead th {\n        text-align: right;\n    }\n</style>\n<table border=\"1\" class=\"dataframe\">\n  <thead>\n    <tr style=\"text-align: right;\">\n      <th></th>\n      <th>Neighbourhood Latitude</th>\n      <th>Neighbourhood Longitude</th>\n      <th>Venue</th>\n      <th>Venue Latitude</th>\n      <th>Venue Longitude</th>\n      <th>Venue Category</th>\n    </tr>\n    <tr>\n      <th>Neighbourhood</th>\n      <th></th>\n      <th></th>\n      <th></th>\n      <th></th>\n      <th></th>\n      <th></th>\n    </tr>\n  </thead>\n  <tbody>\n    <tr>\n      <th>Berczy Park</th>\n      <td>55</td>\n      <td>55</td>\n      <td>55</td>\n      <td>55</td>\n      <td>55</td>\n      <td>55</td>\n    </tr>\n    <tr>\n      <th>Brockton, Parkdale Village, Exhibition Place</th>\n      <td>23</td>\n      <td>23</td>\n      <td>23</td>\n      <td>23</td>\n      <td>23</td>\n      <td>23</td>\n    </tr>\n    <tr>\n      <th>Business reply mail Processing Centre, South Central Letter Processing Plant Toronto</th>\n      <td>16</td>\n      <td>16</td>\n      <td>16</td>\n      <td>16</td>\n      <td>16</td>\n      <td>16</td>\n    </tr>\n    <tr>\n      <th>CN Tower, King and Spadina, Railway Lands, Harbourfront West, Bathurst Quay, South Niagara, Island airport</th>\n      <td>16</td>\n      <td>16</td>\n      <td>16</td>\n      <td>16</td>\n      <td>16</td>\n      <td>16</td>\n    </tr>\n    <tr>\n      <th>Central Bay Street</th>\n      <td>68</td>\n      <td>68</td>\n      <td>68</td>\n      <td>68</td>\n      <td>68</td>\n      <td>68</td>\n    </tr>\n    <tr>\n      <th>Christie</th>\n      <td>16</td>\n      <td>16</td>\n      <td>16</td>\n      <td>16</td>\n      <td>16</td>\n      <td>16</td>\n    </tr>\n    <tr>\n      <th>Church and Wellesley</th>\n      <td>75</td>\n      <td>75</td>\n      <td>75</td>\n      <td>75</td>\n      <td>75</td>\n      <td>75</td>\n    </tr>\n    <tr>\n      <th>Commerce Court, Victoria Hotel</th>\n      <td>100</td>\n      <td>100</td>\n      <td>100</td>\n      <td>100</td>\n      <td>100</td>\n      <td>100</td>\n    </tr>\n    <tr>\n      <th>Davisville</th>\n      <td>33</td>\n      <td>33</td>\n      <td>33</td>\n      <td>33</td>\n      <td>33</td>\n      <td>33</td>\n    </tr>\n    <tr>\n      <th>Davisville North</th>\n      <td>9</td>\n      <td>9</td>\n      <td>9</td>\n      <td>9</td>\n      <td>9</td>\n      <td>9</td>\n    </tr>\n    <tr>\n      <th>Dufferin, Dovercourt Village</th>\n      <td>13</td>\n      <td>13</td>\n      <td>13</td>\n      <td>13</td>\n      <td>13</td>\n      <td>13</td>\n    </tr>\n    <tr>\n      <th>First Canadian Place, Underground city</th>\n      <td>100</td>\n      <td>100</td>\n      <td>100</td>\n      <td>100</td>\n      <td>100</td>\n      <td>100</td>\n    </tr>\n    <tr>\n      <th>Forest Hill North &amp; West, Forest Hill Road Park</th>\n      <td>4</td>\n      <td>4</td>\n      <td>4</td>\n      <td>4</td>\n      <td>4</td>\n      <td>4</td>\n    </tr>\n    <tr>\n      <th>Garden District, Ryerson</th>\n      <td>100</td>\n      <td>100</td>\n      <td>100</td>\n      <td>100</td>\n      <td>100</td>\n      <td>100</td>\n    </tr>\n    <tr>\n      <th>Harbourfront East, Union Station, Toronto Islands</th>\n      <td>100</td>\n      <td>100</td>\n      <td>100</td>\n      <td>100</td>\n      <td>100</td>\n      <td>100</td>\n    </tr>\n    <tr>\n      <th>High Park, The Junction South</th>\n      <td>25</td>\n      <td>25</td>\n      <td>25</td>\n      <td>25</td>\n      <td>25</td>\n      <td>25</td>\n    </tr>\n    <tr>\n      <th>India Bazaar, The Beaches West</th>\n      <td>19</td>\n      <td>19</td>\n      <td>19</td>\n      <td>19</td>\n      <td>19</td>\n      <td>19</td>\n    </tr>\n    <tr>\n      <th>Kensington Market, Chinatown, Grange Park</th>\n      <td>74</td>\n      <td>74</td>\n      <td>74</td>\n      <td>74</td>\n      <td>74</td>\n      <td>74</td>\n    </tr>\n    <tr>\n      <th>Lawrence Park</th>\n      <td>3</td>\n      <td>3</td>\n      <td>3</td>\n      <td>3</td>\n      <td>3</td>\n      <td>3</td>\n    </tr>\n    <tr>\n      <th>Little Portugal, Trinity</th>\n      <td>45</td>\n      <td>45</td>\n      <td>45</td>\n      <td>45</td>\n      <td>45</td>\n      <td>45</td>\n    </tr>\n    <tr>\n      <th>Moore Park, Summerhill East</th>\n      <td>2</td>\n      <td>2</td>\n      <td>2</td>\n      <td>2</td>\n      <td>2</td>\n      <td>2</td>\n    </tr>\n    <tr>\n      <th>North Toronto West, Lawrence Park</th>\n      <td>18</td>\n      <td>18</td>\n      <td>18</td>\n      <td>18</td>\n      <td>18</td>\n      <td>18</td>\n    </tr>\n    <tr>\n      <th>Parkdale, Roncesvalles</th>\n      <td>14</td>\n      <td>14</td>\n      <td>14</td>\n      <td>14</td>\n      <td>14</td>\n      <td>14</td>\n    </tr>\n    <tr>\n      <th>Queen's Park, Ontario Provincial Government</th>\n      <td>33</td>\n      <td>33</td>\n      <td>33</td>\n      <td>33</td>\n      <td>33</td>\n      <td>33</td>\n    </tr>\n    <tr>\n      <th>Regent Park, Harbourfront</th>\n      <td>44</td>\n      <td>44</td>\n      <td>44</td>\n      <td>44</td>\n      <td>44</td>\n      <td>44</td>\n    </tr>\n    <tr>\n      <th>Richmond, Adelaide, King</th>\n      <td>100</td>\n      <td>100</td>\n      <td>100</td>\n      <td>100</td>\n      <td>100</td>\n      <td>100</td>\n    </tr>\n    <tr>\n      <th>Rosedale</th>\n      <td>4</td>\n      <td>4</td>\n      <td>4</td>\n      <td>4</td>\n      <td>4</td>\n      <td>4</td>\n    </tr>\n    <tr>\n      <th>Roselawn</th>\n      <td>2</td>\n      <td>2</td>\n      <td>2</td>\n      <td>2</td>\n      <td>2</td>\n      <td>2</td>\n    </tr>\n    <tr>\n      <th>Runnymede, Swansea</th>\n      <td>33</td>\n      <td>33</td>\n      <td>33</td>\n      <td>33</td>\n      <td>33</td>\n      <td>33</td>\n    </tr>\n    <tr>\n      <th>St. James Town</th>\n      <td>85</td>\n      <td>85</td>\n      <td>85</td>\n      <td>85</td>\n      <td>85</td>\n      <td>85</td>\n    </tr>\n    <tr>\n      <th>St. James Town, Cabbagetown</th>\n      <td>48</td>\n      <td>48</td>\n      <td>48</td>\n      <td>48</td>\n      <td>48</td>\n      <td>48</td>\n    </tr>\n    <tr>\n      <th>Stn A PO Boxes</th>\n      <td>96</td>\n      <td>96</td>\n      <td>96</td>\n      <td>96</td>\n      <td>96</td>\n      <td>96</td>\n    </tr>\n    <tr>\n      <th>Studio District</th>\n      <td>37</td>\n      <td>37</td>\n      <td>37</td>\n      <td>37</td>\n      <td>37</td>\n      <td>37</td>\n    </tr>\n    <tr>\n      <th>Summerhill West, Rathnelly, South Hill, Forest Hill SE, Deer Park</th>\n      <td>14</td>\n      <td>14</td>\n      <td>14</td>\n      <td>14</td>\n      <td>14</td>\n      <td>14</td>\n    </tr>\n    <tr>\n      <th>The Annex, North Midtown, Yorkville</th>\n      <td>19</td>\n      <td>19</td>\n      <td>19</td>\n      <td>19</td>\n      <td>19</td>\n      <td>19</td>\n    </tr>\n    <tr>\n      <th>The Beaches</th>\n      <td>4</td>\n      <td>4</td>\n      <td>4</td>\n      <td>4</td>\n      <td>4</td>\n      <td>4</td>\n    </tr>\n    <tr>\n      <th>The Danforth West, Riverdale</th>\n      <td>43</td>\n      <td>43</td>\n      <td>43</td>\n      <td>43</td>\n      <td>43</td>\n      <td>43</td>\n    </tr>\n    <tr>\n      <th>Toronto Dominion Centre, Design Exchange</th>\n      <td>100</td>\n      <td>100</td>\n      <td>100</td>\n      <td>100</td>\n      <td>100</td>\n      <td>100</td>\n    </tr>\n    <tr>\n      <th>University of Toronto, Harbord</th>\n      <td>34</td>\n      <td>34</td>\n      <td>34</td>\n      <td>34</td>\n      <td>34</td>\n      <td>34</td>\n    </tr>\n  </tbody>\n</table>\n</div>"
     },
     "metadata": {},
     "execution_count": 31
    }
   ],
   "source": [
    "toronto_venues.groupby('Neighbourhood').count()"
   ]
  },
  {
   "source": [
    "### How many unique categories that can be curated?"
   ],
   "cell_type": "markdown",
   "metadata": {}
  },
  {
   "cell_type": "code",
   "execution_count": 32,
   "metadata": {},
   "outputs": [
    {
     "output_type": "stream",
     "name": "stdout",
     "text": [
      "There are 236 uniques categories.\n"
     ]
    }
   ],
   "source": [
    "print('There are {} uniques categories.'.format(len(toronto_venues['Venue Category'].unique())))"
   ]
  },
  {
   "source": [
    "## Analysing Each Neighbourhood"
   ],
   "cell_type": "markdown",
   "metadata": {}
  },
  {
   "cell_type": "code",
   "execution_count": 33,
   "metadata": {},
   "outputs": [
    {
     "output_type": "execute_result",
     "data": {
      "text/plain": [
       "               Neighbourhood  Afghan Restaurant  Airport  Airport Food Court  \\\n",
       "0  Regent Park, Harbourfront                  0        0                   0   \n",
       "1  Regent Park, Harbourfront                  0        0                   0   \n",
       "2  Regent Park, Harbourfront                  0        0                   0   \n",
       "3  Regent Park, Harbourfront                  0        0                   0   \n",
       "4  Regent Park, Harbourfront                  0        0                   0   \n",
       "\n",
       "   Airport Gate  Airport Lounge  Airport Service  Airport Terminal  \\\n",
       "0             0               0                0                 0   \n",
       "1             0               0                0                 0   \n",
       "2             0               0                0                 0   \n",
       "3             0               0                0                 0   \n",
       "4             0               0                0                 0   \n",
       "\n",
       "   American Restaurant  Antique Shop  ...  Theme Restaurant  Toy / Game Store  \\\n",
       "0                    0             0  ...                 0                 0   \n",
       "1                    0             0  ...                 0                 0   \n",
       "2                    0             0  ...                 0                 0   \n",
       "3                    0             0  ...                 0                 0   \n",
       "4                    0             0  ...                 0                 0   \n",
       "\n",
       "   Trail  Train Station  Vegetarian / Vegan Restaurant  Video Game Store  \\\n",
       "0      0              0                              0                 0   \n",
       "1      0              0                              0                 0   \n",
       "2      0              0                              0                 0   \n",
       "3      0              0                              0                 0   \n",
       "4      0              0                              0                 0   \n",
       "\n",
       "   Vietnamese Restaurant  Wine Bar  Women's Store  Yoga Studio  \n",
       "0                      0         0              0            0  \n",
       "1                      0         0              0            0  \n",
       "2                      0         0              0            0  \n",
       "3                      0         0              0            0  \n",
       "4                      0         0              0            0  \n",
       "\n",
       "[5 rows x 237 columns]"
      ],
      "text/html": "<div>\n<style scoped>\n    .dataframe tbody tr th:only-of-type {\n        vertical-align: middle;\n    }\n\n    .dataframe tbody tr th {\n        vertical-align: top;\n    }\n\n    .dataframe thead th {\n        text-align: right;\n    }\n</style>\n<table border=\"1\" class=\"dataframe\">\n  <thead>\n    <tr style=\"text-align: right;\">\n      <th></th>\n      <th>Neighbourhood</th>\n      <th>Afghan Restaurant</th>\n      <th>Airport</th>\n      <th>Airport Food Court</th>\n      <th>Airport Gate</th>\n      <th>Airport Lounge</th>\n      <th>Airport Service</th>\n      <th>Airport Terminal</th>\n      <th>American Restaurant</th>\n      <th>Antique Shop</th>\n      <th>...</th>\n      <th>Theme Restaurant</th>\n      <th>Toy / Game Store</th>\n      <th>Trail</th>\n      <th>Train Station</th>\n      <th>Vegetarian / Vegan Restaurant</th>\n      <th>Video Game Store</th>\n      <th>Vietnamese Restaurant</th>\n      <th>Wine Bar</th>\n      <th>Women's Store</th>\n      <th>Yoga Studio</th>\n    </tr>\n  </thead>\n  <tbody>\n    <tr>\n      <th>0</th>\n      <td>Regent Park, Harbourfront</td>\n      <td>0</td>\n      <td>0</td>\n      <td>0</td>\n      <td>0</td>\n      <td>0</td>\n      <td>0</td>\n      <td>0</td>\n      <td>0</td>\n      <td>0</td>\n      <td>...</td>\n      <td>0</td>\n      <td>0</td>\n      <td>0</td>\n      <td>0</td>\n      <td>0</td>\n      <td>0</td>\n      <td>0</td>\n      <td>0</td>\n      <td>0</td>\n      <td>0</td>\n    </tr>\n    <tr>\n      <th>1</th>\n      <td>Regent Park, Harbourfront</td>\n      <td>0</td>\n      <td>0</td>\n      <td>0</td>\n      <td>0</td>\n      <td>0</td>\n      <td>0</td>\n      <td>0</td>\n      <td>0</td>\n      <td>0</td>\n      <td>...</td>\n      <td>0</td>\n      <td>0</td>\n      <td>0</td>\n      <td>0</td>\n      <td>0</td>\n      <td>0</td>\n      <td>0</td>\n      <td>0</td>\n      <td>0</td>\n      <td>0</td>\n    </tr>\n    <tr>\n      <th>2</th>\n      <td>Regent Park, Harbourfront</td>\n      <td>0</td>\n      <td>0</td>\n      <td>0</td>\n      <td>0</td>\n      <td>0</td>\n      <td>0</td>\n      <td>0</td>\n      <td>0</td>\n      <td>0</td>\n      <td>...</td>\n      <td>0</td>\n      <td>0</td>\n      <td>0</td>\n      <td>0</td>\n      <td>0</td>\n      <td>0</td>\n      <td>0</td>\n      <td>0</td>\n      <td>0</td>\n      <td>0</td>\n    </tr>\n    <tr>\n      <th>3</th>\n      <td>Regent Park, Harbourfront</td>\n      <td>0</td>\n      <td>0</td>\n      <td>0</td>\n      <td>0</td>\n      <td>0</td>\n      <td>0</td>\n      <td>0</td>\n      <td>0</td>\n      <td>0</td>\n      <td>...</td>\n      <td>0</td>\n      <td>0</td>\n      <td>0</td>\n      <td>0</td>\n      <td>0</td>\n      <td>0</td>\n      <td>0</td>\n      <td>0</td>\n      <td>0</td>\n      <td>0</td>\n    </tr>\n    <tr>\n      <th>4</th>\n      <td>Regent Park, Harbourfront</td>\n      <td>0</td>\n      <td>0</td>\n      <td>0</td>\n      <td>0</td>\n      <td>0</td>\n      <td>0</td>\n      <td>0</td>\n      <td>0</td>\n      <td>0</td>\n      <td>...</td>\n      <td>0</td>\n      <td>0</td>\n      <td>0</td>\n      <td>0</td>\n      <td>0</td>\n      <td>0</td>\n      <td>0</td>\n      <td>0</td>\n      <td>0</td>\n      <td>0</td>\n    </tr>\n  </tbody>\n</table>\n<p>5 rows × 237 columns</p>\n</div>"
     },
     "metadata": {},
     "execution_count": 33
    }
   ],
   "source": [
    "# one hot encoding\n",
    "toronto_onehot = pd.get_dummies(toronto_venues[['Venue Category']], prefix = \"\", prefix_sep = \"\")\n",
    "\n",
    "# add neighbourhood column back to dataframe\n",
    "toronto_onehot['Neighbourhood'] = toronto_venues['Neighbourhood'] \n",
    "\n",
    "# move neighbourhood column to the first column\n",
    "fixed_columns = [toronto_onehot.columns[-1]] + list(toronto_onehot.columns[:-1])\n",
    "toronto_onehot = toronto_onehot[fixed_columns]\n",
    "\n",
    "toronto_onehot.head()"
   ]
  },
  {
   "cell_type": "code",
   "execution_count": 34,
   "metadata": {},
   "outputs": [
    {
     "output_type": "execute_result",
     "data": {
      "text/plain": [
       "(1624, 237)"
      ]
     },
     "metadata": {},
     "execution_count": 34
    }
   ],
   "source": [
    "toronto_onehot.shape"
   ]
  },
  {
   "source": [
    "### Group the rows by neighbourhood and by taking the mean of the frequency of occurance of each category."
   ],
   "cell_type": "markdown",
   "metadata": {}
  },
  {
   "cell_type": "code",
   "execution_count": 35,
   "metadata": {},
   "outputs": [
    {
     "output_type": "execute_result",
     "data": {
      "text/plain": [
       "                                        Neighbourhood  Afghan Restaurant  \\\n",
       "0                                         Berczy Park           0.000000   \n",
       "1        Brockton, Parkdale Village, Exhibition Place           0.000000   \n",
       "2   Business reply mail Processing Centre, South C...           0.000000   \n",
       "3   CN Tower, King and Spadina, Railway Lands, Har...           0.000000   \n",
       "4                                  Central Bay Street           0.000000   \n",
       "5                                            Christie           0.000000   \n",
       "6                                Church and Wellesley           0.013333   \n",
       "7                      Commerce Court, Victoria Hotel           0.000000   \n",
       "8                                          Davisville           0.000000   \n",
       "9                                    Davisville North           0.000000   \n",
       "10                       Dufferin, Dovercourt Village           0.000000   \n",
       "11             First Canadian Place, Underground city           0.000000   \n",
       "12    Forest Hill North & West, Forest Hill Road Park           0.000000   \n",
       "13                           Garden District, Ryerson           0.000000   \n",
       "14  Harbourfront East, Union Station, Toronto Islands           0.000000   \n",
       "15                      High Park, The Junction South           0.000000   \n",
       "16                     India Bazaar, The Beaches West           0.000000   \n",
       "17          Kensington Market, Chinatown, Grange Park           0.000000   \n",
       "18                                      Lawrence Park           0.000000   \n",
       "19                           Little Portugal, Trinity           0.000000   \n",
       "20                        Moore Park, Summerhill East           0.000000   \n",
       "21                  North Toronto West, Lawrence Park           0.000000   \n",
       "22                             Parkdale, Roncesvalles           0.000000   \n",
       "23        Queen's Park, Ontario Provincial Government           0.000000   \n",
       "24                          Regent Park, Harbourfront           0.000000   \n",
       "25                           Richmond, Adelaide, King           0.000000   \n",
       "26                                           Rosedale           0.000000   \n",
       "27                                           Roselawn           0.000000   \n",
       "28                                 Runnymede, Swansea           0.000000   \n",
       "29                                     St. James Town           0.000000   \n",
       "30                        St. James Town, Cabbagetown           0.000000   \n",
       "31                                     Stn A PO Boxes           0.000000   \n",
       "32                                    Studio District           0.000000   \n",
       "33  Summerhill West, Rathnelly, South Hill, Forest...           0.000000   \n",
       "34                The Annex, North Midtown, Yorkville           0.000000   \n",
       "35                                        The Beaches           0.000000   \n",
       "36                       The Danforth West, Riverdale           0.000000   \n",
       "37           Toronto Dominion Centre, Design Exchange           0.000000   \n",
       "38                     University of Toronto, Harbord           0.000000   \n",
       "\n",
       "    Airport  Airport Food Court  Airport Gate  Airport Lounge  \\\n",
       "0    0.0000              0.0000        0.0000           0.000   \n",
       "1    0.0000              0.0000        0.0000           0.000   \n",
       "2    0.0000              0.0000        0.0000           0.000   \n",
       "3    0.0625              0.0625        0.0625           0.125   \n",
       "4    0.0000              0.0000        0.0000           0.000   \n",
       "5    0.0000              0.0000        0.0000           0.000   \n",
       "6    0.0000              0.0000        0.0000           0.000   \n",
       "7    0.0000              0.0000        0.0000           0.000   \n",
       "8    0.0000              0.0000        0.0000           0.000   \n",
       "9    0.0000              0.0000        0.0000           0.000   \n",
       "10   0.0000              0.0000        0.0000           0.000   \n",
       "11   0.0000              0.0000        0.0000           0.000   \n",
       "12   0.0000              0.0000        0.0000           0.000   \n",
       "13   0.0000              0.0000        0.0000           0.000   \n",
       "14   0.0000              0.0000        0.0000           0.000   \n",
       "15   0.0000              0.0000        0.0000           0.000   \n",
       "16   0.0000              0.0000        0.0000           0.000   \n",
       "17   0.0000              0.0000        0.0000           0.000   \n",
       "18   0.0000              0.0000        0.0000           0.000   \n",
       "19   0.0000              0.0000        0.0000           0.000   \n",
       "20   0.0000              0.0000        0.0000           0.000   \n",
       "21   0.0000              0.0000        0.0000           0.000   \n",
       "22   0.0000              0.0000        0.0000           0.000   \n",
       "23   0.0000              0.0000        0.0000           0.000   \n",
       "24   0.0000              0.0000        0.0000           0.000   \n",
       "25   0.0000              0.0000        0.0000           0.000   \n",
       "26   0.0000              0.0000        0.0000           0.000   \n",
       "27   0.0000              0.0000        0.0000           0.000   \n",
       "28   0.0000              0.0000        0.0000           0.000   \n",
       "29   0.0000              0.0000        0.0000           0.000   \n",
       "30   0.0000              0.0000        0.0000           0.000   \n",
       "31   0.0000              0.0000        0.0000           0.000   \n",
       "32   0.0000              0.0000        0.0000           0.000   \n",
       "33   0.0000              0.0000        0.0000           0.000   \n",
       "34   0.0000              0.0000        0.0000           0.000   \n",
       "35   0.0000              0.0000        0.0000           0.000   \n",
       "36   0.0000              0.0000        0.0000           0.000   \n",
       "37   0.0000              0.0000        0.0000           0.000   \n",
       "38   0.0000              0.0000        0.0000           0.000   \n",
       "\n",
       "    Airport Service  Airport Terminal  American Restaurant  Antique Shop  ...  \\\n",
       "0             0.000            0.0000             0.000000      0.000000  ...   \n",
       "1             0.000            0.0000             0.000000      0.000000  ...   \n",
       "2             0.000            0.0000             0.000000      0.000000  ...   \n",
       "3             0.125            0.0625             0.000000      0.000000  ...   \n",
       "4             0.000            0.0000             0.000000      0.000000  ...   \n",
       "5             0.000            0.0000             0.000000      0.000000  ...   \n",
       "6             0.000            0.0000             0.013333      0.000000  ...   \n",
       "7             0.000            0.0000             0.040000      0.000000  ...   \n",
       "8             0.000            0.0000             0.000000      0.000000  ...   \n",
       "9             0.000            0.0000             0.000000      0.000000  ...   \n",
       "10            0.000            0.0000             0.000000      0.000000  ...   \n",
       "11            0.000            0.0000             0.030000      0.000000  ...   \n",
       "12            0.000            0.0000             0.000000      0.000000  ...   \n",
       "13            0.000            0.0000             0.000000      0.000000  ...   \n",
       "14            0.000            0.0000             0.000000      0.000000  ...   \n",
       "15            0.000            0.0000             0.000000      0.040000  ...   \n",
       "16            0.000            0.0000             0.000000      0.000000  ...   \n",
       "17            0.000            0.0000             0.000000      0.000000  ...   \n",
       "18            0.000            0.0000             0.000000      0.000000  ...   \n",
       "19            0.000            0.0000             0.000000      0.000000  ...   \n",
       "20            0.000            0.0000             0.000000      0.000000  ...   \n",
       "21            0.000            0.0000             0.000000      0.000000  ...   \n",
       "22            0.000            0.0000             0.000000      0.000000  ...   \n",
       "23            0.000            0.0000             0.000000      0.000000  ...   \n",
       "24            0.000            0.0000             0.000000      0.022727  ...   \n",
       "25            0.000            0.0000             0.020000      0.000000  ...   \n",
       "26            0.000            0.0000             0.000000      0.000000  ...   \n",
       "27            0.000            0.0000             0.000000      0.000000  ...   \n",
       "28            0.000            0.0000             0.000000      0.000000  ...   \n",
       "29            0.000            0.0000             0.035294      0.000000  ...   \n",
       "30            0.000            0.0000             0.000000      0.000000  ...   \n",
       "31            0.000            0.0000             0.010417      0.010417  ...   \n",
       "32            0.000            0.0000             0.054054      0.000000  ...   \n",
       "33            0.000            0.0000             0.071429      0.000000  ...   \n",
       "34            0.000            0.0000             0.000000      0.000000  ...   \n",
       "35            0.000            0.0000             0.000000      0.000000  ...   \n",
       "36            0.000            0.0000             0.023256      0.000000  ...   \n",
       "37            0.000            0.0000             0.030000      0.000000  ...   \n",
       "38            0.000            0.0000             0.000000      0.000000  ...   \n",
       "\n",
       "    Theme Restaurant  Toy / Game Store     Trail  Train Station  \\\n",
       "0           0.000000          0.000000  0.000000           0.00   \n",
       "1           0.000000          0.000000  0.000000           0.00   \n",
       "2           0.000000          0.000000  0.000000           0.00   \n",
       "3           0.000000          0.000000  0.000000           0.00   \n",
       "4           0.000000          0.000000  0.000000           0.00   \n",
       "5           0.000000          0.000000  0.000000           0.00   \n",
       "6           0.013333          0.000000  0.000000           0.00   \n",
       "7           0.000000          0.000000  0.000000           0.00   \n",
       "8           0.000000          0.030303  0.000000           0.00   \n",
       "9           0.000000          0.000000  0.000000           0.00   \n",
       "10          0.000000          0.000000  0.000000           0.00   \n",
       "11          0.000000          0.000000  0.000000           0.01   \n",
       "12          0.000000          0.000000  0.250000           0.00   \n",
       "13          0.000000          0.010000  0.000000           0.00   \n",
       "14          0.000000          0.000000  0.000000           0.01   \n",
       "15          0.000000          0.000000  0.000000           0.00   \n",
       "16          0.000000          0.000000  0.000000           0.00   \n",
       "17          0.000000          0.000000  0.000000           0.00   \n",
       "18          0.000000          0.000000  0.000000           0.00   \n",
       "19          0.000000          0.000000  0.000000           0.00   \n",
       "20          0.000000          0.000000  0.500000           0.00   \n",
       "21          0.000000          0.000000  0.000000           0.00   \n",
       "22          0.000000          0.000000  0.000000           0.00   \n",
       "23          0.000000          0.000000  0.000000           0.00   \n",
       "24          0.000000          0.000000  0.000000           0.00   \n",
       "25          0.000000          0.010000  0.000000           0.00   \n",
       "26          0.000000          0.000000  0.250000           0.00   \n",
       "27          0.000000          0.000000  0.000000           0.00   \n",
       "28          0.000000          0.000000  0.000000           0.00   \n",
       "29          0.000000          0.000000  0.000000           0.00   \n",
       "30          0.000000          0.000000  0.000000           0.00   \n",
       "31          0.000000          0.000000  0.000000           0.00   \n",
       "32          0.000000          0.000000  0.000000           0.00   \n",
       "33          0.000000          0.000000  0.000000           0.00   \n",
       "34          0.000000          0.000000  0.000000           0.00   \n",
       "35          0.000000          0.000000  0.250000           0.00   \n",
       "36          0.000000          0.000000  0.023256           0.00   \n",
       "37          0.000000          0.000000  0.000000           0.01   \n",
       "38          0.000000          0.000000  0.000000           0.00   \n",
       "\n",
       "    Vegetarian / Vegan Restaurant  Video Game Store  Vietnamese Restaurant  \\\n",
       "0                        0.018182          0.000000               0.000000   \n",
       "1                        0.000000          0.000000               0.000000   \n",
       "2                        0.000000          0.000000               0.000000   \n",
       "3                        0.000000          0.000000               0.000000   \n",
       "4                        0.014706          0.000000               0.000000   \n",
       "5                        0.000000          0.000000               0.000000   \n",
       "6                        0.000000          0.000000               0.013333   \n",
       "7                        0.020000          0.000000               0.000000   \n",
       "8                        0.000000          0.000000               0.000000   \n",
       "9                        0.000000          0.000000               0.000000   \n",
       "10                       0.000000          0.000000               0.000000   \n",
       "11                       0.010000          0.000000               0.000000   \n",
       "12                       0.000000          0.000000               0.000000   \n",
       "13                       0.000000          0.010000               0.010000   \n",
       "14                       0.010000          0.000000               0.000000   \n",
       "15                       0.000000          0.000000               0.000000   \n",
       "16                       0.000000          0.000000               0.000000   \n",
       "17                       0.054054          0.000000               0.040541   \n",
       "18                       0.000000          0.000000               0.000000   \n",
       "19                       0.022222          0.000000               0.044444   \n",
       "20                       0.000000          0.000000               0.000000   \n",
       "21                       0.000000          0.000000               0.000000   \n",
       "22                       0.000000          0.000000               0.000000   \n",
       "23                       0.000000          0.000000               0.000000   \n",
       "24                       0.000000          0.000000               0.000000   \n",
       "25                       0.010000          0.000000               0.000000   \n",
       "26                       0.000000          0.000000               0.000000   \n",
       "27                       0.000000          0.000000               0.000000   \n",
       "28                       0.030303          0.000000               0.000000   \n",
       "29                       0.011765          0.000000               0.000000   \n",
       "30                       0.000000          0.000000               0.000000   \n",
       "31                       0.010417          0.000000               0.000000   \n",
       "32                       0.000000          0.000000               0.000000   \n",
       "33                       0.000000          0.000000               0.071429   \n",
       "34                       0.000000          0.000000               0.000000   \n",
       "35                       0.000000          0.000000               0.000000   \n",
       "36                       0.000000          0.000000               0.000000   \n",
       "37                       0.010000          0.000000               0.000000   \n",
       "38                       0.000000          0.029412               0.000000   \n",
       "\n",
       "    Wine Bar  Women's Store  Yoga Studio  \n",
       "0   0.000000           0.00     0.000000  \n",
       "1   0.000000           0.00     0.000000  \n",
       "2   0.000000           0.00     0.000000  \n",
       "3   0.000000           0.00     0.000000  \n",
       "4   0.014706           0.00     0.014706  \n",
       "5   0.000000           0.00     0.000000  \n",
       "6   0.000000           0.00     0.026667  \n",
       "7   0.010000           0.00     0.000000  \n",
       "8   0.000000           0.00     0.000000  \n",
       "9   0.000000           0.00     0.000000  \n",
       "10  0.000000           0.00     0.000000  \n",
       "11  0.010000           0.00     0.000000  \n",
       "12  0.000000           0.00     0.000000  \n",
       "13  0.010000           0.00     0.000000  \n",
       "14  0.010000           0.00     0.000000  \n",
       "15  0.000000           0.00     0.000000  \n",
       "16  0.000000           0.00     0.000000  \n",
       "17  0.013514           0.00     0.000000  \n",
       "18  0.000000           0.00     0.000000  \n",
       "19  0.022222           0.00     0.022222  \n",
       "20  0.000000           0.00     0.000000  \n",
       "21  0.000000           0.00     0.055556  \n",
       "22  0.000000           0.00     0.000000  \n",
       "23  0.000000           0.00     0.030303  \n",
       "24  0.000000           0.00     0.022727  \n",
       "25  0.000000           0.01     0.000000  \n",
       "26  0.000000           0.00     0.000000  \n",
       "27  0.000000           0.00     0.000000  \n",
       "28  0.000000           0.00     0.030303  \n",
       "29  0.011765           0.00     0.000000  \n",
       "30  0.000000           0.00     0.000000  \n",
       "31  0.000000           0.00     0.010417  \n",
       "32  0.027027           0.00     0.027027  \n",
       "33  0.000000           0.00     0.000000  \n",
       "34  0.000000           0.00     0.000000  \n",
       "35  0.000000           0.00     0.000000  \n",
       "36  0.000000           0.00     0.023256  \n",
       "37  0.010000           0.00     0.000000  \n",
       "38  0.000000           0.00     0.029412  \n",
       "\n",
       "[39 rows x 237 columns]"
      ],
      "text/html": "<div>\n<style scoped>\n    .dataframe tbody tr th:only-of-type {\n        vertical-align: middle;\n    }\n\n    .dataframe tbody tr th {\n        vertical-align: top;\n    }\n\n    .dataframe thead th {\n        text-align: right;\n    }\n</style>\n<table border=\"1\" class=\"dataframe\">\n  <thead>\n    <tr style=\"text-align: right;\">\n      <th></th>\n      <th>Neighbourhood</th>\n      <th>Afghan Restaurant</th>\n      <th>Airport</th>\n      <th>Airport Food Court</th>\n      <th>Airport Gate</th>\n      <th>Airport Lounge</th>\n      <th>Airport Service</th>\n      <th>Airport Terminal</th>\n      <th>American Restaurant</th>\n      <th>Antique Shop</th>\n      <th>...</th>\n      <th>Theme Restaurant</th>\n      <th>Toy / Game Store</th>\n      <th>Trail</th>\n      <th>Train Station</th>\n      <th>Vegetarian / Vegan Restaurant</th>\n      <th>Video Game Store</th>\n      <th>Vietnamese Restaurant</th>\n      <th>Wine Bar</th>\n      <th>Women's Store</th>\n      <th>Yoga Studio</th>\n    </tr>\n  </thead>\n  <tbody>\n    <tr>\n      <th>0</th>\n      <td>Berczy Park</td>\n      <td>0.000000</td>\n      <td>0.0000</td>\n      <td>0.0000</td>\n      <td>0.0000</td>\n      <td>0.000</td>\n      <td>0.000</td>\n      <td>0.0000</td>\n      <td>0.000000</td>\n      <td>0.000000</td>\n      <td>...</td>\n      <td>0.000000</td>\n      <td>0.000000</td>\n      <td>0.000000</td>\n      <td>0.00</td>\n      <td>0.018182</td>\n      <td>0.000000</td>\n      <td>0.000000</td>\n      <td>0.000000</td>\n      <td>0.00</td>\n      <td>0.000000</td>\n    </tr>\n    <tr>\n      <th>1</th>\n      <td>Brockton, Parkdale Village, Exhibition Place</td>\n      <td>0.000000</td>\n      <td>0.0000</td>\n      <td>0.0000</td>\n      <td>0.0000</td>\n      <td>0.000</td>\n      <td>0.000</td>\n      <td>0.0000</td>\n      <td>0.000000</td>\n      <td>0.000000</td>\n      <td>...</td>\n      <td>0.000000</td>\n      <td>0.000000</td>\n      <td>0.000000</td>\n      <td>0.00</td>\n      <td>0.000000</td>\n      <td>0.000000</td>\n      <td>0.000000</td>\n      <td>0.000000</td>\n      <td>0.00</td>\n      <td>0.000000</td>\n    </tr>\n    <tr>\n      <th>2</th>\n      <td>Business reply mail Processing Centre, South C...</td>\n      <td>0.000000</td>\n      <td>0.0000</td>\n      <td>0.0000</td>\n      <td>0.0000</td>\n      <td>0.000</td>\n      <td>0.000</td>\n      <td>0.0000</td>\n      <td>0.000000</td>\n      <td>0.000000</td>\n      <td>...</td>\n      <td>0.000000</td>\n      <td>0.000000</td>\n      <td>0.000000</td>\n      <td>0.00</td>\n      <td>0.000000</td>\n      <td>0.000000</td>\n      <td>0.000000</td>\n      <td>0.000000</td>\n      <td>0.00</td>\n      <td>0.000000</td>\n    </tr>\n    <tr>\n      <th>3</th>\n      <td>CN Tower, King and Spadina, Railway Lands, Har...</td>\n      <td>0.000000</td>\n      <td>0.0625</td>\n      <td>0.0625</td>\n      <td>0.0625</td>\n      <td>0.125</td>\n      <td>0.125</td>\n      <td>0.0625</td>\n      <td>0.000000</td>\n      <td>0.000000</td>\n      <td>...</td>\n      <td>0.000000</td>\n      <td>0.000000</td>\n      <td>0.000000</td>\n      <td>0.00</td>\n      <td>0.000000</td>\n      <td>0.000000</td>\n      <td>0.000000</td>\n      <td>0.000000</td>\n      <td>0.00</td>\n      <td>0.000000</td>\n    </tr>\n    <tr>\n      <th>4</th>\n      <td>Central Bay Street</td>\n      <td>0.000000</td>\n      <td>0.0000</td>\n      <td>0.0000</td>\n      <td>0.0000</td>\n      <td>0.000</td>\n      <td>0.000</td>\n      <td>0.0000</td>\n      <td>0.000000</td>\n      <td>0.000000</td>\n      <td>...</td>\n      <td>0.000000</td>\n      <td>0.000000</td>\n      <td>0.000000</td>\n      <td>0.00</td>\n      <td>0.014706</td>\n      <td>0.000000</td>\n      <td>0.000000</td>\n      <td>0.014706</td>\n      <td>0.00</td>\n      <td>0.014706</td>\n    </tr>\n    <tr>\n      <th>5</th>\n      <td>Christie</td>\n      <td>0.000000</td>\n      <td>0.0000</td>\n      <td>0.0000</td>\n      <td>0.0000</td>\n      <td>0.000</td>\n      <td>0.000</td>\n      <td>0.0000</td>\n      <td>0.000000</td>\n      <td>0.000000</td>\n      <td>...</td>\n      <td>0.000000</td>\n      <td>0.000000</td>\n      <td>0.000000</td>\n      <td>0.00</td>\n      <td>0.000000</td>\n      <td>0.000000</td>\n      <td>0.000000</td>\n      <td>0.000000</td>\n      <td>0.00</td>\n      <td>0.000000</td>\n    </tr>\n    <tr>\n      <th>6</th>\n      <td>Church and Wellesley</td>\n      <td>0.013333</td>\n      <td>0.0000</td>\n      <td>0.0000</td>\n      <td>0.0000</td>\n      <td>0.000</td>\n      <td>0.000</td>\n      <td>0.0000</td>\n      <td>0.013333</td>\n      <td>0.000000</td>\n      <td>...</td>\n      <td>0.013333</td>\n      <td>0.000000</td>\n      <td>0.000000</td>\n      <td>0.00</td>\n      <td>0.000000</td>\n      <td>0.000000</td>\n      <td>0.013333</td>\n      <td>0.000000</td>\n      <td>0.00</td>\n      <td>0.026667</td>\n    </tr>\n    <tr>\n      <th>7</th>\n      <td>Commerce Court, Victoria Hotel</td>\n      <td>0.000000</td>\n      <td>0.0000</td>\n      <td>0.0000</td>\n      <td>0.0000</td>\n      <td>0.000</td>\n      <td>0.000</td>\n      <td>0.0000</td>\n      <td>0.040000</td>\n      <td>0.000000</td>\n      <td>...</td>\n      <td>0.000000</td>\n      <td>0.000000</td>\n      <td>0.000000</td>\n      <td>0.00</td>\n      <td>0.020000</td>\n      <td>0.000000</td>\n      <td>0.000000</td>\n      <td>0.010000</td>\n      <td>0.00</td>\n      <td>0.000000</td>\n    </tr>\n    <tr>\n      <th>8</th>\n      <td>Davisville</td>\n      <td>0.000000</td>\n      <td>0.0000</td>\n      <td>0.0000</td>\n      <td>0.0000</td>\n      <td>0.000</td>\n      <td>0.000</td>\n      <td>0.0000</td>\n      <td>0.000000</td>\n      <td>0.000000</td>\n      <td>...</td>\n      <td>0.000000</td>\n      <td>0.030303</td>\n      <td>0.000000</td>\n      <td>0.00</td>\n      <td>0.000000</td>\n      <td>0.000000</td>\n      <td>0.000000</td>\n      <td>0.000000</td>\n      <td>0.00</td>\n      <td>0.000000</td>\n    </tr>\n    <tr>\n      <th>9</th>\n      <td>Davisville North</td>\n      <td>0.000000</td>\n      <td>0.0000</td>\n      <td>0.0000</td>\n      <td>0.0000</td>\n      <td>0.000</td>\n      <td>0.000</td>\n      <td>0.0000</td>\n      <td>0.000000</td>\n      <td>0.000000</td>\n      <td>...</td>\n      <td>0.000000</td>\n      <td>0.000000</td>\n      <td>0.000000</td>\n      <td>0.00</td>\n      <td>0.000000</td>\n      <td>0.000000</td>\n      <td>0.000000</td>\n      <td>0.000000</td>\n      <td>0.00</td>\n      <td>0.000000</td>\n    </tr>\n    <tr>\n      <th>10</th>\n      <td>Dufferin, Dovercourt Village</td>\n      <td>0.000000</td>\n      <td>0.0000</td>\n      <td>0.0000</td>\n      <td>0.0000</td>\n      <td>0.000</td>\n      <td>0.000</td>\n      <td>0.0000</td>\n      <td>0.000000</td>\n      <td>0.000000</td>\n      <td>...</td>\n      <td>0.000000</td>\n      <td>0.000000</td>\n      <td>0.000000</td>\n      <td>0.00</td>\n      <td>0.000000</td>\n      <td>0.000000</td>\n      <td>0.000000</td>\n      <td>0.000000</td>\n      <td>0.00</td>\n      <td>0.000000</td>\n    </tr>\n    <tr>\n      <th>11</th>\n      <td>First Canadian Place, Underground city</td>\n      <td>0.000000</td>\n      <td>0.0000</td>\n      <td>0.0000</td>\n      <td>0.0000</td>\n      <td>0.000</td>\n      <td>0.000</td>\n      <td>0.0000</td>\n      <td>0.030000</td>\n      <td>0.000000</td>\n      <td>...</td>\n      <td>0.000000</td>\n      <td>0.000000</td>\n      <td>0.000000</td>\n      <td>0.01</td>\n      <td>0.010000</td>\n      <td>0.000000</td>\n      <td>0.000000</td>\n      <td>0.010000</td>\n      <td>0.00</td>\n      <td>0.000000</td>\n    </tr>\n    <tr>\n      <th>12</th>\n      <td>Forest Hill North &amp; West, Forest Hill Road Park</td>\n      <td>0.000000</td>\n      <td>0.0000</td>\n      <td>0.0000</td>\n      <td>0.0000</td>\n      <td>0.000</td>\n      <td>0.000</td>\n      <td>0.0000</td>\n      <td>0.000000</td>\n      <td>0.000000</td>\n      <td>...</td>\n      <td>0.000000</td>\n      <td>0.000000</td>\n      <td>0.250000</td>\n      <td>0.00</td>\n      <td>0.000000</td>\n      <td>0.000000</td>\n      <td>0.000000</td>\n      <td>0.000000</td>\n      <td>0.00</td>\n      <td>0.000000</td>\n    </tr>\n    <tr>\n      <th>13</th>\n      <td>Garden District, Ryerson</td>\n      <td>0.000000</td>\n      <td>0.0000</td>\n      <td>0.0000</td>\n      <td>0.0000</td>\n      <td>0.000</td>\n      <td>0.000</td>\n      <td>0.0000</td>\n      <td>0.000000</td>\n      <td>0.000000</td>\n      <td>...</td>\n      <td>0.000000</td>\n      <td>0.010000</td>\n      <td>0.000000</td>\n      <td>0.00</td>\n      <td>0.000000</td>\n      <td>0.010000</td>\n      <td>0.010000</td>\n      <td>0.010000</td>\n      <td>0.00</td>\n      <td>0.000000</td>\n    </tr>\n    <tr>\n      <th>14</th>\n      <td>Harbourfront East, Union Station, Toronto Islands</td>\n      <td>0.000000</td>\n      <td>0.0000</td>\n      <td>0.0000</td>\n      <td>0.0000</td>\n      <td>0.000</td>\n      <td>0.000</td>\n      <td>0.0000</td>\n      <td>0.000000</td>\n      <td>0.000000</td>\n      <td>...</td>\n      <td>0.000000</td>\n      <td>0.000000</td>\n      <td>0.000000</td>\n      <td>0.01</td>\n      <td>0.010000</td>\n      <td>0.000000</td>\n      <td>0.000000</td>\n      <td>0.010000</td>\n      <td>0.00</td>\n      <td>0.000000</td>\n    </tr>\n    <tr>\n      <th>15</th>\n      <td>High Park, The Junction South</td>\n      <td>0.000000</td>\n      <td>0.0000</td>\n      <td>0.0000</td>\n      <td>0.0000</td>\n      <td>0.000</td>\n      <td>0.000</td>\n      <td>0.0000</td>\n      <td>0.000000</td>\n      <td>0.040000</td>\n      <td>...</td>\n      <td>0.000000</td>\n      <td>0.000000</td>\n      <td>0.000000</td>\n      <td>0.00</td>\n      <td>0.000000</td>\n      <td>0.000000</td>\n      <td>0.000000</td>\n      <td>0.000000</td>\n      <td>0.00</td>\n      <td>0.000000</td>\n    </tr>\n    <tr>\n      <th>16</th>\n      <td>India Bazaar, The Beaches West</td>\n      <td>0.000000</td>\n      <td>0.0000</td>\n      <td>0.0000</td>\n      <td>0.0000</td>\n      <td>0.000</td>\n      <td>0.000</td>\n      <td>0.0000</td>\n      <td>0.000000</td>\n      <td>0.000000</td>\n      <td>...</td>\n      <td>0.000000</td>\n      <td>0.000000</td>\n      <td>0.000000</td>\n      <td>0.00</td>\n      <td>0.000000</td>\n      <td>0.000000</td>\n      <td>0.000000</td>\n      <td>0.000000</td>\n      <td>0.00</td>\n      <td>0.000000</td>\n    </tr>\n    <tr>\n      <th>17</th>\n      <td>Kensington Market, Chinatown, Grange Park</td>\n      <td>0.000000</td>\n      <td>0.0000</td>\n      <td>0.0000</td>\n      <td>0.0000</td>\n      <td>0.000</td>\n      <td>0.000</td>\n      <td>0.0000</td>\n      <td>0.000000</td>\n      <td>0.000000</td>\n      <td>...</td>\n      <td>0.000000</td>\n      <td>0.000000</td>\n      <td>0.000000</td>\n      <td>0.00</td>\n      <td>0.054054</td>\n      <td>0.000000</td>\n      <td>0.040541</td>\n      <td>0.013514</td>\n      <td>0.00</td>\n      <td>0.000000</td>\n    </tr>\n    <tr>\n      <th>18</th>\n      <td>Lawrence Park</td>\n      <td>0.000000</td>\n      <td>0.0000</td>\n      <td>0.0000</td>\n      <td>0.0000</td>\n      <td>0.000</td>\n      <td>0.000</td>\n      <td>0.0000</td>\n      <td>0.000000</td>\n      <td>0.000000</td>\n      <td>...</td>\n      <td>0.000000</td>\n      <td>0.000000</td>\n      <td>0.000000</td>\n      <td>0.00</td>\n      <td>0.000000</td>\n      <td>0.000000</td>\n      <td>0.000000</td>\n      <td>0.000000</td>\n      <td>0.00</td>\n      <td>0.000000</td>\n    </tr>\n    <tr>\n      <th>19</th>\n      <td>Little Portugal, Trinity</td>\n      <td>0.000000</td>\n      <td>0.0000</td>\n      <td>0.0000</td>\n      <td>0.0000</td>\n      <td>0.000</td>\n      <td>0.000</td>\n      <td>0.0000</td>\n      <td>0.000000</td>\n      <td>0.000000</td>\n      <td>...</td>\n      <td>0.000000</td>\n      <td>0.000000</td>\n      <td>0.000000</td>\n      <td>0.00</td>\n      <td>0.022222</td>\n      <td>0.000000</td>\n      <td>0.044444</td>\n      <td>0.022222</td>\n      <td>0.00</td>\n      <td>0.022222</td>\n    </tr>\n    <tr>\n      <th>20</th>\n      <td>Moore Park, Summerhill East</td>\n      <td>0.000000</td>\n      <td>0.0000</td>\n      <td>0.0000</td>\n      <td>0.0000</td>\n      <td>0.000</td>\n      <td>0.000</td>\n      <td>0.0000</td>\n      <td>0.000000</td>\n      <td>0.000000</td>\n      <td>...</td>\n      <td>0.000000</td>\n      <td>0.000000</td>\n      <td>0.500000</td>\n      <td>0.00</td>\n      <td>0.000000</td>\n      <td>0.000000</td>\n      <td>0.000000</td>\n      <td>0.000000</td>\n      <td>0.00</td>\n      <td>0.000000</td>\n    </tr>\n    <tr>\n      <th>21</th>\n      <td>North Toronto West, Lawrence Park</td>\n      <td>0.000000</td>\n      <td>0.0000</td>\n      <td>0.0000</td>\n      <td>0.0000</td>\n      <td>0.000</td>\n      <td>0.000</td>\n      <td>0.0000</td>\n      <td>0.000000</td>\n      <td>0.000000</td>\n      <td>...</td>\n      <td>0.000000</td>\n      <td>0.000000</td>\n      <td>0.000000</td>\n      <td>0.00</td>\n      <td>0.000000</td>\n      <td>0.000000</td>\n      <td>0.000000</td>\n      <td>0.000000</td>\n      <td>0.00</td>\n      <td>0.055556</td>\n    </tr>\n    <tr>\n      <th>22</th>\n      <td>Parkdale, Roncesvalles</td>\n      <td>0.000000</td>\n      <td>0.0000</td>\n      <td>0.0000</td>\n      <td>0.0000</td>\n      <td>0.000</td>\n      <td>0.000</td>\n      <td>0.0000</td>\n      <td>0.000000</td>\n      <td>0.000000</td>\n      <td>...</td>\n      <td>0.000000</td>\n      <td>0.000000</td>\n      <td>0.000000</td>\n      <td>0.00</td>\n      <td>0.000000</td>\n      <td>0.000000</td>\n      <td>0.000000</td>\n      <td>0.000000</td>\n      <td>0.00</td>\n      <td>0.000000</td>\n    </tr>\n    <tr>\n      <th>23</th>\n      <td>Queen's Park, Ontario Provincial Government</td>\n      <td>0.000000</td>\n      <td>0.0000</td>\n      <td>0.0000</td>\n      <td>0.0000</td>\n      <td>0.000</td>\n      <td>0.000</td>\n      <td>0.0000</td>\n      <td>0.000000</td>\n      <td>0.000000</td>\n      <td>...</td>\n      <td>0.000000</td>\n      <td>0.000000</td>\n      <td>0.000000</td>\n      <td>0.00</td>\n      <td>0.000000</td>\n      <td>0.000000</td>\n      <td>0.000000</td>\n      <td>0.000000</td>\n      <td>0.00</td>\n      <td>0.030303</td>\n    </tr>\n    <tr>\n      <th>24</th>\n      <td>Regent Park, Harbourfront</td>\n      <td>0.000000</td>\n      <td>0.0000</td>\n      <td>0.0000</td>\n      <td>0.0000</td>\n      <td>0.000</td>\n      <td>0.000</td>\n      <td>0.0000</td>\n      <td>0.000000</td>\n      <td>0.022727</td>\n      <td>...</td>\n      <td>0.000000</td>\n      <td>0.000000</td>\n      <td>0.000000</td>\n      <td>0.00</td>\n      <td>0.000000</td>\n      <td>0.000000</td>\n      <td>0.000000</td>\n      <td>0.000000</td>\n      <td>0.00</td>\n      <td>0.022727</td>\n    </tr>\n    <tr>\n      <th>25</th>\n      <td>Richmond, Adelaide, King</td>\n      <td>0.000000</td>\n      <td>0.0000</td>\n      <td>0.0000</td>\n      <td>0.0000</td>\n      <td>0.000</td>\n      <td>0.000</td>\n      <td>0.0000</td>\n      <td>0.020000</td>\n      <td>0.000000</td>\n      <td>...</td>\n      <td>0.000000</td>\n      <td>0.010000</td>\n      <td>0.000000</td>\n      <td>0.00</td>\n      <td>0.010000</td>\n      <td>0.000000</td>\n      <td>0.000000</td>\n      <td>0.000000</td>\n      <td>0.01</td>\n      <td>0.000000</td>\n    </tr>\n    <tr>\n      <th>26</th>\n      <td>Rosedale</td>\n      <td>0.000000</td>\n      <td>0.0000</td>\n      <td>0.0000</td>\n      <td>0.0000</td>\n      <td>0.000</td>\n      <td>0.000</td>\n      <td>0.0000</td>\n      <td>0.000000</td>\n      <td>0.000000</td>\n      <td>...</td>\n      <td>0.000000</td>\n      <td>0.000000</td>\n      <td>0.250000</td>\n      <td>0.00</td>\n      <td>0.000000</td>\n      <td>0.000000</td>\n      <td>0.000000</td>\n      <td>0.000000</td>\n      <td>0.00</td>\n      <td>0.000000</td>\n    </tr>\n    <tr>\n      <th>27</th>\n      <td>Roselawn</td>\n      <td>0.000000</td>\n      <td>0.0000</td>\n      <td>0.0000</td>\n      <td>0.0000</td>\n      <td>0.000</td>\n      <td>0.000</td>\n      <td>0.0000</td>\n      <td>0.000000</td>\n      <td>0.000000</td>\n      <td>...</td>\n      <td>0.000000</td>\n      <td>0.000000</td>\n      <td>0.000000</td>\n      <td>0.00</td>\n      <td>0.000000</td>\n      <td>0.000000</td>\n      <td>0.000000</td>\n      <td>0.000000</td>\n      <td>0.00</td>\n      <td>0.000000</td>\n    </tr>\n    <tr>\n      <th>28</th>\n      <td>Runnymede, Swansea</td>\n      <td>0.000000</td>\n      <td>0.0000</td>\n      <td>0.0000</td>\n      <td>0.0000</td>\n      <td>0.000</td>\n      <td>0.000</td>\n      <td>0.0000</td>\n      <td>0.000000</td>\n      <td>0.000000</td>\n      <td>...</td>\n      <td>0.000000</td>\n      <td>0.000000</td>\n      <td>0.000000</td>\n      <td>0.00</td>\n      <td>0.030303</td>\n      <td>0.000000</td>\n      <td>0.000000</td>\n      <td>0.000000</td>\n      <td>0.00</td>\n      <td>0.030303</td>\n    </tr>\n    <tr>\n      <th>29</th>\n      <td>St. James Town</td>\n      <td>0.000000</td>\n      <td>0.0000</td>\n      <td>0.0000</td>\n      <td>0.0000</td>\n      <td>0.000</td>\n      <td>0.000</td>\n      <td>0.0000</td>\n      <td>0.035294</td>\n      <td>0.000000</td>\n      <td>...</td>\n      <td>0.000000</td>\n      <td>0.000000</td>\n      <td>0.000000</td>\n      <td>0.00</td>\n      <td>0.011765</td>\n      <td>0.000000</td>\n      <td>0.000000</td>\n      <td>0.011765</td>\n      <td>0.00</td>\n      <td>0.000000</td>\n    </tr>\n    <tr>\n      <th>30</th>\n      <td>St. James Town, Cabbagetown</td>\n      <td>0.000000</td>\n      <td>0.0000</td>\n      <td>0.0000</td>\n      <td>0.0000</td>\n      <td>0.000</td>\n      <td>0.000</td>\n      <td>0.0000</td>\n      <td>0.000000</td>\n      <td>0.000000</td>\n      <td>...</td>\n      <td>0.000000</td>\n      <td>0.000000</td>\n      <td>0.000000</td>\n      <td>0.00</td>\n      <td>0.000000</td>\n      <td>0.000000</td>\n      <td>0.000000</td>\n      <td>0.000000</td>\n      <td>0.00</td>\n      <td>0.000000</td>\n    </tr>\n    <tr>\n      <th>31</th>\n      <td>Stn A PO Boxes</td>\n      <td>0.000000</td>\n      <td>0.0000</td>\n      <td>0.0000</td>\n      <td>0.0000</td>\n      <td>0.000</td>\n      <td>0.000</td>\n      <td>0.0000</td>\n      <td>0.010417</td>\n      <td>0.010417</td>\n      <td>...</td>\n      <td>0.000000</td>\n      <td>0.000000</td>\n      <td>0.000000</td>\n      <td>0.00</td>\n      <td>0.010417</td>\n      <td>0.000000</td>\n      <td>0.000000</td>\n      <td>0.000000</td>\n      <td>0.00</td>\n      <td>0.010417</td>\n    </tr>\n    <tr>\n      <th>32</th>\n      <td>Studio District</td>\n      <td>0.000000</td>\n      <td>0.0000</td>\n      <td>0.0000</td>\n      <td>0.0000</td>\n      <td>0.000</td>\n      <td>0.000</td>\n      <td>0.0000</td>\n      <td>0.054054</td>\n      <td>0.000000</td>\n      <td>...</td>\n      <td>0.000000</td>\n      <td>0.000000</td>\n      <td>0.000000</td>\n      <td>0.00</td>\n      <td>0.000000</td>\n      <td>0.000000</td>\n      <td>0.000000</td>\n      <td>0.027027</td>\n      <td>0.00</td>\n      <td>0.027027</td>\n    </tr>\n    <tr>\n      <th>33</th>\n      <td>Summerhill West, Rathnelly, South Hill, Forest...</td>\n      <td>0.000000</td>\n      <td>0.0000</td>\n      <td>0.0000</td>\n      <td>0.0000</td>\n      <td>0.000</td>\n      <td>0.000</td>\n      <td>0.0000</td>\n      <td>0.071429</td>\n      <td>0.000000</td>\n      <td>...</td>\n      <td>0.000000</td>\n      <td>0.000000</td>\n      <td>0.000000</td>\n      <td>0.00</td>\n      <td>0.000000</td>\n      <td>0.000000</td>\n      <td>0.071429</td>\n      <td>0.000000</td>\n      <td>0.00</td>\n      <td>0.000000</td>\n    </tr>\n    <tr>\n      <th>34</th>\n      <td>The Annex, North Midtown, Yorkville</td>\n      <td>0.000000</td>\n      <td>0.0000</td>\n      <td>0.0000</td>\n      <td>0.0000</td>\n      <td>0.000</td>\n      <td>0.000</td>\n      <td>0.0000</td>\n      <td>0.000000</td>\n      <td>0.000000</td>\n      <td>...</td>\n      <td>0.000000</td>\n      <td>0.000000</td>\n      <td>0.000000</td>\n      <td>0.00</td>\n      <td>0.000000</td>\n      <td>0.000000</td>\n      <td>0.000000</td>\n      <td>0.000000</td>\n      <td>0.00</td>\n      <td>0.000000</td>\n    </tr>\n    <tr>\n      <th>35</th>\n      <td>The Beaches</td>\n      <td>0.000000</td>\n      <td>0.0000</td>\n      <td>0.0000</td>\n      <td>0.0000</td>\n      <td>0.000</td>\n      <td>0.000</td>\n      <td>0.0000</td>\n      <td>0.000000</td>\n      <td>0.000000</td>\n      <td>...</td>\n      <td>0.000000</td>\n      <td>0.000000</td>\n      <td>0.250000</td>\n      <td>0.00</td>\n      <td>0.000000</td>\n      <td>0.000000</td>\n      <td>0.000000</td>\n      <td>0.000000</td>\n      <td>0.00</td>\n      <td>0.000000</td>\n    </tr>\n    <tr>\n      <th>36</th>\n      <td>The Danforth West, Riverdale</td>\n      <td>0.000000</td>\n      <td>0.0000</td>\n      <td>0.0000</td>\n      <td>0.0000</td>\n      <td>0.000</td>\n      <td>0.000</td>\n      <td>0.0000</td>\n      <td>0.023256</td>\n      <td>0.000000</td>\n      <td>...</td>\n      <td>0.000000</td>\n      <td>0.000000</td>\n      <td>0.023256</td>\n      <td>0.00</td>\n      <td>0.000000</td>\n      <td>0.000000</td>\n      <td>0.000000</td>\n      <td>0.000000</td>\n      <td>0.00</td>\n      <td>0.023256</td>\n    </tr>\n    <tr>\n      <th>37</th>\n      <td>Toronto Dominion Centre, Design Exchange</td>\n      <td>0.000000</td>\n      <td>0.0000</td>\n      <td>0.0000</td>\n      <td>0.0000</td>\n      <td>0.000</td>\n      <td>0.000</td>\n      <td>0.0000</td>\n      <td>0.030000</td>\n      <td>0.000000</td>\n      <td>...</td>\n      <td>0.000000</td>\n      <td>0.000000</td>\n      <td>0.000000</td>\n      <td>0.01</td>\n      <td>0.010000</td>\n      <td>0.000000</td>\n      <td>0.000000</td>\n      <td>0.010000</td>\n      <td>0.00</td>\n      <td>0.000000</td>\n    </tr>\n    <tr>\n      <th>38</th>\n      <td>University of Toronto, Harbord</td>\n      <td>0.000000</td>\n      <td>0.0000</td>\n      <td>0.0000</td>\n      <td>0.0000</td>\n      <td>0.000</td>\n      <td>0.000</td>\n      <td>0.0000</td>\n      <td>0.000000</td>\n      <td>0.000000</td>\n      <td>...</td>\n      <td>0.000000</td>\n      <td>0.000000</td>\n      <td>0.000000</td>\n      <td>0.00</td>\n      <td>0.000000</td>\n      <td>0.029412</td>\n      <td>0.000000</td>\n      <td>0.000000</td>\n      <td>0.00</td>\n      <td>0.029412</td>\n    </tr>\n  </tbody>\n</table>\n<p>39 rows × 237 columns</p>\n</div>"
     },
     "metadata": {},
     "execution_count": 35
    }
   ],
   "source": [
    "toronto_grouped = toronto_onehot.groupby('Neighbourhood').mean().reset_index()\n",
    "toronto_grouped"
   ]
  },
  {
   "cell_type": "code",
   "execution_count": 36,
   "metadata": {},
   "outputs": [
    {
     "output_type": "execute_result",
     "data": {
      "text/plain": [
       "(39, 237)"
      ]
     },
     "metadata": {},
     "execution_count": 36
    }
   ],
   "source": [
    "toronto_grouped.shape"
   ]
  },
  {
   "source": [
    "### What are the top 5 most common venues of each neighbourhood?"
   ],
   "cell_type": "markdown",
   "metadata": {}
  },
  {
   "cell_type": "code",
   "execution_count": 37,
   "metadata": {},
   "outputs": [
    {
     "output_type": "stream",
     "name": "stdout",
     "text": [
      "----Berczy Park----\n",
      "                venue  freq\n",
      "0         Coffee Shop  0.09\n",
      "1         Cheese Shop  0.04\n",
      "2      Farmers Market  0.04\n",
      "3              Bakery  0.04\n",
      "4  Seafood Restaurant  0.04\n",
      "\n",
      "\n",
      "----Brockton, Parkdale Village, Exhibition Place----\n",
      "                   venue  freq\n",
      "0                   Café  0.13\n",
      "1         Breakfast Spot  0.09\n",
      "2            Coffee Shop  0.09\n",
      "3              Nightclub  0.09\n",
      "4  Performing Arts Venue  0.04\n",
      "\n",
      "\n",
      "----Business reply mail Processing Centre, South Central Letter Processing Plant Toronto----\n",
      "                  venue  freq\n",
      "0  Gym / Fitness Center  0.06\n",
      "1         Auto Workshop  0.06\n",
      "2         Garden Center  0.06\n",
      "3                Garden  0.06\n",
      "4    Light Rail Station  0.06\n",
      "\n",
      "\n",
      "----CN Tower, King and Spadina, Railway Lands, Harbourfront West, Bathurst Quay, South Niagara, Island airport----\n",
      "                 venue  freq\n",
      "0       Airport Lounge  0.12\n",
      "1      Airport Service  0.12\n",
      "2  Rental Car Location  0.06\n",
      "3      Harbor / Marina  0.06\n",
      "4             Boutique  0.06\n",
      "\n",
      "\n",
      "----Central Bay Street----\n",
      "                venue  freq\n",
      "0         Coffee Shop  0.18\n",
      "1                Café  0.06\n",
      "2      Sandwich Place  0.04\n",
      "3  Italian Restaurant  0.04\n",
      "4     Thai Restaurant  0.03\n",
      "\n",
      "\n",
      "----Christie----\n",
      "           venue  freq\n",
      "0  Grocery Store  0.25\n",
      "1           Café  0.19\n",
      "2           Park  0.12\n",
      "3     Restaurant  0.06\n",
      "4      Nightclub  0.06\n",
      "\n",
      "\n",
      "----Church and Wellesley----\n",
      "                 venue  freq\n",
      "0          Coffee Shop  0.09\n",
      "1  Japanese Restaurant  0.05\n",
      "2     Sushi Restaurant  0.05\n",
      "3              Gay Bar  0.05\n",
      "4           Restaurant  0.04\n",
      "\n",
      "\n",
      "----Commerce Court, Victoria Hotel----\n",
      "         venue  freq\n",
      "0  Coffee Shop  0.12\n",
      "1   Restaurant  0.07\n",
      "2        Hotel  0.06\n",
      "3         Café  0.06\n",
      "4          Gym  0.04\n",
      "\n",
      "\n",
      "----Davisville----\n",
      "            venue  freq\n",
      "0  Sandwich Place  0.09\n",
      "1     Pizza Place  0.09\n",
      "2    Dessert Shop  0.09\n",
      "3            Café  0.06\n",
      "4             Gym  0.06\n",
      "\n",
      "\n",
      "----Davisville North----\n",
      "                  venue  freq\n",
      "0  Gym / Fitness Center  0.11\n",
      "1     Food & Drink Shop  0.11\n",
      "2          Dance Studio  0.11\n",
      "3      Department Store  0.11\n",
      "4               Dog Run  0.11\n",
      "\n",
      "\n",
      "----Dufferin, Dovercourt Village----\n",
      "         venue  freq\n",
      "0     Pharmacy  0.15\n",
      "1       Bakery  0.15\n",
      "2      Brewery  0.08\n",
      "3          Bar  0.08\n",
      "4  Supermarket  0.08\n",
      "\n",
      "\n",
      "----First Canadian Place, Underground city----\n",
      "                 venue  freq\n",
      "0          Coffee Shop  0.10\n",
      "1                 Café  0.07\n",
      "2           Restaurant  0.04\n",
      "3  Japanese Restaurant  0.04\n",
      "4                  Gym  0.04\n",
      "\n",
      "\n",
      "----Forest Hill North & West, Forest Hill Road Park----\n",
      "                 venue  freq\n",
      "0                 Park  0.25\n",
      "1        Jewelry Store  0.25\n",
      "2                Trail  0.25\n",
      "3     Sushi Restaurant  0.25\n",
      "4  Monument / Landmark  0.00\n",
      "\n",
      "\n",
      "----Garden District, Ryerson----\n",
      "                 venue  freq\n",
      "0       Clothing Store  0.09\n",
      "1          Coffee Shop  0.09\n",
      "2                 Café  0.04\n",
      "3       Cosmetics Shop  0.03\n",
      "4  Japanese Restaurant  0.03\n",
      "\n",
      "\n",
      "----Harbourfront East, Union Station, Toronto Islands----\n",
      "                 venue  freq\n",
      "0          Coffee Shop  0.13\n",
      "1             Aquarium  0.05\n",
      "2                Hotel  0.04\n",
      "3                 Café  0.04\n",
      "4  Fried Chicken Joint  0.03\n",
      "\n",
      "\n",
      "----High Park, The Junction South----\n",
      "                 venue  freq\n",
      "0   Mexican Restaurant  0.08\n",
      "1                 Café  0.08\n",
      "2      Thai Restaurant  0.08\n",
      "3                  Bar  0.08\n",
      "4  Fried Chicken Joint  0.04\n",
      "\n",
      "\n",
      "----India Bazaar, The Beaches West----\n",
      "                venue  freq\n",
      "0                Park  0.11\n",
      "1  Italian Restaurant  0.05\n",
      "2           Pet Store  0.05\n",
      "3         Coffee Shop  0.05\n",
      "4                 Pub  0.05\n",
      "\n",
      "\n",
      "----Kensington Market, Chinatown, Grange Park----\n",
      "                           venue  freq\n",
      "0             Mexican Restaurant  0.05\n",
      "1                            Bar  0.05\n",
      "2                    Coffee Shop  0.05\n",
      "3  Vegetarian / Vegan Restaurant  0.05\n",
      "4                           Café  0.05\n",
      "\n",
      "\n",
      "----Lawrence Park----\n",
      "                 venue  freq\n",
      "0                 Park  0.33\n",
      "1             Bus Line  0.33\n",
      "2          Swim School  0.33\n",
      "3    Afghan Restaurant  0.00\n",
      "4  Monument / Landmark  0.00\n",
      "\n",
      "\n",
      "----Little Portugal, Trinity----\n",
      "                   venue  freq\n",
      "0                    Bar  0.09\n",
      "1            Coffee Shop  0.07\n",
      "2             Restaurant  0.04\n",
      "3       Asian Restaurant  0.04\n",
      "4  Vietnamese Restaurant  0.04\n",
      "\n",
      "\n",
      "----Moore Park, Summerhill East----\n",
      "                 venue  freq\n",
      "0           Playground   0.5\n",
      "1                Trail   0.5\n",
      "2    Afghan Restaurant   0.0\n",
      "3  Moroccan Restaurant   0.0\n",
      "4     Malay Restaurant   0.0\n",
      "\n",
      "\n",
      "----North Toronto West, Lawrence Park----\n",
      "            venue  freq\n",
      "0  Clothing Store  0.11\n",
      "1     Coffee Shop  0.11\n",
      "2     Yoga Studio  0.06\n",
      "3           Diner  0.06\n",
      "4      Restaurant  0.06\n",
      "\n",
      "\n",
      "----Parkdale, Roncesvalles----\n",
      "                         venue  freq\n",
      "0               Breakfast Spot  0.14\n",
      "1                    Gift Shop  0.14\n",
      "2  Eastern European Restaurant  0.07\n",
      "3                          Bar  0.07\n",
      "4                Movie Theater  0.07\n",
      "\n",
      "\n",
      "----Queen's Park, Ontario Provincial Government----\n",
      "                   venue  freq\n",
      "0            Coffee Shop  0.24\n",
      "1            Yoga Studio  0.03\n",
      "2  Portuguese Restaurant  0.03\n",
      "3          Smoothie Shop  0.03\n",
      "4                   Café  0.03\n",
      "\n",
      "\n",
      "----Regent Park, Harbourfront----\n",
      "            venue  freq\n",
      "0     Coffee Shop  0.18\n",
      "1             Pub  0.07\n",
      "2          Bakery  0.07\n",
      "3            Park  0.07\n",
      "4  Breakfast Spot  0.05\n",
      "\n",
      "\n",
      "----Richmond, Adelaide, King----\n",
      "         venue  freq\n",
      "0  Coffee Shop  0.08\n",
      "1         Café  0.05\n",
      "2        Hotel  0.04\n",
      "3          Gym  0.04\n",
      "4   Restaurant  0.04\n",
      "\n",
      "\n",
      "----Rosedale----\n",
      "                 venue  freq\n",
      "0                 Park  0.50\n",
      "1           Playground  0.25\n",
      "2                Trail  0.25\n",
      "3  Moroccan Restaurant  0.00\n",
      "4     Malay Restaurant  0.00\n",
      "\n",
      "\n",
      "----Roselawn----\n",
      "                 venue  freq\n",
      "0          Music Venue   0.5\n",
      "1               Garden   0.5\n",
      "2    Afghan Restaurant   0.0\n",
      "3  Moroccan Restaurant   0.0\n",
      "4     Malay Restaurant   0.0\n",
      "\n",
      "\n",
      "----Runnymede, Swansea----\n",
      "                venue  freq\n",
      "0         Coffee Shop  0.09\n",
      "1                Café  0.09\n",
      "2    Sushi Restaurant  0.06\n",
      "3         Pizza Place  0.06\n",
      "4  Italian Restaurant  0.06\n",
      "\n",
      "\n",
      "----St. James Town----\n",
      "          venue  freq\n",
      "0   Coffee Shop  0.07\n",
      "1          Café  0.06\n",
      "2  Cocktail Bar  0.05\n",
      "3    Restaurant  0.05\n",
      "4     Gastropub  0.04\n",
      "\n",
      "\n",
      "----St. James Town, Cabbagetown----\n",
      "                venue  freq\n",
      "0         Coffee Shop  0.08\n",
      "1         Pizza Place  0.06\n",
      "2          Restaurant  0.06\n",
      "3                Café  0.06\n",
      "4  Chinese Restaurant  0.04\n",
      "\n",
      "\n",
      "----Stn A PO Boxes----\n",
      "                venue  freq\n",
      "0         Coffee Shop  0.10\n",
      "1  Italian Restaurant  0.04\n",
      "2                 Pub  0.03\n",
      "3                Café  0.03\n",
      "4  Seafood Restaurant  0.03\n",
      "\n",
      "\n",
      "----Studio District----\n",
      "                 venue  freq\n",
      "0          Coffee Shop  0.08\n",
      "1              Brewery  0.05\n",
      "2                 Café  0.05\n",
      "3  American Restaurant  0.05\n",
      "4               Bakery  0.05\n",
      "\n",
      "\n",
      "----Summerhill West, Rathnelly, South Hill, Forest Hill SE, Deer Park----\n",
      "                 venue  freq\n",
      "0          Coffee Shop  0.14\n",
      "1   Light Rail Station  0.07\n",
      "2         Liquor Store  0.07\n",
      "3  Fried Chicken Joint  0.07\n",
      "4           Restaurant  0.07\n",
      "\n",
      "\n",
      "----The Annex, North Midtown, Yorkville----\n",
      "            venue  freq\n",
      "0            Café  0.16\n",
      "1  Sandwich Place  0.16\n",
      "2     Coffee Shop  0.11\n",
      "3            Park  0.05\n",
      "4  History Museum  0.05\n",
      "\n",
      "\n",
      "----The Beaches----\n",
      "               venue  freq\n",
      "0              Trail  0.25\n",
      "1  Health Food Store  0.25\n",
      "2       Neighborhood  0.25\n",
      "3                Pub  0.25\n",
      "4        Men's Store  0.00\n",
      "\n",
      "\n",
      "----The Danforth West, Riverdale----\n",
      "                    venue  freq\n",
      "0        Greek Restaurant  0.16\n",
      "1             Coffee Shop  0.09\n",
      "2      Italian Restaurant  0.07\n",
      "3  Furniture / Home Store  0.05\n",
      "4          Ice Cream Shop  0.05\n",
      "\n",
      "\n",
      "----Toronto Dominion Centre, Design Exchange----\n",
      "         venue  freq\n",
      "0  Coffee Shop  0.14\n",
      "1        Hotel  0.08\n",
      "2         Café  0.05\n",
      "3   Restaurant  0.05\n",
      "4  Salad Place  0.03\n",
      "\n",
      "\n",
      "----University of Toronto, Harbord----\n",
      "                 venue  freq\n",
      "0                 Café  0.15\n",
      "1            Bookstore  0.09\n",
      "2                  Bar  0.06\n",
      "3  Japanese Restaurant  0.06\n",
      "4       Sandwich Place  0.06\n",
      "\n",
      "\n"
     ]
    }
   ],
   "source": [
    "num_top_venues = 5\n",
    "\n",
    "for hood in toronto_grouped['Neighbourhood']:\n",
    "    print(\"----\" + hood + \"----\")\n",
    "    temp = toronto_grouped[toronto_grouped['Neighbourhood'] == hood].T.reset_index()\n",
    "    temp.columns = ['venue', 'freq']\n",
    "    temp = temp.iloc[1:]\n",
    "    temp['freq'] = temp['freq'].astype(float)\n",
    "    temp = temp.round({'freq': 2})\n",
    "    print(temp.sort_values('freq', ascending = False).reset_index(drop = True).head(num_top_venues))\n",
    "    print('\\n')"
   ]
  },
  {
   "source": [
    "### Define a function to sort the venues in descending order."
   ],
   "cell_type": "markdown",
   "metadata": {}
  },
  {
   "cell_type": "code",
   "execution_count": 38,
   "metadata": {},
   "outputs": [],
   "source": [
    "def most_common_venues(row, num_top_venues):\n",
    "    row_categories = row.iloc[1:]\n",
    "    row_categories_sorted = row_categories.sort_values(ascending = False)\n",
    "    \n",
    "    return row_categories_sorted.index.values[0:num_top_venues]"
   ]
  },
  {
   "source": [
    "### Create a dataframe and Display the top 10 venues for each neighbourhood."
   ],
   "cell_type": "markdown",
   "metadata": {}
  },
  {
   "cell_type": "code",
   "execution_count": 39,
   "metadata": {},
   "outputs": [
    {
     "output_type": "execute_result",
     "data": {
      "text/plain": [
       "                                       Neighbourhood 1st Most Common Venue  \\\n",
       "0                                        Berczy Park           Coffee Shop   \n",
       "1       Brockton, Parkdale Village, Exhibition Place                  Café   \n",
       "2  Business reply mail Processing Centre, South C...                  Park   \n",
       "3  CN Tower, King and Spadina, Railway Lands, Har...        Airport Lounge   \n",
       "4                                 Central Bay Street           Coffee Shop   \n",
       "\n",
       "  2nd Most Common Venue 3rd Most Common Venue 4th Most Common Venue  \\\n",
       "0    Seafood Restaurant          Cocktail Bar        Farmers Market   \n",
       "1        Breakfast Spot             Nightclub           Coffee Shop   \n",
       "2           Pizza Place    Light Rail Station            Skate Park   \n",
       "3       Airport Service              Boutique       Harbor / Marina   \n",
       "4                  Café    Italian Restaurant        Sandwich Place   \n",
       "\n",
       "  5th Most Common Venue 6th Most Common Venue 7th Most Common Venue  \\\n",
       "0              Beer Bar            Restaurant           Cheese Shop   \n",
       "1          Climbing Gym         Burrito Place            Restaurant   \n",
       "2         Burrito Place        Farmers Market  Fast Food Restaurant   \n",
       "3         Boat or Ferry   Rental Car Location                   Bar   \n",
       "4           Salad Place       Bubble Tea Shop      Department Store   \n",
       "\n",
       "  8th Most Common Venue 9th Most Common Venue 10th Most Common Venue  \n",
       "0                Bakery        Sandwich Place       Department Store  \n",
       "1    Italian Restaurant          Intersection                    Bar  \n",
       "2               Butcher            Restaurant       Recording Studio  \n",
       "3                 Plane           Coffee Shop       Sculpture Garden  \n",
       "4          Burger Joint   Japanese Restaurant        Thai Restaurant  "
      ],
      "text/html": "<div>\n<style scoped>\n    .dataframe tbody tr th:only-of-type {\n        vertical-align: middle;\n    }\n\n    .dataframe tbody tr th {\n        vertical-align: top;\n    }\n\n    .dataframe thead th {\n        text-align: right;\n    }\n</style>\n<table border=\"1\" class=\"dataframe\">\n  <thead>\n    <tr style=\"text-align: right;\">\n      <th></th>\n      <th>Neighbourhood</th>\n      <th>1st Most Common Venue</th>\n      <th>2nd Most Common Venue</th>\n      <th>3rd Most Common Venue</th>\n      <th>4th Most Common Venue</th>\n      <th>5th Most Common Venue</th>\n      <th>6th Most Common Venue</th>\n      <th>7th Most Common Venue</th>\n      <th>8th Most Common Venue</th>\n      <th>9th Most Common Venue</th>\n      <th>10th Most Common Venue</th>\n    </tr>\n  </thead>\n  <tbody>\n    <tr>\n      <th>0</th>\n      <td>Berczy Park</td>\n      <td>Coffee Shop</td>\n      <td>Seafood Restaurant</td>\n      <td>Cocktail Bar</td>\n      <td>Farmers Market</td>\n      <td>Beer Bar</td>\n      <td>Restaurant</td>\n      <td>Cheese Shop</td>\n      <td>Bakery</td>\n      <td>Sandwich Place</td>\n      <td>Department Store</td>\n    </tr>\n    <tr>\n      <th>1</th>\n      <td>Brockton, Parkdale Village, Exhibition Place</td>\n      <td>Café</td>\n      <td>Breakfast Spot</td>\n      <td>Nightclub</td>\n      <td>Coffee Shop</td>\n      <td>Climbing Gym</td>\n      <td>Burrito Place</td>\n      <td>Restaurant</td>\n      <td>Italian Restaurant</td>\n      <td>Intersection</td>\n      <td>Bar</td>\n    </tr>\n    <tr>\n      <th>2</th>\n      <td>Business reply mail Processing Centre, South C...</td>\n      <td>Park</td>\n      <td>Pizza Place</td>\n      <td>Light Rail Station</td>\n      <td>Skate Park</td>\n      <td>Burrito Place</td>\n      <td>Farmers Market</td>\n      <td>Fast Food Restaurant</td>\n      <td>Butcher</td>\n      <td>Restaurant</td>\n      <td>Recording Studio</td>\n    </tr>\n    <tr>\n      <th>3</th>\n      <td>CN Tower, King and Spadina, Railway Lands, Har...</td>\n      <td>Airport Lounge</td>\n      <td>Airport Service</td>\n      <td>Boutique</td>\n      <td>Harbor / Marina</td>\n      <td>Boat or Ferry</td>\n      <td>Rental Car Location</td>\n      <td>Bar</td>\n      <td>Plane</td>\n      <td>Coffee Shop</td>\n      <td>Sculpture Garden</td>\n    </tr>\n    <tr>\n      <th>4</th>\n      <td>Central Bay Street</td>\n      <td>Coffee Shop</td>\n      <td>Café</td>\n      <td>Italian Restaurant</td>\n      <td>Sandwich Place</td>\n      <td>Salad Place</td>\n      <td>Bubble Tea Shop</td>\n      <td>Department Store</td>\n      <td>Burger Joint</td>\n      <td>Japanese Restaurant</td>\n      <td>Thai Restaurant</td>\n    </tr>\n  </tbody>\n</table>\n</div>"
     },
     "metadata": {},
     "execution_count": 39
    }
   ],
   "source": [
    "num_top_venues = 10\n",
    "\n",
    "indicators = ['st', 'nd', 'rd']\n",
    "\n",
    "# create columns according to number of top venues\n",
    "columns = ['Neighbourhood']\n",
    "for ind in np.arange(num_top_venues):\n",
    "    try:\n",
    "        columns.append('{}{} Most Common Venue'.format(ind + 1, indicators[ind]))\n",
    "    except:\n",
    "        columns.append('{}th Most Common Venue'.format(ind + 1))\n",
    "\n",
    "# create a new dataframe\n",
    "nbh_venues_sorted = pd.DataFrame(columns = columns)\n",
    "nbh_venues_sorted['Neighbourhood'] = toronto_grouped['Neighbourhood']\n",
    "\n",
    "for ind in np.arange(toronto_grouped.shape[0]):\n",
    "    nbh_venues_sorted.iloc[ind, 1:] = most_common_venues(toronto_grouped.iloc[ind, :], num_top_venues)\n",
    "\n",
    "nbh_venues_sorted.head()"
   ]
  },
  {
   "source": [
    "## Cluster Neighbourhoods\n",
    "### Run K-Means to cluster the neighbourhoods into 5 clusters."
   ],
   "cell_type": "markdown",
   "metadata": {}
  },
  {
   "cell_type": "code",
   "execution_count": 40,
   "metadata": {},
   "outputs": [
    {
     "output_type": "execute_result",
     "data": {
      "text/plain": [
       "array([2, 2, 2, 2, 2, 2, 2, 2, 2, 2])"
      ]
     },
     "metadata": {},
     "execution_count": 40
    }
   ],
   "source": [
    "# set number of clusters\n",
    "kclusters = 5\n",
    "\n",
    "toronto_grouped_clustering = toronto_grouped.drop('Neighbourhood', 1)\n",
    "\n",
    "# run k-means clustering\n",
    "kmeans = KMeans(n_clusters = kclusters, random_state = 0).fit(toronto_grouped_clustering)\n",
    "\n",
    "# check cluster labels generated for each row in the dataframe\n",
    "kmeans.labels_[0:10] "
   ]
  },
  {
   "source": [
    "### Create a dataframe to store the cluster as well as the top 10 venues of each neighbourhood."
   ],
   "cell_type": "markdown",
   "metadata": {}
  },
  {
   "cell_type": "code",
   "execution_count": 41,
   "metadata": {},
   "outputs": [
    {
     "output_type": "execute_result",
     "data": {
      "text/plain": [
       "            Borough                                Neighbourhood   Latitude  \\\n",
       "0  Downtown Toronto                    Regent Park, Harbourfront  43.654260   \n",
       "1  Downtown Toronto  Queen's Park, Ontario Provincial Government  43.662301   \n",
       "2  Downtown Toronto                     Garden District, Ryerson  43.657162   \n",
       "3  Downtown Toronto                               St. James Town  43.651494   \n",
       "4      East Toronto                                  The Beaches  43.676357   \n",
       "\n",
       "   Longitude  Cluster Labels 1st Most Common Venue 2nd Most Common Venue  \\\n",
       "0 -79.360636               2           Coffee Shop                  Park   \n",
       "1 -79.389494               2           Coffee Shop           Yoga Studio   \n",
       "2 -79.378937               2        Clothing Store           Coffee Shop   \n",
       "3 -79.375418               2           Coffee Shop                  Café   \n",
       "4 -79.293031               3          Neighborhood                   Pub   \n",
       "\n",
       "  3rd Most Common Venue 4th Most Common Venue  5th Most Common Venue  \\\n",
       "0                   Pub                Bakery                Theater   \n",
       "1                 Diner            Restaurant  Portuguese Restaurant   \n",
       "2                  Café       Bubble Tea Shop    Japanese Restaurant   \n",
       "3          Cocktail Bar            Restaurant               Beer Bar   \n",
       "4     Health Food Store                 Trail            Yoga Studio   \n",
       "\n",
       "  6th Most Common Venue 7th Most Common Venue 8th Most Common Venue  \\\n",
       "0        Breakfast Spot                  Café     Electronics Store   \n",
       "1                  Park           Music Venue    Mexican Restaurant   \n",
       "2        Cosmetics Shop                 Hotel             Bookstore   \n",
       "3             Gastropub   American Restaurant        Farmers Market   \n",
       "4    Dim Sum Restaurant                 Diner        Discount Store   \n",
       "\n",
       "  9th Most Common Venue     10th Most Common Venue  \n",
       "0                   Spa                 Beer Store  \n",
       "1    Italian Restaurant                 Hobby Shop  \n",
       "2           Pizza Place  Middle Eastern Restaurant  \n",
       "3                 Hotel        Japanese Restaurant  \n",
       "4   Distribution Center           Doner Restaurant  "
      ],
      "text/html": "<div>\n<style scoped>\n    .dataframe tbody tr th:only-of-type {\n        vertical-align: middle;\n    }\n\n    .dataframe tbody tr th {\n        vertical-align: top;\n    }\n\n    .dataframe thead th {\n        text-align: right;\n    }\n</style>\n<table border=\"1\" class=\"dataframe\">\n  <thead>\n    <tr style=\"text-align: right;\">\n      <th></th>\n      <th>Borough</th>\n      <th>Neighbourhood</th>\n      <th>Latitude</th>\n      <th>Longitude</th>\n      <th>Cluster Labels</th>\n      <th>1st Most Common Venue</th>\n      <th>2nd Most Common Venue</th>\n      <th>3rd Most Common Venue</th>\n      <th>4th Most Common Venue</th>\n      <th>5th Most Common Venue</th>\n      <th>6th Most Common Venue</th>\n      <th>7th Most Common Venue</th>\n      <th>8th Most Common Venue</th>\n      <th>9th Most Common Venue</th>\n      <th>10th Most Common Venue</th>\n    </tr>\n  </thead>\n  <tbody>\n    <tr>\n      <th>0</th>\n      <td>Downtown Toronto</td>\n      <td>Regent Park, Harbourfront</td>\n      <td>43.654260</td>\n      <td>-79.360636</td>\n      <td>2</td>\n      <td>Coffee Shop</td>\n      <td>Park</td>\n      <td>Pub</td>\n      <td>Bakery</td>\n      <td>Theater</td>\n      <td>Breakfast Spot</td>\n      <td>Café</td>\n      <td>Electronics Store</td>\n      <td>Spa</td>\n      <td>Beer Store</td>\n    </tr>\n    <tr>\n      <th>1</th>\n      <td>Downtown Toronto</td>\n      <td>Queen's Park, Ontario Provincial Government</td>\n      <td>43.662301</td>\n      <td>-79.389494</td>\n      <td>2</td>\n      <td>Coffee Shop</td>\n      <td>Yoga Studio</td>\n      <td>Diner</td>\n      <td>Restaurant</td>\n      <td>Portuguese Restaurant</td>\n      <td>Park</td>\n      <td>Music Venue</td>\n      <td>Mexican Restaurant</td>\n      <td>Italian Restaurant</td>\n      <td>Hobby Shop</td>\n    </tr>\n    <tr>\n      <th>2</th>\n      <td>Downtown Toronto</td>\n      <td>Garden District, Ryerson</td>\n      <td>43.657162</td>\n      <td>-79.378937</td>\n      <td>2</td>\n      <td>Clothing Store</td>\n      <td>Coffee Shop</td>\n      <td>Café</td>\n      <td>Bubble Tea Shop</td>\n      <td>Japanese Restaurant</td>\n      <td>Cosmetics Shop</td>\n      <td>Hotel</td>\n      <td>Bookstore</td>\n      <td>Pizza Place</td>\n      <td>Middle Eastern Restaurant</td>\n    </tr>\n    <tr>\n      <th>3</th>\n      <td>Downtown Toronto</td>\n      <td>St. James Town</td>\n      <td>43.651494</td>\n      <td>-79.375418</td>\n      <td>2</td>\n      <td>Coffee Shop</td>\n      <td>Café</td>\n      <td>Cocktail Bar</td>\n      <td>Restaurant</td>\n      <td>Beer Bar</td>\n      <td>Gastropub</td>\n      <td>American Restaurant</td>\n      <td>Farmers Market</td>\n      <td>Hotel</td>\n      <td>Japanese Restaurant</td>\n    </tr>\n    <tr>\n      <th>4</th>\n      <td>East Toronto</td>\n      <td>The Beaches</td>\n      <td>43.676357</td>\n      <td>-79.293031</td>\n      <td>3</td>\n      <td>Neighborhood</td>\n      <td>Pub</td>\n      <td>Health Food Store</td>\n      <td>Trail</td>\n      <td>Yoga Studio</td>\n      <td>Dim Sum Restaurant</td>\n      <td>Diner</td>\n      <td>Discount Store</td>\n      <td>Distribution Center</td>\n      <td>Doner Restaurant</td>\n    </tr>\n  </tbody>\n</table>\n</div>"
     },
     "metadata": {},
     "execution_count": 41
    }
   ],
   "source": [
    "# add clustering labels\n",
    "nbh_venues_sorted.insert(0, 'Cluster Labels', kmeans.labels_)\n",
    "\n",
    "toronto_merged = df3\n",
    "\n",
    "# merge toronto_grouped with toronto_data to add latitude/longitude for each neighbourhood\n",
    "toronto_merged = toronto_merged.join(nbh_venues_sorted.set_index('Neighbourhood'), on = 'Neighbourhood')\n",
    "\n",
    "toronto_merged.head()"
   ]
  },
  {
   "source": [
    "### Visualise the resulting cluster."
   ],
   "cell_type": "markdown",
   "metadata": {}
  },
  {
   "cell_type": "code",
   "execution_count": 42,
   "metadata": {},
   "outputs": [
    {
     "output_type": "execute_result",
     "data": {
      "text/plain": [
       "<IPython.core.display.HTML object>"
      ],
      "text/html": "<div style=\"width:100%;\"><div style=\"position:relative;width:100%;height:0;padding-bottom:60%;\"><span style=\"color:#565656\">Make this Notebook Trusted to load map: File -> Trust Notebook</span><iframe src=\"about:blank\" style=\"position:absolute;width:100%;height:100%;left:0;top:0;border:none !important;\" data-html=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 onload=\"this.contentDocument.open();this.contentDocument.write(atob(this.getAttribute('data-html')));this.contentDocument.close();\" allowfullscreen webkitallowfullscreen mozallowfullscreen></iframe></div></div>"
     },
     "metadata": {},
     "execution_count": 42
    }
   ],
   "source": [
    "# create map\n",
    "map_clusters = folium.Map(location=[latitude, longitude], zoom_start=12)\n",
    "\n",
    "# set colour scheme for the clusters\n",
    "x = np.arange(kclusters)\n",
    "ys = [i + x + (i * x)**2 for i in range(kclusters)]\n",
    "colours_array = cm.rainbow(np.linspace(0, 1, len(ys)))\n",
    "rainbow = [colors.rgb2hex(i) for i in colours_array]\n",
    "\n",
    "# add markers to the map\n",
    "markers_colours = []\n",
    "for lat, lon, poi, cluster in zip(toronto_merged['Latitude'], toronto_merged['Longitude'], toronto_merged['Neighbourhood'], toronto_merged['Cluster Labels']):\n",
    "    label = folium.Popup(str(poi) + ' Cluster ' + str(cluster), parse_html = True)\n",
    "    folium.CircleMarker(\n",
    "        [lat, lon],\n",
    "        radius = 5,\n",
    "        popup = label,\n",
    "        color = rainbow[cluster - 1],\n",
    "        fill = True,\n",
    "        fill_color = rainbow[cluster - 1],\n",
    "        fill_opacity = 0.7).add_to(map_clusters)\n",
    "       \n",
    "#map_clusters\n",
    "HTML(map_clusters._repr_html_())"
   ]
  },
  {
   "cell_type": "code",
   "execution_count": null,
   "metadata": {},
   "outputs": [],
   "source": []
  }
 ]
}