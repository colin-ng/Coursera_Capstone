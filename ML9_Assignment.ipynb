{
 "metadata": {
  "language_info": {
   "codemirror_mode": {
    "name": "ipython",
    "version": 3
   },
   "file_extension": ".py",
   "mimetype": "text/x-python",
   "name": "python",
   "nbconvert_exporter": "python",
   "pygments_lexer": "ipython3",
   "version": "3.8.5-final"
  },
  "orig_nbformat": 2,
  "kernelspec": {
   "name": "python3",
   "display_name": "Python 3"
  }
 },
 "nbformat": 4,
 "nbformat_minor": 2,
 "cells": [
  {
   "source": [
    "# Peer-Graded Assignment: Segmenting and Clustering Neighborhoods in Toronto\n",
    "\n",
    "## This project is about exploring and clustering neighbourhoods in Toronto, Canada.\n",
    "## Web scraping technique is used to read a HTML table containing postal code, borough and neighbourhoods from the Wiki page https://en.wikipedia.org/wiki/List_of_postal_codes_of_Canada:_M."
   ],
   "cell_type": "markdown",
   "metadata": {}
  },
  {
   "source": [
    "## Imports"
   ],
   "cell_type": "markdown",
   "metadata": {}
  },
  {
   "cell_type": "code",
   "execution_count": 1,
   "metadata": {},
   "outputs": [],
   "source": [
    "import numpy as np\n",
    "import pandas as pd\n",
    "\n",
    "import requests # library to handle requests\n",
    "import json # library to handle JSON files\n",
    "from pandas.io.json import json_normalize # tranform JSON file into a pandas dataframe\n",
    "\n",
    "from geopy.geocoders import Nominatim # convert an address into coordinates\n",
    "\n",
    "# Matplotlib and associated plotting modules\n",
    "import matplotlib.cm as cm\n",
    "import matplotlib.colors as colors\n",
    "\n",
    "import folium # map rendering library\n",
    "\n",
    "from sklearn.cluster import KMeans # import K-Means algorithm\n",
    "\n",
    "%matplotlib inline"
   ]
  },
  {
   "source": [
    "## Get the data"
   ],
   "cell_type": "markdown",
   "metadata": {}
  },
  {
   "cell_type": "code",
   "execution_count": 2,
   "metadata": {},
   "outputs": [
    {
     "output_type": "execute_result",
     "data": {
      "text/plain": [
       "3"
      ]
     },
     "metadata": {},
     "execution_count": 2
    }
   ],
   "source": [
    "url = 'https://en.wikipedia.org/wiki/List_of_postal_codes_of_Canada:_M'\n",
    "tbl = pd.read_html(url)\n",
    "len(tbl)"
   ]
  },
  {
   "cell_type": "code",
   "execution_count": 3,
   "metadata": {},
   "outputs": [
    {
     "output_type": "execute_result",
     "data": {
      "text/plain": [
       "  Postal Code           Borough              Neighbourhood\n",
       "0         M1A      Not assigned               Not assigned\n",
       "1         M2A      Not assigned               Not assigned\n",
       "2         M3A        North York                  Parkwoods\n",
       "3         M4A        North York           Victoria Village\n",
       "4         M5A  Downtown Toronto  Regent Park, Harbourfront"
      ],
      "text/html": "<div>\n<style scoped>\n    .dataframe tbody tr th:only-of-type {\n        vertical-align: middle;\n    }\n\n    .dataframe tbody tr th {\n        vertical-align: top;\n    }\n\n    .dataframe thead th {\n        text-align: right;\n    }\n</style>\n<table border=\"1\" class=\"dataframe\">\n  <thead>\n    <tr style=\"text-align: right;\">\n      <th></th>\n      <th>Postal Code</th>\n      <th>Borough</th>\n      <th>Neighbourhood</th>\n    </tr>\n  </thead>\n  <tbody>\n    <tr>\n      <th>0</th>\n      <td>M1A</td>\n      <td>Not assigned</td>\n      <td>Not assigned</td>\n    </tr>\n    <tr>\n      <th>1</th>\n      <td>M2A</td>\n      <td>Not assigned</td>\n      <td>Not assigned</td>\n    </tr>\n    <tr>\n      <th>2</th>\n      <td>M3A</td>\n      <td>North York</td>\n      <td>Parkwoods</td>\n    </tr>\n    <tr>\n      <th>3</th>\n      <td>M4A</td>\n      <td>North York</td>\n      <td>Victoria Village</td>\n    </tr>\n    <tr>\n      <th>4</th>\n      <td>M5A</td>\n      <td>Downtown Toronto</td>\n      <td>Regent Park, Harbourfront</td>\n    </tr>\n  </tbody>\n</table>\n</div>"
     },
     "metadata": {},
     "execution_count": 3
    }
   ],
   "source": [
    "df = tbl[0]\n",
    "df.head()"
   ]
  },
  {
   "source": [
    "## Data Wrangling"
   ],
   "cell_type": "markdown",
   "metadata": {}
  },
  {
   "source": [
    "# Display number of rows and columns\n",
    "df.shape"
   ],
   "cell_type": "code",
   "metadata": {},
   "execution_count": 4,
   "outputs": [
    {
     "output_type": "execute_result",
     "data": {
      "text/plain": [
       "(180, 3)"
      ]
     },
     "metadata": {},
     "execution_count": 4
    }
   ]
  },
  {
   "source": [
    "### Remove rows with that the borough is having 'Not assigned'."
   ],
   "cell_type": "markdown",
   "metadata": {}
  },
  {
   "cell_type": "code",
   "execution_count": 5,
   "metadata": {},
   "outputs": [],
   "source": [
    "df.drop(df[df['Borough'] == 'Not assigned'].index, axis = 0, inplace = True)"
   ]
  },
  {
   "source": [
    "### To double check that all rows which borough is 'Not assigned' are removed."
   ],
   "cell_type": "markdown",
   "metadata": {}
  },
  {
   "cell_type": "code",
   "execution_count": 6,
   "metadata": {},
   "outputs": [
    {
     "output_type": "execute_result",
     "data": {
      "text/plain": [
       "Postal Code      False\n",
       "Borough          False\n",
       "Neighbourhood    False\n",
       "dtype: bool"
      ]
     },
     "metadata": {},
     "execution_count": 6
    }
   ],
   "source": [
    "df[df['Borough'] == 'Not assigned'].any()"
   ]
  },
  {
   "source": [
    "### Check if there's duplicated 'Postal Code' row."
   ],
   "cell_type": "markdown",
   "metadata": {}
  },
  {
   "cell_type": "code",
   "execution_count": 7,
   "metadata": {},
   "outputs": [
    {
     "output_type": "execute_result",
     "data": {
      "text/plain": [
       "False"
      ]
     },
     "metadata": {},
     "execution_count": 7
    }
   ],
   "source": [
    "df['Postal Code'].duplicated().any()"
   ]
  },
  {
   "source": [
    "### Display number of rows and columns after the dataframe is cleaned."
   ],
   "cell_type": "markdown",
   "metadata": {}
  },
  {
   "cell_type": "code",
   "execution_count": 8,
   "metadata": {},
   "outputs": [],
   "source": [
    "df.reset_index(drop = True, inplace = True)"
   ]
  },
  {
   "cell_type": "code",
   "execution_count": 9,
   "metadata": {},
   "outputs": [
    {
     "output_type": "execute_result",
     "data": {
      "text/plain": [
       "   Postal Code           Borough  \\\n",
       "0          M3A        North York   \n",
       "1          M4A        North York   \n",
       "2          M5A  Downtown Toronto   \n",
       "3          M6A        North York   \n",
       "4          M7A  Downtown Toronto   \n",
       "5          M9A         Etobicoke   \n",
       "6          M1B       Scarborough   \n",
       "7          M3B        North York   \n",
       "8          M4B         East York   \n",
       "9          M5B  Downtown Toronto   \n",
       "10         M6B        North York   \n",
       "11         M9B         Etobicoke   \n",
       "\n",
       "                                        Neighbourhood  \n",
       "0                                           Parkwoods  \n",
       "1                                    Victoria Village  \n",
       "2                           Regent Park, Harbourfront  \n",
       "3                    Lawrence Manor, Lawrence Heights  \n",
       "4         Queen's Park, Ontario Provincial Government  \n",
       "5             Islington Avenue, Humber Valley Village  \n",
       "6                                      Malvern, Rouge  \n",
       "7                                           Don Mills  \n",
       "8                     Parkview Hill, Woodbine Gardens  \n",
       "9                            Garden District, Ryerson  \n",
       "10                                          Glencairn  \n",
       "11  West Deane Park, Princess Gardens, Martin Grov...  "
      ],
      "text/html": "<div>\n<style scoped>\n    .dataframe tbody tr th:only-of-type {\n        vertical-align: middle;\n    }\n\n    .dataframe tbody tr th {\n        vertical-align: top;\n    }\n\n    .dataframe thead th {\n        text-align: right;\n    }\n</style>\n<table border=\"1\" class=\"dataframe\">\n  <thead>\n    <tr style=\"text-align: right;\">\n      <th></th>\n      <th>Postal Code</th>\n      <th>Borough</th>\n      <th>Neighbourhood</th>\n    </tr>\n  </thead>\n  <tbody>\n    <tr>\n      <th>0</th>\n      <td>M3A</td>\n      <td>North York</td>\n      <td>Parkwoods</td>\n    </tr>\n    <tr>\n      <th>1</th>\n      <td>M4A</td>\n      <td>North York</td>\n      <td>Victoria Village</td>\n    </tr>\n    <tr>\n      <th>2</th>\n      <td>M5A</td>\n      <td>Downtown Toronto</td>\n      <td>Regent Park, Harbourfront</td>\n    </tr>\n    <tr>\n      <th>3</th>\n      <td>M6A</td>\n      <td>North York</td>\n      <td>Lawrence Manor, Lawrence Heights</td>\n    </tr>\n    <tr>\n      <th>4</th>\n      <td>M7A</td>\n      <td>Downtown Toronto</td>\n      <td>Queen's Park, Ontario Provincial Government</td>\n    </tr>\n    <tr>\n      <th>5</th>\n      <td>M9A</td>\n      <td>Etobicoke</td>\n      <td>Islington Avenue, Humber Valley Village</td>\n    </tr>\n    <tr>\n      <th>6</th>\n      <td>M1B</td>\n      <td>Scarborough</td>\n      <td>Malvern, Rouge</td>\n    </tr>\n    <tr>\n      <th>7</th>\n      <td>M3B</td>\n      <td>North York</td>\n      <td>Don Mills</td>\n    </tr>\n    <tr>\n      <th>8</th>\n      <td>M4B</td>\n      <td>East York</td>\n      <td>Parkview Hill, Woodbine Gardens</td>\n    </tr>\n    <tr>\n      <th>9</th>\n      <td>M5B</td>\n      <td>Downtown Toronto</td>\n      <td>Garden District, Ryerson</td>\n    </tr>\n    <tr>\n      <th>10</th>\n      <td>M6B</td>\n      <td>North York</td>\n      <td>Glencairn</td>\n    </tr>\n    <tr>\n      <th>11</th>\n      <td>M9B</td>\n      <td>Etobicoke</td>\n      <td>West Deane Park, Princess Gardens, Martin Grov...</td>\n    </tr>\n  </tbody>\n</table>\n</div>"
     },
     "metadata": {},
     "execution_count": 9
    }
   ],
   "source": [
    "df.head(12)"
   ]
  },
  {
   "cell_type": "code",
   "execution_count": 10,
   "metadata": {},
   "outputs": [
    {
     "output_type": "execute_result",
     "data": {
      "text/plain": [
       "(103, 3)"
      ]
     },
     "metadata": {},
     "execution_count": 10
    }
   ],
   "source": [
    "df.shape"
   ]
  },
  {
   "source": [
    "### Get coorindates of all postal codes in the dataframe."
   ],
   "cell_type": "markdown",
   "metadata": {}
  },
  {
   "cell_type": "code",
   "execution_count": 11,
   "metadata": {},
   "outputs": [
    {
     "output_type": "execute_result",
     "data": {
      "text/plain": [
       "  Postal Code   Latitude  Longitude\n",
       "0         M1B  43.806686 -79.194353\n",
       "1         M1C  43.784535 -79.160497\n",
       "2         M1E  43.763573 -79.188711\n",
       "3         M1G  43.770992 -79.216917\n",
       "4         M1H  43.773136 -79.239476"
      ],
      "text/html": "<div>\n<style scoped>\n    .dataframe tbody tr th:only-of-type {\n        vertical-align: middle;\n    }\n\n    .dataframe tbody tr th {\n        vertical-align: top;\n    }\n\n    .dataframe thead th {\n        text-align: right;\n    }\n</style>\n<table border=\"1\" class=\"dataframe\">\n  <thead>\n    <tr style=\"text-align: right;\">\n      <th></th>\n      <th>Postal Code</th>\n      <th>Latitude</th>\n      <th>Longitude</th>\n    </tr>\n  </thead>\n  <tbody>\n    <tr>\n      <th>0</th>\n      <td>M1B</td>\n      <td>43.806686</td>\n      <td>-79.194353</td>\n    </tr>\n    <tr>\n      <th>1</th>\n      <td>M1C</td>\n      <td>43.784535</td>\n      <td>-79.160497</td>\n    </tr>\n    <tr>\n      <th>2</th>\n      <td>M1E</td>\n      <td>43.763573</td>\n      <td>-79.188711</td>\n    </tr>\n    <tr>\n      <th>3</th>\n      <td>M1G</td>\n      <td>43.770992</td>\n      <td>-79.216917</td>\n    </tr>\n    <tr>\n      <th>4</th>\n      <td>M1H</td>\n      <td>43.773136</td>\n      <td>-79.239476</td>\n    </tr>\n  </tbody>\n</table>\n</div>"
     },
     "metadata": {},
     "execution_count": 11
    }
   ],
   "source": [
    "df1 = pd.read_csv('Geospatial_Coordinates.csv')\n",
    "df1.head()"
   ]
  },
  {
   "source": [
    "### Merge dataframes to get the coorindates for all postal codes."
   ],
   "cell_type": "markdown",
   "metadata": {}
  },
  {
   "cell_type": "code",
   "execution_count": 12,
   "metadata": {},
   "outputs": [
    {
     "output_type": "execute_result",
     "data": {
      "text/plain": [
       "   Postal Code           Borough  \\\n",
       "0          M3A        North York   \n",
       "1          M4A        North York   \n",
       "2          M5A  Downtown Toronto   \n",
       "3          M6A        North York   \n",
       "4          M7A  Downtown Toronto   \n",
       "5          M9A         Etobicoke   \n",
       "6          M1B       Scarborough   \n",
       "7          M3B        North York   \n",
       "8          M4B         East York   \n",
       "9          M5B  Downtown Toronto   \n",
       "10         M6B        North York   \n",
       "11         M9B         Etobicoke   \n",
       "\n",
       "                                        Neighbourhood   Latitude  Longitude  \n",
       "0                                           Parkwoods  43.753259 -79.329656  \n",
       "1                                    Victoria Village  43.725882 -79.315572  \n",
       "2                           Regent Park, Harbourfront  43.654260 -79.360636  \n",
       "3                    Lawrence Manor, Lawrence Heights  43.718518 -79.464763  \n",
       "4         Queen's Park, Ontario Provincial Government  43.662301 -79.389494  \n",
       "5             Islington Avenue, Humber Valley Village  43.667856 -79.532242  \n",
       "6                                      Malvern, Rouge  43.806686 -79.194353  \n",
       "7                                           Don Mills  43.745906 -79.352188  \n",
       "8                     Parkview Hill, Woodbine Gardens  43.706397 -79.309937  \n",
       "9                            Garden District, Ryerson  43.657162 -79.378937  \n",
       "10                                          Glencairn  43.709577 -79.445073  \n",
       "11  West Deane Park, Princess Gardens, Martin Grov...  43.650943 -79.554724  "
      ],
      "text/html": "<div>\n<style scoped>\n    .dataframe tbody tr th:only-of-type {\n        vertical-align: middle;\n    }\n\n    .dataframe tbody tr th {\n        vertical-align: top;\n    }\n\n    .dataframe thead th {\n        text-align: right;\n    }\n</style>\n<table border=\"1\" class=\"dataframe\">\n  <thead>\n    <tr style=\"text-align: right;\">\n      <th></th>\n      <th>Postal Code</th>\n      <th>Borough</th>\n      <th>Neighbourhood</th>\n      <th>Latitude</th>\n      <th>Longitude</th>\n    </tr>\n  </thead>\n  <tbody>\n    <tr>\n      <th>0</th>\n      <td>M3A</td>\n      <td>North York</td>\n      <td>Parkwoods</td>\n      <td>43.753259</td>\n      <td>-79.329656</td>\n    </tr>\n    <tr>\n      <th>1</th>\n      <td>M4A</td>\n      <td>North York</td>\n      <td>Victoria Village</td>\n      <td>43.725882</td>\n      <td>-79.315572</td>\n    </tr>\n    <tr>\n      <th>2</th>\n      <td>M5A</td>\n      <td>Downtown Toronto</td>\n      <td>Regent Park, Harbourfront</td>\n      <td>43.654260</td>\n      <td>-79.360636</td>\n    </tr>\n    <tr>\n      <th>3</th>\n      <td>M6A</td>\n      <td>North York</td>\n      <td>Lawrence Manor, Lawrence Heights</td>\n      <td>43.718518</td>\n      <td>-79.464763</td>\n    </tr>\n    <tr>\n      <th>4</th>\n      <td>M7A</td>\n      <td>Downtown Toronto</td>\n      <td>Queen's Park, Ontario Provincial Government</td>\n      <td>43.662301</td>\n      <td>-79.389494</td>\n    </tr>\n    <tr>\n      <th>5</th>\n      <td>M9A</td>\n      <td>Etobicoke</td>\n      <td>Islington Avenue, Humber Valley Village</td>\n      <td>43.667856</td>\n      <td>-79.532242</td>\n    </tr>\n    <tr>\n      <th>6</th>\n      <td>M1B</td>\n      <td>Scarborough</td>\n      <td>Malvern, Rouge</td>\n      <td>43.806686</td>\n      <td>-79.194353</td>\n    </tr>\n    <tr>\n      <th>7</th>\n      <td>M3B</td>\n      <td>North York</td>\n      <td>Don Mills</td>\n      <td>43.745906</td>\n      <td>-79.352188</td>\n    </tr>\n    <tr>\n      <th>8</th>\n      <td>M4B</td>\n      <td>East York</td>\n      <td>Parkview Hill, Woodbine Gardens</td>\n      <td>43.706397</td>\n      <td>-79.309937</td>\n    </tr>\n    <tr>\n      <th>9</th>\n      <td>M5B</td>\n      <td>Downtown Toronto</td>\n      <td>Garden District, Ryerson</td>\n      <td>43.657162</td>\n      <td>-79.378937</td>\n    </tr>\n    <tr>\n      <th>10</th>\n      <td>M6B</td>\n      <td>North York</td>\n      <td>Glencairn</td>\n      <td>43.709577</td>\n      <td>-79.445073</td>\n    </tr>\n    <tr>\n      <th>11</th>\n      <td>M9B</td>\n      <td>Etobicoke</td>\n      <td>West Deane Park, Princess Gardens, Martin Grov...</td>\n      <td>43.650943</td>\n      <td>-79.554724</td>\n    </tr>\n  </tbody>\n</table>\n</div>"
     },
     "metadata": {},
     "execution_count": 12
    }
   ],
   "source": [
    "df2 = df.merge(df1)\n",
    "df2.head(12)"
   ]
  },
  {
   "source": [
    "### Verify that the new dataframe contains all rows merged from the original dataframe and also contains coorindates."
   ],
   "cell_type": "markdown",
   "metadata": {}
  },
  {
   "cell_type": "code",
   "execution_count": 13,
   "metadata": {},
   "outputs": [
    {
     "output_type": "execute_result",
     "data": {
      "text/plain": [
       "(103, 5)"
      ]
     },
     "metadata": {},
     "execution_count": 13
    }
   ],
   "source": [
    "df2.shape"
   ]
  },
  {
   "cell_type": "code",
   "execution_count": 14,
   "metadata": {},
   "outputs": [
    {
     "output_type": "execute_result",
     "data": {
      "text/plain": [
       "array(['North York', 'Downtown Toronto', 'Etobicoke', 'Scarborough',\n",
       "       'East York', 'York', 'East Toronto', 'West Toronto',\n",
       "       'Central Toronto', 'Mississauga'], dtype=object)"
      ]
     },
     "metadata": {},
     "execution_count": 14
    }
   ],
   "source": [
    "df2['Borough'].unique()"
   ]
  },
  {
   "source": [
    "## Exploratory Data Analysis\n",
    "### Let's just focus on neighbourhoods in Toronto."
   ],
   "cell_type": "markdown",
   "metadata": {}
  },
  {
   "cell_type": "code",
   "execution_count": 15,
   "metadata": {},
   "outputs": [],
   "source": [
    "toronto = ['Downtown Toronto', 'East Toronto', 'West Toronto', 'Central Toronto']\n",
    "df3 = df2.loc[df2['Borough'].isin(toronto)].reset_index(drop = True)"
   ]
  },
  {
   "cell_type": "code",
   "execution_count": 16,
   "metadata": {},
   "outputs": [
    {
     "output_type": "execute_result",
     "data": {
      "text/plain": [
       "  Postal Code           Borough                                Neighbourhood  \\\n",
       "0         M5A  Downtown Toronto                    Regent Park, Harbourfront   \n",
       "1         M7A  Downtown Toronto  Queen's Park, Ontario Provincial Government   \n",
       "2         M5B  Downtown Toronto                     Garden District, Ryerson   \n",
       "3         M5C  Downtown Toronto                               St. James Town   \n",
       "4         M4E      East Toronto                                  The Beaches   \n",
       "\n",
       "    Latitude  Longitude  \n",
       "0  43.654260 -79.360636  \n",
       "1  43.662301 -79.389494  \n",
       "2  43.657162 -79.378937  \n",
       "3  43.651494 -79.375418  \n",
       "4  43.676357 -79.293031  "
      ],
      "text/html": "<div>\n<style scoped>\n    .dataframe tbody tr th:only-of-type {\n        vertical-align: middle;\n    }\n\n    .dataframe tbody tr th {\n        vertical-align: top;\n    }\n\n    .dataframe thead th {\n        text-align: right;\n    }\n</style>\n<table border=\"1\" class=\"dataframe\">\n  <thead>\n    <tr style=\"text-align: right;\">\n      <th></th>\n      <th>Postal Code</th>\n      <th>Borough</th>\n      <th>Neighbourhood</th>\n      <th>Latitude</th>\n      <th>Longitude</th>\n    </tr>\n  </thead>\n  <tbody>\n    <tr>\n      <th>0</th>\n      <td>M5A</td>\n      <td>Downtown Toronto</td>\n      <td>Regent Park, Harbourfront</td>\n      <td>43.654260</td>\n      <td>-79.360636</td>\n    </tr>\n    <tr>\n      <th>1</th>\n      <td>M7A</td>\n      <td>Downtown Toronto</td>\n      <td>Queen's Park, Ontario Provincial Government</td>\n      <td>43.662301</td>\n      <td>-79.389494</td>\n    </tr>\n    <tr>\n      <th>2</th>\n      <td>M5B</td>\n      <td>Downtown Toronto</td>\n      <td>Garden District, Ryerson</td>\n      <td>43.657162</td>\n      <td>-79.378937</td>\n    </tr>\n    <tr>\n      <th>3</th>\n      <td>M5C</td>\n      <td>Downtown Toronto</td>\n      <td>St. James Town</td>\n      <td>43.651494</td>\n      <td>-79.375418</td>\n    </tr>\n    <tr>\n      <th>4</th>\n      <td>M4E</td>\n      <td>East Toronto</td>\n      <td>The Beaches</td>\n      <td>43.676357</td>\n      <td>-79.293031</td>\n    </tr>\n  </tbody>\n</table>\n</div>"
     },
     "metadata": {},
     "execution_count": 16
    }
   ],
   "source": [
    "df3.head()"
   ]
  },
  {
   "cell_type": "code",
   "execution_count": 17,
   "metadata": {},
   "outputs": [],
   "source": [
    "# drop the column 'Postal Code' as we've already got the coorindates\n",
    "df3.drop('Postal Code', axis = 1, inplace = True)"
   ]
  },
  {
   "source": [
    "### Get the coorindates for Toronto, Ontario."
   ],
   "cell_type": "markdown",
   "metadata": {}
  },
  {
   "cell_type": "code",
   "execution_count": 18,
   "metadata": {},
   "outputs": [
    {
     "output_type": "stream",
     "name": "stdout",
     "text": [
      "The geograpical coordinate of Toronto, Ontraio are 43.6534817, -79.3839347.\n"
     ]
    }
   ],
   "source": [
    "address = 'Toronto, Ontario'\n",
    "\n",
    "geolocator = Nominatim(user_agent=\"trt_explorer\")\n",
    "location = geolocator.geocode(address)\n",
    "latitude = location.latitude\n",
    "longitude = location.longitude\n",
    "print('The geograpical coordinate of Toronto, Ontraio are {}, {}.'.format(latitude, longitude))"
   ]
  },
  {
   "source": [
    "### Visualise the Toronto neighbourhoods by using Folium."
   ],
   "cell_type": "markdown",
   "metadata": {}
  },
  {
   "cell_type": "code",
   "execution_count": 19,
   "metadata": {},
   "outputs": [
    {
     "output_type": "execute_result",
     "data": {
      "text/plain": [
       "<folium.folium.Map at 0x1a0929c83d0>"
      ],
      "text/html": "<div style=\"width:100%;\"><div style=\"position:relative;width:100%;height:0;padding-bottom:60%;\"><span style=\"color:#565656\">Make this Notebook Trusted to load map: File -> Trust Notebook</span><iframe src=\"about:blank\" style=\"position:absolute;width:100%;height:100%;left:0;top:0;border:none !important;\" data-html=PCFET0NUWVBFIGh0bWw+CjxoZWFkPiAgICAKICAgIDxtZXRhIGh0dHAtZXF1aXY9ImNvbnRlbnQtdHlwZSIgY29udGVudD0idGV4dC9odG1sOyBjaGFyc2V0PVVURi04IiAvPgogICAgPHNjcmlwdD5MX1BSRUZFUl9DQU5WQVMgPSBmYWxzZTsgTF9OT19UT1VDSCA9IGZhbHNlOyBMX0RJU0FCTEVfM0QgPSBmYWxzZTs8L3NjcmlwdD4KICAgIDxzY3JpcHQgc3JjPSJodHRwczovL2Nkbi5qc2RlbGl2ci5uZXQvbnBtL2xlYWZsZXRAMS4yLjAvZGlzdC9sZWFmbGV0LmpzIj48L3NjcmlwdD4KICAgIDxzY3JpcHQgc3JjPSJodHRwczovL2FqYXguZ29vZ2xlYXBpcy5jb20vYWpheC9saWJzL2pxdWVyeS8xLjExLjEvanF1ZXJ5Lm1pbi5qcyI+PC9zY3JpcHQ+CiAgICA8c2NyaXB0IHNyYz0iaHR0cHM6Ly9tYXhjZG4uYm9vdHN0cmFwY2RuLmNvbS9ib290c3RyYXAvMy4yLjAvanMvYm9vdHN0cmFwLm1pbi5qcyI+PC9zY3JpcHQ+CiAgICA8c2NyaXB0IHNyYz0iaHR0cHM6Ly9jZG5qcy5jbG91ZGZsYXJlLmNvbS9hamF4L2xpYnMvTGVhZmxldC5hd2Vzb21lLW1hcmtlcnMvMi4wLjIvbGVhZmxldC5hd2Vzb21lLW1hcmtlcnMuanMiPjwvc2NyaXB0PgogICAgPGxpbmsgcmVsPSJzdHlsZXNoZWV0IiBocmVmPSJodHRwczovL2Nkbi5qc2RlbGl2ci5uZXQvbnBtL2xlYWZsZXRAMS4yLjAvZGlzdC9sZWFmbGV0LmNzcyIvPgogICAgPGxpbmsgcmVsPSJzdHlsZXNoZWV0IiBocmVmPSJodHRwczovL21heGNkbi5ib290c3RyYXBjZG4uY29tL2Jvb3RzdHJhcC8zLjIuMC9jc3MvYm9vdHN0cmFwLm1pbi5jc3MiLz4KICAgIDxsaW5rIHJlbD0ic3R5bGVzaGVldCIgaHJlZj0iaHR0cHM6Ly9tYXhjZG4uYm9vdHN0cmFwY2RuLmNvbS9ib290c3RyYXAvMy4yLjAvY3NzL2Jvb3RzdHJhcC10aGVtZS5taW4uY3NzIi8+CiAgICA8bGluayByZWw9InN0eWxlc2hlZXQiIGhyZWY9Imh0dHBzOi8vbWF4Y2RuLmJvb3RzdHJhcGNkbi5jb20vZm9udC1hd2Vzb21lLzQuNi4zL2Nzcy9mb250LWF3ZXNvbWUubWluLmNzcyIvPgogICAgPGxpbmsgcmVsPSJzdHlsZXNoZWV0IiBocmVmPSJodHRwczovL2NkbmpzLmNsb3VkZmxhcmUuY29tL2FqYXgvbGlicy9MZWFmbGV0LmF3ZXNvbWUtbWFya2Vycy8yLjAuMi9sZWFmbGV0LmF3ZXNvbWUtbWFya2Vycy5jc3MiLz4KICAgIDxsaW5rIHJlbD0ic3R5bGVzaGVldCIgaHJlZj0iaHR0cHM6Ly9yYXdnaXQuY29tL3B5dGhvbi12aXN1YWxpemF0aW9uL2ZvbGl1bS9tYXN0ZXIvZm9saXVtL3RlbXBsYXRlcy9sZWFmbGV0LmF3ZXNvbWUucm90YXRlLmNzcyIvPgogICAgPHN0eWxlPmh0bWwsIGJvZHkge3dpZHRoOiAxMDAlO2hlaWdodDogMTAwJTttYXJnaW46IDA7cGFkZGluZzogMDt9PC9zdHlsZT4KICAgIDxzdHlsZT4jbWFwIHtwb3NpdGlvbjphYnNvbHV0ZTt0b3A6MDtib3R0b206MDtyaWdodDowO2xlZnQ6MDt9PC9zdHlsZT4KICAgIAogICAgICAgICAgICA8c3R5bGU+ICNtYXBfOGJhZTlkZTZjNGI5NGFmOWFhNTlkMzdiY2QwN2QyNzYgewogICAgICAgICAgICAgICAgcG9zaXRpb24gOiByZWxhdGl2ZTsKICAgICAgICAgICAgICAgIHdpZHRoIDogMTAwLjAlOwogICAgICAgICAgICAgICAgaGVpZ2h0OiAxMDAuMCU7CiAgICAgICAgICAgICAgICBsZWZ0OiAwLjAlOwogICAgICAgICAgICAgICAgdG9wOiAwLjAlOwogICAgICAgICAgICAgICAgfQogICAgICAgICAgICA8L3N0eWxlPgogICAgICAgIAo8L2hlYWQ+Cjxib2R5PiAgICAKICAgIAogICAgICAgICAgICA8ZGl2IGNsYXNzPSJmb2xpdW0tbWFwIiBpZD0ibWFwXzhiYWU5ZGU2YzRiOTRhZjlhYTU5ZDM3YmNkMDdkMjc2IiA+PC9kaXY+CiAgICAgICAgCjwvYm9keT4KPHNjcmlwdD4gICAgCiAgICAKCiAgICAgICAgICAgIAogICAgICAgICAgICAgICAgdmFyIGJvdW5kcyA9IG51bGw7CiAgICAgICAgICAgIAoKICAgICAgICAgICAgdmFyIG1hcF84YmFlOWRlNmM0Yjk0YWY5YWE1OWQzN2JjZDA3ZDI3NiA9IEwubWFwKAogICAgICAgICAgICAgICAgICAgICAgICAgICAgICAgICAgJ21hcF84YmFlOWRlNmM0Yjk0YWY5YWE1OWQzN2JjZDA3ZDI3NicsCiAgICAgICAgICAgICAgICAgICAgICAgICAgICAgICAgICB7Y2VudGVyOiBbNDMuNjUzNDgxNywtNzkuMzgzOTM0N10sCiAgICAgICAgICAgICAgICAgICAgICAgICAgICAgICAgICB6b29tOiAxMiwKICAgICAgICAgICAgICAgICAgICAgICAgICAgICAgICAgIG1heEJvdW5kczogYm91bmRzLAogICAgICAgICAgICAgICAgICAgICAgICAgICAgICAgICAgbGF5ZXJzOiBbXSwKICAgICAgICAgICAgICAgICAgICAgICAgICAgICAgICAgIHdvcmxkQ29weUp1bXA6IGZhbHNlLAogICAgICAgICAgICAgICAgICAgICAgICAgICAgICAgICAgY3JzOiBMLkNSUy5FUFNHMzg1NwogICAgICAgICAgICAgICAgICAgICAgICAgICAgICAgICB9KTsKICAgICAgICAgICAgCiAgICAgICAgCiAgICAKICAgICAgICAgICAgdmFyIHRpbGVfbGF5ZXJfMzAyODAxZmRhZGZiNDI1ZDk5MTkzMzMwYWIyMDc3MjcgPSBMLnRpbGVMYXllcigKICAgICAgICAgICAgICAgICdodHRwczovL3tzfS50aWxlLm9wZW5zdHJlZXRtYXAub3JnL3t6fS97eH0ve3l9LnBuZycsCiAgICAgICAgICAgICAgICB7CiAgImF0dHJpYnV0aW9uIjogbnVsbCwKICAiZGV0ZWN0UmV0aW5hIjogZmFsc2UsCiAgIm1heFpvb20iOiAxOCwKICAibWluWm9vbSI6IDEsCiAgIm5vV3JhcCI6IGZhbHNlLAogICJzdWJkb21haW5zIjogImFiYyIKfQogICAgICAgICAgICAgICAgKS5hZGRUbyhtYXBfOGJhZTlkZTZjNGI5NGFmOWFhNTlkMzdiY2QwN2QyNzYpOwogICAgICAgIAogICAgCiAgICAgICAgICAgIHZhciBjaXJjbGVfbWFya2VyXzMzNWQwNjRiZTYxZDQ1N2E5NGNlM2M2YTNmYjZkZDdmID0gTC5jaXJjbGVNYXJrZXIoCiAgICAgICAgICAgICAgICBbNDMuNjU0MjU5OSwtNzkuMzYwNjM1OV0sCiAgICAgICAgICAgICAgICB7CiAgImJ1YmJsaW5nTW91c2VFdmVudHMiOiB0cnVlLAogICJjb2xvciI6ICJibHVlIiwKICAiZGFzaEFycmF5IjogbnVsbCwKICAiZGFzaE9mZnNldCI6IG51bGwsCiAgImZpbGwiOiB0cnVlLAogICJmaWxsQ29sb3IiOiAiIzMxODZjYyIsCiAgImZpbGxPcGFjaXR5IjogMC43LAogICJmaWxsUnVsZSI6ICJldmVub2RkIiwKICAibGluZUNhcCI6ICJyb3VuZCIsCiAgImxpbmVKb2luIjogInJvdW5kIiwKICAib3BhY2l0eSI6IDEuMCwKICAicmFkaXVzIjogNSwKICAic3Ryb2tlIjogdHJ1ZSwKICAid2VpZ2h0IjogMwp9CiAgICAgICAgICAgICAgICApLmFkZFRvKG1hcF84YmFlOWRlNmM0Yjk0YWY5YWE1OWQzN2JjZDA3ZDI3Nik7CiAgICAgICAgICAgIAogICAgCiAgICAgICAgICAgIHZhciBwb3B1cF9iMzVkZWFlNWM5ZTM0NzJkOGY5YjRlZTg4ZjljMjliZiA9IEwucG9wdXAoe21heFdpZHRoOiAnMzAwJ30pOwoKICAgICAgICAgICAgCiAgICAgICAgICAgICAgICB2YXIgaHRtbF80NmQ5MWJiZDRlMmM0MzIyYjZhMmVhNzhlNGIxNWQwOCA9ICQoJzxkaXYgaWQ9Imh0bWxfNDZkOTFiYmQ0ZTJjNDMyMmI2YTJlYTc4ZTRiMTVkMDgiIHN0eWxlPSJ3aWR0aDogMTAwLjAlOyBoZWlnaHQ6IDEwMC4wJTsiPlJlZ2VudCBQYXJrLCBIYXJib3VyZnJvbnQ8L2Rpdj4nKVswXTsKICAgICAgICAgICAgICAgIHBvcHVwX2IzNWRlYWU1YzllMzQ3MmQ4ZjliNGVlODhmOWMyOWJmLnNldENvbnRlbnQoaHRtbF80NmQ5MWJiZDRlMmM0MzIyYjZhMmVhNzhlNGIxNWQwOCk7CiAgICAgICAgICAgIAoKICAgICAgICAgICAgY2lyY2xlX21hcmtlcl8zMzVkMDY0YmU2MWQ0NTdhOTRjZTNjNmEzZmI2ZGQ3Zi5iaW5kUG9wdXAocG9wdXBfYjM1ZGVhZTVjOWUzNDcyZDhmOWI0ZWU4OGY5YzI5YmYpOwoKICAgICAgICAgICAgCiAgICAgICAgCiAgICAKICAgICAgICAgICAgdmFyIGNpcmNsZV9tYXJrZXJfOTdiZjhhYWFkZTE1NDkwOThkMWFlMGU5M2I2NTdkMmMgPSBMLmNpcmNsZU1hcmtlcigKICAgICAgICAgICAgICAgIFs0My42NjIzMDE1LC03OS4zODk0OTM4XSwKICAgICAgICAgICAgICAgIHsKICAiYnViYmxpbmdNb3VzZUV2ZW50cyI6IHRydWUsCiAgImNvbG9yIjogImJsdWUiLAogICJkYXNoQXJyYXkiOiBudWxsLAogICJkYXNoT2Zmc2V0IjogbnVsbCwKICAiZmlsbCI6IHRydWUsCiAgImZpbGxDb2xvciI6ICIjMzE4NmNjIiwKICAiZmlsbE9wYWNpdHkiOiAwLjcsCiAgImZpbGxSdWxlIjogImV2ZW5vZGQiLAogICJsaW5lQ2FwIjogInJvdW5kIiwKICAibGluZUpvaW4iOiAicm91bmQiLAogICJvcGFjaXR5IjogMS4wLAogICJyYWRpdXMiOiA1LAogICJzdHJva2UiOiB0cnVlLAogICJ3ZWlnaHQiOiAzCn0KICAgICAgICAgICAgICAgICkuYWRkVG8obWFwXzhiYWU5ZGU2YzRiOTRhZjlhYTU5ZDM3YmNkMDdkMjc2KTsKICAgICAgICAgICAgCiAgICAKICAgICAgICAgICAgdmFyIHBvcHVwXzJjYWE5MGQ0ZTUyNTRlMWE5Y2JiMGVmOWU5NWUxYjk3ID0gTC5wb3B1cCh7bWF4V2lkdGg6ICczMDAnfSk7CgogICAgICAgICAgICAKICAgICAgICAgICAgICAgIHZhciBodG1sX2ZkN2Y0MjM4YmRhZDQwOTZiM2NkN2M3MmUzNjhjOGZmID0gJCgnPGRpdiBpZD0iaHRtbF9mZDdmNDIzOGJkYWQ0MDk2YjNjZDdjNzJlMzY4YzhmZiIgc3R5bGU9IndpZHRoOiAxMDAuMCU7IGhlaWdodDogMTAwLjAlOyI+UXVlZW4mIzM5O3MgUGFyaywgT250YXJpbyBQcm92aW5jaWFsIEdvdmVybm1lbnQ8L2Rpdj4nKVswXTsKICAgICAgICAgICAgICAgIHBvcHVwXzJjYWE5MGQ0ZTUyNTRlMWE5Y2JiMGVmOWU5NWUxYjk3LnNldENvbnRlbnQoaHRtbF9mZDdmNDIzOGJkYWQ0MDk2YjNjZDdjNzJlMzY4YzhmZik7CiAgICAgICAgICAgIAoKICAgICAgICAgICAgY2lyY2xlX21hcmtlcl85N2JmOGFhYWRlMTU0OTA5OGQxYWUwZTkzYjY1N2QyYy5iaW5kUG9wdXAocG9wdXBfMmNhYTkwZDRlNTI1NGUxYTljYmIwZWY5ZTk1ZTFiOTcpOwoKICAgICAgICAgICAgCiAgICAgICAgCiAgICAKICAgICAgICAgICAgdmFyIGNpcmNsZV9tYXJrZXJfZDAzM2YzZTQzMjk0NGIzMjkxOGNiNjU1OGZjODZiZTMgPSBMLmNpcmNsZU1hcmtlcigKICAgICAgICAgICAgICAgIFs0My42NTcxNjE4LC03OS4zNzg5MzcwOTk5OTk5OV0sCiAgICAgICAgICAgICAgICB7CiAgImJ1YmJsaW5nTW91c2VFdmVudHMiOiB0cnVlLAogICJjb2xvciI6ICJibHVlIiwKICAiZGFzaEFycmF5IjogbnVsbCwKICAiZGFzaE9mZnNldCI6IG51bGwsCiAgImZpbGwiOiB0cnVlLAogICJmaWxsQ29sb3IiOiAiIzMxODZjYyIsCiAgImZpbGxPcGFjaXR5IjogMC43LAogICJmaWxsUnVsZSI6ICJldmVub2RkIiwKICAibGluZUNhcCI6ICJyb3VuZCIsCiAgImxpbmVKb2luIjogInJvdW5kIiwKICAib3BhY2l0eSI6IDEuMCwKICAicmFkaXVzIjogNSwKICAic3Ryb2tlIjogdHJ1ZSwKICAid2VpZ2h0IjogMwp9CiAgICAgICAgICAgICAgICApLmFkZFRvKG1hcF84YmFlOWRlNmM0Yjk0YWY5YWE1OWQzN2JjZDA3ZDI3Nik7CiAgICAgICAgICAgIAogICAgCiAgICAgICAgICAgIHZhciBwb3B1cF81Y2FkZDZkYTZhNTQ0NzM3YWRjOTM5MDk4MTQ5ZjA4OSA9IEwucG9wdXAoe21heFdpZHRoOiAnMzAwJ30pOwoKICAgICAgICAgICAgCiAgICAgICAgICAgICAgICB2YXIgaHRtbF9jMzM4NDVlOGZkYWM0ZWIzYmE3OTEzZWUxMjJkMmJkMCA9ICQoJzxkaXYgaWQ9Imh0bWxfYzMzODQ1ZThmZGFjNGViM2JhNzkxM2VlMTIyZDJiZDAiIHN0eWxlPSJ3aWR0aDogMTAwLjAlOyBoZWlnaHQ6IDEwMC4wJTsiPkdhcmRlbiBEaXN0cmljdCwgUnllcnNvbjwvZGl2PicpWzBdOwogICAgICAgICAgICAgICAgcG9wdXBfNWNhZGQ2ZGE2YTU0NDczN2FkYzkzOTA5ODE0OWYwODkuc2V0Q29udGVudChodG1sX2MzMzg0NWU4ZmRhYzRlYjNiYTc5MTNlZTEyMmQyYmQwKTsKICAgICAgICAgICAgCgogICAgICAgICAgICBjaXJjbGVfbWFya2VyX2QwMzNmM2U0MzI5NDRiMzI5MThjYjY1NThmYzg2YmUzLmJpbmRQb3B1cChwb3B1cF81Y2FkZDZkYTZhNTQ0NzM3YWRjOTM5MDk4MTQ5ZjA4OSk7CgogICAgICAgICAgICAKICAgICAgICAKICAgIAogICAgICAgICAgICB2YXIgY2lyY2xlX21hcmtlcl8wZGI3NjE5Zjg4ZWU0NjhjOGIxYzI5MzU1YTEyODc5ZSA9IEwuY2lyY2xlTWFya2VyKAogICAgICAgICAgICAgICAgWzQzLjY1MTQ5MzksLTc5LjM3NTQxNzldLAogICAgICAgICAgICAgICAgewogICJidWJibGluZ01vdXNlRXZlbnRzIjogdHJ1ZSwKICAiY29sb3IiOiAiYmx1ZSIsCiAgImRhc2hBcnJheSI6IG51bGwsCiAgImRhc2hPZmZzZXQiOiBudWxsLAogICJmaWxsIjogdHJ1ZSwKICAiZmlsbENvbG9yIjogIiMzMTg2Y2MiLAogICJmaWxsT3BhY2l0eSI6IDAuNywKICAiZmlsbFJ1bGUiOiAiZXZlbm9kZCIsCiAgImxpbmVDYXAiOiAicm91bmQiLAogICJsaW5lSm9pbiI6ICJyb3VuZCIsCiAgIm9wYWNpdHkiOiAxLjAsCiAgInJhZGl1cyI6IDUsCiAgInN0cm9rZSI6IHRydWUsCiAgIndlaWdodCI6IDMKfQogICAgICAgICAgICAgICAgKS5hZGRUbyhtYXBfOGJhZTlkZTZjNGI5NGFmOWFhNTlkMzdiY2QwN2QyNzYpOwogICAgICAgICAgICAKICAgIAogICAgICAgICAgICB2YXIgcG9wdXBfMTQ4ZDVlOGVkMWY1NDNkZDkxYzFlNDdmOWU1YjNkNjMgPSBMLnBvcHVwKHttYXhXaWR0aDogJzMwMCd9KTsKCiAgICAgICAgICAgIAogICAgICAgICAgICAgICAgdmFyIGh0bWxfNzdkM2E4ZGYyOWE2NDc1YTkxNjU2ZmIyZjJkODYwOGQgPSAkKCc8ZGl2IGlkPSJodG1sXzc3ZDNhOGRmMjlhNjQ3NWE5MTY1NmZiMmYyZDg2MDhkIiBzdHlsZT0id2lkdGg6IDEwMC4wJTsgaGVpZ2h0OiAxMDAuMCU7Ij5TdC4gSmFtZXMgVG93bjwvZGl2PicpWzBdOwogICAgICAgICAgICAgICAgcG9wdXBfMTQ4ZDVlOGVkMWY1NDNkZDkxYzFlNDdmOWU1YjNkNjMuc2V0Q29udGVudChodG1sXzc3ZDNhOGRmMjlhNjQ3NWE5MTY1NmZiMmYyZDg2MDhkKTsKICAgICAgICAgICAgCgogICAgICAgICAgICBjaXJjbGVfbWFya2VyXzBkYjc2MTlmODhlZTQ2OGM4YjFjMjkzNTVhMTI4NzllLmJpbmRQb3B1cChwb3B1cF8xNDhkNWU4ZWQxZjU0M2RkOTFjMWU0N2Y5ZTViM2Q2Myk7CgogICAgICAgICAgICAKICAgICAgICAKICAgIAogICAgICAgICAgICB2YXIgY2lyY2xlX21hcmtlcl81YThjMDVhNmU2MTA0NzFmOTM0MzJmZjExMWJkODllNyA9IEwuY2lyY2xlTWFya2VyKAogICAgICAgICAgICAgICAgWzQzLjY3NjM1NzM5OTk5OTk5LC03OS4yOTMwMzEyXSwKICAgICAgICAgICAgICAgIHsKICAiYnViYmxpbmdNb3VzZUV2ZW50cyI6IHRydWUsCiAgImNvbG9yIjogImJsdWUiLAogICJkYXNoQXJyYXkiOiBudWxsLAogICJkYXNoT2Zmc2V0IjogbnVsbCwKICAiZmlsbCI6IHRydWUsCiAgImZpbGxDb2xvciI6ICIjMzE4NmNjIiwKICAiZmlsbE9wYWNpdHkiOiAwLjcsCiAgImZpbGxSdWxlIjogImV2ZW5vZGQiLAogICJsaW5lQ2FwIjogInJvdW5kIiwKICAibGluZUpvaW4iOiAicm91bmQiLAogICJvcGFjaXR5IjogMS4wLAogICJyYWRpdXMiOiA1LAogICJzdHJva2UiOiB0cnVlLAogICJ3ZWlnaHQiOiAzCn0KICAgICAgICAgICAgICAgICkuYWRkVG8obWFwXzhiYWU5ZGU2YzRiOTRhZjlhYTU5ZDM3YmNkMDdkMjc2KTsKICAgICAgICAgICAgCiAgICAKICAgICAgICAgICAgdmFyIHBvcHVwX2Y4YTRhZDYwMWIyYTQzZmVhOTA4M2JmZWU2NzM0MTQzID0gTC5wb3B1cCh7bWF4V2lkdGg6ICczMDAnfSk7CgogICAgICAgICAgICAKICAgICAgICAgICAgICAgIHZhciBodG1sX2NiZTVlMDhlNWRmZjRhMTdhOWI5YzI2NWVmZGI1YTg0ID0gJCgnPGRpdiBpZD0iaHRtbF9jYmU1ZTA4ZTVkZmY0YTE3YTliOWMyNjVlZmRiNWE4NCIgc3R5bGU9IndpZHRoOiAxMDAuMCU7IGhlaWdodDogMTAwLjAlOyI+VGhlIEJlYWNoZXM8L2Rpdj4nKVswXTsKICAgICAgICAgICAgICAgIHBvcHVwX2Y4YTRhZDYwMWIyYTQzZmVhOTA4M2JmZWU2NzM0MTQzLnNldENvbnRlbnQoaHRtbF9jYmU1ZTA4ZTVkZmY0YTE3YTliOWMyNjVlZmRiNWE4NCk7CiAgICAgICAgICAgIAoKICAgICAgICAgICAgY2lyY2xlX21hcmtlcl81YThjMDVhNmU2MTA0NzFmOTM0MzJmZjExMWJkODllNy5iaW5kUG9wdXAocG9wdXBfZjhhNGFkNjAxYjJhNDNmZWE5MDgzYmZlZTY3MzQxNDMpOwoKICAgICAgICAgICAgCiAgICAgICAgCiAgICAKICAgICAgICAgICAgdmFyIGNpcmNsZV9tYXJrZXJfNDM3ZWJjYWUyNDgwNDhhNzkzMTRjYjkwMzI2OGI4MDEgPSBMLmNpcmNsZU1hcmtlcigKICAgICAgICAgICAgICAgIFs0My42NDQ3NzA3OTk5OTk5OTYsLTc5LjM3MzMwNjRdLAogICAgICAgICAgICAgICAgewogICJidWJibGluZ01vdXNlRXZlbnRzIjogdHJ1ZSwKICAiY29sb3IiOiAiYmx1ZSIsCiAgImRhc2hBcnJheSI6IG51bGwsCiAgImRhc2hPZmZzZXQiOiBudWxsLAogICJmaWxsIjogdHJ1ZSwKICAiZmlsbENvbG9yIjogIiMzMTg2Y2MiLAogICJmaWxsT3BhY2l0eSI6IDAuNywKICAiZmlsbFJ1bGUiOiAiZXZlbm9kZCIsCiAgImxpbmVDYXAiOiAicm91bmQiLAogICJsaW5lSm9pbiI6ICJyb3VuZCIsCiAgIm9wYWNpdHkiOiAxLjAsCiAgInJhZGl1cyI6IDUsCiAgInN0cm9rZSI6IHRydWUsCiAgIndlaWdodCI6IDMKfQogICAgICAgICAgICAgICAgKS5hZGRUbyhtYXBfOGJhZTlkZTZjNGI5NGFmOWFhNTlkMzdiY2QwN2QyNzYpOwogICAgICAgICAgICAKICAgIAogICAgICAgICAgICB2YXIgcG9wdXBfYjUxMjUzMDYzZWMzNDI2NDk4MWI2ODJhZWY0M2EwMzkgPSBMLnBvcHVwKHttYXhXaWR0aDogJzMwMCd9KTsKCiAgICAgICAgICAgIAogICAgICAgICAgICAgICAgdmFyIGh0bWxfNTIxOGI0ZTYxYTNjNDk0ZDk5MzliMzBkZDNjODVhZTEgPSAkKCc8ZGl2IGlkPSJodG1sXzUyMThiNGU2MWEzYzQ5NGQ5OTM5YjMwZGQzYzg1YWUxIiBzdHlsZT0id2lkdGg6IDEwMC4wJTsgaGVpZ2h0OiAxMDAuMCU7Ij5CZXJjenkgUGFyazwvZGl2PicpWzBdOwogICAgICAgICAgICAgICAgcG9wdXBfYjUxMjUzMDYzZWMzNDI2NDk4MWI2ODJhZWY0M2EwMzkuc2V0Q29udGVudChodG1sXzUyMThiNGU2MWEzYzQ5NGQ5OTM5YjMwZGQzYzg1YWUxKTsKICAgICAgICAgICAgCgogICAgICAgICAgICBjaXJjbGVfbWFya2VyXzQzN2ViY2FlMjQ4MDQ4YTc5MzE0Y2I5MDMyNjhiODAxLmJpbmRQb3B1cChwb3B1cF9iNTEyNTMwNjNlYzM0MjY0OTgxYjY4MmFlZjQzYTAzOSk7CgogICAgICAgICAgICAKICAgICAgICAKICAgIAogICAgICAgICAgICB2YXIgY2lyY2xlX21hcmtlcl81NjRjNTc3ZTk2ZGQ0NjEwYmIwMTY1ZTViZDBjODRiMiA9IEwuY2lyY2xlTWFya2VyKAogICAgICAgICAgICAgICAgWzQzLjY1Nzk1MjQsLTc5LjM4NzM4MjZdLAogICAgICAgICAgICAgICAgewogICJidWJibGluZ01vdXNlRXZlbnRzIjogdHJ1ZSwKICAiY29sb3IiOiAiYmx1ZSIsCiAgImRhc2hBcnJheSI6IG51bGwsCiAgImRhc2hPZmZzZXQiOiBudWxsLAogICJmaWxsIjogdHJ1ZSwKICAiZmlsbENvbG9yIjogIiMzMTg2Y2MiLAogICJmaWxsT3BhY2l0eSI6IDAuNywKICAiZmlsbFJ1bGUiOiAiZXZlbm9kZCIsCiAgImxpbmVDYXAiOiAicm91bmQiLAogICJsaW5lSm9pbiI6ICJyb3VuZCIsCiAgIm9wYWNpdHkiOiAxLjAsCiAgInJhZGl1cyI6IDUsCiAgInN0cm9rZSI6IHRydWUsCiAgIndlaWdodCI6IDMKfQogICAgICAgICAgICAgICAgKS5hZGRUbyhtYXBfOGJhZTlkZTZjNGI5NGFmOWFhNTlkMzdiY2QwN2QyNzYpOwogICAgICAgICAgICAKICAgIAogICAgICAgICAgICB2YXIgcG9wdXBfZjBiN2JlMGQ1YjA3NDE1ODk5NWZiZDhkYjczZTQ1MWEgPSBMLnBvcHVwKHttYXhXaWR0aDogJzMwMCd9KTsKCiAgICAgICAgICAgIAogICAgICAgICAgICAgICAgdmFyIGh0bWxfZTE1ZTlhNmU3NDZmNDUxYThhMWM5ZDA2MjRiMWEwODQgPSAkKCc8ZGl2IGlkPSJodG1sX2UxNWU5YTZlNzQ2ZjQ1MWE4YTFjOWQwNjI0YjFhMDg0IiBzdHlsZT0id2lkdGg6IDEwMC4wJTsgaGVpZ2h0OiAxMDAuMCU7Ij5DZW50cmFsIEJheSBTdHJlZXQ8L2Rpdj4nKVswXTsKICAgICAgICAgICAgICAgIHBvcHVwX2YwYjdiZTBkNWIwNzQxNTg5OTVmYmQ4ZGI3M2U0NTFhLnNldENvbnRlbnQoaHRtbF9lMTVlOWE2ZTc0NmY0NTFhOGExYzlkMDYyNGIxYTA4NCk7CiAgICAgICAgICAgIAoKICAgICAgICAgICAgY2lyY2xlX21hcmtlcl81NjRjNTc3ZTk2ZGQ0NjEwYmIwMTY1ZTViZDBjODRiMi5iaW5kUG9wdXAocG9wdXBfZjBiN2JlMGQ1YjA3NDE1ODk5NWZiZDhkYjczZTQ1MWEpOwoKICAgICAgICAgICAgCiAgICAgICAgCiAgICAKICAgICAgICAgICAgdmFyIGNpcmNsZV9tYXJrZXJfNTcwZDI2YTExNGFlNDYyMDk0OTM3YzFkM2Y5MGQ3N2EgPSBMLmNpcmNsZU1hcmtlcigKICAgICAgICAgICAgICAgIFs0My42Njk1NDIsLTc5LjQyMjU2MzddLAogICAgICAgICAgICAgICAgewogICJidWJibGluZ01vdXNlRXZlbnRzIjogdHJ1ZSwKICAiY29sb3IiOiAiYmx1ZSIsCiAgImRhc2hBcnJheSI6IG51bGwsCiAgImRhc2hPZmZzZXQiOiBudWxsLAogICJmaWxsIjogdHJ1ZSwKICAiZmlsbENvbG9yIjogIiMzMTg2Y2MiLAogICJmaWxsT3BhY2l0eSI6IDAuNywKICAiZmlsbFJ1bGUiOiAiZXZlbm9kZCIsCiAgImxpbmVDYXAiOiAicm91bmQiLAogICJsaW5lSm9pbiI6ICJyb3VuZCIsCiAgIm9wYWNpdHkiOiAxLjAsCiAgInJhZGl1cyI6IDUsCiAgInN0cm9rZSI6IHRydWUsCiAgIndlaWdodCI6IDMKfQogICAgICAgICAgICAgICAgKS5hZGRUbyhtYXBfOGJhZTlkZTZjNGI5NGFmOWFhNTlkMzdiY2QwN2QyNzYpOwogICAgICAgICAgICAKICAgIAogICAgICAgICAgICB2YXIgcG9wdXBfZGNjMjlmOTc1ZDE5NGM5NThiYzJjMzI4MjMxMmIzOWEgPSBMLnBvcHVwKHttYXhXaWR0aDogJzMwMCd9KTsKCiAgICAgICAgICAgIAogICAgICAgICAgICAgICAgdmFyIGh0bWxfM2U2NTQxNTRjMzM1NDU3MTljMDg0OGRjNGZkZjZjZDkgPSAkKCc8ZGl2IGlkPSJodG1sXzNlNjU0MTU0YzMzNTQ1NzE5YzA4NDhkYzRmZGY2Y2Q5IiBzdHlsZT0id2lkdGg6IDEwMC4wJTsgaGVpZ2h0OiAxMDAuMCU7Ij5DaHJpc3RpZTwvZGl2PicpWzBdOwogICAgICAgICAgICAgICAgcG9wdXBfZGNjMjlmOTc1ZDE5NGM5NThiYzJjMzI4MjMxMmIzOWEuc2V0Q29udGVudChodG1sXzNlNjU0MTU0YzMzNTQ1NzE5YzA4NDhkYzRmZGY2Y2Q5KTsKICAgICAgICAgICAgCgogICAgICAgICAgICBjaXJjbGVfbWFya2VyXzU3MGQyNmExMTRhZTQ2MjA5NDkzN2MxZDNmOTBkNzdhLmJpbmRQb3B1cChwb3B1cF9kY2MyOWY5NzVkMTk0Yzk1OGJjMmMzMjgyMzEyYjM5YSk7CgogICAgICAgICAgICAKICAgICAgICAKICAgIAogICAgICAgICAgICB2YXIgY2lyY2xlX21hcmtlcl9hNDRmOTNkZWI5MzQ0OWZkODVmMjFlY2YxMWI5ZmUyOSA9IEwuY2lyY2xlTWFya2VyKAogICAgICAgICAgICAgICAgWzQzLjY1MDU3MTIwMDAwMDAxLC03OS4zODQ1Njc1XSwKICAgICAgICAgICAgICAgIHsKICAiYnViYmxpbmdNb3VzZUV2ZW50cyI6IHRydWUsCiAgImNvbG9yIjogImJsdWUiLAogICJkYXNoQXJyYXkiOiBudWxsLAogICJkYXNoT2Zmc2V0IjogbnVsbCwKICAiZmlsbCI6IHRydWUsCiAgImZpbGxDb2xvciI6ICIjMzE4NmNjIiwKICAiZmlsbE9wYWNpdHkiOiAwLjcsCiAgImZpbGxSdWxlIjogImV2ZW5vZGQiLAogICJsaW5lQ2FwIjogInJvdW5kIiwKICAibGluZUpvaW4iOiAicm91bmQiLAogICJvcGFjaXR5IjogMS4wLAogICJyYWRpdXMiOiA1LAogICJzdHJva2UiOiB0cnVlLAogICJ3ZWlnaHQiOiAzCn0KICAgICAgICAgICAgICAgICkuYWRkVG8obWFwXzhiYWU5ZGU2YzRiOTRhZjlhYTU5ZDM3YmNkMDdkMjc2KTsKICAgICAgICAgICAgCiAgICAKICAgICAgICAgICAgdmFyIHBvcHVwXzU5YzNlOGQxN2FmYTQ4YTQ4YTBkMWE5OGNmODY4Mzk2ID0gTC5wb3B1cCh7bWF4V2lkdGg6ICczMDAnfSk7CgogICAgICAgICAgICAKICAgICAgICAgICAgICAgIHZhciBodG1sXzQ1OWM4MzZhN2ZkYjQyMzM5ZjM1MDQwN2JmMjYxMDJjID0gJCgnPGRpdiBpZD0iaHRtbF80NTljODM2YTdmZGI0MjMzOWYzNTA0MDdiZjI2MTAyYyIgc3R5bGU9IndpZHRoOiAxMDAuMCU7IGhlaWdodDogMTAwLjAlOyI+UmljaG1vbmQsIEFkZWxhaWRlLCBLaW5nPC9kaXY+JylbMF07CiAgICAgICAgICAgICAgICBwb3B1cF81OWMzZThkMTdhZmE0OGE0OGEwZDFhOThjZjg2ODM5Ni5zZXRDb250ZW50KGh0bWxfNDU5YzgzNmE3ZmRiNDIzMzlmMzUwNDA3YmYyNjEwMmMpOwogICAgICAgICAgICAKCiAgICAgICAgICAgIGNpcmNsZV9tYXJrZXJfYTQ0ZjkzZGViOTM0NDlmZDg1ZjIxZWNmMTFiOWZlMjkuYmluZFBvcHVwKHBvcHVwXzU5YzNlOGQxN2FmYTQ4YTQ4YTBkMWE5OGNmODY4Mzk2KTsKCiAgICAgICAgICAgIAogICAgICAgIAogICAgCiAgICAgICAgICAgIHZhciBjaXJjbGVfbWFya2VyXzc0NmI1NGYzYTg4NjQyNzNhNzg4NWEyZGU4OWEwMGE4ID0gTC5jaXJjbGVNYXJrZXIoCiAgICAgICAgICAgICAgICBbNDMuNjY5MDA1MTAwMDAwMDEsLTc5LjQ0MjI1OTNdLAogICAgICAgICAgICAgICAgewogICJidWJibGluZ01vdXNlRXZlbnRzIjogdHJ1ZSwKICAiY29sb3IiOiAiYmx1ZSIsCiAgImRhc2hBcnJheSI6IG51bGwsCiAgImRhc2hPZmZzZXQiOiBudWxsLAogICJmaWxsIjogdHJ1ZSwKICAiZmlsbENvbG9yIjogIiMzMTg2Y2MiLAogICJmaWxsT3BhY2l0eSI6IDAuNywKICAiZmlsbFJ1bGUiOiAiZXZlbm9kZCIsCiAgImxpbmVDYXAiOiAicm91bmQiLAogICJsaW5lSm9pbiI6ICJyb3VuZCIsCiAgIm9wYWNpdHkiOiAxLjAsCiAgInJhZGl1cyI6IDUsCiAgInN0cm9rZSI6IHRydWUsCiAgIndlaWdodCI6IDMKfQogICAgICAgICAgICAgICAgKS5hZGRUbyhtYXBfOGJhZTlkZTZjNGI5NGFmOWFhNTlkMzdiY2QwN2QyNzYpOwogICAgICAgICAgICAKICAgIAogICAgICAgICAgICB2YXIgcG9wdXBfZjA1NDIyODAxOGU3NGRmYWE4YzUzMWMxOGUzN2RlNWQgPSBMLnBvcHVwKHttYXhXaWR0aDogJzMwMCd9KTsKCiAgICAgICAgICAgIAogICAgICAgICAgICAgICAgdmFyIGh0bWxfYWZlZTc5NmE5Mzg2NGJiNzg3NTZhZDg0NjEyZmM4YmEgPSAkKCc8ZGl2IGlkPSJodG1sX2FmZWU3OTZhOTM4NjRiYjc4NzU2YWQ4NDYxMmZjOGJhIiBzdHlsZT0id2lkdGg6IDEwMC4wJTsgaGVpZ2h0OiAxMDAuMCU7Ij5EdWZmZXJpbiwgRG92ZXJjb3VydCBWaWxsYWdlPC9kaXY+JylbMF07CiAgICAgICAgICAgICAgICBwb3B1cF9mMDU0MjI4MDE4ZTc0ZGZhYThjNTMxYzE4ZTM3ZGU1ZC5zZXRDb250ZW50KGh0bWxfYWZlZTc5NmE5Mzg2NGJiNzg3NTZhZDg0NjEyZmM4YmEpOwogICAgICAgICAgICAKCiAgICAgICAgICAgIGNpcmNsZV9tYXJrZXJfNzQ2YjU0ZjNhODg2NDI3M2E3ODg1YTJkZTg5YTAwYTguYmluZFBvcHVwKHBvcHVwX2YwNTQyMjgwMThlNzRkZmFhOGM1MzFjMThlMzdkZTVkKTsKCiAgICAgICAgICAgIAogICAgICAgIAogICAgCiAgICAgICAgICAgIHZhciBjaXJjbGVfbWFya2VyXzc1NDU3ZmQ1MmY0NDRkMGViZTI3MmUwZDNjNDJiZmEyID0gTC5jaXJjbGVNYXJrZXIoCiAgICAgICAgICAgICAgICBbNDMuNjQwODE1NywtNzkuMzgxNzUyMjk5OTk5OTldLAogICAgICAgICAgICAgICAgewogICJidWJibGluZ01vdXNlRXZlbnRzIjogdHJ1ZSwKICAiY29sb3IiOiAiYmx1ZSIsCiAgImRhc2hBcnJheSI6IG51bGwsCiAgImRhc2hPZmZzZXQiOiBudWxsLAogICJmaWxsIjogdHJ1ZSwKICAiZmlsbENvbG9yIjogIiMzMTg2Y2MiLAogICJmaWxsT3BhY2l0eSI6IDAuNywKICAiZmlsbFJ1bGUiOiAiZXZlbm9kZCIsCiAgImxpbmVDYXAiOiAicm91bmQiLAogICJsaW5lSm9pbiI6ICJyb3VuZCIsCiAgIm9wYWNpdHkiOiAxLjAsCiAgInJhZGl1cyI6IDUsCiAgInN0cm9rZSI6IHRydWUsCiAgIndlaWdodCI6IDMKfQogICAgICAgICAgICAgICAgKS5hZGRUbyhtYXBfOGJhZTlkZTZjNGI5NGFmOWFhNTlkMzdiY2QwN2QyNzYpOwogICAgICAgICAgICAKICAgIAogICAgICAgICAgICB2YXIgcG9wdXBfMmU3YjM1NzFiOGJhNGU0OTk2NjkyNTdmZDk0MWNlY2QgPSBMLnBvcHVwKHttYXhXaWR0aDogJzMwMCd9KTsKCiAgICAgICAgICAgIAogICAgICAgICAgICAgICAgdmFyIGh0bWxfOGFlZDEwOTYwMGFkNDQyMzkwZTg5ZWVmMWY1ZTBlNGUgPSAkKCc8ZGl2IGlkPSJodG1sXzhhZWQxMDk2MDBhZDQ0MjM5MGU4OWVlZjFmNWUwZTRlIiBzdHlsZT0id2lkdGg6IDEwMC4wJTsgaGVpZ2h0OiAxMDAuMCU7Ij5IYXJib3VyZnJvbnQgRWFzdCwgVW5pb24gU3RhdGlvbiwgVG9yb250byBJc2xhbmRzPC9kaXY+JylbMF07CiAgICAgICAgICAgICAgICBwb3B1cF8yZTdiMzU3MWI4YmE0ZTQ5OTY2OTI1N2ZkOTQxY2VjZC5zZXRDb250ZW50KGh0bWxfOGFlZDEwOTYwMGFkNDQyMzkwZTg5ZWVmMWY1ZTBlNGUpOwogICAgICAgICAgICAKCiAgICAgICAgICAgIGNpcmNsZV9tYXJrZXJfNzU0NTdmZDUyZjQ0NGQwZWJlMjcyZTBkM2M0MmJmYTIuYmluZFBvcHVwKHBvcHVwXzJlN2IzNTcxYjhiYTRlNDk5NjY5MjU3ZmQ5NDFjZWNkKTsKCiAgICAgICAgICAgIAogICAgICAgIAogICAgCiAgICAgICAgICAgIHZhciBjaXJjbGVfbWFya2VyXzgxYzRjZThiYzAxYzQ2MjJhMDgyOWQ4MzI1MmY4YjhkID0gTC5jaXJjbGVNYXJrZXIoCiAgICAgICAgICAgICAgICBbNDMuNjQ3OTI2NzAwMDAwMDA2LC03OS40MTk3NDk3XSwKICAgICAgICAgICAgICAgIHsKICAiYnViYmxpbmdNb3VzZUV2ZW50cyI6IHRydWUsCiAgImNvbG9yIjogImJsdWUiLAogICJkYXNoQXJyYXkiOiBudWxsLAogICJkYXNoT2Zmc2V0IjogbnVsbCwKICAiZmlsbCI6IHRydWUsCiAgImZpbGxDb2xvciI6ICIjMzE4NmNjIiwKICAiZmlsbE9wYWNpdHkiOiAwLjcsCiAgImZpbGxSdWxlIjogImV2ZW5vZGQiLAogICJsaW5lQ2FwIjogInJvdW5kIiwKICAibGluZUpvaW4iOiAicm91bmQiLAogICJvcGFjaXR5IjogMS4wLAogICJyYWRpdXMiOiA1LAogICJzdHJva2UiOiB0cnVlLAogICJ3ZWlnaHQiOiAzCn0KICAgICAgICAgICAgICAgICkuYWRkVG8obWFwXzhiYWU5ZGU2YzRiOTRhZjlhYTU5ZDM3YmNkMDdkMjc2KTsKICAgICAgICAgICAgCiAgICAKICAgICAgICAgICAgdmFyIHBvcHVwX2U0MWM5YjUxNmE4OTRlMTBiMjkzZTVmYzA0ZTBmMTcwID0gTC5wb3B1cCh7bWF4V2lkdGg6ICczMDAnfSk7CgogICAgICAgICAgICAKICAgICAgICAgICAgICAgIHZhciBodG1sXzE2MjE5OTljYzdjNTQ0MGJhZTczZjRhNmY2ZDg1YjBjID0gJCgnPGRpdiBpZD0iaHRtbF8xNjIxOTk5Y2M3YzU0NDBiYWU3M2Y0YTZmNmQ4NWIwYyIgc3R5bGU9IndpZHRoOiAxMDAuMCU7IGhlaWdodDogMTAwLjAlOyI+TGl0dGxlIFBvcnR1Z2FsLCBUcmluaXR5PC9kaXY+JylbMF07CiAgICAgICAgICAgICAgICBwb3B1cF9lNDFjOWI1MTZhODk0ZTEwYjI5M2U1ZmMwNGUwZjE3MC5zZXRDb250ZW50KGh0bWxfMTYyMTk5OWNjN2M1NDQwYmFlNzNmNGE2ZjZkODViMGMpOwogICAgICAgICAgICAKCiAgICAgICAgICAgIGNpcmNsZV9tYXJrZXJfODFjNGNlOGJjMDFjNDYyMmEwODI5ZDgzMjUyZjhiOGQuYmluZFBvcHVwKHBvcHVwX2U0MWM5YjUxNmE4OTRlMTBiMjkzZTVmYzA0ZTBmMTcwKTsKCiAgICAgICAgICAgIAogICAgICAgIAogICAgCiAgICAgICAgICAgIHZhciBjaXJjbGVfbWFya2VyXzY3MjQ3NmY3NzA2YTQ2OGFhZDllODNhYjI4YjUzZDVlID0gTC5jaXJjbGVNYXJrZXIoCiAgICAgICAgICAgICAgICBbNDMuNjc5NTU3MSwtNzkuMzUyMTg4XSwKICAgICAgICAgICAgICAgIHsKICAiYnViYmxpbmdNb3VzZUV2ZW50cyI6IHRydWUsCiAgImNvbG9yIjogImJsdWUiLAogICJkYXNoQXJyYXkiOiBudWxsLAogICJkYXNoT2Zmc2V0IjogbnVsbCwKICAiZmlsbCI6IHRydWUsCiAgImZpbGxDb2xvciI6ICIjMzE4NmNjIiwKICAiZmlsbE9wYWNpdHkiOiAwLjcsCiAgImZpbGxSdWxlIjogImV2ZW5vZGQiLAogICJsaW5lQ2FwIjogInJvdW5kIiwKICAibGluZUpvaW4iOiAicm91bmQiLAogICJvcGFjaXR5IjogMS4wLAogICJyYWRpdXMiOiA1LAogICJzdHJva2UiOiB0cnVlLAogICJ3ZWlnaHQiOiAzCn0KICAgICAgICAgICAgICAgICkuYWRkVG8obWFwXzhiYWU5ZGU2YzRiOTRhZjlhYTU5ZDM3YmNkMDdkMjc2KTsKICAgICAgICAgICAgCiAgICAKICAgICAgICAgICAgdmFyIHBvcHVwXzM0NTI1NjIwMjI3ZTRlODViM2NlNWQ5ZDk2OTA0MjZlID0gTC5wb3B1cCh7bWF4V2lkdGg6ICczMDAnfSk7CgogICAgICAgICAgICAKICAgICAgICAgICAgICAgIHZhciBodG1sXzE4MDg0MjVlMTQ3OTRjMWU5NjY4N2Q5ODUxODc0ZWQzID0gJCgnPGRpdiBpZD0iaHRtbF8xODA4NDI1ZTE0Nzk0YzFlOTY2ODdkOTg1MTg3NGVkMyIgc3R5bGU9IndpZHRoOiAxMDAuMCU7IGhlaWdodDogMTAwLjAlOyI+VGhlIERhbmZvcnRoIFdlc3QsIFJpdmVyZGFsZTwvZGl2PicpWzBdOwogICAgICAgICAgICAgICAgcG9wdXBfMzQ1MjU2MjAyMjdlNGU4NWIzY2U1ZDlkOTY5MDQyNmUuc2V0Q29udGVudChodG1sXzE4MDg0MjVlMTQ3OTRjMWU5NjY4N2Q5ODUxODc0ZWQzKTsKICAgICAgICAgICAgCgogICAgICAgICAgICBjaXJjbGVfbWFya2VyXzY3MjQ3NmY3NzA2YTQ2OGFhZDllODNhYjI4YjUzZDVlLmJpbmRQb3B1cChwb3B1cF8zNDUyNTYyMDIyN2U0ZTg1YjNjZTVkOWQ5NjkwNDI2ZSk7CgogICAgICAgICAgICAKICAgICAgICAKICAgIAogICAgICAgICAgICB2YXIgY2lyY2xlX21hcmtlcl85NWE0M2M5YWU3Zjk0ZmJiODY4M2NiMzg2OTExNDVmNiA9IEwuY2lyY2xlTWFya2VyKAogICAgICAgICAgICAgICAgWzQzLjY0NzE3NjgsLTc5LjM4MTU3NjQwMDAwMDAxXSwKICAgICAgICAgICAgICAgIHsKICAiYnViYmxpbmdNb3VzZUV2ZW50cyI6IHRydWUsCiAgImNvbG9yIjogImJsdWUiLAogICJkYXNoQXJyYXkiOiBudWxsLAogICJkYXNoT2Zmc2V0IjogbnVsbCwKICAiZmlsbCI6IHRydWUsCiAgImZpbGxDb2xvciI6ICIjMzE4NmNjIiwKICAiZmlsbE9wYWNpdHkiOiAwLjcsCiAgImZpbGxSdWxlIjogImV2ZW5vZGQiLAogICJsaW5lQ2FwIjogInJvdW5kIiwKICAibGluZUpvaW4iOiAicm91bmQiLAogICJvcGFjaXR5IjogMS4wLAogICJyYWRpdXMiOiA1LAogICJzdHJva2UiOiB0cnVlLAogICJ3ZWlnaHQiOiAzCn0KICAgICAgICAgICAgICAgICkuYWRkVG8obWFwXzhiYWU5ZGU2YzRiOTRhZjlhYTU5ZDM3YmNkMDdkMjc2KTsKICAgICAgICAgICAgCiAgICAKICAgICAgICAgICAgdmFyIHBvcHVwXzc3ZDQ2YTQ3MTFlMzQyYmFiNzVmZGU0NzhhZmY2NjFmID0gTC5wb3B1cCh7bWF4V2lkdGg6ICczMDAnfSk7CgogICAgICAgICAgICAKICAgICAgICAgICAgICAgIHZhciBodG1sXzAyNWZiMzNmNzIzODRhZDZiZjQ4NGJjMzhmMDliNzMyID0gJCgnPGRpdiBpZD0iaHRtbF8wMjVmYjMzZjcyMzg0YWQ2YmY0ODRiYzM4ZjA5YjczMiIgc3R5bGU9IndpZHRoOiAxMDAuMCU7IGhlaWdodDogMTAwLjAlOyI+VG9yb250byBEb21pbmlvbiBDZW50cmUsIERlc2lnbiBFeGNoYW5nZTwvZGl2PicpWzBdOwogICAgICAgICAgICAgICAgcG9wdXBfNzdkNDZhNDcxMWUzNDJiYWI3NWZkZTQ3OGFmZjY2MWYuc2V0Q29udGVudChodG1sXzAyNWZiMzNmNzIzODRhZDZiZjQ4NGJjMzhmMDliNzMyKTsKICAgICAgICAgICAgCgogICAgICAgICAgICBjaXJjbGVfbWFya2VyXzk1YTQzYzlhZTdmOTRmYmI4NjgzY2IzODY5MTE0NWY2LmJpbmRQb3B1cChwb3B1cF83N2Q0NmE0NzExZTM0MmJhYjc1ZmRlNDc4YWZmNjYxZik7CgogICAgICAgICAgICAKICAgICAgICAKICAgIAogICAgICAgICAgICB2YXIgY2lyY2xlX21hcmtlcl8xN2NhNjFmNzAzODQ0NWVlOWM5YTg0MzFkZTFhODBhZiA9IEwuY2lyY2xlTWFya2VyKAogICAgICAgICAgICAgICAgWzQzLjYzNjg0NzIsLTc5LjQyODE5MTQwMDAwMDAyXSwKICAgICAgICAgICAgICAgIHsKICAiYnViYmxpbmdNb3VzZUV2ZW50cyI6IHRydWUsCiAgImNvbG9yIjogImJsdWUiLAogICJkYXNoQXJyYXkiOiBudWxsLAogICJkYXNoT2Zmc2V0IjogbnVsbCwKICAiZmlsbCI6IHRydWUsCiAgImZpbGxDb2xvciI6ICIjMzE4NmNjIiwKICAiZmlsbE9wYWNpdHkiOiAwLjcsCiAgImZpbGxSdWxlIjogImV2ZW5vZGQiLAogICJsaW5lQ2FwIjogInJvdW5kIiwKICAibGluZUpvaW4iOiAicm91bmQiLAogICJvcGFjaXR5IjogMS4wLAogICJyYWRpdXMiOiA1LAogICJzdHJva2UiOiB0cnVlLAogICJ3ZWlnaHQiOiAzCn0KICAgICAgICAgICAgICAgICkuYWRkVG8obWFwXzhiYWU5ZGU2YzRiOTRhZjlhYTU5ZDM3YmNkMDdkMjc2KTsKICAgICAgICAgICAgCiAgICAKICAgICAgICAgICAgdmFyIHBvcHVwXzYwM2Q1MjA0M2FlMzRiZWFiMTg4ODNlZDIxNmQwOTU1ID0gTC5wb3B1cCh7bWF4V2lkdGg6ICczMDAnfSk7CgogICAgICAgICAgICAKICAgICAgICAgICAgICAgIHZhciBodG1sX2U0ODNjMDNiM2EzYjQ4MWRiZjViOGE3NmFkZjQ0OGNmID0gJCgnPGRpdiBpZD0iaHRtbF9lNDgzYzAzYjNhM2I0ODFkYmY1YjhhNzZhZGY0NDhjZiIgc3R5bGU9IndpZHRoOiAxMDAuMCU7IGhlaWdodDogMTAwLjAlOyI+QnJvY2t0b24sIFBhcmtkYWxlIFZpbGxhZ2UsIEV4aGliaXRpb24gUGxhY2U8L2Rpdj4nKVswXTsKICAgICAgICAgICAgICAgIHBvcHVwXzYwM2Q1MjA0M2FlMzRiZWFiMTg4ODNlZDIxNmQwOTU1LnNldENvbnRlbnQoaHRtbF9lNDgzYzAzYjNhM2I0ODFkYmY1YjhhNzZhZGY0NDhjZik7CiAgICAgICAgICAgIAoKICAgICAgICAgICAgY2lyY2xlX21hcmtlcl8xN2NhNjFmNzAzODQ0NWVlOWM5YTg0MzFkZTFhODBhZi5iaW5kUG9wdXAocG9wdXBfNjAzZDUyMDQzYWUzNGJlYWIxODg4M2VkMjE2ZDA5NTUpOwoKICAgICAgICAgICAgCiAgICAgICAgCiAgICAKICAgICAgICAgICAgdmFyIGNpcmNsZV9tYXJrZXJfMjQ1YzUwMTUwOGI0NDc2YTgzYjkzNDMzNWRlYTI0ODUgPSBMLmNpcmNsZU1hcmtlcigKICAgICAgICAgICAgICAgIFs0My42Njg5OTg1LC03OS4zMTU1NzE1OTk5OTk5OF0sCiAgICAgICAgICAgICAgICB7CiAgImJ1YmJsaW5nTW91c2VFdmVudHMiOiB0cnVlLAogICJjb2xvciI6ICJibHVlIiwKICAiZGFzaEFycmF5IjogbnVsbCwKICAiZGFzaE9mZnNldCI6IG51bGwsCiAgImZpbGwiOiB0cnVlLAogICJmaWxsQ29sb3IiOiAiIzMxODZjYyIsCiAgImZpbGxPcGFjaXR5IjogMC43LAogICJmaWxsUnVsZSI6ICJldmVub2RkIiwKICAibGluZUNhcCI6ICJyb3VuZCIsCiAgImxpbmVKb2luIjogInJvdW5kIiwKICAib3BhY2l0eSI6IDEuMCwKICAicmFkaXVzIjogNSwKICAic3Ryb2tlIjogdHJ1ZSwKICAid2VpZ2h0IjogMwp9CiAgICAgICAgICAgICAgICApLmFkZFRvKG1hcF84YmFlOWRlNmM0Yjk0YWY5YWE1OWQzN2JjZDA3ZDI3Nik7CiAgICAgICAgICAgIAogICAgCiAgICAgICAgICAgIHZhciBwb3B1cF9kNGI0ZTRlOWNkNzY0Y2IxOGYzMGZkNmI3MDhjODljMSA9IEwucG9wdXAoe21heFdpZHRoOiAnMzAwJ30pOwoKICAgICAgICAgICAgCiAgICAgICAgICAgICAgICB2YXIgaHRtbF81NjM0NTEwYTk3MTI0NTcwOGE3MzIzNDY4YjYzMzZjOCA9ICQoJzxkaXYgaWQ9Imh0bWxfNTYzNDUxMGE5NzEyNDU3MDhhNzMyMzQ2OGI2MzM2YzgiIHN0eWxlPSJ3aWR0aDogMTAwLjAlOyBoZWlnaHQ6IDEwMC4wJTsiPkluZGlhIEJhemFhciwgVGhlIEJlYWNoZXMgV2VzdDwvZGl2PicpWzBdOwogICAgICAgICAgICAgICAgcG9wdXBfZDRiNGU0ZTljZDc2NGNiMThmMzBmZDZiNzA4Yzg5YzEuc2V0Q29udGVudChodG1sXzU2MzQ1MTBhOTcxMjQ1NzA4YTczMjM0NjhiNjMzNmM4KTsKICAgICAgICAgICAgCgogICAgICAgICAgICBjaXJjbGVfbWFya2VyXzI0NWM1MDE1MDhiNDQ3NmE4M2I5MzQzMzVkZWEyNDg1LmJpbmRQb3B1cChwb3B1cF9kNGI0ZTRlOWNkNzY0Y2IxOGYzMGZkNmI3MDhjODljMSk7CgogICAgICAgICAgICAKICAgICAgICAKICAgIAogICAgICAgICAgICB2YXIgY2lyY2xlX21hcmtlcl8zMWM3OTI4Y2Y0ZDE0M2M1ODg1MzIwMmM1NTdhNDRhNiA9IEwuY2lyY2xlTWFya2VyKAogICAgICAgICAgICAgICAgWzQzLjY0ODE5ODUsLTc5LjM3OTgxNjkwMDAwMDAxXSwKICAgICAgICAgICAgICAgIHsKICAiYnViYmxpbmdNb3VzZUV2ZW50cyI6IHRydWUsCiAgImNvbG9yIjogImJsdWUiLAogICJkYXNoQXJyYXkiOiBudWxsLAogICJkYXNoT2Zmc2V0IjogbnVsbCwKICAiZmlsbCI6IHRydWUsCiAgImZpbGxDb2xvciI6ICIjMzE4NmNjIiwKICAiZmlsbE9wYWNpdHkiOiAwLjcsCiAgImZpbGxSdWxlIjogImV2ZW5vZGQiLAogICJsaW5lQ2FwIjogInJvdW5kIiwKICAibGluZUpvaW4iOiAicm91bmQiLAogICJvcGFjaXR5IjogMS4wLAogICJyYWRpdXMiOiA1LAogICJzdHJva2UiOiB0cnVlLAogICJ3ZWlnaHQiOiAzCn0KICAgICAgICAgICAgICAgICkuYWRkVG8obWFwXzhiYWU5ZGU2YzRiOTRhZjlhYTU5ZDM3YmNkMDdkMjc2KTsKICAgICAgICAgICAgCiAgICAKICAgICAgICAgICAgdmFyIHBvcHVwXzg3NWJkMGE5NzMzZTRiMzk4MTIyMjRmN2Y2YWQ2NjYwID0gTC5wb3B1cCh7bWF4V2lkdGg6ICczMDAnfSk7CgogICAgICAgICAgICAKICAgICAgICAgICAgICAgIHZhciBodG1sXzA5NTU4MTdkNjE1ZDQwYjJiNjVkY2U1ODQ3ZDk5OGU5ID0gJCgnPGRpdiBpZD0iaHRtbF8wOTU1ODE3ZDYxNWQ0MGIyYjY1ZGNlNTg0N2Q5OThlOSIgc3R5bGU9IndpZHRoOiAxMDAuMCU7IGhlaWdodDogMTAwLjAlOyI+Q29tbWVyY2UgQ291cnQsIFZpY3RvcmlhIEhvdGVsPC9kaXY+JylbMF07CiAgICAgICAgICAgICAgICBwb3B1cF84NzViZDBhOTczM2U0YjM5ODEyMjI0ZjdmNmFkNjY2MC5zZXRDb250ZW50KGh0bWxfMDk1NTgxN2Q2MTVkNDBiMmI2NWRjZTU4NDdkOTk4ZTkpOwogICAgICAgICAgICAKCiAgICAgICAgICAgIGNpcmNsZV9tYXJrZXJfMzFjNzkyOGNmNGQxNDNjNTg4NTMyMDJjNTU3YTQ0YTYuYmluZFBvcHVwKHBvcHVwXzg3NWJkMGE5NzMzZTRiMzk4MTIyMjRmN2Y2YWQ2NjYwKTsKCiAgICAgICAgICAgIAogICAgICAgIAogICAgCiAgICAgICAgICAgIHZhciBjaXJjbGVfbWFya2VyXzFmZTNjMmYzYzkyOTQ2MWFhYmVlODNiNWI4MGYxMDM0ID0gTC5jaXJjbGVNYXJrZXIoCiAgICAgICAgICAgICAgICBbNDMuNjU5NTI1NSwtNzkuMzQwOTIzXSwKICAgICAgICAgICAgICAgIHsKICAiYnViYmxpbmdNb3VzZUV2ZW50cyI6IHRydWUsCiAgImNvbG9yIjogImJsdWUiLAogICJkYXNoQXJyYXkiOiBudWxsLAogICJkYXNoT2Zmc2V0IjogbnVsbCwKICAiZmlsbCI6IHRydWUsCiAgImZpbGxDb2xvciI6ICIjMzE4NmNjIiwKICAiZmlsbE9wYWNpdHkiOiAwLjcsCiAgImZpbGxSdWxlIjogImV2ZW5vZGQiLAogICJsaW5lQ2FwIjogInJvdW5kIiwKICAibGluZUpvaW4iOiAicm91bmQiLAogICJvcGFjaXR5IjogMS4wLAogICJyYWRpdXMiOiA1LAogICJzdHJva2UiOiB0cnVlLAogICJ3ZWlnaHQiOiAzCn0KICAgICAgICAgICAgICAgICkuYWRkVG8obWFwXzhiYWU5ZGU2YzRiOTRhZjlhYTU5ZDM3YmNkMDdkMjc2KTsKICAgICAgICAgICAgCiAgICAKICAgICAgICAgICAgdmFyIHBvcHVwXzNmZWIxYzM3N2Q1NDQ2OTJhZDlhYTUzYzExYzUxZjRlID0gTC5wb3B1cCh7bWF4V2lkdGg6ICczMDAnfSk7CgogICAgICAgICAgICAKICAgICAgICAgICAgICAgIHZhciBodG1sXzY4MjJkNjY1ZDY2MDRlZWVhZDA1YmFlOTMzOTMzNTEwID0gJCgnPGRpdiBpZD0iaHRtbF82ODIyZDY2NWQ2NjA0ZWVlYWQwNWJhZTkzMzkzMzUxMCIgc3R5bGU9IndpZHRoOiAxMDAuMCU7IGhlaWdodDogMTAwLjAlOyI+U3R1ZGlvIERpc3RyaWN0PC9kaXY+JylbMF07CiAgICAgICAgICAgICAgICBwb3B1cF8zZmViMWMzNzdkNTQ0NjkyYWQ5YWE1M2MxMWM1MWY0ZS5zZXRDb250ZW50KGh0bWxfNjgyMmQ2NjVkNjYwNGVlZWFkMDViYWU5MzM5MzM1MTApOwogICAgICAgICAgICAKCiAgICAgICAgICAgIGNpcmNsZV9tYXJrZXJfMWZlM2MyZjNjOTI5NDYxYWFiZWU4M2I1YjgwZjEwMzQuYmluZFBvcHVwKHBvcHVwXzNmZWIxYzM3N2Q1NDQ2OTJhZDlhYTUzYzExYzUxZjRlKTsKCiAgICAgICAgICAgIAogICAgICAgIAogICAgCiAgICAgICAgICAgIHZhciBjaXJjbGVfbWFya2VyX2VmZGQ2ZWY4ZmJkMzQ4YjViNzRkYTAyMGQ0ZDc5ODNkID0gTC5jaXJjbGVNYXJrZXIoCiAgICAgICAgICAgICAgICBbNDMuNzI4MDIwNSwtNzkuMzg4NzkwMV0sCiAgICAgICAgICAgICAgICB7CiAgImJ1YmJsaW5nTW91c2VFdmVudHMiOiB0cnVlLAogICJjb2xvciI6ICJibHVlIiwKICAiZGFzaEFycmF5IjogbnVsbCwKICAiZGFzaE9mZnNldCI6IG51bGwsCiAgImZpbGwiOiB0cnVlLAogICJmaWxsQ29sb3IiOiAiIzMxODZjYyIsCiAgImZpbGxPcGFjaXR5IjogMC43LAogICJmaWxsUnVsZSI6ICJldmVub2RkIiwKICAibGluZUNhcCI6ICJyb3VuZCIsCiAgImxpbmVKb2luIjogInJvdW5kIiwKICAib3BhY2l0eSI6IDEuMCwKICAicmFkaXVzIjogNSwKICAic3Ryb2tlIjogdHJ1ZSwKICAid2VpZ2h0IjogMwp9CiAgICAgICAgICAgICAgICApLmFkZFRvKG1hcF84YmFlOWRlNmM0Yjk0YWY5YWE1OWQzN2JjZDA3ZDI3Nik7CiAgICAgICAgICAgIAogICAgCiAgICAgICAgICAgIHZhciBwb3B1cF85YThjYWNkNzQzNDQ0ODFjOTU4MTljZGI1MDgzOTA3ZiA9IEwucG9wdXAoe21heFdpZHRoOiAnMzAwJ30pOwoKICAgICAgICAgICAgCiAgICAgICAgICAgICAgICB2YXIgaHRtbF9iMzdiNzBlMzJhNTA0ZThkYmRmMzc3YWQzZjFkNzk4YiA9ICQoJzxkaXYgaWQ9Imh0bWxfYjM3YjcwZTMyYTUwNGU4ZGJkZjM3N2FkM2YxZDc5OGIiIHN0eWxlPSJ3aWR0aDogMTAwLjAlOyBoZWlnaHQ6IDEwMC4wJTsiPkxhd3JlbmNlIFBhcms8L2Rpdj4nKVswXTsKICAgICAgICAgICAgICAgIHBvcHVwXzlhOGNhY2Q3NDM0NDQ4MWM5NTgxOWNkYjUwODM5MDdmLnNldENvbnRlbnQoaHRtbF9iMzdiNzBlMzJhNTA0ZThkYmRmMzc3YWQzZjFkNzk4Yik7CiAgICAgICAgICAgIAoKICAgICAgICAgICAgY2lyY2xlX21hcmtlcl9lZmRkNmVmOGZiZDM0OGI1Yjc0ZGEwMjBkNGQ3OTgzZC5iaW5kUG9wdXAocG9wdXBfOWE4Y2FjZDc0MzQ0NDgxYzk1ODE5Y2RiNTA4MzkwN2YpOwoKICAgICAgICAgICAgCiAgICAgICAgCiAgICAKICAgICAgICAgICAgdmFyIGNpcmNsZV9tYXJrZXJfZDRjMWRjNDcxOWU4NDc5YzlmODUwYjFiYzYzMjU0YmQgPSBMLmNpcmNsZU1hcmtlcigKICAgICAgICAgICAgICAgIFs0My43MTE2OTQ4LC03OS40MTY5MzU1OTk5OTk5OV0sCiAgICAgICAgICAgICAgICB7CiAgImJ1YmJsaW5nTW91c2VFdmVudHMiOiB0cnVlLAogICJjb2xvciI6ICJibHVlIiwKICAiZGFzaEFycmF5IjogbnVsbCwKICAiZGFzaE9mZnNldCI6IG51bGwsCiAgImZpbGwiOiB0cnVlLAogICJmaWxsQ29sb3IiOiAiIzMxODZjYyIsCiAgImZpbGxPcGFjaXR5IjogMC43LAogICJmaWxsUnVsZSI6ICJldmVub2RkIiwKICAibGluZUNhcCI6ICJyb3VuZCIsCiAgImxpbmVKb2luIjogInJvdW5kIiwKICAib3BhY2l0eSI6IDEuMCwKICAicmFkaXVzIjogNSwKICAic3Ryb2tlIjogdHJ1ZSwKICAid2VpZ2h0IjogMwp9CiAgICAgICAgICAgICAgICApLmFkZFRvKG1hcF84YmFlOWRlNmM0Yjk0YWY5YWE1OWQzN2JjZDA3ZDI3Nik7CiAgICAgICAgICAgIAogICAgCiAgICAgICAgICAgIHZhciBwb3B1cF84NWUyOTI0ZTNkNDg0YmIwOTk4ZWNmZDMxZjA1M2U4YiA9IEwucG9wdXAoe21heFdpZHRoOiAnMzAwJ30pOwoKICAgICAgICAgICAgCiAgICAgICAgICAgICAgICB2YXIgaHRtbF8yMTkzMzA0OWYzNDU0NTlmODY0M2JlZDIxZWY0ZjI5YSA9ICQoJzxkaXYgaWQ9Imh0bWxfMjE5MzMwNDlmMzQ1NDU5Zjg2NDNiZWQyMWVmNGYyOWEiIHN0eWxlPSJ3aWR0aDogMTAwLjAlOyBoZWlnaHQ6IDEwMC4wJTsiPlJvc2VsYXduPC9kaXY+JylbMF07CiAgICAgICAgICAgICAgICBwb3B1cF84NWUyOTI0ZTNkNDg0YmIwOTk4ZWNmZDMxZjA1M2U4Yi5zZXRDb250ZW50KGh0bWxfMjE5MzMwNDlmMzQ1NDU5Zjg2NDNiZWQyMWVmNGYyOWEpOwogICAgICAgICAgICAKCiAgICAgICAgICAgIGNpcmNsZV9tYXJrZXJfZDRjMWRjNDcxOWU4NDc5YzlmODUwYjFiYzYzMjU0YmQuYmluZFBvcHVwKHBvcHVwXzg1ZTI5MjRlM2Q0ODRiYjA5OThlY2ZkMzFmMDUzZThiKTsKCiAgICAgICAgICAgIAogICAgICAgIAogICAgCiAgICAgICAgICAgIHZhciBjaXJjbGVfbWFya2VyXzdhMmQ2MGRlMWFhYzQzYTg4NjFmOWZiODFhYzBkMTFmID0gTC5jaXJjbGVNYXJrZXIoCiAgICAgICAgICAgICAgICBbNDMuNzEyNzUxMSwtNzkuMzkwMTk3NV0sCiAgICAgICAgICAgICAgICB7CiAgImJ1YmJsaW5nTW91c2VFdmVudHMiOiB0cnVlLAogICJjb2xvciI6ICJibHVlIiwKICAiZGFzaEFycmF5IjogbnVsbCwKICAiZGFzaE9mZnNldCI6IG51bGwsCiAgImZpbGwiOiB0cnVlLAogICJmaWxsQ29sb3IiOiAiIzMxODZjYyIsCiAgImZpbGxPcGFjaXR5IjogMC43LAogICJmaWxsUnVsZSI6ICJldmVub2RkIiwKICAibGluZUNhcCI6ICJyb3VuZCIsCiAgImxpbmVKb2luIjogInJvdW5kIiwKICAib3BhY2l0eSI6IDEuMCwKICAicmFkaXVzIjogNSwKICAic3Ryb2tlIjogdHJ1ZSwKICAid2VpZ2h0IjogMwp9CiAgICAgICAgICAgICAgICApLmFkZFRvKG1hcF84YmFlOWRlNmM0Yjk0YWY5YWE1OWQzN2JjZDA3ZDI3Nik7CiAgICAgICAgICAgIAogICAgCiAgICAgICAgICAgIHZhciBwb3B1cF84ZjQ1YzJhNDhkNjc0MTY0YmYxZDdiZjAxNGM4YWY2OSA9IEwucG9wdXAoe21heFdpZHRoOiAnMzAwJ30pOwoKICAgICAgICAgICAgCiAgICAgICAgICAgICAgICB2YXIgaHRtbF8yOWU1OTI0M2U1NjQ0OTZjODMxNTJlMzg1NGI0OTFkNyA9ICQoJzxkaXYgaWQ9Imh0bWxfMjllNTkyNDNlNTY0NDk2YzgzMTUyZTM4NTRiNDkxZDciIHN0eWxlPSJ3aWR0aDogMTAwLjAlOyBoZWlnaHQ6IDEwMC4wJTsiPkRhdmlzdmlsbGUgTm9ydGg8L2Rpdj4nKVswXTsKICAgICAgICAgICAgICAgIHBvcHVwXzhmNDVjMmE0OGQ2NzQxNjRiZjFkN2JmMDE0YzhhZjY5LnNldENvbnRlbnQoaHRtbF8yOWU1OTI0M2U1NjQ0OTZjODMxNTJlMzg1NGI0OTFkNyk7CiAgICAgICAgICAgIAoKICAgICAgICAgICAgY2lyY2xlX21hcmtlcl83YTJkNjBkZTFhYWM0M2E4ODYxZjlmYjgxYWMwZDExZi5iaW5kUG9wdXAocG9wdXBfOGY0NWMyYTQ4ZDY3NDE2NGJmMWQ3YmYwMTRjOGFmNjkpOwoKICAgICAgICAgICAgCiAgICAgICAgCiAgICAKICAgICAgICAgICAgdmFyIGNpcmNsZV9tYXJrZXJfYTQ4NTY2MjVhZjI1NGY0ODg1MzU3ZDMzNWZiZTRlM2QgPSBMLmNpcmNsZU1hcmtlcigKICAgICAgICAgICAgICAgIFs0My42OTY5NDc2LC03OS40MTEzMDcyMDAwMDAwMV0sCiAgICAgICAgICAgICAgICB7CiAgImJ1YmJsaW5nTW91c2VFdmVudHMiOiB0cnVlLAogICJjb2xvciI6ICJibHVlIiwKICAiZGFzaEFycmF5IjogbnVsbCwKICAiZGFzaE9mZnNldCI6IG51bGwsCiAgImZpbGwiOiB0cnVlLAogICJmaWxsQ29sb3IiOiAiIzMxODZjYyIsCiAgImZpbGxPcGFjaXR5IjogMC43LAogICJmaWxsUnVsZSI6ICJldmVub2RkIiwKICAibGluZUNhcCI6ICJyb3VuZCIsCiAgImxpbmVKb2luIjogInJvdW5kIiwKICAib3BhY2l0eSI6IDEuMCwKICAicmFkaXVzIjogNSwKICAic3Ryb2tlIjogdHJ1ZSwKICAid2VpZ2h0IjogMwp9CiAgICAgICAgICAgICAgICApLmFkZFRvKG1hcF84YmFlOWRlNmM0Yjk0YWY5YWE1OWQzN2JjZDA3ZDI3Nik7CiAgICAgICAgICAgIAogICAgCiAgICAgICAgICAgIHZhciBwb3B1cF9lZjZmMzQyZGQ4NWY0MjZlYTBlMzI0ZWI1NGUyMmM4YiA9IEwucG9wdXAoe21heFdpZHRoOiAnMzAwJ30pOwoKICAgICAgICAgICAgCiAgICAgICAgICAgICAgICB2YXIgaHRtbF81OTViOGU2NzkxNzk0YmM2OTIyMzhiOTJhNDYwMjJkNiA9ICQoJzxkaXYgaWQ9Imh0bWxfNTk1YjhlNjc5MTc5NGJjNjkyMjM4YjkyYTQ2MDIyZDYiIHN0eWxlPSJ3aWR0aDogMTAwLjAlOyBoZWlnaHQ6IDEwMC4wJTsiPkZvcmVzdCBIaWxsIE5vcnRoICZhbXA7IFdlc3QsIEZvcmVzdCBIaWxsIFJvYWQgUGFyazwvZGl2PicpWzBdOwogICAgICAgICAgICAgICAgcG9wdXBfZWY2ZjM0MmRkODVmNDI2ZWEwZTMyNGViNTRlMjJjOGIuc2V0Q29udGVudChodG1sXzU5NWI4ZTY3OTE3OTRiYzY5MjIzOGI5MmE0NjAyMmQ2KTsKICAgICAgICAgICAgCgogICAgICAgICAgICBjaXJjbGVfbWFya2VyX2E0ODU2NjI1YWYyNTRmNDg4NTM1N2QzMzVmYmU0ZTNkLmJpbmRQb3B1cChwb3B1cF9lZjZmMzQyZGQ4NWY0MjZlYTBlMzI0ZWI1NGUyMmM4Yik7CgogICAgICAgICAgICAKICAgICAgICAKICAgIAogICAgICAgICAgICB2YXIgY2lyY2xlX21hcmtlcl8wZDk1ZWJhMGQyMmQ0NmE0YjM3MTMyM2FkMDM1OTQ5OCA9IEwuY2lyY2xlTWFya2VyKAogICAgICAgICAgICAgICAgWzQzLjY2MTYwODMsLTc5LjQ2NDc2MzI5OTk5OTk5XSwKICAgICAgICAgICAgICAgIHsKICAiYnViYmxpbmdNb3VzZUV2ZW50cyI6IHRydWUsCiAgImNvbG9yIjogImJsdWUiLAogICJkYXNoQXJyYXkiOiBudWxsLAogICJkYXNoT2Zmc2V0IjogbnVsbCwKICAiZmlsbCI6IHRydWUsCiAgImZpbGxDb2xvciI6ICIjMzE4NmNjIiwKICAiZmlsbE9wYWNpdHkiOiAwLjcsCiAgImZpbGxSdWxlIjogImV2ZW5vZGQiLAogICJsaW5lQ2FwIjogInJvdW5kIiwKICAibGluZUpvaW4iOiAicm91bmQiLAogICJvcGFjaXR5IjogMS4wLAogICJyYWRpdXMiOiA1LAogICJzdHJva2UiOiB0cnVlLAogICJ3ZWlnaHQiOiAzCn0KICAgICAgICAgICAgICAgICkuYWRkVG8obWFwXzhiYWU5ZGU2YzRiOTRhZjlhYTU5ZDM3YmNkMDdkMjc2KTsKICAgICAgICAgICAgCiAgICAKICAgICAgICAgICAgdmFyIHBvcHVwXzc2YjVkMjQyNDM5MDQ3MDU4N2NiZDIyNDhiNmE3NTZmID0gTC5wb3B1cCh7bWF4V2lkdGg6ICczMDAnfSk7CgogICAgICAgICAgICAKICAgICAgICAgICAgICAgIHZhciBodG1sXzRiZmJlMWEwOWM1MDRlMWZhNDIyNzZkZDk4MDgwMDlkID0gJCgnPGRpdiBpZD0iaHRtbF80YmZiZTFhMDljNTA0ZTFmYTQyMjc2ZGQ5ODA4MDA5ZCIgc3R5bGU9IndpZHRoOiAxMDAuMCU7IGhlaWdodDogMTAwLjAlOyI+SGlnaCBQYXJrLCBUaGUgSnVuY3Rpb24gU291dGg8L2Rpdj4nKVswXTsKICAgICAgICAgICAgICAgIHBvcHVwXzc2YjVkMjQyNDM5MDQ3MDU4N2NiZDIyNDhiNmE3NTZmLnNldENvbnRlbnQoaHRtbF80YmZiZTFhMDljNTA0ZTFmYTQyMjc2ZGQ5ODA4MDA5ZCk7CiAgICAgICAgICAgIAoKICAgICAgICAgICAgY2lyY2xlX21hcmtlcl8wZDk1ZWJhMGQyMmQ0NmE0YjM3MTMyM2FkMDM1OTQ5OC5iaW5kUG9wdXAocG9wdXBfNzZiNWQyNDI0MzkwNDcwNTg3Y2JkMjI0OGI2YTc1NmYpOwoKICAgICAgICAgICAgCiAgICAgICAgCiAgICAKICAgICAgICAgICAgdmFyIGNpcmNsZV9tYXJrZXJfYjMwYzA4MDhlNDFmNDEwNWFlMTlhNWM1MDBjYWQ4ZTMgPSBMLmNpcmNsZU1hcmtlcigKICAgICAgICAgICAgICAgIFs0My43MTUzODM0LC03OS40MDU2Nzg0MDAwMDAwMV0sCiAgICAgICAgICAgICAgICB7CiAgImJ1YmJsaW5nTW91c2VFdmVudHMiOiB0cnVlLAogICJjb2xvciI6ICJibHVlIiwKICAiZGFzaEFycmF5IjogbnVsbCwKICAiZGFzaE9mZnNldCI6IG51bGwsCiAgImZpbGwiOiB0cnVlLAogICJmaWxsQ29sb3IiOiAiIzMxODZjYyIsCiAgImZpbGxPcGFjaXR5IjogMC43LAogICJmaWxsUnVsZSI6ICJldmVub2RkIiwKICAibGluZUNhcCI6ICJyb3VuZCIsCiAgImxpbmVKb2luIjogInJvdW5kIiwKICAib3BhY2l0eSI6IDEuMCwKICAicmFkaXVzIjogNSwKICAic3Ryb2tlIjogdHJ1ZSwKICAid2VpZ2h0IjogMwp9CiAgICAgICAgICAgICAgICApLmFkZFRvKG1hcF84YmFlOWRlNmM0Yjk0YWY5YWE1OWQzN2JjZDA3ZDI3Nik7CiAgICAgICAgICAgIAogICAgCiAgICAgICAgICAgIHZhciBwb3B1cF8wY2EyNjU2YzE5M2E0YjJhOGUwZGNjZDdiMDJiMTEzMCA9IEwucG9wdXAoe21heFdpZHRoOiAnMzAwJ30pOwoKICAgICAgICAgICAgCiAgICAgICAgICAgICAgICB2YXIgaHRtbF8wNDhiNjhiMzQxZTM0ZjZlOTljYzg5NDc4NWU1MmFkYyA9ICQoJzxkaXYgaWQ9Imh0bWxfMDQ4YjY4YjM0MWUzNGY2ZTk5Y2M4OTQ3ODVlNTJhZGMiIHN0eWxlPSJ3aWR0aDogMTAwLjAlOyBoZWlnaHQ6IDEwMC4wJTsiPk5vcnRoIFRvcm9udG8gV2VzdCwgTGF3cmVuY2UgUGFyazwvZGl2PicpWzBdOwogICAgICAgICAgICAgICAgcG9wdXBfMGNhMjY1NmMxOTNhNGIyYThlMGRjY2Q3YjAyYjExMzAuc2V0Q29udGVudChodG1sXzA0OGI2OGIzNDFlMzRmNmU5OWNjODk0Nzg1ZTUyYWRjKTsKICAgICAgICAgICAgCgogICAgICAgICAgICBjaXJjbGVfbWFya2VyX2IzMGMwODA4ZTQxZjQxMDVhZTE5YTVjNTAwY2FkOGUzLmJpbmRQb3B1cChwb3B1cF8wY2EyNjU2YzE5M2E0YjJhOGUwZGNjZDdiMDJiMTEzMCk7CgogICAgICAgICAgICAKICAgICAgICAKICAgIAogICAgICAgICAgICB2YXIgY2lyY2xlX21hcmtlcl9iZDdmMDMyNGFjZmU0ODE4YjI4MzlhZTM2NGVmMTVlNSA9IEwuY2lyY2xlTWFya2VyKAogICAgICAgICAgICAgICAgWzQzLjY3MjcwOTcsLTc5LjQwNTY3ODQwMDAwMDAxXSwKICAgICAgICAgICAgICAgIHsKICAiYnViYmxpbmdNb3VzZUV2ZW50cyI6IHRydWUsCiAgImNvbG9yIjogImJsdWUiLAogICJkYXNoQXJyYXkiOiBudWxsLAogICJkYXNoT2Zmc2V0IjogbnVsbCwKICAiZmlsbCI6IHRydWUsCiAgImZpbGxDb2xvciI6ICIjMzE4NmNjIiwKICAiZmlsbE9wYWNpdHkiOiAwLjcsCiAgImZpbGxSdWxlIjogImV2ZW5vZGQiLAogICJsaW5lQ2FwIjogInJvdW5kIiwKICAibGluZUpvaW4iOiAicm91bmQiLAogICJvcGFjaXR5IjogMS4wLAogICJyYWRpdXMiOiA1LAogICJzdHJva2UiOiB0cnVlLAogICJ3ZWlnaHQiOiAzCn0KICAgICAgICAgICAgICAgICkuYWRkVG8obWFwXzhiYWU5ZGU2YzRiOTRhZjlhYTU5ZDM3YmNkMDdkMjc2KTsKICAgICAgICAgICAgCiAgICAKICAgICAgICAgICAgdmFyIHBvcHVwXzU0NjNiMDVjMjcyYjQzNDc4MDUzZDI3NzE5ZDQ0YjI4ID0gTC5wb3B1cCh7bWF4V2lkdGg6ICczMDAnfSk7CgogICAgICAgICAgICAKICAgICAgICAgICAgICAgIHZhciBodG1sXzQzZGZlMzk2OTIwMzQ3M2E4NWNkNzQyZmU3NDMwNTczID0gJCgnPGRpdiBpZD0iaHRtbF80M2RmZTM5NjkyMDM0NzNhODVjZDc0MmZlNzQzMDU3MyIgc3R5bGU9IndpZHRoOiAxMDAuMCU7IGhlaWdodDogMTAwLjAlOyI+VGhlIEFubmV4LCBOb3J0aCBNaWR0b3duLCBZb3JrdmlsbGU8L2Rpdj4nKVswXTsKICAgICAgICAgICAgICAgIHBvcHVwXzU0NjNiMDVjMjcyYjQzNDc4MDUzZDI3NzE5ZDQ0YjI4LnNldENvbnRlbnQoaHRtbF80M2RmZTM5NjkyMDM0NzNhODVjZDc0MmZlNzQzMDU3Myk7CiAgICAgICAgICAgIAoKICAgICAgICAgICAgY2lyY2xlX21hcmtlcl9iZDdmMDMyNGFjZmU0ODE4YjI4MzlhZTM2NGVmMTVlNS5iaW5kUG9wdXAocG9wdXBfNTQ2M2IwNWMyNzJiNDM0NzgwNTNkMjc3MTlkNDRiMjgpOwoKICAgICAgICAgICAgCiAgICAgICAgCiAgICAKICAgICAgICAgICAgdmFyIGNpcmNsZV9tYXJrZXJfMGJiNWI4ZWNiYzBlNGI4NjkzMTMwMzlkOTQ3ZWExNDcgPSBMLmNpcmNsZU1hcmtlcigKICAgICAgICAgICAgICAgIFs0My42NDg5NTk3LC03OS40NTYzMjVdLAogICAgICAgICAgICAgICAgewogICJidWJibGluZ01vdXNlRXZlbnRzIjogdHJ1ZSwKICAiY29sb3IiOiAiYmx1ZSIsCiAgImRhc2hBcnJheSI6IG51bGwsCiAgImRhc2hPZmZzZXQiOiBudWxsLAogICJmaWxsIjogdHJ1ZSwKICAiZmlsbENvbG9yIjogIiMzMTg2Y2MiLAogICJmaWxsT3BhY2l0eSI6IDAuNywKICAiZmlsbFJ1bGUiOiAiZXZlbm9kZCIsCiAgImxpbmVDYXAiOiAicm91bmQiLAogICJsaW5lSm9pbiI6ICJyb3VuZCIsCiAgIm9wYWNpdHkiOiAxLjAsCiAgInJhZGl1cyI6IDUsCiAgInN0cm9rZSI6IHRydWUsCiAgIndlaWdodCI6IDMKfQogICAgICAgICAgICAgICAgKS5hZGRUbyhtYXBfOGJhZTlkZTZjNGI5NGFmOWFhNTlkMzdiY2QwN2QyNzYpOwogICAgICAgICAgICAKICAgIAogICAgICAgICAgICB2YXIgcG9wdXBfNmVlYTQ1ZTk4YjBhNDM0ODhmYTA4ODBlYWI3ZDhkMDEgPSBMLnBvcHVwKHttYXhXaWR0aDogJzMwMCd9KTsKCiAgICAgICAgICAgIAogICAgICAgICAgICAgICAgdmFyIGh0bWxfYTQ1MzMyZDI5YTE4NGI0OGFhYTE4MzJlNzg1OTk1MTEgPSAkKCc8ZGl2IGlkPSJodG1sX2E0NTMzMmQyOWExODRiNDhhYWExODMyZTc4NTk5NTExIiBzdHlsZT0id2lkdGg6IDEwMC4wJTsgaGVpZ2h0OiAxMDAuMCU7Ij5QYXJrZGFsZSwgUm9uY2VzdmFsbGVzPC9kaXY+JylbMF07CiAgICAgICAgICAgICAgICBwb3B1cF82ZWVhNDVlOThiMGE0MzQ4OGZhMDg4MGVhYjdkOGQwMS5zZXRDb250ZW50KGh0bWxfYTQ1MzMyZDI5YTE4NGI0OGFhYTE4MzJlNzg1OTk1MTEpOwogICAgICAgICAgICAKCiAgICAgICAgICAgIGNpcmNsZV9tYXJrZXJfMGJiNWI4ZWNiYzBlNGI4NjkzMTMwMzlkOTQ3ZWExNDcuYmluZFBvcHVwKHBvcHVwXzZlZWE0NWU5OGIwYTQzNDg4ZmEwODgwZWFiN2Q4ZDAxKTsKCiAgICAgICAgICAgIAogICAgICAgIAogICAgCiAgICAgICAgICAgIHZhciBjaXJjbGVfbWFya2VyX2U3ZDkxNDU5MzAxNTRlNzY5NWY4OTkzOTM0MzdjMGFjID0gTC5jaXJjbGVNYXJrZXIoCiAgICAgICAgICAgICAgICBbNDMuNzA0MzI0NCwtNzkuMzg4NzkwMV0sCiAgICAgICAgICAgICAgICB7CiAgImJ1YmJsaW5nTW91c2VFdmVudHMiOiB0cnVlLAogICJjb2xvciI6ICJibHVlIiwKICAiZGFzaEFycmF5IjogbnVsbCwKICAiZGFzaE9mZnNldCI6IG51bGwsCiAgImZpbGwiOiB0cnVlLAogICJmaWxsQ29sb3IiOiAiIzMxODZjYyIsCiAgImZpbGxPcGFjaXR5IjogMC43LAogICJmaWxsUnVsZSI6ICJldmVub2RkIiwKICAibGluZUNhcCI6ICJyb3VuZCIsCiAgImxpbmVKb2luIjogInJvdW5kIiwKICAib3BhY2l0eSI6IDEuMCwKICAicmFkaXVzIjogNSwKICAic3Ryb2tlIjogdHJ1ZSwKICAid2VpZ2h0IjogMwp9CiAgICAgICAgICAgICAgICApLmFkZFRvKG1hcF84YmFlOWRlNmM0Yjk0YWY5YWE1OWQzN2JjZDA3ZDI3Nik7CiAgICAgICAgICAgIAogICAgCiAgICAgICAgICAgIHZhciBwb3B1cF9lOTAwMDU4NzNiODU0MTBmODY1ZWE2OTliZDM2YzRkNCA9IEwucG9wdXAoe21heFdpZHRoOiAnMzAwJ30pOwoKICAgICAgICAgICAgCiAgICAgICAgICAgICAgICB2YXIgaHRtbF8yNjQ3N2NhZDljOGM0MDJhOTkyNjRhZTNlZjkyN2E2ZSA9ICQoJzxkaXYgaWQ9Imh0bWxfMjY0NzdjYWQ5YzhjNDAyYTk5MjY0YWUzZWY5MjdhNmUiIHN0eWxlPSJ3aWR0aDogMTAwLjAlOyBoZWlnaHQ6IDEwMC4wJTsiPkRhdmlzdmlsbGU8L2Rpdj4nKVswXTsKICAgICAgICAgICAgICAgIHBvcHVwX2U5MDAwNTg3M2I4NTQxMGY4NjVlYTY5OWJkMzZjNGQ0LnNldENvbnRlbnQoaHRtbF8yNjQ3N2NhZDljOGM0MDJhOTkyNjRhZTNlZjkyN2E2ZSk7CiAgICAgICAgICAgIAoKICAgICAgICAgICAgY2lyY2xlX21hcmtlcl9lN2Q5MTQ1OTMwMTU0ZTc2OTVmODk5MzkzNDM3YzBhYy5iaW5kUG9wdXAocG9wdXBfZTkwMDA1ODczYjg1NDEwZjg2NWVhNjk5YmQzNmM0ZDQpOwoKICAgICAgICAgICAgCiAgICAgICAgCiAgICAKICAgICAgICAgICAgdmFyIGNpcmNsZV9tYXJrZXJfZThkMmExY2ZkZjk2NDI5YmExY2JkZjUxZjE1ODliNjYgPSBMLmNpcmNsZU1hcmtlcigKICAgICAgICAgICAgICAgIFs0My42NjI2OTU2LC03OS40MDAwNDkzXSwKICAgICAgICAgICAgICAgIHsKICAiYnViYmxpbmdNb3VzZUV2ZW50cyI6IHRydWUsCiAgImNvbG9yIjogImJsdWUiLAogICJkYXNoQXJyYXkiOiBudWxsLAogICJkYXNoT2Zmc2V0IjogbnVsbCwKICAiZmlsbCI6IHRydWUsCiAgImZpbGxDb2xvciI6ICIjMzE4NmNjIiwKICAiZmlsbE9wYWNpdHkiOiAwLjcsCiAgImZpbGxSdWxlIjogImV2ZW5vZGQiLAogICJsaW5lQ2FwIjogInJvdW5kIiwKICAibGluZUpvaW4iOiAicm91bmQiLAogICJvcGFjaXR5IjogMS4wLAogICJyYWRpdXMiOiA1LAogICJzdHJva2UiOiB0cnVlLAogICJ3ZWlnaHQiOiAzCn0KICAgICAgICAgICAgICAgICkuYWRkVG8obWFwXzhiYWU5ZGU2YzRiOTRhZjlhYTU5ZDM3YmNkMDdkMjc2KTsKICAgICAgICAgICAgCiAgICAKICAgICAgICAgICAgdmFyIHBvcHVwX2VlMDRkZGQwMDliNDRhNjFhNWE1MDU1YWJlNTRlNDkxID0gTC5wb3B1cCh7bWF4V2lkdGg6ICczMDAnfSk7CgogICAgICAgICAgICAKICAgICAgICAgICAgICAgIHZhciBodG1sXzgwZGQyOTkxYmY1NDQ5Y2E4YmY5ZWE2N2VhMzQ0NTM4ID0gJCgnPGRpdiBpZD0iaHRtbF84MGRkMjk5MWJmNTQ0OWNhOGJmOWVhNjdlYTM0NDUzOCIgc3R5bGU9IndpZHRoOiAxMDAuMCU7IGhlaWdodDogMTAwLjAlOyI+VW5pdmVyc2l0eSBvZiBUb3JvbnRvLCBIYXJib3JkPC9kaXY+JylbMF07CiAgICAgICAgICAgICAgICBwb3B1cF9lZTA0ZGRkMDA5YjQ0YTYxYTVhNTA1NWFiZTU0ZTQ5MS5zZXRDb250ZW50KGh0bWxfODBkZDI5OTFiZjU0NDljYThiZjllYTY3ZWEzNDQ1MzgpOwogICAgICAgICAgICAKCiAgICAgICAgICAgIGNpcmNsZV9tYXJrZXJfZThkMmExY2ZkZjk2NDI5YmExY2JkZjUxZjE1ODliNjYuYmluZFBvcHVwKHBvcHVwX2VlMDRkZGQwMDliNDRhNjFhNWE1MDU1YWJlNTRlNDkxKTsKCiAgICAgICAgICAgIAogICAgICAgIAogICAgCiAgICAgICAgICAgIHZhciBjaXJjbGVfbWFya2VyX2E0NDVlM2NlYmZlMDRlOTU4NjU1YTU4MGZmNzkwNjY1ID0gTC5jaXJjbGVNYXJrZXIoCiAgICAgICAgICAgICAgICBbNDMuNjUxNTcwNiwtNzkuNDg0NDQ5OV0sCiAgICAgICAgICAgICAgICB7CiAgImJ1YmJsaW5nTW91c2VFdmVudHMiOiB0cnVlLAogICJjb2xvciI6ICJibHVlIiwKICAiZGFzaEFycmF5IjogbnVsbCwKICAiZGFzaE9mZnNldCI6IG51bGwsCiAgImZpbGwiOiB0cnVlLAogICJmaWxsQ29sb3IiOiAiIzMxODZjYyIsCiAgImZpbGxPcGFjaXR5IjogMC43LAogICJmaWxsUnVsZSI6ICJldmVub2RkIiwKICAibGluZUNhcCI6ICJyb3VuZCIsCiAgImxpbmVKb2luIjogInJvdW5kIiwKICAib3BhY2l0eSI6IDEuMCwKICAicmFkaXVzIjogNSwKICAic3Ryb2tlIjogdHJ1ZSwKICAid2VpZ2h0IjogMwp9CiAgICAgICAgICAgICAgICApLmFkZFRvKG1hcF84YmFlOWRlNmM0Yjk0YWY5YWE1OWQzN2JjZDA3ZDI3Nik7CiAgICAgICAgICAgIAogICAgCiAgICAgICAgICAgIHZhciBwb3B1cF9mZTZmNTE3NTY1NzA0ZTM5OTRmZTcyMjk1NTQxNzE0NiA9IEwucG9wdXAoe21heFdpZHRoOiAnMzAwJ30pOwoKICAgICAgICAgICAgCiAgICAgICAgICAgICAgICB2YXIgaHRtbF9kNzczMjVmZjI3MjI0Y2Q2YWI1YzA5ODA4ZmZlOTUwNSA9ICQoJzxkaXYgaWQ9Imh0bWxfZDc3MzI1ZmYyNzIyNGNkNmFiNWMwOTgwOGZmZTk1MDUiIHN0eWxlPSJ3aWR0aDogMTAwLjAlOyBoZWlnaHQ6IDEwMC4wJTsiPlJ1bm55bWVkZSwgU3dhbnNlYTwvZGl2PicpWzBdOwogICAgICAgICAgICAgICAgcG9wdXBfZmU2ZjUxNzU2NTcwNGUzOTk0ZmU3MjI5NTU0MTcxNDYuc2V0Q29udGVudChodG1sX2Q3NzMyNWZmMjcyMjRjZDZhYjVjMDk4MDhmZmU5NTA1KTsKICAgICAgICAgICAgCgogICAgICAgICAgICBjaXJjbGVfbWFya2VyX2E0NDVlM2NlYmZlMDRlOTU4NjU1YTU4MGZmNzkwNjY1LmJpbmRQb3B1cChwb3B1cF9mZTZmNTE3NTY1NzA0ZTM5OTRmZTcyMjk1NTQxNzE0Nik7CgogICAgICAgICAgICAKICAgICAgICAKICAgIAogICAgICAgICAgICB2YXIgY2lyY2xlX21hcmtlcl83MzExZTA4Y2ZkMDc0NmM1YTVjNzIwMWM5ODJkNDEzYyA9IEwuY2lyY2xlTWFya2VyKAogICAgICAgICAgICAgICAgWzQzLjY4OTU3NDMsLTc5LjM4MzE1OTkwMDAwMDAxXSwKICAgICAgICAgICAgICAgIHsKICAiYnViYmxpbmdNb3VzZUV2ZW50cyI6IHRydWUsCiAgImNvbG9yIjogImJsdWUiLAogICJkYXNoQXJyYXkiOiBudWxsLAogICJkYXNoT2Zmc2V0IjogbnVsbCwKICAiZmlsbCI6IHRydWUsCiAgImZpbGxDb2xvciI6ICIjMzE4NmNjIiwKICAiZmlsbE9wYWNpdHkiOiAwLjcsCiAgImZpbGxSdWxlIjogImV2ZW5vZGQiLAogICJsaW5lQ2FwIjogInJvdW5kIiwKICAibGluZUpvaW4iOiAicm91bmQiLAogICJvcGFjaXR5IjogMS4wLAogICJyYWRpdXMiOiA1LAogICJzdHJva2UiOiB0cnVlLAogICJ3ZWlnaHQiOiAzCn0KICAgICAgICAgICAgICAgICkuYWRkVG8obWFwXzhiYWU5ZGU2YzRiOTRhZjlhYTU5ZDM3YmNkMDdkMjc2KTsKICAgICAgICAgICAgCiAgICAKICAgICAgICAgICAgdmFyIHBvcHVwXzljOTEyZjgyZmJjYzQ4MDE4MDBiOTA0YzUzNDcwZDFjID0gTC5wb3B1cCh7bWF4V2lkdGg6ICczMDAnfSk7CgogICAgICAgICAgICAKICAgICAgICAgICAgICAgIHZhciBodG1sXzdiOTZhNDM5ZmI3MTRlMGRiNGYzYzEyMTc5ZjFiOGE2ID0gJCgnPGRpdiBpZD0iaHRtbF83Yjk2YTQzOWZiNzE0ZTBkYjRmM2MxMjE3OWYxYjhhNiIgc3R5bGU9IndpZHRoOiAxMDAuMCU7IGhlaWdodDogMTAwLjAlOyI+TW9vcmUgUGFyaywgU3VtbWVyaGlsbCBFYXN0PC9kaXY+JylbMF07CiAgICAgICAgICAgICAgICBwb3B1cF85YzkxMmY4MmZiY2M0ODAxODAwYjkwNGM1MzQ3MGQxYy5zZXRDb250ZW50KGh0bWxfN2I5NmE0MzlmYjcxNGUwZGI0ZjNjMTIxNzlmMWI4YTYpOwogICAgICAgICAgICAKCiAgICAgICAgICAgIGNpcmNsZV9tYXJrZXJfNzMxMWUwOGNmZDA3NDZjNWE1YzcyMDFjOTgyZDQxM2MuYmluZFBvcHVwKHBvcHVwXzljOTEyZjgyZmJjYzQ4MDE4MDBiOTA0YzUzNDcwZDFjKTsKCiAgICAgICAgICAgIAogICAgICAgIAogICAgCiAgICAgICAgICAgIHZhciBjaXJjbGVfbWFya2VyXzQ1YzZlOGJlNWJmYzQ2NTlhODA0NmI4NzY2ZmM2MzM4ID0gTC5jaXJjbGVNYXJrZXIoCiAgICAgICAgICAgICAgICBbNDMuNjUzMjA1NywtNzkuNDAwMDQ5M10sCiAgICAgICAgICAgICAgICB7CiAgImJ1YmJsaW5nTW91c2VFdmVudHMiOiB0cnVlLAogICJjb2xvciI6ICJibHVlIiwKICAiZGFzaEFycmF5IjogbnVsbCwKICAiZGFzaE9mZnNldCI6IG51bGwsCiAgImZpbGwiOiB0cnVlLAogICJmaWxsQ29sb3IiOiAiIzMxODZjYyIsCiAgImZpbGxPcGFjaXR5IjogMC43LAogICJmaWxsUnVsZSI6ICJldmVub2RkIiwKICAibGluZUNhcCI6ICJyb3VuZCIsCiAgImxpbmVKb2luIjogInJvdW5kIiwKICAib3BhY2l0eSI6IDEuMCwKICAicmFkaXVzIjogNSwKICAic3Ryb2tlIjogdHJ1ZSwKICAid2VpZ2h0IjogMwp9CiAgICAgICAgICAgICAgICApLmFkZFRvKG1hcF84YmFlOWRlNmM0Yjk0YWY5YWE1OWQzN2JjZDA3ZDI3Nik7CiAgICAgICAgICAgIAogICAgCiAgICAgICAgICAgIHZhciBwb3B1cF83MDRjZDM1MGJmYmI0OTkzOWI3Njg5ODZkMTgwMjM5OSA9IEwucG9wdXAoe21heFdpZHRoOiAnMzAwJ30pOwoKICAgICAgICAgICAgCiAgICAgICAgICAgICAgICB2YXIgaHRtbF80MzIyMTE3ZDBiNDY0NGNlYTY0NzM2YWIzMjMzNjU0ZCA9ICQoJzxkaXYgaWQ9Imh0bWxfNDMyMjExN2QwYjQ2NDRjZWE2NDczNmFiMzIzMzY1NGQiIHN0eWxlPSJ3aWR0aDogMTAwLjAlOyBoZWlnaHQ6IDEwMC4wJTsiPktlbnNpbmd0b24gTWFya2V0LCBDaGluYXRvd24sIEdyYW5nZSBQYXJrPC9kaXY+JylbMF07CiAgICAgICAgICAgICAgICBwb3B1cF83MDRjZDM1MGJmYmI0OTkzOWI3Njg5ODZkMTgwMjM5OS5zZXRDb250ZW50KGh0bWxfNDMyMjExN2QwYjQ2NDRjZWE2NDczNmFiMzIzMzY1NGQpOwogICAgICAgICAgICAKCiAgICAgICAgICAgIGNpcmNsZV9tYXJrZXJfNDVjNmU4YmU1YmZjNDY1OWE4MDQ2Yjg3NjZmYzYzMzguYmluZFBvcHVwKHBvcHVwXzcwNGNkMzUwYmZiYjQ5OTM5Yjc2ODk4NmQxODAyMzk5KTsKCiAgICAgICAgICAgIAogICAgICAgIAogICAgCiAgICAgICAgICAgIHZhciBjaXJjbGVfbWFya2VyXzIxNDljMmY3YTJmNDQzNmRiMjk2YTc2YjlmMmZmMThmID0gTC5jaXJjbGVNYXJrZXIoCiAgICAgICAgICAgICAgICBbNDMuNjg2NDEyMjk5OTk5OTksLTc5LjQwMDA0OTNdLAogICAgICAgICAgICAgICAgewogICJidWJibGluZ01vdXNlRXZlbnRzIjogdHJ1ZSwKICAiY29sb3IiOiAiYmx1ZSIsCiAgImRhc2hBcnJheSI6IG51bGwsCiAgImRhc2hPZmZzZXQiOiBudWxsLAogICJmaWxsIjogdHJ1ZSwKICAiZmlsbENvbG9yIjogIiMzMTg2Y2MiLAogICJmaWxsT3BhY2l0eSI6IDAuNywKICAiZmlsbFJ1bGUiOiAiZXZlbm9kZCIsCiAgImxpbmVDYXAiOiAicm91bmQiLAogICJsaW5lSm9pbiI6ICJyb3VuZCIsCiAgIm9wYWNpdHkiOiAxLjAsCiAgInJhZGl1cyI6IDUsCiAgInN0cm9rZSI6IHRydWUsCiAgIndlaWdodCI6IDMKfQogICAgICAgICAgICAgICAgKS5hZGRUbyhtYXBfOGJhZTlkZTZjNGI5NGFmOWFhNTlkMzdiY2QwN2QyNzYpOwogICAgICAgICAgICAKICAgIAogICAgICAgICAgICB2YXIgcG9wdXBfMDNmYWNhNDQzYTdjNGU4MzliYWFlNTM4MWYxYjA5OTkgPSBMLnBvcHVwKHttYXhXaWR0aDogJzMwMCd9KTsKCiAgICAgICAgICAgIAogICAgICAgICAgICAgICAgdmFyIGh0bWxfMDRmMDgxMjY5ZTczNDMzZjk5NTNkYmMwYTUyZDRmNjMgPSAkKCc8ZGl2IGlkPSJodG1sXzA0ZjA4MTI2OWU3MzQzM2Y5OTUzZGJjMGE1MmQ0ZjYzIiBzdHlsZT0id2lkdGg6IDEwMC4wJTsgaGVpZ2h0OiAxMDAuMCU7Ij5TdW1tZXJoaWxsIFdlc3QsIFJhdGhuZWxseSwgU291dGggSGlsbCwgRm9yZXN0IEhpbGwgU0UsIERlZXIgUGFyazwvZGl2PicpWzBdOwogICAgICAgICAgICAgICAgcG9wdXBfMDNmYWNhNDQzYTdjNGU4MzliYWFlNTM4MWYxYjA5OTkuc2V0Q29udGVudChodG1sXzA0ZjA4MTI2OWU3MzQzM2Y5OTUzZGJjMGE1MmQ0ZjYzKTsKICAgICAgICAgICAgCgogICAgICAgICAgICBjaXJjbGVfbWFya2VyXzIxNDljMmY3YTJmNDQzNmRiMjk2YTc2YjlmMmZmMThmLmJpbmRQb3B1cChwb3B1cF8wM2ZhY2E0NDNhN2M0ZTgzOWJhYWU1MzgxZjFiMDk5OSk7CgogICAgICAgICAgICAKICAgICAgICAKICAgIAogICAgICAgICAgICB2YXIgY2lyY2xlX21hcmtlcl81NzI4YzM0NDJkODY0NjdhYTYzNTI2MmM0YTUxOTNhMSA9IEwuY2lyY2xlTWFya2VyKAogICAgICAgICAgICAgICAgWzQzLjYyODk0NjcsLTc5LjM5NDQxOTldLAogICAgICAgICAgICAgICAgewogICJidWJibGluZ01vdXNlRXZlbnRzIjogdHJ1ZSwKICAiY29sb3IiOiAiYmx1ZSIsCiAgImRhc2hBcnJheSI6IG51bGwsCiAgImRhc2hPZmZzZXQiOiBudWxsLAogICJmaWxsIjogdHJ1ZSwKICAiZmlsbENvbG9yIjogIiMzMTg2Y2MiLAogICJmaWxsT3BhY2l0eSI6IDAuNywKICAiZmlsbFJ1bGUiOiAiZXZlbm9kZCIsCiAgImxpbmVDYXAiOiAicm91bmQiLAogICJsaW5lSm9pbiI6ICJyb3VuZCIsCiAgIm9wYWNpdHkiOiAxLjAsCiAgInJhZGl1cyI6IDUsCiAgInN0cm9rZSI6IHRydWUsCiAgIndlaWdodCI6IDMKfQogICAgICAgICAgICAgICAgKS5hZGRUbyhtYXBfOGJhZTlkZTZjNGI5NGFmOWFhNTlkMzdiY2QwN2QyNzYpOwogICAgICAgICAgICAKICAgIAogICAgICAgICAgICB2YXIgcG9wdXBfYjRhZGFjODU3MmI0NDBlNmE5MmQ1NDI5MGM5MGM1ZjkgPSBMLnBvcHVwKHttYXhXaWR0aDogJzMwMCd9KTsKCiAgICAgICAgICAgIAogICAgICAgICAgICAgICAgdmFyIGh0bWxfMDcwZjQwMGI5MzhiNDYwMjk2NTc3MTI1ODNmN2Y2YWYgPSAkKCc8ZGl2IGlkPSJodG1sXzA3MGY0MDBiOTM4YjQ2MDI5NjU3NzEyNTgzZjdmNmFmIiBzdHlsZT0id2lkdGg6IDEwMC4wJTsgaGVpZ2h0OiAxMDAuMCU7Ij5DTiBUb3dlciwgS2luZyBhbmQgU3BhZGluYSwgUmFpbHdheSBMYW5kcywgSGFyYm91cmZyb250IFdlc3QsIEJhdGh1cnN0IFF1YXksIFNvdXRoIE5pYWdhcmEsIElzbGFuZCBhaXJwb3J0PC9kaXY+JylbMF07CiAgICAgICAgICAgICAgICBwb3B1cF9iNGFkYWM4NTcyYjQ0MGU2YTkyZDU0MjkwYzkwYzVmOS5zZXRDb250ZW50KGh0bWxfMDcwZjQwMGI5MzhiNDYwMjk2NTc3MTI1ODNmN2Y2YWYpOwogICAgICAgICAgICAKCiAgICAgICAgICAgIGNpcmNsZV9tYXJrZXJfNTcyOGMzNDQyZDg2NDY3YWE2MzUyNjJjNGE1MTkzYTEuYmluZFBvcHVwKHBvcHVwX2I0YWRhYzg1NzJiNDQwZTZhOTJkNTQyOTBjOTBjNWY5KTsKCiAgICAgICAgICAgIAogICAgICAgIAogICAgCiAgICAgICAgICAgIHZhciBjaXJjbGVfbWFya2VyX2MzMmJhODUwYjBlODQyMzdhY2RhMWU3NDhhYWYxMGI2ID0gTC5jaXJjbGVNYXJrZXIoCiAgICAgICAgICAgICAgICBbNDMuNjc5NTYyNiwtNzkuMzc3NTI5NDAwMDAwMDFdLAogICAgICAgICAgICAgICAgewogICJidWJibGluZ01vdXNlRXZlbnRzIjogdHJ1ZSwKICAiY29sb3IiOiAiYmx1ZSIsCiAgImRhc2hBcnJheSI6IG51bGwsCiAgImRhc2hPZmZzZXQiOiBudWxsLAogICJmaWxsIjogdHJ1ZSwKICAiZmlsbENvbG9yIjogIiMzMTg2Y2MiLAogICJmaWxsT3BhY2l0eSI6IDAuNywKICAiZmlsbFJ1bGUiOiAiZXZlbm9kZCIsCiAgImxpbmVDYXAiOiAicm91bmQiLAogICJsaW5lSm9pbiI6ICJyb3VuZCIsCiAgIm9wYWNpdHkiOiAxLjAsCiAgInJhZGl1cyI6IDUsCiAgInN0cm9rZSI6IHRydWUsCiAgIndlaWdodCI6IDMKfQogICAgICAgICAgICAgICAgKS5hZGRUbyhtYXBfOGJhZTlkZTZjNGI5NGFmOWFhNTlkMzdiY2QwN2QyNzYpOwogICAgICAgICAgICAKICAgIAogICAgICAgICAgICB2YXIgcG9wdXBfOWRlZDc1YWY0YWIzNDI3Njk5Njc5ODQ3NjNiM2FmOGUgPSBMLnBvcHVwKHttYXhXaWR0aDogJzMwMCd9KTsKCiAgICAgICAgICAgIAogICAgICAgICAgICAgICAgdmFyIGh0bWxfZjNhMWFhYWRjODRhNDEyNzlhODY1ZGMzOTZhNmUyYTggPSAkKCc8ZGl2IGlkPSJodG1sX2YzYTFhYWFkYzg0YTQxMjc5YTg2NWRjMzk2YTZlMmE4IiBzdHlsZT0id2lkdGg6IDEwMC4wJTsgaGVpZ2h0OiAxMDAuMCU7Ij5Sb3NlZGFsZTwvZGl2PicpWzBdOwogICAgICAgICAgICAgICAgcG9wdXBfOWRlZDc1YWY0YWIzNDI3Njk5Njc5ODQ3NjNiM2FmOGUuc2V0Q29udGVudChodG1sX2YzYTFhYWFkYzg0YTQxMjc5YTg2NWRjMzk2YTZlMmE4KTsKICAgICAgICAgICAgCgogICAgICAgICAgICBjaXJjbGVfbWFya2VyX2MzMmJhODUwYjBlODQyMzdhY2RhMWU3NDhhYWYxMGI2LmJpbmRQb3B1cChwb3B1cF85ZGVkNzVhZjRhYjM0Mjc2OTk2Nzk4NDc2M2IzYWY4ZSk7CgogICAgICAgICAgICAKICAgICAgICAKICAgIAogICAgICAgICAgICB2YXIgY2lyY2xlX21hcmtlcl8zNGMxODNiNzU2Njc0OGMxYTBkZDUzMGZmNDYzZWJkOCA9IEwuY2lyY2xlTWFya2VyKAogICAgICAgICAgICAgICAgWzQzLjY0NjQzNTIsLTc5LjM3NDg0NTk5OTk5OTk5XSwKICAgICAgICAgICAgICAgIHsKICAiYnViYmxpbmdNb3VzZUV2ZW50cyI6IHRydWUsCiAgImNvbG9yIjogImJsdWUiLAogICJkYXNoQXJyYXkiOiBudWxsLAogICJkYXNoT2Zmc2V0IjogbnVsbCwKICAiZmlsbCI6IHRydWUsCiAgImZpbGxDb2xvciI6ICIjMzE4NmNjIiwKICAiZmlsbE9wYWNpdHkiOiAwLjcsCiAgImZpbGxSdWxlIjogImV2ZW5vZGQiLAogICJsaW5lQ2FwIjogInJvdW5kIiwKICAibGluZUpvaW4iOiAicm91bmQiLAogICJvcGFjaXR5IjogMS4wLAogICJyYWRpdXMiOiA1LAogICJzdHJva2UiOiB0cnVlLAogICJ3ZWlnaHQiOiAzCn0KICAgICAgICAgICAgICAgICkuYWRkVG8obWFwXzhiYWU5ZGU2YzRiOTRhZjlhYTU5ZDM3YmNkMDdkMjc2KTsKICAgICAgICAgICAgCiAgICAKICAgICAgICAgICAgdmFyIHBvcHVwXzczMTJhOTQwNjY0MjQwYjZhZjFhOGRiZDVhMzk4NTRjID0gTC5wb3B1cCh7bWF4V2lkdGg6ICczMDAnfSk7CgogICAgICAgICAgICAKICAgICAgICAgICAgICAgIHZhciBodG1sXzFhMmZlYzczZTM0NTQ4N2NhY2JkY2RjZjBjMGFlMjYyID0gJCgnPGRpdiBpZD0iaHRtbF8xYTJmZWM3M2UzNDU0ODdjYWNiZGNkY2YwYzBhZTI2MiIgc3R5bGU9IndpZHRoOiAxMDAuMCU7IGhlaWdodDogMTAwLjAlOyI+U3RuIEEgUE8gQm94ZXM8L2Rpdj4nKVswXTsKICAgICAgICAgICAgICAgIHBvcHVwXzczMTJhOTQwNjY0MjQwYjZhZjFhOGRiZDVhMzk4NTRjLnNldENvbnRlbnQoaHRtbF8xYTJmZWM3M2UzNDU0ODdjYWNiZGNkY2YwYzBhZTI2Mik7CiAgICAgICAgICAgIAoKICAgICAgICAgICAgY2lyY2xlX21hcmtlcl8zNGMxODNiNzU2Njc0OGMxYTBkZDUzMGZmNDYzZWJkOC5iaW5kUG9wdXAocG9wdXBfNzMxMmE5NDA2NjQyNDBiNmFmMWE4ZGJkNWEzOTg1NGMpOwoKICAgICAgICAgICAgCiAgICAgICAgCiAgICAKICAgICAgICAgICAgdmFyIGNpcmNsZV9tYXJrZXJfMTBiNWZmNzU5ZDRiNGZiMTk2MjFhMGFhYTUyZmE3MGEgPSBMLmNpcmNsZU1hcmtlcigKICAgICAgICAgICAgICAgIFs0My42Njc5NjcsLTc5LjM2NzY3NTNdLAogICAgICAgICAgICAgICAgewogICJidWJibGluZ01vdXNlRXZlbnRzIjogdHJ1ZSwKICAiY29sb3IiOiAiYmx1ZSIsCiAgImRhc2hBcnJheSI6IG51bGwsCiAgImRhc2hPZmZzZXQiOiBudWxsLAogICJmaWxsIjogdHJ1ZSwKICAiZmlsbENvbG9yIjogIiMzMTg2Y2MiLAogICJmaWxsT3BhY2l0eSI6IDAuNywKICAiZmlsbFJ1bGUiOiAiZXZlbm9kZCIsCiAgImxpbmVDYXAiOiAicm91bmQiLAogICJsaW5lSm9pbiI6ICJyb3VuZCIsCiAgIm9wYWNpdHkiOiAxLjAsCiAgInJhZGl1cyI6IDUsCiAgInN0cm9rZSI6IHRydWUsCiAgIndlaWdodCI6IDMKfQogICAgICAgICAgICAgICAgKS5hZGRUbyhtYXBfOGJhZTlkZTZjNGI5NGFmOWFhNTlkMzdiY2QwN2QyNzYpOwogICAgICAgICAgICAKICAgIAogICAgICAgICAgICB2YXIgcG9wdXBfZDQ4MTdmYzVmYTMwNGI2MGJjZjQyNjMwMDk2MjNlZjYgPSBMLnBvcHVwKHttYXhXaWR0aDogJzMwMCd9KTsKCiAgICAgICAgICAgIAogICAgICAgICAgICAgICAgdmFyIGh0bWxfYzEyYmNjZThhNGM2NDQ5YWJiMzVhMzhkN2NlNTUwOTcgPSAkKCc8ZGl2IGlkPSJodG1sX2MxMmJjY2U4YTRjNjQ0OWFiYjM1YTM4ZDdjZTU1MDk3IiBzdHlsZT0id2lkdGg6IDEwMC4wJTsgaGVpZ2h0OiAxMDAuMCU7Ij5TdC4gSmFtZXMgVG93biwgQ2FiYmFnZXRvd248L2Rpdj4nKVswXTsKICAgICAgICAgICAgICAgIHBvcHVwX2Q0ODE3ZmM1ZmEzMDRiNjBiY2Y0MjYzMDA5NjIzZWY2LnNldENvbnRlbnQoaHRtbF9jMTJiY2NlOGE0YzY0NDlhYmIzNWEzOGQ3Y2U1NTA5Nyk7CiAgICAgICAgICAgIAoKICAgICAgICAgICAgY2lyY2xlX21hcmtlcl8xMGI1ZmY3NTlkNGI0ZmIxOTYyMWEwYWFhNTJmYTcwYS5iaW5kUG9wdXAocG9wdXBfZDQ4MTdmYzVmYTMwNGI2MGJjZjQyNjMwMDk2MjNlZjYpOwoKICAgICAgICAgICAgCiAgICAgICAgCiAgICAKICAgICAgICAgICAgdmFyIGNpcmNsZV9tYXJrZXJfY2E1MDA3NDFlYzVhNDlhM2ExNmU4MzY1NGI1OTAzZGQgPSBMLmNpcmNsZU1hcmtlcigKICAgICAgICAgICAgICAgIFs0My42NDg0MjkyLC03OS4zODIyODAyXSwKICAgICAgICAgICAgICAgIHsKICAiYnViYmxpbmdNb3VzZUV2ZW50cyI6IHRydWUsCiAgImNvbG9yIjogImJsdWUiLAogICJkYXNoQXJyYXkiOiBudWxsLAogICJkYXNoT2Zmc2V0IjogbnVsbCwKICAiZmlsbCI6IHRydWUsCiAgImZpbGxDb2xvciI6ICIjMzE4NmNjIiwKICAiZmlsbE9wYWNpdHkiOiAwLjcsCiAgImZpbGxSdWxlIjogImV2ZW5vZGQiLAogICJsaW5lQ2FwIjogInJvdW5kIiwKICAibGluZUpvaW4iOiAicm91bmQiLAogICJvcGFjaXR5IjogMS4wLAogICJyYWRpdXMiOiA1LAogICJzdHJva2UiOiB0cnVlLAogICJ3ZWlnaHQiOiAzCn0KICAgICAgICAgICAgICAgICkuYWRkVG8obWFwXzhiYWU5ZGU2YzRiOTRhZjlhYTU5ZDM3YmNkMDdkMjc2KTsKICAgICAgICAgICAgCiAgICAKICAgICAgICAgICAgdmFyIHBvcHVwX2QzOGJlZjgzOGQ2MTRiN2I5YTQ4YjZmZGFhZmFhYzU1ID0gTC5wb3B1cCh7bWF4V2lkdGg6ICczMDAnfSk7CgogICAgICAgICAgICAKICAgICAgICAgICAgICAgIHZhciBodG1sX2E4Y2Y2ODIzYTU0ZTQ1YzI4YjUxM2ExZWZlYzc3MmY0ID0gJCgnPGRpdiBpZD0iaHRtbF9hOGNmNjgyM2E1NGU0NWMyOGI1MTNhMWVmZWM3NzJmNCIgc3R5bGU9IndpZHRoOiAxMDAuMCU7IGhlaWdodDogMTAwLjAlOyI+Rmlyc3QgQ2FuYWRpYW4gUGxhY2UsIFVuZGVyZ3JvdW5kIGNpdHk8L2Rpdj4nKVswXTsKICAgICAgICAgICAgICAgIHBvcHVwX2QzOGJlZjgzOGQ2MTRiN2I5YTQ4YjZmZGFhZmFhYzU1LnNldENvbnRlbnQoaHRtbF9hOGNmNjgyM2E1NGU0NWMyOGI1MTNhMWVmZWM3NzJmNCk7CiAgICAgICAgICAgIAoKICAgICAgICAgICAgY2lyY2xlX21hcmtlcl9jYTUwMDc0MWVjNWE0OWEzYTE2ZTgzNjU0YjU5MDNkZC5iaW5kUG9wdXAocG9wdXBfZDM4YmVmODM4ZDYxNGI3YjlhNDhiNmZkYWFmYWFjNTUpOwoKICAgICAgICAgICAgCiAgICAgICAgCiAgICAKICAgICAgICAgICAgdmFyIGNpcmNsZV9tYXJrZXJfOTBiYTUzZjU5MmE5NDYzZGFjMDhlNDU0OTY4NTIzNzAgPSBMLmNpcmNsZU1hcmtlcigKICAgICAgICAgICAgICAgIFs0My42NjU4NTk5LC03OS4zODMxNTk5MDAwMDAwMV0sCiAgICAgICAgICAgICAgICB7CiAgImJ1YmJsaW5nTW91c2VFdmVudHMiOiB0cnVlLAogICJjb2xvciI6ICJibHVlIiwKICAiZGFzaEFycmF5IjogbnVsbCwKICAiZGFzaE9mZnNldCI6IG51bGwsCiAgImZpbGwiOiB0cnVlLAogICJmaWxsQ29sb3IiOiAiIzMxODZjYyIsCiAgImZpbGxPcGFjaXR5IjogMC43LAogICJmaWxsUnVsZSI6ICJldmVub2RkIiwKICAibGluZUNhcCI6ICJyb3VuZCIsCiAgImxpbmVKb2luIjogInJvdW5kIiwKICAib3BhY2l0eSI6IDEuMCwKICAicmFkaXVzIjogNSwKICAic3Ryb2tlIjogdHJ1ZSwKICAid2VpZ2h0IjogMwp9CiAgICAgICAgICAgICAgICApLmFkZFRvKG1hcF84YmFlOWRlNmM0Yjk0YWY5YWE1OWQzN2JjZDA3ZDI3Nik7CiAgICAgICAgICAgIAogICAgCiAgICAgICAgICAgIHZhciBwb3B1cF85ZjliNjJjNzYxMzA0ZTljYTIwYzI2NjExNjYyZTVmNSA9IEwucG9wdXAoe21heFdpZHRoOiAnMzAwJ30pOwoKICAgICAgICAgICAgCiAgICAgICAgICAgICAgICB2YXIgaHRtbF9iYzU4M2QwZDI0ZTY0OGM1OGIzZWJhYzc5ZTI2ZjgzMCA9ICQoJzxkaXYgaWQ9Imh0bWxfYmM1ODNkMGQyNGU2NDhjNThiM2ViYWM3OWUyNmY4MzAiIHN0eWxlPSJ3aWR0aDogMTAwLjAlOyBoZWlnaHQ6IDEwMC4wJTsiPkNodXJjaCBhbmQgV2VsbGVzbGV5PC9kaXY+JylbMF07CiAgICAgICAgICAgICAgICBwb3B1cF85ZjliNjJjNzYxMzA0ZTljYTIwYzI2NjExNjYyZTVmNS5zZXRDb250ZW50KGh0bWxfYmM1ODNkMGQyNGU2NDhjNThiM2ViYWM3OWUyNmY4MzApOwogICAgICAgICAgICAKCiAgICAgICAgICAgIGNpcmNsZV9tYXJrZXJfOTBiYTUzZjU5MmE5NDYzZGFjMDhlNDU0OTY4NTIzNzAuYmluZFBvcHVwKHBvcHVwXzlmOWI2MmM3NjEzMDRlOWNhMjBjMjY2MTE2NjJlNWY1KTsKCiAgICAgICAgICAgIAogICAgICAgIAogICAgCiAgICAgICAgICAgIHZhciBjaXJjbGVfbWFya2VyX2VhYjg2ZGIzYjI3NjQwYzM5MjJlYTQzNzAyZGFmM2Y3ID0gTC5jaXJjbGVNYXJrZXIoCiAgICAgICAgICAgICAgICBbNDMuNjYyNzQzOSwtNzkuMzIxNTU4XSwKICAgICAgICAgICAgICAgIHsKICAiYnViYmxpbmdNb3VzZUV2ZW50cyI6IHRydWUsCiAgImNvbG9yIjogImJsdWUiLAogICJkYXNoQXJyYXkiOiBudWxsLAogICJkYXNoT2Zmc2V0IjogbnVsbCwKICAiZmlsbCI6IHRydWUsCiAgImZpbGxDb2xvciI6ICIjMzE4NmNjIiwKICAiZmlsbE9wYWNpdHkiOiAwLjcsCiAgImZpbGxSdWxlIjogImV2ZW5vZGQiLAogICJsaW5lQ2FwIjogInJvdW5kIiwKICAibGluZUpvaW4iOiAicm91bmQiLAogICJvcGFjaXR5IjogMS4wLAogICJyYWRpdXMiOiA1LAogICJzdHJva2UiOiB0cnVlLAogICJ3ZWlnaHQiOiAzCn0KICAgICAgICAgICAgICAgICkuYWRkVG8obWFwXzhiYWU5ZGU2YzRiOTRhZjlhYTU5ZDM3YmNkMDdkMjc2KTsKICAgICAgICAgICAgCiAgICAKICAgICAgICAgICAgdmFyIHBvcHVwXzgxMGMwM2Q1Y2EzMDQwNWM4NjlkOWQxYzU2YzUzNTcwID0gTC5wb3B1cCh7bWF4V2lkdGg6ICczMDAnfSk7CgogICAgICAgICAgICAKICAgICAgICAgICAgICAgIHZhciBodG1sXzcxOWFhNGZiNzcyMDQ2ZTJiMzRiMjUyNDZhN2Q1OGZjID0gJCgnPGRpdiBpZD0iaHRtbF83MTlhYTRmYjc3MjA0NmUyYjM0YjI1MjQ2YTdkNThmYyIgc3R5bGU9IndpZHRoOiAxMDAuMCU7IGhlaWdodDogMTAwLjAlOyI+QnVzaW5lc3MgcmVwbHkgbWFpbCBQcm9jZXNzaW5nIENlbnRyZSwgU291dGggQ2VudHJhbCBMZXR0ZXIgUHJvY2Vzc2luZyBQbGFudCBUb3JvbnRvPC9kaXY+JylbMF07CiAgICAgICAgICAgICAgICBwb3B1cF84MTBjMDNkNWNhMzA0MDVjODY5ZDlkMWM1NmM1MzU3MC5zZXRDb250ZW50KGh0bWxfNzE5YWE0ZmI3NzIwNDZlMmIzNGIyNTI0NmE3ZDU4ZmMpOwogICAgICAgICAgICAKCiAgICAgICAgICAgIGNpcmNsZV9tYXJrZXJfZWFiODZkYjNiMjc2NDBjMzkyMmVhNDM3MDJkYWYzZjcuYmluZFBvcHVwKHBvcHVwXzgxMGMwM2Q1Y2EzMDQwNWM4NjlkOWQxYzU2YzUzNTcwKTsKCiAgICAgICAgICAgIAogICAgICAgIAo8L3NjcmlwdD4= onload=\"this.contentDocument.open();this.contentDocument.write(atob(this.getAttribute('data-html')));this.contentDocument.close();\" allowfullscreen webkitallowfullscreen mozallowfullscreen></iframe></div></div>"
     },
     "metadata": {},
     "execution_count": 19
    }
   ],
   "source": [
    "# create map of Toronto using latitude and longitude values\n",
    "map_toronto = folium.Map(location=[latitude, longitude], zoom_start=12)\n",
    "\n",
    "# add markers to map\n",
    "for lat, lng, label in zip(df3['Latitude'], df3['Longitude'], df3['Neighbourhood']):\n",
    "    label = folium.Popup(label, parse_html = True)\n",
    "    folium.CircleMarker(\n",
    "        [lat, lng],\n",
    "        radius = 5,\n",
    "        popup = label,\n",
    "        color = 'blue',\n",
    "        fill = True,\n",
    "        fill_color = '#3186cc',\n",
    "        fill_opacity = 0.7,\n",
    "        parse_html = False).add_to(map_toronto)\n",
    "    \n",
    "map_toronto"
   ]
  },
  {
   "source": [
    "### Define Foursquare credentials and version."
   ],
   "cell_type": "markdown",
   "metadata": {}
  },
  {
   "cell_type": "code",
   "execution_count": 20,
   "metadata": {},
   "outputs": [],
   "source": [
    "CLIENT_ID = ########## # Foursquare ID, I've hash it out after running the code for privacy concern\n",
    "CLIENT_SECRET = ########## # Foursquare Secret, I've hash it out after running the code for privacy concern\n",
    "VERSION = '20180605' # Foursquare API version\n",
    "LIMIT = 100 # A default Foursquare API limit value"
   ]
  },
  {
   "source": [
    "### What's the first neighbourhood?"
   ],
   "cell_type": "markdown",
   "metadata": {}
  },
  {
   "cell_type": "code",
   "execution_count": 21,
   "metadata": {},
   "outputs": [
    {
     "output_type": "execute_result",
     "data": {
      "text/plain": [
       "'Regent Park, Harbourfront'"
      ]
     },
     "metadata": {},
     "execution_count": 21
    }
   ],
   "source": [
    "df3.loc[0, 'Neighbourhood']"
   ]
  },
  {
   "source": [
    "### Store the coorindates and the name of the neighbourhood."
   ],
   "cell_type": "markdown",
   "metadata": {}
  },
  {
   "cell_type": "code",
   "execution_count": 22,
   "metadata": {},
   "outputs": [
    {
     "output_type": "stream",
     "name": "stdout",
     "text": [
      "The latitude and longitude of Regent Park, Harbourfront are 43.6542599 and -79.3606359\n"
     ]
    }
   ],
   "source": [
    "nb_name = df3.loc[0, 'Neighbourhood']\n",
    "nb_lat = df3.loc[0, 'Latitude']\n",
    "nb_lng = df3.loc[0, 'Longitude']\n",
    "print('The latitude and longitude of {} are {} and {}'.format(nb_name, nb_lat, nb_lng))"
   ]
  },
  {
   "source": [
    "### Let's get the top 100 venues that are within radius of 500 metres of Regent Park, Harbourfront."
   ],
   "cell_type": "markdown",
   "metadata": {}
  },
  {
   "cell_type": "code",
   "execution_count": 23,
   "metadata": {},
   "outputs": [],
   "source": [
    "# build the url string\n",
    "radius = 500\n",
    "url = 'https://api.foursquare.com/v2/venues/explore?client_id={}&client_secret={}&ll={},{}&v={}&radius={}&limit={}'.format(CLIENT_ID, CLIENT_SECRET, nb_lat, nb_lng, VERSION, radius, LIMIT)"
   ]
  },
  {
   "source": [
    "### Send the GET request and examine the results."
   ],
   "cell_type": "markdown",
   "metadata": {}
  },
  {
   "cell_type": "code",
   "execution_count": 24,
   "metadata": {},
   "outputs": [
    {
     "output_type": "execute_result",
     "data": {
      "text/plain": [
       "bakery_',\n",
       "          'suffix': '.png'},\n",
       "         'primary': True}],\n",
       "       'photos': {'count': 0, 'groups': []}},\n",
       "      'referralId': 'e-0-4ad4c05df964a5204ef620e3-26'},\n",
       "     {'reasons': {'count': 0,\n",
       "       'items': [{'summary': 'This spot is popular',\n",
       "         'type': 'general',\n",
       "         'reasonName': 'globalInteractionReason'}]},\n",
       "      'venue': {'id': '4d84d98181fdb1f7d4a704c0',\n",
       "       'name': 'Caffe Furbo',\n",
       "       'location': {'address': '12 case goods lane',\n",
       "        'lat': 43.649969882303814,\n",
       "        'lng': -79.35884946388191,\n",
       "        'labeledLatLngs': [{'label': 'display',\n",
       "          'lat': 43.649969882303814,\n",
       "          'lng': -79.35884946388191}],\n",
       "        'distance': 498,\n",
       "        'postalCode': 'M5A 3C4',\n",
       "        'cc': 'CA',\n",
       "        'city': 'Toronto',\n",
       "        'state': 'ON',\n",
       "        'country': 'Canada',\n",
       "        'formattedAddress': ['12 case goods lane',\n",
       "         'Toronto ON M5A 3C4',\n",
       "         'Canada']},\n",
       "       'categories': [{'id': '4bf58dd8d48988d16d941735',\n",
       "         'name': 'Café',\n",
       "         'pluralName': 'Cafés',\n",
       "         'shortName': 'Café',\n",
       "         'icon': {'prefix': 'https://ss3.4sqi.net/img/categories_v2/food/cafe_',\n",
       "          'suffix': '.png'},\n",
       "         'primary': True}],\n",
       "       'photos': {'count': 0, 'groups': []},\n",
       "       'venuePage': {'id': '47611149'}},\n",
       "      'referralId': 'e-0-4d84d98181fdb1f7d4a704c0-27'},\n",
       "     {'reasons': {'count': 0,\n",
       "       'items': [{'summary': 'This spot is popular',\n",
       "         'type': 'general',\n",
       "         'reasonName': 'globalInteractionReason'}]},\n",
       "      'venue': {'id': '51ddecee498e1ffd34185d2f',\n",
       "       'name': 'El Catrin',\n",
       "       'location': {'address': '18 Tank House Lane',\n",
       "        'crossStreet': 'Distillery District',\n",
       "        'lat': 43.650600737116996,\n",
       "        'lng': -79.35892024942333,\n",
       "        'labeledLatLngs': [{'label': 'display',\n",
       "          'lat': 43.650600737116996,\n",
       "          'lng': -79.35892024942333}],\n",
       "        'distance': 430,\n",
       "        'postalCode': 'M5A 3C4',\n",
       "        'cc': 'CA',\n",
       "        'city': 'Toronto',\n",
       "        'state': 'ON',\n",
       "        'country': 'Canada',\n",
       "        'formattedAddress': ['18 Tank House Lane (Distillery District)',\n",
       "         'Toronto ON M5A 3C4',\n",
       "         'Canada']},\n",
       "       'categories': [{'id': '4bf58dd8d48988d1c1941735',\n",
       "         'name': 'Mexican Restaurant',\n",
       "         'pluralName': 'Mexican Restaurants',\n",
       "         'shortName': 'Mexican',\n",
       "         'icon': {'prefix': 'https://ss3.4sqi.net/img/categories_v2/food/mexican_',\n",
       "          'suffix': '.png'},\n",
       "         'primary': True}],\n",
       "       'photos': {'count': 0, 'groups': []},\n",
       "       'venuePage': {'id': '61086042'}},\n",
       "      'referralId': 'e-0-51ddecee498e1ffd34185d2f-28'},\n",
       "     {'reasons': {'count': 0,\n",
       "       'items': [{'summary': 'This spot is popular',\n",
       "         'type': 'general',\n",
       "         'reasonName': 'globalInteractionReason'}]},\n",
       "      'venue': {'id': '4af9fc95f964a520ca1522e3',\n",
       "       'name': 'Mill St. Brew Pub',\n",
       "       'location': {'address': '21 Tank House Ln',\n",
       "        'crossStreet': 'at Pure Spirits Mews',\n",
       "        'lat': 43.65035331843578,\n",
       "        'lng': -79.35848936650571,\n",
       "        'labeledLatLngs': [{'label': 'display',\n",
       "          'lat': 43.65035331843578,\n",
       "          'lng': -79.35848936650571}],\n",
       "        'distance': 467,\n",
       "        'postalCode': 'M5A 3C4',\n",
       "        'cc': 'CA',\n",
       "        'neighborhood': 'Distillery District',\n",
       "        'city': 'Toronto',\n",
       "        'state': 'ON',\n",
       "        'country': 'Canada',\n",
       "        'formattedAddress': ['21 Tank House Ln (at Pure Spirits Mews)',\n",
       "         'Toronto ON M5A 3C4',\n",
       "         'Canada']},\n",
       "       'categories': [{'id': '4bf58dd8d48988d11b941735',\n",
       "         'name': 'Pub',\n",
       "         'pluralName': 'Pubs',\n",
       "         'shortName': 'Pub',\n",
       "         'icon': {'prefix': 'https://ss3.4sqi.net/img/categories_v2/nightlife/pub_',\n",
       "          'suffix': '.png'},\n",
       "         'primary': True}],\n",
       "       'photos': {'count': 0, 'groups': []}},\n",
       "      'referralId': 'e-0-4af9fc95f964a520ca1522e3-29'},\n",
       "     {'reasons': {'count': 0,\n",
       "       'items': [{'summary': 'This spot is popular',\n",
       "         'type': 'general',\n",
       "         'reasonName': 'globalInteractionReason'}]},\n",
       "      'venue': {'id': '4bb52a8bf562ef3b7d992e97',\n",
       "       'name': 'Soulpepper Theatre',\n",
       "       'location': {'address': '55 Mill St',\n",
       "        'lat': 43.65078003430492,\n",
       "        'lng': -79.35761534068922,\n",
       "        'labeledLatLngs': [{'label': 'display',\n",
       "          'lat': 43.65078003430492,\n",
       "          'lng': -79.35761534068922}],\n",
       "        'distance': 457,\n",
       "        'cc': 'CA',\n",
       "        'city': 'Toronto',\n",
       "        'state': 'ON',\n",
       "        'country': 'Canada',\n",
       "        'formattedAddress': ['55 Mill St', 'Toronto ON', 'Canada']},\n",
       "       'categories': [{'id': '4bf58dd8d48988d137941735',\n",
       "         'name': 'Theater',\n",
       "         'pluralName': 'Theaters',\n",
       "         'shortName': 'Theater',\n",
       "         'icon': {'prefix': 'https://ss3.4sqi.net/img/categories_v2/arts_entertainment/performingarts_theater_',\n",
       "          'suffix': '.png'},\n",
       "         'primary': True}],\n",
       "       'photos': {'count': 0, 'groups': []}},\n",
       "      'referralId': 'e-0-4bb52a8bf562ef3b7d992e97-30'},\n",
       "     {'reasons': {'count': 0,\n",
       "       'items': [{'summary': 'This spot is popular',\n",
       "         'type': 'general',\n",
       "         'reasonName': 'globalInteractionReason'}]},\n",
       "      'venue': {'id': '4ade8ea8f964a5205a7621e3',\n",
       "       'name': 'Berkeley Church',\n",
       "       'location': {'address': '315 Queen St E',\n",
       "        'crossStreet': 'at Berkeley St',\n",
       "        'lat': 43.65512324174501,\n",
       "        'lng': -79.36587330410705,\n",
       "        'labeledLatLngs': [{'label': 'display',\n",
       "          'lat': 43.65512324174501,\n",
       "          'lng': -79.36587330410705}],\n",
       "        'distance': 432,\n",
       "        'postalCode': 'M5A 1S7',\n",
       "        'cc': 'CA',\n",
       "        'city': 'Toronto',\n",
       "        'state': 'ON',\n",
       "        'country': 'Canada',\n",
       "        'formattedAddress': ['315 Queen St E (at Berkeley St)',\n",
       "         'Toronto ON M5A 1S7',\n",
       "         'Canada']},\n",
       "       'categories': [{'id': '4bf58dd8d48988d171941735',\n",
       "         'name': 'Event Space',\n",
       "         'pluralName': 'Event Spaces',\n",
       "         'shortName': 'Event Space',\n",
       "         'icon': {'prefix': 'https://ss3.4sqi.net/img/categories_v2/building/eventspace_',\n",
       "          'suffix': '.png'},\n",
       "         'primary': True}],\n",
       "       'photos': {'count': 0, 'groups': []}},\n",
       "      'referralId': 'e-0-4ade8ea8f964a5205a7621e3-31'},\n",
       "     {'reasons': {'count': 0,\n",
       "       'items': [{'summary': 'This spot is popular',\n",
       "         'type': 'general',\n",
       "         'reasonName': 'globalInteractionReason'}]},\n",
       "      'venue': {'id': '51828372e4b0ea1bac906b00',\n",
       "       'name': 'John Fluevog Shoes',\n",
       "       'location': {'address': '4 Trinity St.',\n",
       "        'crossStreet': 'Distillery District',\n",
       "        'lat': 43.64989585773889,\n",
       "        'lng': -79.3594359503061,\n",
       "        'labeledLatLngs': [{'label': 'display',\n",
       "          'lat': 43.64989585773889,\n",
       "          'lng': -79.3594359503061}],\n",
       "        'distance': 495,\n",
       "        'postalCode': 'M5A 3C4',\n",
       "        'cc': 'CA',\n",
       "        'city': 'Toronto',\n",
       "        'state': 'ON',\n",
       "        'country': 'Canada',\n",
       "        'formattedAddress': ['4 Trinity St. (Distillery District)',\n",
       "         'Toronto ON M5A 3C4',\n",
       "         'Canada']},\n",
       "       'categories': [{'id': '4bf58dd8d48988d107951735',\n",
       "         'name': 'Shoe Store',\n",
       "         'pluralName': 'Shoe Stores',\n",
       "         'shortName': 'Shoes',\n",
       "         'icon': {'prefix': 'https://ss3.4sqi.net/img/categories_v2/shops/apparel_shoestore_',\n",
       "          'suffix': '.png'},\n",
       "         'primary': True}],\n",
       "       'photos': {'count': 0, 'groups': []}},\n",
       "      'referralId': 'e-0-51828372e4b0ea1bac906b00-32'},\n",
       "     {'reasons': {'count': 0,\n",
       "       'items': [{'summary': 'This spot is popular',\n",
       "         'type': 'general',\n",
       "         'reasonName': 'globalInteractionReason'}]},\n",
       "      'venue': {'id': '54d37e23498e5e29bcb35362',\n",
       "       'name': 'ODIN Cafe + Bar',\n",
       "       'location': {'address': '514 King St E',\n",
       "        'crossStreet': 'at River St',\n",
       "        'lat': 43.656738544928054,\n",
       "        'lng': -79.35650305267754,\n",
       "        'labeledLatLngs': [{'label': 'display',\n",
       "          'lat': 43.656738544928054,\n",
       "          'lng': -79.35650305267754}],\n",
       "        'distance': 432,\n",
       "        'postalCode': 'M5A 1M1',\n",
       "        'cc': 'CA',\n",
       "        'city': 'Toronto',\n",
       "        'state': 'ON',\n",
       "        'country': 'Canada',\n",
       "        'formattedAddress': ['514 King St E (at River St)',\n",
       "         'Toronto ON M5A 1M1',\n",
       "         'Canada']},\n",
       "       'categories': [{'id': '4bf58dd8d48988d16d941735',\n",
       "         'name': 'Café',\n",
       "         'pluralName': 'Cafés',\n",
       "         'shortName': 'Café',\n",
       "         'icon': {'prefix': 'https://ss3.4sqi.net/img/categories_v2/food/cafe_',\n",
       "          'suffix': '.png'},\n",
       "         'primary': True}],\n",
       "       'photos': {'count': 0, 'groups': []}},\n",
       "      'referralId': 'e-0-54d37e23498e5e29bcb35362-33'},\n",
       "     {'reasons': {'count': 0,\n",
       "       'items': [{'summary': 'This spot is popular',\n",
       "         'type': 'general',\n",
       "         'reasonName': 'globalInteractionReason'}]},\n",
       "      'venue': {'id': '5b7ccd5e1f8ed6002c9bd7d0',\n",
       "       'name': 'The Aviary',\n",
       "       'location': {'lat': 43.65363394725125,\n",
       "        'lng': -79.35466212072043,\n",
       "        'labeledLatLngs': [{'label': 'display',\n",
       "          'lat': 43.65363394725125,\n",
       "          'lng': -79.35466212072043}],\n",
       "        'distance': 486,\n",
       "        'postalCode': 'M5A 1H7',\n",
       "        'cc': 'CA',\n",
       "        'city': 'Toronto',\n",
       "        'state': 'ON',\n",
       "        'country': 'Canada',\n",
       "        'formattedAddress': ['Toronto ON M5A 1H7', 'Canada']},\n",
       "       'categories': [{'id': '4bf58dd8d48988d11b941735',\n",
       "         'name': 'Pub',\n",
       "         'pluralName': 'Pubs',\n",
       "         'shortName': 'Pub',\n",
       "         'icon': {'prefix': 'https://ss3.4sqi.net/img/categories_v2/nightlife/pub_',\n",
       "          'suffix': '.png'},\n",
       "         'primary': True}],\n",
       "       'photos': {'count': 0, 'groups': []}},\n",
       "      'referralId': 'e-0-5b7ccd5e1f8ed6002c9bd7d0-34'},\n",
       "     {'reasons': {'count': 0,\n",
       "       'items': [{'summary': 'This spot is popular',\n",
       "         'type': 'general',\n",
       "         'reasonName': 'globalInteractionReason'}]},\n",
       "      'venue': {'id': '4af21e78f964a520fae521e3',\n",
       "       'name': 'Arta Gallery',\n",
       "       'location': {'address': '14 Distillery Lane',\n",
       "        'crossStreet': 'Distillery District',\n",
       "        'lat': 43.650022181882065,\n",
       "        'lng': -79.36122168476822,\n",
       "        'labeledLatLngs': [{'label': 'display',\n",
       "          'lat': 43.650022181882065,\n",
       "          'lng': -79.36122168476822}],\n",
       "        'distance': 474,\n",
       "        'postalCode': 'M5A 3C4',\n",
       "        'cc': 'CA',\n",
       "        'city': 'Toronto',\n",
       "        'state': 'ON',\n",
       "        'country': 'Canada',\n",
       "        'formattedAddress': ['14 Distillery Lane (Distillery District)',\n",
       "         'Toronto ON M5A 3C4',\n",
       "         'Canada']},\n",
       "       'categories': [{'id': '4bf58dd8d48988d1e2931735',\n",
       "         'name': 'Art Gallery',\n",
       "         'pluralName': 'Art Galleries',\n",
       "         'shortName': 'Art Gallery',\n",
       "         'icon': {'prefix': 'https://ss3.4sqi.net/img/categories_v2/arts_entertainment/artgallery_',\n",
       "          'suffix': '.png'},\n",
       "         'primary': True}],\n",
       "       'photos': {'count': 0, 'groups': []}},\n",
       "      'referralId': 'e-0-4af21e78f964a520fae521e3-35'},\n",
       "     {'reasons': {'count': 0,\n",
       "       'items': [{'summary': 'This spot is popular',\n",
       "         'type': 'general',\n",
       "         'reasonName': 'globalInteractionReason'}]},\n",
       "      'venue': {'id': '4ad8d551f964a5201f1521e3',\n",
       "       'name': 'Vistek',\n",
       "       'location': {'address': '496 Queen St E',\n",
       "        'crossStreet': 'at Sumach',\n",
       "        'lat': 43.65704640025721,\n",
       "        'lng': -79.35966695607046,\n",
       "        'labeledLatLngs': [{'label': 'display',\n",
       "          'lat': 43.65704640025721,\n",
       "          'lng': -79.35966695607046}],\n",
       "        'distance': 319,\n",
       "        'cc': 'CA',\n",
       "        'city': 'Toronto',\n",
       "        'state': 'ON',\n",
       "        'country': 'Canada',\n",
       "        'formattedAddress': ['496 Queen St E (at Sumach)',\n",
       "         'Toronto ON',\n",
       "         'Canada']},\n",
       "       'categories': [{'id': '4bf58dd8d48988d122951735',\n",
       "         'name': 'Electronics Store',\n",
       "         'pluralName': 'Electronics Stores',\n",
       "         'shortName': 'Electronics',\n",
       "         'icon': {'prefix': 'https://ss3.4sqi.net/img/categories_v2/shops/technology_',\n",
       "          'suffix': '.png'},\n",
       "         'primary': True}],\n",
       "       'photos': {'count': 0, 'groups': []}},\n",
       "      'referralId': 'e-0-4ad8d551f964a5201f1521e3-36'},\n",
       "     {'reasons': {'count': 0,\n",
       "       'items': [{'summary': 'This spot is popular',\n",
       "         'type': 'general',\n",
       "         'reasonName': 'globalInteractionReason'}]},\n",
       "      'venue': {'id': '4dbb2d7a6e815ab0de64d555',\n",
       "       'name': 'Ontario Spring Water Sake Company',\n",
       "       'location': {'address': '51 Gristmill Lane',\n",
       "        'lat': 43.649921646081026,\n",
       "        'lng': -79.36007302731126,\n",
       "        'labeledLatLngs': [{'label': 'display',\n",
       "          'lat': 43.649921646081026,\n",
       "          'lng': -79.36007302731126}],\n",
       "        'distance': 485,\n",
       "        'postalCode': 'M5A 3C4',\n",
       "        'cc': 'CA',\n",
       "        'city': 'Toronto',\n",
       "        'state': 'ON',\n",
       "        'country': 'Canada',\n",
       "        'formattedAddress': ['51 Gristmill Lane',\n",
       "         'Toronto ON M5A 3C4',\n",
       "         'Canada']},\n",
       "       'categories': [{'id': '50327c8591d4c4b30a586d5d',\n",
       "         'name': 'Brewery',\n",
       "         'pluralName': 'Breweries',\n",
       "         'shortName': 'Brewery',\n",
       "         'icon': {'prefix': 'https://ss3.4sqi.net/img/categories_v2/food/brewery_',\n",
       "          'suffix': '.png'},\n",
       "         'primary': True}],\n",
       "       'photos': {'count': 0, 'groups': []}},\n",
       "      'referralId': 'e-0-4dbb2d7a6e815ab0de64d555-37'},\n",
       "     {'reasons': {'count': 0,\n",
       "       'items': [{'summary': 'This spot is popular',\n",
       "         'type': 'general',\n",
       "         'reasonName': 'globalInteractionReason'}]},\n",
       "      'venue': {'id': '4d126fd3d1848cfad5cfbb71',\n",
       "       'name': 'TD Canada Trust',\n",
       "       'location': {'address': '457 Front Street East',\n",
       "        'lat': 43.652779762702764,\n",
       "        'lng': -79.3563362625656,\n",
       "        'labeledLatLngs': [{'label': 'display',\n",
       "          'lat': 43.652779762702764,\n",
       "          'lng': -79.3563362625656}],\n",
       "        'distance': 383,\n",
       "        'postalCode': 'M5A 0J2',\n",
       "        'cc': 'CA',\n",
       "        'city': 'Toronto',\n",
       "        'state': 'ON',\n",
       "        'country': 'Canada',\n",
       "        'formattedAddress': ['457 Front Street East',\n",
       "         'Toronto ON M5A 0J2',\n",
       "         'Canada']},\n",
       "       'categories': [{'id': '4bf58dd8d48988d10a951735',\n",
       "         'name': 'Bank',\n",
       "         'pluralName': 'Banks',\n",
       "         'shortName': 'Bank',\n",
       "         'icon': {'prefix': 'https://ss3.4sqi.net/img/categories_v2/shops/financial_',\n",
       "          'suffix': '.png'},\n",
       "         'primary': True}],\n",
       "       'photos': {'count': 0, 'groups': []}},\n",
       "      'referralId': 'e-0-4d126fd3d1848cfad5cfbb71-38'},\n",
       "     {'reasons': {'count': 0,\n",
       "       'items': [{'summary': 'This spot is popular',\n",
       "         'type': 'general',\n",
       "         'reasonName': 'globalInteractionReason'}]},\n",
       "      'venue': {'id': '4b8acdfdf964a520378232e3',\n",
       "       'name': 'The Beer Store',\n",
       "       'location': {'address': '28 River Street',\n",
       "        'crossStreet': 'Queen St E',\n",
       "        'lat': 43.657773,\n",
       "        'lng': -79.3574632,\n",
       "        'labeledLatLngs': [{'label': 'display',\n",
       "          'lat': 43.657773,\n",
       "          'lng': -79.3574632}],\n",
       "        'distance': 467,\n",
       "        'postalCode': 'M5A 3N9',\n",
       "        'cc': 'CA',\n",
       "        'city': 'Toronto',\n",
       "        'state': 'ON',\n",
       "        'country': 'Canada',\n",
       "        'formattedAddress': ['28 River Street (Queen St E)',\n",
       "         'Toronto ON M5A 3N9',\n",
       "         'Canada']},\n",
       "       'categories': [{'id': '5370f356bcbc57f1066c94c2',\n",
       "         'name': 'Beer Store',\n",
       "         'pluralName': 'Beer Stores',\n",
       "         'shortName': 'Beer Store',\n",
       "         'icon': {'prefix': 'https://ss3.4sqi.net/img/categories_v2/nightlife/beergarden_',\n",
       "          'suffix': '.png'},\n",
       "         'primary': True}],\n",
       "       'photos': {'count': 0, 'groups': []}},\n",
       "      'referralId': 'e-0-4b8acdfdf964a520378232e3-39'},\n",
       "     {'reasons': {'count': 0,\n",
       "       'items': [{'summary': 'This spot is popular',\n",
       "         'type': 'general',\n",
       "         'reasonName': 'globalInteractionReason'}]},\n",
       "      'venue': {'id': '4b2cf78cf964a52077cb24e3',\n",
       "       'name': 'Savoury Grounds',\n",
       "       'location': {'address': '481 Queen St. East',\n",
       "        'crossStreet': 'Sumach St',\n",
       "        'lat': 43.656820970004496,\n",
       "        'lng': -79.3589698353747,\n",
       "        'labeledLatLngs': [{'label': 'display',\n",
       "          'lat': 43.656820970004496,\n",
       "          'lng': -79.3589698353747}],\n",
       "        'distance': 315,\n",
       "        'cc': 'CA',\n",
       "        'city': 'Toronto',\n",
       "        'state': 'ON',\n",
       "        'country': 'Canada',\n",
       "        'formattedAddress': ['481 Queen St. East (Sumach St)',\n",
       "         'Toronto ON',\n",
       "         'Canada']},\n",
       "       'categories': [{'id': '4bf58dd8d48988d1e0931735',\n",
       "         'name': 'Coffee Shop',\n",
       "         'pluralName': 'Coffee Shops',\n",
       "         'shortName': 'Coffee Shop',\n",
       "         'icon': {'prefix': 'https://ss3.4sqi.net/img/categories_v2/food/coffeeshop_',\n",
       "          'suffix': '.png'},\n",
       "         'primary': True}],\n",
       "       'photos': {'count': 0, 'groups': []}},\n",
       "      'referralId': 'e-0-4b2cf78cf964a52077cb24e3-40'},\n",
       "     {'reasons': {'count': 0,\n",
       "       'items': [{'summary': 'This spot is popular',\n",
       "         'type': 'general',\n",
       "         'reasonName': 'globalInteractionReason'}]},\n",
       "      'venue': {'id': '593b5fbea35dce738ebbb4ec',\n",
       "       'name': 'Residence & Conference Centre',\n",
       "       'location': {'address': '80 Cooperage',\n",
       "        'crossStreet': 'Front Street',\n",
       "        'lat': 43.65304,\n",
       "        'lng': -79.35704,\n",
       "        'labeledLatLngs': [{'label': 'display',\n",
       "          'lat': 43.65304,\n",
       "          'lng': -79.35704}],\n",
       "        'distance': 319,\n",
       "        'postalCode': 'M5A 1G9',\n",
       "        'cc': 'CA',\n",
       "        'city': 'Toronto',\n",
       "        'state': 'ON',\n",
       "        'country': 'Canada',\n",
       "        'formattedAddress': ['80 Cooperage (Front Street)',\n",
       "         'Toronto ON M5A 1G9',\n",
       "         'Canada']},\n",
       "       'categories': [{'id': '4bf58dd8d48988d1fa931735',\n",
       "         'name': 'Hotel',\n",
       "         'pluralName': 'Hotels',\n",
       "         'shortName': 'Hotel',\n",
       "         'icon': {'prefix': 'https://ss3.4sqi.net/img/categories_v2/travel/hotel_',\n",
       "          'suffix': '.png'},\n",
       "         'primary': True}],\n",
       "       'photos': {'count': 0, 'groups': []}},\n",
       "      'referralId': 'e-0-593b5fbea35dce738ebbb4ec-41'},\n",
       "     {'reasons': {'count': 0,\n",
       "       'items': [{'summary': 'This spot is popular',\n",
       "         'type': 'general',\n",
       "         'reasonName': 'globalInteractionReason'}]},\n",
       "      'venue': {'id': '57dd8bcd498e8eec19b9c896',\n",
       "       'name': 'FUEL+',\n",
       "       'location': {'address': '469 Front St',\n",
       "        'crossStreet': 'Rolling Mills Rd',\n",
       "        'lat': 43.653193,\n",
       "        'lng': -79.355867,\n",
       "        'labeledLatLngs': [{'label': 'display',\n",
       "          'lat': 43.653193,\n",
       "          'lng': -79.355867}],\n",
       "        'distance': 402,\n",
       "        'postalCode': 'M5A',\n",
       "        'cc': 'CA',\n",
       "        'city': 'Toronto',\n",
       "        'state': 'ON',\n",
       "        'country': 'Canada',\n",
       "        'formattedAddress': ['469 Front St (Rolling Mills Rd)',\n",
       "         'Toronto ON M5A',\n",
       "         'Canada']},\n",
       "       'categories': [{'id': '4bf58dd8d48988d1e0931735',\n",
       "         'name': 'Coffee Shop',\n",
       "         'pluralName': 'Coffee Shops',\n",
       "         'shortName': 'Coffee Shop',\n",
       "         'icon': {'prefix': 'https://ss3.4sqi.net/img/categories_v2/food/coffeeshop_',\n",
       "          'suffix': '.png'},\n",
       "         'primary': True}],\n",
       "       'photos': {'count': 0, 'groups': []}},\n",
       "      'referralId': 'e-0-57dd8bcd498e8eec19b9c896-42'},\n",
       "     {'reasons': {'count': 0,\n",
       "       'items': [{'summary': 'This spot is popular',\n",
       "         'type': 'general',\n",
       "         'reasonName': 'globalInteractionReason'}]},\n",
       "      'venue': {'id': '579cc5f2498e0fe8397deebb',\n",
       "       'name': 'GW General',\n",
       "       'location': {'lat': 43.650495,\n",
       "        'lng': -79.357538,\n",
       "        'labeledLatLngs': [{'label': 'display',\n",
       "          'lat': 43.650495,\n",
       "          'lng': -79.357538}],\n",
       "        'distance': 487,\n",
       "        'cc': 'CA',\n",
       "        'country': 'Canada',\n",
       "        'formattedAddress': ['Canada']},\n",
       "       'categories': [{'id': '4bf58dd8d48988d116951735',\n",
       "         'name': 'Antique Shop',\n",
       "         'pluralName': 'Antique Shops',\n",
       "         'shortName': 'Antiques',\n",
       "         'icon': {'prefix': 'https://ss3.4sqi.net/img/categories_v2/shops/antique_',\n",
       "          'suffix': '.png'},\n",
       "         'primary': True}],\n",
       "       'photos': {'count': 0, 'groups': []}},\n",
       "      'referralId': 'e-0-579cc5f2498e0fe8397deebb-43'}]}]}}"
      ]
     },
     "metadata": {},
     "execution_count": 24
    }
   ],
   "source": [
    "results = requests.get(url).json()\n",
    "results"
   ]
  },
  {
   "source": [
    "### Define a function that extracts the category of the venue."
   ],
   "cell_type": "markdown",
   "metadata": {}
  },
  {
   "cell_type": "code",
   "execution_count": 25,
   "metadata": {},
   "outputs": [],
   "source": [
    "# define the function that extracts the category of the venue\n",
    "def get_category_type(row):\n",
    "    try:\n",
    "        categories_list = row['categories']\n",
    "    except:\n",
    "        categories_list = row['venue.categories']\n",
    "        \n",
    "    if len(categories_list) == 0:\n",
    "        return None\n",
    "    else:\n",
    "        return categories_list[0]['name']"
   ]
  },
  {
   "source": [
    "### Create a dataframe to store the venues, the corresponding categories and coordinates."
   ],
   "cell_type": "markdown",
   "metadata": {}
  },
  {
   "cell_type": "code",
   "execution_count": 26,
   "metadata": {},
   "outputs": [
    {
     "output_type": "execute_result",
     "data": {
      "text/plain": [
       "                     name           categories        lat        lng\n",
       "0        Roselle Desserts               Bakery  43.653447 -79.362017\n",
       "1           Tandem Coffee          Coffee Shop  43.653559 -79.361809\n",
       "2  Cooper Koo Family YMCA  Distribution Center  43.653249 -79.358008\n",
       "3          Impact Kitchen           Restaurant  43.656369 -79.356980\n",
       "4     Body Blitz Spa East                  Spa  43.654735 -79.359874"
      ],
      "text/html": "<div>\n<style scoped>\n    .dataframe tbody tr th:only-of-type {\n        vertical-align: middle;\n    }\n\n    .dataframe tbody tr th {\n        vertical-align: top;\n    }\n\n    .dataframe thead th {\n        text-align: right;\n    }\n</style>\n<table border=\"1\" class=\"dataframe\">\n  <thead>\n    <tr style=\"text-align: right;\">\n      <th></th>\n      <th>name</th>\n      <th>categories</th>\n      <th>lat</th>\n      <th>lng</th>\n    </tr>\n  </thead>\n  <tbody>\n    <tr>\n      <th>0</th>\n      <td>Roselle Desserts</td>\n      <td>Bakery</td>\n      <td>43.653447</td>\n      <td>-79.362017</td>\n    </tr>\n    <tr>\n      <th>1</th>\n      <td>Tandem Coffee</td>\n      <td>Coffee Shop</td>\n      <td>43.653559</td>\n      <td>-79.361809</td>\n    </tr>\n    <tr>\n      <th>2</th>\n      <td>Cooper Koo Family YMCA</td>\n      <td>Distribution Center</td>\n      <td>43.653249</td>\n      <td>-79.358008</td>\n    </tr>\n    <tr>\n      <th>3</th>\n      <td>Impact Kitchen</td>\n      <td>Restaurant</td>\n      <td>43.656369</td>\n      <td>-79.356980</td>\n    </tr>\n    <tr>\n      <th>4</th>\n      <td>Body Blitz Spa East</td>\n      <td>Spa</td>\n      <td>43.654735</td>\n      <td>-79.359874</td>\n    </tr>\n  </tbody>\n</table>\n</div>"
     },
     "metadata": {},
     "execution_count": 26
    }
   ],
   "source": [
    "venues = results['response']['groups'][0]['items']\n",
    "    \n",
    "nearby_venues = json_normalize(venues) # flatten JSON\n",
    "\n",
    "# filter columns\n",
    "filtered_columns = ['venue.name', 'venue.categories', 'venue.location.lat', 'venue.location.lng']\n",
    "nearby_venues = nearby_venues.loc[:, filtered_columns]\n",
    "\n",
    "# filter the category for each row\n",
    "nearby_venues['venue.categories'] = nearby_venues.apply(get_category_type, axis = 1)\n",
    "\n",
    "# clean columns\n",
    "nearby_venues.columns = [col.split(\".\")[-1] for col in nearby_venues.columns]\n",
    "\n",
    "nearby_venues.head()"
   ]
  },
  {
   "source": [
    "### How many venues returned by Foursquare?"
   ],
   "cell_type": "markdown",
   "metadata": {}
  },
  {
   "cell_type": "code",
   "execution_count": 27,
   "metadata": {},
   "outputs": [
    {
     "output_type": "stream",
     "name": "stdout",
     "text": [
      "44 venues were returned by Foursquare.\n"
     ]
    }
   ],
   "source": [
    "print('{} venues were returned by Foursquare.'.format(nearby_venues.shape[0]))"
   ]
  },
  {
   "source": [
    "### Define a function to repeat the same process for all neighbourhoods."
   ],
   "cell_type": "markdown",
   "metadata": {}
  },
  {
   "cell_type": "code",
   "execution_count": 28,
   "metadata": {},
   "outputs": [],
   "source": [
    "def getNearbyVenues(names, latitudes, longitudes, radius = 500):\n",
    "    \n",
    "    venues_list = []\n",
    "    for name, lat, lng in zip(names, latitudes, longitudes):\n",
    "        print(name)\n",
    "            \n",
    "        # create the API request URL\n",
    "        url = 'https://api.foursquare.com/v2/venues/explore?&client_id={}&client_secret={}&v={}&ll={},{}&radius={}&limit={}'.format(\n",
    "            CLIENT_ID, \n",
    "            CLIENT_SECRET, \n",
    "            VERSION, \n",
    "            lat, \n",
    "            lng, \n",
    "            radius, \n",
    "            LIMIT)\n",
    "            \n",
    "        # make the GET request\n",
    "        results = requests.get(url).json()[\"response\"]['groups'][0]['items']\n",
    "        \n",
    "        # return only relevant information for each nearby venue\n",
    "        venues_list.append([(\n",
    "            name, \n",
    "            lat, \n",
    "            lng, \n",
    "            v['venue']['name'], \n",
    "            v['venue']['location']['lat'], \n",
    "            v['venue']['location']['lng'],  \n",
    "            v['venue']['categories'][0]['name']) for v in results])\n",
    "\n",
    "    nearby_venues = pd.DataFrame([item for venue_list in venues_list for item in venue_list])\n",
    "    nearby_venues.columns = ['Neighbourhood', \n",
    "                  'Neighbourhood Latitude', \n",
    "                  'Neighbourhood Longitude', \n",
    "                  'Venue', \n",
    "                  'Venue Latitude', \n",
    "                  'Venue Longitude', \n",
    "                  'Venue Category']\n",
    "    \n",
    "    return(nearby_venues)"
   ]
  },
  {
   "source": [
    "### What are the neighbourhoods?"
   ],
   "cell_type": "markdown",
   "metadata": {}
  },
  {
   "cell_type": "code",
   "execution_count": 29,
   "metadata": {},
   "outputs": [
    {
     "output_type": "stream",
     "name": "stdout",
     "text": [
      "Regent Park, Harbourfront\n",
      "Queen's Park, Ontario Provincial Government\n",
      "Garden District, Ryerson\n",
      "St. James Town\n",
      "The Beaches\n",
      "Berczy Park\n",
      "Central Bay Street\n",
      "Christie\n",
      "Richmond, Adelaide, King\n",
      "Dufferin, Dovercourt Village\n",
      "Harbourfront East, Union Station, Toronto Islands\n",
      "Little Portugal, Trinity\n",
      "The Danforth West, Riverdale\n",
      "Toronto Dominion Centre, Design Exchange\n",
      "Brockton, Parkdale Village, Exhibition Place\n",
      "India Bazaar, The Beaches West\n",
      "Commerce Court, Victoria Hotel\n",
      "Studio District\n",
      "Lawrence Park\n",
      "Roselawn\n",
      "Davisville North\n",
      "Forest Hill North & West, Forest Hill Road Park\n",
      "High Park, The Junction South\n",
      "North Toronto West, Lawrence Park\n",
      "The Annex, North Midtown, Yorkville\n",
      "Parkdale, Roncesvalles\n",
      "Davisville\n",
      "University of Toronto, Harbord\n",
      "Runnymede, Swansea\n",
      "Moore Park, Summerhill East\n",
      "Kensington Market, Chinatown, Grange Park\n",
      "Summerhill West, Rathnelly, South Hill, Forest Hill SE, Deer Park\n",
      "CN Tower, King and Spadina, Railway Lands, Harbourfront West, Bathurst Quay, South Niagara, Island airport\n",
      "Rosedale\n",
      "Stn A PO Boxes\n",
      "St. James Town, Cabbagetown\n",
      "First Canadian Place, Underground city\n",
      "Church and Wellesley\n",
      "Business reply mail Processing Centre, South Central Letter Processing Plant Toronto\n"
     ]
    }
   ],
   "source": [
    "toronto_venues = getNearbyVenues(names = df3['Neighbourhood'], latitudes = df3['Latitude'], longitudes = df3['Longitude'])"
   ]
  },
  {
   "source": [
    "### What's the size of the resulting dataframe?"
   ],
   "cell_type": "markdown",
   "metadata": {}
  },
  {
   "cell_type": "code",
   "execution_count": 30,
   "metadata": {},
   "outputs": [
    {
     "output_type": "stream",
     "name": "stdout",
     "text": [
      "(1624, 7)\n"
     ]
    },
    {
     "output_type": "execute_result",
     "data": {
      "text/plain": [
       "               Neighbourhood  Neighbourhood Latitude  Neighbourhood Longitude  \\\n",
       "0  Regent Park, Harbourfront                43.65426               -79.360636   \n",
       "1  Regent Park, Harbourfront                43.65426               -79.360636   \n",
       "2  Regent Park, Harbourfront                43.65426               -79.360636   \n",
       "3  Regent Park, Harbourfront                43.65426               -79.360636   \n",
       "4  Regent Park, Harbourfront                43.65426               -79.360636   \n",
       "\n",
       "                    Venue  Venue Latitude  Venue Longitude  \\\n",
       "0        Roselle Desserts       43.653447       -79.362017   \n",
       "1           Tandem Coffee       43.653559       -79.361809   \n",
       "2  Cooper Koo Family YMCA       43.653249       -79.358008   \n",
       "3          Impact Kitchen       43.656369       -79.356980   \n",
       "4     Body Blitz Spa East       43.654735       -79.359874   \n",
       "\n",
       "        Venue Category  \n",
       "0               Bakery  \n",
       "1          Coffee Shop  \n",
       "2  Distribution Center  \n",
       "3           Restaurant  \n",
       "4                  Spa  "
      ],
      "text/html": "<div>\n<style scoped>\n    .dataframe tbody tr th:only-of-type {\n        vertical-align: middle;\n    }\n\n    .dataframe tbody tr th {\n        vertical-align: top;\n    }\n\n    .dataframe thead th {\n        text-align: right;\n    }\n</style>\n<table border=\"1\" class=\"dataframe\">\n  <thead>\n    <tr style=\"text-align: right;\">\n      <th></th>\n      <th>Neighbourhood</th>\n      <th>Neighbourhood Latitude</th>\n      <th>Neighbourhood Longitude</th>\n      <th>Venue</th>\n      <th>Venue Latitude</th>\n      <th>Venue Longitude</th>\n      <th>Venue Category</th>\n    </tr>\n  </thead>\n  <tbody>\n    <tr>\n      <th>0</th>\n      <td>Regent Park, Harbourfront</td>\n      <td>43.65426</td>\n      <td>-79.360636</td>\n      <td>Roselle Desserts</td>\n      <td>43.653447</td>\n      <td>-79.362017</td>\n      <td>Bakery</td>\n    </tr>\n    <tr>\n      <th>1</th>\n      <td>Regent Park, Harbourfront</td>\n      <td>43.65426</td>\n      <td>-79.360636</td>\n      <td>Tandem Coffee</td>\n      <td>43.653559</td>\n      <td>-79.361809</td>\n      <td>Coffee Shop</td>\n    </tr>\n    <tr>\n      <th>2</th>\n      <td>Regent Park, Harbourfront</td>\n      <td>43.65426</td>\n      <td>-79.360636</td>\n      <td>Cooper Koo Family YMCA</td>\n      <td>43.653249</td>\n      <td>-79.358008</td>\n      <td>Distribution Center</td>\n    </tr>\n    <tr>\n      <th>3</th>\n      <td>Regent Park, Harbourfront</td>\n      <td>43.65426</td>\n      <td>-79.360636</td>\n      <td>Impact Kitchen</td>\n      <td>43.656369</td>\n      <td>-79.356980</td>\n      <td>Restaurant</td>\n    </tr>\n    <tr>\n      <th>4</th>\n      <td>Regent Park, Harbourfront</td>\n      <td>43.65426</td>\n      <td>-79.360636</td>\n      <td>Body Blitz Spa East</td>\n      <td>43.654735</td>\n      <td>-79.359874</td>\n      <td>Spa</td>\n    </tr>\n  </tbody>\n</table>\n</div>"
     },
     "metadata": {},
     "execution_count": 30
    }
   ],
   "source": [
    "print(toronto_venues.shape)\n",
    "toronto_venues.head()"
   ]
  },
  {
   "source": [
    "### How many venues are there for each of the neighbourhoods?"
   ],
   "cell_type": "markdown",
   "metadata": {}
  },
  {
   "cell_type": "code",
   "execution_count": 31,
   "metadata": {},
   "outputs": [
    {
     "output_type": "execute_result",
     "data": {
      "text/plain": [
       "                                                    Neighbourhood Latitude  \\\n",
       "Neighbourhood                                                                \n",
       "Berczy Park                                                             55   \n",
       "Brockton, Parkdale Village, Exhibition Place                            23   \n",
       "Business reply mail Processing Centre, South Ce...                      16   \n",
       "CN Tower, King and Spadina, Railway Lands, Harb...                      16   \n",
       "Central Bay Street                                                      68   \n",
       "Christie                                                                16   \n",
       "Church and Wellesley                                                    75   \n",
       "Commerce Court, Victoria Hotel                                         100   \n",
       "Davisville                                                              33   \n",
       "Davisville North                                                         9   \n",
       "Dufferin, Dovercourt Village                                            13   \n",
       "First Canadian Place, Underground city                                 100   \n",
       "Forest Hill North & West, Forest Hill Road Park                          4   \n",
       "Garden District, Ryerson                                               100   \n",
       "Harbourfront East, Union Station, Toronto Islands                      100   \n",
       "High Park, The Junction South                                           25   \n",
       "India Bazaar, The Beaches West                                          19   \n",
       "Kensington Market, Chinatown, Grange Park                               74   \n",
       "Lawrence Park                                                            3   \n",
       "Little Portugal, Trinity                                                45   \n",
       "Moore Park, Summerhill East                                              2   \n",
       "North Toronto West, Lawrence Park                                       18   \n",
       "Parkdale, Roncesvalles                                                  14   \n",
       "Queen's Park, Ontario Provincial Government                             33   \n",
       "Regent Park, Harbourfront                                               44   \n",
       "Richmond, Adelaide, King                                               100   \n",
       "Rosedale                                                                 4   \n",
       "Roselawn                                                                 2   \n",
       "Runnymede, Swansea                                                      33   \n",
       "St. James Town                                                          85   \n",
       "St. James Town, Cabbagetown                                             48   \n",
       "Stn A PO Boxes                                                          96   \n",
       "Studio District                                                         37   \n",
       "Summerhill West, Rathnelly, South Hill, Forest ...                      14   \n",
       "The Annex, North Midtown, Yorkville                                     19   \n",
       "The Beaches                                                              4   \n",
       "The Danforth West, Riverdale                                            43   \n",
       "Toronto Dominion Centre, Design Exchange                               100   \n",
       "University of Toronto, Harbord                                          34   \n",
       "\n",
       "                                                    Neighbourhood Longitude  \\\n",
       "Neighbourhood                                                                 \n",
       "Berczy Park                                                              55   \n",
       "Brockton, Parkdale Village, Exhibition Place                             23   \n",
       "Business reply mail Processing Centre, South Ce...                       16   \n",
       "CN Tower, King and Spadina, Railway Lands, Harb...                       16   \n",
       "Central Bay Street                                                       68   \n",
       "Christie                                                                 16   \n",
       "Church and Wellesley                                                     75   \n",
       "Commerce Court, Victoria Hotel                                          100   \n",
       "Davisville                                                               33   \n",
       "Davisville North                                                          9   \n",
       "Dufferin, Dovercourt Village                                             13   \n",
       "First Canadian Place, Underground city                                  100   \n",
       "Forest Hill North & West, Forest Hill Road Park                           4   \n",
       "Garden District, Ryerson                                                100   \n",
       "Harbourfront East, Union Station, Toronto Islands                       100   \n",
       "High Park, The Junction South                                            25   \n",
       "India Bazaar, The Beaches West                                           19   \n",
       "Kensington Market, Chinatown, Grange Park                                74   \n",
       "Lawrence Park                                                             3   \n",
       "Little Portugal, Trinity                                                 45   \n",
       "Moore Park, Summerhill East                                               2   \n",
       "North Toronto West, Lawrence Park                                        18   \n",
       "Parkdale, Roncesvalles                                                   14   \n",
       "Queen's Park, Ontario Provincial Government                              33   \n",
       "Regent Park, Harbourfront                                                44   \n",
       "Richmond, Adelaide, King                                                100   \n",
       "Rosedale                                                                  4   \n",
       "Roselawn                                                                  2   \n",
       "Runnymede, Swansea                                                       33   \n",
       "St. James Town                                                           85   \n",
       "St. James Town, Cabbagetown                                              48   \n",
       "Stn A PO Boxes                                                           96   \n",
       "Studio District                                                          37   \n",
       "Summerhill West, Rathnelly, South Hill, Forest ...                       14   \n",
       "The Annex, North Midtown, Yorkville                                      19   \n",
       "The Beaches                                                               4   \n",
       "The Danforth West, Riverdale                                             43   \n",
       "Toronto Dominion Centre, Design Exchange                                100   \n",
       "University of Toronto, Harbord                                           34   \n",
       "\n",
       "                                                    Venue  Venue Latitude  \\\n",
       "Neighbourhood                                                               \n",
       "Berczy Park                                            55              55   \n",
       "Brockton, Parkdale Village, Exhibition Place           23              23   \n",
       "Business reply mail Processing Centre, South Ce...     16              16   \n",
       "CN Tower, King and Spadina, Railway Lands, Harb...     16              16   \n",
       "Central Bay Street                                     68              68   \n",
       "Christie                                               16              16   \n",
       "Church and Wellesley                                   75              75   \n",
       "Commerce Court, Victoria Hotel                        100             100   \n",
       "Davisville                                             33              33   \n",
       "Davisville North                                        9               9   \n",
       "Dufferin, Dovercourt Village                           13              13   \n",
       "First Canadian Place, Underground city                100             100   \n",
       "Forest Hill North & West, Forest Hill Road Park         4               4   \n",
       "Garden District, Ryerson                              100             100   \n",
       "Harbourfront East, Union Station, Toronto Islands     100             100   \n",
       "High Park, The Junction South                          25              25   \n",
       "India Bazaar, The Beaches West                         19              19   \n",
       "Kensington Market, Chinatown, Grange Park              74              74   \n",
       "Lawrence Park                                           3               3   \n",
       "Little Portugal, Trinity                               45              45   \n",
       "Moore Park, Summerhill East                             2               2   \n",
       "North Toronto West, Lawrence Park                      18              18   \n",
       "Parkdale, Roncesvalles                                 14              14   \n",
       "Queen's Park, Ontario Provincial Government            33              33   \n",
       "Regent Park, Harbourfront                              44              44   \n",
       "Richmond, Adelaide, King                              100             100   \n",
       "Rosedale                                                4               4   \n",
       "Roselawn                                                2               2   \n",
       "Runnymede, Swansea                                     33              33   \n",
       "St. James Town                                         85              85   \n",
       "St. James Town, Cabbagetown                            48              48   \n",
       "Stn A PO Boxes                                         96              96   \n",
       "Studio District                                        37              37   \n",
       "Summerhill West, Rathnelly, South Hill, Forest ...     14              14   \n",
       "The Annex, North Midtown, Yorkville                    19              19   \n",
       "The Beaches                                             4               4   \n",
       "The Danforth West, Riverdale                           43              43   \n",
       "Toronto Dominion Centre, Design Exchange              100             100   \n",
       "University of Toronto, Harbord                         34              34   \n",
       "\n",
       "                                                    Venue Longitude  \\\n",
       "Neighbourhood                                                         \n",
       "Berczy Park                                                      55   \n",
       "Brockton, Parkdale Village, Exhibition Place                     23   \n",
       "Business reply mail Processing Centre, South Ce...               16   \n",
       "CN Tower, King and Spadina, Railway Lands, Harb...               16   \n",
       "Central Bay Street                                               68   \n",
       "Christie                                                         16   \n",
       "Church and Wellesley                                             75   \n",
       "Commerce Court, Victoria Hotel                                  100   \n",
       "Davisville                                                       33   \n",
       "Davisville North                                                  9   \n",
       "Dufferin, Dovercourt Village                                     13   \n",
       "First Canadian Place, Underground city                          100   \n",
       "Forest Hill North & West, Forest Hill Road Park                   4   \n",
       "Garden District, Ryerson                                        100   \n",
       "Harbourfront East, Union Station, Toronto Islands               100   \n",
       "High Park, The Junction South                                    25   \n",
       "India Bazaar, The Beaches West                                   19   \n",
       "Kensington Market, Chinatown, Grange Park                        74   \n",
       "Lawrence Park                                                     3   \n",
       "Little Portugal, Trinity                                         45   \n",
       "Moore Park, Summerhill East                                       2   \n",
       "North Toronto West, Lawrence Park                                18   \n",
       "Parkdale, Roncesvalles                                           14   \n",
       "Queen's Park, Ontario Provincial Government                      33   \n",
       "Regent Park, Harbourfront                                        44   \n",
       "Richmond, Adelaide, King                                        100   \n",
       "Rosedale                                                          4   \n",
       "Roselawn                                                          2   \n",
       "Runnymede, Swansea                                               33   \n",
       "St. James Town                                                   85   \n",
       "St. James Town, Cabbagetown                                      48   \n",
       "Stn A PO Boxes                                                   96   \n",
       "Studio District                                                  37   \n",
       "Summerhill West, Rathnelly, South Hill, Forest ...               14   \n",
       "The Annex, North Midtown, Yorkville                              19   \n",
       "The Beaches                                                       4   \n",
       "The Danforth West, Riverdale                                     43   \n",
       "Toronto Dominion Centre, Design Exchange                        100   \n",
       "University of Toronto, Harbord                                   34   \n",
       "\n",
       "                                                    Venue Category  \n",
       "Neighbourhood                                                       \n",
       "Berczy Park                                                     55  \n",
       "Brockton, Parkdale Village, Exhibition Place                    23  \n",
       "Business reply mail Processing Centre, South Ce...              16  \n",
       "CN Tower, King and Spadina, Railway Lands, Harb...              16  \n",
       "Central Bay Street                                              68  \n",
       "Christie                                                        16  \n",
       "Church and Wellesley                                            75  \n",
       "Commerce Court, Victoria Hotel                                 100  \n",
       "Davisville                                                      33  \n",
       "Davisville North                                                 9  \n",
       "Dufferin, Dovercourt Village                                    13  \n",
       "First Canadian Place, Underground city                         100  \n",
       "Forest Hill North & West, Forest Hill Road Park                  4  \n",
       "Garden District, Ryerson                                       100  \n",
       "Harbourfront East, Union Station, Toronto Islands              100  \n",
       "High Park, The Junction South                                   25  \n",
       "India Bazaar, The Beaches West                                  19  \n",
       "Kensington Market, Chinatown, Grange Park                       74  \n",
       "Lawrence Park                                                    3  \n",
       "Little Portugal, Trinity                                        45  \n",
       "Moore Park, Summerhill East                                      2  \n",
       "North Toronto West, Lawrence Park                               18  \n",
       "Parkdale, Roncesvalles                                          14  \n",
       "Queen's Park, Ontario Provincial Government                     33  \n",
       "Regent Park, Harbourfront                                       44  \n",
       "Richmond, Adelaide, King                                       100  \n",
       "Rosedale                                                         4  \n",
       "Roselawn                                                         2  \n",
       "Runnymede, Swansea                                              33  \n",
       "St. James Town                                                  85  \n",
       "St. James Town, Cabbagetown                                     48  \n",
       "Stn A PO Boxes                                                  96  \n",
       "Studio District                                                 37  \n",
       "Summerhill West, Rathnelly, South Hill, Forest ...              14  \n",
       "The Annex, North Midtown, Yorkville                             19  \n",
       "The Beaches                                                      4  \n",
       "The Danforth West, Riverdale                                    43  \n",
       "Toronto Dominion Centre, Design Exchange                       100  \n",
       "University of Toronto, Harbord                                  34  "
      ],
      "text/html": "<div>\n<style scoped>\n    .dataframe tbody tr th:only-of-type {\n        vertical-align: middle;\n    }\n\n    .dataframe tbody tr th {\n        vertical-align: top;\n    }\n\n    .dataframe thead th {\n        text-align: right;\n    }\n</style>\n<table border=\"1\" class=\"dataframe\">\n  <thead>\n    <tr style=\"text-align: right;\">\n      <th></th>\n      <th>Neighbourhood Latitude</th>\n      <th>Neighbourhood Longitude</th>\n      <th>Venue</th>\n      <th>Venue Latitude</th>\n      <th>Venue Longitude</th>\n      <th>Venue Category</th>\n    </tr>\n    <tr>\n      <th>Neighbourhood</th>\n      <th></th>\n      <th></th>\n      <th></th>\n      <th></th>\n      <th></th>\n      <th></th>\n    </tr>\n  </thead>\n  <tbody>\n    <tr>\n      <th>Berczy Park</th>\n      <td>55</td>\n      <td>55</td>\n      <td>55</td>\n      <td>55</td>\n      <td>55</td>\n      <td>55</td>\n    </tr>\n    <tr>\n      <th>Brockton, Parkdale Village, Exhibition Place</th>\n      <td>23</td>\n      <td>23</td>\n      <td>23</td>\n      <td>23</td>\n      <td>23</td>\n      <td>23</td>\n    </tr>\n    <tr>\n      <th>Business reply mail Processing Centre, South Central Letter Processing Plant Toronto</th>\n      <td>16</td>\n      <td>16</td>\n      <td>16</td>\n      <td>16</td>\n      <td>16</td>\n      <td>16</td>\n    </tr>\n    <tr>\n      <th>CN Tower, King and Spadina, Railway Lands, Harbourfront West, Bathurst Quay, South Niagara, Island airport</th>\n      <td>16</td>\n      <td>16</td>\n      <td>16</td>\n      <td>16</td>\n      <td>16</td>\n      <td>16</td>\n    </tr>\n    <tr>\n      <th>Central Bay Street</th>\n      <td>68</td>\n      <td>68</td>\n      <td>68</td>\n      <td>68</td>\n      <td>68</td>\n      <td>68</td>\n    </tr>\n    <tr>\n      <th>Christie</th>\n      <td>16</td>\n      <td>16</td>\n      <td>16</td>\n      <td>16</td>\n      <td>16</td>\n      <td>16</td>\n    </tr>\n    <tr>\n      <th>Church and Wellesley</th>\n      <td>75</td>\n      <td>75</td>\n      <td>75</td>\n      <td>75</td>\n      <td>75</td>\n      <td>75</td>\n    </tr>\n    <tr>\n      <th>Commerce Court, Victoria Hotel</th>\n      <td>100</td>\n      <td>100</td>\n      <td>100</td>\n      <td>100</td>\n      <td>100</td>\n      <td>100</td>\n    </tr>\n    <tr>\n      <th>Davisville</th>\n      <td>33</td>\n      <td>33</td>\n      <td>33</td>\n      <td>33</td>\n      <td>33</td>\n      <td>33</td>\n    </tr>\n    <tr>\n      <th>Davisville North</th>\n      <td>9</td>\n      <td>9</td>\n      <td>9</td>\n      <td>9</td>\n      <td>9</td>\n      <td>9</td>\n    </tr>\n    <tr>\n      <th>Dufferin, Dovercourt Village</th>\n      <td>13</td>\n      <td>13</td>\n      <td>13</td>\n      <td>13</td>\n      <td>13</td>\n      <td>13</td>\n    </tr>\n    <tr>\n      <th>First Canadian Place, Underground city</th>\n      <td>100</td>\n      <td>100</td>\n      <td>100</td>\n      <td>100</td>\n      <td>100</td>\n      <td>100</td>\n    </tr>\n    <tr>\n      <th>Forest Hill North &amp; West, Forest Hill Road Park</th>\n      <td>4</td>\n      <td>4</td>\n      <td>4</td>\n      <td>4</td>\n      <td>4</td>\n      <td>4</td>\n    </tr>\n    <tr>\n      <th>Garden District, Ryerson</th>\n      <td>100</td>\n      <td>100</td>\n      <td>100</td>\n      <td>100</td>\n      <td>100</td>\n      <td>100</td>\n    </tr>\n    <tr>\n      <th>Harbourfront East, Union Station, Toronto Islands</th>\n      <td>100</td>\n      <td>100</td>\n      <td>100</td>\n      <td>100</td>\n      <td>100</td>\n      <td>100</td>\n    </tr>\n    <tr>\n      <th>High Park, The Junction South</th>\n      <td>25</td>\n      <td>25</td>\n      <td>25</td>\n      <td>25</td>\n      <td>25</td>\n      <td>25</td>\n    </tr>\n    <tr>\n      <th>India Bazaar, The Beaches West</th>\n      <td>19</td>\n      <td>19</td>\n      <td>19</td>\n      <td>19</td>\n      <td>19</td>\n      <td>19</td>\n    </tr>\n    <tr>\n      <th>Kensington Market, Chinatown, Grange Park</th>\n      <td>74</td>\n      <td>74</td>\n      <td>74</td>\n      <td>74</td>\n      <td>74</td>\n      <td>74</td>\n    </tr>\n    <tr>\n      <th>Lawrence Park</th>\n      <td>3</td>\n      <td>3</td>\n      <td>3</td>\n      <td>3</td>\n      <td>3</td>\n      <td>3</td>\n    </tr>\n    <tr>\n      <th>Little Portugal, Trinity</th>\n      <td>45</td>\n      <td>45</td>\n      <td>45</td>\n      <td>45</td>\n      <td>45</td>\n      <td>45</td>\n    </tr>\n    <tr>\n      <th>Moore Park, Summerhill East</th>\n      <td>2</td>\n      <td>2</td>\n      <td>2</td>\n      <td>2</td>\n      <td>2</td>\n      <td>2</td>\n    </tr>\n    <tr>\n      <th>North Toronto West, Lawrence Park</th>\n      <td>18</td>\n      <td>18</td>\n      <td>18</td>\n      <td>18</td>\n      <td>18</td>\n      <td>18</td>\n    </tr>\n    <tr>\n      <th>Parkdale, Roncesvalles</th>\n      <td>14</td>\n      <td>14</td>\n      <td>14</td>\n      <td>14</td>\n      <td>14</td>\n      <td>14</td>\n    </tr>\n    <tr>\n      <th>Queen's Park, Ontario Provincial Government</th>\n      <td>33</td>\n      <td>33</td>\n      <td>33</td>\n      <td>33</td>\n      <td>33</td>\n      <td>33</td>\n    </tr>\n    <tr>\n      <th>Regent Park, Harbourfront</th>\n      <td>44</td>\n      <td>44</td>\n      <td>44</td>\n      <td>44</td>\n      <td>44</td>\n      <td>44</td>\n    </tr>\n    <tr>\n      <th>Richmond, Adelaide, King</th>\n      <td>100</td>\n      <td>100</td>\n      <td>100</td>\n      <td>100</td>\n      <td>100</td>\n      <td>100</td>\n    </tr>\n    <tr>\n      <th>Rosedale</th>\n      <td>4</td>\n      <td>4</td>\n      <td>4</td>\n      <td>4</td>\n      <td>4</td>\n      <td>4</td>\n    </tr>\n    <tr>\n      <th>Roselawn</th>\n      <td>2</td>\n      <td>2</td>\n      <td>2</td>\n      <td>2</td>\n      <td>2</td>\n      <td>2</td>\n    </tr>\n    <tr>\n      <th>Runnymede, Swansea</th>\n      <td>33</td>\n      <td>33</td>\n      <td>33</td>\n      <td>33</td>\n      <td>33</td>\n      <td>33</td>\n    </tr>\n    <tr>\n      <th>St. James Town</th>\n      <td>85</td>\n      <td>85</td>\n      <td>85</td>\n      <td>85</td>\n      <td>85</td>\n      <td>85</td>\n    </tr>\n    <tr>\n      <th>St. James Town, Cabbagetown</th>\n      <td>48</td>\n      <td>48</td>\n      <td>48</td>\n      <td>48</td>\n      <td>48</td>\n      <td>48</td>\n    </tr>\n    <tr>\n      <th>Stn A PO Boxes</th>\n      <td>96</td>\n      <td>96</td>\n      <td>96</td>\n      <td>96</td>\n      <td>96</td>\n      <td>96</td>\n    </tr>\n    <tr>\n      <th>Studio District</th>\n      <td>37</td>\n      <td>37</td>\n      <td>37</td>\n      <td>37</td>\n      <td>37</td>\n      <td>37</td>\n    </tr>\n    <tr>\n      <th>Summerhill West, Rathnelly, South Hill, Forest Hill SE, Deer Park</th>\n      <td>14</td>\n      <td>14</td>\n      <td>14</td>\n      <td>14</td>\n      <td>14</td>\n      <td>14</td>\n    </tr>\n    <tr>\n      <th>The Annex, North Midtown, Yorkville</th>\n      <td>19</td>\n      <td>19</td>\n      <td>19</td>\n      <td>19</td>\n      <td>19</td>\n      <td>19</td>\n    </tr>\n    <tr>\n      <th>The Beaches</th>\n      <td>4</td>\n      <td>4</td>\n      <td>4</td>\n      <td>4</td>\n      <td>4</td>\n      <td>4</td>\n    </tr>\n    <tr>\n      <th>The Danforth West, Riverdale</th>\n      <td>43</td>\n      <td>43</td>\n      <td>43</td>\n      <td>43</td>\n      <td>43</td>\n      <td>43</td>\n    </tr>\n    <tr>\n      <th>Toronto Dominion Centre, Design Exchange</th>\n      <td>100</td>\n      <td>100</td>\n      <td>100</td>\n      <td>100</td>\n      <td>100</td>\n      <td>100</td>\n    </tr>\n    <tr>\n      <th>University of Toronto, Harbord</th>\n      <td>34</td>\n      <td>34</td>\n      <td>34</td>\n      <td>34</td>\n      <td>34</td>\n      <td>34</td>\n    </tr>\n  </tbody>\n</table>\n</div>"
     },
     "metadata": {},
     "execution_count": 31
    }
   ],
   "source": [
    "toronto_venues.groupby('Neighbourhood').count()"
   ]
  },
  {
   "source": [
    "### How many unique categories that can be curated?"
   ],
   "cell_type": "markdown",
   "metadata": {}
  },
  {
   "cell_type": "code",
   "execution_count": 32,
   "metadata": {},
   "outputs": [
    {
     "output_type": "stream",
     "name": "stdout",
     "text": [
      "There are 236 uniques categories.\n"
     ]
    }
   ],
   "source": [
    "print('There are {} uniques categories.'.format(len(toronto_venues['Venue Category'].unique())))"
   ]
  },
  {
   "source": [
    "## Analysing Each Neighbourhood"
   ],
   "cell_type": "markdown",
   "metadata": {}
  },
  {
   "cell_type": "code",
   "execution_count": 33,
   "metadata": {},
   "outputs": [
    {
     "output_type": "execute_result",
     "data": {
      "text/plain": [
       "               Neighbourhood  Afghan Restaurant  Airport  Airport Food Court  \\\n",
       "0  Regent Park, Harbourfront                  0        0                   0   \n",
       "1  Regent Park, Harbourfront                  0        0                   0   \n",
       "2  Regent Park, Harbourfront                  0        0                   0   \n",
       "3  Regent Park, Harbourfront                  0        0                   0   \n",
       "4  Regent Park, Harbourfront                  0        0                   0   \n",
       "\n",
       "   Airport Gate  Airport Lounge  Airport Service  Airport Terminal  \\\n",
       "0             0               0                0                 0   \n",
       "1             0               0                0                 0   \n",
       "2             0               0                0                 0   \n",
       "3             0               0                0                 0   \n",
       "4             0               0                0                 0   \n",
       "\n",
       "   American Restaurant  Antique Shop  ...  Theme Restaurant  Toy / Game Store  \\\n",
       "0                    0             0  ...                 0                 0   \n",
       "1                    0             0  ...                 0                 0   \n",
       "2                    0             0  ...                 0                 0   \n",
       "3                    0             0  ...                 0                 0   \n",
       "4                    0             0  ...                 0                 0   \n",
       "\n",
       "   Trail  Train Station  Vegetarian / Vegan Restaurant  Video Game Store  \\\n",
       "0      0              0                              0                 0   \n",
       "1      0              0                              0                 0   \n",
       "2      0              0                              0                 0   \n",
       "3      0              0                              0                 0   \n",
       "4      0              0                              0                 0   \n",
       "\n",
       "   Vietnamese Restaurant  Wine Bar  Women's Store  Yoga Studio  \n",
       "0                      0         0              0            0  \n",
       "1                      0         0              0            0  \n",
       "2                      0         0              0            0  \n",
       "3                      0         0              0            0  \n",
       "4                      0         0              0            0  \n",
       "\n",
       "[5 rows x 237 columns]"
      ],
      "text/html": "<div>\n<style scoped>\n    .dataframe tbody tr th:only-of-type {\n        vertical-align: middle;\n    }\n\n    .dataframe tbody tr th {\n        vertical-align: top;\n    }\n\n    .dataframe thead th {\n        text-align: right;\n    }\n</style>\n<table border=\"1\" class=\"dataframe\">\n  <thead>\n    <tr style=\"text-align: right;\">\n      <th></th>\n      <th>Neighbourhood</th>\n      <th>Afghan Restaurant</th>\n      <th>Airport</th>\n      <th>Airport Food Court</th>\n      <th>Airport Gate</th>\n      <th>Airport Lounge</th>\n      <th>Airport Service</th>\n      <th>Airport Terminal</th>\n      <th>American Restaurant</th>\n      <th>Antique Shop</th>\n      <th>...</th>\n      <th>Theme Restaurant</th>\n      <th>Toy / Game Store</th>\n      <th>Trail</th>\n      <th>Train Station</th>\n      <th>Vegetarian / Vegan Restaurant</th>\n      <th>Video Game Store</th>\n      <th>Vietnamese Restaurant</th>\n      <th>Wine Bar</th>\n      <th>Women's Store</th>\n      <th>Yoga Studio</th>\n    </tr>\n  </thead>\n  <tbody>\n    <tr>\n      <th>0</th>\n      <td>Regent Park, Harbourfront</td>\n      <td>0</td>\n      <td>0</td>\n      <td>0</td>\n      <td>0</td>\n      <td>0</td>\n      <td>0</td>\n      <td>0</td>\n      <td>0</td>\n      <td>0</td>\n      <td>...</td>\n      <td>0</td>\n      <td>0</td>\n      <td>0</td>\n      <td>0</td>\n      <td>0</td>\n      <td>0</td>\n      <td>0</td>\n      <td>0</td>\n      <td>0</td>\n      <td>0</td>\n    </tr>\n    <tr>\n      <th>1</th>\n      <td>Regent Park, Harbourfront</td>\n      <td>0</td>\n      <td>0</td>\n      <td>0</td>\n      <td>0</td>\n      <td>0</td>\n      <td>0</td>\n      <td>0</td>\n      <td>0</td>\n      <td>0</td>\n      <td>...</td>\n      <td>0</td>\n      <td>0</td>\n      <td>0</td>\n      <td>0</td>\n      <td>0</td>\n      <td>0</td>\n      <td>0</td>\n      <td>0</td>\n      <td>0</td>\n      <td>0</td>\n    </tr>\n    <tr>\n      <th>2</th>\n      <td>Regent Park, Harbourfront</td>\n      <td>0</td>\n      <td>0</td>\n      <td>0</td>\n      <td>0</td>\n      <td>0</td>\n      <td>0</td>\n      <td>0</td>\n      <td>0</td>\n      <td>0</td>\n      <td>...</td>\n      <td>0</td>\n      <td>0</td>\n      <td>0</td>\n      <td>0</td>\n      <td>0</td>\n      <td>0</td>\n      <td>0</td>\n      <td>0</td>\n      <td>0</td>\n      <td>0</td>\n    </tr>\n    <tr>\n      <th>3</th>\n      <td>Regent Park, Harbourfront</td>\n      <td>0</td>\n      <td>0</td>\n      <td>0</td>\n      <td>0</td>\n      <td>0</td>\n      <td>0</td>\n      <td>0</td>\n      <td>0</td>\n      <td>0</td>\n      <td>...</td>\n      <td>0</td>\n      <td>0</td>\n      <td>0</td>\n      <td>0</td>\n      <td>0</td>\n      <td>0</td>\n      <td>0</td>\n      <td>0</td>\n      <td>0</td>\n      <td>0</td>\n    </tr>\n    <tr>\n      <th>4</th>\n      <td>Regent Park, Harbourfront</td>\n      <td>0</td>\n      <td>0</td>\n      <td>0</td>\n      <td>0</td>\n      <td>0</td>\n      <td>0</td>\n      <td>0</td>\n      <td>0</td>\n      <td>0</td>\n      <td>...</td>\n      <td>0</td>\n      <td>0</td>\n      <td>0</td>\n      <td>0</td>\n      <td>0</td>\n      <td>0</td>\n      <td>0</td>\n      <td>0</td>\n      <td>0</td>\n      <td>0</td>\n    </tr>\n  </tbody>\n</table>\n<p>5 rows × 237 columns</p>\n</div>"
     },
     "metadata": {},
     "execution_count": 33
    }
   ],
   "source": [
    "# one hot encoding\n",
    "toronto_onehot = pd.get_dummies(toronto_venues[['Venue Category']], prefix = \"\", prefix_sep = \"\")\n",
    "\n",
    "# add neighbourhood column back to dataframe\n",
    "toronto_onehot['Neighbourhood'] = toronto_venues['Neighbourhood'] \n",
    "\n",
    "# move neighbourhood column to the first column\n",
    "fixed_columns = [toronto_onehot.columns[-1]] + list(toronto_onehot.columns[:-1])\n",
    "toronto_onehot = toronto_onehot[fixed_columns]\n",
    "\n",
    "toronto_onehot.head()"
   ]
  },
  {
   "cell_type": "code",
   "execution_count": 34,
   "metadata": {},
   "outputs": [
    {
     "output_type": "execute_result",
     "data": {
      "text/plain": [
       "(1624, 237)"
      ]
     },
     "metadata": {},
     "execution_count": 34
    }
   ],
   "source": [
    "toronto_onehot.shape"
   ]
  },
  {
   "source": [
    "### Group the rows by neighbourhood and by taking the mean of the frequency of occurance of each category."
   ],
   "cell_type": "markdown",
   "metadata": {}
  },
  {
   "cell_type": "code",
   "execution_count": 35,
   "metadata": {},
   "outputs": [
    {
     "output_type": "execute_result",
     "data": {
      "text/plain": [
       "                                        Neighbourhood  Afghan Restaurant  \\\n",
       "0                                         Berczy Park           0.000000   \n",
       "1        Brockton, Parkdale Village, Exhibition Place           0.000000   \n",
       "2   Business reply mail Processing Centre, South C...           0.000000   \n",
       "3   CN Tower, King and Spadina, Railway Lands, Har...           0.000000   \n",
       "4                                  Central Bay Street           0.000000   \n",
       "5                                            Christie           0.000000   \n",
       "6                                Church and Wellesley           0.013333   \n",
       "7                      Commerce Court, Victoria Hotel           0.000000   \n",
       "8                                          Davisville           0.000000   \n",
       "9                                    Davisville North           0.000000   \n",
       "10                       Dufferin, Dovercourt Village           0.000000   \n",
       "11             First Canadian Place, Underground city           0.000000   \n",
       "12    Forest Hill North & West, Forest Hill Road Park           0.000000   \n",
       "13                           Garden District, Ryerson           0.000000   \n",
       "14  Harbourfront East, Union Station, Toronto Islands           0.000000   \n",
       "15                      High Park, The Junction South           0.000000   \n",
       "16                     India Bazaar, The Beaches West           0.000000   \n",
       "17          Kensington Market, Chinatown, Grange Park           0.000000   \n",
       "18                                      Lawrence Park           0.000000   \n",
       "19                           Little Portugal, Trinity           0.000000   \n",
       "20                        Moore Park, Summerhill East           0.000000   \n",
       "21                  North Toronto West, Lawrence Park           0.000000   \n",
       "22                             Parkdale, Roncesvalles           0.000000   \n",
       "23        Queen's Park, Ontario Provincial Government           0.000000   \n",
       "24                          Regent Park, Harbourfront           0.000000   \n",
       "25                           Richmond, Adelaide, King           0.000000   \n",
       "26                                           Rosedale           0.000000   \n",
       "27                                           Roselawn           0.000000   \n",
       "28                                 Runnymede, Swansea           0.000000   \n",
       "29                                     St. James Town           0.000000   \n",
       "30                        St. James Town, Cabbagetown           0.000000   \n",
       "31                                     Stn A PO Boxes           0.000000   \n",
       "32                                    Studio District           0.000000   \n",
       "33  Summerhill West, Rathnelly, South Hill, Forest...           0.000000   \n",
       "34                The Annex, North Midtown, Yorkville           0.000000   \n",
       "35                                        The Beaches           0.000000   \n",
       "36                       The Danforth West, Riverdale           0.000000   \n",
       "37           Toronto Dominion Centre, Design Exchange           0.000000   \n",
       "38                     University of Toronto, Harbord           0.000000   \n",
       "\n",
       "    Airport  Airport Food Court  Airport Gate  Airport Lounge  \\\n",
       "0    0.0000              0.0000        0.0000           0.000   \n",
       "1    0.0000              0.0000        0.0000           0.000   \n",
       "2    0.0000              0.0000        0.0000           0.000   \n",
       "3    0.0625              0.0625        0.0625           0.125   \n",
       "4    0.0000              0.0000        0.0000           0.000   \n",
       "5    0.0000              0.0000        0.0000           0.000   \n",
       "6    0.0000              0.0000        0.0000           0.000   \n",
       "7    0.0000              0.0000        0.0000           0.000   \n",
       "8    0.0000              0.0000        0.0000           0.000   \n",
       "9    0.0000              0.0000        0.0000           0.000   \n",
       "10   0.0000              0.0000        0.0000           0.000   \n",
       "11   0.0000              0.0000        0.0000           0.000   \n",
       "12   0.0000              0.0000        0.0000           0.000   \n",
       "13   0.0000              0.0000        0.0000           0.000   \n",
       "14   0.0000              0.0000        0.0000           0.000   \n",
       "15   0.0000              0.0000        0.0000           0.000   \n",
       "16   0.0000              0.0000        0.0000           0.000   \n",
       "17   0.0000              0.0000        0.0000           0.000   \n",
       "18   0.0000              0.0000        0.0000           0.000   \n",
       "19   0.0000              0.0000        0.0000           0.000   \n",
       "20   0.0000              0.0000        0.0000           0.000   \n",
       "21   0.0000              0.0000        0.0000           0.000   \n",
       "22   0.0000              0.0000        0.0000           0.000   \n",
       "23   0.0000              0.0000        0.0000           0.000   \n",
       "24   0.0000              0.0000        0.0000           0.000   \n",
       "25   0.0000              0.0000        0.0000           0.000   \n",
       "26   0.0000              0.0000        0.0000           0.000   \n",
       "27   0.0000              0.0000        0.0000           0.000   \n",
       "28   0.0000              0.0000        0.0000           0.000   \n",
       "29   0.0000              0.0000        0.0000           0.000   \n",
       "30   0.0000              0.0000        0.0000           0.000   \n",
       "31   0.0000              0.0000        0.0000           0.000   \n",
       "32   0.0000              0.0000        0.0000           0.000   \n",
       "33   0.0000              0.0000        0.0000           0.000   \n",
       "34   0.0000              0.0000        0.0000           0.000   \n",
       "35   0.0000              0.0000        0.0000           0.000   \n",
       "36   0.0000              0.0000        0.0000           0.000   \n",
       "37   0.0000              0.0000        0.0000           0.000   \n",
       "38   0.0000              0.0000        0.0000           0.000   \n",
       "\n",
       "    Airport Service  Airport Terminal  American Restaurant  Antique Shop  ...  \\\n",
       "0             0.000            0.0000             0.000000      0.000000  ...   \n",
       "1             0.000            0.0000             0.000000      0.000000  ...   \n",
       "2             0.000            0.0000             0.000000      0.000000  ...   \n",
       "3             0.125            0.0625             0.000000      0.000000  ...   \n",
       "4             0.000            0.0000             0.000000      0.000000  ...   \n",
       "5             0.000            0.0000             0.000000      0.000000  ...   \n",
       "6             0.000            0.0000             0.013333      0.000000  ...   \n",
       "7             0.000            0.0000             0.040000      0.000000  ...   \n",
       "8             0.000            0.0000             0.000000      0.000000  ...   \n",
       "9             0.000            0.0000             0.000000      0.000000  ...   \n",
       "10            0.000            0.0000             0.000000      0.000000  ...   \n",
       "11            0.000            0.0000             0.030000      0.000000  ...   \n",
       "12            0.000            0.0000             0.000000      0.000000  ...   \n",
       "13            0.000            0.0000             0.000000      0.000000  ...   \n",
       "14            0.000            0.0000             0.000000      0.000000  ...   \n",
       "15            0.000            0.0000             0.000000      0.040000  ...   \n",
       "16            0.000            0.0000             0.000000      0.000000  ...   \n",
       "17            0.000            0.0000             0.000000      0.000000  ...   \n",
       "18            0.000            0.0000             0.000000      0.000000  ...   \n",
       "19            0.000            0.0000             0.000000      0.000000  ...   \n",
       "20            0.000            0.0000             0.000000      0.000000  ...   \n",
       "21            0.000            0.0000             0.000000      0.000000  ...   \n",
       "22            0.000            0.0000             0.000000      0.000000  ...   \n",
       "23            0.000            0.0000             0.000000      0.000000  ...   \n",
       "24            0.000            0.0000             0.000000      0.022727  ...   \n",
       "25            0.000            0.0000             0.020000      0.000000  ...   \n",
       "26            0.000            0.0000             0.000000      0.000000  ...   \n",
       "27            0.000            0.0000             0.000000      0.000000  ...   \n",
       "28            0.000            0.0000             0.000000      0.000000  ...   \n",
       "29            0.000            0.0000             0.035294      0.000000  ...   \n",
       "30            0.000            0.0000             0.000000      0.000000  ...   \n",
       "31            0.000            0.0000             0.010417      0.010417  ...   \n",
       "32            0.000            0.0000             0.054054      0.000000  ...   \n",
       "33            0.000            0.0000             0.071429      0.000000  ...   \n",
       "34            0.000            0.0000             0.000000      0.000000  ...   \n",
       "35            0.000            0.0000             0.000000      0.000000  ...   \n",
       "36            0.000            0.0000             0.023256      0.000000  ...   \n",
       "37            0.000            0.0000             0.030000      0.000000  ...   \n",
       "38            0.000            0.0000             0.000000      0.000000  ...   \n",
       "\n",
       "    Theme Restaurant  Toy / Game Store     Trail  Train Station  \\\n",
       "0           0.000000          0.000000  0.000000           0.00   \n",
       "1           0.000000          0.000000  0.000000           0.00   \n",
       "2           0.000000          0.000000  0.000000           0.00   \n",
       "3           0.000000          0.000000  0.000000           0.00   \n",
       "4           0.000000          0.000000  0.000000           0.00   \n",
       "5           0.000000          0.000000  0.000000           0.00   \n",
       "6           0.013333          0.000000  0.000000           0.00   \n",
       "7           0.000000          0.000000  0.000000           0.00   \n",
       "8           0.000000          0.030303  0.000000           0.00   \n",
       "9           0.000000          0.000000  0.000000           0.00   \n",
       "10          0.000000          0.000000  0.000000           0.00   \n",
       "11          0.000000          0.000000  0.000000           0.01   \n",
       "12          0.000000          0.000000  0.250000           0.00   \n",
       "13          0.000000          0.010000  0.000000           0.00   \n",
       "14          0.000000          0.000000  0.000000           0.01   \n",
       "15          0.000000          0.000000  0.000000           0.00   \n",
       "16          0.000000          0.000000  0.000000           0.00   \n",
       "17          0.000000          0.000000  0.000000           0.00   \n",
       "18          0.000000          0.000000  0.000000           0.00   \n",
       "19          0.000000          0.000000  0.000000           0.00   \n",
       "20          0.000000          0.000000  0.500000           0.00   \n",
       "21          0.000000          0.000000  0.000000           0.00   \n",
       "22          0.000000          0.000000  0.000000           0.00   \n",
       "23          0.000000          0.000000  0.000000           0.00   \n",
       "24          0.000000          0.000000  0.000000           0.00   \n",
       "25          0.000000          0.010000  0.000000           0.00   \n",
       "26          0.000000          0.000000  0.250000           0.00   \n",
       "27          0.000000          0.000000  0.000000           0.00   \n",
       "28          0.000000          0.000000  0.000000           0.00   \n",
       "29          0.000000          0.000000  0.000000           0.00   \n",
       "30          0.000000          0.000000  0.000000           0.00   \n",
       "31          0.000000          0.000000  0.000000           0.00   \n",
       "32          0.000000          0.000000  0.000000           0.00   \n",
       "33          0.000000          0.000000  0.000000           0.00   \n",
       "34          0.000000          0.000000  0.000000           0.00   \n",
       "35          0.000000          0.000000  0.250000           0.00   \n",
       "36          0.000000          0.000000  0.023256           0.00   \n",
       "37          0.000000          0.000000  0.000000           0.01   \n",
       "38          0.000000          0.000000  0.000000           0.00   \n",
       "\n",
       "    Vegetarian / Vegan Restaurant  Video Game Store  Vietnamese Restaurant  \\\n",
       "0                        0.018182          0.000000               0.000000   \n",
       "1                        0.000000          0.000000               0.000000   \n",
       "2                        0.000000          0.000000               0.000000   \n",
       "3                        0.000000          0.000000               0.000000   \n",
       "4                        0.014706          0.000000               0.000000   \n",
       "5                        0.000000          0.000000               0.000000   \n",
       "6                        0.000000          0.000000               0.013333   \n",
       "7                        0.020000          0.000000               0.000000   \n",
       "8                        0.000000          0.000000               0.000000   \n",
       "9                        0.000000          0.000000               0.000000   \n",
       "10                       0.000000          0.000000               0.000000   \n",
       "11                       0.010000          0.000000               0.000000   \n",
       "12                       0.000000          0.000000               0.000000   \n",
       "13                       0.000000          0.010000               0.010000   \n",
       "14                       0.010000          0.000000               0.000000   \n",
       "15                       0.000000          0.000000               0.000000   \n",
       "16                       0.000000          0.000000               0.000000   \n",
       "17                       0.054054          0.000000               0.040541   \n",
       "18                       0.000000          0.000000               0.000000   \n",
       "19                       0.022222          0.000000               0.044444   \n",
       "20                       0.000000          0.000000               0.000000   \n",
       "21                       0.000000          0.000000               0.000000   \n",
       "22                       0.000000          0.000000               0.000000   \n",
       "23                       0.000000          0.000000               0.000000   \n",
       "24                       0.000000          0.000000               0.000000   \n",
       "25                       0.010000          0.000000               0.000000   \n",
       "26                       0.000000          0.000000               0.000000   \n",
       "27                       0.000000          0.000000               0.000000   \n",
       "28                       0.030303          0.000000               0.000000   \n",
       "29                       0.011765          0.000000               0.000000   \n",
       "30                       0.000000          0.000000               0.000000   \n",
       "31                       0.010417          0.000000               0.000000   \n",
       "32                       0.000000          0.000000               0.000000   \n",
       "33                       0.000000          0.000000               0.071429   \n",
       "34                       0.000000          0.000000               0.000000   \n",
       "35                       0.000000          0.000000               0.000000   \n",
       "36                       0.000000          0.000000               0.000000   \n",
       "37                       0.010000          0.000000               0.000000   \n",
       "38                       0.000000          0.029412               0.000000   \n",
       "\n",
       "    Wine Bar  Women's Store  Yoga Studio  \n",
       "0   0.000000           0.00     0.000000  \n",
       "1   0.000000           0.00     0.000000  \n",
       "2   0.000000           0.00     0.000000  \n",
       "3   0.000000           0.00     0.000000  \n",
       "4   0.014706           0.00     0.014706  \n",
       "5   0.000000           0.00     0.000000  \n",
       "6   0.000000           0.00     0.026667  \n",
       "7   0.010000           0.00     0.000000  \n",
       "8   0.000000           0.00     0.000000  \n",
       "9   0.000000           0.00     0.000000  \n",
       "10  0.000000           0.00     0.000000  \n",
       "11  0.010000           0.00     0.000000  \n",
       "12  0.000000           0.00     0.000000  \n",
       "13  0.010000           0.00     0.000000  \n",
       "14  0.010000           0.00     0.000000  \n",
       "15  0.000000           0.00     0.000000  \n",
       "16  0.000000           0.00     0.000000  \n",
       "17  0.013514           0.00     0.000000  \n",
       "18  0.000000           0.00     0.000000  \n",
       "19  0.022222           0.00     0.022222  \n",
       "20  0.000000           0.00     0.000000  \n",
       "21  0.000000           0.00     0.055556  \n",
       "22  0.000000           0.00     0.000000  \n",
       "23  0.000000           0.00     0.030303  \n",
       "24  0.000000           0.00     0.022727  \n",
       "25  0.000000           0.01     0.000000  \n",
       "26  0.000000           0.00     0.000000  \n",
       "27  0.000000           0.00     0.000000  \n",
       "28  0.000000           0.00     0.030303  \n",
       "29  0.011765           0.00     0.000000  \n",
       "30  0.000000           0.00     0.000000  \n",
       "31  0.000000           0.00     0.010417  \n",
       "32  0.027027           0.00     0.027027  \n",
       "33  0.000000           0.00     0.000000  \n",
       "34  0.000000           0.00     0.000000  \n",
       "35  0.000000           0.00     0.000000  \n",
       "36  0.000000           0.00     0.023256  \n",
       "37  0.010000           0.00     0.000000  \n",
       "38  0.000000           0.00     0.029412  \n",
       "\n",
       "[39 rows x 237 columns]"
      ],
      "text/html": "<div>\n<style scoped>\n    .dataframe tbody tr th:only-of-type {\n        vertical-align: middle;\n    }\n\n    .dataframe tbody tr th {\n        vertical-align: top;\n    }\n\n    .dataframe thead th {\n        text-align: right;\n    }\n</style>\n<table border=\"1\" class=\"dataframe\">\n  <thead>\n    <tr style=\"text-align: right;\">\n      <th></th>\n      <th>Neighbourhood</th>\n      <th>Afghan Restaurant</th>\n      <th>Airport</th>\n      <th>Airport Food Court</th>\n      <th>Airport Gate</th>\n      <th>Airport Lounge</th>\n      <th>Airport Service</th>\n      <th>Airport Terminal</th>\n      <th>American Restaurant</th>\n      <th>Antique Shop</th>\n      <th>...</th>\n      <th>Theme Restaurant</th>\n      <th>Toy / Game Store</th>\n      <th>Trail</th>\n      <th>Train Station</th>\n      <th>Vegetarian / Vegan Restaurant</th>\n      <th>Video Game Store</th>\n      <th>Vietnamese Restaurant</th>\n      <th>Wine Bar</th>\n      <th>Women's Store</th>\n      <th>Yoga Studio</th>\n    </tr>\n  </thead>\n  <tbody>\n    <tr>\n      <th>0</th>\n      <td>Berczy Park</td>\n      <td>0.000000</td>\n      <td>0.0000</td>\n      <td>0.0000</td>\n      <td>0.0000</td>\n      <td>0.000</td>\n      <td>0.000</td>\n      <td>0.0000</td>\n      <td>0.000000</td>\n      <td>0.000000</td>\n      <td>...</td>\n      <td>0.000000</td>\n      <td>0.000000</td>\n      <td>0.000000</td>\n      <td>0.00</td>\n      <td>0.018182</td>\n      <td>0.000000</td>\n      <td>0.000000</td>\n      <td>0.000000</td>\n      <td>0.00</td>\n      <td>0.000000</td>\n    </tr>\n    <tr>\n      <th>1</th>\n      <td>Brockton, Parkdale Village, Exhibition Place</td>\n      <td>0.000000</td>\n      <td>0.0000</td>\n      <td>0.0000</td>\n      <td>0.0000</td>\n      <td>0.000</td>\n      <td>0.000</td>\n      <td>0.0000</td>\n      <td>0.000000</td>\n      <td>0.000000</td>\n      <td>...</td>\n      <td>0.000000</td>\n      <td>0.000000</td>\n      <td>0.000000</td>\n      <td>0.00</td>\n      <td>0.000000</td>\n      <td>0.000000</td>\n      <td>0.000000</td>\n      <td>0.000000</td>\n      <td>0.00</td>\n      <td>0.000000</td>\n    </tr>\n    <tr>\n      <th>2</th>\n      <td>Business reply mail Processing Centre, South C...</td>\n      <td>0.000000</td>\n      <td>0.0000</td>\n      <td>0.0000</td>\n      <td>0.0000</td>\n      <td>0.000</td>\n      <td>0.000</td>\n      <td>0.0000</td>\n      <td>0.000000</td>\n      <td>0.000000</td>\n      <td>...</td>\n      <td>0.000000</td>\n      <td>0.000000</td>\n      <td>0.000000</td>\n      <td>0.00</td>\n      <td>0.000000</td>\n      <td>0.000000</td>\n      <td>0.000000</td>\n      <td>0.000000</td>\n      <td>0.00</td>\n      <td>0.000000</td>\n    </tr>\n    <tr>\n      <th>3</th>\n      <td>CN Tower, King and Spadina, Railway Lands, Har...</td>\n      <td>0.000000</td>\n      <td>0.0625</td>\n      <td>0.0625</td>\n      <td>0.0625</td>\n      <td>0.125</td>\n      <td>0.125</td>\n      <td>0.0625</td>\n      <td>0.000000</td>\n      <td>0.000000</td>\n      <td>...</td>\n      <td>0.000000</td>\n      <td>0.000000</td>\n      <td>0.000000</td>\n      <td>0.00</td>\n      <td>0.000000</td>\n      <td>0.000000</td>\n      <td>0.000000</td>\n      <td>0.000000</td>\n      <td>0.00</td>\n      <td>0.000000</td>\n    </tr>\n    <tr>\n      <th>4</th>\n      <td>Central Bay Street</td>\n      <td>0.000000</td>\n      <td>0.0000</td>\n      <td>0.0000</td>\n      <td>0.0000</td>\n      <td>0.000</td>\n      <td>0.000</td>\n      <td>0.0000</td>\n      <td>0.000000</td>\n      <td>0.000000</td>\n      <td>...</td>\n      <td>0.000000</td>\n      <td>0.000000</td>\n      <td>0.000000</td>\n      <td>0.00</td>\n      <td>0.014706</td>\n      <td>0.000000</td>\n      <td>0.000000</td>\n      <td>0.014706</td>\n      <td>0.00</td>\n      <td>0.014706</td>\n    </tr>\n    <tr>\n      <th>5</th>\n      <td>Christie</td>\n      <td>0.000000</td>\n      <td>0.0000</td>\n      <td>0.0000</td>\n      <td>0.0000</td>\n      <td>0.000</td>\n      <td>0.000</td>\n      <td>0.0000</td>\n      <td>0.000000</td>\n      <td>0.000000</td>\n      <td>...</td>\n      <td>0.000000</td>\n      <td>0.000000</td>\n      <td>0.000000</td>\n      <td>0.00</td>\n      <td>0.000000</td>\n      <td>0.000000</td>\n      <td>0.000000</td>\n      <td>0.000000</td>\n      <td>0.00</td>\n      <td>0.000000</td>\n    </tr>\n    <tr>\n      <th>6</th>\n      <td>Church and Wellesley</td>\n      <td>0.013333</td>\n      <td>0.0000</td>\n      <td>0.0000</td>\n      <td>0.0000</td>\n      <td>0.000</td>\n      <td>0.000</td>\n      <td>0.0000</td>\n      <td>0.013333</td>\n      <td>0.000000</td>\n      <td>...</td>\n      <td>0.013333</td>\n      <td>0.000000</td>\n      <td>0.000000</td>\n      <td>0.00</td>\n      <td>0.000000</td>\n      <td>0.000000</td>\n      <td>0.013333</td>\n      <td>0.000000</td>\n      <td>0.00</td>\n      <td>0.026667</td>\n    </tr>\n    <tr>\n      <th>7</th>\n      <td>Commerce Court, Victoria Hotel</td>\n      <td>0.000000</td>\n      <td>0.0000</td>\n      <td>0.0000</td>\n      <td>0.0000</td>\n      <td>0.000</td>\n      <td>0.000</td>\n      <td>0.0000</td>\n      <td>0.040000</td>\n      <td>0.000000</td>\n      <td>...</td>\n      <td>0.000000</td>\n      <td>0.000000</td>\n      <td>0.000000</td>\n      <td>0.00</td>\n      <td>0.020000</td>\n      <td>0.000000</td>\n      <td>0.000000</td>\n      <td>0.010000</td>\n      <td>0.00</td>\n      <td>0.000000</td>\n    </tr>\n    <tr>\n      <th>8</th>\n      <td>Davisville</td>\n      <td>0.000000</td>\n      <td>0.0000</td>\n      <td>0.0000</td>\n      <td>0.0000</td>\n      <td>0.000</td>\n      <td>0.000</td>\n      <td>0.0000</td>\n      <td>0.000000</td>\n      <td>0.000000</td>\n      <td>...</td>\n      <td>0.000000</td>\n      <td>0.030303</td>\n      <td>0.000000</td>\n      <td>0.00</td>\n      <td>0.000000</td>\n      <td>0.000000</td>\n      <td>0.000000</td>\n      <td>0.000000</td>\n      <td>0.00</td>\n      <td>0.000000</td>\n    </tr>\n    <tr>\n      <th>9</th>\n      <td>Davisville North</td>\n      <td>0.000000</td>\n      <td>0.0000</td>\n      <td>0.0000</td>\n      <td>0.0000</td>\n      <td>0.000</td>\n      <td>0.000</td>\n      <td>0.0000</td>\n      <td>0.000000</td>\n      <td>0.000000</td>\n      <td>...</td>\n      <td>0.000000</td>\n      <td>0.000000</td>\n      <td>0.000000</td>\n      <td>0.00</td>\n      <td>0.000000</td>\n      <td>0.000000</td>\n      <td>0.000000</td>\n      <td>0.000000</td>\n      <td>0.00</td>\n      <td>0.000000</td>\n    </tr>\n    <tr>\n      <th>10</th>\n      <td>Dufferin, Dovercourt Village</td>\n      <td>0.000000</td>\n      <td>0.0000</td>\n      <td>0.0000</td>\n      <td>0.0000</td>\n      <td>0.000</td>\n      <td>0.000</td>\n      <td>0.0000</td>\n      <td>0.000000</td>\n      <td>0.000000</td>\n      <td>...</td>\n      <td>0.000000</td>\n      <td>0.000000</td>\n      <td>0.000000</td>\n      <td>0.00</td>\n      <td>0.000000</td>\n      <td>0.000000</td>\n      <td>0.000000</td>\n      <td>0.000000</td>\n      <td>0.00</td>\n      <td>0.000000</td>\n    </tr>\n    <tr>\n      <th>11</th>\n      <td>First Canadian Place, Underground city</td>\n      <td>0.000000</td>\n      <td>0.0000</td>\n      <td>0.0000</td>\n      <td>0.0000</td>\n      <td>0.000</td>\n      <td>0.000</td>\n      <td>0.0000</td>\n      <td>0.030000</td>\n      <td>0.000000</td>\n      <td>...</td>\n      <td>0.000000</td>\n      <td>0.000000</td>\n      <td>0.000000</td>\n      <td>0.01</td>\n      <td>0.010000</td>\n      <td>0.000000</td>\n      <td>0.000000</td>\n      <td>0.010000</td>\n      <td>0.00</td>\n      <td>0.000000</td>\n    </tr>\n    <tr>\n      <th>12</th>\n      <td>Forest Hill North &amp; West, Forest Hill Road Park</td>\n      <td>0.000000</td>\n      <td>0.0000</td>\n      <td>0.0000</td>\n      <td>0.0000</td>\n      <td>0.000</td>\n      <td>0.000</td>\n      <td>0.0000</td>\n      <td>0.000000</td>\n      <td>0.000000</td>\n      <td>...</td>\n      <td>0.000000</td>\n      <td>0.000000</td>\n      <td>0.250000</td>\n      <td>0.00</td>\n      <td>0.000000</td>\n      <td>0.000000</td>\n      <td>0.000000</td>\n      <td>0.000000</td>\n      <td>0.00</td>\n      <td>0.000000</td>\n    </tr>\n    <tr>\n      <th>13</th>\n      <td>Garden District, Ryerson</td>\n      <td>0.000000</td>\n      <td>0.0000</td>\n      <td>0.0000</td>\n      <td>0.0000</td>\n      <td>0.000</td>\n      <td>0.000</td>\n      <td>0.0000</td>\n      <td>0.000000</td>\n      <td>0.000000</td>\n      <td>...</td>\n      <td>0.000000</td>\n      <td>0.010000</td>\n      <td>0.000000</td>\n      <td>0.00</td>\n      <td>0.000000</td>\n      <td>0.010000</td>\n      <td>0.010000</td>\n      <td>0.010000</td>\n      <td>0.00</td>\n      <td>0.000000</td>\n    </tr>\n    <tr>\n      <th>14</th>\n      <td>Harbourfront East, Union Station, Toronto Islands</td>\n      <td>0.000000</td>\n      <td>0.0000</td>\n      <td>0.0000</td>\n      <td>0.0000</td>\n      <td>0.000</td>\n      <td>0.000</td>\n      <td>0.0000</td>\n      <td>0.000000</td>\n      <td>0.000000</td>\n      <td>...</td>\n      <td>0.000000</td>\n      <td>0.000000</td>\n      <td>0.000000</td>\n      <td>0.01</td>\n      <td>0.010000</td>\n      <td>0.000000</td>\n      <td>0.000000</td>\n      <td>0.010000</td>\n      <td>0.00</td>\n      <td>0.000000</td>\n    </tr>\n    <tr>\n      <th>15</th>\n      <td>High Park, The Junction South</td>\n      <td>0.000000</td>\n      <td>0.0000</td>\n      <td>0.0000</td>\n      <td>0.0000</td>\n      <td>0.000</td>\n      <td>0.000</td>\n      <td>0.0000</td>\n      <td>0.000000</td>\n      <td>0.040000</td>\n      <td>...</td>\n      <td>0.000000</td>\n      <td>0.000000</td>\n      <td>0.000000</td>\n      <td>0.00</td>\n      <td>0.000000</td>\n      <td>0.000000</td>\n      <td>0.000000</td>\n      <td>0.000000</td>\n      <td>0.00</td>\n      <td>0.000000</td>\n    </tr>\n    <tr>\n      <th>16</th>\n      <td>India Bazaar, The Beaches West</td>\n      <td>0.000000</td>\n      <td>0.0000</td>\n      <td>0.0000</td>\n      <td>0.0000</td>\n      <td>0.000</td>\n      <td>0.000</td>\n      <td>0.0000</td>\n      <td>0.000000</td>\n      <td>0.000000</td>\n      <td>...</td>\n      <td>0.000000</td>\n      <td>0.000000</td>\n      <td>0.000000</td>\n      <td>0.00</td>\n      <td>0.000000</td>\n      <td>0.000000</td>\n      <td>0.000000</td>\n      <td>0.000000</td>\n      <td>0.00</td>\n      <td>0.000000</td>\n    </tr>\n    <tr>\n      <th>17</th>\n      <td>Kensington Market, Chinatown, Grange Park</td>\n      <td>0.000000</td>\n      <td>0.0000</td>\n      <td>0.0000</td>\n      <td>0.0000</td>\n      <td>0.000</td>\n      <td>0.000</td>\n      <td>0.0000</td>\n      <td>0.000000</td>\n      <td>0.000000</td>\n      <td>...</td>\n      <td>0.000000</td>\n      <td>0.000000</td>\n      <td>0.000000</td>\n      <td>0.00</td>\n      <td>0.054054</td>\n      <td>0.000000</td>\n      <td>0.040541</td>\n      <td>0.013514</td>\n      <td>0.00</td>\n      <td>0.000000</td>\n    </tr>\n    <tr>\n      <th>18</th>\n      <td>Lawrence Park</td>\n      <td>0.000000</td>\n      <td>0.0000</td>\n      <td>0.0000</td>\n      <td>0.0000</td>\n      <td>0.000</td>\n      <td>0.000</td>\n      <td>0.0000</td>\n      <td>0.000000</td>\n      <td>0.000000</td>\n      <td>...</td>\n      <td>0.000000</td>\n      <td>0.000000</td>\n      <td>0.000000</td>\n      <td>0.00</td>\n      <td>0.000000</td>\n      <td>0.000000</td>\n      <td>0.000000</td>\n      <td>0.000000</td>\n      <td>0.00</td>\n      <td>0.000000</td>\n    </tr>\n    <tr>\n      <th>19</th>\n      <td>Little Portugal, Trinity</td>\n      <td>0.000000</td>\n      <td>0.0000</td>\n      <td>0.0000</td>\n      <td>0.0000</td>\n      <td>0.000</td>\n      <td>0.000</td>\n      <td>0.0000</td>\n      <td>0.000000</td>\n      <td>0.000000</td>\n      <td>...</td>\n      <td>0.000000</td>\n      <td>0.000000</td>\n      <td>0.000000</td>\n      <td>0.00</td>\n      <td>0.022222</td>\n      <td>0.000000</td>\n      <td>0.044444</td>\n      <td>0.022222</td>\n      <td>0.00</td>\n      <td>0.022222</td>\n    </tr>\n    <tr>\n      <th>20</th>\n      <td>Moore Park, Summerhill East</td>\n      <td>0.000000</td>\n      <td>0.0000</td>\n      <td>0.0000</td>\n      <td>0.0000</td>\n      <td>0.000</td>\n      <td>0.000</td>\n      <td>0.0000</td>\n      <td>0.000000</td>\n      <td>0.000000</td>\n      <td>...</td>\n      <td>0.000000</td>\n      <td>0.000000</td>\n      <td>0.500000</td>\n      <td>0.00</td>\n      <td>0.000000</td>\n      <td>0.000000</td>\n      <td>0.000000</td>\n      <td>0.000000</td>\n      <td>0.00</td>\n      <td>0.000000</td>\n    </tr>\n    <tr>\n      <th>21</th>\n      <td>North Toronto West, Lawrence Park</td>\n      <td>0.000000</td>\n      <td>0.0000</td>\n      <td>0.0000</td>\n      <td>0.0000</td>\n      <td>0.000</td>\n      <td>0.000</td>\n      <td>0.0000</td>\n      <td>0.000000</td>\n      <td>0.000000</td>\n      <td>...</td>\n      <td>0.000000</td>\n      <td>0.000000</td>\n      <td>0.000000</td>\n      <td>0.00</td>\n      <td>0.000000</td>\n      <td>0.000000</td>\n      <td>0.000000</td>\n      <td>0.000000</td>\n      <td>0.00</td>\n      <td>0.055556</td>\n    </tr>\n    <tr>\n      <th>22</th>\n      <td>Parkdale, Roncesvalles</td>\n      <td>0.000000</td>\n      <td>0.0000</td>\n      <td>0.0000</td>\n      <td>0.0000</td>\n      <td>0.000</td>\n      <td>0.000</td>\n      <td>0.0000</td>\n      <td>0.000000</td>\n      <td>0.000000</td>\n      <td>...</td>\n      <td>0.000000</td>\n      <td>0.000000</td>\n      <td>0.000000</td>\n      <td>0.00</td>\n      <td>0.000000</td>\n      <td>0.000000</td>\n      <td>0.000000</td>\n      <td>0.000000</td>\n      <td>0.00</td>\n      <td>0.000000</td>\n    </tr>\n    <tr>\n      <th>23</th>\n      <td>Queen's Park, Ontario Provincial Government</td>\n      <td>0.000000</td>\n      <td>0.0000</td>\n      <td>0.0000</td>\n      <td>0.0000</td>\n      <td>0.000</td>\n      <td>0.000</td>\n      <td>0.0000</td>\n      <td>0.000000</td>\n      <td>0.000000</td>\n      <td>...</td>\n      <td>0.000000</td>\n      <td>0.000000</td>\n      <td>0.000000</td>\n      <td>0.00</td>\n      <td>0.000000</td>\n      <td>0.000000</td>\n      <td>0.000000</td>\n      <td>0.000000</td>\n      <td>0.00</td>\n      <td>0.030303</td>\n    </tr>\n    <tr>\n      <th>24</th>\n      <td>Regent Park, Harbourfront</td>\n      <td>0.000000</td>\n      <td>0.0000</td>\n      <td>0.0000</td>\n      <td>0.0000</td>\n      <td>0.000</td>\n      <td>0.000</td>\n      <td>0.0000</td>\n      <td>0.000000</td>\n      <td>0.022727</td>\n      <td>...</td>\n      <td>0.000000</td>\n      <td>0.000000</td>\n      <td>0.000000</td>\n      <td>0.00</td>\n      <td>0.000000</td>\n      <td>0.000000</td>\n      <td>0.000000</td>\n      <td>0.000000</td>\n      <td>0.00</td>\n      <td>0.022727</td>\n    </tr>\n    <tr>\n      <th>25</th>\n      <td>Richmond, Adelaide, King</td>\n      <td>0.000000</td>\n      <td>0.0000</td>\n      <td>0.0000</td>\n      <td>0.0000</td>\n      <td>0.000</td>\n      <td>0.000</td>\n      <td>0.0000</td>\n      <td>0.020000</td>\n      <td>0.000000</td>\n      <td>...</td>\n      <td>0.000000</td>\n      <td>0.010000</td>\n      <td>0.000000</td>\n      <td>0.00</td>\n      <td>0.010000</td>\n      <td>0.000000</td>\n      <td>0.000000</td>\n      <td>0.000000</td>\n      <td>0.01</td>\n      <td>0.000000</td>\n    </tr>\n    <tr>\n      <th>26</th>\n      <td>Rosedale</td>\n      <td>0.000000</td>\n      <td>0.0000</td>\n      <td>0.0000</td>\n      <td>0.0000</td>\n      <td>0.000</td>\n      <td>0.000</td>\n      <td>0.0000</td>\n      <td>0.000000</td>\n      <td>0.000000</td>\n      <td>...</td>\n      <td>0.000000</td>\n      <td>0.000000</td>\n      <td>0.250000</td>\n      <td>0.00</td>\n      <td>0.000000</td>\n      <td>0.000000</td>\n      <td>0.000000</td>\n      <td>0.000000</td>\n      <td>0.00</td>\n      <td>0.000000</td>\n    </tr>\n    <tr>\n      <th>27</th>\n      <td>Roselawn</td>\n      <td>0.000000</td>\n      <td>0.0000</td>\n      <td>0.0000</td>\n      <td>0.0000</td>\n      <td>0.000</td>\n      <td>0.000</td>\n      <td>0.0000</td>\n      <td>0.000000</td>\n      <td>0.000000</td>\n      <td>...</td>\n      <td>0.000000</td>\n      <td>0.000000</td>\n      <td>0.000000</td>\n      <td>0.00</td>\n      <td>0.000000</td>\n      <td>0.000000</td>\n      <td>0.000000</td>\n      <td>0.000000</td>\n      <td>0.00</td>\n      <td>0.000000</td>\n    </tr>\n    <tr>\n      <th>28</th>\n      <td>Runnymede, Swansea</td>\n      <td>0.000000</td>\n      <td>0.0000</td>\n      <td>0.0000</td>\n      <td>0.0000</td>\n      <td>0.000</td>\n      <td>0.000</td>\n      <td>0.0000</td>\n      <td>0.000000</td>\n      <td>0.000000</td>\n      <td>...</td>\n      <td>0.000000</td>\n      <td>0.000000</td>\n      <td>0.000000</td>\n      <td>0.00</td>\n      <td>0.030303</td>\n      <td>0.000000</td>\n      <td>0.000000</td>\n      <td>0.000000</td>\n      <td>0.00</td>\n      <td>0.030303</td>\n    </tr>\n    <tr>\n      <th>29</th>\n      <td>St. James Town</td>\n      <td>0.000000</td>\n      <td>0.0000</td>\n      <td>0.0000</td>\n      <td>0.0000</td>\n      <td>0.000</td>\n      <td>0.000</td>\n      <td>0.0000</td>\n      <td>0.035294</td>\n      <td>0.000000</td>\n      <td>...</td>\n      <td>0.000000</td>\n      <td>0.000000</td>\n      <td>0.000000</td>\n      <td>0.00</td>\n      <td>0.011765</td>\n      <td>0.000000</td>\n      <td>0.000000</td>\n      <td>0.011765</td>\n      <td>0.00</td>\n      <td>0.000000</td>\n    </tr>\n    <tr>\n      <th>30</th>\n      <td>St. James Town, Cabbagetown</td>\n      <td>0.000000</td>\n      <td>0.0000</td>\n      <td>0.0000</td>\n      <td>0.0000</td>\n      <td>0.000</td>\n      <td>0.000</td>\n      <td>0.0000</td>\n      <td>0.000000</td>\n      <td>0.000000</td>\n      <td>...</td>\n      <td>0.000000</td>\n      <td>0.000000</td>\n      <td>0.000000</td>\n      <td>0.00</td>\n      <td>0.000000</td>\n      <td>0.000000</td>\n      <td>0.000000</td>\n      <td>0.000000</td>\n      <td>0.00</td>\n      <td>0.000000</td>\n    </tr>\n    <tr>\n      <th>31</th>\n      <td>Stn A PO Boxes</td>\n      <td>0.000000</td>\n      <td>0.0000</td>\n      <td>0.0000</td>\n      <td>0.0000</td>\n      <td>0.000</td>\n      <td>0.000</td>\n      <td>0.0000</td>\n      <td>0.010417</td>\n      <td>0.010417</td>\n      <td>...</td>\n      <td>0.000000</td>\n      <td>0.000000</td>\n      <td>0.000000</td>\n      <td>0.00</td>\n      <td>0.010417</td>\n      <td>0.000000</td>\n      <td>0.000000</td>\n      <td>0.000000</td>\n      <td>0.00</td>\n      <td>0.010417</td>\n    </tr>\n    <tr>\n      <th>32</th>\n      <td>Studio District</td>\n      <td>0.000000</td>\n      <td>0.0000</td>\n      <td>0.0000</td>\n      <td>0.0000</td>\n      <td>0.000</td>\n      <td>0.000</td>\n      <td>0.0000</td>\n      <td>0.054054</td>\n      <td>0.000000</td>\n      <td>...</td>\n      <td>0.000000</td>\n      <td>0.000000</td>\n      <td>0.000000</td>\n      <td>0.00</td>\n      <td>0.000000</td>\n      <td>0.000000</td>\n      <td>0.000000</td>\n      <td>0.027027</td>\n      <td>0.00</td>\n      <td>0.027027</td>\n    </tr>\n    <tr>\n      <th>33</th>\n      <td>Summerhill West, Rathnelly, South Hill, Forest...</td>\n      <td>0.000000</td>\n      <td>0.0000</td>\n      <td>0.0000</td>\n      <td>0.0000</td>\n      <td>0.000</td>\n      <td>0.000</td>\n      <td>0.0000</td>\n      <td>0.071429</td>\n      <td>0.000000</td>\n      <td>...</td>\n      <td>0.000000</td>\n      <td>0.000000</td>\n      <td>0.000000</td>\n      <td>0.00</td>\n      <td>0.000000</td>\n      <td>0.000000</td>\n      <td>0.071429</td>\n      <td>0.000000</td>\n      <td>0.00</td>\n      <td>0.000000</td>\n    </tr>\n    <tr>\n      <th>34</th>\n      <td>The Annex, North Midtown, Yorkville</td>\n      <td>0.000000</td>\n      <td>0.0000</td>\n      <td>0.0000</td>\n      <td>0.0000</td>\n      <td>0.000</td>\n      <td>0.000</td>\n      <td>0.0000</td>\n      <td>0.000000</td>\n      <td>0.000000</td>\n      <td>...</td>\n      <td>0.000000</td>\n      <td>0.000000</td>\n      <td>0.000000</td>\n      <td>0.00</td>\n      <td>0.000000</td>\n      <td>0.000000</td>\n      <td>0.000000</td>\n      <td>0.000000</td>\n      <td>0.00</td>\n      <td>0.000000</td>\n    </tr>\n    <tr>\n      <th>35</th>\n      <td>The Beaches</td>\n      <td>0.000000</td>\n      <td>0.0000</td>\n      <td>0.0000</td>\n      <td>0.0000</td>\n      <td>0.000</td>\n      <td>0.000</td>\n      <td>0.0000</td>\n      <td>0.000000</td>\n      <td>0.000000</td>\n      <td>...</td>\n      <td>0.000000</td>\n      <td>0.000000</td>\n      <td>0.250000</td>\n      <td>0.00</td>\n      <td>0.000000</td>\n      <td>0.000000</td>\n      <td>0.000000</td>\n      <td>0.000000</td>\n      <td>0.00</td>\n      <td>0.000000</td>\n    </tr>\n    <tr>\n      <th>36</th>\n      <td>The Danforth West, Riverdale</td>\n      <td>0.000000</td>\n      <td>0.0000</td>\n      <td>0.0000</td>\n      <td>0.0000</td>\n      <td>0.000</td>\n      <td>0.000</td>\n      <td>0.0000</td>\n      <td>0.023256</td>\n      <td>0.000000</td>\n      <td>...</td>\n      <td>0.000000</td>\n      <td>0.000000</td>\n      <td>0.023256</td>\n      <td>0.00</td>\n      <td>0.000000</td>\n      <td>0.000000</td>\n      <td>0.000000</td>\n      <td>0.000000</td>\n      <td>0.00</td>\n      <td>0.023256</td>\n    </tr>\n    <tr>\n      <th>37</th>\n      <td>Toronto Dominion Centre, Design Exchange</td>\n      <td>0.000000</td>\n      <td>0.0000</td>\n      <td>0.0000</td>\n      <td>0.0000</td>\n      <td>0.000</td>\n      <td>0.000</td>\n      <td>0.0000</td>\n      <td>0.030000</td>\n      <td>0.000000</td>\n      <td>...</td>\n      <td>0.000000</td>\n      <td>0.000000</td>\n      <td>0.000000</td>\n      <td>0.01</td>\n      <td>0.010000</td>\n      <td>0.000000</td>\n      <td>0.000000</td>\n      <td>0.010000</td>\n      <td>0.00</td>\n      <td>0.000000</td>\n    </tr>\n    <tr>\n      <th>38</th>\n      <td>University of Toronto, Harbord</td>\n      <td>0.000000</td>\n      <td>0.0000</td>\n      <td>0.0000</td>\n      <td>0.0000</td>\n      <td>0.000</td>\n      <td>0.000</td>\n      <td>0.0000</td>\n      <td>0.000000</td>\n      <td>0.000000</td>\n      <td>...</td>\n      <td>0.000000</td>\n      <td>0.000000</td>\n      <td>0.000000</td>\n      <td>0.00</td>\n      <td>0.000000</td>\n      <td>0.029412</td>\n      <td>0.000000</td>\n      <td>0.000000</td>\n      <td>0.00</td>\n      <td>0.029412</td>\n    </tr>\n  </tbody>\n</table>\n<p>39 rows × 237 columns</p>\n</div>"
     },
     "metadata": {},
     "execution_count": 35
    }
   ],
   "source": [
    "toronto_grouped = toronto_onehot.groupby('Neighbourhood').mean().reset_index()\n",
    "toronto_grouped"
   ]
  },
  {
   "cell_type": "code",
   "execution_count": 36,
   "metadata": {},
   "outputs": [
    {
     "output_type": "execute_result",
     "data": {
      "text/plain": [
       "(39, 237)"
      ]
     },
     "metadata": {},
     "execution_count": 36
    }
   ],
   "source": [
    "toronto_grouped.shape"
   ]
  },
  {
   "source": [
    "### What are the top 5 most common venues of each neighbourhood?"
   ],
   "cell_type": "markdown",
   "metadata": {}
  },
  {
   "cell_type": "code",
   "execution_count": 37,
   "metadata": {},
   "outputs": [
    {
     "output_type": "stream",
     "name": "stdout",
     "text": [
      "----Berczy Park----\n",
      "                venue  freq\n",
      "0         Coffee Shop  0.09\n",
      "1         Cheese Shop  0.04\n",
      "2      Farmers Market  0.04\n",
      "3              Bakery  0.04\n",
      "4  Seafood Restaurant  0.04\n",
      "\n",
      "\n",
      "----Brockton, Parkdale Village, Exhibition Place----\n",
      "                   venue  freq\n",
      "0                   Café  0.13\n",
      "1         Breakfast Spot  0.09\n",
      "2            Coffee Shop  0.09\n",
      "3              Nightclub  0.09\n",
      "4  Performing Arts Venue  0.04\n",
      "\n",
      "\n",
      "----Business reply mail Processing Centre, South Central Letter Processing Plant Toronto----\n",
      "                  venue  freq\n",
      "0  Gym / Fitness Center  0.06\n",
      "1         Auto Workshop  0.06\n",
      "2         Garden Center  0.06\n",
      "3                Garden  0.06\n",
      "4    Light Rail Station  0.06\n",
      "\n",
      "\n",
      "----CN Tower, King and Spadina, Railway Lands, Harbourfront West, Bathurst Quay, South Niagara, Island airport----\n",
      "                 venue  freq\n",
      "0       Airport Lounge  0.12\n",
      "1      Airport Service  0.12\n",
      "2  Rental Car Location  0.06\n",
      "3      Harbor / Marina  0.06\n",
      "4             Boutique  0.06\n",
      "\n",
      "\n",
      "----Central Bay Street----\n",
      "                venue  freq\n",
      "0         Coffee Shop  0.18\n",
      "1                Café  0.06\n",
      "2      Sandwich Place  0.04\n",
      "3  Italian Restaurant  0.04\n",
      "4     Thai Restaurant  0.03\n",
      "\n",
      "\n",
      "----Christie----\n",
      "           venue  freq\n",
      "0  Grocery Store  0.25\n",
      "1           Café  0.19\n",
      "2           Park  0.12\n",
      "3     Restaurant  0.06\n",
      "4      Nightclub  0.06\n",
      "\n",
      "\n",
      "----Church and Wellesley----\n",
      "                 venue  freq\n",
      "0          Coffee Shop  0.09\n",
      "1  Japanese Restaurant  0.05\n",
      "2     Sushi Restaurant  0.05\n",
      "3              Gay Bar  0.05\n",
      "4           Restaurant  0.04\n",
      "\n",
      "\n",
      "----Commerce Court, Victoria Hotel----\n",
      "         venue  freq\n",
      "0  Coffee Shop  0.13\n",
      "1   Restaurant  0.07\n",
      "2         Café  0.06\n",
      "3        Hotel  0.06\n",
      "4          Gym  0.04\n",
      "\n",
      "\n",
      "----Davisville----\n",
      "            venue  freq\n",
      "0  Sandwich Place  0.09\n",
      "1     Pizza Place  0.09\n",
      "2    Dessert Shop  0.09\n",
      "3            Café  0.06\n",
      "4             Gym  0.06\n",
      "\n",
      "\n",
      "----Davisville North----\n",
      "                  venue  freq\n",
      "0  Gym / Fitness Center  0.11\n",
      "1     Food & Drink Shop  0.11\n",
      "2          Dance Studio  0.11\n",
      "3      Department Store  0.11\n",
      "4               Dog Run  0.11\n",
      "\n",
      "\n",
      "----Dufferin, Dovercourt Village----\n",
      "         venue  freq\n",
      "0     Pharmacy  0.15\n",
      "1       Bakery  0.15\n",
      "2      Brewery  0.08\n",
      "3          Bar  0.08\n",
      "4  Supermarket  0.08\n",
      "\n",
      "\n",
      "----First Canadian Place, Underground city----\n",
      "                 venue  freq\n",
      "0          Coffee Shop  0.11\n",
      "1                 Café  0.07\n",
      "2           Restaurant  0.04\n",
      "3  Japanese Restaurant  0.04\n",
      "4                Hotel  0.04\n",
      "\n",
      "\n",
      "----Forest Hill North & West, Forest Hill Road Park----\n",
      "                 venue  freq\n",
      "0                 Park  0.25\n",
      "1        Jewelry Store  0.25\n",
      "2                Trail  0.25\n",
      "3     Sushi Restaurant  0.25\n",
      "4  Monument / Landmark  0.00\n",
      "\n",
      "\n",
      "----Garden District, Ryerson----\n",
      "                 venue  freq\n",
      "0       Clothing Store  0.09\n",
      "1          Coffee Shop  0.09\n",
      "2                 Café  0.04\n",
      "3       Cosmetics Shop  0.03\n",
      "4  Japanese Restaurant  0.03\n",
      "\n",
      "\n",
      "----Harbourfront East, Union Station, Toronto Islands----\n",
      "         venue  freq\n",
      "0  Coffee Shop  0.13\n",
      "1     Aquarium  0.05\n",
      "2         Café  0.04\n",
      "3        Hotel  0.04\n",
      "4      Brewery  0.03\n",
      "\n",
      "\n",
      "----High Park, The Junction South----\n",
      "                 venue  freq\n",
      "0   Mexican Restaurant  0.08\n",
      "1                 Café  0.08\n",
      "2      Thai Restaurant  0.08\n",
      "3                  Bar  0.08\n",
      "4  Fried Chicken Joint  0.04\n",
      "\n",
      "\n",
      "----India Bazaar, The Beaches West----\n",
      "                venue  freq\n",
      "0                Park  0.11\n",
      "1  Italian Restaurant  0.05\n",
      "2           Pet Store  0.05\n",
      "3         Coffee Shop  0.05\n",
      "4                 Pub  0.05\n",
      "\n",
      "\n",
      "----Kensington Market, Chinatown, Grange Park----\n",
      "                           venue  freq\n",
      "0             Mexican Restaurant  0.05\n",
      "1                            Bar  0.05\n",
      "2                    Coffee Shop  0.05\n",
      "3  Vegetarian / Vegan Restaurant  0.05\n",
      "4                           Café  0.05\n",
      "\n",
      "\n",
      "----Lawrence Park----\n",
      "                 venue  freq\n",
      "0                 Park  0.33\n",
      "1             Bus Line  0.33\n",
      "2          Swim School  0.33\n",
      "3    Afghan Restaurant  0.00\n",
      "4  Monument / Landmark  0.00\n",
      "\n",
      "\n",
      "----Little Portugal, Trinity----\n",
      "                   venue  freq\n",
      "0                    Bar  0.09\n",
      "1            Coffee Shop  0.07\n",
      "2             Restaurant  0.04\n",
      "3       Asian Restaurant  0.04\n",
      "4  Vietnamese Restaurant  0.04\n",
      "\n",
      "\n",
      "----Moore Park, Summerhill East----\n",
      "                 venue  freq\n",
      "0           Playground   0.5\n",
      "1                Trail   0.5\n",
      "2    Afghan Restaurant   0.0\n",
      "3  Moroccan Restaurant   0.0\n",
      "4     Malay Restaurant   0.0\n",
      "\n",
      "\n",
      "----North Toronto West, Lawrence Park----\n",
      "            venue  freq\n",
      "0  Clothing Store  0.11\n",
      "1     Coffee Shop  0.11\n",
      "2     Yoga Studio  0.06\n",
      "3           Diner  0.06\n",
      "4      Restaurant  0.06\n",
      "\n",
      "\n",
      "----Parkdale, Roncesvalles----\n",
      "                         venue  freq\n",
      "0               Breakfast Spot  0.14\n",
      "1                    Gift Shop  0.14\n",
      "2  Eastern European Restaurant  0.07\n",
      "3                          Bar  0.07\n",
      "4                Movie Theater  0.07\n",
      "\n",
      "\n",
      "----Queen's Park, Ontario Provincial Government----\n",
      "                   venue  freq\n",
      "0            Coffee Shop  0.24\n",
      "1            Yoga Studio  0.03\n",
      "2  Portuguese Restaurant  0.03\n",
      "3          Smoothie Shop  0.03\n",
      "4                   Café  0.03\n",
      "\n",
      "\n",
      "----Regent Park, Harbourfront----\n",
      "            venue  freq\n",
      "0     Coffee Shop  0.18\n",
      "1             Pub  0.07\n",
      "2          Bakery  0.07\n",
      "3            Park  0.07\n",
      "4  Breakfast Spot  0.05\n",
      "\n",
      "\n",
      "----Richmond, Adelaide, King----\n",
      "         venue  freq\n",
      "0  Coffee Shop  0.08\n",
      "1         Café  0.05\n",
      "2        Hotel  0.04\n",
      "3          Gym  0.04\n",
      "4   Restaurant  0.04\n",
      "\n",
      "\n",
      "----Rosedale----\n",
      "                 venue  freq\n",
      "0                 Park  0.50\n",
      "1           Playground  0.25\n",
      "2                Trail  0.25\n",
      "3  Moroccan Restaurant  0.00\n",
      "4     Malay Restaurant  0.00\n",
      "\n",
      "\n",
      "----Roselawn----\n",
      "                 venue  freq\n",
      "0          Music Venue   0.5\n",
      "1               Garden   0.5\n",
      "2    Afghan Restaurant   0.0\n",
      "3  Moroccan Restaurant   0.0\n",
      "4     Malay Restaurant   0.0\n",
      "\n",
      "\n",
      "----Runnymede, Swansea----\n",
      "                venue  freq\n",
      "0         Coffee Shop  0.09\n",
      "1                Café  0.09\n",
      "2    Sushi Restaurant  0.06\n",
      "3         Pizza Place  0.06\n",
      "4  Italian Restaurant  0.06\n",
      "\n",
      "\n",
      "----St. James Town----\n",
      "          venue  freq\n",
      "0   Coffee Shop  0.07\n",
      "1          Café  0.06\n",
      "2  Cocktail Bar  0.05\n",
      "3    Restaurant  0.05\n",
      "4     Gastropub  0.04\n",
      "\n",
      "\n",
      "----St. James Town, Cabbagetown----\n",
      "                venue  freq\n",
      "0         Coffee Shop  0.08\n",
      "1         Pizza Place  0.06\n",
      "2          Restaurant  0.06\n",
      "3                Café  0.06\n",
      "4  Chinese Restaurant  0.04\n",
      "\n",
      "\n",
      "----Stn A PO Boxes----\n",
      "                venue  freq\n",
      "0         Coffee Shop  0.10\n",
      "1  Italian Restaurant  0.04\n",
      "2                 Pub  0.03\n",
      "3                Café  0.03\n",
      "4  Seafood Restaurant  0.03\n",
      "\n",
      "\n",
      "----Studio District----\n",
      "                 venue  freq\n",
      "0          Coffee Shop  0.08\n",
      "1              Brewery  0.05\n",
      "2                 Café  0.05\n",
      "3  American Restaurant  0.05\n",
      "4               Bakery  0.05\n",
      "\n",
      "\n",
      "----Summerhill West, Rathnelly, South Hill, Forest Hill SE, Deer Park----\n",
      "                 venue  freq\n",
      "0          Coffee Shop  0.14\n",
      "1   Light Rail Station  0.07\n",
      "2         Liquor Store  0.07\n",
      "3  Fried Chicken Joint  0.07\n",
      "4           Restaurant  0.07\n",
      "\n",
      "\n",
      "----The Annex, North Midtown, Yorkville----\n",
      "            venue  freq\n",
      "0            Café  0.16\n",
      "1  Sandwich Place  0.16\n",
      "2     Coffee Shop  0.11\n",
      "3            Park  0.05\n",
      "4  History Museum  0.05\n",
      "\n",
      "\n",
      "----The Beaches----\n",
      "               venue  freq\n",
      "0              Trail  0.25\n",
      "1  Health Food Store  0.25\n",
      "2       Neighborhood  0.25\n",
      "3                Pub  0.25\n",
      "4        Men's Store  0.00\n",
      "\n",
      "\n",
      "----The Danforth West, Riverdale----\n",
      "                    venue  freq\n",
      "0        Greek Restaurant  0.16\n",
      "1             Coffee Shop  0.09\n",
      "2      Italian Restaurant  0.07\n",
      "3  Furniture / Home Store  0.05\n",
      "4          Ice Cream Shop  0.05\n",
      "\n",
      "\n",
      "----Toronto Dominion Centre, Design Exchange----\n",
      "         venue  freq\n",
      "0  Coffee Shop  0.14\n",
      "1        Hotel  0.08\n",
      "2         Café  0.05\n",
      "3   Restaurant  0.05\n",
      "4  Salad Place  0.03\n",
      "\n",
      "\n",
      "----University of Toronto, Harbord----\n",
      "                 venue  freq\n",
      "0                 Café  0.15\n",
      "1            Bookstore  0.09\n",
      "2                  Bar  0.06\n",
      "3  Japanese Restaurant  0.06\n",
      "4       Sandwich Place  0.06\n",
      "\n",
      "\n"
     ]
    }
   ],
   "source": [
    "num_top_venues = 5\n",
    "\n",
    "for hood in toronto_grouped['Neighbourhood']:\n",
    "    print(\"----\" + hood + \"----\")\n",
    "    temp = toronto_grouped[toronto_grouped['Neighbourhood'] == hood].T.reset_index()\n",
    "    temp.columns = ['venue', 'freq']\n",
    "    temp = temp.iloc[1:]\n",
    "    temp['freq'] = temp['freq'].astype(float)\n",
    "    temp = temp.round({'freq': 2})\n",
    "    print(temp.sort_values('freq', ascending = False).reset_index(drop = True).head(num_top_venues))\n",
    "    print('\\n')"
   ]
  },
  {
   "source": [
    "### Define a function to sort the venues in descending order."
   ],
   "cell_type": "markdown",
   "metadata": {}
  },
  {
   "cell_type": "code",
   "execution_count": 38,
   "metadata": {},
   "outputs": [],
   "source": [
    "def most_common_venues(row, num_top_venues):\n",
    "    row_categories = row.iloc[1:]\n",
    "    row_categories_sorted = row_categories.sort_values(ascending = False)\n",
    "    \n",
    "    return row_categories_sorted.index.values[0:num_top_venues]"
   ]
  },
  {
   "source": [
    "### Create a dataframe and Display the top 10 venues for each neighbourhood."
   ],
   "cell_type": "markdown",
   "metadata": {}
  },
  {
   "cell_type": "code",
   "execution_count": 39,
   "metadata": {},
   "outputs": [
    {
     "output_type": "execute_result",
     "data": {
      "text/plain": [
       "                                       Neighbourhood 1st Most Common Venue  \\\n",
       "0                                        Berczy Park           Coffee Shop   \n",
       "1       Brockton, Parkdale Village, Exhibition Place                  Café   \n",
       "2  Business reply mail Processing Centre, South C...                  Park   \n",
       "3  CN Tower, King and Spadina, Railway Lands, Har...        Airport Lounge   \n",
       "4                                 Central Bay Street           Coffee Shop   \n",
       "\n",
       "  2nd Most Common Venue 3rd Most Common Venue 4th Most Common Venue  \\\n",
       "0    Seafood Restaurant          Cocktail Bar        Farmers Market   \n",
       "1        Breakfast Spot             Nightclub           Coffee Shop   \n",
       "2           Pizza Place    Light Rail Station            Skate Park   \n",
       "3       Airport Service              Boutique       Harbor / Marina   \n",
       "4                  Café    Italian Restaurant        Sandwich Place   \n",
       "\n",
       "  5th Most Common Venue 6th Most Common Venue 7th Most Common Venue  \\\n",
       "0              Beer Bar            Restaurant           Cheese Shop   \n",
       "1          Climbing Gym         Burrito Place            Restaurant   \n",
       "2         Burrito Place        Farmers Market  Fast Food Restaurant   \n",
       "3         Boat or Ferry   Rental Car Location                   Bar   \n",
       "4           Salad Place       Bubble Tea Shop      Department Store   \n",
       "\n",
       "  8th Most Common Venue 9th Most Common Venue 10th Most Common Venue  \n",
       "0                Bakery        Sandwich Place       Department Store  \n",
       "1    Italian Restaurant          Intersection                    Bar  \n",
       "2               Butcher            Restaurant       Recording Studio  \n",
       "3                 Plane           Coffee Shop       Sculpture Garden  \n",
       "4          Burger Joint   Japanese Restaurant        Thai Restaurant  "
      ],
      "text/html": "<div>\n<style scoped>\n    .dataframe tbody tr th:only-of-type {\n        vertical-align: middle;\n    }\n\n    .dataframe tbody tr th {\n        vertical-align: top;\n    }\n\n    .dataframe thead th {\n        text-align: right;\n    }\n</style>\n<table border=\"1\" class=\"dataframe\">\n  <thead>\n    <tr style=\"text-align: right;\">\n      <th></th>\n      <th>Neighbourhood</th>\n      <th>1st Most Common Venue</th>\n      <th>2nd Most Common Venue</th>\n      <th>3rd Most Common Venue</th>\n      <th>4th Most Common Venue</th>\n      <th>5th Most Common Venue</th>\n      <th>6th Most Common Venue</th>\n      <th>7th Most Common Venue</th>\n      <th>8th Most Common Venue</th>\n      <th>9th Most Common Venue</th>\n      <th>10th Most Common Venue</th>\n    </tr>\n  </thead>\n  <tbody>\n    <tr>\n      <th>0</th>\n      <td>Berczy Park</td>\n      <td>Coffee Shop</td>\n      <td>Seafood Restaurant</td>\n      <td>Cocktail Bar</td>\n      <td>Farmers Market</td>\n      <td>Beer Bar</td>\n      <td>Restaurant</td>\n      <td>Cheese Shop</td>\n      <td>Bakery</td>\n      <td>Sandwich Place</td>\n      <td>Department Store</td>\n    </tr>\n    <tr>\n      <th>1</th>\n      <td>Brockton, Parkdale Village, Exhibition Place</td>\n      <td>Café</td>\n      <td>Breakfast Spot</td>\n      <td>Nightclub</td>\n      <td>Coffee Shop</td>\n      <td>Climbing Gym</td>\n      <td>Burrito Place</td>\n      <td>Restaurant</td>\n      <td>Italian Restaurant</td>\n      <td>Intersection</td>\n      <td>Bar</td>\n    </tr>\n    <tr>\n      <th>2</th>\n      <td>Business reply mail Processing Centre, South C...</td>\n      <td>Park</td>\n      <td>Pizza Place</td>\n      <td>Light Rail Station</td>\n      <td>Skate Park</td>\n      <td>Burrito Place</td>\n      <td>Farmers Market</td>\n      <td>Fast Food Restaurant</td>\n      <td>Butcher</td>\n      <td>Restaurant</td>\n      <td>Recording Studio</td>\n    </tr>\n    <tr>\n      <th>3</th>\n      <td>CN Tower, King and Spadina, Railway Lands, Har...</td>\n      <td>Airport Lounge</td>\n      <td>Airport Service</td>\n      <td>Boutique</td>\n      <td>Harbor / Marina</td>\n      <td>Boat or Ferry</td>\n      <td>Rental Car Location</td>\n      <td>Bar</td>\n      <td>Plane</td>\n      <td>Coffee Shop</td>\n      <td>Sculpture Garden</td>\n    </tr>\n    <tr>\n      <th>4</th>\n      <td>Central Bay Street</td>\n      <td>Coffee Shop</td>\n      <td>Café</td>\n      <td>Italian Restaurant</td>\n      <td>Sandwich Place</td>\n      <td>Salad Place</td>\n      <td>Bubble Tea Shop</td>\n      <td>Department Store</td>\n      <td>Burger Joint</td>\n      <td>Japanese Restaurant</td>\n      <td>Thai Restaurant</td>\n    </tr>\n  </tbody>\n</table>\n</div>"
     },
     "metadata": {},
     "execution_count": 39
    }
   ],
   "source": [
    "num_top_venues = 10\n",
    "\n",
    "indicators = ['st', 'nd', 'rd']\n",
    "\n",
    "# create columns according to number of top venues\n",
    "columns = ['Neighbourhood']\n",
    "for ind in np.arange(num_top_venues):\n",
    "    try:\n",
    "        columns.append('{}{} Most Common Venue'.format(ind + 1, indicators[ind]))\n",
    "    except:\n",
    "        columns.append('{}th Most Common Venue'.format(ind + 1))\n",
    "\n",
    "# create a new dataframe\n",
    "nbh_venues_sorted = pd.DataFrame(columns = columns)\n",
    "nbh_venues_sorted['Neighbourhood'] = toronto_grouped['Neighbourhood']\n",
    "\n",
    "for ind in np.arange(toronto_grouped.shape[0]):\n",
    "    nbh_venues_sorted.iloc[ind, 1:] = most_common_venues(toronto_grouped.iloc[ind, :], num_top_venues)\n",
    "\n",
    "nbh_venues_sorted.head()"
   ]
  },
  {
   "source": [
    "## Cluster Neighbourhoods\n",
    "### Run K-Means to cluster the neighbourhoods into 5 clusters."
   ],
   "cell_type": "markdown",
   "metadata": {}
  },
  {
   "cell_type": "code",
   "execution_count": 40,
   "metadata": {},
   "outputs": [
    {
     "output_type": "execute_result",
     "data": {
      "text/plain": [
       "array([2, 2, 2, 2, 2, 2, 2, 2, 2, 2])"
      ]
     },
     "metadata": {},
     "execution_count": 40
    }
   ],
   "source": [
    "# set number of clusters\n",
    "kclusters = 5\n",
    "\n",
    "toronto_grouped_clustering = toronto_grouped.drop('Neighbourhood', 1)\n",
    "\n",
    "# run k-means clustering\n",
    "kmeans = KMeans(n_clusters = kclusters, random_state = 0).fit(toronto_grouped_clustering)\n",
    "\n",
    "# check cluster labels generated for each row in the dataframe\n",
    "kmeans.labels_[0:10] "
   ]
  },
  {
   "source": [
    "### Create a dataframe to store the cluster as well as the top 10 venues of each neighbourhood."
   ],
   "cell_type": "markdown",
   "metadata": {}
  },
  {
   "cell_type": "code",
   "execution_count": 41,
   "metadata": {},
   "outputs": [
    {
     "output_type": "execute_result",
     "data": {
      "text/plain": [
       "            Borough                                Neighbourhood   Latitude  \\\n",
       "0  Downtown Toronto                    Regent Park, Harbourfront  43.654260   \n",
       "1  Downtown Toronto  Queen's Park, Ontario Provincial Government  43.662301   \n",
       "2  Downtown Toronto                     Garden District, Ryerson  43.657162   \n",
       "3  Downtown Toronto                               St. James Town  43.651494   \n",
       "4      East Toronto                                  The Beaches  43.676357   \n",
       "\n",
       "   Longitude  Cluster Labels 1st Most Common Venue 2nd Most Common Venue  \\\n",
       "0 -79.360636               2           Coffee Shop                  Park   \n",
       "1 -79.389494               2           Coffee Shop           Yoga Studio   \n",
       "2 -79.378937               2        Clothing Store           Coffee Shop   \n",
       "3 -79.375418               2           Coffee Shop                  Café   \n",
       "4 -79.293031               3          Neighborhood                   Pub   \n",
       "\n",
       "  3rd Most Common Venue 4th Most Common Venue  5th Most Common Venue  \\\n",
       "0                   Pub                Bakery                Theater   \n",
       "1                 Diner            Restaurant  Portuguese Restaurant   \n",
       "2                  Café       Bubble Tea Shop    Japanese Restaurant   \n",
       "3          Cocktail Bar            Restaurant               Beer Bar   \n",
       "4     Health Food Store                 Trail            Yoga Studio   \n",
       "\n",
       "  6th Most Common Venue 7th Most Common Venue 8th Most Common Venue  \\\n",
       "0        Breakfast Spot                  Café     Electronics Store   \n",
       "1                  Park           Music Venue    Mexican Restaurant   \n",
       "2        Cosmetics Shop                 Hotel             Bookstore   \n",
       "3             Gastropub   American Restaurant        Farmers Market   \n",
       "4    Dim Sum Restaurant                 Diner        Discount Store   \n",
       "\n",
       "  9th Most Common Venue     10th Most Common Venue  \n",
       "0                   Spa                 Beer Store  \n",
       "1    Italian Restaurant                 Hobby Shop  \n",
       "2           Pizza Place  Middle Eastern Restaurant  \n",
       "3                 Hotel        Japanese Restaurant  \n",
       "4   Distribution Center           Doner Restaurant  "
      ],
      "text/html": "<div>\n<style scoped>\n    .dataframe tbody tr th:only-of-type {\n        vertical-align: middle;\n    }\n\n    .dataframe tbody tr th {\n        vertical-align: top;\n    }\n\n    .dataframe thead th {\n        text-align: right;\n    }\n</style>\n<table border=\"1\" class=\"dataframe\">\n  <thead>\n    <tr style=\"text-align: right;\">\n      <th></th>\n      <th>Borough</th>\n      <th>Neighbourhood</th>\n      <th>Latitude</th>\n      <th>Longitude</th>\n      <th>Cluster Labels</th>\n      <th>1st Most Common Venue</th>\n      <th>2nd Most Common Venue</th>\n      <th>3rd Most Common Venue</th>\n      <th>4th Most Common Venue</th>\n      <th>5th Most Common Venue</th>\n      <th>6th Most Common Venue</th>\n      <th>7th Most Common Venue</th>\n      <th>8th Most Common Venue</th>\n      <th>9th Most Common Venue</th>\n      <th>10th Most Common Venue</th>\n    </tr>\n  </thead>\n  <tbody>\n    <tr>\n      <th>0</th>\n      <td>Downtown Toronto</td>\n      <td>Regent Park, Harbourfront</td>\n      <td>43.654260</td>\n      <td>-79.360636</td>\n      <td>2</td>\n      <td>Coffee Shop</td>\n      <td>Park</td>\n      <td>Pub</td>\n      <td>Bakery</td>\n      <td>Theater</td>\n      <td>Breakfast Spot</td>\n      <td>Café</td>\n      <td>Electronics Store</td>\n      <td>Spa</td>\n      <td>Beer Store</td>\n    </tr>\n    <tr>\n      <th>1</th>\n      <td>Downtown Toronto</td>\n      <td>Queen's Park, Ontario Provincial Government</td>\n      <td>43.662301</td>\n      <td>-79.389494</td>\n      <td>2</td>\n      <td>Coffee Shop</td>\n      <td>Yoga Studio</td>\n      <td>Diner</td>\n      <td>Restaurant</td>\n      <td>Portuguese Restaurant</td>\n      <td>Park</td>\n      <td>Music Venue</td>\n      <td>Mexican Restaurant</td>\n      <td>Italian Restaurant</td>\n      <td>Hobby Shop</td>\n    </tr>\n    <tr>\n      <th>2</th>\n      <td>Downtown Toronto</td>\n      <td>Garden District, Ryerson</td>\n      <td>43.657162</td>\n      <td>-79.378937</td>\n      <td>2</td>\n      <td>Clothing Store</td>\n      <td>Coffee Shop</td>\n      <td>Café</td>\n      <td>Bubble Tea Shop</td>\n      <td>Japanese Restaurant</td>\n      <td>Cosmetics Shop</td>\n      <td>Hotel</td>\n      <td>Bookstore</td>\n      <td>Pizza Place</td>\n      <td>Middle Eastern Restaurant</td>\n    </tr>\n    <tr>\n      <th>3</th>\n      <td>Downtown Toronto</td>\n      <td>St. James Town</td>\n      <td>43.651494</td>\n      <td>-79.375418</td>\n      <td>2</td>\n      <td>Coffee Shop</td>\n      <td>Café</td>\n      <td>Cocktail Bar</td>\n      <td>Restaurant</td>\n      <td>Beer Bar</td>\n      <td>Gastropub</td>\n      <td>American Restaurant</td>\n      <td>Farmers Market</td>\n      <td>Hotel</td>\n      <td>Japanese Restaurant</td>\n    </tr>\n    <tr>\n      <th>4</th>\n      <td>East Toronto</td>\n      <td>The Beaches</td>\n      <td>43.676357</td>\n      <td>-79.293031</td>\n      <td>3</td>\n      <td>Neighborhood</td>\n      <td>Pub</td>\n      <td>Health Food Store</td>\n      <td>Trail</td>\n      <td>Yoga Studio</td>\n      <td>Dim Sum Restaurant</td>\n      <td>Diner</td>\n      <td>Discount Store</td>\n      <td>Distribution Center</td>\n      <td>Doner Restaurant</td>\n    </tr>\n  </tbody>\n</table>\n</div>"
     },
     "metadata": {},
     "execution_count": 41
    }
   ],
   "source": [
    "# add clustering labels\n",
    "nbh_venues_sorted.insert(0, 'Cluster Labels', kmeans.labels_)\n",
    "\n",
    "toronto_merged = df3\n",
    "\n",
    "# merge toronto_grouped with toronto_data to add latitude/longitude for each neighbourhood\n",
    "toronto_merged = toronto_merged.join(nbh_venues_sorted.set_index('Neighbourhood'), on = 'Neighbourhood')\n",
    "\n",
    "toronto_merged.head()"
   ]
  },
  {
   "source": [
    "### Visualise the resulting cluster."
   ],
   "cell_type": "markdown",
   "metadata": {}
  },
  {
   "cell_type": "code",
   "execution_count": 42,
   "metadata": {},
   "outputs": [
    {
     "output_type": "execute_result",
     "data": {
      "text/plain": [
       "<folium.folium.Map at 0x1a092bfc670>"
      ],
      "text/html": "<div style=\"width:100%;\"><div style=\"position:relative;width:100%;height:0;padding-bottom:60%;\"><span style=\"color:#565656\">Make this Notebook Trusted to load map: File -> Trust Notebook</span><iframe src=\"about:blank\" style=\"position:absolute;width:100%;height:100%;left:0;top:0;border:none !important;\" data-html=PCFET0NUWVBFIGh0bWw+CjxoZWFkPiAgICAKICAgIDxtZXRhIGh0dHAtZXF1aXY9ImNvbnRlbnQtdHlwZSIgY29udGVudD0idGV4dC9odG1sOyBjaGFyc2V0PVVURi04IiAvPgogICAgPHNjcmlwdD5MX1BSRUZFUl9DQU5WQVMgPSBmYWxzZTsgTF9OT19UT1VDSCA9IGZhbHNlOyBMX0RJU0FCTEVfM0QgPSBmYWxzZTs8L3NjcmlwdD4KICAgIDxzY3JpcHQgc3JjPSJodHRwczovL2Nkbi5qc2RlbGl2ci5uZXQvbnBtL2xlYWZsZXRAMS4yLjAvZGlzdC9sZWFmbGV0LmpzIj48L3NjcmlwdD4KICAgIDxzY3JpcHQgc3JjPSJodHRwczovL2FqYXguZ29vZ2xlYXBpcy5jb20vYWpheC9saWJzL2pxdWVyeS8xLjExLjEvanF1ZXJ5Lm1pbi5qcyI+PC9zY3JpcHQ+CiAgICA8c2NyaXB0IHNyYz0iaHR0cHM6Ly9tYXhjZG4uYm9vdHN0cmFwY2RuLmNvbS9ib290c3RyYXAvMy4yLjAvanMvYm9vdHN0cmFwLm1pbi5qcyI+PC9zY3JpcHQ+CiAgICA8c2NyaXB0IHNyYz0iaHR0cHM6Ly9jZG5qcy5jbG91ZGZsYXJlLmNvbS9hamF4L2xpYnMvTGVhZmxldC5hd2Vzb21lLW1hcmtlcnMvMi4wLjIvbGVhZmxldC5hd2Vzb21lLW1hcmtlcnMuanMiPjwvc2NyaXB0PgogICAgPGxpbmsgcmVsPSJzdHlsZXNoZWV0IiBocmVmPSJodHRwczovL2Nkbi5qc2RlbGl2ci5uZXQvbnBtL2xlYWZsZXRAMS4yLjAvZGlzdC9sZWFmbGV0LmNzcyIvPgogICAgPGxpbmsgcmVsPSJzdHlsZXNoZWV0IiBocmVmPSJodHRwczovL21heGNkbi5ib290c3RyYXBjZG4uY29tL2Jvb3RzdHJhcC8zLjIuMC9jc3MvYm9vdHN0cmFwLm1pbi5jc3MiLz4KICAgIDxsaW5rIHJlbD0ic3R5bGVzaGVldCIgaHJlZj0iaHR0cHM6Ly9tYXhjZG4uYm9vdHN0cmFwY2RuLmNvbS9ib290c3RyYXAvMy4yLjAvY3NzL2Jvb3RzdHJhcC10aGVtZS5taW4uY3NzIi8+CiAgICA8bGluayByZWw9InN0eWxlc2hlZXQiIGhyZWY9Imh0dHBzOi8vbWF4Y2RuLmJvb3RzdHJhcGNkbi5jb20vZm9udC1hd2Vzb21lLzQuNi4zL2Nzcy9mb250LWF3ZXNvbWUubWluLmNzcyIvPgogICAgPGxpbmsgcmVsPSJzdHlsZXNoZWV0IiBocmVmPSJodHRwczovL2NkbmpzLmNsb3VkZmxhcmUuY29tL2FqYXgvbGlicy9MZWFmbGV0LmF3ZXNvbWUtbWFya2Vycy8yLjAuMi9sZWFmbGV0LmF3ZXNvbWUtbWFya2Vycy5jc3MiLz4KICAgIDxsaW5rIHJlbD0ic3R5bGVzaGVldCIgaHJlZj0iaHR0cHM6Ly9yYXdnaXQuY29tL3B5dGhvbi12aXN1YWxpemF0aW9uL2ZvbGl1bS9tYXN0ZXIvZm9saXVtL3RlbXBsYXRlcy9sZWFmbGV0LmF3ZXNvbWUucm90YXRlLmNzcyIvPgogICAgPHN0eWxlPmh0bWwsIGJvZHkge3dpZHRoOiAxMDAlO2hlaWdodDogMTAwJTttYXJnaW46IDA7cGFkZGluZzogMDt9PC9zdHlsZT4KICAgIDxzdHlsZT4jbWFwIHtwb3NpdGlvbjphYnNvbHV0ZTt0b3A6MDtib3R0b206MDtyaWdodDowO2xlZnQ6MDt9PC9zdHlsZT4KICAgIAogICAgICAgICAgICA8c3R5bGU+ICNtYXBfOTg0MDJkNDJhNTY0NDQ2ODhmNzIxZjc0YjAyOGVjOGYgewogICAgICAgICAgICAgICAgcG9zaXRpb24gOiByZWxhdGl2ZTsKICAgICAgICAgICAgICAgIHdpZHRoIDogMTAwLjAlOwogICAgICAgICAgICAgICAgaGVpZ2h0OiAxMDAuMCU7CiAgICAgICAgICAgICAgICBsZWZ0OiAwLjAlOwogICAgICAgICAgICAgICAgdG9wOiAwLjAlOwogICAgICAgICAgICAgICAgfQogICAgICAgICAgICA8L3N0eWxlPgogICAgICAgIAo8L2hlYWQ+Cjxib2R5PiAgICAKICAgIAogICAgICAgICAgICA8ZGl2IGNsYXNzPSJmb2xpdW0tbWFwIiBpZD0ibWFwXzk4NDAyZDQyYTU2NDQ0Njg4ZjcyMWY3NGIwMjhlYzhmIiA+PC9kaXY+CiAgICAgICAgCjwvYm9keT4KPHNjcmlwdD4gICAgCiAgICAKCiAgICAgICAgICAgIAogICAgICAgICAgICAgICAgdmFyIGJvdW5kcyA9IG51bGw7CiAgICAgICAgICAgIAoKICAgICAgICAgICAgdmFyIG1hcF85ODQwMmQ0MmE1NjQ0NDY4OGY3MjFmNzRiMDI4ZWM4ZiA9IEwubWFwKAogICAgICAgICAgICAgICAgICAgICAgICAgICAgICAgICAgJ21hcF85ODQwMmQ0MmE1NjQ0NDY4OGY3MjFmNzRiMDI4ZWM4ZicsCiAgICAgICAgICAgICAgICAgICAgICAgICAgICAgICAgICB7Y2VudGVyOiBbNDMuNjUzNDgxNywtNzkuMzgzOTM0N10sCiAgICAgICAgICAgICAgICAgICAgICAgICAgICAgICAgICB6b29tOiAxMiwKICAgICAgICAgICAgICAgICAgICAgICAgICAgICAgICAgIG1heEJvdW5kczogYm91bmRzLAogICAgICAgICAgICAgICAgICAgICAgICAgICAgICAgICAgbGF5ZXJzOiBbXSwKICAgICAgICAgICAgICAgICAgICAgICAgICAgICAgICAgIHdvcmxkQ29weUp1bXA6IGZhbHNlLAogICAgICAgICAgICAgICAgICAgICAgICAgICAgICAgICAgY3JzOiBMLkNSUy5FUFNHMzg1NwogICAgICAgICAgICAgICAgICAgICAgICAgICAgICAgICB9KTsKICAgICAgICAgICAgCiAgICAgICAgCiAgICAKICAgICAgICAgICAgdmFyIHRpbGVfbGF5ZXJfNzBlNjNhZGI5MDZiNDA0MTgwNDEwZDBkMGU5N2Q0NzAgPSBMLnRpbGVMYXllcigKICAgICAgICAgICAgICAgICdodHRwczovL3tzfS50aWxlLm9wZW5zdHJlZXRtYXAub3JnL3t6fS97eH0ve3l9LnBuZycsCiAgICAgICAgICAgICAgICB7CiAgImF0dHJpYnV0aW9uIjogbnVsbCwKICAiZGV0ZWN0UmV0aW5hIjogZmFsc2UsCiAgIm1heFpvb20iOiAxOCwKICAibWluWm9vbSI6IDEsCiAgIm5vV3JhcCI6IGZhbHNlLAogICJzdWJkb21haW5zIjogImFiYyIKfQogICAgICAgICAgICAgICAgKS5hZGRUbyhtYXBfOTg0MDJkNDJhNTY0NDQ2ODhmNzIxZjc0YjAyOGVjOGYpOwogICAgICAgIAogICAgCiAgICAgICAgICAgIHZhciBjaXJjbGVfbWFya2VyXzk2YjkyYWVkZjE1ODRjYzU5ZjkxOGZlNjI0ODFiMDI3ID0gTC5jaXJjbGVNYXJrZXIoCiAgICAgICAgICAgICAgICBbNDMuNjU0MjU5OSwtNzkuMzYwNjM1OV0sCiAgICAgICAgICAgICAgICB7CiAgImJ1YmJsaW5nTW91c2VFdmVudHMiOiB0cnVlLAogICJjb2xvciI6ICIjMDBiNWViIiwKICAiZGFzaEFycmF5IjogbnVsbCwKICAiZGFzaE9mZnNldCI6IG51bGwsCiAgImZpbGwiOiB0cnVlLAogICJmaWxsQ29sb3IiOiAiIzAwYjVlYiIsCiAgImZpbGxPcGFjaXR5IjogMC43LAogICJmaWxsUnVsZSI6ICJldmVub2RkIiwKICAibGluZUNhcCI6ICJyb3VuZCIsCiAgImxpbmVKb2luIjogInJvdW5kIiwKICAib3BhY2l0eSI6IDEuMCwKICAicmFkaXVzIjogNSwKICAic3Ryb2tlIjogdHJ1ZSwKICAid2VpZ2h0IjogMwp9CiAgICAgICAgICAgICAgICApLmFkZFRvKG1hcF85ODQwMmQ0MmE1NjQ0NDY4OGY3MjFmNzRiMDI4ZWM4Zik7CiAgICAgICAgICAgIAogICAgCiAgICAgICAgICAgIHZhciBwb3B1cF8yMzhkODhlYjM0Yjg0YTQ2YTRiYzcxNmMxMmVkNmI0YiA9IEwucG9wdXAoe21heFdpZHRoOiAnMzAwJ30pOwoKICAgICAgICAgICAgCiAgICAgICAgICAgICAgICB2YXIgaHRtbF9lNTMyZGFhMmMzMWY0NmQ1OWYzNGIzYzhhN2RlY2VjNyA9ICQoJzxkaXYgaWQ9Imh0bWxfZTUzMmRhYTJjMzFmNDZkNTlmMzRiM2M4YTdkZWNlYzciIHN0eWxlPSJ3aWR0aDogMTAwLjAlOyBoZWlnaHQ6IDEwMC4wJTsiPlJlZ2VudCBQYXJrLCBIYXJib3VyZnJvbnQgQ2x1c3RlciAyPC9kaXY+JylbMF07CiAgICAgICAgICAgICAgICBwb3B1cF8yMzhkODhlYjM0Yjg0YTQ2YTRiYzcxNmMxMmVkNmI0Yi5zZXRDb250ZW50KGh0bWxfZTUzMmRhYTJjMzFmNDZkNTlmMzRiM2M4YTdkZWNlYzcpOwogICAgICAgICAgICAKCiAgICAgICAgICAgIGNpcmNsZV9tYXJrZXJfOTZiOTJhZWRmMTU4NGNjNTlmOTE4ZmU2MjQ4MWIwMjcuYmluZFBvcHVwKHBvcHVwXzIzOGQ4OGViMzRiODRhNDZhNGJjNzE2YzEyZWQ2YjRiKTsKCiAgICAgICAgICAgIAogICAgICAgIAogICAgCiAgICAgICAgICAgIHZhciBjaXJjbGVfbWFya2VyXzg1NDUzOGNiZDY2NjQzZmFhMWRhMjk5NWI4OTQ2NjM3ID0gTC5jaXJjbGVNYXJrZXIoCiAgICAgICAgICAgICAgICBbNDMuNjYyMzAxNSwtNzkuMzg5NDkzOF0sCiAgICAgICAgICAgICAgICB7CiAgImJ1YmJsaW5nTW91c2VFdmVudHMiOiB0cnVlLAogICJjb2xvciI6ICIjMDBiNWViIiwKICAiZGFzaEFycmF5IjogbnVsbCwKICAiZGFzaE9mZnNldCI6IG51bGwsCiAgImZpbGwiOiB0cnVlLAogICJmaWxsQ29sb3IiOiAiIzAwYjVlYiIsCiAgImZpbGxPcGFjaXR5IjogMC43LAogICJmaWxsUnVsZSI6ICJldmVub2RkIiwKICAibGluZUNhcCI6ICJyb3VuZCIsCiAgImxpbmVKb2luIjogInJvdW5kIiwKICAib3BhY2l0eSI6IDEuMCwKICAicmFkaXVzIjogNSwKICAic3Ryb2tlIjogdHJ1ZSwKICAid2VpZ2h0IjogMwp9CiAgICAgICAgICAgICAgICApLmFkZFRvKG1hcF85ODQwMmQ0MmE1NjQ0NDY4OGY3MjFmNzRiMDI4ZWM4Zik7CiAgICAgICAgICAgIAogICAgCiAgICAgICAgICAgIHZhciBwb3B1cF8wMzdlZjBmMzYzOWM0OWY0YjdlNGVmNjUwMGU0YWRhYiA9IEwucG9wdXAoe21heFdpZHRoOiAnMzAwJ30pOwoKICAgICAgICAgICAgCiAgICAgICAgICAgICAgICB2YXIgaHRtbF85ZDU5Y2Y4MjEzYmM0MTRiYTkyMTliODkyMzVjNGY1YyA9ICQoJzxkaXYgaWQ9Imh0bWxfOWQ1OWNmODIxM2JjNDE0YmE5MjE5Yjg5MjM1YzRmNWMiIHN0eWxlPSJ3aWR0aDogMTAwLjAlOyBoZWlnaHQ6IDEwMC4wJTsiPlF1ZWVuJiMzOTtzIFBhcmssIE9udGFyaW8gUHJvdmluY2lhbCBHb3Zlcm5tZW50IENsdXN0ZXIgMjwvZGl2PicpWzBdOwogICAgICAgICAgICAgICAgcG9wdXBfMDM3ZWYwZjM2MzljNDlmNGI3ZTRlZjY1MDBlNGFkYWIuc2V0Q29udGVudChodG1sXzlkNTljZjgyMTNiYzQxNGJhOTIxOWI4OTIzNWM0ZjVjKTsKICAgICAgICAgICAgCgogICAgICAgICAgICBjaXJjbGVfbWFya2VyXzg1NDUzOGNiZDY2NjQzZmFhMWRhMjk5NWI4OTQ2NjM3LmJpbmRQb3B1cChwb3B1cF8wMzdlZjBmMzYzOWM0OWY0YjdlNGVmNjUwMGU0YWRhYik7CgogICAgICAgICAgICAKICAgICAgICAKICAgIAogICAgICAgICAgICB2YXIgY2lyY2xlX21hcmtlcl8yYjBlOWNlOGQwNmE0NzhiOGEwNDg3OWYwOGQyNDYwOCA9IEwuY2lyY2xlTWFya2VyKAogICAgICAgICAgICAgICAgWzQzLjY1NzE2MTgsLTc5LjM3ODkzNzA5OTk5OTk5XSwKICAgICAgICAgICAgICAgIHsKICAiYnViYmxpbmdNb3VzZUV2ZW50cyI6IHRydWUsCiAgImNvbG9yIjogIiMwMGI1ZWIiLAogICJkYXNoQXJyYXkiOiBudWxsLAogICJkYXNoT2Zmc2V0IjogbnVsbCwKICAiZmlsbCI6IHRydWUsCiAgImZpbGxDb2xvciI6ICIjMDBiNWViIiwKICAiZmlsbE9wYWNpdHkiOiAwLjcsCiAgImZpbGxSdWxlIjogImV2ZW5vZGQiLAogICJsaW5lQ2FwIjogInJvdW5kIiwKICAibGluZUpvaW4iOiAicm91bmQiLAogICJvcGFjaXR5IjogMS4wLAogICJyYWRpdXMiOiA1LAogICJzdHJva2UiOiB0cnVlLAogICJ3ZWlnaHQiOiAzCn0KICAgICAgICAgICAgICAgICkuYWRkVG8obWFwXzk4NDAyZDQyYTU2NDQ0Njg4ZjcyMWY3NGIwMjhlYzhmKTsKICAgICAgICAgICAgCiAgICAKICAgICAgICAgICAgdmFyIHBvcHVwX2ZhMDc4MTI3M2YyNDRhNWM5N2IyZjgzZWM0MDhlOGNjID0gTC5wb3B1cCh7bWF4V2lkdGg6ICczMDAnfSk7CgogICAgICAgICAgICAKICAgICAgICAgICAgICAgIHZhciBodG1sXzk4Y2ZjMjYyNDA1ODQyOGVhMjM4MTkzZTlhNDdmMzlmID0gJCgnPGRpdiBpZD0iaHRtbF85OGNmYzI2MjQwNTg0MjhlYTIzODE5M2U5YTQ3ZjM5ZiIgc3R5bGU9IndpZHRoOiAxMDAuMCU7IGhlaWdodDogMTAwLjAlOyI+R2FyZGVuIERpc3RyaWN0LCBSeWVyc29uIENsdXN0ZXIgMjwvZGl2PicpWzBdOwogICAgICAgICAgICAgICAgcG9wdXBfZmEwNzgxMjczZjI0NGE1Yzk3YjJmODNlYzQwOGU4Y2Muc2V0Q29udGVudChodG1sXzk4Y2ZjMjYyNDA1ODQyOGVhMjM4MTkzZTlhNDdmMzlmKTsKICAgICAgICAgICAgCgogICAgICAgICAgICBjaXJjbGVfbWFya2VyXzJiMGU5Y2U4ZDA2YTQ3OGI4YTA0ODc5ZjA4ZDI0NjA4LmJpbmRQb3B1cChwb3B1cF9mYTA3ODEyNzNmMjQ0YTVjOTdiMmY4M2VjNDA4ZThjYyk7CgogICAgICAgICAgICAKICAgICAgICAKICAgIAogICAgICAgICAgICB2YXIgY2lyY2xlX21hcmtlcl9lN2Q4MjZjNDJmYzc0ZjFlYjBjNjk2ZmJiY2VkNjE4MCA9IEwuY2lyY2xlTWFya2VyKAogICAgICAgICAgICAgICAgWzQzLjY1MTQ5MzksLTc5LjM3NTQxNzldLAogICAgICAgICAgICAgICAgewogICJidWJibGluZ01vdXNlRXZlbnRzIjogdHJ1ZSwKICAiY29sb3IiOiAiIzAwYjVlYiIsCiAgImRhc2hBcnJheSI6IG51bGwsCiAgImRhc2hPZmZzZXQiOiBudWxsLAogICJmaWxsIjogdHJ1ZSwKICAiZmlsbENvbG9yIjogIiMwMGI1ZWIiLAogICJmaWxsT3BhY2l0eSI6IDAuNywKICAiZmlsbFJ1bGUiOiAiZXZlbm9kZCIsCiAgImxpbmVDYXAiOiAicm91bmQiLAogICJsaW5lSm9pbiI6ICJyb3VuZCIsCiAgIm9wYWNpdHkiOiAxLjAsCiAgInJhZGl1cyI6IDUsCiAgInN0cm9rZSI6IHRydWUsCiAgIndlaWdodCI6IDMKfQogICAgICAgICAgICAgICAgKS5hZGRUbyhtYXBfOTg0MDJkNDJhNTY0NDQ2ODhmNzIxZjc0YjAyOGVjOGYpOwogICAgICAgICAgICAKICAgIAogICAgICAgICAgICB2YXIgcG9wdXBfZjk3MjNjN2IxMWRkNDY4OGIwMzllYjExODQwNjQyZTkgPSBMLnBvcHVwKHttYXhXaWR0aDogJzMwMCd9KTsKCiAgICAgICAgICAgIAogICAgICAgICAgICAgICAgdmFyIGh0bWxfZWQzMWQxOTNkYWU5NDI0OWI5ZDAyMjZjNWU3MmIyNmYgPSAkKCc8ZGl2IGlkPSJodG1sX2VkMzFkMTkzZGFlOTQyNDliOWQwMjI2YzVlNzJiMjZmIiBzdHlsZT0id2lkdGg6IDEwMC4wJTsgaGVpZ2h0OiAxMDAuMCU7Ij5TdC4gSmFtZXMgVG93biBDbHVzdGVyIDI8L2Rpdj4nKVswXTsKICAgICAgICAgICAgICAgIHBvcHVwX2Y5NzIzYzdiMTFkZDQ2ODhiMDM5ZWIxMTg0MDY0MmU5LnNldENvbnRlbnQoaHRtbF9lZDMxZDE5M2RhZTk0MjQ5YjlkMDIyNmM1ZTcyYjI2Zik7CiAgICAgICAgICAgIAoKICAgICAgICAgICAgY2lyY2xlX21hcmtlcl9lN2Q4MjZjNDJmYzc0ZjFlYjBjNjk2ZmJiY2VkNjE4MC5iaW5kUG9wdXAocG9wdXBfZjk3MjNjN2IxMWRkNDY4OGIwMzllYjExODQwNjQyZTkpOwoKICAgICAgICAgICAgCiAgICAgICAgCiAgICAKICAgICAgICAgICAgdmFyIGNpcmNsZV9tYXJrZXJfZjZhYzZmZmRhY2IyNDQ5NGEyNTlhN2QzYThkZmE2MmYgPSBMLmNpcmNsZU1hcmtlcigKICAgICAgICAgICAgICAgIFs0My42NzYzNTczOTk5OTk5OSwtNzkuMjkzMDMxMl0sCiAgICAgICAgICAgICAgICB7CiAgImJ1YmJsaW5nTW91c2VFdmVudHMiOiB0cnVlLAogICJjb2xvciI6ICIjODBmZmI0IiwKICAiZGFzaEFycmF5IjogbnVsbCwKICAiZGFzaE9mZnNldCI6IG51bGwsCiAgImZpbGwiOiB0cnVlLAogICJmaWxsQ29sb3IiOiAiIzgwZmZiNCIsCiAgImZpbGxPcGFjaXR5IjogMC43LAogICJmaWxsUnVsZSI6ICJldmVub2RkIiwKICAibGluZUNhcCI6ICJyb3VuZCIsCiAgImxpbmVKb2luIjogInJvdW5kIiwKICAib3BhY2l0eSI6IDEuMCwKICAicmFkaXVzIjogNSwKICAic3Ryb2tlIjogdHJ1ZSwKICAid2VpZ2h0IjogMwp9CiAgICAgICAgICAgICAgICApLmFkZFRvKG1hcF85ODQwMmQ0MmE1NjQ0NDY4OGY3MjFmNzRiMDI4ZWM4Zik7CiAgICAgICAgICAgIAogICAgCiAgICAgICAgICAgIHZhciBwb3B1cF8xOTA0OTUxOGRlYTI0OTc0YTU1MzkyYzYxNzI1MTI4NyA9IEwucG9wdXAoe21heFdpZHRoOiAnMzAwJ30pOwoKICAgICAgICAgICAgCiAgICAgICAgICAgICAgICB2YXIgaHRtbF9lYjlkN2I3MDgwZWY0OTRjOTY3NzZkNzRhZWVmZjFhYSA9ICQoJzxkaXYgaWQ9Imh0bWxfZWI5ZDdiNzA4MGVmNDk0Yzk2Nzc2ZDc0YWVlZmYxYWEiIHN0eWxlPSJ3aWR0aDogMTAwLjAlOyBoZWlnaHQ6IDEwMC4wJTsiPlRoZSBCZWFjaGVzIENsdXN0ZXIgMzwvZGl2PicpWzBdOwogICAgICAgICAgICAgICAgcG9wdXBfMTkwNDk1MThkZWEyNDk3NGE1NTM5MmM2MTcyNTEyODcuc2V0Q29udGVudChodG1sX2ViOWQ3YjcwODBlZjQ5NGM5Njc3NmQ3NGFlZWZmMWFhKTsKICAgICAgICAgICAgCgogICAgICAgICAgICBjaXJjbGVfbWFya2VyX2Y2YWM2ZmZkYWNiMjQ0OTRhMjU5YTdkM2E4ZGZhNjJmLmJpbmRQb3B1cChwb3B1cF8xOTA0OTUxOGRlYTI0OTc0YTU1MzkyYzYxNzI1MTI4Nyk7CgogICAgICAgICAgICAKICAgICAgICAKICAgIAogICAgICAgICAgICB2YXIgY2lyY2xlX21hcmtlcl9kNjhhZDhhMTZlNmE0MmZlYTNhOTIxOGUxMTRlZDk5MSA9IEwuY2lyY2xlTWFya2VyKAogICAgICAgICAgICAgICAgWzQzLjY0NDc3MDc5OTk5OTk5NiwtNzkuMzczMzA2NF0sCiAgICAgICAgICAgICAgICB7CiAgImJ1YmJsaW5nTW91c2VFdmVudHMiOiB0cnVlLAogICJjb2xvciI6ICIjMDBiNWViIiwKICAiZGFzaEFycmF5IjogbnVsbCwKICAiZGFzaE9mZnNldCI6IG51bGwsCiAgImZpbGwiOiB0cnVlLAogICJmaWxsQ29sb3IiOiAiIzAwYjVlYiIsCiAgImZpbGxPcGFjaXR5IjogMC43LAogICJmaWxsUnVsZSI6ICJldmVub2RkIiwKICAibGluZUNhcCI6ICJyb3VuZCIsCiAgImxpbmVKb2luIjogInJvdW5kIiwKICAib3BhY2l0eSI6IDEuMCwKICAicmFkaXVzIjogNSwKICAic3Ryb2tlIjogdHJ1ZSwKICAid2VpZ2h0IjogMwp9CiAgICAgICAgICAgICAgICApLmFkZFRvKG1hcF85ODQwMmQ0MmE1NjQ0NDY4OGY3MjFmNzRiMDI4ZWM4Zik7CiAgICAgICAgICAgIAogICAgCiAgICAgICAgICAgIHZhciBwb3B1cF8wYTQ1NDI1MzdjZTA0MzJmOTU1NTIyMjQ2YWM5NDI0ZCA9IEwucG9wdXAoe21heFdpZHRoOiAnMzAwJ30pOwoKICAgICAgICAgICAgCiAgICAgICAgICAgICAgICB2YXIgaHRtbF9mMDA0NDliODE1MDI0MzJlYjc0MjYzMjc1NDVmZDZhMCA9ICQoJzxkaXYgaWQ9Imh0bWxfZjAwNDQ5YjgxNTAyNDMyZWI3NDI2MzI3NTQ1ZmQ2YTAiIHN0eWxlPSJ3aWR0aDogMTAwLjAlOyBoZWlnaHQ6IDEwMC4wJTsiPkJlcmN6eSBQYXJrIENsdXN0ZXIgMjwvZGl2PicpWzBdOwogICAgICAgICAgICAgICAgcG9wdXBfMGE0NTQyNTM3Y2UwNDMyZjk1NTUyMjI0NmFjOTQyNGQuc2V0Q29udGVudChodG1sX2YwMDQ0OWI4MTUwMjQzMmViNzQyNjMyNzU0NWZkNmEwKTsKICAgICAgICAgICAgCgogICAgICAgICAgICBjaXJjbGVfbWFya2VyX2Q2OGFkOGExNmU2YTQyZmVhM2E5MjE4ZTExNGVkOTkxLmJpbmRQb3B1cChwb3B1cF8wYTQ1NDI1MzdjZTA0MzJmOTU1NTIyMjQ2YWM5NDI0ZCk7CgogICAgICAgICAgICAKICAgICAgICAKICAgIAogICAgICAgICAgICB2YXIgY2lyY2xlX21hcmtlcl9kMWY5YWUxNzc3M2U0YWJlYWE2YTVjNjNjMzk4OGZkZCA9IEwuY2lyY2xlTWFya2VyKAogICAgICAgICAgICAgICAgWzQzLjY1Nzk1MjQsLTc5LjM4NzM4MjZdLAogICAgICAgICAgICAgICAgewogICJidWJibGluZ01vdXNlRXZlbnRzIjogdHJ1ZSwKICAiY29sb3IiOiAiIzAwYjVlYiIsCiAgImRhc2hBcnJheSI6IG51bGwsCiAgImRhc2hPZmZzZXQiOiBudWxsLAogICJmaWxsIjogdHJ1ZSwKICAiZmlsbENvbG9yIjogIiMwMGI1ZWIiLAogICJmaWxsT3BhY2l0eSI6IDAuNywKICAiZmlsbFJ1bGUiOiAiZXZlbm9kZCIsCiAgImxpbmVDYXAiOiAicm91bmQiLAogICJsaW5lSm9pbiI6ICJyb3VuZCIsCiAgIm9wYWNpdHkiOiAxLjAsCiAgInJhZGl1cyI6IDUsCiAgInN0cm9rZSI6IHRydWUsCiAgIndlaWdodCI6IDMKfQogICAgICAgICAgICAgICAgKS5hZGRUbyhtYXBfOTg0MDJkNDJhNTY0NDQ2ODhmNzIxZjc0YjAyOGVjOGYpOwogICAgICAgICAgICAKICAgIAogICAgICAgICAgICB2YXIgcG9wdXBfMWRkNmRiNWRlOTljNGNiODkyNGMyZGZmNGY3ZTVhNGMgPSBMLnBvcHVwKHttYXhXaWR0aDogJzMwMCd9KTsKCiAgICAgICAgICAgIAogICAgICAgICAgICAgICAgdmFyIGh0bWxfYTJjOWZkOTUyYmZhNGYwYTgwZjM4MGM1ODkxMzZlYzQgPSAkKCc8ZGl2IGlkPSJodG1sX2EyYzlmZDk1MmJmYTRmMGE4MGYzODBjNTg5MTM2ZWM0IiBzdHlsZT0id2lkdGg6IDEwMC4wJTsgaGVpZ2h0OiAxMDAuMCU7Ij5DZW50cmFsIEJheSBTdHJlZXQgQ2x1c3RlciAyPC9kaXY+JylbMF07CiAgICAgICAgICAgICAgICBwb3B1cF8xZGQ2ZGI1ZGU5OWM0Y2I4OTI0YzJkZmY0ZjdlNWE0Yy5zZXRDb250ZW50KGh0bWxfYTJjOWZkOTUyYmZhNGYwYTgwZjM4MGM1ODkxMzZlYzQpOwogICAgICAgICAgICAKCiAgICAgICAgICAgIGNpcmNsZV9tYXJrZXJfZDFmOWFlMTc3NzNlNGFiZWFhNmE1YzYzYzM5ODhmZGQuYmluZFBvcHVwKHBvcHVwXzFkZDZkYjVkZTk5YzRjYjg5MjRjMmRmZjRmN2U1YTRjKTsKCiAgICAgICAgICAgIAogICAgICAgIAogICAgCiAgICAgICAgICAgIHZhciBjaXJjbGVfbWFya2VyX2M1N2I2NjBiMjYyYzQ1OTg5N2RkOWZiMGI2ZjQ5NmY2ID0gTC5jaXJjbGVNYXJrZXIoCiAgICAgICAgICAgICAgICBbNDMuNjY5NTQyLC03OS40MjI1NjM3XSwKICAgICAgICAgICAgICAgIHsKICAiYnViYmxpbmdNb3VzZUV2ZW50cyI6IHRydWUsCiAgImNvbG9yIjogIiMwMGI1ZWIiLAogICJkYXNoQXJyYXkiOiBudWxsLAogICJkYXNoT2Zmc2V0IjogbnVsbCwKICAiZmlsbCI6IHRydWUsCiAgImZpbGxDb2xvciI6ICIjMDBiNWViIiwKICAiZmlsbE9wYWNpdHkiOiAwLjcsCiAgImZpbGxSdWxlIjogImV2ZW5vZGQiLAogICJsaW5lQ2FwIjogInJvdW5kIiwKICAibGluZUpvaW4iOiAicm91bmQiLAogICJvcGFjaXR5IjogMS4wLAogICJyYWRpdXMiOiA1LAogICJzdHJva2UiOiB0cnVlLAogICJ3ZWlnaHQiOiAzCn0KICAgICAgICAgICAgICAgICkuYWRkVG8obWFwXzk4NDAyZDQyYTU2NDQ0Njg4ZjcyMWY3NGIwMjhlYzhmKTsKICAgICAgICAgICAgCiAgICAKICAgICAgICAgICAgdmFyIHBvcHVwXzk1NzIzYjFlNzg2NjRhNDNhOTEwZGVmZmJkNTgwOTBlID0gTC5wb3B1cCh7bWF4V2lkdGg6ICczMDAnfSk7CgogICAgICAgICAgICAKICAgICAgICAgICAgICAgIHZhciBodG1sX2NlZDYzYjUxZjY5NjQ4OWVhNDRkNTY5ODNiNGE5OTU4ID0gJCgnPGRpdiBpZD0iaHRtbF9jZWQ2M2I1MWY2OTY0ODllYTQ0ZDU2OTgzYjRhOTk1OCIgc3R5bGU9IndpZHRoOiAxMDAuMCU7IGhlaWdodDogMTAwLjAlOyI+Q2hyaXN0aWUgQ2x1c3RlciAyPC9kaXY+JylbMF07CiAgICAgICAgICAgICAgICBwb3B1cF85NTcyM2IxZTc4NjY0YTQzYTkxMGRlZmZiZDU4MDkwZS5zZXRDb250ZW50KGh0bWxfY2VkNjNiNTFmNjk2NDg5ZWE0NGQ1Njk4M2I0YTk5NTgpOwogICAgICAgICAgICAKCiAgICAgICAgICAgIGNpcmNsZV9tYXJrZXJfYzU3YjY2MGIyNjJjNDU5ODk3ZGQ5ZmIwYjZmNDk2ZjYuYmluZFBvcHVwKHBvcHVwXzk1NzIzYjFlNzg2NjRhNDNhOTEwZGVmZmJkNTgwOTBlKTsKCiAgICAgICAgICAgIAogICAgICAgIAogICAgCiAgICAgICAgICAgIHZhciBjaXJjbGVfbWFya2VyXzE2ZWIyODA2ZWZhZTRjYjQ4OTAzYjRhNjRiM2JmMGY4ID0gTC5jaXJjbGVNYXJrZXIoCiAgICAgICAgICAgICAgICBbNDMuNjUwNTcxMjAwMDAwMDEsLTc5LjM4NDU2NzVdLAogICAgICAgICAgICAgICAgewogICJidWJibGluZ01vdXNlRXZlbnRzIjogdHJ1ZSwKICAiY29sb3IiOiAiIzAwYjVlYiIsCiAgImRhc2hBcnJheSI6IG51bGwsCiAgImRhc2hPZmZzZXQiOiBudWxsLAogICJmaWxsIjogdHJ1ZSwKICAiZmlsbENvbG9yIjogIiMwMGI1ZWIiLAogICJmaWxsT3BhY2l0eSI6IDAuNywKICAiZmlsbFJ1bGUiOiAiZXZlbm9kZCIsCiAgImxpbmVDYXAiOiAicm91bmQiLAogICJsaW5lSm9pbiI6ICJyb3VuZCIsCiAgIm9wYWNpdHkiOiAxLjAsCiAgInJhZGl1cyI6IDUsCiAgInN0cm9rZSI6IHRydWUsCiAgIndlaWdodCI6IDMKfQogICAgICAgICAgICAgICAgKS5hZGRUbyhtYXBfOTg0MDJkNDJhNTY0NDQ2ODhmNzIxZjc0YjAyOGVjOGYpOwogICAgICAgICAgICAKICAgIAogICAgICAgICAgICB2YXIgcG9wdXBfZWZkNzk2ZTlkNmM1NGJjMjg1MzMyN2VmNWNiZThmMDEgPSBMLnBvcHVwKHttYXhXaWR0aDogJzMwMCd9KTsKCiAgICAgICAgICAgIAogICAgICAgICAgICAgICAgdmFyIGh0bWxfMTExMTBhNTliN2NlNDA1ODg3NjY4OTc0MmE4ODFmZGMgPSAkKCc8ZGl2IGlkPSJodG1sXzExMTEwYTU5YjdjZTQwNTg4NzY2ODk3NDJhODgxZmRjIiBzdHlsZT0id2lkdGg6IDEwMC4wJTsgaGVpZ2h0OiAxMDAuMCU7Ij5SaWNobW9uZCwgQWRlbGFpZGUsIEtpbmcgQ2x1c3RlciAyPC9kaXY+JylbMF07CiAgICAgICAgICAgICAgICBwb3B1cF9lZmQ3OTZlOWQ2YzU0YmMyODUzMzI3ZWY1Y2JlOGYwMS5zZXRDb250ZW50KGh0bWxfMTExMTBhNTliN2NlNDA1ODg3NjY4OTc0MmE4ODFmZGMpOwogICAgICAgICAgICAKCiAgICAgICAgICAgIGNpcmNsZV9tYXJrZXJfMTZlYjI4MDZlZmFlNGNiNDg5MDNiNGE2NGIzYmYwZjguYmluZFBvcHVwKHBvcHVwX2VmZDc5NmU5ZDZjNTRiYzI4NTMzMjdlZjVjYmU4ZjAxKTsKCiAgICAgICAgICAgIAogICAgICAgIAogICAgCiAgICAgICAgICAgIHZhciBjaXJjbGVfbWFya2VyX2NlYmQ2YTA3OTg5NTRlOWRiNzJlM2Q5MzM3MjNlOWE5ID0gTC5jaXJjbGVNYXJrZXIoCiAgICAgICAgICAgICAgICBbNDMuNjY5MDA1MTAwMDAwMDEsLTc5LjQ0MjI1OTNdLAogICAgICAgICAgICAgICAgewogICJidWJibGluZ01vdXNlRXZlbnRzIjogdHJ1ZSwKICAiY29sb3IiOiAiIzAwYjVlYiIsCiAgImRhc2hBcnJheSI6IG51bGwsCiAgImRhc2hPZmZzZXQiOiBudWxsLAogICJmaWxsIjogdHJ1ZSwKICAiZmlsbENvbG9yIjogIiMwMGI1ZWIiLAogICJmaWxsT3BhY2l0eSI6IDAuNywKICAiZmlsbFJ1bGUiOiAiZXZlbm9kZCIsCiAgImxpbmVDYXAiOiAicm91bmQiLAogICJsaW5lSm9pbiI6ICJyb3VuZCIsCiAgIm9wYWNpdHkiOiAxLjAsCiAgInJhZGl1cyI6IDUsCiAgInN0cm9rZSI6IHRydWUsCiAgIndlaWdodCI6IDMKfQogICAgICAgICAgICAgICAgKS5hZGRUbyhtYXBfOTg0MDJkNDJhNTY0NDQ2ODhmNzIxZjc0YjAyOGVjOGYpOwogICAgICAgICAgICAKICAgIAogICAgICAgICAgICB2YXIgcG9wdXBfOWJhZDI0OTFiNzgyNGVmMDg3YzQ5YWY5ZjczZmNkZjggPSBMLnBvcHVwKHttYXhXaWR0aDogJzMwMCd9KTsKCiAgICAgICAgICAgIAogICAgICAgICAgICAgICAgdmFyIGh0bWxfMTY5NDdkZTlkNTgxNDIzNTgwZGJmZDdiMWQ0MGEyNmUgPSAkKCc8ZGl2IGlkPSJodG1sXzE2OTQ3ZGU5ZDU4MTQyMzU4MGRiZmQ3YjFkNDBhMjZlIiBzdHlsZT0id2lkdGg6IDEwMC4wJTsgaGVpZ2h0OiAxMDAuMCU7Ij5EdWZmZXJpbiwgRG92ZXJjb3VydCBWaWxsYWdlIENsdXN0ZXIgMjwvZGl2PicpWzBdOwogICAgICAgICAgICAgICAgcG9wdXBfOWJhZDI0OTFiNzgyNGVmMDg3YzQ5YWY5ZjczZmNkZjguc2V0Q29udGVudChodG1sXzE2OTQ3ZGU5ZDU4MTQyMzU4MGRiZmQ3YjFkNDBhMjZlKTsKICAgICAgICAgICAgCgogICAgICAgICAgICBjaXJjbGVfbWFya2VyX2NlYmQ2YTA3OTg5NTRlOWRiNzJlM2Q5MzM3MjNlOWE5LmJpbmRQb3B1cChwb3B1cF85YmFkMjQ5MWI3ODI0ZWYwODdjNDlhZjlmNzNmY2RmOCk7CgogICAgICAgICAgICAKICAgICAgICAKICAgIAogICAgICAgICAgICB2YXIgY2lyY2xlX21hcmtlcl82MTViY2FjMDJlM2U0M2QwOWQzZmRkMjk5MjQwYjgyYSA9IEwuY2lyY2xlTWFya2VyKAogICAgICAgICAgICAgICAgWzQzLjY0MDgxNTcsLTc5LjM4MTc1MjI5OTk5OTk5XSwKICAgICAgICAgICAgICAgIHsKICAiYnViYmxpbmdNb3VzZUV2ZW50cyI6IHRydWUsCiAgImNvbG9yIjogIiMwMGI1ZWIiLAogICJkYXNoQXJyYXkiOiBudWxsLAogICJkYXNoT2Zmc2V0IjogbnVsbCwKICAiZmlsbCI6IHRydWUsCiAgImZpbGxDb2xvciI6ICIjMDBiNWViIiwKICAiZmlsbE9wYWNpdHkiOiAwLjcsCiAgImZpbGxSdWxlIjogImV2ZW5vZGQiLAogICJsaW5lQ2FwIjogInJvdW5kIiwKICAibGluZUpvaW4iOiAicm91bmQiLAogICJvcGFjaXR5IjogMS4wLAogICJyYWRpdXMiOiA1LAogICJzdHJva2UiOiB0cnVlLAogICJ3ZWlnaHQiOiAzCn0KICAgICAgICAgICAgICAgICkuYWRkVG8obWFwXzk4NDAyZDQyYTU2NDQ0Njg4ZjcyMWY3NGIwMjhlYzhmKTsKICAgICAgICAgICAgCiAgICAKICAgICAgICAgICAgdmFyIHBvcHVwXzhjNjgzMDQ2MGRmYTQ0YmVhMjFmYjc2MDkwMTg0M2ZmID0gTC5wb3B1cCh7bWF4V2lkdGg6ICczMDAnfSk7CgogICAgICAgICAgICAKICAgICAgICAgICAgICAgIHZhciBodG1sX2YzNmExNmJhMWFjNjQ0MjFiYWE5MWVmYzI3ZjMxMjBjID0gJCgnPGRpdiBpZD0iaHRtbF9mMzZhMTZiYTFhYzY0NDIxYmFhOTFlZmMyN2YzMTIwYyIgc3R5bGU9IndpZHRoOiAxMDAuMCU7IGhlaWdodDogMTAwLjAlOyI+SGFyYm91cmZyb250IEVhc3QsIFVuaW9uIFN0YXRpb24sIFRvcm9udG8gSXNsYW5kcyBDbHVzdGVyIDI8L2Rpdj4nKVswXTsKICAgICAgICAgICAgICAgIHBvcHVwXzhjNjgzMDQ2MGRmYTQ0YmVhMjFmYjc2MDkwMTg0M2ZmLnNldENvbnRlbnQoaHRtbF9mMzZhMTZiYTFhYzY0NDIxYmFhOTFlZmMyN2YzMTIwYyk7CiAgICAgICAgICAgIAoKICAgICAgICAgICAgY2lyY2xlX21hcmtlcl82MTViY2FjMDJlM2U0M2QwOWQzZmRkMjk5MjQwYjgyYS5iaW5kUG9wdXAocG9wdXBfOGM2ODMwNDYwZGZhNDRiZWEyMWZiNzYwOTAxODQzZmYpOwoKICAgICAgICAgICAgCiAgICAgICAgCiAgICAKICAgICAgICAgICAgdmFyIGNpcmNsZV9tYXJrZXJfN2JmMjliNGY4MDY1NDU1ZGFjOWEzMzI2NWIxODc4YTQgPSBMLmNpcmNsZU1hcmtlcigKICAgICAgICAgICAgICAgIFs0My42NDc5MjY3MDAwMDAwMDYsLTc5LjQxOTc0OTddLAogICAgICAgICAgICAgICAgewogICJidWJibGluZ01vdXNlRXZlbnRzIjogdHJ1ZSwKICAiY29sb3IiOiAiIzAwYjVlYiIsCiAgImRhc2hBcnJheSI6IG51bGwsCiAgImRhc2hPZmZzZXQiOiBudWxsLAogICJmaWxsIjogdHJ1ZSwKICAiZmlsbENvbG9yIjogIiMwMGI1ZWIiLAogICJmaWxsT3BhY2l0eSI6IDAuNywKICAiZmlsbFJ1bGUiOiAiZXZlbm9kZCIsCiAgImxpbmVDYXAiOiAicm91bmQiLAogICJsaW5lSm9pbiI6ICJyb3VuZCIsCiAgIm9wYWNpdHkiOiAxLjAsCiAgInJhZGl1cyI6IDUsCiAgInN0cm9rZSI6IHRydWUsCiAgIndlaWdodCI6IDMKfQogICAgICAgICAgICAgICAgKS5hZGRUbyhtYXBfOTg0MDJkNDJhNTY0NDQ2ODhmNzIxZjc0YjAyOGVjOGYpOwogICAgICAgICAgICAKICAgIAogICAgICAgICAgICB2YXIgcG9wdXBfYWIwOTRlOTU0MDE4NDUyMTgzZGM3ZTJmMzI5YzlmMjAgPSBMLnBvcHVwKHttYXhXaWR0aDogJzMwMCd9KTsKCiAgICAgICAgICAgIAogICAgICAgICAgICAgICAgdmFyIGh0bWxfNDY2OGY3YWVhYjE5NDEyNGFmZWNjMjFhMzljMWZlODMgPSAkKCc8ZGl2IGlkPSJodG1sXzQ2NjhmN2FlYWIxOTQxMjRhZmVjYzIxYTM5YzFmZTgzIiBzdHlsZT0id2lkdGg6IDEwMC4wJTsgaGVpZ2h0OiAxMDAuMCU7Ij5MaXR0bGUgUG9ydHVnYWwsIFRyaW5pdHkgQ2x1c3RlciAyPC9kaXY+JylbMF07CiAgICAgICAgICAgICAgICBwb3B1cF9hYjA5NGU5NTQwMTg0NTIxODNkYzdlMmYzMjljOWYyMC5zZXRDb250ZW50KGh0bWxfNDY2OGY3YWVhYjE5NDEyNGFmZWNjMjFhMzljMWZlODMpOwogICAgICAgICAgICAKCiAgICAgICAgICAgIGNpcmNsZV9tYXJrZXJfN2JmMjliNGY4MDY1NDU1ZGFjOWEzMzI2NWIxODc4YTQuYmluZFBvcHVwKHBvcHVwX2FiMDk0ZTk1NDAxODQ1MjE4M2RjN2UyZjMyOWM5ZjIwKTsKCiAgICAgICAgICAgIAogICAgICAgIAogICAgCiAgICAgICAgICAgIHZhciBjaXJjbGVfbWFya2VyXzUzMTg2MTU3MDczODQwMDJiY2JjMzIzZDE5N2FkNThmID0gTC5jaXJjbGVNYXJrZXIoCiAgICAgICAgICAgICAgICBbNDMuNjc5NTU3MSwtNzkuMzUyMTg4XSwKICAgICAgICAgICAgICAgIHsKICAiYnViYmxpbmdNb3VzZUV2ZW50cyI6IHRydWUsCiAgImNvbG9yIjogIiMwMGI1ZWIiLAogICJkYXNoQXJyYXkiOiBudWxsLAogICJkYXNoT2Zmc2V0IjogbnVsbCwKICAiZmlsbCI6IHRydWUsCiAgImZpbGxDb2xvciI6ICIjMDBiNWViIiwKICAiZmlsbE9wYWNpdHkiOiAwLjcsCiAgImZpbGxSdWxlIjogImV2ZW5vZGQiLAogICJsaW5lQ2FwIjogInJvdW5kIiwKICAibGluZUpvaW4iOiAicm91bmQiLAogICJvcGFjaXR5IjogMS4wLAogICJyYWRpdXMiOiA1LAogICJzdHJva2UiOiB0cnVlLAogICJ3ZWlnaHQiOiAzCn0KICAgICAgICAgICAgICAgICkuYWRkVG8obWFwXzk4NDAyZDQyYTU2NDQ0Njg4ZjcyMWY3NGIwMjhlYzhmKTsKICAgICAgICAgICAgCiAgICAKICAgICAgICAgICAgdmFyIHBvcHVwXzg3YmIxNTJhOWVhZDQ5N2M4ZjlmNmE4NTY0MjE5MjAzID0gTC5wb3B1cCh7bWF4V2lkdGg6ICczMDAnfSk7CgogICAgICAgICAgICAKICAgICAgICAgICAgICAgIHZhciBodG1sXzQ1YmMxZjY0N2ZiZDQ1Y2RhMDI0NjNiY2Q0ZDg5YzA0ID0gJCgnPGRpdiBpZD0iaHRtbF80NWJjMWY2NDdmYmQ0NWNkYTAyNDYzYmNkNGQ4OWMwNCIgc3R5bGU9IndpZHRoOiAxMDAuMCU7IGhlaWdodDogMTAwLjAlOyI+VGhlIERhbmZvcnRoIFdlc3QsIFJpdmVyZGFsZSBDbHVzdGVyIDI8L2Rpdj4nKVswXTsKICAgICAgICAgICAgICAgIHBvcHVwXzg3YmIxNTJhOWVhZDQ5N2M4ZjlmNmE4NTY0MjE5MjAzLnNldENvbnRlbnQoaHRtbF80NWJjMWY2NDdmYmQ0NWNkYTAyNDYzYmNkNGQ4OWMwNCk7CiAgICAgICAgICAgIAoKICAgICAgICAgICAgY2lyY2xlX21hcmtlcl81MzE4NjE1NzA3Mzg0MDAyYmNiYzMyM2QxOTdhZDU4Zi5iaW5kUG9wdXAocG9wdXBfODdiYjE1MmE5ZWFkNDk3YzhmOWY2YTg1NjQyMTkyMDMpOwoKICAgICAgICAgICAgCiAgICAgICAgCiAgICAKICAgICAgICAgICAgdmFyIGNpcmNsZV9tYXJrZXJfNmRmNWIzYTJkNmFkNDJiMWE0MGY2YzBiNDczMDAzOWQgPSBMLmNpcmNsZU1hcmtlcigKICAgICAgICAgICAgICAgIFs0My42NDcxNzY4LC03OS4zODE1NzY0MDAwMDAwMV0sCiAgICAgICAgICAgICAgICB7CiAgImJ1YmJsaW5nTW91c2VFdmVudHMiOiB0cnVlLAogICJjb2xvciI6ICIjMDBiNWViIiwKICAiZGFzaEFycmF5IjogbnVsbCwKICAiZGFzaE9mZnNldCI6IG51bGwsCiAgImZpbGwiOiB0cnVlLAogICJmaWxsQ29sb3IiOiAiIzAwYjVlYiIsCiAgImZpbGxPcGFjaXR5IjogMC43LAogICJmaWxsUnVsZSI6ICJldmVub2RkIiwKICAibGluZUNhcCI6ICJyb3VuZCIsCiAgImxpbmVKb2luIjogInJvdW5kIiwKICAib3BhY2l0eSI6IDEuMCwKICAicmFkaXVzIjogNSwKICAic3Ryb2tlIjogdHJ1ZSwKICAid2VpZ2h0IjogMwp9CiAgICAgICAgICAgICAgICApLmFkZFRvKG1hcF85ODQwMmQ0MmE1NjQ0NDY4OGY3MjFmNzRiMDI4ZWM4Zik7CiAgICAgICAgICAgIAogICAgCiAgICAgICAgICAgIHZhciBwb3B1cF84OWFiYWE0M2NmYWE0YWFhOTFlMmQzNTQ4NzAzOWY4MSA9IEwucG9wdXAoe21heFdpZHRoOiAnMzAwJ30pOwoKICAgICAgICAgICAgCiAgICAgICAgICAgICAgICB2YXIgaHRtbF82NmExYjgxMjY3NzQ0ODYxYTE3YTM0ZmQ4NjRiZTU5MSA9ICQoJzxkaXYgaWQ9Imh0bWxfNjZhMWI4MTI2Nzc0NDg2MWExN2EzNGZkODY0YmU1OTEiIHN0eWxlPSJ3aWR0aDogMTAwLjAlOyBoZWlnaHQ6IDEwMC4wJTsiPlRvcm9udG8gRG9taW5pb24gQ2VudHJlLCBEZXNpZ24gRXhjaGFuZ2UgQ2x1c3RlciAyPC9kaXY+JylbMF07CiAgICAgICAgICAgICAgICBwb3B1cF84OWFiYWE0M2NmYWE0YWFhOTFlMmQzNTQ4NzAzOWY4MS5zZXRDb250ZW50KGh0bWxfNjZhMWI4MTI2Nzc0NDg2MWExN2EzNGZkODY0YmU1OTEpOwogICAgICAgICAgICAKCiAgICAgICAgICAgIGNpcmNsZV9tYXJrZXJfNmRmNWIzYTJkNmFkNDJiMWE0MGY2YzBiNDczMDAzOWQuYmluZFBvcHVwKHBvcHVwXzg5YWJhYTQzY2ZhYTRhYWE5MWUyZDM1NDg3MDM5ZjgxKTsKCiAgICAgICAgICAgIAogICAgICAgIAogICAgCiAgICAgICAgICAgIHZhciBjaXJjbGVfbWFya2VyX2FhM2E4NmU2NmU3NjRmNTU5MTA0YWIzMDgzNTJjZDVkID0gTC5jaXJjbGVNYXJrZXIoCiAgICAgICAgICAgICAgICBbNDMuNjM2ODQ3MiwtNzkuNDI4MTkxNDAwMDAwMDJdLAogICAgICAgICAgICAgICAgewogICJidWJibGluZ01vdXNlRXZlbnRzIjogdHJ1ZSwKICAiY29sb3IiOiAiIzAwYjVlYiIsCiAgImRhc2hBcnJheSI6IG51bGwsCiAgImRhc2hPZmZzZXQiOiBudWxsLAogICJmaWxsIjogdHJ1ZSwKICAiZmlsbENvbG9yIjogIiMwMGI1ZWIiLAogICJmaWxsT3BhY2l0eSI6IDAuNywKICAiZmlsbFJ1bGUiOiAiZXZlbm9kZCIsCiAgImxpbmVDYXAiOiAicm91bmQiLAogICJsaW5lSm9pbiI6ICJyb3VuZCIsCiAgIm9wYWNpdHkiOiAxLjAsCiAgInJhZGl1cyI6IDUsCiAgInN0cm9rZSI6IHRydWUsCiAgIndlaWdodCI6IDMKfQogICAgICAgICAgICAgICAgKS5hZGRUbyhtYXBfOTg0MDJkNDJhNTY0NDQ2ODhmNzIxZjc0YjAyOGVjOGYpOwogICAgICAgICAgICAKICAgIAogICAgICAgICAgICB2YXIgcG9wdXBfYThiMTc0OGNlY2JmNDViNTg4ZmZhY2NmYjEwZGM3OTAgPSBMLnBvcHVwKHttYXhXaWR0aDogJzMwMCd9KTsKCiAgICAgICAgICAgIAogICAgICAgICAgICAgICAgdmFyIGh0bWxfZDJkZjkxMmZkMDRjNDRlM2I0NjgzMmFiYmNhOWMyMWIgPSAkKCc8ZGl2IGlkPSJodG1sX2QyZGY5MTJmZDA0YzQ0ZTNiNDY4MzJhYmJjYTljMjFiIiBzdHlsZT0id2lkdGg6IDEwMC4wJTsgaGVpZ2h0OiAxMDAuMCU7Ij5Ccm9ja3RvbiwgUGFya2RhbGUgVmlsbGFnZSwgRXhoaWJpdGlvbiBQbGFjZSBDbHVzdGVyIDI8L2Rpdj4nKVswXTsKICAgICAgICAgICAgICAgIHBvcHVwX2E4YjE3NDhjZWNiZjQ1YjU4OGZmYWNjZmIxMGRjNzkwLnNldENvbnRlbnQoaHRtbF9kMmRmOTEyZmQwNGM0NGUzYjQ2ODMyYWJiY2E5YzIxYik7CiAgICAgICAgICAgIAoKICAgICAgICAgICAgY2lyY2xlX21hcmtlcl9hYTNhODZlNjZlNzY0ZjU1OTEwNGFiMzA4MzUyY2Q1ZC5iaW5kUG9wdXAocG9wdXBfYThiMTc0OGNlY2JmNDViNTg4ZmZhY2NmYjEwZGM3OTApOwoKICAgICAgICAgICAgCiAgICAgICAgCiAgICAKICAgICAgICAgICAgdmFyIGNpcmNsZV9tYXJrZXJfNDYxOTUwMWI1YzAxNDg4NTk0NWY5NTM3YTEwNGQwMGUgPSBMLmNpcmNsZU1hcmtlcigKICAgICAgICAgICAgICAgIFs0My42Njg5OTg1LC03OS4zMTU1NzE1OTk5OTk5OF0sCiAgICAgICAgICAgICAgICB7CiAgImJ1YmJsaW5nTW91c2VFdmVudHMiOiB0cnVlLAogICJjb2xvciI6ICIjMDBiNWViIiwKICAiZGFzaEFycmF5IjogbnVsbCwKICAiZGFzaE9mZnNldCI6IG51bGwsCiAgImZpbGwiOiB0cnVlLAogICJmaWxsQ29sb3IiOiAiIzAwYjVlYiIsCiAgImZpbGxPcGFjaXR5IjogMC43LAogICJmaWxsUnVsZSI6ICJldmVub2RkIiwKICAibGluZUNhcCI6ICJyb3VuZCIsCiAgImxpbmVKb2luIjogInJvdW5kIiwKICAib3BhY2l0eSI6IDEuMCwKICAicmFkaXVzIjogNSwKICAic3Ryb2tlIjogdHJ1ZSwKICAid2VpZ2h0IjogMwp9CiAgICAgICAgICAgICAgICApLmFkZFRvKG1hcF85ODQwMmQ0MmE1NjQ0NDY4OGY3MjFmNzRiMDI4ZWM4Zik7CiAgICAgICAgICAgIAogICAgCiAgICAgICAgICAgIHZhciBwb3B1cF81ZjllODMxNTEwYTI0ZjhlOWI0Y2QyZGQzZTgxMmZlNyA9IEwucG9wdXAoe21heFdpZHRoOiAnMzAwJ30pOwoKICAgICAgICAgICAgCiAgICAgICAgICAgICAgICB2YXIgaHRtbF80NjJiNGY4MmE2ZWM0ZGMwYTA4OTA4ZDkyZDc1MzdiMSA9ICQoJzxkaXYgaWQ9Imh0bWxfNDYyYjRmODJhNmVjNGRjMGEwODkwOGQ5MmQ3NTM3YjEiIHN0eWxlPSJ3aWR0aDogMTAwLjAlOyBoZWlnaHQ6IDEwMC4wJTsiPkluZGlhIEJhemFhciwgVGhlIEJlYWNoZXMgV2VzdCBDbHVzdGVyIDI8L2Rpdj4nKVswXTsKICAgICAgICAgICAgICAgIHBvcHVwXzVmOWU4MzE1MTBhMjRmOGU5YjRjZDJkZDNlODEyZmU3LnNldENvbnRlbnQoaHRtbF80NjJiNGY4MmE2ZWM0ZGMwYTA4OTA4ZDkyZDc1MzdiMSk7CiAgICAgICAgICAgIAoKICAgICAgICAgICAgY2lyY2xlX21hcmtlcl80NjE5NTAxYjVjMDE0ODg1OTQ1Zjk1MzdhMTA0ZDAwZS5iaW5kUG9wdXAocG9wdXBfNWY5ZTgzMTUxMGEyNGY4ZTliNGNkMmRkM2U4MTJmZTcpOwoKICAgICAgICAgICAgCiAgICAgICAgCiAgICAKICAgICAgICAgICAgdmFyIGNpcmNsZV9tYXJrZXJfODllZGY2ZjYxYTJjNGM3MGFmMjc2NjE0ODA5MWU5YzQgPSBMLmNpcmNsZU1hcmtlcigKICAgICAgICAgICAgICAgIFs0My42NDgxOTg1LC03OS4zNzk4MTY5MDAwMDAwMV0sCiAgICAgICAgICAgICAgICB7CiAgImJ1YmJsaW5nTW91c2VFdmVudHMiOiB0cnVlLAogICJjb2xvciI6ICIjMDBiNWViIiwKICAiZGFzaEFycmF5IjogbnVsbCwKICAiZGFzaE9mZnNldCI6IG51bGwsCiAgImZpbGwiOiB0cnVlLAogICJmaWxsQ29sb3IiOiAiIzAwYjVlYiIsCiAgImZpbGxPcGFjaXR5IjogMC43LAogICJmaWxsUnVsZSI6ICJldmVub2RkIiwKICAibGluZUNhcCI6ICJyb3VuZCIsCiAgImxpbmVKb2luIjogInJvdW5kIiwKICAib3BhY2l0eSI6IDEuMCwKICAicmFkaXVzIjogNSwKICAic3Ryb2tlIjogdHJ1ZSwKICAid2VpZ2h0IjogMwp9CiAgICAgICAgICAgICAgICApLmFkZFRvKG1hcF85ODQwMmQ0MmE1NjQ0NDY4OGY3MjFmNzRiMDI4ZWM4Zik7CiAgICAgICAgICAgIAogICAgCiAgICAgICAgICAgIHZhciBwb3B1cF8wMDEwZDUyMTUxZmQ0MWE3YjQ3MTNiOTYxZDE1Y2I2YSA9IEwucG9wdXAoe21heFdpZHRoOiAnMzAwJ30pOwoKICAgICAgICAgICAgCiAgICAgICAgICAgICAgICB2YXIgaHRtbF8zMzgwZGEzMzZlZmI0ZTk2OTkxMjgzOGE5Y2IxYjNmYSA9ICQoJzxkaXYgaWQ9Imh0bWxfMzM4MGRhMzM2ZWZiNGU5Njk5MTI4MzhhOWNiMWIzZmEiIHN0eWxlPSJ3aWR0aDogMTAwLjAlOyBoZWlnaHQ6IDEwMC4wJTsiPkNvbW1lcmNlIENvdXJ0LCBWaWN0b3JpYSBIb3RlbCBDbHVzdGVyIDI8L2Rpdj4nKVswXTsKICAgICAgICAgICAgICAgIHBvcHVwXzAwMTBkNTIxNTFmZDQxYTdiNDcxM2I5NjFkMTVjYjZhLnNldENvbnRlbnQoaHRtbF8zMzgwZGEzMzZlZmI0ZTk2OTkxMjgzOGE5Y2IxYjNmYSk7CiAgICAgICAgICAgIAoKICAgICAgICAgICAgY2lyY2xlX21hcmtlcl84OWVkZjZmNjFhMmM0YzcwYWYyNzY2MTQ4MDkxZTljNC5iaW5kUG9wdXAocG9wdXBfMDAxMGQ1MjE1MWZkNDFhN2I0NzEzYjk2MWQxNWNiNmEpOwoKICAgICAgICAgICAgCiAgICAgICAgCiAgICAKICAgICAgICAgICAgdmFyIGNpcmNsZV9tYXJrZXJfYjAzYTc2OWNjN2VkNGIwYmFmZmUyMzZhMTNmYzcyY2MgPSBMLmNpcmNsZU1hcmtlcigKICAgICAgICAgICAgICAgIFs0My42NTk1MjU1LC03OS4zNDA5MjNdLAogICAgICAgICAgICAgICAgewogICJidWJibGluZ01vdXNlRXZlbnRzIjogdHJ1ZSwKICAiY29sb3IiOiAiIzAwYjVlYiIsCiAgImRhc2hBcnJheSI6IG51bGwsCiAgImRhc2hPZmZzZXQiOiBudWxsLAogICJmaWxsIjogdHJ1ZSwKICAiZmlsbENvbG9yIjogIiMwMGI1ZWIiLAogICJmaWxsT3BhY2l0eSI6IDAuNywKICAiZmlsbFJ1bGUiOiAiZXZlbm9kZCIsCiAgImxpbmVDYXAiOiAicm91bmQiLAogICJsaW5lSm9pbiI6ICJyb3VuZCIsCiAgIm9wYWNpdHkiOiAxLjAsCiAgInJhZGl1cyI6IDUsCiAgInN0cm9rZSI6IHRydWUsCiAgIndlaWdodCI6IDMKfQogICAgICAgICAgICAgICAgKS5hZGRUbyhtYXBfOTg0MDJkNDJhNTY0NDQ2ODhmNzIxZjc0YjAyOGVjOGYpOwogICAgICAgICAgICAKICAgIAogICAgICAgICAgICB2YXIgcG9wdXBfOTI3NzU0ZWNkNGViNDAwM2JmMWU0MGM5ZWJkNTdlNWUgPSBMLnBvcHVwKHttYXhXaWR0aDogJzMwMCd9KTsKCiAgICAgICAgICAgIAogICAgICAgICAgICAgICAgdmFyIGh0bWxfZjFlMGQwODg3NzQzNDIxOGEwODU1Y2Q0NzEzZjY1MmUgPSAkKCc8ZGl2IGlkPSJodG1sX2YxZTBkMDg4Nzc0MzQyMThhMDg1NWNkNDcxM2Y2NTJlIiBzdHlsZT0id2lkdGg6IDEwMC4wJTsgaGVpZ2h0OiAxMDAuMCU7Ij5TdHVkaW8gRGlzdHJpY3QgQ2x1c3RlciAyPC9kaXY+JylbMF07CiAgICAgICAgICAgICAgICBwb3B1cF85Mjc3NTRlY2Q0ZWI0MDAzYmYxZTQwYzllYmQ1N2U1ZS5zZXRDb250ZW50KGh0bWxfZjFlMGQwODg3NzQzNDIxOGEwODU1Y2Q0NzEzZjY1MmUpOwogICAgICAgICAgICAKCiAgICAgICAgICAgIGNpcmNsZV9tYXJrZXJfYjAzYTc2OWNjN2VkNGIwYmFmZmUyMzZhMTNmYzcyY2MuYmluZFBvcHVwKHBvcHVwXzkyNzc1NGVjZDRlYjQwMDNiZjFlNDBjOWViZDU3ZTVlKTsKCiAgICAgICAgICAgIAogICAgICAgIAogICAgCiAgICAgICAgICAgIHZhciBjaXJjbGVfbWFya2VyXzMwZDVjYWU2YTQyMjRjZjdhYzdlOGI0Y2QyMDJmYjExID0gTC5jaXJjbGVNYXJrZXIoCiAgICAgICAgICAgICAgICBbNDMuNzI4MDIwNSwtNzkuMzg4NzkwMV0sCiAgICAgICAgICAgICAgICB7CiAgImJ1YmJsaW5nTW91c2VFdmVudHMiOiB0cnVlLAogICJjb2xvciI6ICIjZmYwMDAwIiwKICAiZGFzaEFycmF5IjogbnVsbCwKICAiZGFzaE9mZnNldCI6IG51bGwsCiAgImZpbGwiOiB0cnVlLAogICJmaWxsQ29sb3IiOiAiI2ZmMDAwMCIsCiAgImZpbGxPcGFjaXR5IjogMC43LAogICJmaWxsUnVsZSI6ICJldmVub2RkIiwKICAibGluZUNhcCI6ICJyb3VuZCIsCiAgImxpbmVKb2luIjogInJvdW5kIiwKICAib3BhY2l0eSI6IDEuMCwKICAicmFkaXVzIjogNSwKICAic3Ryb2tlIjogdHJ1ZSwKICAid2VpZ2h0IjogMwp9CiAgICAgICAgICAgICAgICApLmFkZFRvKG1hcF85ODQwMmQ0MmE1NjQ0NDY4OGY3MjFmNzRiMDI4ZWM4Zik7CiAgICAgICAgICAgIAogICAgCiAgICAgICAgICAgIHZhciBwb3B1cF83Njk5ZTYzMzJkZjU0NmZhYTNhYjhiMzkzNjU2NTIzYyA9IEwucG9wdXAoe21heFdpZHRoOiAnMzAwJ30pOwoKICAgICAgICAgICAgCiAgICAgICAgICAgICAgICB2YXIgaHRtbF80NWZjZjRkNTNmNmM0NjU2OGE3MGM1NGQ4M2Q0YjEzMCA9ICQoJzxkaXYgaWQ9Imh0bWxfNDVmY2Y0ZDUzZjZjNDY1NjhhNzBjNTRkODNkNGIxMzAiIHN0eWxlPSJ3aWR0aDogMTAwLjAlOyBoZWlnaHQ6IDEwMC4wJTsiPkxhd3JlbmNlIFBhcmsgQ2x1c3RlciAwPC9kaXY+JylbMF07CiAgICAgICAgICAgICAgICBwb3B1cF83Njk5ZTYzMzJkZjU0NmZhYTNhYjhiMzkzNjU2NTIzYy5zZXRDb250ZW50KGh0bWxfNDVmY2Y0ZDUzZjZjNDY1NjhhNzBjNTRkODNkNGIxMzApOwogICAgICAgICAgICAKCiAgICAgICAgICAgIGNpcmNsZV9tYXJrZXJfMzBkNWNhZTZhNDIyNGNmN2FjN2U4YjRjZDIwMmZiMTEuYmluZFBvcHVwKHBvcHVwXzc2OTllNjMzMmRmNTQ2ZmFhM2FiOGIzOTM2NTY1MjNjKTsKCiAgICAgICAgICAgIAogICAgICAgIAogICAgCiAgICAgICAgICAgIHZhciBjaXJjbGVfbWFya2VyXzY3OGZlY2JhODQ2ZTQ0ZjI5MDllMjhhN2U0YmM5ODFlID0gTC5jaXJjbGVNYXJrZXIoCiAgICAgICAgICAgICAgICBbNDMuNzExNjk0OCwtNzkuNDE2OTM1NTk5OTk5OTldLAogICAgICAgICAgICAgICAgewogICJidWJibGluZ01vdXNlRXZlbnRzIjogdHJ1ZSwKICAiY29sb3IiOiAiI2ZmYjM2MCIsCiAgImRhc2hBcnJheSI6IG51bGwsCiAgImRhc2hPZmZzZXQiOiBudWxsLAogICJmaWxsIjogdHJ1ZSwKICAiZmlsbENvbG9yIjogIiNmZmIzNjAiLAogICJmaWxsT3BhY2l0eSI6IDAuNywKICAiZmlsbFJ1bGUiOiAiZXZlbm9kZCIsCiAgImxpbmVDYXAiOiAicm91bmQiLAogICJsaW5lSm9pbiI6ICJyb3VuZCIsCiAgIm9wYWNpdHkiOiAxLjAsCiAgInJhZGl1cyI6IDUsCiAgInN0cm9rZSI6IHRydWUsCiAgIndlaWdodCI6IDMKfQogICAgICAgICAgICAgICAgKS5hZGRUbyhtYXBfOTg0MDJkNDJhNTY0NDQ2ODhmNzIxZjc0YjAyOGVjOGYpOwogICAgICAgICAgICAKICAgIAogICAgICAgICAgICB2YXIgcG9wdXBfZWQ5NTk1MDg0MTZjNGZkN2E0NDQ0MTY5NjQyZDMwYmQgPSBMLnBvcHVwKHttYXhXaWR0aDogJzMwMCd9KTsKCiAgICAgICAgICAgIAogICAgICAgICAgICAgICAgdmFyIGh0bWxfMzQxMzFiMGFmYjdjNGYxMGFhNGM0OGZhYmU2MTg2MzAgPSAkKCc8ZGl2IGlkPSJodG1sXzM0MTMxYjBhZmI3YzRmMTBhYTRjNDhmYWJlNjE4NjMwIiBzdHlsZT0id2lkdGg6IDEwMC4wJTsgaGVpZ2h0OiAxMDAuMCU7Ij5Sb3NlbGF3biBDbHVzdGVyIDQ8L2Rpdj4nKVswXTsKICAgICAgICAgICAgICAgIHBvcHVwX2VkOTU5NTA4NDE2YzRmZDdhNDQ0NDE2OTY0MmQzMGJkLnNldENvbnRlbnQoaHRtbF8zNDEzMWIwYWZiN2M0ZjEwYWE0YzQ4ZmFiZTYxODYzMCk7CiAgICAgICAgICAgIAoKICAgICAgICAgICAgY2lyY2xlX21hcmtlcl82NzhmZWNiYTg0NmU0NGYyOTA5ZTI4YTdlNGJjOTgxZS5iaW5kUG9wdXAocG9wdXBfZWQ5NTk1MDg0MTZjNGZkN2E0NDQ0MTY5NjQyZDMwYmQpOwoKICAgICAgICAgICAgCiAgICAgICAgCiAgICAKICAgICAgICAgICAgdmFyIGNpcmNsZV9tYXJrZXJfMTcwYTUwNjRmMDk2NDAyZGIyNGUyOTBiNzRiNDdmNDggPSBMLmNpcmNsZU1hcmtlcigKICAgICAgICAgICAgICAgIFs0My43MTI3NTExLC03OS4zOTAxOTc1XSwKICAgICAgICAgICAgICAgIHsKICAiYnViYmxpbmdNb3VzZUV2ZW50cyI6IHRydWUsCiAgImNvbG9yIjogIiMwMGI1ZWIiLAogICJkYXNoQXJyYXkiOiBudWxsLAogICJkYXNoT2Zmc2V0IjogbnVsbCwKICAiZmlsbCI6IHRydWUsCiAgImZpbGxDb2xvciI6ICIjMDBiNWViIiwKICAiZmlsbE9wYWNpdHkiOiAwLjcsCiAgImZpbGxSdWxlIjogImV2ZW5vZGQiLAogICJsaW5lQ2FwIjogInJvdW5kIiwKICAibGluZUpvaW4iOiAicm91bmQiLAogICJvcGFjaXR5IjogMS4wLAogICJyYWRpdXMiOiA1LAogICJzdHJva2UiOiB0cnVlLAogICJ3ZWlnaHQiOiAzCn0KICAgICAgICAgICAgICAgICkuYWRkVG8obWFwXzk4NDAyZDQyYTU2NDQ0Njg4ZjcyMWY3NGIwMjhlYzhmKTsKICAgICAgICAgICAgCiAgICAKICAgICAgICAgICAgdmFyIHBvcHVwXzljMzAyMDNhMTg1ZDQxZTA4OGFkMDhlYmEyNGU3NzUxID0gTC5wb3B1cCh7bWF4V2lkdGg6ICczMDAnfSk7CgogICAgICAgICAgICAKICAgICAgICAgICAgICAgIHZhciBodG1sXzZkNDM2MGYyZTZlMzQxMzZhODJkMDMwYmNkOTAzNWI2ID0gJCgnPGRpdiBpZD0iaHRtbF82ZDQzNjBmMmU2ZTM0MTM2YTgyZDAzMGJjZDkwMzViNiIgc3R5bGU9IndpZHRoOiAxMDAuMCU7IGhlaWdodDogMTAwLjAlOyI+RGF2aXN2aWxsZSBOb3J0aCBDbHVzdGVyIDI8L2Rpdj4nKVswXTsKICAgICAgICAgICAgICAgIHBvcHVwXzljMzAyMDNhMTg1ZDQxZTA4OGFkMDhlYmEyNGU3NzUxLnNldENvbnRlbnQoaHRtbF82ZDQzNjBmMmU2ZTM0MTM2YTgyZDAzMGJjZDkwMzViNik7CiAgICAgICAgICAgIAoKICAgICAgICAgICAgY2lyY2xlX21hcmtlcl8xNzBhNTA2NGYwOTY0MDJkYjI0ZTI5MGI3NGI0N2Y0OC5iaW5kUG9wdXAocG9wdXBfOWMzMDIwM2ExODVkNDFlMDg4YWQwOGViYTI0ZTc3NTEpOwoKICAgICAgICAgICAgCiAgICAgICAgCiAgICAKICAgICAgICAgICAgdmFyIGNpcmNsZV9tYXJrZXJfYzdiMzdlOTM2MTA4NGQxMTg2NWExMWMzNjc1MTBjYjAgPSBMLmNpcmNsZU1hcmtlcigKICAgICAgICAgICAgICAgIFs0My42OTY5NDc2LC03OS40MTEzMDcyMDAwMDAwMV0sCiAgICAgICAgICAgICAgICB7CiAgImJ1YmJsaW5nTW91c2VFdmVudHMiOiB0cnVlLAogICJjb2xvciI6ICIjZmYwMDAwIiwKICAiZGFzaEFycmF5IjogbnVsbCwKICAiZGFzaE9mZnNldCI6IG51bGwsCiAgImZpbGwiOiB0cnVlLAogICJmaWxsQ29sb3IiOiAiI2ZmMDAwMCIsCiAgImZpbGxPcGFjaXR5IjogMC43LAogICJmaWxsUnVsZSI6ICJldmVub2RkIiwKICAibGluZUNhcCI6ICJyb3VuZCIsCiAgImxpbmVKb2luIjogInJvdW5kIiwKICAib3BhY2l0eSI6IDEuMCwKICAicmFkaXVzIjogNSwKICAic3Ryb2tlIjogdHJ1ZSwKICAid2VpZ2h0IjogMwp9CiAgICAgICAgICAgICAgICApLmFkZFRvKG1hcF85ODQwMmQ0MmE1NjQ0NDY4OGY3MjFmNzRiMDI4ZWM4Zik7CiAgICAgICAgICAgIAogICAgCiAgICAgICAgICAgIHZhciBwb3B1cF8wMTk1OWU0ZDljYzk0ZjUwYjQ0MGMxMGY5OTQxM2ViNSA9IEwucG9wdXAoe21heFdpZHRoOiAnMzAwJ30pOwoKICAgICAgICAgICAgCiAgICAgICAgICAgICAgICB2YXIgaHRtbF9mMTVmZmZkOTZiZmU0NDlmODY1ZTk4MzQ2NmMwODM3ZiA9ICQoJzxkaXYgaWQ9Imh0bWxfZjE1ZmZmZDk2YmZlNDQ5Zjg2NWU5ODM0NjZjMDgzN2YiIHN0eWxlPSJ3aWR0aDogMTAwLjAlOyBoZWlnaHQ6IDEwMC4wJTsiPkZvcmVzdCBIaWxsIE5vcnRoICZhbXA7IFdlc3QsIEZvcmVzdCBIaWxsIFJvYWQgUGFyayBDbHVzdGVyIDA8L2Rpdj4nKVswXTsKICAgICAgICAgICAgICAgIHBvcHVwXzAxOTU5ZTRkOWNjOTRmNTBiNDQwYzEwZjk5NDEzZWI1LnNldENvbnRlbnQoaHRtbF9mMTVmZmZkOTZiZmU0NDlmODY1ZTk4MzQ2NmMwODM3Zik7CiAgICAgICAgICAgIAoKICAgICAgICAgICAgY2lyY2xlX21hcmtlcl9jN2IzN2U5MzYxMDg0ZDExODY1YTExYzM2NzUxMGNiMC5iaW5kUG9wdXAocG9wdXBfMDE5NTllNGQ5Y2M5NGY1MGI0NDBjMTBmOTk0MTNlYjUpOwoKICAgICAgICAgICAgCiAgICAgICAgCiAgICAKICAgICAgICAgICAgdmFyIGNpcmNsZV9tYXJrZXJfODU4ZTljZjY0MWI4NGFmYWIxNjA5YWUyMDliN2VhNjYgPSBMLmNpcmNsZU1hcmtlcigKICAgICAgICAgICAgICAgIFs0My42NjE2MDgzLC03OS40NjQ3NjMyOTk5OTk5OV0sCiAgICAgICAgICAgICAgICB7CiAgImJ1YmJsaW5nTW91c2VFdmVudHMiOiB0cnVlLAogICJjb2xvciI6ICIjMDBiNWViIiwKICAiZGFzaEFycmF5IjogbnVsbCwKICAiZGFzaE9mZnNldCI6IG51bGwsCiAgImZpbGwiOiB0cnVlLAogICJmaWxsQ29sb3IiOiAiIzAwYjVlYiIsCiAgImZpbGxPcGFjaXR5IjogMC43LAogICJmaWxsUnVsZSI6ICJldmVub2RkIiwKICAibGluZUNhcCI6ICJyb3VuZCIsCiAgImxpbmVKb2luIjogInJvdW5kIiwKICAib3BhY2l0eSI6IDEuMCwKICAicmFkaXVzIjogNSwKICAic3Ryb2tlIjogdHJ1ZSwKICAid2VpZ2h0IjogMwp9CiAgICAgICAgICAgICAgICApLmFkZFRvKG1hcF85ODQwMmQ0MmE1NjQ0NDY4OGY3MjFmNzRiMDI4ZWM4Zik7CiAgICAgICAgICAgIAogICAgCiAgICAgICAgICAgIHZhciBwb3B1cF81N2YyMDc4ODQ5Zjg0NGM0YTliMzU2YmM1OTE3YTRkYiA9IEwucG9wdXAoe21heFdpZHRoOiAnMzAwJ30pOwoKICAgICAgICAgICAgCiAgICAgICAgICAgICAgICB2YXIgaHRtbF80Y2Q5MzQ5Y2NiMjM0NDk5YjYzNTE1ZTMyNWRhMmM0MyA9ICQoJzxkaXYgaWQ9Imh0bWxfNGNkOTM0OWNjYjIzNDQ5OWI2MzUxNWUzMjVkYTJjNDMiIHN0eWxlPSJ3aWR0aDogMTAwLjAlOyBoZWlnaHQ6IDEwMC4wJTsiPkhpZ2ggUGFyaywgVGhlIEp1bmN0aW9uIFNvdXRoIENsdXN0ZXIgMjwvZGl2PicpWzBdOwogICAgICAgICAgICAgICAgcG9wdXBfNTdmMjA3ODg0OWY4NDRjNGE5YjM1NmJjNTkxN2E0ZGIuc2V0Q29udGVudChodG1sXzRjZDkzNDljY2IyMzQ0OTliNjM1MTVlMzI1ZGEyYzQzKTsKICAgICAgICAgICAgCgogICAgICAgICAgICBjaXJjbGVfbWFya2VyXzg1OGU5Y2Y2NDFiODRhZmFiMTYwOWFlMjA5YjdlYTY2LmJpbmRQb3B1cChwb3B1cF81N2YyMDc4ODQ5Zjg0NGM0YTliMzU2YmM1OTE3YTRkYik7CgogICAgICAgICAgICAKICAgICAgICAKICAgIAogICAgICAgICAgICB2YXIgY2lyY2xlX21hcmtlcl84MjQ2MzFmNGZiNjY0YTYyYmNjYjBlYmM1NWI4MTAzMSA9IEwuY2lyY2xlTWFya2VyKAogICAgICAgICAgICAgICAgWzQzLjcxNTM4MzQsLTc5LjQwNTY3ODQwMDAwMDAxXSwKICAgICAgICAgICAgICAgIHsKICAiYnViYmxpbmdNb3VzZUV2ZW50cyI6IHRydWUsCiAgImNvbG9yIjogIiMwMGI1ZWIiLAogICJkYXNoQXJyYXkiOiBudWxsLAogICJkYXNoT2Zmc2V0IjogbnVsbCwKICAiZmlsbCI6IHRydWUsCiAgImZpbGxDb2xvciI6ICIjMDBiNWViIiwKICAiZmlsbE9wYWNpdHkiOiAwLjcsCiAgImZpbGxSdWxlIjogImV2ZW5vZGQiLAogICJsaW5lQ2FwIjogInJvdW5kIiwKICAibGluZUpvaW4iOiAicm91bmQiLAogICJvcGFjaXR5IjogMS4wLAogICJyYWRpdXMiOiA1LAogICJzdHJva2UiOiB0cnVlLAogICJ3ZWlnaHQiOiAzCn0KICAgICAgICAgICAgICAgICkuYWRkVG8obWFwXzk4NDAyZDQyYTU2NDQ0Njg4ZjcyMWY3NGIwMjhlYzhmKTsKICAgICAgICAgICAgCiAgICAKICAgICAgICAgICAgdmFyIHBvcHVwX2E4YWQ2NTM5NzIzYzQ0MDg4YWEzMmY0MTc5MzU4M2MyID0gTC5wb3B1cCh7bWF4V2lkdGg6ICczMDAnfSk7CgogICAgICAgICAgICAKICAgICAgICAgICAgICAgIHZhciBodG1sXzAyMTk4Mzc0NGM5MzQyY2I5OTAxMjA5MTJiNTFjZjZiID0gJCgnPGRpdiBpZD0iaHRtbF8wMjE5ODM3NDRjOTM0MmNiOTkwMTIwOTEyYjUxY2Y2YiIgc3R5bGU9IndpZHRoOiAxMDAuMCU7IGhlaWdodDogMTAwLjAlOyI+Tm9ydGggVG9yb250byBXZXN0LCBMYXdyZW5jZSBQYXJrIENsdXN0ZXIgMjwvZGl2PicpWzBdOwogICAgICAgICAgICAgICAgcG9wdXBfYThhZDY1Mzk3MjNjNDQwODhhYTMyZjQxNzkzNTgzYzIuc2V0Q29udGVudChodG1sXzAyMTk4Mzc0NGM5MzQyY2I5OTAxMjA5MTJiNTFjZjZiKTsKICAgICAgICAgICAgCgogICAgICAgICAgICBjaXJjbGVfbWFya2VyXzgyNDYzMWY0ZmI2NjRhNjJiY2NiMGViYzU1YjgxMDMxLmJpbmRQb3B1cChwb3B1cF9hOGFkNjUzOTcyM2M0NDA4OGFhMzJmNDE3OTM1ODNjMik7CgogICAgICAgICAgICAKICAgICAgICAKICAgIAogICAgICAgICAgICB2YXIgY2lyY2xlX21hcmtlcl8zY2ExODAwZjdjNzg0MmMwYmUxZmU0ZjMxNzcwOTA4MyA9IEwuY2lyY2xlTWFya2VyKAogICAgICAgICAgICAgICAgWzQzLjY3MjcwOTcsLTc5LjQwNTY3ODQwMDAwMDAxXSwKICAgICAgICAgICAgICAgIHsKICAiYnViYmxpbmdNb3VzZUV2ZW50cyI6IHRydWUsCiAgImNvbG9yIjogIiMwMGI1ZWIiLAogICJkYXNoQXJyYXkiOiBudWxsLAogICJkYXNoT2Zmc2V0IjogbnVsbCwKICAiZmlsbCI6IHRydWUsCiAgImZpbGxDb2xvciI6ICIjMDBiNWViIiwKICAiZmlsbE9wYWNpdHkiOiAwLjcsCiAgImZpbGxSdWxlIjogImV2ZW5vZGQiLAogICJsaW5lQ2FwIjogInJvdW5kIiwKICAibGluZUpvaW4iOiAicm91bmQiLAogICJvcGFjaXR5IjogMS4wLAogICJyYWRpdXMiOiA1LAogICJzdHJva2UiOiB0cnVlLAogICJ3ZWlnaHQiOiAzCn0KICAgICAgICAgICAgICAgICkuYWRkVG8obWFwXzk4NDAyZDQyYTU2NDQ0Njg4ZjcyMWY3NGIwMjhlYzhmKTsKICAgICAgICAgICAgCiAgICAKICAgICAgICAgICAgdmFyIHBvcHVwXzNkZTY1ZGMzZmY0MzRhYTc5NmNhMDNhYjJkYmQ1OGE3ID0gTC5wb3B1cCh7bWF4V2lkdGg6ICczMDAnfSk7CgogICAgICAgICAgICAKICAgICAgICAgICAgICAgIHZhciBodG1sXzRmNjM0ODhlNzVhMzQ4NzZiYzc0OTM4YzJlNTNjNjgzID0gJCgnPGRpdiBpZD0iaHRtbF80ZjYzNDg4ZTc1YTM0ODc2YmM3NDkzOGMyZTUzYzY4MyIgc3R5bGU9IndpZHRoOiAxMDAuMCU7IGhlaWdodDogMTAwLjAlOyI+VGhlIEFubmV4LCBOb3J0aCBNaWR0b3duLCBZb3JrdmlsbGUgQ2x1c3RlciAyPC9kaXY+JylbMF07CiAgICAgICAgICAgICAgICBwb3B1cF8zZGU2NWRjM2ZmNDM0YWE3OTZjYTAzYWIyZGJkNThhNy5zZXRDb250ZW50KGh0bWxfNGY2MzQ4OGU3NWEzNDg3NmJjNzQ5MzhjMmU1M2M2ODMpOwogICAgICAgICAgICAKCiAgICAgICAgICAgIGNpcmNsZV9tYXJrZXJfM2NhMTgwMGY3Yzc4NDJjMGJlMWZlNGYzMTc3MDkwODMuYmluZFBvcHVwKHBvcHVwXzNkZTY1ZGMzZmY0MzRhYTc5NmNhMDNhYjJkYmQ1OGE3KTsKCiAgICAgICAgICAgIAogICAgICAgIAogICAgCiAgICAgICAgICAgIHZhciBjaXJjbGVfbWFya2VyXzVkNTk5NWZlOGM4YzQ5YTBiNWE1OTU4NGViOTRmYzNkID0gTC5jaXJjbGVNYXJrZXIoCiAgICAgICAgICAgICAgICBbNDMuNjQ4OTU5NywtNzkuNDU2MzI1XSwKICAgICAgICAgICAgICAgIHsKICAiYnViYmxpbmdNb3VzZUV2ZW50cyI6IHRydWUsCiAgImNvbG9yIjogIiMwMGI1ZWIiLAogICJkYXNoQXJyYXkiOiBudWxsLAogICJkYXNoT2Zmc2V0IjogbnVsbCwKICAiZmlsbCI6IHRydWUsCiAgImZpbGxDb2xvciI6ICIjMDBiNWViIiwKICAiZmlsbE9wYWNpdHkiOiAwLjcsCiAgImZpbGxSdWxlIjogImV2ZW5vZGQiLAogICJsaW5lQ2FwIjogInJvdW5kIiwKICAibGluZUpvaW4iOiAicm91bmQiLAogICJvcGFjaXR5IjogMS4wLAogICJyYWRpdXMiOiA1LAogICJzdHJva2UiOiB0cnVlLAogICJ3ZWlnaHQiOiAzCn0KICAgICAgICAgICAgICAgICkuYWRkVG8obWFwXzk4NDAyZDQyYTU2NDQ0Njg4ZjcyMWY3NGIwMjhlYzhmKTsKICAgICAgICAgICAgCiAgICAKICAgICAgICAgICAgdmFyIHBvcHVwX2Q5YmM5ZjgzOGNmMDQyYjhiNzQyMjVhYmMyNWZiZGVhID0gTC5wb3B1cCh7bWF4V2lkdGg6ICczMDAnfSk7CgogICAgICAgICAgICAKICAgICAgICAgICAgICAgIHZhciBodG1sX2E5NmVkOWVmMDdjYjRlNmE5ODgwMDhkOTdiNmRmMGQxID0gJCgnPGRpdiBpZD0iaHRtbF9hOTZlZDllZjA3Y2I0ZTZhOTg4MDA4ZDk3YjZkZjBkMSIgc3R5bGU9IndpZHRoOiAxMDAuMCU7IGhlaWdodDogMTAwLjAlOyI+UGFya2RhbGUsIFJvbmNlc3ZhbGxlcyBDbHVzdGVyIDI8L2Rpdj4nKVswXTsKICAgICAgICAgICAgICAgIHBvcHVwX2Q5YmM5ZjgzOGNmMDQyYjhiNzQyMjVhYmMyNWZiZGVhLnNldENvbnRlbnQoaHRtbF9hOTZlZDllZjA3Y2I0ZTZhOTg4MDA4ZDk3YjZkZjBkMSk7CiAgICAgICAgICAgIAoKICAgICAgICAgICAgY2lyY2xlX21hcmtlcl81ZDU5OTVmZThjOGM0OWEwYjVhNTk1ODRlYjk0ZmMzZC5iaW5kUG9wdXAocG9wdXBfZDliYzlmODM4Y2YwNDJiOGI3NDIyNWFiYzI1ZmJkZWEpOwoKICAgICAgICAgICAgCiAgICAgICAgCiAgICAKICAgICAgICAgICAgdmFyIGNpcmNsZV9tYXJrZXJfZGE3NTEyZTk0MGIzNDM3MWJkYTBlYmUzYTcwYTg1YTYgPSBMLmNpcmNsZU1hcmtlcigKICAgICAgICAgICAgICAgIFs0My43MDQzMjQ0LC03OS4zODg3OTAxXSwKICAgICAgICAgICAgICAgIHsKICAiYnViYmxpbmdNb3VzZUV2ZW50cyI6IHRydWUsCiAgImNvbG9yIjogIiMwMGI1ZWIiLAogICJkYXNoQXJyYXkiOiBudWxsLAogICJkYXNoT2Zmc2V0IjogbnVsbCwKICAiZmlsbCI6IHRydWUsCiAgImZpbGxDb2xvciI6ICIjMDBiNWViIiwKICAiZmlsbE9wYWNpdHkiOiAwLjcsCiAgImZpbGxSdWxlIjogImV2ZW5vZGQiLAogICJsaW5lQ2FwIjogInJvdW5kIiwKICAibGluZUpvaW4iOiAicm91bmQiLAogICJvcGFjaXR5IjogMS4wLAogICJyYWRpdXMiOiA1LAogICJzdHJva2UiOiB0cnVlLAogICJ3ZWlnaHQiOiAzCn0KICAgICAgICAgICAgICAgICkuYWRkVG8obWFwXzk4NDAyZDQyYTU2NDQ0Njg4ZjcyMWY3NGIwMjhlYzhmKTsKICAgICAgICAgICAgCiAgICAKICAgICAgICAgICAgdmFyIHBvcHVwX2RlNTBjZmQzODFiNDRhZDhhM2I1ZTJjNmNhODczOTc0ID0gTC5wb3B1cCh7bWF4V2lkdGg6ICczMDAnfSk7CgogICAgICAgICAgICAKICAgICAgICAgICAgICAgIHZhciBodG1sXzIzZDA4ODM1ZmUyNDRjMzU4YzllY2YwZDc2MzYyOWI2ID0gJCgnPGRpdiBpZD0iaHRtbF8yM2QwODgzNWZlMjQ0YzM1OGM5ZWNmMGQ3NjM2MjliNiIgc3R5bGU9IndpZHRoOiAxMDAuMCU7IGhlaWdodDogMTAwLjAlOyI+RGF2aXN2aWxsZSBDbHVzdGVyIDI8L2Rpdj4nKVswXTsKICAgICAgICAgICAgICAgIHBvcHVwX2RlNTBjZmQzODFiNDRhZDhhM2I1ZTJjNmNhODczOTc0LnNldENvbnRlbnQoaHRtbF8yM2QwODgzNWZlMjQ0YzM1OGM5ZWNmMGQ3NjM2MjliNik7CiAgICAgICAgICAgIAoKICAgICAgICAgICAgY2lyY2xlX21hcmtlcl9kYTc1MTJlOTQwYjM0MzcxYmRhMGViZTNhNzBhODVhNi5iaW5kUG9wdXAocG9wdXBfZGU1MGNmZDM4MWI0NGFkOGEzYjVlMmM2Y2E4NzM5NzQpOwoKICAgICAgICAgICAgCiAgICAgICAgCiAgICAKICAgICAgICAgICAgdmFyIGNpcmNsZV9tYXJrZXJfYTY1ODRlYzEyNDEwNDAwOWE5M2FlNjIwZGY0YzFkOWIgPSBMLmNpcmNsZU1hcmtlcigKICAgICAgICAgICAgICAgIFs0My42NjI2OTU2LC03OS40MDAwNDkzXSwKICAgICAgICAgICAgICAgIHsKICAiYnViYmxpbmdNb3VzZUV2ZW50cyI6IHRydWUsCiAgImNvbG9yIjogIiMwMGI1ZWIiLAogICJkYXNoQXJyYXkiOiBudWxsLAogICJkYXNoT2Zmc2V0IjogbnVsbCwKICAiZmlsbCI6IHRydWUsCiAgImZpbGxDb2xvciI6ICIjMDBiNWViIiwKICAiZmlsbE9wYWNpdHkiOiAwLjcsCiAgImZpbGxSdWxlIjogImV2ZW5vZGQiLAogICJsaW5lQ2FwIjogInJvdW5kIiwKICAibGluZUpvaW4iOiAicm91bmQiLAogICJvcGFjaXR5IjogMS4wLAogICJyYWRpdXMiOiA1LAogICJzdHJva2UiOiB0cnVlLAogICJ3ZWlnaHQiOiAzCn0KICAgICAgICAgICAgICAgICkuYWRkVG8obWFwXzk4NDAyZDQyYTU2NDQ0Njg4ZjcyMWY3NGIwMjhlYzhmKTsKICAgICAgICAgICAgCiAgICAKICAgICAgICAgICAgdmFyIHBvcHVwXzI1M2VkNmY4ZjEwNjQ2NjdhMWRhYjcwODVkZmZjNWY3ID0gTC5wb3B1cCh7bWF4V2lkdGg6ICczMDAnfSk7CgogICAgICAgICAgICAKICAgICAgICAgICAgICAgIHZhciBodG1sXzE5MjA2MTFmYTJkYjQwMzFhNGY5NjcwMjAzNDVjMTZlID0gJCgnPGRpdiBpZD0iaHRtbF8xOTIwNjExZmEyZGI0MDMxYTRmOTY3MDIwMzQ1YzE2ZSIgc3R5bGU9IndpZHRoOiAxMDAuMCU7IGhlaWdodDogMTAwLjAlOyI+VW5pdmVyc2l0eSBvZiBUb3JvbnRvLCBIYXJib3JkIENsdXN0ZXIgMjwvZGl2PicpWzBdOwogICAgICAgICAgICAgICAgcG9wdXBfMjUzZWQ2ZjhmMTA2NDY2N2ExZGFiNzA4NWRmZmM1Zjcuc2V0Q29udGVudChodG1sXzE5MjA2MTFmYTJkYjQwMzFhNGY5NjcwMjAzNDVjMTZlKTsKICAgICAgICAgICAgCgogICAgICAgICAgICBjaXJjbGVfbWFya2VyX2E2NTg0ZWMxMjQxMDQwMDlhOTNhZTYyMGRmNGMxZDliLmJpbmRQb3B1cChwb3B1cF8yNTNlZDZmOGYxMDY0NjY3YTFkYWI3MDg1ZGZmYzVmNyk7CgogICAgICAgICAgICAKICAgICAgICAKICAgIAogICAgICAgICAgICB2YXIgY2lyY2xlX21hcmtlcl81YTE3YTMzYWVhYTI0OGUzYWY2ZGI4NjViM2UwM2FhMiA9IEwuY2lyY2xlTWFya2VyKAogICAgICAgICAgICAgICAgWzQzLjY1MTU3MDYsLTc5LjQ4NDQ0OTldLAogICAgICAgICAgICAgICAgewogICJidWJibGluZ01vdXNlRXZlbnRzIjogdHJ1ZSwKICAiY29sb3IiOiAiIzAwYjVlYiIsCiAgImRhc2hBcnJheSI6IG51bGwsCiAgImRhc2hPZmZzZXQiOiBudWxsLAogICJmaWxsIjogdHJ1ZSwKICAiZmlsbENvbG9yIjogIiMwMGI1ZWIiLAogICJmaWxsT3BhY2l0eSI6IDAuNywKICAiZmlsbFJ1bGUiOiAiZXZlbm9kZCIsCiAgImxpbmVDYXAiOiAicm91bmQiLAogICJsaW5lSm9pbiI6ICJyb3VuZCIsCiAgIm9wYWNpdHkiOiAxLjAsCiAgInJhZGl1cyI6IDUsCiAgInN0cm9rZSI6IHRydWUsCiAgIndlaWdodCI6IDMKfQogICAgICAgICAgICAgICAgKS5hZGRUbyhtYXBfOTg0MDJkNDJhNTY0NDQ2ODhmNzIxZjc0YjAyOGVjOGYpOwogICAgICAgICAgICAKICAgIAogICAgICAgICAgICB2YXIgcG9wdXBfY2I3NGIwZTdjNzRkNGY1OWJhZDk4MzE0ZTQ0NDg1OTMgPSBMLnBvcHVwKHttYXhXaWR0aDogJzMwMCd9KTsKCiAgICAgICAgICAgIAogICAgICAgICAgICAgICAgdmFyIGh0bWxfZTJjMjk4NTY2ZTg4NGYxZjg0Y2U4ODczZGNiOTI0OGEgPSAkKCc8ZGl2IGlkPSJodG1sX2UyYzI5ODU2NmU4ODRmMWY4NGNlODg3M2RjYjkyNDhhIiBzdHlsZT0id2lkdGg6IDEwMC4wJTsgaGVpZ2h0OiAxMDAuMCU7Ij5SdW5ueW1lZGUsIFN3YW5zZWEgQ2x1c3RlciAyPC9kaXY+JylbMF07CiAgICAgICAgICAgICAgICBwb3B1cF9jYjc0YjBlN2M3NGQ0ZjU5YmFkOTgzMTRlNDQ0ODU5My5zZXRDb250ZW50KGh0bWxfZTJjMjk4NTY2ZTg4NGYxZjg0Y2U4ODczZGNiOTI0OGEpOwogICAgICAgICAgICAKCiAgICAgICAgICAgIGNpcmNsZV9tYXJrZXJfNWExN2EzM2FlYWEyNDhlM2FmNmRiODY1YjNlMDNhYTIuYmluZFBvcHVwKHBvcHVwX2NiNzRiMGU3Yzc0ZDRmNTliYWQ5ODMxNGU0NDQ4NTkzKTsKCiAgICAgICAgICAgIAogICAgICAgIAogICAgCiAgICAgICAgICAgIHZhciBjaXJjbGVfbWFya2VyX2Y4OTA3ZTUwZmI2OTQ2MDY5M2QxZjE4OGRhOTQ1Yzc0ID0gTC5jaXJjbGVNYXJrZXIoCiAgICAgICAgICAgICAgICBbNDMuNjg5NTc0MywtNzkuMzgzMTU5OTAwMDAwMDFdLAogICAgICAgICAgICAgICAgewogICJidWJibGluZ01vdXNlRXZlbnRzIjogdHJ1ZSwKICAiY29sb3IiOiAiIzgwMDBmZiIsCiAgImRhc2hBcnJheSI6IG51bGwsCiAgImRhc2hPZmZzZXQiOiBudWxsLAogICJmaWxsIjogdHJ1ZSwKICAiZmlsbENvbG9yIjogIiM4MDAwZmYiLAogICJmaWxsT3BhY2l0eSI6IDAuNywKICAiZmlsbFJ1bGUiOiAiZXZlbm9kZCIsCiAgImxpbmVDYXAiOiAicm91bmQiLAogICJsaW5lSm9pbiI6ICJyb3VuZCIsCiAgIm9wYWNpdHkiOiAxLjAsCiAgInJhZGl1cyI6IDUsCiAgInN0cm9rZSI6IHRydWUsCiAgIndlaWdodCI6IDMKfQogICAgICAgICAgICAgICAgKS5hZGRUbyhtYXBfOTg0MDJkNDJhNTY0NDQ2ODhmNzIxZjc0YjAyOGVjOGYpOwogICAgICAgICAgICAKICAgIAogICAgICAgICAgICB2YXIgcG9wdXBfODljNTA0YjI1Y2E0NGEwNWI2Njg1OTU2ZDViMDBlNWUgPSBMLnBvcHVwKHttYXhXaWR0aDogJzMwMCd9KTsKCiAgICAgICAgICAgIAogICAgICAgICAgICAgICAgdmFyIGh0bWxfODNlZmJlMmQ2MDg5NGVhMGFmYjM4MTE1YzY4N2ViOTUgPSAkKCc8ZGl2IGlkPSJodG1sXzgzZWZiZTJkNjA4OTRlYTBhZmIzODExNWM2ODdlYjk1IiBzdHlsZT0id2lkdGg6IDEwMC4wJTsgaGVpZ2h0OiAxMDAuMCU7Ij5Nb29yZSBQYXJrLCBTdW1tZXJoaWxsIEVhc3QgQ2x1c3RlciAxPC9kaXY+JylbMF07CiAgICAgICAgICAgICAgICBwb3B1cF84OWM1MDRiMjVjYTQ0YTA1YjY2ODU5NTZkNWIwMGU1ZS5zZXRDb250ZW50KGh0bWxfODNlZmJlMmQ2MDg5NGVhMGFmYjM4MTE1YzY4N2ViOTUpOwogICAgICAgICAgICAKCiAgICAgICAgICAgIGNpcmNsZV9tYXJrZXJfZjg5MDdlNTBmYjY5NDYwNjkzZDFmMTg4ZGE5NDVjNzQuYmluZFBvcHVwKHBvcHVwXzg5YzUwNGIyNWNhNDRhMDViNjY4NTk1NmQ1YjAwZTVlKTsKCiAgICAgICAgICAgIAogICAgICAgIAogICAgCiAgICAgICAgICAgIHZhciBjaXJjbGVfbWFya2VyXzFjZjBiZGMxYzY1OTRkZWM5ZWI1OGM0MWJmYWYxMTZkID0gTC5jaXJjbGVNYXJrZXIoCiAgICAgICAgICAgICAgICBbNDMuNjUzMjA1NywtNzkuNDAwMDQ5M10sCiAgICAgICAgICAgICAgICB7CiAgImJ1YmJsaW5nTW91c2VFdmVudHMiOiB0cnVlLAogICJjb2xvciI6ICIjMDBiNWViIiwKICAiZGFzaEFycmF5IjogbnVsbCwKICAiZGFzaE9mZnNldCI6IG51bGwsCiAgImZpbGwiOiB0cnVlLAogICJmaWxsQ29sb3IiOiAiIzAwYjVlYiIsCiAgImZpbGxPcGFjaXR5IjogMC43LAogICJmaWxsUnVsZSI6ICJldmVub2RkIiwKICAibGluZUNhcCI6ICJyb3VuZCIsCiAgImxpbmVKb2luIjogInJvdW5kIiwKICAib3BhY2l0eSI6IDEuMCwKICAicmFkaXVzIjogNSwKICAic3Ryb2tlIjogdHJ1ZSwKICAid2VpZ2h0IjogMwp9CiAgICAgICAgICAgICAgICApLmFkZFRvKG1hcF85ODQwMmQ0MmE1NjQ0NDY4OGY3MjFmNzRiMDI4ZWM4Zik7CiAgICAgICAgICAgIAogICAgCiAgICAgICAgICAgIHZhciBwb3B1cF9kMmZmOTFjMmU4NWU0MGVjODQzY2E0MDY3MDRjMTI4OCA9IEwucG9wdXAoe21heFdpZHRoOiAnMzAwJ30pOwoKICAgICAgICAgICAgCiAgICAgICAgICAgICAgICB2YXIgaHRtbF9jMTY4ZDEyYmNmYzY0NDc0OWM3NDhlODg2ZDZkNGM2NSA9ICQoJzxkaXYgaWQ9Imh0bWxfYzE2OGQxMmJjZmM2NDQ3NDljNzQ4ZTg4NmQ2ZDRjNjUiIHN0eWxlPSJ3aWR0aDogMTAwLjAlOyBoZWlnaHQ6IDEwMC4wJTsiPktlbnNpbmd0b24gTWFya2V0LCBDaGluYXRvd24sIEdyYW5nZSBQYXJrIENsdXN0ZXIgMjwvZGl2PicpWzBdOwogICAgICAgICAgICAgICAgcG9wdXBfZDJmZjkxYzJlODVlNDBlYzg0M2NhNDA2NzA0YzEyODguc2V0Q29udGVudChodG1sX2MxNjhkMTJiY2ZjNjQ0NzQ5Yzc0OGU4ODZkNmQ0YzY1KTsKICAgICAgICAgICAgCgogICAgICAgICAgICBjaXJjbGVfbWFya2VyXzFjZjBiZGMxYzY1OTRkZWM5ZWI1OGM0MWJmYWYxMTZkLmJpbmRQb3B1cChwb3B1cF9kMmZmOTFjMmU4NWU0MGVjODQzY2E0MDY3MDRjMTI4OCk7CgogICAgICAgICAgICAKICAgICAgICAKICAgIAogICAgICAgICAgICB2YXIgY2lyY2xlX21hcmtlcl9hZTA0OTAwYWJiYzc0Y2NjOGM4N2I3ZjdlNGE0OTM2MSA9IEwuY2lyY2xlTWFya2VyKAogICAgICAgICAgICAgICAgWzQzLjY4NjQxMjI5OTk5OTk5LC03OS40MDAwNDkzXSwKICAgICAgICAgICAgICAgIHsKICAiYnViYmxpbmdNb3VzZUV2ZW50cyI6IHRydWUsCiAgImNvbG9yIjogIiMwMGI1ZWIiLAogICJkYXNoQXJyYXkiOiBudWxsLAogICJkYXNoT2Zmc2V0IjogbnVsbCwKICAiZmlsbCI6IHRydWUsCiAgImZpbGxDb2xvciI6ICIjMDBiNWViIiwKICAiZmlsbE9wYWNpdHkiOiAwLjcsCiAgImZpbGxSdWxlIjogImV2ZW5vZGQiLAogICJsaW5lQ2FwIjogInJvdW5kIiwKICAibGluZUpvaW4iOiAicm91bmQiLAogICJvcGFjaXR5IjogMS4wLAogICJyYWRpdXMiOiA1LAogICJzdHJva2UiOiB0cnVlLAogICJ3ZWlnaHQiOiAzCn0KICAgICAgICAgICAgICAgICkuYWRkVG8obWFwXzk4NDAyZDQyYTU2NDQ0Njg4ZjcyMWY3NGIwMjhlYzhmKTsKICAgICAgICAgICAgCiAgICAKICAgICAgICAgICAgdmFyIHBvcHVwXzljNjIyZmRlZTEwYjQzM2JhZWVkODlkZGMyMzQyNDc4ID0gTC5wb3B1cCh7bWF4V2lkdGg6ICczMDAnfSk7CgogICAgICAgICAgICAKICAgICAgICAgICAgICAgIHZhciBodG1sXzc4NmQwYjY1NDE0ODRlZmFhMGEwMmRlY2Y3NDA4YjdhID0gJCgnPGRpdiBpZD0iaHRtbF83ODZkMGI2NTQxNDg0ZWZhYTBhMDJkZWNmNzQwOGI3YSIgc3R5bGU9IndpZHRoOiAxMDAuMCU7IGhlaWdodDogMTAwLjAlOyI+U3VtbWVyaGlsbCBXZXN0LCBSYXRobmVsbHksIFNvdXRoIEhpbGwsIEZvcmVzdCBIaWxsIFNFLCBEZWVyIFBhcmsgQ2x1c3RlciAyPC9kaXY+JylbMF07CiAgICAgICAgICAgICAgICBwb3B1cF85YzYyMmZkZWUxMGI0MzNiYWVlZDg5ZGRjMjM0MjQ3OC5zZXRDb250ZW50KGh0bWxfNzg2ZDBiNjU0MTQ4NGVmYWEwYTAyZGVjZjc0MDhiN2EpOwogICAgICAgICAgICAKCiAgICAgICAgICAgIGNpcmNsZV9tYXJrZXJfYWUwNDkwMGFiYmM3NGNjYzhjODdiN2Y3ZTRhNDkzNjEuYmluZFBvcHVwKHBvcHVwXzljNjIyZmRlZTEwYjQzM2JhZWVkODlkZGMyMzQyNDc4KTsKCiAgICAgICAgICAgIAogICAgICAgIAogICAgCiAgICAgICAgICAgIHZhciBjaXJjbGVfbWFya2VyX2Y0N2JhZDlkZGZlMDQ5OTU4ZjIxMDY4NGI4M2U3MTkxID0gTC5jaXJjbGVNYXJrZXIoCiAgICAgICAgICAgICAgICBbNDMuNjI4OTQ2NywtNzkuMzk0NDE5OV0sCiAgICAgICAgICAgICAgICB7CiAgImJ1YmJsaW5nTW91c2VFdmVudHMiOiB0cnVlLAogICJjb2xvciI6ICIjMDBiNWViIiwKICAiZGFzaEFycmF5IjogbnVsbCwKICAiZGFzaE9mZnNldCI6IG51bGwsCiAgImZpbGwiOiB0cnVlLAogICJmaWxsQ29sb3IiOiAiIzAwYjVlYiIsCiAgImZpbGxPcGFjaXR5IjogMC43LAogICJmaWxsUnVsZSI6ICJldmVub2RkIiwKICAibGluZUNhcCI6ICJyb3VuZCIsCiAgImxpbmVKb2luIjogInJvdW5kIiwKICAib3BhY2l0eSI6IDEuMCwKICAicmFkaXVzIjogNSwKICAic3Ryb2tlIjogdHJ1ZSwKICAid2VpZ2h0IjogMwp9CiAgICAgICAgICAgICAgICApLmFkZFRvKG1hcF85ODQwMmQ0MmE1NjQ0NDY4OGY3MjFmNzRiMDI4ZWM4Zik7CiAgICAgICAgICAgIAogICAgCiAgICAgICAgICAgIHZhciBwb3B1cF81NTNhMzU2OTdjMTQ0NjBjODJkYjJjNWE1MDEwZjQ3ZCA9IEwucG9wdXAoe21heFdpZHRoOiAnMzAwJ30pOwoKICAgICAgICAgICAgCiAgICAgICAgICAgICAgICB2YXIgaHRtbF9jOGYxYTk2Njk2ZTc0N2QzODAwMGExMTg3OTc3NzJhMCA9ICQoJzxkaXYgaWQ9Imh0bWxfYzhmMWE5NjY5NmU3NDdkMzgwMDBhMTE4Nzk3NzcyYTAiIHN0eWxlPSJ3aWR0aDogMTAwLjAlOyBoZWlnaHQ6IDEwMC4wJTsiPkNOIFRvd2VyLCBLaW5nIGFuZCBTcGFkaW5hLCBSYWlsd2F5IExhbmRzLCBIYXJib3VyZnJvbnQgV2VzdCwgQmF0aHVyc3QgUXVheSwgU291dGggTmlhZ2FyYSwgSXNsYW5kIGFpcnBvcnQgQ2x1c3RlciAyPC9kaXY+JylbMF07CiAgICAgICAgICAgICAgICBwb3B1cF81NTNhMzU2OTdjMTQ0NjBjODJkYjJjNWE1MDEwZjQ3ZC5zZXRDb250ZW50KGh0bWxfYzhmMWE5NjY5NmU3NDdkMzgwMDBhMTE4Nzk3NzcyYTApOwogICAgICAgICAgICAKCiAgICAgICAgICAgIGNpcmNsZV9tYXJrZXJfZjQ3YmFkOWRkZmUwNDk5NThmMjEwNjg0YjgzZTcxOTEuYmluZFBvcHVwKHBvcHVwXzU1M2EzNTY5N2MxNDQ2MGM4MmRiMmM1YTUwMTBmNDdkKTsKCiAgICAgICAgICAgIAogICAgICAgIAogICAgCiAgICAgICAgICAgIHZhciBjaXJjbGVfbWFya2VyXzAwMTg0YWMyZGE3MDQwZWJiMTA1ZjVjMDBkMDZlYjljID0gTC5jaXJjbGVNYXJrZXIoCiAgICAgICAgICAgICAgICBbNDMuNjc5NTYyNiwtNzkuMzc3NTI5NDAwMDAwMDFdLAogICAgICAgICAgICAgICAgewogICJidWJibGluZ01vdXNlRXZlbnRzIjogdHJ1ZSwKICAiY29sb3IiOiAiI2ZmMDAwMCIsCiAgImRhc2hBcnJheSI6IG51bGwsCiAgImRhc2hPZmZzZXQiOiBudWxsLAogICJmaWxsIjogdHJ1ZSwKICAiZmlsbENvbG9yIjogIiNmZjAwMDAiLAogICJmaWxsT3BhY2l0eSI6IDAuNywKICAiZmlsbFJ1bGUiOiAiZXZlbm9kZCIsCiAgImxpbmVDYXAiOiAicm91bmQiLAogICJsaW5lSm9pbiI6ICJyb3VuZCIsCiAgIm9wYWNpdHkiOiAxLjAsCiAgInJhZGl1cyI6IDUsCiAgInN0cm9rZSI6IHRydWUsCiAgIndlaWdodCI6IDMKfQogICAgICAgICAgICAgICAgKS5hZGRUbyhtYXBfOTg0MDJkNDJhNTY0NDQ2ODhmNzIxZjc0YjAyOGVjOGYpOwogICAgICAgICAgICAKICAgIAogICAgICAgICAgICB2YXIgcG9wdXBfZDQ2OTEyMjc3YjQzNGFjYTkyNWIwYjA0N2NiMjk1ZDEgPSBMLnBvcHVwKHttYXhXaWR0aDogJzMwMCd9KTsKCiAgICAgICAgICAgIAogICAgICAgICAgICAgICAgdmFyIGh0bWxfYzEyMWRlZTg3ZjA0NDgxYThjODJiY2FiN2E1YmMyNmYgPSAkKCc8ZGl2IGlkPSJodG1sX2MxMjFkZWU4N2YwNDQ4MWE4YzgyYmNhYjdhNWJjMjZmIiBzdHlsZT0id2lkdGg6IDEwMC4wJTsgaGVpZ2h0OiAxMDAuMCU7Ij5Sb3NlZGFsZSBDbHVzdGVyIDA8L2Rpdj4nKVswXTsKICAgICAgICAgICAgICAgIHBvcHVwX2Q0NjkxMjI3N2I0MzRhY2E5MjViMGIwNDdjYjI5NWQxLnNldENvbnRlbnQoaHRtbF9jMTIxZGVlODdmMDQ0ODFhOGM4MmJjYWI3YTViYzI2Zik7CiAgICAgICAgICAgIAoKICAgICAgICAgICAgY2lyY2xlX21hcmtlcl8wMDE4NGFjMmRhNzA0MGViYjEwNWY1YzAwZDA2ZWI5Yy5iaW5kUG9wdXAocG9wdXBfZDQ2OTEyMjc3YjQzNGFjYTkyNWIwYjA0N2NiMjk1ZDEpOwoKICAgICAgICAgICAgCiAgICAgICAgCiAgICAKICAgICAgICAgICAgdmFyIGNpcmNsZV9tYXJrZXJfY2EwYWZhNjU1NTZjNGM5OTk1NDJkYWIzMmJlN2FjNmUgPSBMLmNpcmNsZU1hcmtlcigKICAgICAgICAgICAgICAgIFs0My42NDY0MzUyLC03OS4zNzQ4NDU5OTk5OTk5OV0sCiAgICAgICAgICAgICAgICB7CiAgImJ1YmJsaW5nTW91c2VFdmVudHMiOiB0cnVlLAogICJjb2xvciI6ICIjMDBiNWViIiwKICAiZGFzaEFycmF5IjogbnVsbCwKICAiZGFzaE9mZnNldCI6IG51bGwsCiAgImZpbGwiOiB0cnVlLAogICJmaWxsQ29sb3IiOiAiIzAwYjVlYiIsCiAgImZpbGxPcGFjaXR5IjogMC43LAogICJmaWxsUnVsZSI6ICJldmVub2RkIiwKICAibGluZUNhcCI6ICJyb3VuZCIsCiAgImxpbmVKb2luIjogInJvdW5kIiwKICAib3BhY2l0eSI6IDEuMCwKICAicmFkaXVzIjogNSwKICAic3Ryb2tlIjogdHJ1ZSwKICAid2VpZ2h0IjogMwp9CiAgICAgICAgICAgICAgICApLmFkZFRvKG1hcF85ODQwMmQ0MmE1NjQ0NDY4OGY3MjFmNzRiMDI4ZWM4Zik7CiAgICAgICAgICAgIAogICAgCiAgICAgICAgICAgIHZhciBwb3B1cF85Y2I0MThjY2JlNmE0ODc0YWEzMWNjNWY3MWVlODM1ZiA9IEwucG9wdXAoe21heFdpZHRoOiAnMzAwJ30pOwoKICAgICAgICAgICAgCiAgICAgICAgICAgICAgICB2YXIgaHRtbF81Y2M4NGYxZWJhMzM0NzljOTY1NTUxNWI5MzFmODAyMyA9ICQoJzxkaXYgaWQ9Imh0bWxfNWNjODRmMWViYTMzNDc5Yzk2NTU1MTViOTMxZjgwMjMiIHN0eWxlPSJ3aWR0aDogMTAwLjAlOyBoZWlnaHQ6IDEwMC4wJTsiPlN0biBBIFBPIEJveGVzIENsdXN0ZXIgMjwvZGl2PicpWzBdOwogICAgICAgICAgICAgICAgcG9wdXBfOWNiNDE4Y2NiZTZhNDg3NGFhMzFjYzVmNzFlZTgzNWYuc2V0Q29udGVudChodG1sXzVjYzg0ZjFlYmEzMzQ3OWM5NjU1NTE1YjkzMWY4MDIzKTsKICAgICAgICAgICAgCgogICAgICAgICAgICBjaXJjbGVfbWFya2VyX2NhMGFmYTY1NTU2YzRjOTk5NTQyZGFiMzJiZTdhYzZlLmJpbmRQb3B1cChwb3B1cF85Y2I0MThjY2JlNmE0ODc0YWEzMWNjNWY3MWVlODM1Zik7CgogICAgICAgICAgICAKICAgICAgICAKICAgIAogICAgICAgICAgICB2YXIgY2lyY2xlX21hcmtlcl83ODM0OTdhMzI2MDM0MjYyYmNjYjlkYTUwOTE3MTZiOSA9IEwuY2lyY2xlTWFya2VyKAogICAgICAgICAgICAgICAgWzQzLjY2Nzk2NywtNzkuMzY3Njc1M10sCiAgICAgICAgICAgICAgICB7CiAgImJ1YmJsaW5nTW91c2VFdmVudHMiOiB0cnVlLAogICJjb2xvciI6ICIjMDBiNWViIiwKICAiZGFzaEFycmF5IjogbnVsbCwKICAiZGFzaE9mZnNldCI6IG51bGwsCiAgImZpbGwiOiB0cnVlLAogICJmaWxsQ29sb3IiOiAiIzAwYjVlYiIsCiAgImZpbGxPcGFjaXR5IjogMC43LAogICJmaWxsUnVsZSI6ICJldmVub2RkIiwKICAibGluZUNhcCI6ICJyb3VuZCIsCiAgImxpbmVKb2luIjogInJvdW5kIiwKICAib3BhY2l0eSI6IDEuMCwKICAicmFkaXVzIjogNSwKICAic3Ryb2tlIjogdHJ1ZSwKICAid2VpZ2h0IjogMwp9CiAgICAgICAgICAgICAgICApLmFkZFRvKG1hcF85ODQwMmQ0MmE1NjQ0NDY4OGY3MjFmNzRiMDI4ZWM4Zik7CiAgICAgICAgICAgIAogICAgCiAgICAgICAgICAgIHZhciBwb3B1cF82ZDU3NTU4OGFiYzk0N2E0YjM2ZDIyZTllMmYyNGE3MyA9IEwucG9wdXAoe21heFdpZHRoOiAnMzAwJ30pOwoKICAgICAgICAgICAgCiAgICAgICAgICAgICAgICB2YXIgaHRtbF9hYjQyYmEyYTJmNDc0NmRkYjIxM2FiMTQzMTdmODgxMiA9ICQoJzxkaXYgaWQ9Imh0bWxfYWI0MmJhMmEyZjQ3NDZkZGIyMTNhYjE0MzE3Zjg4MTIiIHN0eWxlPSJ3aWR0aDogMTAwLjAlOyBoZWlnaHQ6IDEwMC4wJTsiPlN0LiBKYW1lcyBUb3duLCBDYWJiYWdldG93biBDbHVzdGVyIDI8L2Rpdj4nKVswXTsKICAgICAgICAgICAgICAgIHBvcHVwXzZkNTc1NTg4YWJjOTQ3YTRiMzZkMjJlOWUyZjI0YTczLnNldENvbnRlbnQoaHRtbF9hYjQyYmEyYTJmNDc0NmRkYjIxM2FiMTQzMTdmODgxMik7CiAgICAgICAgICAgIAoKICAgICAgICAgICAgY2lyY2xlX21hcmtlcl83ODM0OTdhMzI2MDM0MjYyYmNjYjlkYTUwOTE3MTZiOS5iaW5kUG9wdXAocG9wdXBfNmQ1NzU1ODhhYmM5NDdhNGIzNmQyMmU5ZTJmMjRhNzMpOwoKICAgICAgICAgICAgCiAgICAgICAgCiAgICAKICAgICAgICAgICAgdmFyIGNpcmNsZV9tYXJrZXJfOWEwODRlZDNhYmM5NGU1OWI2YTBiNzU5NzA5YjNlNzUgPSBMLmNpcmNsZU1hcmtlcigKICAgICAgICAgICAgICAgIFs0My42NDg0MjkyLC03OS4zODIyODAyXSwKICAgICAgICAgICAgICAgIHsKICAiYnViYmxpbmdNb3VzZUV2ZW50cyI6IHRydWUsCiAgImNvbG9yIjogIiMwMGI1ZWIiLAogICJkYXNoQXJyYXkiOiBudWxsLAogICJkYXNoT2Zmc2V0IjogbnVsbCwKICAiZmlsbCI6IHRydWUsCiAgImZpbGxDb2xvciI6ICIjMDBiNWViIiwKICAiZmlsbE9wYWNpdHkiOiAwLjcsCiAgImZpbGxSdWxlIjogImV2ZW5vZGQiLAogICJsaW5lQ2FwIjogInJvdW5kIiwKICAibGluZUpvaW4iOiAicm91bmQiLAogICJvcGFjaXR5IjogMS4wLAogICJyYWRpdXMiOiA1LAogICJzdHJva2UiOiB0cnVlLAogICJ3ZWlnaHQiOiAzCn0KICAgICAgICAgICAgICAgICkuYWRkVG8obWFwXzk4NDAyZDQyYTU2NDQ0Njg4ZjcyMWY3NGIwMjhlYzhmKTsKICAgICAgICAgICAgCiAgICAKICAgICAgICAgICAgdmFyIHBvcHVwXzczYTM4MjVlMDI0YTRlNjFhODljOWQwMWFhNGE0MThiID0gTC5wb3B1cCh7bWF4V2lkdGg6ICczMDAnfSk7CgogICAgICAgICAgICAKICAgICAgICAgICAgICAgIHZhciBodG1sX2U5ZmY1YmZkMTI3MTQyYjliM2NiYzMwZjE1NGZkYmIxID0gJCgnPGRpdiBpZD0iaHRtbF9lOWZmNWJmZDEyNzE0MmI5YjNjYmMzMGYxNTRmZGJiMSIgc3R5bGU9IndpZHRoOiAxMDAuMCU7IGhlaWdodDogMTAwLjAlOyI+Rmlyc3QgQ2FuYWRpYW4gUGxhY2UsIFVuZGVyZ3JvdW5kIGNpdHkgQ2x1c3RlciAyPC9kaXY+JylbMF07CiAgICAgICAgICAgICAgICBwb3B1cF83M2EzODI1ZTAyNGE0ZTYxYTg5YzlkMDFhYTRhNDE4Yi5zZXRDb250ZW50KGh0bWxfZTlmZjViZmQxMjcxNDJiOWIzY2JjMzBmMTU0ZmRiYjEpOwogICAgICAgICAgICAKCiAgICAgICAgICAgIGNpcmNsZV9tYXJrZXJfOWEwODRlZDNhYmM5NGU1OWI2YTBiNzU5NzA5YjNlNzUuYmluZFBvcHVwKHBvcHVwXzczYTM4MjVlMDI0YTRlNjFhODljOWQwMWFhNGE0MThiKTsKCiAgICAgICAgICAgIAogICAgICAgIAogICAgCiAgICAgICAgICAgIHZhciBjaXJjbGVfbWFya2VyX2QyYTBhMTllNzNlNzQzZTFiNzA3MTRjNDZhYzBlMGQyID0gTC5jaXJjbGVNYXJrZXIoCiAgICAgICAgICAgICAgICBbNDMuNjY1ODU5OSwtNzkuMzgzMTU5OTAwMDAwMDFdLAogICAgICAgICAgICAgICAgewogICJidWJibGluZ01vdXNlRXZlbnRzIjogdHJ1ZSwKICAiY29sb3IiOiAiIzAwYjVlYiIsCiAgImRhc2hBcnJheSI6IG51bGwsCiAgImRhc2hPZmZzZXQiOiBudWxsLAogICJmaWxsIjogdHJ1ZSwKICAiZmlsbENvbG9yIjogIiMwMGI1ZWIiLAogICJmaWxsT3BhY2l0eSI6IDAuNywKICAiZmlsbFJ1bGUiOiAiZXZlbm9kZCIsCiAgImxpbmVDYXAiOiAicm91bmQiLAogICJsaW5lSm9pbiI6ICJyb3VuZCIsCiAgIm9wYWNpdHkiOiAxLjAsCiAgInJhZGl1cyI6IDUsCiAgInN0cm9rZSI6IHRydWUsCiAgIndlaWdodCI6IDMKfQogICAgICAgICAgICAgICAgKS5hZGRUbyhtYXBfOTg0MDJkNDJhNTY0NDQ2ODhmNzIxZjc0YjAyOGVjOGYpOwogICAgICAgICAgICAKICAgIAogICAgICAgICAgICB2YXIgcG9wdXBfNjMyMjJmNjIwZmI4NGY5N2FjMmE1ZTIwZmM1MGYzYmIgPSBMLnBvcHVwKHttYXhXaWR0aDogJzMwMCd9KTsKCiAgICAgICAgICAgIAogICAgICAgICAgICAgICAgdmFyIGh0bWxfYTgzYTIxOTM3NjliNDVjOThkYTk4NzExZjA4YmFlYmMgPSAkKCc8ZGl2IGlkPSJodG1sX2E4M2EyMTkzNzY5YjQ1Yzk4ZGE5ODcxMWYwOGJhZWJjIiBzdHlsZT0id2lkdGg6IDEwMC4wJTsgaGVpZ2h0OiAxMDAuMCU7Ij5DaHVyY2ggYW5kIFdlbGxlc2xleSBDbHVzdGVyIDI8L2Rpdj4nKVswXTsKICAgICAgICAgICAgICAgIHBvcHVwXzYzMjIyZjYyMGZiODRmOTdhYzJhNWUyMGZjNTBmM2JiLnNldENvbnRlbnQoaHRtbF9hODNhMjE5Mzc2OWI0NWM5OGRhOTg3MTFmMDhiYWViYyk7CiAgICAgICAgICAgIAoKICAgICAgICAgICAgY2lyY2xlX21hcmtlcl9kMmEwYTE5ZTczZTc0M2UxYjcwNzE0YzQ2YWMwZTBkMi5iaW5kUG9wdXAocG9wdXBfNjMyMjJmNjIwZmI4NGY5N2FjMmE1ZTIwZmM1MGYzYmIpOwoKICAgICAgICAgICAgCiAgICAgICAgCiAgICAKICAgICAgICAgICAgdmFyIGNpcmNsZV9tYXJrZXJfNzVkZGZlN2QxNTdjNGNkOWEwODJhZjU4MThkZjA1ZmIgPSBMLmNpcmNsZU1hcmtlcigKICAgICAgICAgICAgICAgIFs0My42NjI3NDM5LC03OS4zMjE1NThdLAogICAgICAgICAgICAgICAgewogICJidWJibGluZ01vdXNlRXZlbnRzIjogdHJ1ZSwKICAiY29sb3IiOiAiIzAwYjVlYiIsCiAgImRhc2hBcnJheSI6IG51bGwsCiAgImRhc2hPZmZzZXQiOiBudWxsLAogICJmaWxsIjogdHJ1ZSwKICAiZmlsbENvbG9yIjogIiMwMGI1ZWIiLAogICJmaWxsT3BhY2l0eSI6IDAuNywKICAiZmlsbFJ1bGUiOiAiZXZlbm9kZCIsCiAgImxpbmVDYXAiOiAicm91bmQiLAogICJsaW5lSm9pbiI6ICJyb3VuZCIsCiAgIm9wYWNpdHkiOiAxLjAsCiAgInJhZGl1cyI6IDUsCiAgInN0cm9rZSI6IHRydWUsCiAgIndlaWdodCI6IDMKfQogICAgICAgICAgICAgICAgKS5hZGRUbyhtYXBfOTg0MDJkNDJhNTY0NDQ2ODhmNzIxZjc0YjAyOGVjOGYpOwogICAgICAgICAgICAKICAgIAogICAgICAgICAgICB2YXIgcG9wdXBfYmJmZWFhYmMxNmY1NDNjOTk5NmE3ZjkwNmQ2MWE0YzMgPSBMLnBvcHVwKHttYXhXaWR0aDogJzMwMCd9KTsKCiAgICAgICAgICAgIAogICAgICAgICAgICAgICAgdmFyIGh0bWxfNzlkODk4NTJhNTdjNGE4YjlmZTJlMTliZjcwY2Q0YTcgPSAkKCc8ZGl2IGlkPSJodG1sXzc5ZDg5ODUyYTU3YzRhOGI5ZmUyZTE5YmY3MGNkNGE3IiBzdHlsZT0id2lkdGg6IDEwMC4wJTsgaGVpZ2h0OiAxMDAuMCU7Ij5CdXNpbmVzcyByZXBseSBtYWlsIFByb2Nlc3NpbmcgQ2VudHJlLCBTb3V0aCBDZW50cmFsIExldHRlciBQcm9jZXNzaW5nIFBsYW50IFRvcm9udG8gQ2x1c3RlciAyPC9kaXY+JylbMF07CiAgICAgICAgICAgICAgICBwb3B1cF9iYmZlYWFiYzE2ZjU0M2M5OTk2YTdmOTA2ZDYxYTRjMy5zZXRDb250ZW50KGh0bWxfNzlkODk4NTJhNTdjNGE4YjlmZTJlMTliZjcwY2Q0YTcpOwogICAgICAgICAgICAKCiAgICAgICAgICAgIGNpcmNsZV9tYXJrZXJfNzVkZGZlN2QxNTdjNGNkOWEwODJhZjU4MThkZjA1ZmIuYmluZFBvcHVwKHBvcHVwX2JiZmVhYWJjMTZmNTQzYzk5OTZhN2Y5MDZkNjFhNGMzKTsKCiAgICAgICAgICAgIAogICAgICAgIAo8L3NjcmlwdD4= onload=\"this.contentDocument.open();this.contentDocument.write(atob(this.getAttribute('data-html')));this.contentDocument.close();\" allowfullscreen webkitallowfullscreen mozallowfullscreen></iframe></div></div>"
     },
     "metadata": {},
     "execution_count": 42
    }
   ],
   "source": [
    "# create map\n",
    "map_clusters = folium.Map(location=[latitude, longitude], zoom_start=12)\n",
    "\n",
    "# set colour scheme for the clusters\n",
    "x = np.arange(kclusters)\n",
    "ys = [i + x + (i * x)**2 for i in range(kclusters)]\n",
    "colours_array = cm.rainbow(np.linspace(0, 1, len(ys)))\n",
    "rainbow = [colors.rgb2hex(i) for i in colours_array]\n",
    "\n",
    "# add markers to the map\n",
    "markers_colours = []\n",
    "for lat, lon, poi, cluster in zip(toronto_merged['Latitude'], toronto_merged['Longitude'], toronto_merged['Neighbourhood'], toronto_merged['Cluster Labels']):\n",
    "    label = folium.Popup(str(poi) + ' Cluster ' + str(cluster), parse_html = True)\n",
    "    folium.CircleMarker(\n",
    "        [lat, lon],\n",
    "        radius = 5,\n",
    "        popup = label,\n",
    "        color = rainbow[cluster - 1],\n",
    "        fill = True,\n",
    "        fill_color = rainbow[cluster - 1],\n",
    "        fill_opacity = 0.7).add_to(map_clusters)\n",
    "       \n",
    "map_clusters"
   ]
  },
  {
   "source": [
    "### Now, let's examine the categories for each cluster.\n",
    "#### Cluster 1"
   ],
   "cell_type": "markdown",
   "metadata": {}
  },
  {
   "cell_type": "code",
   "execution_count": 43,
   "metadata": {},
   "outputs": [
    {
     "output_type": "execute_result",
     "data": {
      "text/plain": [
       "                                      Neighbourhood  Cluster Labels  \\\n",
       "18                                    Lawrence Park               0   \n",
       "21  Forest Hill North & West, Forest Hill Road Park               0   \n",
       "33                                         Rosedale               0   \n",
       "\n",
       "   1st Most Common Venue 2nd Most Common Venue 3rd Most Common Venue  \\\n",
       "18                  Park           Swim School              Bus Line   \n",
       "21                  Park      Sushi Restaurant         Jewelry Store   \n",
       "33                  Park                 Trail            Playground   \n",
       "\n",
       "   4th Most Common Venue 5th Most Common Venue        6th Most Common Venue  \\\n",
       "18           Escape Room     Electronics Store  Eastern European Restaurant   \n",
       "21                 Trail           Escape Room            Electronics Store   \n",
       "33         Deli / Bodega     Electronics Store  Eastern European Restaurant   \n",
       "\n",
       "          7th Most Common Venue 8th Most Common Venue 9th Most Common Venue  \\\n",
       "18          Dumpling Restaurant            Donut Shop      Doner Restaurant   \n",
       "21  Eastern European Restaurant   Dumpling Restaurant            Donut Shop   \n",
       "33          Dumpling Restaurant            Donut Shop      Doner Restaurant   \n",
       "\n",
       "   10th Most Common Venue  \n",
       "18                Dog Run  \n",
       "21       Doner Restaurant  \n",
       "33                Dog Run  "
      ],
      "text/html": "<div>\n<style scoped>\n    .dataframe tbody tr th:only-of-type {\n        vertical-align: middle;\n    }\n\n    .dataframe tbody tr th {\n        vertical-align: top;\n    }\n\n    .dataframe thead th {\n        text-align: right;\n    }\n</style>\n<table border=\"1\" class=\"dataframe\">\n  <thead>\n    <tr style=\"text-align: right;\">\n      <th></th>\n      <th>Neighbourhood</th>\n      <th>Cluster Labels</th>\n      <th>1st Most Common Venue</th>\n      <th>2nd Most Common Venue</th>\n      <th>3rd Most Common Venue</th>\n      <th>4th Most Common Venue</th>\n      <th>5th Most Common Venue</th>\n      <th>6th Most Common Venue</th>\n      <th>7th Most Common Venue</th>\n      <th>8th Most Common Venue</th>\n      <th>9th Most Common Venue</th>\n      <th>10th Most Common Venue</th>\n    </tr>\n  </thead>\n  <tbody>\n    <tr>\n      <th>18</th>\n      <td>Lawrence Park</td>\n      <td>0</td>\n      <td>Park</td>\n      <td>Swim School</td>\n      <td>Bus Line</td>\n      <td>Escape Room</td>\n      <td>Electronics Store</td>\n      <td>Eastern European Restaurant</td>\n      <td>Dumpling Restaurant</td>\n      <td>Donut Shop</td>\n      <td>Doner Restaurant</td>\n      <td>Dog Run</td>\n    </tr>\n    <tr>\n      <th>21</th>\n      <td>Forest Hill North &amp; West, Forest Hill Road Park</td>\n      <td>0</td>\n      <td>Park</td>\n      <td>Sushi Restaurant</td>\n      <td>Jewelry Store</td>\n      <td>Trail</td>\n      <td>Escape Room</td>\n      <td>Electronics Store</td>\n      <td>Eastern European Restaurant</td>\n      <td>Dumpling Restaurant</td>\n      <td>Donut Shop</td>\n      <td>Doner Restaurant</td>\n    </tr>\n    <tr>\n      <th>33</th>\n      <td>Rosedale</td>\n      <td>0</td>\n      <td>Park</td>\n      <td>Trail</td>\n      <td>Playground</td>\n      <td>Deli / Bodega</td>\n      <td>Electronics Store</td>\n      <td>Eastern European Restaurant</td>\n      <td>Dumpling Restaurant</td>\n      <td>Donut Shop</td>\n      <td>Doner Restaurant</td>\n      <td>Dog Run</td>\n    </tr>\n  </tbody>\n</table>\n</div>"
     },
     "metadata": {},
     "execution_count": 43
    }
   ],
   "source": [
    "toronto_merged.loc[toronto_merged['Cluster Labels'] == 0, toronto_merged.columns[[1] + list(range(4, toronto_merged.shape[1]))]]"
   ]
  },
  {
   "source": [
    "#### Cluster 2"
   ],
   "cell_type": "markdown",
   "metadata": {}
  },
  {
   "cell_type": "code",
   "execution_count": 44,
   "metadata": {},
   "outputs": [
    {
     "output_type": "execute_result",
     "data": {
      "text/plain": [
       "                  Neighbourhood  Cluster Labels 1st Most Common Venue  \\\n",
       "29  Moore Park, Summerhill East               1            Playground   \n",
       "\n",
       "   2nd Most Common Venue 3rd Most Common Venue 4th Most Common Venue  \\\n",
       "29                 Trail           Yoga Studio      Department Store   \n",
       "\n",
       "   5th Most Common Venue 6th Most Common Venue        7th Most Common Venue  \\\n",
       "29           Escape Room     Electronics Store  Eastern European Restaurant   \n",
       "\n",
       "   8th Most Common Venue 9th Most Common Venue 10th Most Common Venue  \n",
       "29   Dumpling Restaurant            Donut Shop       Doner Restaurant  "
      ],
      "text/html": "<div>\n<style scoped>\n    .dataframe tbody tr th:only-of-type {\n        vertical-align: middle;\n    }\n\n    .dataframe tbody tr th {\n        vertical-align: top;\n    }\n\n    .dataframe thead th {\n        text-align: right;\n    }\n</style>\n<table border=\"1\" class=\"dataframe\">\n  <thead>\n    <tr style=\"text-align: right;\">\n      <th></th>\n      <th>Neighbourhood</th>\n      <th>Cluster Labels</th>\n      <th>1st Most Common Venue</th>\n      <th>2nd Most Common Venue</th>\n      <th>3rd Most Common Venue</th>\n      <th>4th Most Common Venue</th>\n      <th>5th Most Common Venue</th>\n      <th>6th Most Common Venue</th>\n      <th>7th Most Common Venue</th>\n      <th>8th Most Common Venue</th>\n      <th>9th Most Common Venue</th>\n      <th>10th Most Common Venue</th>\n    </tr>\n  </thead>\n  <tbody>\n    <tr>\n      <th>29</th>\n      <td>Moore Park, Summerhill East</td>\n      <td>1</td>\n      <td>Playground</td>\n      <td>Trail</td>\n      <td>Yoga Studio</td>\n      <td>Department Store</td>\n      <td>Escape Room</td>\n      <td>Electronics Store</td>\n      <td>Eastern European Restaurant</td>\n      <td>Dumpling Restaurant</td>\n      <td>Donut Shop</td>\n      <td>Doner Restaurant</td>\n    </tr>\n  </tbody>\n</table>\n</div>"
     },
     "metadata": {},
     "execution_count": 44
    }
   ],
   "source": [
    "toronto_merged.loc[toronto_merged['Cluster Labels'] == 1, toronto_merged.columns[[1] + list(range(4, toronto_merged.shape[1]))]]"
   ]
  },
  {
   "source": [
    "#### Cluster 3"
   ],
   "cell_type": "markdown",
   "metadata": {}
  },
  {
   "cell_type": "code",
   "execution_count": 45,
   "metadata": {},
   "outputs": [
    {
     "output_type": "execute_result",
     "data": {
      "text/plain": [
       "                                        Neighbourhood  Cluster Labels  \\\n",
       "0                           Regent Park, Harbourfront               2   \n",
       "1         Queen's Park, Ontario Provincial Government               2   \n",
       "2                            Garden District, Ryerson               2   \n",
       "3                                      St. James Town               2   \n",
       "5                                         Berczy Park               2   \n",
       "6                                  Central Bay Street               2   \n",
       "7                                            Christie               2   \n",
       "8                            Richmond, Adelaide, King               2   \n",
       "9                        Dufferin, Dovercourt Village               2   \n",
       "10  Harbourfront East, Union Station, Toronto Islands               2   \n",
       "11                           Little Portugal, Trinity               2   \n",
       "12                       The Danforth West, Riverdale               2   \n",
       "13           Toronto Dominion Centre, Design Exchange               2   \n",
       "14       Brockton, Parkdale Village, Exhibition Place               2   \n",
       "15                     India Bazaar, The Beaches West               2   \n",
       "16                     Commerce Court, Victoria Hotel               2   \n",
       "17                                    Studio District               2   \n",
       "20                                   Davisville North               2   \n",
       "22                      High Park, The Junction South               2   \n",
       "23                  North Toronto West, Lawrence Park               2   \n",
       "24                The Annex, North Midtown, Yorkville               2   \n",
       "25                             Parkdale, Roncesvalles               2   \n",
       "26                                         Davisville               2   \n",
       "27                     University of Toronto, Harbord               2   \n",
       "28                                 Runnymede, Swansea               2   \n",
       "30          Kensington Market, Chinatown, Grange Park               2   \n",
       "31  Summerhill West, Rathnelly, South Hill, Forest...               2   \n",
       "32  CN Tower, King and Spadina, Railway Lands, Har...               2   \n",
       "34                                     Stn A PO Boxes               2   \n",
       "35                        St. James Town, Cabbagetown               2   \n",
       "36             First Canadian Place, Underground city               2   \n",
       "37                               Church and Wellesley               2   \n",
       "38  Business reply mail Processing Centre, South C...               2   \n",
       "\n",
       "   1st Most Common Venue 2nd Most Common Venue          3rd Most Common Venue  \\\n",
       "0            Coffee Shop                  Park                            Pub   \n",
       "1            Coffee Shop           Yoga Studio                          Diner   \n",
       "2         Clothing Store           Coffee Shop                           Café   \n",
       "3            Coffee Shop                  Café                   Cocktail Bar   \n",
       "5            Coffee Shop    Seafood Restaurant                   Cocktail Bar   \n",
       "6            Coffee Shop                  Café             Italian Restaurant   \n",
       "7          Grocery Store                  Café                           Park   \n",
       "8            Coffee Shop                  Café                          Hotel   \n",
       "9               Pharmacy                Bakery                           Park   \n",
       "10           Coffee Shop              Aquarium                          Hotel   \n",
       "11                   Bar           Coffee Shop          Vietnamese Restaurant   \n",
       "12      Greek Restaurant           Coffee Shop             Italian Restaurant   \n",
       "13           Coffee Shop                 Hotel                     Restaurant   \n",
       "14                  Café        Breakfast Spot                      Nightclub   \n",
       "15                  Park                   Gym               Sushi Restaurant   \n",
       "16           Coffee Shop            Restaurant                          Hotel   \n",
       "17           Coffee Shop                  Café                      Gastropub   \n",
       "20                  Park                 Hotel                 Breakfast Spot   \n",
       "22    Mexican Restaurant                  Café                Thai Restaurant   \n",
       "23           Coffee Shop        Clothing Store                    Yoga Studio   \n",
       "24        Sandwich Place                  Café                    Coffee Shop   \n",
       "25        Breakfast Spot             Gift Shop                   Dessert Shop   \n",
       "26        Sandwich Place          Dessert Shop                    Pizza Place   \n",
       "27                  Café             Bookstore                            Bar   \n",
       "28                  Café           Coffee Shop                            Pub   \n",
       "30    Mexican Restaurant                   Bar  Vegetarian / Vegan Restaurant   \n",
       "31           Coffee Shop           Pizza Place             Light Rail Station   \n",
       "32        Airport Lounge       Airport Service                       Boutique   \n",
       "34           Coffee Shop    Italian Restaurant                            Pub   \n",
       "35           Coffee Shop                  Café                    Pizza Place   \n",
       "36           Coffee Shop                  Café                            Gym   \n",
       "37           Coffee Shop   Japanese Restaurant                        Gay Bar   \n",
       "38                  Park           Pizza Place             Light Rail Station   \n",
       "\n",
       "        4th Most Common Venue        5th Most Common Venue  \\\n",
       "0                      Bakery                      Theater   \n",
       "1                  Restaurant        Portuguese Restaurant   \n",
       "2             Bubble Tea Shop          Japanese Restaurant   \n",
       "3                  Restaurant                     Beer Bar   \n",
       "5              Farmers Market                     Beer Bar   \n",
       "6              Sandwich Place                  Salad Place   \n",
       "7                 Candy Store           Italian Restaurant   \n",
       "8                         Gym                   Restaurant   \n",
       "9   Middle Eastern Restaurant                         Bank   \n",
       "10                       Café               Scenic Lookout   \n",
       "11                 Restaurant                         Café   \n",
       "12                 Restaurant               Ice Cream Shop   \n",
       "13                       Café          Japanese Restaurant   \n",
       "14                Coffee Shop                 Climbing Gym   \n",
       "15             Sandwich Place                 Liquor Store   \n",
       "16                       Café                          Gym   \n",
       "17        American Restaurant                      Brewery   \n",
       "20             Sandwich Place            Food & Drink Shop   \n",
       "22                        Bar                         Park   \n",
       "23                 Bagel Shop       Furniture / Home Store   \n",
       "24                  BBQ Joint               History Museum   \n",
       "25           Cuban Restaurant  Eastern European Restaurant   \n",
       "26                Coffee Shop           Italian Restaurant   \n",
       "27        Japanese Restaurant               Sandwich Place   \n",
       "28                Pizza Place             Sushi Restaurant   \n",
       "30                Coffee Shop                         Café   \n",
       "31               Liquor Store                   Restaurant   \n",
       "32            Harbor / Marina                Boat or Ferry   \n",
       "34                 Restaurant          Japanese Restaurant   \n",
       "35                 Restaurant           Italian Restaurant   \n",
       "36                      Hotel          Japanese Restaurant   \n",
       "37           Sushi Restaurant                   Restaurant   \n",
       "38                 Skate Park                Burrito Place   \n",
       "\n",
       "    6th Most Common Venue   7th Most Common Venue     8th Most Common Venue  \\\n",
       "0          Breakfast Spot                    Café         Electronics Store   \n",
       "1                    Park             Music Venue        Mexican Restaurant   \n",
       "2          Cosmetics Shop                   Hotel                 Bookstore   \n",
       "3               Gastropub     American Restaurant            Farmers Market   \n",
       "5              Restaurant             Cheese Shop                    Bakery   \n",
       "6         Bubble Tea Shop        Department Store              Burger Joint   \n",
       "7               Nightclub              Baby Store                Restaurant   \n",
       "8          Clothing Store         Thai Restaurant                       Bar   \n",
       "9                     Bar                    Café               Supermarket   \n",
       "10                Brewery              Restaurant       Fried Chicken Joint   \n",
       "11       Asian Restaurant             Men's Store          Cuban Restaurant   \n",
       "12              Bookstore  Furniture / Home Store                    Lounge   \n",
       "13     Seafood Restaurant             Salad Place       American Restaurant   \n",
       "14          Burrito Place              Restaurant        Italian Restaurant   \n",
       "15          Burrito Place              Restaurant        Italian Restaurant   \n",
       "16    American Restaurant           Deli / Bodega       Japanese Restaurant   \n",
       "17                 Bakery             Yoga Studio                       Bar   \n",
       "20                Dog Run            Dance Studio          Department Store   \n",
       "22    Fried Chicken Joint             Music Venue                     Diner   \n",
       "23         Ice Cream Shop    Fast Food Restaurant                     Diner   \n",
       "24           Liquor Store            Burger Joint         Indian Restaurant   \n",
       "25                Dog Run                     Bar        Italian Restaurant   \n",
       "26                   Café        Sushi Restaurant                       Gym   \n",
       "27                 Bakery             Yoga Studio                       Pub   \n",
       "28     Italian Restaurant             Yoga Studio              Gourmet Shop   \n",
       "30  Vietnamese Restaurant           Grocery Store              Dessert Shop   \n",
       "31                   Bank              Bagel Shop                       Pub   \n",
       "32    Rental Car Location                     Bar                     Plane   \n",
       "34               Beer Bar      Seafood Restaurant                     Hotel   \n",
       "35                 Market      Chinese Restaurant                      Park   \n",
       "36             Restaurant           Deli / Bodega               Salad Place   \n",
       "37                    Pub             Men's Store  Mediterranean Restaurant   \n",
       "38         Farmers Market    Fast Food Restaurant                   Butcher   \n",
       "\n",
       "        9th Most Common Venue     10th Most Common Venue  \n",
       "0                         Spa                 Beer Store  \n",
       "1          Italian Restaurant                 Hobby Shop  \n",
       "2                 Pizza Place  Middle Eastern Restaurant  \n",
       "3                       Hotel        Japanese Restaurant  \n",
       "5              Sandwich Place           Department Store  \n",
       "6         Japanese Restaurant            Thai Restaurant  \n",
       "7          Athletics & Sports                Coffee Shop  \n",
       "8                   Bookstore              Burrito Place  \n",
       "9                 Music Venue                    Brewery  \n",
       "10        Sporting Goods Shop             History Museum  \n",
       "11                Record Shop                Pizza Place  \n",
       "12                        Spa          Indian Restaurant  \n",
       "13                 Steakhouse                        Bar  \n",
       "14               Intersection                        Bar  \n",
       "15       Fast Food Restaurant          Fish & Chips Shop  \n",
       "16         Seafood Restaurant               Cocktail Bar  \n",
       "17             Ice Cream Shop                Fish Market  \n",
       "20       Gym / Fitness Center             Cosmetics Shop  \n",
       "22             Discount Store  Cajun / Creole Restaurant  \n",
       "23         Mexican Restaurant         Chinese Restaurant  \n",
       "24  Middle Eastern Restaurant                        Pub  \n",
       "25                 Restaurant              Movie Theater  \n",
       "26           Toy / Game Store           Greek Restaurant  \n",
       "27                   Beer Bar                 Beer Store  \n",
       "28                 Restaurant  Latin American Restaurant  \n",
       "30                     Bakery        Dumpling Restaurant  \n",
       "31           Sushi Restaurant        Fried Chicken Joint  \n",
       "32                Coffee Shop           Sculpture Garden  \n",
       "34                       Café                        Gym  \n",
       "35                     Bakery                        Pub  \n",
       "36         Seafood Restaurant           Asian Restaurant  \n",
       "37                      Hotel                Yoga Studio  \n",
       "38                 Restaurant           Recording Studio  "
      ],
      "text/html": "<div>\n<style scoped>\n    .dataframe tbody tr th:only-of-type {\n        vertical-align: middle;\n    }\n\n    .dataframe tbody tr th {\n        vertical-align: top;\n    }\n\n    .dataframe thead th {\n        text-align: right;\n    }\n</style>\n<table border=\"1\" class=\"dataframe\">\n  <thead>\n    <tr style=\"text-align: right;\">\n      <th></th>\n      <th>Neighbourhood</th>\n      <th>Cluster Labels</th>\n      <th>1st Most Common Venue</th>\n      <th>2nd Most Common Venue</th>\n      <th>3rd Most Common Venue</th>\n      <th>4th Most Common Venue</th>\n      <th>5th Most Common Venue</th>\n      <th>6th Most Common Venue</th>\n      <th>7th Most Common Venue</th>\n      <th>8th Most Common Venue</th>\n      <th>9th Most Common Venue</th>\n      <th>10th Most Common Venue</th>\n    </tr>\n  </thead>\n  <tbody>\n    <tr>\n      <th>0</th>\n      <td>Regent Park, Harbourfront</td>\n      <td>2</td>\n      <td>Coffee Shop</td>\n      <td>Park</td>\n      <td>Pub</td>\n      <td>Bakery</td>\n      <td>Theater</td>\n      <td>Breakfast Spot</td>\n      <td>Café</td>\n      <td>Electronics Store</td>\n      <td>Spa</td>\n      <td>Beer Store</td>\n    </tr>\n    <tr>\n      <th>1</th>\n      <td>Queen's Park, Ontario Provincial Government</td>\n      <td>2</td>\n      <td>Coffee Shop</td>\n      <td>Yoga Studio</td>\n      <td>Diner</td>\n      <td>Restaurant</td>\n      <td>Portuguese Restaurant</td>\n      <td>Park</td>\n      <td>Music Venue</td>\n      <td>Mexican Restaurant</td>\n      <td>Italian Restaurant</td>\n      <td>Hobby Shop</td>\n    </tr>\n    <tr>\n      <th>2</th>\n      <td>Garden District, Ryerson</td>\n      <td>2</td>\n      <td>Clothing Store</td>\n      <td>Coffee Shop</td>\n      <td>Café</td>\n      <td>Bubble Tea Shop</td>\n      <td>Japanese Restaurant</td>\n      <td>Cosmetics Shop</td>\n      <td>Hotel</td>\n      <td>Bookstore</td>\n      <td>Pizza Place</td>\n      <td>Middle Eastern Restaurant</td>\n    </tr>\n    <tr>\n      <th>3</th>\n      <td>St. James Town</td>\n      <td>2</td>\n      <td>Coffee Shop</td>\n      <td>Café</td>\n      <td>Cocktail Bar</td>\n      <td>Restaurant</td>\n      <td>Beer Bar</td>\n      <td>Gastropub</td>\n      <td>American Restaurant</td>\n      <td>Farmers Market</td>\n      <td>Hotel</td>\n      <td>Japanese Restaurant</td>\n    </tr>\n    <tr>\n      <th>5</th>\n      <td>Berczy Park</td>\n      <td>2</td>\n      <td>Coffee Shop</td>\n      <td>Seafood Restaurant</td>\n      <td>Cocktail Bar</td>\n      <td>Farmers Market</td>\n      <td>Beer Bar</td>\n      <td>Restaurant</td>\n      <td>Cheese Shop</td>\n      <td>Bakery</td>\n      <td>Sandwich Place</td>\n      <td>Department Store</td>\n    </tr>\n    <tr>\n      <th>6</th>\n      <td>Central Bay Street</td>\n      <td>2</td>\n      <td>Coffee Shop</td>\n      <td>Café</td>\n      <td>Italian Restaurant</td>\n      <td>Sandwich Place</td>\n      <td>Salad Place</td>\n      <td>Bubble Tea Shop</td>\n      <td>Department Store</td>\n      <td>Burger Joint</td>\n      <td>Japanese Restaurant</td>\n      <td>Thai Restaurant</td>\n    </tr>\n    <tr>\n      <th>7</th>\n      <td>Christie</td>\n      <td>2</td>\n      <td>Grocery Store</td>\n      <td>Café</td>\n      <td>Park</td>\n      <td>Candy Store</td>\n      <td>Italian Restaurant</td>\n      <td>Nightclub</td>\n      <td>Baby Store</td>\n      <td>Restaurant</td>\n      <td>Athletics &amp; Sports</td>\n      <td>Coffee Shop</td>\n    </tr>\n    <tr>\n      <th>8</th>\n      <td>Richmond, Adelaide, King</td>\n      <td>2</td>\n      <td>Coffee Shop</td>\n      <td>Café</td>\n      <td>Hotel</td>\n      <td>Gym</td>\n      <td>Restaurant</td>\n      <td>Clothing Store</td>\n      <td>Thai Restaurant</td>\n      <td>Bar</td>\n      <td>Bookstore</td>\n      <td>Burrito Place</td>\n    </tr>\n    <tr>\n      <th>9</th>\n      <td>Dufferin, Dovercourt Village</td>\n      <td>2</td>\n      <td>Pharmacy</td>\n      <td>Bakery</td>\n      <td>Park</td>\n      <td>Middle Eastern Restaurant</td>\n      <td>Bank</td>\n      <td>Bar</td>\n      <td>Café</td>\n      <td>Supermarket</td>\n      <td>Music Venue</td>\n      <td>Brewery</td>\n    </tr>\n    <tr>\n      <th>10</th>\n      <td>Harbourfront East, Union Station, Toronto Islands</td>\n      <td>2</td>\n      <td>Coffee Shop</td>\n      <td>Aquarium</td>\n      <td>Hotel</td>\n      <td>Café</td>\n      <td>Scenic Lookout</td>\n      <td>Brewery</td>\n      <td>Restaurant</td>\n      <td>Fried Chicken Joint</td>\n      <td>Sporting Goods Shop</td>\n      <td>History Museum</td>\n    </tr>\n    <tr>\n      <th>11</th>\n      <td>Little Portugal, Trinity</td>\n      <td>2</td>\n      <td>Bar</td>\n      <td>Coffee Shop</td>\n      <td>Vietnamese Restaurant</td>\n      <td>Restaurant</td>\n      <td>Café</td>\n      <td>Asian Restaurant</td>\n      <td>Men's Store</td>\n      <td>Cuban Restaurant</td>\n      <td>Record Shop</td>\n      <td>Pizza Place</td>\n    </tr>\n    <tr>\n      <th>12</th>\n      <td>The Danforth West, Riverdale</td>\n      <td>2</td>\n      <td>Greek Restaurant</td>\n      <td>Coffee Shop</td>\n      <td>Italian Restaurant</td>\n      <td>Restaurant</td>\n      <td>Ice Cream Shop</td>\n      <td>Bookstore</td>\n      <td>Furniture / Home Store</td>\n      <td>Lounge</td>\n      <td>Spa</td>\n      <td>Indian Restaurant</td>\n    </tr>\n    <tr>\n      <th>13</th>\n      <td>Toronto Dominion Centre, Design Exchange</td>\n      <td>2</td>\n      <td>Coffee Shop</td>\n      <td>Hotel</td>\n      <td>Restaurant</td>\n      <td>Café</td>\n      <td>Japanese Restaurant</td>\n      <td>Seafood Restaurant</td>\n      <td>Salad Place</td>\n      <td>American Restaurant</td>\n      <td>Steakhouse</td>\n      <td>Bar</td>\n    </tr>\n    <tr>\n      <th>14</th>\n      <td>Brockton, Parkdale Village, Exhibition Place</td>\n      <td>2</td>\n      <td>Café</td>\n      <td>Breakfast Spot</td>\n      <td>Nightclub</td>\n      <td>Coffee Shop</td>\n      <td>Climbing Gym</td>\n      <td>Burrito Place</td>\n      <td>Restaurant</td>\n      <td>Italian Restaurant</td>\n      <td>Intersection</td>\n      <td>Bar</td>\n    </tr>\n    <tr>\n      <th>15</th>\n      <td>India Bazaar, The Beaches West</td>\n      <td>2</td>\n      <td>Park</td>\n      <td>Gym</td>\n      <td>Sushi Restaurant</td>\n      <td>Sandwich Place</td>\n      <td>Liquor Store</td>\n      <td>Burrito Place</td>\n      <td>Restaurant</td>\n      <td>Italian Restaurant</td>\n      <td>Fast Food Restaurant</td>\n      <td>Fish &amp; Chips Shop</td>\n    </tr>\n    <tr>\n      <th>16</th>\n      <td>Commerce Court, Victoria Hotel</td>\n      <td>2</td>\n      <td>Coffee Shop</td>\n      <td>Restaurant</td>\n      <td>Hotel</td>\n      <td>Café</td>\n      <td>Gym</td>\n      <td>American Restaurant</td>\n      <td>Deli / Bodega</td>\n      <td>Japanese Restaurant</td>\n      <td>Seafood Restaurant</td>\n      <td>Cocktail Bar</td>\n    </tr>\n    <tr>\n      <th>17</th>\n      <td>Studio District</td>\n      <td>2</td>\n      <td>Coffee Shop</td>\n      <td>Café</td>\n      <td>Gastropub</td>\n      <td>American Restaurant</td>\n      <td>Brewery</td>\n      <td>Bakery</td>\n      <td>Yoga Studio</td>\n      <td>Bar</td>\n      <td>Ice Cream Shop</td>\n      <td>Fish Market</td>\n    </tr>\n    <tr>\n      <th>20</th>\n      <td>Davisville North</td>\n      <td>2</td>\n      <td>Park</td>\n      <td>Hotel</td>\n      <td>Breakfast Spot</td>\n      <td>Sandwich Place</td>\n      <td>Food &amp; Drink Shop</td>\n      <td>Dog Run</td>\n      <td>Dance Studio</td>\n      <td>Department Store</td>\n      <td>Gym / Fitness Center</td>\n      <td>Cosmetics Shop</td>\n    </tr>\n    <tr>\n      <th>22</th>\n      <td>High Park, The Junction South</td>\n      <td>2</td>\n      <td>Mexican Restaurant</td>\n      <td>Café</td>\n      <td>Thai Restaurant</td>\n      <td>Bar</td>\n      <td>Park</td>\n      <td>Fried Chicken Joint</td>\n      <td>Music Venue</td>\n      <td>Diner</td>\n      <td>Discount Store</td>\n      <td>Cajun / Creole Restaurant</td>\n    </tr>\n    <tr>\n      <th>23</th>\n      <td>North Toronto West, Lawrence Park</td>\n      <td>2</td>\n      <td>Coffee Shop</td>\n      <td>Clothing Store</td>\n      <td>Yoga Studio</td>\n      <td>Bagel Shop</td>\n      <td>Furniture / Home Store</td>\n      <td>Ice Cream Shop</td>\n      <td>Fast Food Restaurant</td>\n      <td>Diner</td>\n      <td>Mexican Restaurant</td>\n      <td>Chinese Restaurant</td>\n    </tr>\n    <tr>\n      <th>24</th>\n      <td>The Annex, North Midtown, Yorkville</td>\n      <td>2</td>\n      <td>Sandwich Place</td>\n      <td>Café</td>\n      <td>Coffee Shop</td>\n      <td>BBQ Joint</td>\n      <td>History Museum</td>\n      <td>Liquor Store</td>\n      <td>Burger Joint</td>\n      <td>Indian Restaurant</td>\n      <td>Middle Eastern Restaurant</td>\n      <td>Pub</td>\n    </tr>\n    <tr>\n      <th>25</th>\n      <td>Parkdale, Roncesvalles</td>\n      <td>2</td>\n      <td>Breakfast Spot</td>\n      <td>Gift Shop</td>\n      <td>Dessert Shop</td>\n      <td>Cuban Restaurant</td>\n      <td>Eastern European Restaurant</td>\n      <td>Dog Run</td>\n      <td>Bar</td>\n      <td>Italian Restaurant</td>\n      <td>Restaurant</td>\n      <td>Movie Theater</td>\n    </tr>\n    <tr>\n      <th>26</th>\n      <td>Davisville</td>\n      <td>2</td>\n      <td>Sandwich Place</td>\n      <td>Dessert Shop</td>\n      <td>Pizza Place</td>\n      <td>Coffee Shop</td>\n      <td>Italian Restaurant</td>\n      <td>Café</td>\n      <td>Sushi Restaurant</td>\n      <td>Gym</td>\n      <td>Toy / Game Store</td>\n      <td>Greek Restaurant</td>\n    </tr>\n    <tr>\n      <th>27</th>\n      <td>University of Toronto, Harbord</td>\n      <td>2</td>\n      <td>Café</td>\n      <td>Bookstore</td>\n      <td>Bar</td>\n      <td>Japanese Restaurant</td>\n      <td>Sandwich Place</td>\n      <td>Bakery</td>\n      <td>Yoga Studio</td>\n      <td>Pub</td>\n      <td>Beer Bar</td>\n      <td>Beer Store</td>\n    </tr>\n    <tr>\n      <th>28</th>\n      <td>Runnymede, Swansea</td>\n      <td>2</td>\n      <td>Café</td>\n      <td>Coffee Shop</td>\n      <td>Pub</td>\n      <td>Pizza Place</td>\n      <td>Sushi Restaurant</td>\n      <td>Italian Restaurant</td>\n      <td>Yoga Studio</td>\n      <td>Gourmet Shop</td>\n      <td>Restaurant</td>\n      <td>Latin American Restaurant</td>\n    </tr>\n    <tr>\n      <th>30</th>\n      <td>Kensington Market, Chinatown, Grange Park</td>\n      <td>2</td>\n      <td>Mexican Restaurant</td>\n      <td>Bar</td>\n      <td>Vegetarian / Vegan Restaurant</td>\n      <td>Coffee Shop</td>\n      <td>Café</td>\n      <td>Vietnamese Restaurant</td>\n      <td>Grocery Store</td>\n      <td>Dessert Shop</td>\n      <td>Bakery</td>\n      <td>Dumpling Restaurant</td>\n    </tr>\n    <tr>\n      <th>31</th>\n      <td>Summerhill West, Rathnelly, South Hill, Forest...</td>\n      <td>2</td>\n      <td>Coffee Shop</td>\n      <td>Pizza Place</td>\n      <td>Light Rail Station</td>\n      <td>Liquor Store</td>\n      <td>Restaurant</td>\n      <td>Bank</td>\n      <td>Bagel Shop</td>\n      <td>Pub</td>\n      <td>Sushi Restaurant</td>\n      <td>Fried Chicken Joint</td>\n    </tr>\n    <tr>\n      <th>32</th>\n      <td>CN Tower, King and Spadina, Railway Lands, Har...</td>\n      <td>2</td>\n      <td>Airport Lounge</td>\n      <td>Airport Service</td>\n      <td>Boutique</td>\n      <td>Harbor / Marina</td>\n      <td>Boat or Ferry</td>\n      <td>Rental Car Location</td>\n      <td>Bar</td>\n      <td>Plane</td>\n      <td>Coffee Shop</td>\n      <td>Sculpture Garden</td>\n    </tr>\n    <tr>\n      <th>34</th>\n      <td>Stn A PO Boxes</td>\n      <td>2</td>\n      <td>Coffee Shop</td>\n      <td>Italian Restaurant</td>\n      <td>Pub</td>\n      <td>Restaurant</td>\n      <td>Japanese Restaurant</td>\n      <td>Beer Bar</td>\n      <td>Seafood Restaurant</td>\n      <td>Hotel</td>\n      <td>Café</td>\n      <td>Gym</td>\n    </tr>\n    <tr>\n      <th>35</th>\n      <td>St. James Town, Cabbagetown</td>\n      <td>2</td>\n      <td>Coffee Shop</td>\n      <td>Café</td>\n      <td>Pizza Place</td>\n      <td>Restaurant</td>\n      <td>Italian Restaurant</td>\n      <td>Market</td>\n      <td>Chinese Restaurant</td>\n      <td>Park</td>\n      <td>Bakery</td>\n      <td>Pub</td>\n    </tr>\n    <tr>\n      <th>36</th>\n      <td>First Canadian Place, Underground city</td>\n      <td>2</td>\n      <td>Coffee Shop</td>\n      <td>Café</td>\n      <td>Gym</td>\n      <td>Hotel</td>\n      <td>Japanese Restaurant</td>\n      <td>Restaurant</td>\n      <td>Deli / Bodega</td>\n      <td>Salad Place</td>\n      <td>Seafood Restaurant</td>\n      <td>Asian Restaurant</td>\n    </tr>\n    <tr>\n      <th>37</th>\n      <td>Church and Wellesley</td>\n      <td>2</td>\n      <td>Coffee Shop</td>\n      <td>Japanese Restaurant</td>\n      <td>Gay Bar</td>\n      <td>Sushi Restaurant</td>\n      <td>Restaurant</td>\n      <td>Pub</td>\n      <td>Men's Store</td>\n      <td>Mediterranean Restaurant</td>\n      <td>Hotel</td>\n      <td>Yoga Studio</td>\n    </tr>\n    <tr>\n      <th>38</th>\n      <td>Business reply mail Processing Centre, South C...</td>\n      <td>2</td>\n      <td>Park</td>\n      <td>Pizza Place</td>\n      <td>Light Rail Station</td>\n      <td>Skate Park</td>\n      <td>Burrito Place</td>\n      <td>Farmers Market</td>\n      <td>Fast Food Restaurant</td>\n      <td>Butcher</td>\n      <td>Restaurant</td>\n      <td>Recording Studio</td>\n    </tr>\n  </tbody>\n</table>\n</div>"
     },
     "metadata": {},
     "execution_count": 45
    }
   ],
   "source": [
    "toronto_merged.loc[toronto_merged['Cluster Labels'] == 2, toronto_merged.columns[[1] + list(range(4, toronto_merged.shape[1]))]]"
   ]
  },
  {
   "source": [
    "#### Cluster 4"
   ],
   "cell_type": "markdown",
   "metadata": {}
  },
  {
   "cell_type": "code",
   "execution_count": 46,
   "metadata": {},
   "outputs": [
    {
     "output_type": "execute_result",
     "data": {
      "text/plain": [
       "  Neighbourhood  Cluster Labels 1st Most Common Venue 2nd Most Common Venue  \\\n",
       "4   The Beaches               3          Neighborhood                   Pub   \n",
       "\n",
       "  3rd Most Common Venue 4th Most Common Venue 5th Most Common Venue  \\\n",
       "4     Health Food Store                 Trail           Yoga Studio   \n",
       "\n",
       "  6th Most Common Venue 7th Most Common Venue 8th Most Common Venue  \\\n",
       "4    Dim Sum Restaurant                 Diner        Discount Store   \n",
       "\n",
       "  9th Most Common Venue 10th Most Common Venue  \n",
       "4   Distribution Center       Doner Restaurant  "
      ],
      "text/html": "<div>\n<style scoped>\n    .dataframe tbody tr th:only-of-type {\n        vertical-align: middle;\n    }\n\n    .dataframe tbody tr th {\n        vertical-align: top;\n    }\n\n    .dataframe thead th {\n        text-align: right;\n    }\n</style>\n<table border=\"1\" class=\"dataframe\">\n  <thead>\n    <tr style=\"text-align: right;\">\n      <th></th>\n      <th>Neighbourhood</th>\n      <th>Cluster Labels</th>\n      <th>1st Most Common Venue</th>\n      <th>2nd Most Common Venue</th>\n      <th>3rd Most Common Venue</th>\n      <th>4th Most Common Venue</th>\n      <th>5th Most Common Venue</th>\n      <th>6th Most Common Venue</th>\n      <th>7th Most Common Venue</th>\n      <th>8th Most Common Venue</th>\n      <th>9th Most Common Venue</th>\n      <th>10th Most Common Venue</th>\n    </tr>\n  </thead>\n  <tbody>\n    <tr>\n      <th>4</th>\n      <td>The Beaches</td>\n      <td>3</td>\n      <td>Neighborhood</td>\n      <td>Pub</td>\n      <td>Health Food Store</td>\n      <td>Trail</td>\n      <td>Yoga Studio</td>\n      <td>Dim Sum Restaurant</td>\n      <td>Diner</td>\n      <td>Discount Store</td>\n      <td>Distribution Center</td>\n      <td>Doner Restaurant</td>\n    </tr>\n  </tbody>\n</table>\n</div>"
     },
     "metadata": {},
     "execution_count": 46
    }
   ],
   "source": [
    "toronto_merged.loc[toronto_merged['Cluster Labels'] == 3, toronto_merged.columns[[1] + list(range(4, toronto_merged.shape[1]))]]"
   ]
  },
  {
   "source": [
    "#### Cluster 5"
   ],
   "cell_type": "markdown",
   "metadata": {}
  },
  {
   "cell_type": "code",
   "execution_count": 47,
   "metadata": {},
   "outputs": [
    {
     "output_type": "execute_result",
     "data": {
      "text/plain": [
       "   Neighbourhood  Cluster Labels 1st Most Common Venue 2nd Most Common Venue  \\\n",
       "19      Roselawn               4           Music Venue                Garden   \n",
       "\n",
       "   3rd Most Common Venue 4th Most Common Venue 5th Most Common Venue  \\\n",
       "19           Yoga Studio      Department Store           Escape Room   \n",
       "\n",
       "   6th Most Common Venue        7th Most Common Venue 8th Most Common Venue  \\\n",
       "19     Electronics Store  Eastern European Restaurant   Dumpling Restaurant   \n",
       "\n",
       "   9th Most Common Venue 10th Most Common Venue  \n",
       "19            Donut Shop       Doner Restaurant  "
      ],
      "text/html": "<div>\n<style scoped>\n    .dataframe tbody tr th:only-of-type {\n        vertical-align: middle;\n    }\n\n    .dataframe tbody tr th {\n        vertical-align: top;\n    }\n\n    .dataframe thead th {\n        text-align: right;\n    }\n</style>\n<table border=\"1\" class=\"dataframe\">\n  <thead>\n    <tr style=\"text-align: right;\">\n      <th></th>\n      <th>Neighbourhood</th>\n      <th>Cluster Labels</th>\n      <th>1st Most Common Venue</th>\n      <th>2nd Most Common Venue</th>\n      <th>3rd Most Common Venue</th>\n      <th>4th Most Common Venue</th>\n      <th>5th Most Common Venue</th>\n      <th>6th Most Common Venue</th>\n      <th>7th Most Common Venue</th>\n      <th>8th Most Common Venue</th>\n      <th>9th Most Common Venue</th>\n      <th>10th Most Common Venue</th>\n    </tr>\n  </thead>\n  <tbody>\n    <tr>\n      <th>19</th>\n      <td>Roselawn</td>\n      <td>4</td>\n      <td>Music Venue</td>\n      <td>Garden</td>\n      <td>Yoga Studio</td>\n      <td>Department Store</td>\n      <td>Escape Room</td>\n      <td>Electronics Store</td>\n      <td>Eastern European Restaurant</td>\n      <td>Dumpling Restaurant</td>\n      <td>Donut Shop</td>\n      <td>Doner Restaurant</td>\n    </tr>\n  </tbody>\n</table>\n</div>"
     },
     "metadata": {},
     "execution_count": 47
    }
   ],
   "source": [
    "toronto_merged.loc[toronto_merged['Cluster Labels'] == 4, toronto_merged.columns[[1] + list(range(4, toronto_merged.shape[1]))]]"
   ]
  }
 ]
}