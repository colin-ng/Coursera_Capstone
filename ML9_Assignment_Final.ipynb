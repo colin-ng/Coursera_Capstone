{
 "metadata": {
  "language_info": {
   "codemirror_mode": {
    "name": "ipython",
    "version": 3
   },
   "file_extension": ".py",
   "mimetype": "text/x-python",
   "name": "python",
   "nbconvert_exporter": "python",
   "pygments_lexer": "ipython3",
   "version": "3.8.5-final"
  },
  "orig_nbformat": 2,
  "kernelspec": {
   "name": "python3",
   "display_name": "Python 3"
  }
 },
 "nbformat": 4,
 "nbformat_minor": 2,
 "cells": [
  {
   "source": [
    "# Peer-Graded Assignment: Segmenting and Clustering Neighborhoods in Toronto\n",
    "\n",
    "## This project is about exploring and clustering neighbourhoods in Toronto, Canada.\n",
    "## Web scraping technique is used to read a HTML table containing postal code, borough and neighbourhoods from the Wiki page https://en.wikipedia.org/wiki/List_of_postal_codes_of_Canada:_M."
   ],
   "cell_type": "markdown",
   "metadata": {}
  },
  {
   "source": [
    "## Imports"
   ],
   "cell_type": "markdown",
   "metadata": {}
  },
  {
   "cell_type": "code",
   "execution_count": 1,
   "metadata": {},
   "outputs": [],
   "source": [
    "import numpy as np\n",
    "import pandas as pd\n",
    "\n",
    "import requests # library to handle requests\n",
    "import json # library to handle JSON files\n",
    "from pandas.io.json import json_normalize # tranform JSON file into a pandas dataframe\n",
    "\n",
    "from geopy.geocoders import Nominatim # convert an address into coordinates\n",
    "\n",
    "# Matplotlib and associated plotting modules\n",
    "import matplotlib.cm as cm\n",
    "import matplotlib.colors as colors\n",
    "\n",
    "import folium # map rendering library\n",
    "\n",
    "from sklearn.cluster import KMeans # import K-Means algorithm\n",
    "\n",
    "%matplotlib inline"
   ]
  },
  {
   "source": [
    "## Get the data"
   ],
   "cell_type": "markdown",
   "metadata": {}
  },
  {
   "cell_type": "code",
   "execution_count": 2,
   "metadata": {},
   "outputs": [
    {
     "output_type": "execute_result",
     "data": {
      "text/plain": [
       "3"
      ]
     },
     "metadata": {},
     "execution_count": 2
    }
   ],
   "source": [
    "url = 'https://en.wikipedia.org/wiki/List_of_postal_codes_of_Canada:_M'\n",
    "tbl = pd.read_html(url)\n",
    "len(tbl)"
   ]
  },
  {
   "cell_type": "code",
   "execution_count": 3,
   "metadata": {},
   "outputs": [
    {
     "output_type": "execute_result",
     "data": {
      "text/plain": [
       "  Postal Code           Borough              Neighbourhood\n",
       "0         M1A      Not assigned               Not assigned\n",
       "1         M2A      Not assigned               Not assigned\n",
       "2         M3A        North York                  Parkwoods\n",
       "3         M4A        North York           Victoria Village\n",
       "4         M5A  Downtown Toronto  Regent Park, Harbourfront"
      ],
      "text/html": "<div>\n<style scoped>\n    .dataframe tbody tr th:only-of-type {\n        vertical-align: middle;\n    }\n\n    .dataframe tbody tr th {\n        vertical-align: top;\n    }\n\n    .dataframe thead th {\n        text-align: right;\n    }\n</style>\n<table border=\"1\" class=\"dataframe\">\n  <thead>\n    <tr style=\"text-align: right;\">\n      <th></th>\n      <th>Postal Code</th>\n      <th>Borough</th>\n      <th>Neighbourhood</th>\n    </tr>\n  </thead>\n  <tbody>\n    <tr>\n      <th>0</th>\n      <td>M1A</td>\n      <td>Not assigned</td>\n      <td>Not assigned</td>\n    </tr>\n    <tr>\n      <th>1</th>\n      <td>M2A</td>\n      <td>Not assigned</td>\n      <td>Not assigned</td>\n    </tr>\n    <tr>\n      <th>2</th>\n      <td>M3A</td>\n      <td>North York</td>\n      <td>Parkwoods</td>\n    </tr>\n    <tr>\n      <th>3</th>\n      <td>M4A</td>\n      <td>North York</td>\n      <td>Victoria Village</td>\n    </tr>\n    <tr>\n      <th>4</th>\n      <td>M5A</td>\n      <td>Downtown Toronto</td>\n      <td>Regent Park, Harbourfront</td>\n    </tr>\n  </tbody>\n</table>\n</div>"
     },
     "metadata": {},
     "execution_count": 3
    }
   ],
   "source": [
    "df = tbl[0]\n",
    "df.head()"
   ]
  },
  {
   "source": [
    "## Data Wrangling"
   ],
   "cell_type": "markdown",
   "metadata": {}
  },
  {
   "source": [
    "# Display number of rows and columns\n",
    "df.shape"
   ],
   "cell_type": "code",
   "metadata": {},
   "execution_count": 4,
   "outputs": [
    {
     "output_type": "execute_result",
     "data": {
      "text/plain": [
       "(180, 3)"
      ]
     },
     "metadata": {},
     "execution_count": 4
    }
   ]
  },
  {
   "source": [
    "### Remove rows with that the borough is having 'Not assigned'."
   ],
   "cell_type": "markdown",
   "metadata": {}
  },
  {
   "cell_type": "code",
   "execution_count": 5,
   "metadata": {},
   "outputs": [],
   "source": [
    "df.drop(df[df['Borough'] == 'Not assigned'].index, axis = 0, inplace = True)"
   ]
  },
  {
   "source": [
    "### To double check that all rows which borough is 'Not assigned' are removed."
   ],
   "cell_type": "markdown",
   "metadata": {}
  },
  {
   "cell_type": "code",
   "execution_count": 6,
   "metadata": {},
   "outputs": [
    {
     "output_type": "execute_result",
     "data": {
      "text/plain": [
       "Postal Code      False\n",
       "Borough          False\n",
       "Neighbourhood    False\n",
       "dtype: bool"
      ]
     },
     "metadata": {},
     "execution_count": 6
    }
   ],
   "source": [
    "df[df['Borough'] == 'Not assigned'].any()"
   ]
  },
  {
   "source": [
    "### Check if there's duplicated 'Postal Code' row."
   ],
   "cell_type": "markdown",
   "metadata": {}
  },
  {
   "cell_type": "code",
   "execution_count": 7,
   "metadata": {},
   "outputs": [
    {
     "output_type": "execute_result",
     "data": {
      "text/plain": [
       "False"
      ]
     },
     "metadata": {},
     "execution_count": 7
    }
   ],
   "source": [
    "df['Postal Code'].duplicated().any()"
   ]
  },
  {
   "source": [
    "### Display number of rows and columns after the dataframe is cleaned."
   ],
   "cell_type": "markdown",
   "metadata": {}
  },
  {
   "cell_type": "code",
   "execution_count": 8,
   "metadata": {},
   "outputs": [],
   "source": [
    "df.reset_index(drop = True, inplace = True)"
   ]
  },
  {
   "cell_type": "code",
   "execution_count": 9,
   "metadata": {},
   "outputs": [
    {
     "output_type": "execute_result",
     "data": {
      "text/plain": [
       "   Postal Code           Borough  \\\n",
       "0          M3A        North York   \n",
       "1          M4A        North York   \n",
       "2          M5A  Downtown Toronto   \n",
       "3          M6A        North York   \n",
       "4          M7A  Downtown Toronto   \n",
       "5          M9A         Etobicoke   \n",
       "6          M1B       Scarborough   \n",
       "7          M3B        North York   \n",
       "8          M4B         East York   \n",
       "9          M5B  Downtown Toronto   \n",
       "10         M6B        North York   \n",
       "11         M9B         Etobicoke   \n",
       "\n",
       "                                        Neighbourhood  \n",
       "0                                           Parkwoods  \n",
       "1                                    Victoria Village  \n",
       "2                           Regent Park, Harbourfront  \n",
       "3                    Lawrence Manor, Lawrence Heights  \n",
       "4         Queen's Park, Ontario Provincial Government  \n",
       "5             Islington Avenue, Humber Valley Village  \n",
       "6                                      Malvern, Rouge  \n",
       "7                                           Don Mills  \n",
       "8                     Parkview Hill, Woodbine Gardens  \n",
       "9                            Garden District, Ryerson  \n",
       "10                                          Glencairn  \n",
       "11  West Deane Park, Princess Gardens, Martin Grov...  "
      ],
      "text/html": "<div>\n<style scoped>\n    .dataframe tbody tr th:only-of-type {\n        vertical-align: middle;\n    }\n\n    .dataframe tbody tr th {\n        vertical-align: top;\n    }\n\n    .dataframe thead th {\n        text-align: right;\n    }\n</style>\n<table border=\"1\" class=\"dataframe\">\n  <thead>\n    <tr style=\"text-align: right;\">\n      <th></th>\n      <th>Postal Code</th>\n      <th>Borough</th>\n      <th>Neighbourhood</th>\n    </tr>\n  </thead>\n  <tbody>\n    <tr>\n      <th>0</th>\n      <td>M3A</td>\n      <td>North York</td>\n      <td>Parkwoods</td>\n    </tr>\n    <tr>\n      <th>1</th>\n      <td>M4A</td>\n      <td>North York</td>\n      <td>Victoria Village</td>\n    </tr>\n    <tr>\n      <th>2</th>\n      <td>M5A</td>\n      <td>Downtown Toronto</td>\n      <td>Regent Park, Harbourfront</td>\n    </tr>\n    <tr>\n      <th>3</th>\n      <td>M6A</td>\n      <td>North York</td>\n      <td>Lawrence Manor, Lawrence Heights</td>\n    </tr>\n    <tr>\n      <th>4</th>\n      <td>M7A</td>\n      <td>Downtown Toronto</td>\n      <td>Queen's Park, Ontario Provincial Government</td>\n    </tr>\n    <tr>\n      <th>5</th>\n      <td>M9A</td>\n      <td>Etobicoke</td>\n      <td>Islington Avenue, Humber Valley Village</td>\n    </tr>\n    <tr>\n      <th>6</th>\n      <td>M1B</td>\n      <td>Scarborough</td>\n      <td>Malvern, Rouge</td>\n    </tr>\n    <tr>\n      <th>7</th>\n      <td>M3B</td>\n      <td>North York</td>\n      <td>Don Mills</td>\n    </tr>\n    <tr>\n      <th>8</th>\n      <td>M4B</td>\n      <td>East York</td>\n      <td>Parkview Hill, Woodbine Gardens</td>\n    </tr>\n    <tr>\n      <th>9</th>\n      <td>M5B</td>\n      <td>Downtown Toronto</td>\n      <td>Garden District, Ryerson</td>\n    </tr>\n    <tr>\n      <th>10</th>\n      <td>M6B</td>\n      <td>North York</td>\n      <td>Glencairn</td>\n    </tr>\n    <tr>\n      <th>11</th>\n      <td>M9B</td>\n      <td>Etobicoke</td>\n      <td>West Deane Park, Princess Gardens, Martin Grov...</td>\n    </tr>\n  </tbody>\n</table>\n</div>"
     },
     "metadata": {},
     "execution_count": 9
    }
   ],
   "source": [
    "df.head(12)"
   ]
  },
  {
   "cell_type": "code",
   "execution_count": 10,
   "metadata": {},
   "outputs": [
    {
     "output_type": "execute_result",
     "data": {
      "text/plain": [
       "(103, 3)"
      ]
     },
     "metadata": {},
     "execution_count": 10
    }
   ],
   "source": [
    "df.shape"
   ]
  },
  {
   "source": [
    "### Get coorindates of all postal codes in the dataframe."
   ],
   "cell_type": "markdown",
   "metadata": {}
  },
  {
   "cell_type": "code",
   "execution_count": 11,
   "metadata": {},
   "outputs": [
    {
     "output_type": "execute_result",
     "data": {
      "text/plain": [
       "  Postal Code   Latitude  Longitude\n",
       "0         M1B  43.806686 -79.194353\n",
       "1         M1C  43.784535 -79.160497\n",
       "2         M1E  43.763573 -79.188711\n",
       "3         M1G  43.770992 -79.216917\n",
       "4         M1H  43.773136 -79.239476"
      ],
      "text/html": "<div>\n<style scoped>\n    .dataframe tbody tr th:only-of-type {\n        vertical-align: middle;\n    }\n\n    .dataframe tbody tr th {\n        vertical-align: top;\n    }\n\n    .dataframe thead th {\n        text-align: right;\n    }\n</style>\n<table border=\"1\" class=\"dataframe\">\n  <thead>\n    <tr style=\"text-align: right;\">\n      <th></th>\n      <th>Postal Code</th>\n      <th>Latitude</th>\n      <th>Longitude</th>\n    </tr>\n  </thead>\n  <tbody>\n    <tr>\n      <th>0</th>\n      <td>M1B</td>\n      <td>43.806686</td>\n      <td>-79.194353</td>\n    </tr>\n    <tr>\n      <th>1</th>\n      <td>M1C</td>\n      <td>43.784535</td>\n      <td>-79.160497</td>\n    </tr>\n    <tr>\n      <th>2</th>\n      <td>M1E</td>\n      <td>43.763573</td>\n      <td>-79.188711</td>\n    </tr>\n    <tr>\n      <th>3</th>\n      <td>M1G</td>\n      <td>43.770992</td>\n      <td>-79.216917</td>\n    </tr>\n    <tr>\n      <th>4</th>\n      <td>M1H</td>\n      <td>43.773136</td>\n      <td>-79.239476</td>\n    </tr>\n  </tbody>\n</table>\n</div>"
     },
     "metadata": {},
     "execution_count": 11
    }
   ],
   "source": [
    "df1 = pd.read_csv('Geospatial_Coordinates.csv')\n",
    "df1.head()"
   ]
  },
  {
   "source": [
    "### Merge dataframes to get the coorindates for all postal codes."
   ],
   "cell_type": "markdown",
   "metadata": {}
  },
  {
   "cell_type": "code",
   "execution_count": 12,
   "metadata": {},
   "outputs": [
    {
     "output_type": "execute_result",
     "data": {
      "text/plain": [
       "   Postal Code           Borough  \\\n",
       "0          M3A        North York   \n",
       "1          M4A        North York   \n",
       "2          M5A  Downtown Toronto   \n",
       "3          M6A        North York   \n",
       "4          M7A  Downtown Toronto   \n",
       "5          M9A         Etobicoke   \n",
       "6          M1B       Scarborough   \n",
       "7          M3B        North York   \n",
       "8          M4B         East York   \n",
       "9          M5B  Downtown Toronto   \n",
       "10         M6B        North York   \n",
       "11         M9B         Etobicoke   \n",
       "\n",
       "                                        Neighbourhood   Latitude  Longitude  \n",
       "0                                           Parkwoods  43.753259 -79.329656  \n",
       "1                                    Victoria Village  43.725882 -79.315572  \n",
       "2                           Regent Park, Harbourfront  43.654260 -79.360636  \n",
       "3                    Lawrence Manor, Lawrence Heights  43.718518 -79.464763  \n",
       "4         Queen's Park, Ontario Provincial Government  43.662301 -79.389494  \n",
       "5             Islington Avenue, Humber Valley Village  43.667856 -79.532242  \n",
       "6                                      Malvern, Rouge  43.806686 -79.194353  \n",
       "7                                           Don Mills  43.745906 -79.352188  \n",
       "8                     Parkview Hill, Woodbine Gardens  43.706397 -79.309937  \n",
       "9                            Garden District, Ryerson  43.657162 -79.378937  \n",
       "10                                          Glencairn  43.709577 -79.445073  \n",
       "11  West Deane Park, Princess Gardens, Martin Grov...  43.650943 -79.554724  "
      ],
      "text/html": "<div>\n<style scoped>\n    .dataframe tbody tr th:only-of-type {\n        vertical-align: middle;\n    }\n\n    .dataframe tbody tr th {\n        vertical-align: top;\n    }\n\n    .dataframe thead th {\n        text-align: right;\n    }\n</style>\n<table border=\"1\" class=\"dataframe\">\n  <thead>\n    <tr style=\"text-align: right;\">\n      <th></th>\n      <th>Postal Code</th>\n      <th>Borough</th>\n      <th>Neighbourhood</th>\n      <th>Latitude</th>\n      <th>Longitude</th>\n    </tr>\n  </thead>\n  <tbody>\n    <tr>\n      <th>0</th>\n      <td>M3A</td>\n      <td>North York</td>\n      <td>Parkwoods</td>\n      <td>43.753259</td>\n      <td>-79.329656</td>\n    </tr>\n    <tr>\n      <th>1</th>\n      <td>M4A</td>\n      <td>North York</td>\n      <td>Victoria Village</td>\n      <td>43.725882</td>\n      <td>-79.315572</td>\n    </tr>\n    <tr>\n      <th>2</th>\n      <td>M5A</td>\n      <td>Downtown Toronto</td>\n      <td>Regent Park, Harbourfront</td>\n      <td>43.654260</td>\n      <td>-79.360636</td>\n    </tr>\n    <tr>\n      <th>3</th>\n      <td>M6A</td>\n      <td>North York</td>\n      <td>Lawrence Manor, Lawrence Heights</td>\n      <td>43.718518</td>\n      <td>-79.464763</td>\n    </tr>\n    <tr>\n      <th>4</th>\n      <td>M7A</td>\n      <td>Downtown Toronto</td>\n      <td>Queen's Park, Ontario Provincial Government</td>\n      <td>43.662301</td>\n      <td>-79.389494</td>\n    </tr>\n    <tr>\n      <th>5</th>\n      <td>M9A</td>\n      <td>Etobicoke</td>\n      <td>Islington Avenue, Humber Valley Village</td>\n      <td>43.667856</td>\n      <td>-79.532242</td>\n    </tr>\n    <tr>\n      <th>6</th>\n      <td>M1B</td>\n      <td>Scarborough</td>\n      <td>Malvern, Rouge</td>\n      <td>43.806686</td>\n      <td>-79.194353</td>\n    </tr>\n    <tr>\n      <th>7</th>\n      <td>M3B</td>\n      <td>North York</td>\n      <td>Don Mills</td>\n      <td>43.745906</td>\n      <td>-79.352188</td>\n    </tr>\n    <tr>\n      <th>8</th>\n      <td>M4B</td>\n      <td>East York</td>\n      <td>Parkview Hill, Woodbine Gardens</td>\n      <td>43.706397</td>\n      <td>-79.309937</td>\n    </tr>\n    <tr>\n      <th>9</th>\n      <td>M5B</td>\n      <td>Downtown Toronto</td>\n      <td>Garden District, Ryerson</td>\n      <td>43.657162</td>\n      <td>-79.378937</td>\n    </tr>\n    <tr>\n      <th>10</th>\n      <td>M6B</td>\n      <td>North York</td>\n      <td>Glencairn</td>\n      <td>43.709577</td>\n      <td>-79.445073</td>\n    </tr>\n    <tr>\n      <th>11</th>\n      <td>M9B</td>\n      <td>Etobicoke</td>\n      <td>West Deane Park, Princess Gardens, Martin Grov...</td>\n      <td>43.650943</td>\n      <td>-79.554724</td>\n    </tr>\n  </tbody>\n</table>\n</div>"
     },
     "metadata": {},
     "execution_count": 12
    }
   ],
   "source": [
    "df2 = df.merge(df1)\n",
    "df2.head(12)"
   ]
  },
  {
   "source": [
    "### Verify that the new dataframe contains all rows merged from the original dataframe and also contains coorindates."
   ],
   "cell_type": "markdown",
   "metadata": {}
  },
  {
   "cell_type": "code",
   "execution_count": 13,
   "metadata": {},
   "outputs": [
    {
     "output_type": "execute_result",
     "data": {
      "text/plain": [
       "(103, 5)"
      ]
     },
     "metadata": {},
     "execution_count": 13
    }
   ],
   "source": [
    "df2.shape"
   ]
  },
  {
   "cell_type": "code",
   "execution_count": 14,
   "metadata": {},
   "outputs": [
    {
     "output_type": "execute_result",
     "data": {
      "text/plain": [
       "array(['North York', 'Downtown Toronto', 'Etobicoke', 'Scarborough',\n",
       "       'East York', 'York', 'East Toronto', 'West Toronto',\n",
       "       'Central Toronto', 'Mississauga'], dtype=object)"
      ]
     },
     "metadata": {},
     "execution_count": 14
    }
   ],
   "source": [
    "df2['Borough'].unique()"
   ]
  },
  {
   "source": [
    "## Exploratory Data Analysis\n",
    "### Let's just focus on neighbourhoods in Toronto."
   ],
   "cell_type": "markdown",
   "metadata": {}
  },
  {
   "cell_type": "code",
   "execution_count": 15,
   "metadata": {},
   "outputs": [],
   "source": [
    "toronto = ['Downtown Toronto', 'East Toronto', 'West Toronto', 'Central Toronto']\n",
    "df3 = df2.loc[df2['Borough'].isin(toronto)].reset_index(drop = True)"
   ]
  },
  {
   "cell_type": "code",
   "execution_count": 16,
   "metadata": {},
   "outputs": [],
   "source": [
    "# drop the column 'Postal Code' as we've already got the coorindates\n",
    "df3.drop('Postal Code', axis = 1, inplace = True)"
   ]
  },
  {
   "cell_type": "code",
   "execution_count": 17,
   "metadata": {},
   "outputs": [
    {
     "output_type": "execute_result",
     "data": {
      "text/plain": [
       "            Borough                                Neighbourhood   Latitude  \\\n",
       "0  Downtown Toronto                    Regent Park, Harbourfront  43.654260   \n",
       "1  Downtown Toronto  Queen's Park, Ontario Provincial Government  43.662301   \n",
       "2  Downtown Toronto                     Garden District, Ryerson  43.657162   \n",
       "3  Downtown Toronto                               St. James Town  43.651494   \n",
       "4      East Toronto                                  The Beaches  43.676357   \n",
       "\n",
       "   Longitude  \n",
       "0 -79.360636  \n",
       "1 -79.389494  \n",
       "2 -79.378937  \n",
       "3 -79.375418  \n",
       "4 -79.293031  "
      ],
      "text/html": "<div>\n<style scoped>\n    .dataframe tbody tr th:only-of-type {\n        vertical-align: middle;\n    }\n\n    .dataframe tbody tr th {\n        vertical-align: top;\n    }\n\n    .dataframe thead th {\n        text-align: right;\n    }\n</style>\n<table border=\"1\" class=\"dataframe\">\n  <thead>\n    <tr style=\"text-align: right;\">\n      <th></th>\n      <th>Borough</th>\n      <th>Neighbourhood</th>\n      <th>Latitude</th>\n      <th>Longitude</th>\n    </tr>\n  </thead>\n  <tbody>\n    <tr>\n      <th>0</th>\n      <td>Downtown Toronto</td>\n      <td>Regent Park, Harbourfront</td>\n      <td>43.654260</td>\n      <td>-79.360636</td>\n    </tr>\n    <tr>\n      <th>1</th>\n      <td>Downtown Toronto</td>\n      <td>Queen's Park, Ontario Provincial Government</td>\n      <td>43.662301</td>\n      <td>-79.389494</td>\n    </tr>\n    <tr>\n      <th>2</th>\n      <td>Downtown Toronto</td>\n      <td>Garden District, Ryerson</td>\n      <td>43.657162</td>\n      <td>-79.378937</td>\n    </tr>\n    <tr>\n      <th>3</th>\n      <td>Downtown Toronto</td>\n      <td>St. James Town</td>\n      <td>43.651494</td>\n      <td>-79.375418</td>\n    </tr>\n    <tr>\n      <th>4</th>\n      <td>East Toronto</td>\n      <td>The Beaches</td>\n      <td>43.676357</td>\n      <td>-79.293031</td>\n    </tr>\n  </tbody>\n</table>\n</div>"
     },
     "metadata": {},
     "execution_count": 17
    }
   ],
   "source": [
    "df3.head()"
   ]
  },
  {
   "source": [
    "### Get the coorindates for Toronto, Ontario."
   ],
   "cell_type": "markdown",
   "metadata": {}
  },
  {
   "cell_type": "code",
   "execution_count": 18,
   "metadata": {},
   "outputs": [
    {
     "output_type": "stream",
     "name": "stdout",
     "text": [
      "The geograpical coordinate of Toronto, Ontraio are 43.6534817, -79.3839347.\n"
     ]
    }
   ],
   "source": [
    "address = 'Toronto, Ontario'\n",
    "\n",
    "geolocator = Nominatim(user_agent=\"trt_explorer\")\n",
    "location = geolocator.geocode(address)\n",
    "latitude = location.latitude\n",
    "longitude = location.longitude\n",
    "print('The geograpical coordinate of Toronto, Ontraio are {}, {}.'.format(latitude, longitude))"
   ]
  },
  {
   "source": [
    "### Visualise the Toronto neighbourhoods by using Folium."
   ],
   "cell_type": "markdown",
   "metadata": {}
  },
  {
   "cell_type": "code",
   "execution_count": 19,
   "metadata": {},
   "outputs": [
    {
     "output_type": "execute_result",
     "data": {
      "text/plain": [
       "<folium.folium.Map at 0x203ac6471c0>"
      ],
      "text/html": "<div style=\"width:100%;\"><div style=\"position:relative;width:100%;height:0;padding-bottom:60%;\"><span style=\"color:#565656\">Make this Notebook Trusted to load map: File -> Trust Notebook</span><iframe src=\"about:blank\" style=\"position:absolute;width:100%;height:100%;left:0;top:0;border:none !important;\" data-html=PCFET0NUWVBFIGh0bWw+CjxoZWFkPiAgICAKICAgIDxtZXRhIGh0dHAtZXF1aXY9ImNvbnRlbnQtdHlwZSIgY29udGVudD0idGV4dC9odG1sOyBjaGFyc2V0PVVURi04IiAvPgogICAgPHNjcmlwdD5MX1BSRUZFUl9DQU5WQVMgPSBmYWxzZTsgTF9OT19UT1VDSCA9IGZhbHNlOyBMX0RJU0FCTEVfM0QgPSBmYWxzZTs8L3NjcmlwdD4KICAgIDxzY3JpcHQgc3JjPSJodHRwczovL2Nkbi5qc2RlbGl2ci5uZXQvbnBtL2xlYWZsZXRAMS4yLjAvZGlzdC9sZWFmbGV0LmpzIj48L3NjcmlwdD4KICAgIDxzY3JpcHQgc3JjPSJodHRwczovL2FqYXguZ29vZ2xlYXBpcy5jb20vYWpheC9saWJzL2pxdWVyeS8xLjExLjEvanF1ZXJ5Lm1pbi5qcyI+PC9zY3JpcHQ+CiAgICA8c2NyaXB0IHNyYz0iaHR0cHM6Ly9tYXhjZG4uYm9vdHN0cmFwY2RuLmNvbS9ib290c3RyYXAvMy4yLjAvanMvYm9vdHN0cmFwLm1pbi5qcyI+PC9zY3JpcHQ+CiAgICA8c2NyaXB0IHNyYz0iaHR0cHM6Ly9jZG5qcy5jbG91ZGZsYXJlLmNvbS9hamF4L2xpYnMvTGVhZmxldC5hd2Vzb21lLW1hcmtlcnMvMi4wLjIvbGVhZmxldC5hd2Vzb21lLW1hcmtlcnMuanMiPjwvc2NyaXB0PgogICAgPGxpbmsgcmVsPSJzdHlsZXNoZWV0IiBocmVmPSJodHRwczovL2Nkbi5qc2RlbGl2ci5uZXQvbnBtL2xlYWZsZXRAMS4yLjAvZGlzdC9sZWFmbGV0LmNzcyIvPgogICAgPGxpbmsgcmVsPSJzdHlsZXNoZWV0IiBocmVmPSJodHRwczovL21heGNkbi5ib290c3RyYXBjZG4uY29tL2Jvb3RzdHJhcC8zLjIuMC9jc3MvYm9vdHN0cmFwLm1pbi5jc3MiLz4KICAgIDxsaW5rIHJlbD0ic3R5bGVzaGVldCIgaHJlZj0iaHR0cHM6Ly9tYXhjZG4uYm9vdHN0cmFwY2RuLmNvbS9ib290c3RyYXAvMy4yLjAvY3NzL2Jvb3RzdHJhcC10aGVtZS5taW4uY3NzIi8+CiAgICA8bGluayByZWw9InN0eWxlc2hlZXQiIGhyZWY9Imh0dHBzOi8vbWF4Y2RuLmJvb3RzdHJhcGNkbi5jb20vZm9udC1hd2Vzb21lLzQuNi4zL2Nzcy9mb250LWF3ZXNvbWUubWluLmNzcyIvPgogICAgPGxpbmsgcmVsPSJzdHlsZXNoZWV0IiBocmVmPSJodHRwczovL2NkbmpzLmNsb3VkZmxhcmUuY29tL2FqYXgvbGlicy9MZWFmbGV0LmF3ZXNvbWUtbWFya2Vycy8yLjAuMi9sZWFmbGV0LmF3ZXNvbWUtbWFya2Vycy5jc3MiLz4KICAgIDxsaW5rIHJlbD0ic3R5bGVzaGVldCIgaHJlZj0iaHR0cHM6Ly9yYXdnaXQuY29tL3B5dGhvbi12aXN1YWxpemF0aW9uL2ZvbGl1bS9tYXN0ZXIvZm9saXVtL3RlbXBsYXRlcy9sZWFmbGV0LmF3ZXNvbWUucm90YXRlLmNzcyIvPgogICAgPHN0eWxlPmh0bWwsIGJvZHkge3dpZHRoOiAxMDAlO2hlaWdodDogMTAwJTttYXJnaW46IDA7cGFkZGluZzogMDt9PC9zdHlsZT4KICAgIDxzdHlsZT4jbWFwIHtwb3NpdGlvbjphYnNvbHV0ZTt0b3A6MDtib3R0b206MDtyaWdodDowO2xlZnQ6MDt9PC9zdHlsZT4KICAgIAogICAgICAgICAgICA8c3R5bGU+ICNtYXBfYzFkYzU5ZWM4ODc0NGNhNWEzZjdkNGQ4OTMwOTU2ZDMgewogICAgICAgICAgICAgICAgcG9zaXRpb24gOiByZWxhdGl2ZTsKICAgICAgICAgICAgICAgIHdpZHRoIDogMTAwLjAlOwogICAgICAgICAgICAgICAgaGVpZ2h0OiAxMDAuMCU7CiAgICAgICAgICAgICAgICBsZWZ0OiAwLjAlOwogICAgICAgICAgICAgICAgdG9wOiAwLjAlOwogICAgICAgICAgICAgICAgfQogICAgICAgICAgICA8L3N0eWxlPgogICAgICAgIAo8L2hlYWQ+Cjxib2R5PiAgICAKICAgIAogICAgICAgICAgICA8ZGl2IGNsYXNzPSJmb2xpdW0tbWFwIiBpZD0ibWFwX2MxZGM1OWVjODg3NDRjYTVhM2Y3ZDRkODkzMDk1NmQzIiA+PC9kaXY+CiAgICAgICAgCjwvYm9keT4KPHNjcmlwdD4gICAgCiAgICAKCiAgICAgICAgICAgIAogICAgICAgICAgICAgICAgdmFyIGJvdW5kcyA9IG51bGw7CiAgICAgICAgICAgIAoKICAgICAgICAgICAgdmFyIG1hcF9jMWRjNTllYzg4NzQ0Y2E1YTNmN2Q0ZDg5MzA5NTZkMyA9IEwubWFwKAogICAgICAgICAgICAgICAgICAgICAgICAgICAgICAgICAgJ21hcF9jMWRjNTllYzg4NzQ0Y2E1YTNmN2Q0ZDg5MzA5NTZkMycsCiAgICAgICAgICAgICAgICAgICAgICAgICAgICAgICAgICB7Y2VudGVyOiBbNDMuNjUzNDgxNywtNzkuMzgzOTM0N10sCiAgICAgICAgICAgICAgICAgICAgICAgICAgICAgICAgICB6b29tOiAxMiwKICAgICAgICAgICAgICAgICAgICAgICAgICAgICAgICAgIG1heEJvdW5kczogYm91bmRzLAogICAgICAgICAgICAgICAgICAgICAgICAgICAgICAgICAgbGF5ZXJzOiBbXSwKICAgICAgICAgICAgICAgICAgICAgICAgICAgICAgICAgIHdvcmxkQ29weUp1bXA6IGZhbHNlLAogICAgICAgICAgICAgICAgICAgICAgICAgICAgICAgICAgY3JzOiBMLkNSUy5FUFNHMzg1NwogICAgICAgICAgICAgICAgICAgICAgICAgICAgICAgICB9KTsKICAgICAgICAgICAgCiAgICAgICAgCiAgICAKICAgICAgICAgICAgdmFyIHRpbGVfbGF5ZXJfNDVlMDhjOThhZWE1NDE0Yzg1YTljNzBmZDc3NTI4ZjEgPSBMLnRpbGVMYXllcigKICAgICAgICAgICAgICAgICdodHRwczovL3tzfS50aWxlLm9wZW5zdHJlZXRtYXAub3JnL3t6fS97eH0ve3l9LnBuZycsCiAgICAgICAgICAgICAgICB7CiAgImF0dHJpYnV0aW9uIjogbnVsbCwKICAiZGV0ZWN0UmV0aW5hIjogZmFsc2UsCiAgIm1heFpvb20iOiAxOCwKICAibWluWm9vbSI6IDEsCiAgIm5vV3JhcCI6IGZhbHNlLAogICJzdWJkb21haW5zIjogImFiYyIKfQogICAgICAgICAgICAgICAgKS5hZGRUbyhtYXBfYzFkYzU5ZWM4ODc0NGNhNWEzZjdkNGQ4OTMwOTU2ZDMpOwogICAgICAgIAogICAgCiAgICAgICAgICAgIHZhciBjaXJjbGVfbWFya2VyX2Y1YjRiNTVkYTdmMjQyZTFhN2I2YzI4MDNmN2NiOTVlID0gTC5jaXJjbGVNYXJrZXIoCiAgICAgICAgICAgICAgICBbNDMuNjU0MjU5OSwtNzkuMzYwNjM1OV0sCiAgICAgICAgICAgICAgICB7CiAgImJ1YmJsaW5nTW91c2VFdmVudHMiOiB0cnVlLAogICJjb2xvciI6ICJibHVlIiwKICAiZGFzaEFycmF5IjogbnVsbCwKICAiZGFzaE9mZnNldCI6IG51bGwsCiAgImZpbGwiOiB0cnVlLAogICJmaWxsQ29sb3IiOiAiIzMxODZjYyIsCiAgImZpbGxPcGFjaXR5IjogMC43LAogICJmaWxsUnVsZSI6ICJldmVub2RkIiwKICAibGluZUNhcCI6ICJyb3VuZCIsCiAgImxpbmVKb2luIjogInJvdW5kIiwKICAib3BhY2l0eSI6IDEuMCwKICAicmFkaXVzIjogNSwKICAic3Ryb2tlIjogdHJ1ZSwKICAid2VpZ2h0IjogMwp9CiAgICAgICAgICAgICAgICApLmFkZFRvKG1hcF9jMWRjNTllYzg4NzQ0Y2E1YTNmN2Q0ZDg5MzA5NTZkMyk7CiAgICAgICAgICAgIAogICAgCiAgICAgICAgICAgIHZhciBwb3B1cF9lZDk4NjE0OTk1YzQ0NWNmYjUxYWU2MTA3ZDFhYjkzOSA9IEwucG9wdXAoe21heFdpZHRoOiAnMzAwJ30pOwoKICAgICAgICAgICAgCiAgICAgICAgICAgICAgICB2YXIgaHRtbF84MjNmZDM0OTQ0NDQ0YWM5ODFiYzMzMWZiN2M2MzE5YiA9ICQoJzxkaXYgaWQ9Imh0bWxfODIzZmQzNDk0NDQ0NGFjOTgxYmMzMzFmYjdjNjMxOWIiIHN0eWxlPSJ3aWR0aDogMTAwLjAlOyBoZWlnaHQ6IDEwMC4wJTsiPlJlZ2VudCBQYXJrLCBIYXJib3VyZnJvbnQ8L2Rpdj4nKVswXTsKICAgICAgICAgICAgICAgIHBvcHVwX2VkOTg2MTQ5OTVjNDQ1Y2ZiNTFhZTYxMDdkMWFiOTM5LnNldENvbnRlbnQoaHRtbF84MjNmZDM0OTQ0NDQ0YWM5ODFiYzMzMWZiN2M2MzE5Yik7CiAgICAgICAgICAgIAoKICAgICAgICAgICAgY2lyY2xlX21hcmtlcl9mNWI0YjU1ZGE3ZjI0MmUxYTdiNmMyODAzZjdjYjk1ZS5iaW5kUG9wdXAocG9wdXBfZWQ5ODYxNDk5NWM0NDVjZmI1MWFlNjEwN2QxYWI5MzkpOwoKICAgICAgICAgICAgCiAgICAgICAgCiAgICAKICAgICAgICAgICAgdmFyIGNpcmNsZV9tYXJrZXJfMWE1ZmRlOTYxZDY5NDNhNmFiYWFiODU0NTU1NTNkOTggPSBMLmNpcmNsZU1hcmtlcigKICAgICAgICAgICAgICAgIFs0My42NjIzMDE1LC03OS4zODk0OTM4XSwKICAgICAgICAgICAgICAgIHsKICAiYnViYmxpbmdNb3VzZUV2ZW50cyI6IHRydWUsCiAgImNvbG9yIjogImJsdWUiLAogICJkYXNoQXJyYXkiOiBudWxsLAogICJkYXNoT2Zmc2V0IjogbnVsbCwKICAiZmlsbCI6IHRydWUsCiAgImZpbGxDb2xvciI6ICIjMzE4NmNjIiwKICAiZmlsbE9wYWNpdHkiOiAwLjcsCiAgImZpbGxSdWxlIjogImV2ZW5vZGQiLAogICJsaW5lQ2FwIjogInJvdW5kIiwKICAibGluZUpvaW4iOiAicm91bmQiLAogICJvcGFjaXR5IjogMS4wLAogICJyYWRpdXMiOiA1LAogICJzdHJva2UiOiB0cnVlLAogICJ3ZWlnaHQiOiAzCn0KICAgICAgICAgICAgICAgICkuYWRkVG8obWFwX2MxZGM1OWVjODg3NDRjYTVhM2Y3ZDRkODkzMDk1NmQzKTsKICAgICAgICAgICAgCiAgICAKICAgICAgICAgICAgdmFyIHBvcHVwX2E5YTkzNjQ2NTY1ZjRiOTZiY2Q0NjM5NjJmOTlmZGVlID0gTC5wb3B1cCh7bWF4V2lkdGg6ICczMDAnfSk7CgogICAgICAgICAgICAKICAgICAgICAgICAgICAgIHZhciBodG1sX2VkZjg5ZjEzNGVhMDQ2MDViMjEwYjJhMmI5ODQ3ZTc0ID0gJCgnPGRpdiBpZD0iaHRtbF9lZGY4OWYxMzRlYTA0NjA1YjIxMGIyYTJiOTg0N2U3NCIgc3R5bGU9IndpZHRoOiAxMDAuMCU7IGhlaWdodDogMTAwLjAlOyI+UXVlZW4mIzM5O3MgUGFyaywgT250YXJpbyBQcm92aW5jaWFsIEdvdmVybm1lbnQ8L2Rpdj4nKVswXTsKICAgICAgICAgICAgICAgIHBvcHVwX2E5YTkzNjQ2NTY1ZjRiOTZiY2Q0NjM5NjJmOTlmZGVlLnNldENvbnRlbnQoaHRtbF9lZGY4OWYxMzRlYTA0NjA1YjIxMGIyYTJiOTg0N2U3NCk7CiAgICAgICAgICAgIAoKICAgICAgICAgICAgY2lyY2xlX21hcmtlcl8xYTVmZGU5NjFkNjk0M2E2YWJhYWI4NTQ1NTU1M2Q5OC5iaW5kUG9wdXAocG9wdXBfYTlhOTM2NDY1NjVmNGI5NmJjZDQ2Mzk2MmY5OWZkZWUpOwoKICAgICAgICAgICAgCiAgICAgICAgCiAgICAKICAgICAgICAgICAgdmFyIGNpcmNsZV9tYXJrZXJfZDdlNGVhYzllOWI1NGE2NDgwNTM3YWM3ZWNiNjk4ZTkgPSBMLmNpcmNsZU1hcmtlcigKICAgICAgICAgICAgICAgIFs0My42NTcxNjE4LC03OS4zNzg5MzcwOTk5OTk5OV0sCiAgICAgICAgICAgICAgICB7CiAgImJ1YmJsaW5nTW91c2VFdmVudHMiOiB0cnVlLAogICJjb2xvciI6ICJibHVlIiwKICAiZGFzaEFycmF5IjogbnVsbCwKICAiZGFzaE9mZnNldCI6IG51bGwsCiAgImZpbGwiOiB0cnVlLAogICJmaWxsQ29sb3IiOiAiIzMxODZjYyIsCiAgImZpbGxPcGFjaXR5IjogMC43LAogICJmaWxsUnVsZSI6ICJldmVub2RkIiwKICAibGluZUNhcCI6ICJyb3VuZCIsCiAgImxpbmVKb2luIjogInJvdW5kIiwKICAib3BhY2l0eSI6IDEuMCwKICAicmFkaXVzIjogNSwKICAic3Ryb2tlIjogdHJ1ZSwKICAid2VpZ2h0IjogMwp9CiAgICAgICAgICAgICAgICApLmFkZFRvKG1hcF9jMWRjNTllYzg4NzQ0Y2E1YTNmN2Q0ZDg5MzA5NTZkMyk7CiAgICAgICAgICAgIAogICAgCiAgICAgICAgICAgIHZhciBwb3B1cF9iODhjODhhMDkwZDg0YjYyYmQ1YTQzOWRkZDFiMDRjOCA9IEwucG9wdXAoe21heFdpZHRoOiAnMzAwJ30pOwoKICAgICAgICAgICAgCiAgICAgICAgICAgICAgICB2YXIgaHRtbF8yYTIwOTk1ODgwZGI0ZmQ5YWFhYzU2NjFlYjFhMzlkYyA9ICQoJzxkaXYgaWQ9Imh0bWxfMmEyMDk5NTg4MGRiNGZkOWFhYWM1NjYxZWIxYTM5ZGMiIHN0eWxlPSJ3aWR0aDogMTAwLjAlOyBoZWlnaHQ6IDEwMC4wJTsiPkdhcmRlbiBEaXN0cmljdCwgUnllcnNvbjwvZGl2PicpWzBdOwogICAgICAgICAgICAgICAgcG9wdXBfYjg4Yzg4YTA5MGQ4NGI2MmJkNWE0MzlkZGQxYjA0Yzguc2V0Q29udGVudChodG1sXzJhMjA5OTU4ODBkYjRmZDlhYWFjNTY2MWViMWEzOWRjKTsKICAgICAgICAgICAgCgogICAgICAgICAgICBjaXJjbGVfbWFya2VyX2Q3ZTRlYWM5ZTliNTRhNjQ4MDUzN2FjN2VjYjY5OGU5LmJpbmRQb3B1cChwb3B1cF9iODhjODhhMDkwZDg0YjYyYmQ1YTQzOWRkZDFiMDRjOCk7CgogICAgICAgICAgICAKICAgICAgICAKICAgIAogICAgICAgICAgICB2YXIgY2lyY2xlX21hcmtlcl9hNTk0NmY0YWJiNjI0OTNkYjY0ZjZlODdjMmNlZDg5NiA9IEwuY2lyY2xlTWFya2VyKAogICAgICAgICAgICAgICAgWzQzLjY1MTQ5MzksLTc5LjM3NTQxNzldLAogICAgICAgICAgICAgICAgewogICJidWJibGluZ01vdXNlRXZlbnRzIjogdHJ1ZSwKICAiY29sb3IiOiAiYmx1ZSIsCiAgImRhc2hBcnJheSI6IG51bGwsCiAgImRhc2hPZmZzZXQiOiBudWxsLAogICJmaWxsIjogdHJ1ZSwKICAiZmlsbENvbG9yIjogIiMzMTg2Y2MiLAogICJmaWxsT3BhY2l0eSI6IDAuNywKICAiZmlsbFJ1bGUiOiAiZXZlbm9kZCIsCiAgImxpbmVDYXAiOiAicm91bmQiLAogICJsaW5lSm9pbiI6ICJyb3VuZCIsCiAgIm9wYWNpdHkiOiAxLjAsCiAgInJhZGl1cyI6IDUsCiAgInN0cm9rZSI6IHRydWUsCiAgIndlaWdodCI6IDMKfQogICAgICAgICAgICAgICAgKS5hZGRUbyhtYXBfYzFkYzU5ZWM4ODc0NGNhNWEzZjdkNGQ4OTMwOTU2ZDMpOwogICAgICAgICAgICAKICAgIAogICAgICAgICAgICB2YXIgcG9wdXBfNzYxM2QzNTRmZjk3NGJhMWIzZDRlMzY2MzhkMjQyYmEgPSBMLnBvcHVwKHttYXhXaWR0aDogJzMwMCd9KTsKCiAgICAgICAgICAgIAogICAgICAgICAgICAgICAgdmFyIGh0bWxfMDFjZWRiZjI1NzU1NGVlYzg1NjJhZWJlODI5NDE4YzggPSAkKCc8ZGl2IGlkPSJodG1sXzAxY2VkYmYyNTc1NTRlZWM4NTYyYWViZTgyOTQxOGM4IiBzdHlsZT0id2lkdGg6IDEwMC4wJTsgaGVpZ2h0OiAxMDAuMCU7Ij5TdC4gSmFtZXMgVG93bjwvZGl2PicpWzBdOwogICAgICAgICAgICAgICAgcG9wdXBfNzYxM2QzNTRmZjk3NGJhMWIzZDRlMzY2MzhkMjQyYmEuc2V0Q29udGVudChodG1sXzAxY2VkYmYyNTc1NTRlZWM4NTYyYWViZTgyOTQxOGM4KTsKICAgICAgICAgICAgCgogICAgICAgICAgICBjaXJjbGVfbWFya2VyX2E1OTQ2ZjRhYmI2MjQ5M2RiNjRmNmU4N2MyY2VkODk2LmJpbmRQb3B1cChwb3B1cF83NjEzZDM1NGZmOTc0YmExYjNkNGUzNjYzOGQyNDJiYSk7CgogICAgICAgICAgICAKICAgICAgICAKICAgIAogICAgICAgICAgICB2YXIgY2lyY2xlX21hcmtlcl85OTQ3MDE3MDQyY2M0NWE2YmE5M2E5OTRkMWM5NmFjZSA9IEwuY2lyY2xlTWFya2VyKAogICAgICAgICAgICAgICAgWzQzLjY3NjM1NzM5OTk5OTk5LC03OS4yOTMwMzEyXSwKICAgICAgICAgICAgICAgIHsKICAiYnViYmxpbmdNb3VzZUV2ZW50cyI6IHRydWUsCiAgImNvbG9yIjogImJsdWUiLAogICJkYXNoQXJyYXkiOiBudWxsLAogICJkYXNoT2Zmc2V0IjogbnVsbCwKICAiZmlsbCI6IHRydWUsCiAgImZpbGxDb2xvciI6ICIjMzE4NmNjIiwKICAiZmlsbE9wYWNpdHkiOiAwLjcsCiAgImZpbGxSdWxlIjogImV2ZW5vZGQiLAogICJsaW5lQ2FwIjogInJvdW5kIiwKICAibGluZUpvaW4iOiAicm91bmQiLAogICJvcGFjaXR5IjogMS4wLAogICJyYWRpdXMiOiA1LAogICJzdHJva2UiOiB0cnVlLAogICJ3ZWlnaHQiOiAzCn0KICAgICAgICAgICAgICAgICkuYWRkVG8obWFwX2MxZGM1OWVjODg3NDRjYTVhM2Y3ZDRkODkzMDk1NmQzKTsKICAgICAgICAgICAgCiAgICAKICAgICAgICAgICAgdmFyIHBvcHVwX2Y0ZmU5M2E5NWRlMDQ5Y2M4NzcxYzhlMTFmMGUwNjNhID0gTC5wb3B1cCh7bWF4V2lkdGg6ICczMDAnfSk7CgogICAgICAgICAgICAKICAgICAgICAgICAgICAgIHZhciBodG1sXzFiODNjYjE5ZGY5MzQxYTViMTI0MmJhMDhjMGZhYTNmID0gJCgnPGRpdiBpZD0iaHRtbF8xYjgzY2IxOWRmOTM0MWE1YjEyNDJiYTA4YzBmYWEzZiIgc3R5bGU9IndpZHRoOiAxMDAuMCU7IGhlaWdodDogMTAwLjAlOyI+VGhlIEJlYWNoZXM8L2Rpdj4nKVswXTsKICAgICAgICAgICAgICAgIHBvcHVwX2Y0ZmU5M2E5NWRlMDQ5Y2M4NzcxYzhlMTFmMGUwNjNhLnNldENvbnRlbnQoaHRtbF8xYjgzY2IxOWRmOTM0MWE1YjEyNDJiYTA4YzBmYWEzZik7CiAgICAgICAgICAgIAoKICAgICAgICAgICAgY2lyY2xlX21hcmtlcl85OTQ3MDE3MDQyY2M0NWE2YmE5M2E5OTRkMWM5NmFjZS5iaW5kUG9wdXAocG9wdXBfZjRmZTkzYTk1ZGUwNDljYzg3NzFjOGUxMWYwZTA2M2EpOwoKICAgICAgICAgICAgCiAgICAgICAgCiAgICAKICAgICAgICAgICAgdmFyIGNpcmNsZV9tYXJrZXJfZThmYzkzOGM5NTU5NDM2NDlhNGI3YmVmZGY2MGFiNmMgPSBMLmNpcmNsZU1hcmtlcigKICAgICAgICAgICAgICAgIFs0My42NDQ3NzA3OTk5OTk5OTYsLTc5LjM3MzMwNjRdLAogICAgICAgICAgICAgICAgewogICJidWJibGluZ01vdXNlRXZlbnRzIjogdHJ1ZSwKICAiY29sb3IiOiAiYmx1ZSIsCiAgImRhc2hBcnJheSI6IG51bGwsCiAgImRhc2hPZmZzZXQiOiBudWxsLAogICJmaWxsIjogdHJ1ZSwKICAiZmlsbENvbG9yIjogIiMzMTg2Y2MiLAogICJmaWxsT3BhY2l0eSI6IDAuNywKICAiZmlsbFJ1bGUiOiAiZXZlbm9kZCIsCiAgImxpbmVDYXAiOiAicm91bmQiLAogICJsaW5lSm9pbiI6ICJyb3VuZCIsCiAgIm9wYWNpdHkiOiAxLjAsCiAgInJhZGl1cyI6IDUsCiAgInN0cm9rZSI6IHRydWUsCiAgIndlaWdodCI6IDMKfQogICAgICAgICAgICAgICAgKS5hZGRUbyhtYXBfYzFkYzU5ZWM4ODc0NGNhNWEzZjdkNGQ4OTMwOTU2ZDMpOwogICAgICAgICAgICAKICAgIAogICAgICAgICAgICB2YXIgcG9wdXBfNDJmNDUxOTVkMWVlNGJhNDgzOWFkNWFiZTZjZTkxMDkgPSBMLnBvcHVwKHttYXhXaWR0aDogJzMwMCd9KTsKCiAgICAgICAgICAgIAogICAgICAgICAgICAgICAgdmFyIGh0bWxfZjM4OGE1NWI5MmRkNGQ0ODlkZmZmYTQzMjcyMjQ2MWUgPSAkKCc8ZGl2IGlkPSJodG1sX2YzODhhNTViOTJkZDRkNDg5ZGZmZmE0MzI3MjI0NjFlIiBzdHlsZT0id2lkdGg6IDEwMC4wJTsgaGVpZ2h0OiAxMDAuMCU7Ij5CZXJjenkgUGFyazwvZGl2PicpWzBdOwogICAgICAgICAgICAgICAgcG9wdXBfNDJmNDUxOTVkMWVlNGJhNDgzOWFkNWFiZTZjZTkxMDkuc2V0Q29udGVudChodG1sX2YzODhhNTViOTJkZDRkNDg5ZGZmZmE0MzI3MjI0NjFlKTsKICAgICAgICAgICAgCgogICAgICAgICAgICBjaXJjbGVfbWFya2VyX2U4ZmM5MzhjOTU1OTQzNjQ5YTRiN2JlZmRmNjBhYjZjLmJpbmRQb3B1cChwb3B1cF80MmY0NTE5NWQxZWU0YmE0ODM5YWQ1YWJlNmNlOTEwOSk7CgogICAgICAgICAgICAKICAgICAgICAKICAgIAogICAgICAgICAgICB2YXIgY2lyY2xlX21hcmtlcl9iNzcwYTRmYjRkMzE0OTQ3OTg0MzViYmJjYjhkNGM4MSA9IEwuY2lyY2xlTWFya2VyKAogICAgICAgICAgICAgICAgWzQzLjY1Nzk1MjQsLTc5LjM4NzM4MjZdLAogICAgICAgICAgICAgICAgewogICJidWJibGluZ01vdXNlRXZlbnRzIjogdHJ1ZSwKICAiY29sb3IiOiAiYmx1ZSIsCiAgImRhc2hBcnJheSI6IG51bGwsCiAgImRhc2hPZmZzZXQiOiBudWxsLAogICJmaWxsIjogdHJ1ZSwKICAiZmlsbENvbG9yIjogIiMzMTg2Y2MiLAogICJmaWxsT3BhY2l0eSI6IDAuNywKICAiZmlsbFJ1bGUiOiAiZXZlbm9kZCIsCiAgImxpbmVDYXAiOiAicm91bmQiLAogICJsaW5lSm9pbiI6ICJyb3VuZCIsCiAgIm9wYWNpdHkiOiAxLjAsCiAgInJhZGl1cyI6IDUsCiAgInN0cm9rZSI6IHRydWUsCiAgIndlaWdodCI6IDMKfQogICAgICAgICAgICAgICAgKS5hZGRUbyhtYXBfYzFkYzU5ZWM4ODc0NGNhNWEzZjdkNGQ4OTMwOTU2ZDMpOwogICAgICAgICAgICAKICAgIAogICAgICAgICAgICB2YXIgcG9wdXBfYTM3ZjM5MTg1ZTFlNGVjYzkyYzMzMjFjYTBhMjNiZDEgPSBMLnBvcHVwKHttYXhXaWR0aDogJzMwMCd9KTsKCiAgICAgICAgICAgIAogICAgICAgICAgICAgICAgdmFyIGh0bWxfNzc3ZTQxNDI1NjgyNDEyMmEyNTVhNjkxMDhkNzc0MmIgPSAkKCc8ZGl2IGlkPSJodG1sXzc3N2U0MTQyNTY4MjQxMjJhMjU1YTY5MTA4ZDc3NDJiIiBzdHlsZT0id2lkdGg6IDEwMC4wJTsgaGVpZ2h0OiAxMDAuMCU7Ij5DZW50cmFsIEJheSBTdHJlZXQ8L2Rpdj4nKVswXTsKICAgICAgICAgICAgICAgIHBvcHVwX2EzN2YzOTE4NWUxZTRlY2M5MmMzMzIxY2EwYTIzYmQxLnNldENvbnRlbnQoaHRtbF83NzdlNDE0MjU2ODI0MTIyYTI1NWE2OTEwOGQ3NzQyYik7CiAgICAgICAgICAgIAoKICAgICAgICAgICAgY2lyY2xlX21hcmtlcl9iNzcwYTRmYjRkMzE0OTQ3OTg0MzViYmJjYjhkNGM4MS5iaW5kUG9wdXAocG9wdXBfYTM3ZjM5MTg1ZTFlNGVjYzkyYzMzMjFjYTBhMjNiZDEpOwoKICAgICAgICAgICAgCiAgICAgICAgCiAgICAKICAgICAgICAgICAgdmFyIGNpcmNsZV9tYXJrZXJfMzg5YjZkYTk4NGJkNDVlYmIwOGQ4OWM1MjNjNDY2YTYgPSBMLmNpcmNsZU1hcmtlcigKICAgICAgICAgICAgICAgIFs0My42Njk1NDIsLTc5LjQyMjU2MzddLAogICAgICAgICAgICAgICAgewogICJidWJibGluZ01vdXNlRXZlbnRzIjogdHJ1ZSwKICAiY29sb3IiOiAiYmx1ZSIsCiAgImRhc2hBcnJheSI6IG51bGwsCiAgImRhc2hPZmZzZXQiOiBudWxsLAogICJmaWxsIjogdHJ1ZSwKICAiZmlsbENvbG9yIjogIiMzMTg2Y2MiLAogICJmaWxsT3BhY2l0eSI6IDAuNywKICAiZmlsbFJ1bGUiOiAiZXZlbm9kZCIsCiAgImxpbmVDYXAiOiAicm91bmQiLAogICJsaW5lSm9pbiI6ICJyb3VuZCIsCiAgIm9wYWNpdHkiOiAxLjAsCiAgInJhZGl1cyI6IDUsCiAgInN0cm9rZSI6IHRydWUsCiAgIndlaWdodCI6IDMKfQogICAgICAgICAgICAgICAgKS5hZGRUbyhtYXBfYzFkYzU5ZWM4ODc0NGNhNWEzZjdkNGQ4OTMwOTU2ZDMpOwogICAgICAgICAgICAKICAgIAogICAgICAgICAgICB2YXIgcG9wdXBfZDZjY2ZmNDRlMmUxNGYxM2I2OGI1NTM1NGYzNDljNDIgPSBMLnBvcHVwKHttYXhXaWR0aDogJzMwMCd9KTsKCiAgICAgICAgICAgIAogICAgICAgICAgICAgICAgdmFyIGh0bWxfMjBlYjMxNmFhZjQ5NDdmMGIxZGNmZWRmOGZkYmM4ZTYgPSAkKCc8ZGl2IGlkPSJodG1sXzIwZWIzMTZhYWY0OTQ3ZjBiMWRjZmVkZjhmZGJjOGU2IiBzdHlsZT0id2lkdGg6IDEwMC4wJTsgaGVpZ2h0OiAxMDAuMCU7Ij5DaHJpc3RpZTwvZGl2PicpWzBdOwogICAgICAgICAgICAgICAgcG9wdXBfZDZjY2ZmNDRlMmUxNGYxM2I2OGI1NTM1NGYzNDljNDIuc2V0Q29udGVudChodG1sXzIwZWIzMTZhYWY0OTQ3ZjBiMWRjZmVkZjhmZGJjOGU2KTsKICAgICAgICAgICAgCgogICAgICAgICAgICBjaXJjbGVfbWFya2VyXzM4OWI2ZGE5ODRiZDQ1ZWJiMDhkODljNTIzYzQ2NmE2LmJpbmRQb3B1cChwb3B1cF9kNmNjZmY0NGUyZTE0ZjEzYjY4YjU1MzU0ZjM0OWM0Mik7CgogICAgICAgICAgICAKICAgICAgICAKICAgIAogICAgICAgICAgICB2YXIgY2lyY2xlX21hcmtlcl81M2UyOTQ2OGU2OTg0YTViYmFjNWI2MjJhOTBiMGI1NyA9IEwuY2lyY2xlTWFya2VyKAogICAgICAgICAgICAgICAgWzQzLjY1MDU3MTIwMDAwMDAxLC03OS4zODQ1Njc1XSwKICAgICAgICAgICAgICAgIHsKICAiYnViYmxpbmdNb3VzZUV2ZW50cyI6IHRydWUsCiAgImNvbG9yIjogImJsdWUiLAogICJkYXNoQXJyYXkiOiBudWxsLAogICJkYXNoT2Zmc2V0IjogbnVsbCwKICAiZmlsbCI6IHRydWUsCiAgImZpbGxDb2xvciI6ICIjMzE4NmNjIiwKICAiZmlsbE9wYWNpdHkiOiAwLjcsCiAgImZpbGxSdWxlIjogImV2ZW5vZGQiLAogICJsaW5lQ2FwIjogInJvdW5kIiwKICAibGluZUpvaW4iOiAicm91bmQiLAogICJvcGFjaXR5IjogMS4wLAogICJyYWRpdXMiOiA1LAogICJzdHJva2UiOiB0cnVlLAogICJ3ZWlnaHQiOiAzCn0KICAgICAgICAgICAgICAgICkuYWRkVG8obWFwX2MxZGM1OWVjODg3NDRjYTVhM2Y3ZDRkODkzMDk1NmQzKTsKICAgICAgICAgICAgCiAgICAKICAgICAgICAgICAgdmFyIHBvcHVwXzY1M2VkZDBhZDcxYjQwN2JiZTZmNTIwMGMxYTZiZmQ2ID0gTC5wb3B1cCh7bWF4V2lkdGg6ICczMDAnfSk7CgogICAgICAgICAgICAKICAgICAgICAgICAgICAgIHZhciBodG1sX2M0YmJiZDc0NDc3YjQ2MGJiNjBhOGMwZTRjNDI1Y2Y2ID0gJCgnPGRpdiBpZD0iaHRtbF9jNGJiYmQ3NDQ3N2I0NjBiYjYwYThjMGU0YzQyNWNmNiIgc3R5bGU9IndpZHRoOiAxMDAuMCU7IGhlaWdodDogMTAwLjAlOyI+UmljaG1vbmQsIEFkZWxhaWRlLCBLaW5nPC9kaXY+JylbMF07CiAgICAgICAgICAgICAgICBwb3B1cF82NTNlZGQwYWQ3MWI0MDdiYmU2ZjUyMDBjMWE2YmZkNi5zZXRDb250ZW50KGh0bWxfYzRiYmJkNzQ0NzdiNDYwYmI2MGE4YzBlNGM0MjVjZjYpOwogICAgICAgICAgICAKCiAgICAgICAgICAgIGNpcmNsZV9tYXJrZXJfNTNlMjk0NjhlNjk4NGE1YmJhYzViNjIyYTkwYjBiNTcuYmluZFBvcHVwKHBvcHVwXzY1M2VkZDBhZDcxYjQwN2JiZTZmNTIwMGMxYTZiZmQ2KTsKCiAgICAgICAgICAgIAogICAgICAgIAogICAgCiAgICAgICAgICAgIHZhciBjaXJjbGVfbWFya2VyX2Y2MDdkYjk3YWMxOTQ1OTliMThjYWIzY2YwOGZjZDMyID0gTC5jaXJjbGVNYXJrZXIoCiAgICAgICAgICAgICAgICBbNDMuNjY5MDA1MTAwMDAwMDEsLTc5LjQ0MjI1OTNdLAogICAgICAgICAgICAgICAgewogICJidWJibGluZ01vdXNlRXZlbnRzIjogdHJ1ZSwKICAiY29sb3IiOiAiYmx1ZSIsCiAgImRhc2hBcnJheSI6IG51bGwsCiAgImRhc2hPZmZzZXQiOiBudWxsLAogICJmaWxsIjogdHJ1ZSwKICAiZmlsbENvbG9yIjogIiMzMTg2Y2MiLAogICJmaWxsT3BhY2l0eSI6IDAuNywKICAiZmlsbFJ1bGUiOiAiZXZlbm9kZCIsCiAgImxpbmVDYXAiOiAicm91bmQiLAogICJsaW5lSm9pbiI6ICJyb3VuZCIsCiAgIm9wYWNpdHkiOiAxLjAsCiAgInJhZGl1cyI6IDUsCiAgInN0cm9rZSI6IHRydWUsCiAgIndlaWdodCI6IDMKfQogICAgICAgICAgICAgICAgKS5hZGRUbyhtYXBfYzFkYzU5ZWM4ODc0NGNhNWEzZjdkNGQ4OTMwOTU2ZDMpOwogICAgICAgICAgICAKICAgIAogICAgICAgICAgICB2YXIgcG9wdXBfOWE3MjNlOWU0MDg4NDkyOWFiZjEzNjkyNTEyOWNiOTkgPSBMLnBvcHVwKHttYXhXaWR0aDogJzMwMCd9KTsKCiAgICAgICAgICAgIAogICAgICAgICAgICAgICAgdmFyIGh0bWxfNWI2YjA0MDEwYmVjNGQyMmE4ZDU2YjZhNWZjM2Y3YTkgPSAkKCc8ZGl2IGlkPSJodG1sXzViNmIwNDAxMGJlYzRkMjJhOGQ1NmI2YTVmYzNmN2E5IiBzdHlsZT0id2lkdGg6IDEwMC4wJTsgaGVpZ2h0OiAxMDAuMCU7Ij5EdWZmZXJpbiwgRG92ZXJjb3VydCBWaWxsYWdlPC9kaXY+JylbMF07CiAgICAgICAgICAgICAgICBwb3B1cF85YTcyM2U5ZTQwODg0OTI5YWJmMTM2OTI1MTI5Y2I5OS5zZXRDb250ZW50KGh0bWxfNWI2YjA0MDEwYmVjNGQyMmE4ZDU2YjZhNWZjM2Y3YTkpOwogICAgICAgICAgICAKCiAgICAgICAgICAgIGNpcmNsZV9tYXJrZXJfZjYwN2RiOTdhYzE5NDU5OWIxOGNhYjNjZjA4ZmNkMzIuYmluZFBvcHVwKHBvcHVwXzlhNzIzZTllNDA4ODQ5MjlhYmYxMzY5MjUxMjljYjk5KTsKCiAgICAgICAgICAgIAogICAgICAgIAogICAgCiAgICAgICAgICAgIHZhciBjaXJjbGVfbWFya2VyXzliMDg5ODdjNGIwNTQ4NmQ5ZWNjODU5NzlmZGI3NjQ4ID0gTC5jaXJjbGVNYXJrZXIoCiAgICAgICAgICAgICAgICBbNDMuNjQwODE1NywtNzkuMzgxNzUyMjk5OTk5OTldLAogICAgICAgICAgICAgICAgewogICJidWJibGluZ01vdXNlRXZlbnRzIjogdHJ1ZSwKICAiY29sb3IiOiAiYmx1ZSIsCiAgImRhc2hBcnJheSI6IG51bGwsCiAgImRhc2hPZmZzZXQiOiBudWxsLAogICJmaWxsIjogdHJ1ZSwKICAiZmlsbENvbG9yIjogIiMzMTg2Y2MiLAogICJmaWxsT3BhY2l0eSI6IDAuNywKICAiZmlsbFJ1bGUiOiAiZXZlbm9kZCIsCiAgImxpbmVDYXAiOiAicm91bmQiLAogICJsaW5lSm9pbiI6ICJyb3VuZCIsCiAgIm9wYWNpdHkiOiAxLjAsCiAgInJhZGl1cyI6IDUsCiAgInN0cm9rZSI6IHRydWUsCiAgIndlaWdodCI6IDMKfQogICAgICAgICAgICAgICAgKS5hZGRUbyhtYXBfYzFkYzU5ZWM4ODc0NGNhNWEzZjdkNGQ4OTMwOTU2ZDMpOwogICAgICAgICAgICAKICAgIAogICAgICAgICAgICB2YXIgcG9wdXBfNzVkZWNjNTYyMjUzNDIyMGIzOGIzNWI1YTEyMTU4ZTAgPSBMLnBvcHVwKHttYXhXaWR0aDogJzMwMCd9KTsKCiAgICAgICAgICAgIAogICAgICAgICAgICAgICAgdmFyIGh0bWxfYjU5MDQ4YjcxNzczNDg0YTg5MTk5ZDU5ZjA5NDA0NzIgPSAkKCc8ZGl2IGlkPSJodG1sX2I1OTA0OGI3MTc3MzQ4NGE4OTE5OWQ1OWYwOTQwNDcyIiBzdHlsZT0id2lkdGg6IDEwMC4wJTsgaGVpZ2h0OiAxMDAuMCU7Ij5IYXJib3VyZnJvbnQgRWFzdCwgVW5pb24gU3RhdGlvbiwgVG9yb250byBJc2xhbmRzPC9kaXY+JylbMF07CiAgICAgICAgICAgICAgICBwb3B1cF83NWRlY2M1NjIyNTM0MjIwYjM4YjM1YjVhMTIxNThlMC5zZXRDb250ZW50KGh0bWxfYjU5MDQ4YjcxNzczNDg0YTg5MTk5ZDU5ZjA5NDA0NzIpOwogICAgICAgICAgICAKCiAgICAgICAgICAgIGNpcmNsZV9tYXJrZXJfOWIwODk4N2M0YjA1NDg2ZDllY2M4NTk3OWZkYjc2NDguYmluZFBvcHVwKHBvcHVwXzc1ZGVjYzU2MjI1MzQyMjBiMzhiMzViNWExMjE1OGUwKTsKCiAgICAgICAgICAgIAogICAgICAgIAogICAgCiAgICAgICAgICAgIHZhciBjaXJjbGVfbWFya2VyX2JkZWY2MjVjYmViMjRmNTQ5NGIwMmJlYjE4MzI2MjAwID0gTC5jaXJjbGVNYXJrZXIoCiAgICAgICAgICAgICAgICBbNDMuNjQ3OTI2NzAwMDAwMDA2LC03OS40MTk3NDk3XSwKICAgICAgICAgICAgICAgIHsKICAiYnViYmxpbmdNb3VzZUV2ZW50cyI6IHRydWUsCiAgImNvbG9yIjogImJsdWUiLAogICJkYXNoQXJyYXkiOiBudWxsLAogICJkYXNoT2Zmc2V0IjogbnVsbCwKICAiZmlsbCI6IHRydWUsCiAgImZpbGxDb2xvciI6ICIjMzE4NmNjIiwKICAiZmlsbE9wYWNpdHkiOiAwLjcsCiAgImZpbGxSdWxlIjogImV2ZW5vZGQiLAogICJsaW5lQ2FwIjogInJvdW5kIiwKICAibGluZUpvaW4iOiAicm91bmQiLAogICJvcGFjaXR5IjogMS4wLAogICJyYWRpdXMiOiA1LAogICJzdHJva2UiOiB0cnVlLAogICJ3ZWlnaHQiOiAzCn0KICAgICAgICAgICAgICAgICkuYWRkVG8obWFwX2MxZGM1OWVjODg3NDRjYTVhM2Y3ZDRkODkzMDk1NmQzKTsKICAgICAgICAgICAgCiAgICAKICAgICAgICAgICAgdmFyIHBvcHVwXzE3M2ZjMDNkZjk0OTRkNTE4ZWEwYzIwMDYzMjNjYTA5ID0gTC5wb3B1cCh7bWF4V2lkdGg6ICczMDAnfSk7CgogICAgICAgICAgICAKICAgICAgICAgICAgICAgIHZhciBodG1sXzNkM2IxMjcxN2ExZDQ3YWI5OTc5MGFlN2VhZjcwMzcyID0gJCgnPGRpdiBpZD0iaHRtbF8zZDNiMTI3MTdhMWQ0N2FiOTk3OTBhZTdlYWY3MDM3MiIgc3R5bGU9IndpZHRoOiAxMDAuMCU7IGhlaWdodDogMTAwLjAlOyI+TGl0dGxlIFBvcnR1Z2FsLCBUcmluaXR5PC9kaXY+JylbMF07CiAgICAgICAgICAgICAgICBwb3B1cF8xNzNmYzAzZGY5NDk0ZDUxOGVhMGMyMDA2MzIzY2EwOS5zZXRDb250ZW50KGh0bWxfM2QzYjEyNzE3YTFkNDdhYjk5NzkwYWU3ZWFmNzAzNzIpOwogICAgICAgICAgICAKCiAgICAgICAgICAgIGNpcmNsZV9tYXJrZXJfYmRlZjYyNWNiZWIyNGY1NDk0YjAyYmViMTgzMjYyMDAuYmluZFBvcHVwKHBvcHVwXzE3M2ZjMDNkZjk0OTRkNTE4ZWEwYzIwMDYzMjNjYTA5KTsKCiAgICAgICAgICAgIAogICAgICAgIAogICAgCiAgICAgICAgICAgIHZhciBjaXJjbGVfbWFya2VyX2VlZmE0YTVmYTJmYjQ0MGZiNmZjNGJiNmU2MzhkMTllID0gTC5jaXJjbGVNYXJrZXIoCiAgICAgICAgICAgICAgICBbNDMuNjc5NTU3MSwtNzkuMzUyMTg4XSwKICAgICAgICAgICAgICAgIHsKICAiYnViYmxpbmdNb3VzZUV2ZW50cyI6IHRydWUsCiAgImNvbG9yIjogImJsdWUiLAogICJkYXNoQXJyYXkiOiBudWxsLAogICJkYXNoT2Zmc2V0IjogbnVsbCwKICAiZmlsbCI6IHRydWUsCiAgImZpbGxDb2xvciI6ICIjMzE4NmNjIiwKICAiZmlsbE9wYWNpdHkiOiAwLjcsCiAgImZpbGxSdWxlIjogImV2ZW5vZGQiLAogICJsaW5lQ2FwIjogInJvdW5kIiwKICAibGluZUpvaW4iOiAicm91bmQiLAogICJvcGFjaXR5IjogMS4wLAogICJyYWRpdXMiOiA1LAogICJzdHJva2UiOiB0cnVlLAogICJ3ZWlnaHQiOiAzCn0KICAgICAgICAgICAgICAgICkuYWRkVG8obWFwX2MxZGM1OWVjODg3NDRjYTVhM2Y3ZDRkODkzMDk1NmQzKTsKICAgICAgICAgICAgCiAgICAKICAgICAgICAgICAgdmFyIHBvcHVwX2M2MDlkOWM5YzIxNTQxNDNiOTFiYWViYjkwNjFiYmU4ID0gTC5wb3B1cCh7bWF4V2lkdGg6ICczMDAnfSk7CgogICAgICAgICAgICAKICAgICAgICAgICAgICAgIHZhciBodG1sXzJkZTc3ZWI2Yjg3MDQ1YTI4M2RjZjM0NWZiMzk4ZDkwID0gJCgnPGRpdiBpZD0iaHRtbF8yZGU3N2ViNmI4NzA0NWEyODNkY2YzNDVmYjM5OGQ5MCIgc3R5bGU9IndpZHRoOiAxMDAuMCU7IGhlaWdodDogMTAwLjAlOyI+VGhlIERhbmZvcnRoIFdlc3QsIFJpdmVyZGFsZTwvZGl2PicpWzBdOwogICAgICAgICAgICAgICAgcG9wdXBfYzYwOWQ5YzljMjE1NDE0M2I5MWJhZWJiOTA2MWJiZTguc2V0Q29udGVudChodG1sXzJkZTc3ZWI2Yjg3MDQ1YTI4M2RjZjM0NWZiMzk4ZDkwKTsKICAgICAgICAgICAgCgogICAgICAgICAgICBjaXJjbGVfbWFya2VyX2VlZmE0YTVmYTJmYjQ0MGZiNmZjNGJiNmU2MzhkMTllLmJpbmRQb3B1cChwb3B1cF9jNjA5ZDljOWMyMTU0MTQzYjkxYmFlYmI5MDYxYmJlOCk7CgogICAgICAgICAgICAKICAgICAgICAKICAgIAogICAgICAgICAgICB2YXIgY2lyY2xlX21hcmtlcl85NWFiNjc5YmU4NWI0YjBmOWYwYzE4MmY5Mjc3NGQ3ZiA9IEwuY2lyY2xlTWFya2VyKAogICAgICAgICAgICAgICAgWzQzLjY0NzE3NjgsLTc5LjM4MTU3NjQwMDAwMDAxXSwKICAgICAgICAgICAgICAgIHsKICAiYnViYmxpbmdNb3VzZUV2ZW50cyI6IHRydWUsCiAgImNvbG9yIjogImJsdWUiLAogICJkYXNoQXJyYXkiOiBudWxsLAogICJkYXNoT2Zmc2V0IjogbnVsbCwKICAiZmlsbCI6IHRydWUsCiAgImZpbGxDb2xvciI6ICIjMzE4NmNjIiwKICAiZmlsbE9wYWNpdHkiOiAwLjcsCiAgImZpbGxSdWxlIjogImV2ZW5vZGQiLAogICJsaW5lQ2FwIjogInJvdW5kIiwKICAibGluZUpvaW4iOiAicm91bmQiLAogICJvcGFjaXR5IjogMS4wLAogICJyYWRpdXMiOiA1LAogICJzdHJva2UiOiB0cnVlLAogICJ3ZWlnaHQiOiAzCn0KICAgICAgICAgICAgICAgICkuYWRkVG8obWFwX2MxZGM1OWVjODg3NDRjYTVhM2Y3ZDRkODkzMDk1NmQzKTsKICAgICAgICAgICAgCiAgICAKICAgICAgICAgICAgdmFyIHBvcHVwX2ZkMDdlNTMwODRmYjRmZDc5NGFjYjI4NTE5N2E4N2U0ID0gTC5wb3B1cCh7bWF4V2lkdGg6ICczMDAnfSk7CgogICAgICAgICAgICAKICAgICAgICAgICAgICAgIHZhciBodG1sXzVmZWFlYzEwZmY3ZDRhNzZhYTZlMzFiOGQ4YmE4N2Y1ID0gJCgnPGRpdiBpZD0iaHRtbF81ZmVhZWMxMGZmN2Q0YTc2YWE2ZTMxYjhkOGJhODdmNSIgc3R5bGU9IndpZHRoOiAxMDAuMCU7IGhlaWdodDogMTAwLjAlOyI+VG9yb250byBEb21pbmlvbiBDZW50cmUsIERlc2lnbiBFeGNoYW5nZTwvZGl2PicpWzBdOwogICAgICAgICAgICAgICAgcG9wdXBfZmQwN2U1MzA4NGZiNGZkNzk0YWNiMjg1MTk3YTg3ZTQuc2V0Q29udGVudChodG1sXzVmZWFlYzEwZmY3ZDRhNzZhYTZlMzFiOGQ4YmE4N2Y1KTsKICAgICAgICAgICAgCgogICAgICAgICAgICBjaXJjbGVfbWFya2VyXzk1YWI2NzliZTg1YjRiMGY5ZjBjMTgyZjkyNzc0ZDdmLmJpbmRQb3B1cChwb3B1cF9mZDA3ZTUzMDg0ZmI0ZmQ3OTRhY2IyODUxOTdhODdlNCk7CgogICAgICAgICAgICAKICAgICAgICAKICAgIAogICAgICAgICAgICB2YXIgY2lyY2xlX21hcmtlcl80ZDljNzRjYWJkYTg0ZjBiODk5NDI3ZDQwNmZlODlkMCA9IEwuY2lyY2xlTWFya2VyKAogICAgICAgICAgICAgICAgWzQzLjYzNjg0NzIsLTc5LjQyODE5MTQwMDAwMDAyXSwKICAgICAgICAgICAgICAgIHsKICAiYnViYmxpbmdNb3VzZUV2ZW50cyI6IHRydWUsCiAgImNvbG9yIjogImJsdWUiLAogICJkYXNoQXJyYXkiOiBudWxsLAogICJkYXNoT2Zmc2V0IjogbnVsbCwKICAiZmlsbCI6IHRydWUsCiAgImZpbGxDb2xvciI6ICIjMzE4NmNjIiwKICAiZmlsbE9wYWNpdHkiOiAwLjcsCiAgImZpbGxSdWxlIjogImV2ZW5vZGQiLAogICJsaW5lQ2FwIjogInJvdW5kIiwKICAibGluZUpvaW4iOiAicm91bmQiLAogICJvcGFjaXR5IjogMS4wLAogICJyYWRpdXMiOiA1LAogICJzdHJva2UiOiB0cnVlLAogICJ3ZWlnaHQiOiAzCn0KICAgICAgICAgICAgICAgICkuYWRkVG8obWFwX2MxZGM1OWVjODg3NDRjYTVhM2Y3ZDRkODkzMDk1NmQzKTsKICAgICAgICAgICAgCiAgICAKICAgICAgICAgICAgdmFyIHBvcHVwXzBmOGQ5N2FhYTQxNDQzMDU5ZTY5OTlmNWRiNjliNzIyID0gTC5wb3B1cCh7bWF4V2lkdGg6ICczMDAnfSk7CgogICAgICAgICAgICAKICAgICAgICAgICAgICAgIHZhciBodG1sX2QzYjgwMzg2ZmRkMTRlMmQ4MTlmNDYxNmYwYzQ5ZTZkID0gJCgnPGRpdiBpZD0iaHRtbF9kM2I4MDM4NmZkZDE0ZTJkODE5ZjQ2MTZmMGM0OWU2ZCIgc3R5bGU9IndpZHRoOiAxMDAuMCU7IGhlaWdodDogMTAwLjAlOyI+QnJvY2t0b24sIFBhcmtkYWxlIFZpbGxhZ2UsIEV4aGliaXRpb24gUGxhY2U8L2Rpdj4nKVswXTsKICAgICAgICAgICAgICAgIHBvcHVwXzBmOGQ5N2FhYTQxNDQzMDU5ZTY5OTlmNWRiNjliNzIyLnNldENvbnRlbnQoaHRtbF9kM2I4MDM4NmZkZDE0ZTJkODE5ZjQ2MTZmMGM0OWU2ZCk7CiAgICAgICAgICAgIAoKICAgICAgICAgICAgY2lyY2xlX21hcmtlcl80ZDljNzRjYWJkYTg0ZjBiODk5NDI3ZDQwNmZlODlkMC5iaW5kUG9wdXAocG9wdXBfMGY4ZDk3YWFhNDE0NDMwNTllNjk5OWY1ZGI2OWI3MjIpOwoKICAgICAgICAgICAgCiAgICAgICAgCiAgICAKICAgICAgICAgICAgdmFyIGNpcmNsZV9tYXJrZXJfNmRhM2Q4NTE1NTVkNDgxNTgxY2IyZmY2ZWQzODA4OWYgPSBMLmNpcmNsZU1hcmtlcigKICAgICAgICAgICAgICAgIFs0My42Njg5OTg1LC03OS4zMTU1NzE1OTk5OTk5OF0sCiAgICAgICAgICAgICAgICB7CiAgImJ1YmJsaW5nTW91c2VFdmVudHMiOiB0cnVlLAogICJjb2xvciI6ICJibHVlIiwKICAiZGFzaEFycmF5IjogbnVsbCwKICAiZGFzaE9mZnNldCI6IG51bGwsCiAgImZpbGwiOiB0cnVlLAogICJmaWxsQ29sb3IiOiAiIzMxODZjYyIsCiAgImZpbGxPcGFjaXR5IjogMC43LAogICJmaWxsUnVsZSI6ICJldmVub2RkIiwKICAibGluZUNhcCI6ICJyb3VuZCIsCiAgImxpbmVKb2luIjogInJvdW5kIiwKICAib3BhY2l0eSI6IDEuMCwKICAicmFkaXVzIjogNSwKICAic3Ryb2tlIjogdHJ1ZSwKICAid2VpZ2h0IjogMwp9CiAgICAgICAgICAgICAgICApLmFkZFRvKG1hcF9jMWRjNTllYzg4NzQ0Y2E1YTNmN2Q0ZDg5MzA5NTZkMyk7CiAgICAgICAgICAgIAogICAgCiAgICAgICAgICAgIHZhciBwb3B1cF85MzJjZmRlOGM2NTA0NTJiODJmNzg4OTNkNTA3NGRjYiA9IEwucG9wdXAoe21heFdpZHRoOiAnMzAwJ30pOwoKICAgICAgICAgICAgCiAgICAgICAgICAgICAgICB2YXIgaHRtbF9iYjg3ZDY2Zjg0YTU0YWI0YTljNjRhYzBmNzdiNWM4ZiA9ICQoJzxkaXYgaWQ9Imh0bWxfYmI4N2Q2NmY4NGE1NGFiNGE5YzY0YWMwZjc3YjVjOGYiIHN0eWxlPSJ3aWR0aDogMTAwLjAlOyBoZWlnaHQ6IDEwMC4wJTsiPkluZGlhIEJhemFhciwgVGhlIEJlYWNoZXMgV2VzdDwvZGl2PicpWzBdOwogICAgICAgICAgICAgICAgcG9wdXBfOTMyY2ZkZThjNjUwNDUyYjgyZjc4ODkzZDUwNzRkY2Iuc2V0Q29udGVudChodG1sX2JiODdkNjZmODRhNTRhYjRhOWM2NGFjMGY3N2I1YzhmKTsKICAgICAgICAgICAgCgogICAgICAgICAgICBjaXJjbGVfbWFya2VyXzZkYTNkODUxNTU1ZDQ4MTU4MWNiMmZmNmVkMzgwODlmLmJpbmRQb3B1cChwb3B1cF85MzJjZmRlOGM2NTA0NTJiODJmNzg4OTNkNTA3NGRjYik7CgogICAgICAgICAgICAKICAgICAgICAKICAgIAogICAgICAgICAgICB2YXIgY2lyY2xlX21hcmtlcl9iNzBkYTQ0MTI4MGI0NjdmYjhlYmRiZTQ5MjFmOGRhNiA9IEwuY2lyY2xlTWFya2VyKAogICAgICAgICAgICAgICAgWzQzLjY0ODE5ODUsLTc5LjM3OTgxNjkwMDAwMDAxXSwKICAgICAgICAgICAgICAgIHsKICAiYnViYmxpbmdNb3VzZUV2ZW50cyI6IHRydWUsCiAgImNvbG9yIjogImJsdWUiLAogICJkYXNoQXJyYXkiOiBudWxsLAogICJkYXNoT2Zmc2V0IjogbnVsbCwKICAiZmlsbCI6IHRydWUsCiAgImZpbGxDb2xvciI6ICIjMzE4NmNjIiwKICAiZmlsbE9wYWNpdHkiOiAwLjcsCiAgImZpbGxSdWxlIjogImV2ZW5vZGQiLAogICJsaW5lQ2FwIjogInJvdW5kIiwKICAibGluZUpvaW4iOiAicm91bmQiLAogICJvcGFjaXR5IjogMS4wLAogICJyYWRpdXMiOiA1LAogICJzdHJva2UiOiB0cnVlLAogICJ3ZWlnaHQiOiAzCn0KICAgICAgICAgICAgICAgICkuYWRkVG8obWFwX2MxZGM1OWVjODg3NDRjYTVhM2Y3ZDRkODkzMDk1NmQzKTsKICAgICAgICAgICAgCiAgICAKICAgICAgICAgICAgdmFyIHBvcHVwX2QxOGViMTkzZTE3OTQ2MmY5NjVkNDk5NzQ0YWUxODk3ID0gTC5wb3B1cCh7bWF4V2lkdGg6ICczMDAnfSk7CgogICAgICAgICAgICAKICAgICAgICAgICAgICAgIHZhciBodG1sXzhmN2MwZDEwYWE2ZjQ5N2E4ODE2ZWNkZmIxNTM4NmVlID0gJCgnPGRpdiBpZD0iaHRtbF84ZjdjMGQxMGFhNmY0OTdhODgxNmVjZGZiMTUzODZlZSIgc3R5bGU9IndpZHRoOiAxMDAuMCU7IGhlaWdodDogMTAwLjAlOyI+Q29tbWVyY2UgQ291cnQsIFZpY3RvcmlhIEhvdGVsPC9kaXY+JylbMF07CiAgICAgICAgICAgICAgICBwb3B1cF9kMThlYjE5M2UxNzk0NjJmOTY1ZDQ5OTc0NGFlMTg5Ny5zZXRDb250ZW50KGh0bWxfOGY3YzBkMTBhYTZmNDk3YTg4MTZlY2RmYjE1Mzg2ZWUpOwogICAgICAgICAgICAKCiAgICAgICAgICAgIGNpcmNsZV9tYXJrZXJfYjcwZGE0NDEyODBiNDY3ZmI4ZWJkYmU0OTIxZjhkYTYuYmluZFBvcHVwKHBvcHVwX2QxOGViMTkzZTE3OTQ2MmY5NjVkNDk5NzQ0YWUxODk3KTsKCiAgICAgICAgICAgIAogICAgICAgIAogICAgCiAgICAgICAgICAgIHZhciBjaXJjbGVfbWFya2VyX2E2YTIxMDBlMjYyZDQyMjdiNmFiYzVhODg4OGZmYjI1ID0gTC5jaXJjbGVNYXJrZXIoCiAgICAgICAgICAgICAgICBbNDMuNjU5NTI1NSwtNzkuMzQwOTIzXSwKICAgICAgICAgICAgICAgIHsKICAiYnViYmxpbmdNb3VzZUV2ZW50cyI6IHRydWUsCiAgImNvbG9yIjogImJsdWUiLAogICJkYXNoQXJyYXkiOiBudWxsLAogICJkYXNoT2Zmc2V0IjogbnVsbCwKICAiZmlsbCI6IHRydWUsCiAgImZpbGxDb2xvciI6ICIjMzE4NmNjIiwKICAiZmlsbE9wYWNpdHkiOiAwLjcsCiAgImZpbGxSdWxlIjogImV2ZW5vZGQiLAogICJsaW5lQ2FwIjogInJvdW5kIiwKICAibGluZUpvaW4iOiAicm91bmQiLAogICJvcGFjaXR5IjogMS4wLAogICJyYWRpdXMiOiA1LAogICJzdHJva2UiOiB0cnVlLAogICJ3ZWlnaHQiOiAzCn0KICAgICAgICAgICAgICAgICkuYWRkVG8obWFwX2MxZGM1OWVjODg3NDRjYTVhM2Y3ZDRkODkzMDk1NmQzKTsKICAgICAgICAgICAgCiAgICAKICAgICAgICAgICAgdmFyIHBvcHVwXzgxNWRmZDExZDhiMzQwZjA4MDdkZjE0YTUyMjBiNjQ1ID0gTC5wb3B1cCh7bWF4V2lkdGg6ICczMDAnfSk7CgogICAgICAgICAgICAKICAgICAgICAgICAgICAgIHZhciBodG1sXzZkYjkxNTYzNDIwMzRlNDhhZmQ4YWVkODZiZTdmYTU1ID0gJCgnPGRpdiBpZD0iaHRtbF82ZGI5MTU2MzQyMDM0ZTQ4YWZkOGFlZDg2YmU3ZmE1NSIgc3R5bGU9IndpZHRoOiAxMDAuMCU7IGhlaWdodDogMTAwLjAlOyI+U3R1ZGlvIERpc3RyaWN0PC9kaXY+JylbMF07CiAgICAgICAgICAgICAgICBwb3B1cF84MTVkZmQxMWQ4YjM0MGYwODA3ZGYxNGE1MjIwYjY0NS5zZXRDb250ZW50KGh0bWxfNmRiOTE1NjM0MjAzNGU0OGFmZDhhZWQ4NmJlN2ZhNTUpOwogICAgICAgICAgICAKCiAgICAgICAgICAgIGNpcmNsZV9tYXJrZXJfYTZhMjEwMGUyNjJkNDIyN2I2YWJjNWE4ODg4ZmZiMjUuYmluZFBvcHVwKHBvcHVwXzgxNWRmZDExZDhiMzQwZjA4MDdkZjE0YTUyMjBiNjQ1KTsKCiAgICAgICAgICAgIAogICAgICAgIAogICAgCiAgICAgICAgICAgIHZhciBjaXJjbGVfbWFya2VyXzI1MGYxYzhlOWQ4NTRiOWZhODI0NWYzMzRlNjA3MWU3ID0gTC5jaXJjbGVNYXJrZXIoCiAgICAgICAgICAgICAgICBbNDMuNzI4MDIwNSwtNzkuMzg4NzkwMV0sCiAgICAgICAgICAgICAgICB7CiAgImJ1YmJsaW5nTW91c2VFdmVudHMiOiB0cnVlLAogICJjb2xvciI6ICJibHVlIiwKICAiZGFzaEFycmF5IjogbnVsbCwKICAiZGFzaE9mZnNldCI6IG51bGwsCiAgImZpbGwiOiB0cnVlLAogICJmaWxsQ29sb3IiOiAiIzMxODZjYyIsCiAgImZpbGxPcGFjaXR5IjogMC43LAogICJmaWxsUnVsZSI6ICJldmVub2RkIiwKICAibGluZUNhcCI6ICJyb3VuZCIsCiAgImxpbmVKb2luIjogInJvdW5kIiwKICAib3BhY2l0eSI6IDEuMCwKICAicmFkaXVzIjogNSwKICAic3Ryb2tlIjogdHJ1ZSwKICAid2VpZ2h0IjogMwp9CiAgICAgICAgICAgICAgICApLmFkZFRvKG1hcF9jMWRjNTllYzg4NzQ0Y2E1YTNmN2Q0ZDg5MzA5NTZkMyk7CiAgICAgICAgICAgIAogICAgCiAgICAgICAgICAgIHZhciBwb3B1cF9lOTgxOGRlYzJjMGU0NTg2YjZlOWU2NmZkZDI2ZmVhZiA9IEwucG9wdXAoe21heFdpZHRoOiAnMzAwJ30pOwoKICAgICAgICAgICAgCiAgICAgICAgICAgICAgICB2YXIgaHRtbF9kMjM3NWE2NzExNjA0NWRhYjQ2Mzg3YzE0MDE1NDQwZSA9ICQoJzxkaXYgaWQ9Imh0bWxfZDIzNzVhNjcxMTYwNDVkYWI0NjM4N2MxNDAxNTQ0MGUiIHN0eWxlPSJ3aWR0aDogMTAwLjAlOyBoZWlnaHQ6IDEwMC4wJTsiPkxhd3JlbmNlIFBhcms8L2Rpdj4nKVswXTsKICAgICAgICAgICAgICAgIHBvcHVwX2U5ODE4ZGVjMmMwZTQ1ODZiNmU5ZTY2ZmRkMjZmZWFmLnNldENvbnRlbnQoaHRtbF9kMjM3NWE2NzExNjA0NWRhYjQ2Mzg3YzE0MDE1NDQwZSk7CiAgICAgICAgICAgIAoKICAgICAgICAgICAgY2lyY2xlX21hcmtlcl8yNTBmMWM4ZTlkODU0YjlmYTgyNDVmMzM0ZTYwNzFlNy5iaW5kUG9wdXAocG9wdXBfZTk4MThkZWMyYzBlNDU4NmI2ZTllNjZmZGQyNmZlYWYpOwoKICAgICAgICAgICAgCiAgICAgICAgCiAgICAKICAgICAgICAgICAgdmFyIGNpcmNsZV9tYXJrZXJfNjFjN2YxYWQ5NDdhNDk3ZmIwODg0ZjdjM2IyNDc2YWMgPSBMLmNpcmNsZU1hcmtlcigKICAgICAgICAgICAgICAgIFs0My43MTE2OTQ4LC03OS40MTY5MzU1OTk5OTk5OV0sCiAgICAgICAgICAgICAgICB7CiAgImJ1YmJsaW5nTW91c2VFdmVudHMiOiB0cnVlLAogICJjb2xvciI6ICJibHVlIiwKICAiZGFzaEFycmF5IjogbnVsbCwKICAiZGFzaE9mZnNldCI6IG51bGwsCiAgImZpbGwiOiB0cnVlLAogICJmaWxsQ29sb3IiOiAiIzMxODZjYyIsCiAgImZpbGxPcGFjaXR5IjogMC43LAogICJmaWxsUnVsZSI6ICJldmVub2RkIiwKICAibGluZUNhcCI6ICJyb3VuZCIsCiAgImxpbmVKb2luIjogInJvdW5kIiwKICAib3BhY2l0eSI6IDEuMCwKICAicmFkaXVzIjogNSwKICAic3Ryb2tlIjogdHJ1ZSwKICAid2VpZ2h0IjogMwp9CiAgICAgICAgICAgICAgICApLmFkZFRvKG1hcF9jMWRjNTllYzg4NzQ0Y2E1YTNmN2Q0ZDg5MzA5NTZkMyk7CiAgICAgICAgICAgIAogICAgCiAgICAgICAgICAgIHZhciBwb3B1cF9lYWJmNDhiOGVmMjg0MDU4YWU2Yjc2OGE1NDliMDA2NyA9IEwucG9wdXAoe21heFdpZHRoOiAnMzAwJ30pOwoKICAgICAgICAgICAgCiAgICAgICAgICAgICAgICB2YXIgaHRtbF8xOThlNjMwM2Y5M2M0YTYxYmUyZWMxMDgzYzY2YWVmYyA9ICQoJzxkaXYgaWQ9Imh0bWxfMTk4ZTYzMDNmOTNjNGE2MWJlMmVjMTA4M2M2NmFlZmMiIHN0eWxlPSJ3aWR0aDogMTAwLjAlOyBoZWlnaHQ6IDEwMC4wJTsiPlJvc2VsYXduPC9kaXY+JylbMF07CiAgICAgICAgICAgICAgICBwb3B1cF9lYWJmNDhiOGVmMjg0MDU4YWU2Yjc2OGE1NDliMDA2Ny5zZXRDb250ZW50KGh0bWxfMTk4ZTYzMDNmOTNjNGE2MWJlMmVjMTA4M2M2NmFlZmMpOwogICAgICAgICAgICAKCiAgICAgICAgICAgIGNpcmNsZV9tYXJrZXJfNjFjN2YxYWQ5NDdhNDk3ZmIwODg0ZjdjM2IyNDc2YWMuYmluZFBvcHVwKHBvcHVwX2VhYmY0OGI4ZWYyODQwNThhZTZiNzY4YTU0OWIwMDY3KTsKCiAgICAgICAgICAgIAogICAgICAgIAogICAgCiAgICAgICAgICAgIHZhciBjaXJjbGVfbWFya2VyXzBlYmNlMWYxMTExNTQyOWFiYmNjZmI2OGM4NTkyNjMyID0gTC5jaXJjbGVNYXJrZXIoCiAgICAgICAgICAgICAgICBbNDMuNzEyNzUxMSwtNzkuMzkwMTk3NV0sCiAgICAgICAgICAgICAgICB7CiAgImJ1YmJsaW5nTW91c2VFdmVudHMiOiB0cnVlLAogICJjb2xvciI6ICJibHVlIiwKICAiZGFzaEFycmF5IjogbnVsbCwKICAiZGFzaE9mZnNldCI6IG51bGwsCiAgImZpbGwiOiB0cnVlLAogICJmaWxsQ29sb3IiOiAiIzMxODZjYyIsCiAgImZpbGxPcGFjaXR5IjogMC43LAogICJmaWxsUnVsZSI6ICJldmVub2RkIiwKICAibGluZUNhcCI6ICJyb3VuZCIsCiAgImxpbmVKb2luIjogInJvdW5kIiwKICAib3BhY2l0eSI6IDEuMCwKICAicmFkaXVzIjogNSwKICAic3Ryb2tlIjogdHJ1ZSwKICAid2VpZ2h0IjogMwp9CiAgICAgICAgICAgICAgICApLmFkZFRvKG1hcF9jMWRjNTllYzg4NzQ0Y2E1YTNmN2Q0ZDg5MzA5NTZkMyk7CiAgICAgICAgICAgIAogICAgCiAgICAgICAgICAgIHZhciBwb3B1cF82ZDcwMGM1ZmFiY2I0MDM2ODk1ZGM2OThkNDFkOTg5ZiA9IEwucG9wdXAoe21heFdpZHRoOiAnMzAwJ30pOwoKICAgICAgICAgICAgCiAgICAgICAgICAgICAgICB2YXIgaHRtbF9jZjA1Yzc2ZjhiNDg0YjI4OThhMzg1MGJjZjlmODdiMyA9ICQoJzxkaXYgaWQ9Imh0bWxfY2YwNWM3NmY4YjQ4NGIyODk4YTM4NTBiY2Y5Zjg3YjMiIHN0eWxlPSJ3aWR0aDogMTAwLjAlOyBoZWlnaHQ6IDEwMC4wJTsiPkRhdmlzdmlsbGUgTm9ydGg8L2Rpdj4nKVswXTsKICAgICAgICAgICAgICAgIHBvcHVwXzZkNzAwYzVmYWJjYjQwMzY4OTVkYzY5OGQ0MWQ5ODlmLnNldENvbnRlbnQoaHRtbF9jZjA1Yzc2ZjhiNDg0YjI4OThhMzg1MGJjZjlmODdiMyk7CiAgICAgICAgICAgIAoKICAgICAgICAgICAgY2lyY2xlX21hcmtlcl8wZWJjZTFmMTExMTU0MjlhYmJjY2ZiNjhjODU5MjYzMi5iaW5kUG9wdXAocG9wdXBfNmQ3MDBjNWZhYmNiNDAzNjg5NWRjNjk4ZDQxZDk4OWYpOwoKICAgICAgICAgICAgCiAgICAgICAgCiAgICAKICAgICAgICAgICAgdmFyIGNpcmNsZV9tYXJrZXJfYTE0YjRlMDc3MzNlNGU5ZTg5ZWRhNTY1MGY0MjkzMTAgPSBMLmNpcmNsZU1hcmtlcigKICAgICAgICAgICAgICAgIFs0My42OTY5NDc2LC03OS40MTEzMDcyMDAwMDAwMV0sCiAgICAgICAgICAgICAgICB7CiAgImJ1YmJsaW5nTW91c2VFdmVudHMiOiB0cnVlLAogICJjb2xvciI6ICJibHVlIiwKICAiZGFzaEFycmF5IjogbnVsbCwKICAiZGFzaE9mZnNldCI6IG51bGwsCiAgImZpbGwiOiB0cnVlLAogICJmaWxsQ29sb3IiOiAiIzMxODZjYyIsCiAgImZpbGxPcGFjaXR5IjogMC43LAogICJmaWxsUnVsZSI6ICJldmVub2RkIiwKICAibGluZUNhcCI6ICJyb3VuZCIsCiAgImxpbmVKb2luIjogInJvdW5kIiwKICAib3BhY2l0eSI6IDEuMCwKICAicmFkaXVzIjogNSwKICAic3Ryb2tlIjogdHJ1ZSwKICAid2VpZ2h0IjogMwp9CiAgICAgICAgICAgICAgICApLmFkZFRvKG1hcF9jMWRjNTllYzg4NzQ0Y2E1YTNmN2Q0ZDg5MzA5NTZkMyk7CiAgICAgICAgICAgIAogICAgCiAgICAgICAgICAgIHZhciBwb3B1cF84ZWRhN2YwMzM5ZjM0NDBlOGRjYTg2YjMxMjJjODM1MiA9IEwucG9wdXAoe21heFdpZHRoOiAnMzAwJ30pOwoKICAgICAgICAgICAgCiAgICAgICAgICAgICAgICB2YXIgaHRtbF9iMGMwN2Y2NTYwNTI0ZTIwOGQxZGVlMDRlYWEyZjlkMiA9ICQoJzxkaXYgaWQ9Imh0bWxfYjBjMDdmNjU2MDUyNGUyMDhkMWRlZTA0ZWFhMmY5ZDIiIHN0eWxlPSJ3aWR0aDogMTAwLjAlOyBoZWlnaHQ6IDEwMC4wJTsiPkZvcmVzdCBIaWxsIE5vcnRoICZhbXA7IFdlc3QsIEZvcmVzdCBIaWxsIFJvYWQgUGFyazwvZGl2PicpWzBdOwogICAgICAgICAgICAgICAgcG9wdXBfOGVkYTdmMDMzOWYzNDQwZThkY2E4NmIzMTIyYzgzNTIuc2V0Q29udGVudChodG1sX2IwYzA3ZjY1NjA1MjRlMjA4ZDFkZWUwNGVhYTJmOWQyKTsKICAgICAgICAgICAgCgogICAgICAgICAgICBjaXJjbGVfbWFya2VyX2ExNGI0ZTA3NzMzZTRlOWU4OWVkYTU2NTBmNDI5MzEwLmJpbmRQb3B1cChwb3B1cF84ZWRhN2YwMzM5ZjM0NDBlOGRjYTg2YjMxMjJjODM1Mik7CgogICAgICAgICAgICAKICAgICAgICAKICAgIAogICAgICAgICAgICB2YXIgY2lyY2xlX21hcmtlcl9jNzcxMjM2MmQ1Zjg0N2Q4YmQ4NGFhZmIyOGU0MWFhYyA9IEwuY2lyY2xlTWFya2VyKAogICAgICAgICAgICAgICAgWzQzLjY2MTYwODMsLTc5LjQ2NDc2MzI5OTk5OTk5XSwKICAgICAgICAgICAgICAgIHsKICAiYnViYmxpbmdNb3VzZUV2ZW50cyI6IHRydWUsCiAgImNvbG9yIjogImJsdWUiLAogICJkYXNoQXJyYXkiOiBudWxsLAogICJkYXNoT2Zmc2V0IjogbnVsbCwKICAiZmlsbCI6IHRydWUsCiAgImZpbGxDb2xvciI6ICIjMzE4NmNjIiwKICAiZmlsbE9wYWNpdHkiOiAwLjcsCiAgImZpbGxSdWxlIjogImV2ZW5vZGQiLAogICJsaW5lQ2FwIjogInJvdW5kIiwKICAibGluZUpvaW4iOiAicm91bmQiLAogICJvcGFjaXR5IjogMS4wLAogICJyYWRpdXMiOiA1LAogICJzdHJva2UiOiB0cnVlLAogICJ3ZWlnaHQiOiAzCn0KICAgICAgICAgICAgICAgICkuYWRkVG8obWFwX2MxZGM1OWVjODg3NDRjYTVhM2Y3ZDRkODkzMDk1NmQzKTsKICAgICAgICAgICAgCiAgICAKICAgICAgICAgICAgdmFyIHBvcHVwXzkzY2NkNDkyYTY2MTQ4MDA4OGYzMDc0NDlmYThjYWE5ID0gTC5wb3B1cCh7bWF4V2lkdGg6ICczMDAnfSk7CgogICAgICAgICAgICAKICAgICAgICAgICAgICAgIHZhciBodG1sXzQ4ODE2NDRjODBiNDQ1YjBiOGRlODA2ZGMzYjdhN2NjID0gJCgnPGRpdiBpZD0iaHRtbF80ODgxNjQ0YzgwYjQ0NWIwYjhkZTgwNmRjM2I3YTdjYyIgc3R5bGU9IndpZHRoOiAxMDAuMCU7IGhlaWdodDogMTAwLjAlOyI+SGlnaCBQYXJrLCBUaGUgSnVuY3Rpb24gU291dGg8L2Rpdj4nKVswXTsKICAgICAgICAgICAgICAgIHBvcHVwXzkzY2NkNDkyYTY2MTQ4MDA4OGYzMDc0NDlmYThjYWE5LnNldENvbnRlbnQoaHRtbF80ODgxNjQ0YzgwYjQ0NWIwYjhkZTgwNmRjM2I3YTdjYyk7CiAgICAgICAgICAgIAoKICAgICAgICAgICAgY2lyY2xlX21hcmtlcl9jNzcxMjM2MmQ1Zjg0N2Q4YmQ4NGFhZmIyOGU0MWFhYy5iaW5kUG9wdXAocG9wdXBfOTNjY2Q0OTJhNjYxNDgwMDg4ZjMwNzQ0OWZhOGNhYTkpOwoKICAgICAgICAgICAgCiAgICAgICAgCiAgICAKICAgICAgICAgICAgdmFyIGNpcmNsZV9tYXJrZXJfMmI1NjY5ZWY3NzkzNGY3NDg0OGY1ZDljMzhhNDA0NDQgPSBMLmNpcmNsZU1hcmtlcigKICAgICAgICAgICAgICAgIFs0My43MTUzODM0LC03OS40MDU2Nzg0MDAwMDAwMV0sCiAgICAgICAgICAgICAgICB7CiAgImJ1YmJsaW5nTW91c2VFdmVudHMiOiB0cnVlLAogICJjb2xvciI6ICJibHVlIiwKICAiZGFzaEFycmF5IjogbnVsbCwKICAiZGFzaE9mZnNldCI6IG51bGwsCiAgImZpbGwiOiB0cnVlLAogICJmaWxsQ29sb3IiOiAiIzMxODZjYyIsCiAgImZpbGxPcGFjaXR5IjogMC43LAogICJmaWxsUnVsZSI6ICJldmVub2RkIiwKICAibGluZUNhcCI6ICJyb3VuZCIsCiAgImxpbmVKb2luIjogInJvdW5kIiwKICAib3BhY2l0eSI6IDEuMCwKICAicmFkaXVzIjogNSwKICAic3Ryb2tlIjogdHJ1ZSwKICAid2VpZ2h0IjogMwp9CiAgICAgICAgICAgICAgICApLmFkZFRvKG1hcF9jMWRjNTllYzg4NzQ0Y2E1YTNmN2Q0ZDg5MzA5NTZkMyk7CiAgICAgICAgICAgIAogICAgCiAgICAgICAgICAgIHZhciBwb3B1cF83ZTkyNDkzYzdmOTM0NDgwYTA2MWNiNzY1ZDgyYjQ3MiA9IEwucG9wdXAoe21heFdpZHRoOiAnMzAwJ30pOwoKICAgICAgICAgICAgCiAgICAgICAgICAgICAgICB2YXIgaHRtbF8xOGVkZjA4M2I4NTU0ZGFhODQ5NmZkNDA3OWZjMDhkMyA9ICQoJzxkaXYgaWQ9Imh0bWxfMThlZGYwODNiODU1NGRhYTg0OTZmZDQwNzlmYzA4ZDMiIHN0eWxlPSJ3aWR0aDogMTAwLjAlOyBoZWlnaHQ6IDEwMC4wJTsiPk5vcnRoIFRvcm9udG8gV2VzdCwgTGF3cmVuY2UgUGFyazwvZGl2PicpWzBdOwogICAgICAgICAgICAgICAgcG9wdXBfN2U5MjQ5M2M3ZjkzNDQ4MGEwNjFjYjc2NWQ4MmI0NzIuc2V0Q29udGVudChodG1sXzE4ZWRmMDgzYjg1NTRkYWE4NDk2ZmQ0MDc5ZmMwOGQzKTsKICAgICAgICAgICAgCgogICAgICAgICAgICBjaXJjbGVfbWFya2VyXzJiNTY2OWVmNzc5MzRmNzQ4NDhmNWQ5YzM4YTQwNDQ0LmJpbmRQb3B1cChwb3B1cF83ZTkyNDkzYzdmOTM0NDgwYTA2MWNiNzY1ZDgyYjQ3Mik7CgogICAgICAgICAgICAKICAgICAgICAKICAgIAogICAgICAgICAgICB2YXIgY2lyY2xlX21hcmtlcl9lM2ZhMzQ3NWRjYjU0MWRlOGJlOGE2NjlkNGZkNzM3ZCA9IEwuY2lyY2xlTWFya2VyKAogICAgICAgICAgICAgICAgWzQzLjY3MjcwOTcsLTc5LjQwNTY3ODQwMDAwMDAxXSwKICAgICAgICAgICAgICAgIHsKICAiYnViYmxpbmdNb3VzZUV2ZW50cyI6IHRydWUsCiAgImNvbG9yIjogImJsdWUiLAogICJkYXNoQXJyYXkiOiBudWxsLAogICJkYXNoT2Zmc2V0IjogbnVsbCwKICAiZmlsbCI6IHRydWUsCiAgImZpbGxDb2xvciI6ICIjMzE4NmNjIiwKICAiZmlsbE9wYWNpdHkiOiAwLjcsCiAgImZpbGxSdWxlIjogImV2ZW5vZGQiLAogICJsaW5lQ2FwIjogInJvdW5kIiwKICAibGluZUpvaW4iOiAicm91bmQiLAogICJvcGFjaXR5IjogMS4wLAogICJyYWRpdXMiOiA1LAogICJzdHJva2UiOiB0cnVlLAogICJ3ZWlnaHQiOiAzCn0KICAgICAgICAgICAgICAgICkuYWRkVG8obWFwX2MxZGM1OWVjODg3NDRjYTVhM2Y3ZDRkODkzMDk1NmQzKTsKICAgICAgICAgICAgCiAgICAKICAgICAgICAgICAgdmFyIHBvcHVwXzljOTAwNGE5NjEzZDRiZTY4MzJjZjhmZDVhYmQyYmI1ID0gTC5wb3B1cCh7bWF4V2lkdGg6ICczMDAnfSk7CgogICAgICAgICAgICAKICAgICAgICAgICAgICAgIHZhciBodG1sXzYyZDNlZWQ2M2YzZjRhZTA5Mjc0MWZhM2U2ZGFiNzRlID0gJCgnPGRpdiBpZD0iaHRtbF82MmQzZWVkNjNmM2Y0YWUwOTI3NDFmYTNlNmRhYjc0ZSIgc3R5bGU9IndpZHRoOiAxMDAuMCU7IGhlaWdodDogMTAwLjAlOyI+VGhlIEFubmV4LCBOb3J0aCBNaWR0b3duLCBZb3JrdmlsbGU8L2Rpdj4nKVswXTsKICAgICAgICAgICAgICAgIHBvcHVwXzljOTAwNGE5NjEzZDRiZTY4MzJjZjhmZDVhYmQyYmI1LnNldENvbnRlbnQoaHRtbF82MmQzZWVkNjNmM2Y0YWUwOTI3NDFmYTNlNmRhYjc0ZSk7CiAgICAgICAgICAgIAoKICAgICAgICAgICAgY2lyY2xlX21hcmtlcl9lM2ZhMzQ3NWRjYjU0MWRlOGJlOGE2NjlkNGZkNzM3ZC5iaW5kUG9wdXAocG9wdXBfOWM5MDA0YTk2MTNkNGJlNjgzMmNmOGZkNWFiZDJiYjUpOwoKICAgICAgICAgICAgCiAgICAgICAgCiAgICAKICAgICAgICAgICAgdmFyIGNpcmNsZV9tYXJrZXJfNGUzODUwNzBhNDRjNDUzNDkxMWZlZDQzM2E0M2E3NzIgPSBMLmNpcmNsZU1hcmtlcigKICAgICAgICAgICAgICAgIFs0My42NDg5NTk3LC03OS40NTYzMjVdLAogICAgICAgICAgICAgICAgewogICJidWJibGluZ01vdXNlRXZlbnRzIjogdHJ1ZSwKICAiY29sb3IiOiAiYmx1ZSIsCiAgImRhc2hBcnJheSI6IG51bGwsCiAgImRhc2hPZmZzZXQiOiBudWxsLAogICJmaWxsIjogdHJ1ZSwKICAiZmlsbENvbG9yIjogIiMzMTg2Y2MiLAogICJmaWxsT3BhY2l0eSI6IDAuNywKICAiZmlsbFJ1bGUiOiAiZXZlbm9kZCIsCiAgImxpbmVDYXAiOiAicm91bmQiLAogICJsaW5lSm9pbiI6ICJyb3VuZCIsCiAgIm9wYWNpdHkiOiAxLjAsCiAgInJhZGl1cyI6IDUsCiAgInN0cm9rZSI6IHRydWUsCiAgIndlaWdodCI6IDMKfQogICAgICAgICAgICAgICAgKS5hZGRUbyhtYXBfYzFkYzU5ZWM4ODc0NGNhNWEzZjdkNGQ4OTMwOTU2ZDMpOwogICAgICAgICAgICAKICAgIAogICAgICAgICAgICB2YXIgcG9wdXBfNGJhZTA3ZDFhMWZjNDAwOWFlZWYwNmQ0ZDU0Zjg2MGEgPSBMLnBvcHVwKHttYXhXaWR0aDogJzMwMCd9KTsKCiAgICAgICAgICAgIAogICAgICAgICAgICAgICAgdmFyIGh0bWxfNGNjNzM0MjU0Y2M5NDBlM2E1ZTg2NGE1MGFlZjQ5ZjIgPSAkKCc8ZGl2IGlkPSJodG1sXzRjYzczNDI1NGNjOTQwZTNhNWU4NjRhNTBhZWY0OWYyIiBzdHlsZT0id2lkdGg6IDEwMC4wJTsgaGVpZ2h0OiAxMDAuMCU7Ij5QYXJrZGFsZSwgUm9uY2VzdmFsbGVzPC9kaXY+JylbMF07CiAgICAgICAgICAgICAgICBwb3B1cF80YmFlMDdkMWExZmM0MDA5YWVlZjA2ZDRkNTRmODYwYS5zZXRDb250ZW50KGh0bWxfNGNjNzM0MjU0Y2M5NDBlM2E1ZTg2NGE1MGFlZjQ5ZjIpOwogICAgICAgICAgICAKCiAgICAgICAgICAgIGNpcmNsZV9tYXJrZXJfNGUzODUwNzBhNDRjNDUzNDkxMWZlZDQzM2E0M2E3NzIuYmluZFBvcHVwKHBvcHVwXzRiYWUwN2QxYTFmYzQwMDlhZWVmMDZkNGQ1NGY4NjBhKTsKCiAgICAgICAgICAgIAogICAgICAgIAogICAgCiAgICAgICAgICAgIHZhciBjaXJjbGVfbWFya2VyX2JlN2JiMjU2NmEzNjRiZWJiYzA3MmI5MDg2YjNkYTU4ID0gTC5jaXJjbGVNYXJrZXIoCiAgICAgICAgICAgICAgICBbNDMuNzA0MzI0NCwtNzkuMzg4NzkwMV0sCiAgICAgICAgICAgICAgICB7CiAgImJ1YmJsaW5nTW91c2VFdmVudHMiOiB0cnVlLAogICJjb2xvciI6ICJibHVlIiwKICAiZGFzaEFycmF5IjogbnVsbCwKICAiZGFzaE9mZnNldCI6IG51bGwsCiAgImZpbGwiOiB0cnVlLAogICJmaWxsQ29sb3IiOiAiIzMxODZjYyIsCiAgImZpbGxPcGFjaXR5IjogMC43LAogICJmaWxsUnVsZSI6ICJldmVub2RkIiwKICAibGluZUNhcCI6ICJyb3VuZCIsCiAgImxpbmVKb2luIjogInJvdW5kIiwKICAib3BhY2l0eSI6IDEuMCwKICAicmFkaXVzIjogNSwKICAic3Ryb2tlIjogdHJ1ZSwKICAid2VpZ2h0IjogMwp9CiAgICAgICAgICAgICAgICApLmFkZFRvKG1hcF9jMWRjNTllYzg4NzQ0Y2E1YTNmN2Q0ZDg5MzA5NTZkMyk7CiAgICAgICAgICAgIAogICAgCiAgICAgICAgICAgIHZhciBwb3B1cF8xNjcwMWZjNGEwYjU0MWE0YTIyMWExYTI3NWMxNDJmNCA9IEwucG9wdXAoe21heFdpZHRoOiAnMzAwJ30pOwoKICAgICAgICAgICAgCiAgICAgICAgICAgICAgICB2YXIgaHRtbF85M2I5YzU0ZGUzZjM0ZDZkOWM4ZjQ1YmY1NTYxNTAwYiA9ICQoJzxkaXYgaWQ9Imh0bWxfOTNiOWM1NGRlM2YzNGQ2ZDljOGY0NWJmNTU2MTUwMGIiIHN0eWxlPSJ3aWR0aDogMTAwLjAlOyBoZWlnaHQ6IDEwMC4wJTsiPkRhdmlzdmlsbGU8L2Rpdj4nKVswXTsKICAgICAgICAgICAgICAgIHBvcHVwXzE2NzAxZmM0YTBiNTQxYTRhMjIxYTFhMjc1YzE0MmY0LnNldENvbnRlbnQoaHRtbF85M2I5YzU0ZGUzZjM0ZDZkOWM4ZjQ1YmY1NTYxNTAwYik7CiAgICAgICAgICAgIAoKICAgICAgICAgICAgY2lyY2xlX21hcmtlcl9iZTdiYjI1NjZhMzY0YmViYmMwNzJiOTA4NmIzZGE1OC5iaW5kUG9wdXAocG9wdXBfMTY3MDFmYzRhMGI1NDFhNGEyMjFhMWEyNzVjMTQyZjQpOwoKICAgICAgICAgICAgCiAgICAgICAgCiAgICAKICAgICAgICAgICAgdmFyIGNpcmNsZV9tYXJrZXJfMTcyZjcyY2VmYzRkNDNhZWE5NDhiNTc2Mjg2MGNmY2EgPSBMLmNpcmNsZU1hcmtlcigKICAgICAgICAgICAgICAgIFs0My42NjI2OTU2LC03OS40MDAwNDkzXSwKICAgICAgICAgICAgICAgIHsKICAiYnViYmxpbmdNb3VzZUV2ZW50cyI6IHRydWUsCiAgImNvbG9yIjogImJsdWUiLAogICJkYXNoQXJyYXkiOiBudWxsLAogICJkYXNoT2Zmc2V0IjogbnVsbCwKICAiZmlsbCI6IHRydWUsCiAgImZpbGxDb2xvciI6ICIjMzE4NmNjIiwKICAiZmlsbE9wYWNpdHkiOiAwLjcsCiAgImZpbGxSdWxlIjogImV2ZW5vZGQiLAogICJsaW5lQ2FwIjogInJvdW5kIiwKICAibGluZUpvaW4iOiAicm91bmQiLAogICJvcGFjaXR5IjogMS4wLAogICJyYWRpdXMiOiA1LAogICJzdHJva2UiOiB0cnVlLAogICJ3ZWlnaHQiOiAzCn0KICAgICAgICAgICAgICAgICkuYWRkVG8obWFwX2MxZGM1OWVjODg3NDRjYTVhM2Y3ZDRkODkzMDk1NmQzKTsKICAgICAgICAgICAgCiAgICAKICAgICAgICAgICAgdmFyIHBvcHVwXzgzNmVmYWUzNzY3MTRiNzU5ZDEzZTQ4YTk5ZTkyYzYxID0gTC5wb3B1cCh7bWF4V2lkdGg6ICczMDAnfSk7CgogICAgICAgICAgICAKICAgICAgICAgICAgICAgIHZhciBodG1sXzFhNDNlNTgxMDcwZjQ4ODliNjQyM2ZhZDNlMWI5MDk3ID0gJCgnPGRpdiBpZD0iaHRtbF8xYTQzZTU4MTA3MGY0ODg5YjY0MjNmYWQzZTFiOTA5NyIgc3R5bGU9IndpZHRoOiAxMDAuMCU7IGhlaWdodDogMTAwLjAlOyI+VW5pdmVyc2l0eSBvZiBUb3JvbnRvLCBIYXJib3JkPC9kaXY+JylbMF07CiAgICAgICAgICAgICAgICBwb3B1cF84MzZlZmFlMzc2NzE0Yjc1OWQxM2U0OGE5OWU5MmM2MS5zZXRDb250ZW50KGh0bWxfMWE0M2U1ODEwNzBmNDg4OWI2NDIzZmFkM2UxYjkwOTcpOwogICAgICAgICAgICAKCiAgICAgICAgICAgIGNpcmNsZV9tYXJrZXJfMTcyZjcyY2VmYzRkNDNhZWE5NDhiNTc2Mjg2MGNmY2EuYmluZFBvcHVwKHBvcHVwXzgzNmVmYWUzNzY3MTRiNzU5ZDEzZTQ4YTk5ZTkyYzYxKTsKCiAgICAgICAgICAgIAogICAgICAgIAogICAgCiAgICAgICAgICAgIHZhciBjaXJjbGVfbWFya2VyX2ZhOGQwYzY5ZDUyNTQ1NjNiNzg3MDI4YmM4NmQ2NzE5ID0gTC5jaXJjbGVNYXJrZXIoCiAgICAgICAgICAgICAgICBbNDMuNjUxNTcwNiwtNzkuNDg0NDQ5OV0sCiAgICAgICAgICAgICAgICB7CiAgImJ1YmJsaW5nTW91c2VFdmVudHMiOiB0cnVlLAogICJjb2xvciI6ICJibHVlIiwKICAiZGFzaEFycmF5IjogbnVsbCwKICAiZGFzaE9mZnNldCI6IG51bGwsCiAgImZpbGwiOiB0cnVlLAogICJmaWxsQ29sb3IiOiAiIzMxODZjYyIsCiAgImZpbGxPcGFjaXR5IjogMC43LAogICJmaWxsUnVsZSI6ICJldmVub2RkIiwKICAibGluZUNhcCI6ICJyb3VuZCIsCiAgImxpbmVKb2luIjogInJvdW5kIiwKICAib3BhY2l0eSI6IDEuMCwKICAicmFkaXVzIjogNSwKICAic3Ryb2tlIjogdHJ1ZSwKICAid2VpZ2h0IjogMwp9CiAgICAgICAgICAgICAgICApLmFkZFRvKG1hcF9jMWRjNTllYzg4NzQ0Y2E1YTNmN2Q0ZDg5MzA5NTZkMyk7CiAgICAgICAgICAgIAogICAgCiAgICAgICAgICAgIHZhciBwb3B1cF9iMGVlMDRjYTQ1MmY0ZjUxYWZjZjFkNTQxODg1ZmFiOSA9IEwucG9wdXAoe21heFdpZHRoOiAnMzAwJ30pOwoKICAgICAgICAgICAgCiAgICAgICAgICAgICAgICB2YXIgaHRtbF9kZDZjOTg3YTE5OWY0YjkxOTJiYjM3NTRiMWFhZTg4OCA9ICQoJzxkaXYgaWQ9Imh0bWxfZGQ2Yzk4N2ExOTlmNGI5MTkyYmIzNzU0YjFhYWU4ODgiIHN0eWxlPSJ3aWR0aDogMTAwLjAlOyBoZWlnaHQ6IDEwMC4wJTsiPlJ1bm55bWVkZSwgU3dhbnNlYTwvZGl2PicpWzBdOwogICAgICAgICAgICAgICAgcG9wdXBfYjBlZTA0Y2E0NTJmNGY1MWFmY2YxZDU0MTg4NWZhYjkuc2V0Q29udGVudChodG1sX2RkNmM5ODdhMTk5ZjRiOTE5MmJiMzc1NGIxYWFlODg4KTsKICAgICAgICAgICAgCgogICAgICAgICAgICBjaXJjbGVfbWFya2VyX2ZhOGQwYzY5ZDUyNTQ1NjNiNzg3MDI4YmM4NmQ2NzE5LmJpbmRQb3B1cChwb3B1cF9iMGVlMDRjYTQ1MmY0ZjUxYWZjZjFkNTQxODg1ZmFiOSk7CgogICAgICAgICAgICAKICAgICAgICAKICAgIAogICAgICAgICAgICB2YXIgY2lyY2xlX21hcmtlcl8xOTZlYzE3YmYzMTI0MWU4YjQzYzVmZTg4ODg3NmQ4OCA9IEwuY2lyY2xlTWFya2VyKAogICAgICAgICAgICAgICAgWzQzLjY4OTU3NDMsLTc5LjM4MzE1OTkwMDAwMDAxXSwKICAgICAgICAgICAgICAgIHsKICAiYnViYmxpbmdNb3VzZUV2ZW50cyI6IHRydWUsCiAgImNvbG9yIjogImJsdWUiLAogICJkYXNoQXJyYXkiOiBudWxsLAogICJkYXNoT2Zmc2V0IjogbnVsbCwKICAiZmlsbCI6IHRydWUsCiAgImZpbGxDb2xvciI6ICIjMzE4NmNjIiwKICAiZmlsbE9wYWNpdHkiOiAwLjcsCiAgImZpbGxSdWxlIjogImV2ZW5vZGQiLAogICJsaW5lQ2FwIjogInJvdW5kIiwKICAibGluZUpvaW4iOiAicm91bmQiLAogICJvcGFjaXR5IjogMS4wLAogICJyYWRpdXMiOiA1LAogICJzdHJva2UiOiB0cnVlLAogICJ3ZWlnaHQiOiAzCn0KICAgICAgICAgICAgICAgICkuYWRkVG8obWFwX2MxZGM1OWVjODg3NDRjYTVhM2Y3ZDRkODkzMDk1NmQzKTsKICAgICAgICAgICAgCiAgICAKICAgICAgICAgICAgdmFyIHBvcHVwX2RiMTE1NDYxZWEwMTRhOTY4MTgxYzM2MzZiM2VjNjJkID0gTC5wb3B1cCh7bWF4V2lkdGg6ICczMDAnfSk7CgogICAgICAgICAgICAKICAgICAgICAgICAgICAgIHZhciBodG1sXzA4MDgyYzVjYjczNDQ2YzJiOTM5MGM3ODEzZjJiOTkwID0gJCgnPGRpdiBpZD0iaHRtbF8wODA4MmM1Y2I3MzQ0NmMyYjkzOTBjNzgxM2YyYjk5MCIgc3R5bGU9IndpZHRoOiAxMDAuMCU7IGhlaWdodDogMTAwLjAlOyI+TW9vcmUgUGFyaywgU3VtbWVyaGlsbCBFYXN0PC9kaXY+JylbMF07CiAgICAgICAgICAgICAgICBwb3B1cF9kYjExNTQ2MWVhMDE0YTk2ODE4MWMzNjM2YjNlYzYyZC5zZXRDb250ZW50KGh0bWxfMDgwODJjNWNiNzM0NDZjMmI5MzkwYzc4MTNmMmI5OTApOwogICAgICAgICAgICAKCiAgICAgICAgICAgIGNpcmNsZV9tYXJrZXJfMTk2ZWMxN2JmMzEyNDFlOGI0M2M1ZmU4ODg4NzZkODguYmluZFBvcHVwKHBvcHVwX2RiMTE1NDYxZWEwMTRhOTY4MTgxYzM2MzZiM2VjNjJkKTsKCiAgICAgICAgICAgIAogICAgICAgIAogICAgCiAgICAgICAgICAgIHZhciBjaXJjbGVfbWFya2VyXzEwM2RkNmFhODUxMzRhMzc5M2JlZWI4ZWNiYjI3ZGRmID0gTC5jaXJjbGVNYXJrZXIoCiAgICAgICAgICAgICAgICBbNDMuNjUzMjA1NywtNzkuNDAwMDQ5M10sCiAgICAgICAgICAgICAgICB7CiAgImJ1YmJsaW5nTW91c2VFdmVudHMiOiB0cnVlLAogICJjb2xvciI6ICJibHVlIiwKICAiZGFzaEFycmF5IjogbnVsbCwKICAiZGFzaE9mZnNldCI6IG51bGwsCiAgImZpbGwiOiB0cnVlLAogICJmaWxsQ29sb3IiOiAiIzMxODZjYyIsCiAgImZpbGxPcGFjaXR5IjogMC43LAogICJmaWxsUnVsZSI6ICJldmVub2RkIiwKICAibGluZUNhcCI6ICJyb3VuZCIsCiAgImxpbmVKb2luIjogInJvdW5kIiwKICAib3BhY2l0eSI6IDEuMCwKICAicmFkaXVzIjogNSwKICAic3Ryb2tlIjogdHJ1ZSwKICAid2VpZ2h0IjogMwp9CiAgICAgICAgICAgICAgICApLmFkZFRvKG1hcF9jMWRjNTllYzg4NzQ0Y2E1YTNmN2Q0ZDg5MzA5NTZkMyk7CiAgICAgICAgICAgIAogICAgCiAgICAgICAgICAgIHZhciBwb3B1cF9mNjNkZGJjMTc4Mzk0NmQxOGY1ZmE3MDY5OGVhZmMwNSA9IEwucG9wdXAoe21heFdpZHRoOiAnMzAwJ30pOwoKICAgICAgICAgICAgCiAgICAgICAgICAgICAgICB2YXIgaHRtbF81NmFhMjg3YWVkZDk0MGJmOTYyZTExN2I1ZDc0Zjc1OSA9ICQoJzxkaXYgaWQ9Imh0bWxfNTZhYTI4N2FlZGQ5NDBiZjk2MmUxMTdiNWQ3NGY3NTkiIHN0eWxlPSJ3aWR0aDogMTAwLjAlOyBoZWlnaHQ6IDEwMC4wJTsiPktlbnNpbmd0b24gTWFya2V0LCBDaGluYXRvd24sIEdyYW5nZSBQYXJrPC9kaXY+JylbMF07CiAgICAgICAgICAgICAgICBwb3B1cF9mNjNkZGJjMTc4Mzk0NmQxOGY1ZmE3MDY5OGVhZmMwNS5zZXRDb250ZW50KGh0bWxfNTZhYTI4N2FlZGQ5NDBiZjk2MmUxMTdiNWQ3NGY3NTkpOwogICAgICAgICAgICAKCiAgICAgICAgICAgIGNpcmNsZV9tYXJrZXJfMTAzZGQ2YWE4NTEzNGEzNzkzYmVlYjhlY2JiMjdkZGYuYmluZFBvcHVwKHBvcHVwX2Y2M2RkYmMxNzgzOTQ2ZDE4ZjVmYTcwNjk4ZWFmYzA1KTsKCiAgICAgICAgICAgIAogICAgICAgIAogICAgCiAgICAgICAgICAgIHZhciBjaXJjbGVfbWFya2VyXzFlMTBkYWYzNGZkMDQwMDNiYzMyYjQ0M2ViOTdjYTJhID0gTC5jaXJjbGVNYXJrZXIoCiAgICAgICAgICAgICAgICBbNDMuNjg2NDEyMjk5OTk5OTksLTc5LjQwMDA0OTNdLAogICAgICAgICAgICAgICAgewogICJidWJibGluZ01vdXNlRXZlbnRzIjogdHJ1ZSwKICAiY29sb3IiOiAiYmx1ZSIsCiAgImRhc2hBcnJheSI6IG51bGwsCiAgImRhc2hPZmZzZXQiOiBudWxsLAogICJmaWxsIjogdHJ1ZSwKICAiZmlsbENvbG9yIjogIiMzMTg2Y2MiLAogICJmaWxsT3BhY2l0eSI6IDAuNywKICAiZmlsbFJ1bGUiOiAiZXZlbm9kZCIsCiAgImxpbmVDYXAiOiAicm91bmQiLAogICJsaW5lSm9pbiI6ICJyb3VuZCIsCiAgIm9wYWNpdHkiOiAxLjAsCiAgInJhZGl1cyI6IDUsCiAgInN0cm9rZSI6IHRydWUsCiAgIndlaWdodCI6IDMKfQogICAgICAgICAgICAgICAgKS5hZGRUbyhtYXBfYzFkYzU5ZWM4ODc0NGNhNWEzZjdkNGQ4OTMwOTU2ZDMpOwogICAgICAgICAgICAKICAgIAogICAgICAgICAgICB2YXIgcG9wdXBfZWU4M2E1NDM5NWI4NDEzODkxODkwZGNmMmI0MjRjMDcgPSBMLnBvcHVwKHttYXhXaWR0aDogJzMwMCd9KTsKCiAgICAgICAgICAgIAogICAgICAgICAgICAgICAgdmFyIGh0bWxfY2NhNGVhYTA0Y2QyNDE3MmE3OWZiNzk0MWVjZTI5OWMgPSAkKCc8ZGl2IGlkPSJodG1sX2NjYTRlYWEwNGNkMjQxNzJhNzlmYjc5NDFlY2UyOTljIiBzdHlsZT0id2lkdGg6IDEwMC4wJTsgaGVpZ2h0OiAxMDAuMCU7Ij5TdW1tZXJoaWxsIFdlc3QsIFJhdGhuZWxseSwgU291dGggSGlsbCwgRm9yZXN0IEhpbGwgU0UsIERlZXIgUGFyazwvZGl2PicpWzBdOwogICAgICAgICAgICAgICAgcG9wdXBfZWU4M2E1NDM5NWI4NDEzODkxODkwZGNmMmI0MjRjMDcuc2V0Q29udGVudChodG1sX2NjYTRlYWEwNGNkMjQxNzJhNzlmYjc5NDFlY2UyOTljKTsKICAgICAgICAgICAgCgogICAgICAgICAgICBjaXJjbGVfbWFya2VyXzFlMTBkYWYzNGZkMDQwMDNiYzMyYjQ0M2ViOTdjYTJhLmJpbmRQb3B1cChwb3B1cF9lZTgzYTU0Mzk1Yjg0MTM4OTE4OTBkY2YyYjQyNGMwNyk7CgogICAgICAgICAgICAKICAgICAgICAKICAgIAogICAgICAgICAgICB2YXIgY2lyY2xlX21hcmtlcl80Mzg4NTVmNzY4Mjk0ZjQzODczZWM4ZGNjY2YwNzRjMCA9IEwuY2lyY2xlTWFya2VyKAogICAgICAgICAgICAgICAgWzQzLjYyODk0NjcsLTc5LjM5NDQxOTldLAogICAgICAgICAgICAgICAgewogICJidWJibGluZ01vdXNlRXZlbnRzIjogdHJ1ZSwKICAiY29sb3IiOiAiYmx1ZSIsCiAgImRhc2hBcnJheSI6IG51bGwsCiAgImRhc2hPZmZzZXQiOiBudWxsLAogICJmaWxsIjogdHJ1ZSwKICAiZmlsbENvbG9yIjogIiMzMTg2Y2MiLAogICJmaWxsT3BhY2l0eSI6IDAuNywKICAiZmlsbFJ1bGUiOiAiZXZlbm9kZCIsCiAgImxpbmVDYXAiOiAicm91bmQiLAogICJsaW5lSm9pbiI6ICJyb3VuZCIsCiAgIm9wYWNpdHkiOiAxLjAsCiAgInJhZGl1cyI6IDUsCiAgInN0cm9rZSI6IHRydWUsCiAgIndlaWdodCI6IDMKfQogICAgICAgICAgICAgICAgKS5hZGRUbyhtYXBfYzFkYzU5ZWM4ODc0NGNhNWEzZjdkNGQ4OTMwOTU2ZDMpOwogICAgICAgICAgICAKICAgIAogICAgICAgICAgICB2YXIgcG9wdXBfZTlkN2Q2MjA1M2UzNDc5NjllOTIxOWEzMmJjMDI5YmUgPSBMLnBvcHVwKHttYXhXaWR0aDogJzMwMCd9KTsKCiAgICAgICAgICAgIAogICAgICAgICAgICAgICAgdmFyIGh0bWxfZDkwNjIxZTMzMGRmNDZmOWE1NzJmMDEzYjgwMTljNjAgPSAkKCc8ZGl2IGlkPSJodG1sX2Q5MDYyMWUzMzBkZjQ2ZjlhNTcyZjAxM2I4MDE5YzYwIiBzdHlsZT0id2lkdGg6IDEwMC4wJTsgaGVpZ2h0OiAxMDAuMCU7Ij5DTiBUb3dlciwgS2luZyBhbmQgU3BhZGluYSwgUmFpbHdheSBMYW5kcywgSGFyYm91cmZyb250IFdlc3QsIEJhdGh1cnN0IFF1YXksIFNvdXRoIE5pYWdhcmEsIElzbGFuZCBhaXJwb3J0PC9kaXY+JylbMF07CiAgICAgICAgICAgICAgICBwb3B1cF9lOWQ3ZDYyMDUzZTM0Nzk2OWU5MjE5YTMyYmMwMjliZS5zZXRDb250ZW50KGh0bWxfZDkwNjIxZTMzMGRmNDZmOWE1NzJmMDEzYjgwMTljNjApOwogICAgICAgICAgICAKCiAgICAgICAgICAgIGNpcmNsZV9tYXJrZXJfNDM4ODU1Zjc2ODI5NGY0Mzg3M2VjOGRjY2NmMDc0YzAuYmluZFBvcHVwKHBvcHVwX2U5ZDdkNjIwNTNlMzQ3OTY5ZTkyMTlhMzJiYzAyOWJlKTsKCiAgICAgICAgICAgIAogICAgICAgIAogICAgCiAgICAgICAgICAgIHZhciBjaXJjbGVfbWFya2VyX2I3YzQ3YTY1NGJjZTRlYWZiMTNlZmNiMDJhYTE5MWEzID0gTC5jaXJjbGVNYXJrZXIoCiAgICAgICAgICAgICAgICBbNDMuNjc5NTYyNiwtNzkuMzc3NTI5NDAwMDAwMDFdLAogICAgICAgICAgICAgICAgewogICJidWJibGluZ01vdXNlRXZlbnRzIjogdHJ1ZSwKICAiY29sb3IiOiAiYmx1ZSIsCiAgImRhc2hBcnJheSI6IG51bGwsCiAgImRhc2hPZmZzZXQiOiBudWxsLAogICJmaWxsIjogdHJ1ZSwKICAiZmlsbENvbG9yIjogIiMzMTg2Y2MiLAogICJmaWxsT3BhY2l0eSI6IDAuNywKICAiZmlsbFJ1bGUiOiAiZXZlbm9kZCIsCiAgImxpbmVDYXAiOiAicm91bmQiLAogICJsaW5lSm9pbiI6ICJyb3VuZCIsCiAgIm9wYWNpdHkiOiAxLjAsCiAgInJhZGl1cyI6IDUsCiAgInN0cm9rZSI6IHRydWUsCiAgIndlaWdodCI6IDMKfQogICAgICAgICAgICAgICAgKS5hZGRUbyhtYXBfYzFkYzU5ZWM4ODc0NGNhNWEzZjdkNGQ4OTMwOTU2ZDMpOwogICAgICAgICAgICAKICAgIAogICAgICAgICAgICB2YXIgcG9wdXBfMGFkOWY2YmYxMGNkNDRiNTk0NmRkYWVlMjg3MmVlNjAgPSBMLnBvcHVwKHttYXhXaWR0aDogJzMwMCd9KTsKCiAgICAgICAgICAgIAogICAgICAgICAgICAgICAgdmFyIGh0bWxfNjY1M2FjMWRmODk5NGQ3OTlhNGU4MWY1ODE0MDU2YjggPSAkKCc8ZGl2IGlkPSJodG1sXzY2NTNhYzFkZjg5OTRkNzk5YTRlODFmNTgxNDA1NmI4IiBzdHlsZT0id2lkdGg6IDEwMC4wJTsgaGVpZ2h0OiAxMDAuMCU7Ij5Sb3NlZGFsZTwvZGl2PicpWzBdOwogICAgICAgICAgICAgICAgcG9wdXBfMGFkOWY2YmYxMGNkNDRiNTk0NmRkYWVlMjg3MmVlNjAuc2V0Q29udGVudChodG1sXzY2NTNhYzFkZjg5OTRkNzk5YTRlODFmNTgxNDA1NmI4KTsKICAgICAgICAgICAgCgogICAgICAgICAgICBjaXJjbGVfbWFya2VyX2I3YzQ3YTY1NGJjZTRlYWZiMTNlZmNiMDJhYTE5MWEzLmJpbmRQb3B1cChwb3B1cF8wYWQ5ZjZiZjEwY2Q0NGI1OTQ2ZGRhZWUyODcyZWU2MCk7CgogICAgICAgICAgICAKICAgICAgICAKICAgIAogICAgICAgICAgICB2YXIgY2lyY2xlX21hcmtlcl9lYTFjMTU5ZDUyZTA0ZWU0YTE3YzI2ZDY3ZTA2MzA0MiA9IEwuY2lyY2xlTWFya2VyKAogICAgICAgICAgICAgICAgWzQzLjY0NjQzNTIsLTc5LjM3NDg0NTk5OTk5OTk5XSwKICAgICAgICAgICAgICAgIHsKICAiYnViYmxpbmdNb3VzZUV2ZW50cyI6IHRydWUsCiAgImNvbG9yIjogImJsdWUiLAogICJkYXNoQXJyYXkiOiBudWxsLAogICJkYXNoT2Zmc2V0IjogbnVsbCwKICAiZmlsbCI6IHRydWUsCiAgImZpbGxDb2xvciI6ICIjMzE4NmNjIiwKICAiZmlsbE9wYWNpdHkiOiAwLjcsCiAgImZpbGxSdWxlIjogImV2ZW5vZGQiLAogICJsaW5lQ2FwIjogInJvdW5kIiwKICAibGluZUpvaW4iOiAicm91bmQiLAogICJvcGFjaXR5IjogMS4wLAogICJyYWRpdXMiOiA1LAogICJzdHJva2UiOiB0cnVlLAogICJ3ZWlnaHQiOiAzCn0KICAgICAgICAgICAgICAgICkuYWRkVG8obWFwX2MxZGM1OWVjODg3NDRjYTVhM2Y3ZDRkODkzMDk1NmQzKTsKICAgICAgICAgICAgCiAgICAKICAgICAgICAgICAgdmFyIHBvcHVwX2I1OGNjZDcwYWZiMDQ0N2E4ZjdjM2Y3NmU2NzY0ZDA0ID0gTC5wb3B1cCh7bWF4V2lkdGg6ICczMDAnfSk7CgogICAgICAgICAgICAKICAgICAgICAgICAgICAgIHZhciBodG1sXzcwYTc1MWNhZDRkMDQ2ZWE4YjViNmIyODIwY2Y4MjI2ID0gJCgnPGRpdiBpZD0iaHRtbF83MGE3NTFjYWQ0ZDA0NmVhOGI1YjZiMjgyMGNmODIyNiIgc3R5bGU9IndpZHRoOiAxMDAuMCU7IGhlaWdodDogMTAwLjAlOyI+U3RuIEEgUE8gQm94ZXM8L2Rpdj4nKVswXTsKICAgICAgICAgICAgICAgIHBvcHVwX2I1OGNjZDcwYWZiMDQ0N2E4ZjdjM2Y3NmU2NzY0ZDA0LnNldENvbnRlbnQoaHRtbF83MGE3NTFjYWQ0ZDA0NmVhOGI1YjZiMjgyMGNmODIyNik7CiAgICAgICAgICAgIAoKICAgICAgICAgICAgY2lyY2xlX21hcmtlcl9lYTFjMTU5ZDUyZTA0ZWU0YTE3YzI2ZDY3ZTA2MzA0Mi5iaW5kUG9wdXAocG9wdXBfYjU4Y2NkNzBhZmIwNDQ3YThmN2MzZjc2ZTY3NjRkMDQpOwoKICAgICAgICAgICAgCiAgICAgICAgCiAgICAKICAgICAgICAgICAgdmFyIGNpcmNsZV9tYXJrZXJfZjE5ZWMwYmU2YTcxNDdkZmJlMDhjYWIyOTM3YTViNTYgPSBMLmNpcmNsZU1hcmtlcigKICAgICAgICAgICAgICAgIFs0My42Njc5NjcsLTc5LjM2NzY3NTNdLAogICAgICAgICAgICAgICAgewogICJidWJibGluZ01vdXNlRXZlbnRzIjogdHJ1ZSwKICAiY29sb3IiOiAiYmx1ZSIsCiAgImRhc2hBcnJheSI6IG51bGwsCiAgImRhc2hPZmZzZXQiOiBudWxsLAogICJmaWxsIjogdHJ1ZSwKICAiZmlsbENvbG9yIjogIiMzMTg2Y2MiLAogICJmaWxsT3BhY2l0eSI6IDAuNywKICAiZmlsbFJ1bGUiOiAiZXZlbm9kZCIsCiAgImxpbmVDYXAiOiAicm91bmQiLAogICJsaW5lSm9pbiI6ICJyb3VuZCIsCiAgIm9wYWNpdHkiOiAxLjAsCiAgInJhZGl1cyI6IDUsCiAgInN0cm9rZSI6IHRydWUsCiAgIndlaWdodCI6IDMKfQogICAgICAgICAgICAgICAgKS5hZGRUbyhtYXBfYzFkYzU5ZWM4ODc0NGNhNWEzZjdkNGQ4OTMwOTU2ZDMpOwogICAgICAgICAgICAKICAgIAogICAgICAgICAgICB2YXIgcG9wdXBfMjRkMTQ0MzRlZjkzNGEwNDk0YTI2Y2E4MmU5ODcyODAgPSBMLnBvcHVwKHttYXhXaWR0aDogJzMwMCd9KTsKCiAgICAgICAgICAgIAogICAgICAgICAgICAgICAgdmFyIGh0bWxfZDM2ZWY2YjIzYmE2NDFkY2E0YzU4NzA0ZjBkZTM0MGMgPSAkKCc8ZGl2IGlkPSJodG1sX2QzNmVmNmIyM2JhNjQxZGNhNGM1ODcwNGYwZGUzNDBjIiBzdHlsZT0id2lkdGg6IDEwMC4wJTsgaGVpZ2h0OiAxMDAuMCU7Ij5TdC4gSmFtZXMgVG93biwgQ2FiYmFnZXRvd248L2Rpdj4nKVswXTsKICAgICAgICAgICAgICAgIHBvcHVwXzI0ZDE0NDM0ZWY5MzRhMDQ5NGEyNmNhODJlOTg3MjgwLnNldENvbnRlbnQoaHRtbF9kMzZlZjZiMjNiYTY0MWRjYTRjNTg3MDRmMGRlMzQwYyk7CiAgICAgICAgICAgIAoKICAgICAgICAgICAgY2lyY2xlX21hcmtlcl9mMTllYzBiZTZhNzE0N2RmYmUwOGNhYjI5MzdhNWI1Ni5iaW5kUG9wdXAocG9wdXBfMjRkMTQ0MzRlZjkzNGEwNDk0YTI2Y2E4MmU5ODcyODApOwoKICAgICAgICAgICAgCiAgICAgICAgCiAgICAKICAgICAgICAgICAgdmFyIGNpcmNsZV9tYXJrZXJfNmExOTlkMGJmZGFmNGZjMTljODAwMzJhYWNjMTg3NTQgPSBMLmNpcmNsZU1hcmtlcigKICAgICAgICAgICAgICAgIFs0My42NDg0MjkyLC03OS4zODIyODAyXSwKICAgICAgICAgICAgICAgIHsKICAiYnViYmxpbmdNb3VzZUV2ZW50cyI6IHRydWUsCiAgImNvbG9yIjogImJsdWUiLAogICJkYXNoQXJyYXkiOiBudWxsLAogICJkYXNoT2Zmc2V0IjogbnVsbCwKICAiZmlsbCI6IHRydWUsCiAgImZpbGxDb2xvciI6ICIjMzE4NmNjIiwKICAiZmlsbE9wYWNpdHkiOiAwLjcsCiAgImZpbGxSdWxlIjogImV2ZW5vZGQiLAogICJsaW5lQ2FwIjogInJvdW5kIiwKICAibGluZUpvaW4iOiAicm91bmQiLAogICJvcGFjaXR5IjogMS4wLAogICJyYWRpdXMiOiA1LAogICJzdHJva2UiOiB0cnVlLAogICJ3ZWlnaHQiOiAzCn0KICAgICAgICAgICAgICAgICkuYWRkVG8obWFwX2MxZGM1OWVjODg3NDRjYTVhM2Y3ZDRkODkzMDk1NmQzKTsKICAgICAgICAgICAgCiAgICAKICAgICAgICAgICAgdmFyIHBvcHVwXzI0ZDA0ZDM0Njc1MzRmMTc4NGUzMWU4YzkyNjhlYTgxID0gTC5wb3B1cCh7bWF4V2lkdGg6ICczMDAnfSk7CgogICAgICAgICAgICAKICAgICAgICAgICAgICAgIHZhciBodG1sXzJmNTRkMGUzMTI1NzRiNzhhNGM3OWY1YmE4M2EyNTI2ID0gJCgnPGRpdiBpZD0iaHRtbF8yZjU0ZDBlMzEyNTc0Yjc4YTRjNzlmNWJhODNhMjUyNiIgc3R5bGU9IndpZHRoOiAxMDAuMCU7IGhlaWdodDogMTAwLjAlOyI+Rmlyc3QgQ2FuYWRpYW4gUGxhY2UsIFVuZGVyZ3JvdW5kIGNpdHk8L2Rpdj4nKVswXTsKICAgICAgICAgICAgICAgIHBvcHVwXzI0ZDA0ZDM0Njc1MzRmMTc4NGUzMWU4YzkyNjhlYTgxLnNldENvbnRlbnQoaHRtbF8yZjU0ZDBlMzEyNTc0Yjc4YTRjNzlmNWJhODNhMjUyNik7CiAgICAgICAgICAgIAoKICAgICAgICAgICAgY2lyY2xlX21hcmtlcl82YTE5OWQwYmZkYWY0ZmMxOWM4MDAzMmFhY2MxODc1NC5iaW5kUG9wdXAocG9wdXBfMjRkMDRkMzQ2NzUzNGYxNzg0ZTMxZThjOTI2OGVhODEpOwoKICAgICAgICAgICAgCiAgICAgICAgCiAgICAKICAgICAgICAgICAgdmFyIGNpcmNsZV9tYXJrZXJfMDNkZmJkYzEyMWFjNGJkOWI0N2RlY2MwMmQ3OGNhZTMgPSBMLmNpcmNsZU1hcmtlcigKICAgICAgICAgICAgICAgIFs0My42NjU4NTk5LC03OS4zODMxNTk5MDAwMDAwMV0sCiAgICAgICAgICAgICAgICB7CiAgImJ1YmJsaW5nTW91c2VFdmVudHMiOiB0cnVlLAogICJjb2xvciI6ICJibHVlIiwKICAiZGFzaEFycmF5IjogbnVsbCwKICAiZGFzaE9mZnNldCI6IG51bGwsCiAgImZpbGwiOiB0cnVlLAogICJmaWxsQ29sb3IiOiAiIzMxODZjYyIsCiAgImZpbGxPcGFjaXR5IjogMC43LAogICJmaWxsUnVsZSI6ICJldmVub2RkIiwKICAibGluZUNhcCI6ICJyb3VuZCIsCiAgImxpbmVKb2luIjogInJvdW5kIiwKICAib3BhY2l0eSI6IDEuMCwKICAicmFkaXVzIjogNSwKICAic3Ryb2tlIjogdHJ1ZSwKICAid2VpZ2h0IjogMwp9CiAgICAgICAgICAgICAgICApLmFkZFRvKG1hcF9jMWRjNTllYzg4NzQ0Y2E1YTNmN2Q0ZDg5MzA5NTZkMyk7CiAgICAgICAgICAgIAogICAgCiAgICAgICAgICAgIHZhciBwb3B1cF80ZjQ0MDdiODE3MzY0OTJhOGE0OTJmNmEyNTI3ODAzMyA9IEwucG9wdXAoe21heFdpZHRoOiAnMzAwJ30pOwoKICAgICAgICAgICAgCiAgICAgICAgICAgICAgICB2YXIgaHRtbF9lZGY4NzExNzY3NTg0MDNkOWVjZDFkZjg4MTQxNWZhNyA9ICQoJzxkaXYgaWQ9Imh0bWxfZWRmODcxMTc2NzU4NDAzZDllY2QxZGY4ODE0MTVmYTciIHN0eWxlPSJ3aWR0aDogMTAwLjAlOyBoZWlnaHQ6IDEwMC4wJTsiPkNodXJjaCBhbmQgV2VsbGVzbGV5PC9kaXY+JylbMF07CiAgICAgICAgICAgICAgICBwb3B1cF80ZjQ0MDdiODE3MzY0OTJhOGE0OTJmNmEyNTI3ODAzMy5zZXRDb250ZW50KGh0bWxfZWRmODcxMTc2NzU4NDAzZDllY2QxZGY4ODE0MTVmYTcpOwogICAgICAgICAgICAKCiAgICAgICAgICAgIGNpcmNsZV9tYXJrZXJfMDNkZmJkYzEyMWFjNGJkOWI0N2RlY2MwMmQ3OGNhZTMuYmluZFBvcHVwKHBvcHVwXzRmNDQwN2I4MTczNjQ5MmE4YTQ5MmY2YTI1Mjc4MDMzKTsKCiAgICAgICAgICAgIAogICAgICAgIAogICAgCiAgICAgICAgICAgIHZhciBjaXJjbGVfbWFya2VyXzJhODM1OTE0MGYzYTRiYjM4YTFkYzQ4OWEyY2UwY2Q3ID0gTC5jaXJjbGVNYXJrZXIoCiAgICAgICAgICAgICAgICBbNDMuNjYyNzQzOSwtNzkuMzIxNTU4XSwKICAgICAgICAgICAgICAgIHsKICAiYnViYmxpbmdNb3VzZUV2ZW50cyI6IHRydWUsCiAgImNvbG9yIjogImJsdWUiLAogICJkYXNoQXJyYXkiOiBudWxsLAogICJkYXNoT2Zmc2V0IjogbnVsbCwKICAiZmlsbCI6IHRydWUsCiAgImZpbGxDb2xvciI6ICIjMzE4NmNjIiwKICAiZmlsbE9wYWNpdHkiOiAwLjcsCiAgImZpbGxSdWxlIjogImV2ZW5vZGQiLAogICJsaW5lQ2FwIjogInJvdW5kIiwKICAibGluZUpvaW4iOiAicm91bmQiLAogICJvcGFjaXR5IjogMS4wLAogICJyYWRpdXMiOiA1LAogICJzdHJva2UiOiB0cnVlLAogICJ3ZWlnaHQiOiAzCn0KICAgICAgICAgICAgICAgICkuYWRkVG8obWFwX2MxZGM1OWVjODg3NDRjYTVhM2Y3ZDRkODkzMDk1NmQzKTsKICAgICAgICAgICAgCiAgICAKICAgICAgICAgICAgdmFyIHBvcHVwXzZhYTg0MmRkZmMwOTQ4MDU5ZjBlMDg5ZmYzNGY5ZGI3ID0gTC5wb3B1cCh7bWF4V2lkdGg6ICczMDAnfSk7CgogICAgICAgICAgICAKICAgICAgICAgICAgICAgIHZhciBodG1sXzQ5NDgwMzAyMjEwNTRkZDZhODFjODY2ZjU2N2YzZGNjID0gJCgnPGRpdiBpZD0iaHRtbF80OTQ4MDMwMjIxMDU0ZGQ2YTgxYzg2NmY1NjdmM2RjYyIgc3R5bGU9IndpZHRoOiAxMDAuMCU7IGhlaWdodDogMTAwLjAlOyI+QnVzaW5lc3MgcmVwbHkgbWFpbCBQcm9jZXNzaW5nIENlbnRyZSwgU291dGggQ2VudHJhbCBMZXR0ZXIgUHJvY2Vzc2luZyBQbGFudCBUb3JvbnRvPC9kaXY+JylbMF07CiAgICAgICAgICAgICAgICBwb3B1cF82YWE4NDJkZGZjMDk0ODA1OWYwZTA4OWZmMzRmOWRiNy5zZXRDb250ZW50KGh0bWxfNDk0ODAzMDIyMTA1NGRkNmE4MWM4NjZmNTY3ZjNkY2MpOwogICAgICAgICAgICAKCiAgICAgICAgICAgIGNpcmNsZV9tYXJrZXJfMmE4MzU5MTQwZjNhNGJiMzhhMWRjNDg5YTJjZTBjZDcuYmluZFBvcHVwKHBvcHVwXzZhYTg0MmRkZmMwOTQ4MDU5ZjBlMDg5ZmYzNGY5ZGI3KTsKCiAgICAgICAgICAgIAogICAgICAgIAo8L3NjcmlwdD4= onload=\"this.contentDocument.open();this.contentDocument.write(atob(this.getAttribute('data-html')));this.contentDocument.close();\" allowfullscreen webkitallowfullscreen mozallowfullscreen></iframe></div></div>"
     },
     "metadata": {},
     "execution_count": 19
    }
   ],
   "source": [
    "# create map of Toronto using latitude and longitude values\n",
    "map_toronto = folium.Map(location=[latitude, longitude], zoom_start=12)\n",
    "\n",
    "# add markers to map\n",
    "for lat, lng, label in zip(df3['Latitude'], df3['Longitude'], df3['Neighbourhood']):\n",
    "    label = folium.Popup(label, parse_html = True)\n",
    "    folium.CircleMarker(\n",
    "        [lat, lng],\n",
    "        radius = 5,\n",
    "        popup = label,\n",
    "        color = 'blue',\n",
    "        fill = True,\n",
    "        fill_color = '#3186cc',\n",
    "        fill_opacity = 0.7,\n",
    "        parse_html = False).add_to(map_toronto)\n",
    "    \n",
    "map_toronto"
   ]
  },
  {
   "source": [
    "### Define Foursquare credentials and version."
   ],
   "cell_type": "markdown",
   "metadata": {}
  },
  {
   "cell_type": "code",
   "execution_count": 20,
   "metadata": {},
   "outputs": [
    {
     "output_type": "stream",
     "name": "stdout",
     "text": [
      "Your credentails:\nCLIENT_ID: SKIHD1D2H4F15FAJ10N2WMQRNMVR5PDIAEDBL3CLNUAOTGTD\nCLIENT_SECRET:NEOL1YKQQAPD2CC3O5JD4RAKDQOEDNHZPCHDSJIZTRF414XX\n"
     ]
    }
   ],
   "source": [
    "CLIENT_ID = 'SKIHD1D2H4F15FAJ10N2WMQRNMVR5PDIAEDBL3CLNUAOTGTD' # Foursquare ID\n",
    "CLIENT_SECRET = 'NEOL1YKQQAPD2CC3O5JD4RAKDQOEDNHZPCHDSJIZTRF414XX' # Foursquare Secret\n",
    "VERSION = '20180605' # Foursquare API version\n",
    "LIMIT = 100 # A default Foursquare API limit value\n",
    "\n",
    "print('Your credentails:')\n",
    "print('CLIENT_ID: ' + CLIENT_ID)\n",
    "print('CLIENT_SECRET:' + CLIENT_SECRET)"
   ]
  },
  {
   "source": [
    "### What's the first neighbourhood?"
   ],
   "cell_type": "markdown",
   "metadata": {}
  },
  {
   "cell_type": "code",
   "execution_count": 21,
   "metadata": {},
   "outputs": [
    {
     "output_type": "execute_result",
     "data": {
      "text/plain": [
       "'Regent Park, Harbourfront'"
      ]
     },
     "metadata": {},
     "execution_count": 21
    }
   ],
   "source": [
    "df3.loc[0, 'Neighbourhood']"
   ]
  },
  {
   "source": [
    "### Store the coorindates and the name of the neighbourhood."
   ],
   "cell_type": "markdown",
   "metadata": {}
  },
  {
   "cell_type": "code",
   "execution_count": 22,
   "metadata": {},
   "outputs": [
    {
     "output_type": "stream",
     "name": "stdout",
     "text": [
      "The latitude and longitude of Regent Park, Harbourfront are 43.6542599 and -79.3606359\n"
     ]
    }
   ],
   "source": [
    "nb_name = df3.loc[0, 'Neighbourhood']\n",
    "nb_lat = df3.loc[0, 'Latitude']\n",
    "nb_lng = df3.loc[0, 'Longitude']\n",
    "print('The latitude and longitude of {} are {} and {}'.format(nb_name, nb_lat, nb_lng))"
   ]
  },
  {
   "source": [
    "### Let's get the top 100 venues that are within radius of 500 metres of Regent Park, Harbourfront."
   ],
   "cell_type": "markdown",
   "metadata": {}
  },
  {
   "cell_type": "code",
   "execution_count": 23,
   "metadata": {},
   "outputs": [
    {
     "output_type": "execute_result",
     "data": {
      "text/plain": [
       "'https://api.foursquare.com/v2/venues/explore?client_id=SKIHD1D2H4F15FAJ10N2WMQRNMVR5PDIAEDBL3CLNUAOTGTD&client_secret=NEOL1YKQQAPD2CC3O5JD4RAKDQOEDNHZPCHDSJIZTRF414XX&ll=43.6542599,-79.3606359&v=20180605&radius=500&limit=100'"
      ]
     },
     "metadata": {},
     "execution_count": 23
    }
   ],
   "source": [
    "# build the url string\n",
    "radius = 500\n",
    "url = 'https://api.foursquare.com/v2/venues/explore?client_id={}&client_secret={}&ll={},{}&v={}&radius={}&limit={}'.format(CLIENT_ID, CLIENT_SECRET, nb_lat, nb_lng, VERSION, radius, LIMIT)\n",
    "url"
   ]
  },
  {
   "source": [
    "### Send the GET request and examine the results."
   ],
   "cell_type": "markdown",
   "metadata": {}
  },
  {
   "cell_type": "code",
   "execution_count": 24,
   "metadata": {},
   "outputs": [
    {
     "output_type": "execute_result",
     "data": {
      "text/plain": [
       "': 'Yoga Studio',\n",
       "         'pluralName': 'Yoga Studios',\n",
       "         'shortName': 'Yoga Studio',\n",
       "         'icon': {'prefix': 'https://ss3.4sqi.net/img/categories_v2/shops/gym_yogastudio_',\n",
       "          'suffix': '.png'},\n",
       "         'primary': True}],\n",
       "       'photos': {'count': 0, 'groups': []}},\n",
       "      'referralId': 'e-0-4b58dd55f964a5208f6f28e3-26'},\n",
       "     {'reasons': {'count': 0,\n",
       "       'items': [{'summary': 'This spot is popular',\n",
       "         'type': 'general',\n",
       "         'reasonName': 'globalInteractionReason'}]},\n",
       "      'venue': {'id': '4c16a548955976b0cadea4f6',\n",
       "       'name': 'Parliament Square Park',\n",
       "       'location': {'address': '44 Parliament Street',\n",
       "        'lat': 43.65026388338689,\n",
       "        'lng': -79.36219509081177,\n",
       "        'labeledLatLngs': [{'label': 'display',\n",
       "          'lat': 43.65026388338689,\n",
       "          'lng': -79.36219509081177}],\n",
       "        'distance': 462,\n",
       "        'cc': 'CA',\n",
       "        'city': 'Toronto',\n",
       "        'state': 'ON',\n",
       "        'country': 'Canada',\n",
       "        'formattedAddress': ['44 Parliament Street', 'Toronto ON', 'Canada']},\n",
       "       'categories': [{'id': '4bf58dd8d48988d163941735',\n",
       "         'name': 'Park',\n",
       "         'pluralName': 'Parks',\n",
       "         'shortName': 'Park',\n",
       "         'icon': {'prefix': 'https://ss3.4sqi.net/img/categories_v2/parks_outdoors/park_',\n",
       "          'suffix': '.png'},\n",
       "         'primary': True}],\n",
       "       'photos': {'count': 0, 'groups': []}},\n",
       "      'referralId': 'e-0-4c16a548955976b0cadea4f6-27'},\n",
       "     {'reasons': {'count': 0,\n",
       "       'items': [{'summary': 'This spot is popular',\n",
       "         'type': 'general',\n",
       "         'reasonName': 'globalInteractionReason'}]},\n",
       "      'venue': {'id': '4d84d98181fdb1f7d4a704c0',\n",
       "       'name': 'Caffe Furbo',\n",
       "       'location': {'address': '12 case goods lane',\n",
       "        'lat': 43.649969882303814,\n",
       "        'lng': -79.35884946388191,\n",
       "        'labeledLatLngs': [{'label': 'display',\n",
       "          'lat': 43.649969882303814,\n",
       "          'lng': -79.35884946388191}],\n",
       "        'distance': 498,\n",
       "        'postalCode': 'M5A 3C4',\n",
       "        'cc': 'CA',\n",
       "        'city': 'Toronto',\n",
       "        'state': 'ON',\n",
       "        'country': 'Canada',\n",
       "        'formattedAddress': ['12 case goods lane',\n",
       "         'Toronto ON M5A 3C4',\n",
       "         'Canada']},\n",
       "       'categories': [{'id': '4bf58dd8d48988d16d941735',\n",
       "         'name': 'Café',\n",
       "         'pluralName': 'Cafés',\n",
       "         'shortName': 'Café',\n",
       "         'icon': {'prefix': 'https://ss3.4sqi.net/img/categories_v2/food/cafe_',\n",
       "          'suffix': '.png'},\n",
       "         'primary': True}],\n",
       "       'photos': {'count': 0, 'groups': []},\n",
       "       'venuePage': {'id': '47611149'}},\n",
       "      'referralId': 'e-0-4d84d98181fdb1f7d4a704c0-28'},\n",
       "     {'reasons': {'count': 0,\n",
       "       'items': [{'summary': 'This spot is popular',\n",
       "         'type': 'general',\n",
       "         'reasonName': 'globalInteractionReason'}]},\n",
       "      'venue': {'id': '4bb52a8bf562ef3b7d992e97',\n",
       "       'name': 'Soulpepper Theatre',\n",
       "       'location': {'address': '55 Mill St',\n",
       "        'lat': 43.65078003430492,\n",
       "        'lng': -79.35761534068922,\n",
       "        'labeledLatLngs': [{'label': 'display',\n",
       "          'lat': 43.65078003430492,\n",
       "          'lng': -79.35761534068922}],\n",
       "        'distance': 457,\n",
       "        'cc': 'CA',\n",
       "        'city': 'Toronto',\n",
       "        'state': 'ON',\n",
       "        'country': 'Canada',\n",
       "        'formattedAddress': ['55 Mill St', 'Toronto ON', 'Canada']},\n",
       "       'categories': [{'id': '4bf58dd8d48988d137941735',\n",
       "         'name': 'Theater',\n",
       "         'pluralName': 'Theaters',\n",
       "         'shortName': 'Theater',\n",
       "         'icon': {'prefix': 'https://ss3.4sqi.net/img/categories_v2/arts_entertainment/performingarts_theater_',\n",
       "          'suffix': '.png'},\n",
       "         'primary': True}],\n",
       "       'photos': {'count': 0, 'groups': []}},\n",
       "      'referralId': 'e-0-4bb52a8bf562ef3b7d992e97-29'},\n",
       "     {'reasons': {'count': 0,\n",
       "       'items': [{'summary': 'This spot is popular',\n",
       "         'type': 'general',\n",
       "         'reasonName': 'globalInteractionReason'}]},\n",
       "      'venue': {'id': '4ade8ea8f964a5205a7621e3',\n",
       "       'name': 'Berkeley Church',\n",
       "       'location': {'address': '315 Queen St E',\n",
       "        'crossStreet': 'at Berkeley St',\n",
       "        'lat': 43.65512324174501,\n",
       "        'lng': -79.36587330410705,\n",
       "        'labeledLatLngs': [{'label': 'display',\n",
       "          'lat': 43.65512324174501,\n",
       "          'lng': -79.36587330410705}],\n",
       "        'distance': 432,\n",
       "        'postalCode': 'M5A 1S7',\n",
       "        'cc': 'CA',\n",
       "        'city': 'Toronto',\n",
       "        'state': 'ON',\n",
       "        'country': 'Canada',\n",
       "        'formattedAddress': ['315 Queen St E (at Berkeley St)',\n",
       "         'Toronto ON M5A 1S7',\n",
       "         'Canada']},\n",
       "       'categories': [{'id': '4bf58dd8d48988d171941735',\n",
       "         'name': 'Event Space',\n",
       "         'pluralName': 'Event Spaces',\n",
       "         'shortName': 'Event Space',\n",
       "         'icon': {'prefix': 'https://ss3.4sqi.net/img/categories_v2/building/eventspace_',\n",
       "          'suffix': '.png'},\n",
       "         'primary': True}],\n",
       "       'photos': {'count': 0, 'groups': []}},\n",
       "      'referralId': 'e-0-4ade8ea8f964a5205a7621e3-30'},\n",
       "     {'reasons': {'count': 0,\n",
       "       'items': [{'summary': 'This spot is popular',\n",
       "         'type': 'general',\n",
       "         'reasonName': 'globalInteractionReason'}]},\n",
       "      'venue': {'id': '51828372e4b0ea1bac906b00',\n",
       "       'name': 'John Fluevog Shoes',\n",
       "       'location': {'address': '4 Trinity St.',\n",
       "        'crossStreet': 'Distillery District',\n",
       "        'lat': 43.64989585773889,\n",
       "        'lng': -79.3594359503061,\n",
       "        'labeledLatLngs': [{'label': 'display',\n",
       "          'lat': 43.64989585773889,\n",
       "          'lng': -79.3594359503061}],\n",
       "        'distance': 495,\n",
       "        'postalCode': 'M5A 3C4',\n",
       "        'cc': 'CA',\n",
       "        'city': 'Toronto',\n",
       "        'state': 'ON',\n",
       "        'country': 'Canada',\n",
       "        'formattedAddress': ['4 Trinity St. (Distillery District)',\n",
       "         'Toronto ON M5A 3C4',\n",
       "         'Canada']},\n",
       "       'categories': [{'id': '4bf58dd8d48988d107951735',\n",
       "         'name': 'Shoe Store',\n",
       "         'pluralName': 'Shoe Stores',\n",
       "         'shortName': 'Shoes',\n",
       "         'icon': {'prefix': 'https://ss3.4sqi.net/img/categories_v2/shops/apparel_shoestore_',\n",
       "          'suffix': '.png'},\n",
       "         'primary': True}],\n",
       "       'photos': {'count': 0, 'groups': []}},\n",
       "      'referralId': 'e-0-51828372e4b0ea1bac906b00-31'},\n",
       "     {'reasons': {'count': 0,\n",
       "       'items': [{'summary': 'This spot is popular',\n",
       "         'type': 'general',\n",
       "         'reasonName': 'globalInteractionReason'}]},\n",
       "      'venue': {'id': '4af9fc95f964a520ca1522e3',\n",
       "       'name': 'Mill St. Brew Pub',\n",
       "       'location': {'address': '21 Tank House Ln',\n",
       "        'crossStreet': 'at Pure Spirits Mews',\n",
       "        'lat': 43.65035331843578,\n",
       "        'lng': -79.35848936650571,\n",
       "        'labeledLatLngs': [{'label': 'display',\n",
       "          'lat': 43.65035331843578,\n",
       "          'lng': -79.35848936650571}],\n",
       "        'distance': 467,\n",
       "        'postalCode': 'M5A 3C4',\n",
       "        'cc': 'CA',\n",
       "        'neighborhood': 'Distillery District',\n",
       "        'city': 'Toronto',\n",
       "        'state': 'ON',\n",
       "        'country': 'Canada',\n",
       "        'formattedAddress': ['21 Tank House Ln (at Pure Spirits Mews)',\n",
       "         'Toronto ON M5A 3C4',\n",
       "         'Canada']},\n",
       "       'categories': [{'id': '4bf58dd8d48988d11b941735',\n",
       "         'name': 'Pub',\n",
       "         'pluralName': 'Pubs',\n",
       "         'shortName': 'Pub',\n",
       "         'icon': {'prefix': 'https://ss3.4sqi.net/img/categories_v2/nightlife/pub_',\n",
       "          'suffix': '.png'},\n",
       "         'primary': True}],\n",
       "       'photos': {'count': 0, 'groups': []}},\n",
       "      'referralId': 'e-0-4af9fc95f964a520ca1522e3-32'},\n",
       "     {'reasons': {'count': 0,\n",
       "       'items': [{'summary': 'This spot is popular',\n",
       "         'type': 'general',\n",
       "         'reasonName': 'globalInteractionReason'}]},\n",
       "      'venue': {'id': '54d37e23498e5e29bcb35362',\n",
       "       'name': 'ODIN Cafe + Bar',\n",
       "       'location': {'address': '514 King St E',\n",
       "        'crossStreet': 'at River St',\n",
       "        'lat': 43.656738544928054,\n",
       "        'lng': -79.35650305267754,\n",
       "        'labeledLatLngs': [{'label': 'display',\n",
       "          'lat': 43.656738544928054,\n",
       "          'lng': -79.35650305267754}],\n",
       "        'distance': 432,\n",
       "        'postalCode': 'M5A 1M1',\n",
       "        'cc': 'CA',\n",
       "        'city': 'Toronto',\n",
       "        'state': 'ON',\n",
       "        'country': 'Canada',\n",
       "        'formattedAddress': ['514 King St E (at River St)',\n",
       "         'Toronto ON M5A 1M1',\n",
       "         'Canada']},\n",
       "       'categories': [{'id': '4bf58dd8d48988d16d941735',\n",
       "         'name': 'Café',\n",
       "         'pluralName': 'Cafés',\n",
       "         'shortName': 'Café',\n",
       "         'icon': {'prefix': 'https://ss3.4sqi.net/img/categories_v2/food/cafe_',\n",
       "          'suffix': '.png'},\n",
       "         'primary': True}],\n",
       "       'photos': {'count': 0, 'groups': []}},\n",
       "      'referralId': 'e-0-54d37e23498e5e29bcb35362-33'},\n",
       "     {'reasons': {'count': 0,\n",
       "       'items': [{'summary': 'This spot is popular',\n",
       "         'type': 'general',\n",
       "         'reasonName': 'globalInteractionReason'}]},\n",
       "      'venue': {'id': '5b7ccd5e1f8ed6002c9bd7d0',\n",
       "       'name': 'The Aviary',\n",
       "       'location': {'lat': 43.65363394725125,\n",
       "        'lng': -79.35466212072043,\n",
       "        'labeledLatLngs': [{'label': 'display',\n",
       "          'lat': 43.65363394725125,\n",
       "          'lng': -79.35466212072043}],\n",
       "        'distance': 486,\n",
       "        'postalCode': 'M5A 1H7',\n",
       "        'cc': 'CA',\n",
       "        'city': 'Toronto',\n",
       "        'state': 'ON',\n",
       "        'country': 'Canada',\n",
       "        'formattedAddress': ['Toronto ON M5A 1H7', 'Canada']},\n",
       "       'categories': [{'id': '4bf58dd8d48988d11b941735',\n",
       "         'name': 'Pub',\n",
       "         'pluralName': 'Pubs',\n",
       "         'shortName': 'Pub',\n",
       "         'icon': {'prefix': 'https://ss3.4sqi.net/img/categories_v2/nightlife/pub_',\n",
       "          'suffix': '.png'},\n",
       "         'primary': True}],\n",
       "       'photos': {'count': 0, 'groups': []}},\n",
       "      'referralId': 'e-0-5b7ccd5e1f8ed6002c9bd7d0-34'},\n",
       "     {'reasons': {'count': 0,\n",
       "       'items': [{'summary': 'This spot is popular',\n",
       "         'type': 'general',\n",
       "         'reasonName': 'globalInteractionReason'}]},\n",
       "      'venue': {'id': '4af21e78f964a520fae521e3',\n",
       "       'name': 'Arta Gallery',\n",
       "       'location': {'address': '14 Distillery Lane',\n",
       "        'crossStreet': 'Distillery District',\n",
       "        'lat': 43.650022181882065,\n",
       "        'lng': -79.36122168476822,\n",
       "        'labeledLatLngs': [{'label': 'display',\n",
       "          'lat': 43.650022181882065,\n",
       "          'lng': -79.36122168476822}],\n",
       "        'distance': 474,\n",
       "        'postalCode': 'M5A 3C4',\n",
       "        'cc': 'CA',\n",
       "        'city': 'Toronto',\n",
       "        'state': 'ON',\n",
       "        'country': 'Canada',\n",
       "        'formattedAddress': ['14 Distillery Lane (Distillery District)',\n",
       "         'Toronto ON M5A 3C4',\n",
       "         'Canada']},\n",
       "       'categories': [{'id': '4bf58dd8d48988d1e2931735',\n",
       "         'name': 'Art Gallery',\n",
       "         'pluralName': 'Art Galleries',\n",
       "         'shortName': 'Art Gallery',\n",
       "         'icon': {'prefix': 'https://ss3.4sqi.net/img/categories_v2/arts_entertainment/artgallery_',\n",
       "          'suffix': '.png'},\n",
       "         'primary': True}],\n",
       "       'photos': {'count': 0, 'groups': []}},\n",
       "      'referralId': 'e-0-4af21e78f964a520fae521e3-35'},\n",
       "     {'reasons': {'count': 0,\n",
       "       'items': [{'summary': 'This spot is popular',\n",
       "         'type': 'general',\n",
       "         'reasonName': 'globalInteractionReason'}]},\n",
       "      'venue': {'id': '4ad8d551f964a5201f1521e3',\n",
       "       'name': 'Vistek',\n",
       "       'location': {'address': '496 Queen St E',\n",
       "        'crossStreet': 'at Sumach',\n",
       "        'lat': 43.65704640025721,\n",
       "        'lng': -79.35966695607046,\n",
       "        'labeledLatLngs': [{'label': 'display',\n",
       "          'lat': 43.65704640025721,\n",
       "          'lng': -79.35966695607046}],\n",
       "        'distance': 319,\n",
       "        'cc': 'CA',\n",
       "        'city': 'Toronto',\n",
       "        'state': 'ON',\n",
       "        'country': 'Canada',\n",
       "        'formattedAddress': ['496 Queen St E (at Sumach)',\n",
       "         'Toronto ON',\n",
       "         'Canada']},\n",
       "       'categories': [{'id': '4bf58dd8d48988d122951735',\n",
       "         'name': 'Electronics Store',\n",
       "         'pluralName': 'Electronics Stores',\n",
       "         'shortName': 'Electronics',\n",
       "         'icon': {'prefix': 'https://ss3.4sqi.net/img/categories_v2/shops/technology_',\n",
       "          'suffix': '.png'},\n",
       "         'primary': True}],\n",
       "       'photos': {'count': 0, 'groups': []}},\n",
       "      'referralId': 'e-0-4ad8d551f964a5201f1521e3-36'},\n",
       "     {'reasons': {'count': 0,\n",
       "       'items': [{'summary': 'This spot is popular',\n",
       "         'type': 'general',\n",
       "         'reasonName': 'globalInteractionReason'}]},\n",
       "      'venue': {'id': '4dbb2d7a6e815ab0de64d555',\n",
       "       'name': 'Ontario Spring Water Sake Company',\n",
       "       'location': {'address': '51 Gristmill Lane',\n",
       "        'lat': 43.649921646081026,\n",
       "        'lng': -79.36007302731126,\n",
       "        'labeledLatLngs': [{'label': 'display',\n",
       "          'lat': 43.649921646081026,\n",
       "          'lng': -79.36007302731126}],\n",
       "        'distance': 485,\n",
       "        'postalCode': 'M5A 3C4',\n",
       "        'cc': 'CA',\n",
       "        'city': 'Toronto',\n",
       "        'state': 'ON',\n",
       "        'country': 'Canada',\n",
       "        'formattedAddress': ['51 Gristmill Lane',\n",
       "         'Toronto ON M5A 3C4',\n",
       "         'Canada']},\n",
       "       'categories': [{'id': '50327c8591d4c4b30a586d5d',\n",
       "         'name': 'Brewery',\n",
       "         'pluralName': 'Breweries',\n",
       "         'shortName': 'Brewery',\n",
       "         'icon': {'prefix': 'https://ss3.4sqi.net/img/categories_v2/food/brewery_',\n",
       "          'suffix': '.png'},\n",
       "         'primary': True}],\n",
       "       'photos': {'count': 0, 'groups': []}},\n",
       "      'referralId': 'e-0-4dbb2d7a6e815ab0de64d555-37'},\n",
       "     {'reasons': {'count': 0,\n",
       "       'items': [{'summary': 'This spot is popular',\n",
       "         'type': 'general',\n",
       "         'reasonName': 'globalInteractionReason'}]},\n",
       "      'venue': {'id': '4d126fd3d1848cfad5cfbb71',\n",
       "       'name': 'TD Canada Trust',\n",
       "       'location': {'address': '457 Front Street East',\n",
       "        'lat': 43.652779762702764,\n",
       "        'lng': -79.3563362625656,\n",
       "        'labeledLatLngs': [{'label': 'display',\n",
       "          'lat': 43.652779762702764,\n",
       "          'lng': -79.3563362625656}],\n",
       "        'distance': 383,\n",
       "        'postalCode': 'M5A 0J2',\n",
       "        'cc': 'CA',\n",
       "        'city': 'Toronto',\n",
       "        'state': 'ON',\n",
       "        'country': 'Canada',\n",
       "        'formattedAddress': ['457 Front Street East',\n",
       "         'Toronto ON M5A 0J2',\n",
       "         'Canada']},\n",
       "       'categories': [{'id': '4bf58dd8d48988d10a951735',\n",
       "         'name': 'Bank',\n",
       "         'pluralName': 'Banks',\n",
       "         'shortName': 'Bank',\n",
       "         'icon': {'prefix': 'https://ss3.4sqi.net/img/categories_v2/shops/financial_',\n",
       "          'suffix': '.png'},\n",
       "         'primary': True}],\n",
       "       'photos': {'count': 0, 'groups': []}},\n",
       "      'referralId': 'e-0-4d126fd3d1848cfad5cfbb71-38'},\n",
       "     {'reasons': {'count': 0,\n",
       "       'items': [{'summary': 'This spot is popular',\n",
       "         'type': 'general',\n",
       "         'reasonName': 'globalInteractionReason'}]},\n",
       "      'venue': {'id': '4b8acdfdf964a520378232e3',\n",
       "       'name': 'The Beer Store',\n",
       "       'location': {'address': '28 River Street',\n",
       "        'crossStreet': 'Queen St E',\n",
       "        'lat': 43.657773,\n",
       "        'lng': -79.3574632,\n",
       "        'labeledLatLngs': [{'label': 'display',\n",
       "          'lat': 43.657773,\n",
       "          'lng': -79.3574632}],\n",
       "        'distance': 467,\n",
       "        'postalCode': 'M5A 3N9',\n",
       "        'cc': 'CA',\n",
       "        'city': 'Toronto',\n",
       "        'state': 'ON',\n",
       "        'country': 'Canada',\n",
       "        'formattedAddress': ['28 River Street (Queen St E)',\n",
       "         'Toronto ON M5A 3N9',\n",
       "         'Canada']},\n",
       "       'categories': [{'id': '5370f356bcbc57f1066c94c2',\n",
       "         'name': 'Beer Store',\n",
       "         'pluralName': 'Beer Stores',\n",
       "         'shortName': 'Beer Store',\n",
       "         'icon': {'prefix': 'https://ss3.4sqi.net/img/categories_v2/nightlife/beergarden_',\n",
       "          'suffix': '.png'},\n",
       "         'primary': True}],\n",
       "       'photos': {'count': 0, 'groups': []}},\n",
       "      'referralId': 'e-0-4b8acdfdf964a520378232e3-39'},\n",
       "     {'reasons': {'count': 0,\n",
       "       'items': [{'summary': 'This spot is popular',\n",
       "         'type': 'general',\n",
       "         'reasonName': 'globalInteractionReason'}]},\n",
       "      'venue': {'id': '4b2cf78cf964a52077cb24e3',\n",
       "       'name': 'Savoury Grounds',\n",
       "       'location': {'address': '481 Queen St. East',\n",
       "        'crossStreet': 'Sumach St',\n",
       "        'lat': 43.656820970004496,\n",
       "        'lng': -79.3589698353747,\n",
       "        'labeledLatLngs': [{'label': 'display',\n",
       "          'lat': 43.656820970004496,\n",
       "          'lng': -79.3589698353747}],\n",
       "        'distance': 315,\n",
       "        'cc': 'CA',\n",
       "        'city': 'Toronto',\n",
       "        'state': 'ON',\n",
       "        'country': 'Canada',\n",
       "        'formattedAddress': ['481 Queen St. East (Sumach St)',\n",
       "         'Toronto ON',\n",
       "         'Canada']},\n",
       "       'categories': [{'id': '4bf58dd8d48988d1e0931735',\n",
       "         'name': 'Coffee Shop',\n",
       "         'pluralName': 'Coffee Shops',\n",
       "         'shortName': 'Coffee Shop',\n",
       "         'icon': {'prefix': 'https://ss3.4sqi.net/img/categories_v2/food/coffeeshop_',\n",
       "          'suffix': '.png'},\n",
       "         'primary': True}],\n",
       "       'photos': {'count': 0, 'groups': []}},\n",
       "      'referralId': 'e-0-4b2cf78cf964a52077cb24e3-40'},\n",
       "     {'reasons': {'count': 0,\n",
       "       'items': [{'summary': 'This spot is popular',\n",
       "         'type': 'general',\n",
       "         'reasonName': 'globalInteractionReason'}]},\n",
       "      'venue': {'id': '593b5fbea35dce738ebbb4ec',\n",
       "       'name': 'Residence & Conference Centre',\n",
       "       'location': {'address': '80 Cooperage',\n",
       "        'crossStreet': 'Front Street',\n",
       "        'lat': 43.65304,\n",
       "        'lng': -79.35704,\n",
       "        'labeledLatLngs': [{'label': 'display',\n",
       "          'lat': 43.65304,\n",
       "          'lng': -79.35704}],\n",
       "        'distance': 319,\n",
       "        'postalCode': 'M5A 1G9',\n",
       "        'cc': 'CA',\n",
       "        'city': 'Toronto',\n",
       "        'state': 'ON',\n",
       "        'country': 'Canada',\n",
       "        'formattedAddress': ['80 Cooperage (Front Street)',\n",
       "         'Toronto ON M5A 1G9',\n",
       "         'Canada']},\n",
       "       'categories': [{'id': '4bf58dd8d48988d1fa931735',\n",
       "         'name': 'Hotel',\n",
       "         'pluralName': 'Hotels',\n",
       "         'shortName': 'Hotel',\n",
       "         'icon': {'prefix': 'https://ss3.4sqi.net/img/categories_v2/travel/hotel_',\n",
       "          'suffix': '.png'},\n",
       "         'primary': True}],\n",
       "       'photos': {'count': 0, 'groups': []}},\n",
       "      'referralId': 'e-0-593b5fbea35dce738ebbb4ec-41'},\n",
       "     {'reasons': {'count': 0,\n",
       "       'items': [{'summary': 'This spot is popular',\n",
       "         'type': 'general',\n",
       "         'reasonName': 'globalInteractionReason'}]},\n",
       "      'venue': {'id': '57dd8bcd498e8eec19b9c896',\n",
       "       'name': 'FUEL+',\n",
       "       'location': {'address': '469 Front St',\n",
       "        'crossStreet': 'Rolling Mills Rd',\n",
       "        'lat': 43.653193,\n",
       "        'lng': -79.355867,\n",
       "        'labeledLatLngs': [{'label': 'display',\n",
       "          'lat': 43.653193,\n",
       "          'lng': -79.355867}],\n",
       "        'distance': 402,\n",
       "        'postalCode': 'M5A',\n",
       "        'cc': 'CA',\n",
       "        'city': 'Toronto',\n",
       "        'state': 'ON',\n",
       "        'country': 'Canada',\n",
       "        'formattedAddress': ['469 Front St (Rolling Mills Rd)',\n",
       "         'Toronto ON M5A',\n",
       "         'Canada']},\n",
       "       'categories': [{'id': '4bf58dd8d48988d1e0931735',\n",
       "         'name': 'Coffee Shop',\n",
       "         'pluralName': 'Coffee Shops',\n",
       "         'shortName': 'Coffee Shop',\n",
       "         'icon': {'prefix': 'https://ss3.4sqi.net/img/categories_v2/food/coffeeshop_',\n",
       "          'suffix': '.png'},\n",
       "         'primary': True}],\n",
       "       'photos': {'count': 0, 'groups': []}},\n",
       "      'referralId': 'e-0-57dd8bcd498e8eec19b9c896-42'},\n",
       "     {'reasons': {'count': 0,\n",
       "       'items': [{'summary': 'This spot is popular',\n",
       "         'type': 'general',\n",
       "         'reasonName': 'globalInteractionReason'}]},\n",
       "      'venue': {'id': '579cc5f2498e0fe8397deebb',\n",
       "       'name': 'GW General',\n",
       "       'location': {'lat': 43.650495,\n",
       "        'lng': -79.357538,\n",
       "        'labeledLatLngs': [{'label': 'display',\n",
       "          'lat': 43.650495,\n",
       "          'lng': -79.357538}],\n",
       "        'distance': 487,\n",
       "        'cc': 'CA',\n",
       "        'country': 'Canada',\n",
       "        'formattedAddress': ['Canada']},\n",
       "       'categories': [{'id': '4bf58dd8d48988d116951735',\n",
       "         'name': 'Antique Shop',\n",
       "         'pluralName': 'Antique Shops',\n",
       "         'shortName': 'Antiques',\n",
       "         'icon': {'prefix': 'https://ss3.4sqi.net/img/categories_v2/shops/antique_',\n",
       "          'suffix': '.png'},\n",
       "         'primary': True}],\n",
       "       'photos': {'count': 0, 'groups': []}},\n",
       "      'referralId': 'e-0-579cc5f2498e0fe8397deebb-43'}]}]}}"
      ]
     },
     "metadata": {},
     "execution_count": 24
    }
   ],
   "source": [
    "results = requests.get(url).json()\n",
    "results"
   ]
  },
  {
   "source": [
    "### Define a function that extracts the category of the venue."
   ],
   "cell_type": "markdown",
   "metadata": {}
  },
  {
   "cell_type": "code",
   "execution_count": 25,
   "metadata": {},
   "outputs": [],
   "source": [
    "# define the function that extracts the category of the venue\n",
    "def get_category_type(row):\n",
    "    try:\n",
    "        categories_list = row['categories']\n",
    "    except:\n",
    "        categories_list = row['venue.categories']\n",
    "        \n",
    "    if len(categories_list) == 0:\n",
    "        return None\n",
    "    else:\n",
    "        return categories_list[0]['name']"
   ]
  },
  {
   "source": [
    "### Create a dataframe to store the venues, the corresponding categories and coordinates."
   ],
   "cell_type": "markdown",
   "metadata": {}
  },
  {
   "cell_type": "code",
   "execution_count": 26,
   "metadata": {},
   "outputs": [
    {
     "output_type": "execute_result",
     "data": {
      "text/plain": [
       "                     name           categories        lat        lng\n",
       "0        Roselle Desserts               Bakery  43.653447 -79.362017\n",
       "1           Tandem Coffee          Coffee Shop  43.653559 -79.361809\n",
       "2  Cooper Koo Family YMCA  Distribution Center  43.653249 -79.358008\n",
       "3          Impact Kitchen           Restaurant  43.656369 -79.356980\n",
       "4     Body Blitz Spa East                  Spa  43.654735 -79.359874"
      ],
      "text/html": "<div>\n<style scoped>\n    .dataframe tbody tr th:only-of-type {\n        vertical-align: middle;\n    }\n\n    .dataframe tbody tr th {\n        vertical-align: top;\n    }\n\n    .dataframe thead th {\n        text-align: right;\n    }\n</style>\n<table border=\"1\" class=\"dataframe\">\n  <thead>\n    <tr style=\"text-align: right;\">\n      <th></th>\n      <th>name</th>\n      <th>categories</th>\n      <th>lat</th>\n      <th>lng</th>\n    </tr>\n  </thead>\n  <tbody>\n    <tr>\n      <th>0</th>\n      <td>Roselle Desserts</td>\n      <td>Bakery</td>\n      <td>43.653447</td>\n      <td>-79.362017</td>\n    </tr>\n    <tr>\n      <th>1</th>\n      <td>Tandem Coffee</td>\n      <td>Coffee Shop</td>\n      <td>43.653559</td>\n      <td>-79.361809</td>\n    </tr>\n    <tr>\n      <th>2</th>\n      <td>Cooper Koo Family YMCA</td>\n      <td>Distribution Center</td>\n      <td>43.653249</td>\n      <td>-79.358008</td>\n    </tr>\n    <tr>\n      <th>3</th>\n      <td>Impact Kitchen</td>\n      <td>Restaurant</td>\n      <td>43.656369</td>\n      <td>-79.356980</td>\n    </tr>\n    <tr>\n      <th>4</th>\n      <td>Body Blitz Spa East</td>\n      <td>Spa</td>\n      <td>43.654735</td>\n      <td>-79.359874</td>\n    </tr>\n  </tbody>\n</table>\n</div>"
     },
     "metadata": {},
     "execution_count": 26
    }
   ],
   "source": [
    "venues = results['response']['groups'][0]['items']\n",
    "    \n",
    "nearby_venues = json_normalize(venues) # flatten JSON\n",
    "\n",
    "# filter columns\n",
    "filtered_columns = ['venue.name', 'venue.categories', 'venue.location.lat', 'venue.location.lng']\n",
    "nearby_venues = nearby_venues.loc[:, filtered_columns]\n",
    "\n",
    "# filter the category for each row\n",
    "nearby_venues['venue.categories'] = nearby_venues.apply(get_category_type, axis = 1)\n",
    "\n",
    "# clean columns\n",
    "nearby_venues.columns = [col.split(\".\")[-1] for col in nearby_venues.columns]\n",
    "\n",
    "nearby_venues.head()"
   ]
  },
  {
   "source": [
    "### How many venues returned by Foursquare?"
   ],
   "cell_type": "markdown",
   "metadata": {}
  },
  {
   "cell_type": "code",
   "execution_count": 27,
   "metadata": {},
   "outputs": [
    {
     "output_type": "stream",
     "name": "stdout",
     "text": [
      "44 venues were returned by Foursquare.\n"
     ]
    }
   ],
   "source": [
    "print('{} venues were returned by Foursquare.'.format(nearby_venues.shape[0]))"
   ]
  },
  {
   "source": [
    "### Define a function to repeat the same process for all neighbourhoods."
   ],
   "cell_type": "markdown",
   "metadata": {}
  },
  {
   "cell_type": "code",
   "execution_count": 28,
   "metadata": {},
   "outputs": [],
   "source": [
    "def getNearbyVenues(names, latitudes, longitudes, radius = 500):\n",
    "    \n",
    "    venues_list = []\n",
    "    for name, lat, lng in zip(names, latitudes, longitudes):\n",
    "        print(name)\n",
    "            \n",
    "        # create the API request URL\n",
    "        url = 'https://api.foursquare.com/v2/venues/explore?&client_id={}&client_secret={}&v={}&ll={},{}&radius={}&limit={}'.format(\n",
    "            CLIENT_ID, \n",
    "            CLIENT_SECRET, \n",
    "            VERSION, \n",
    "            lat, \n",
    "            lng, \n",
    "            radius, \n",
    "            LIMIT)\n",
    "            \n",
    "        # make the GET request\n",
    "        results = requests.get(url).json()[\"response\"]['groups'][0]['items']\n",
    "        \n",
    "        # return only relevant information for each nearby venue\n",
    "        venues_list.append([(\n",
    "            name, \n",
    "            lat, \n",
    "            lng, \n",
    "            v['venue']['name'], \n",
    "            v['venue']['location']['lat'], \n",
    "            v['venue']['location']['lng'],  \n",
    "            v['venue']['categories'][0]['name']) for v in results])\n",
    "\n",
    "    nearby_venues = pd.DataFrame([item for venue_list in venues_list for item in venue_list])\n",
    "    nearby_venues.columns = ['Neighbourhood', \n",
    "                  'Neighbourhood Latitude', \n",
    "                  'Neighbourhood Longitude', \n",
    "                  'Venue', \n",
    "                  'Venue Latitude', \n",
    "                  'Venue Longitude', \n",
    "                  'Venue Category']\n",
    "    \n",
    "    return(nearby_venues)"
   ]
  },
  {
   "source": [
    "### What are the neighbourhoods?"
   ],
   "cell_type": "markdown",
   "metadata": {}
  },
  {
   "cell_type": "code",
   "execution_count": 29,
   "metadata": {},
   "outputs": [
    {
     "output_type": "stream",
     "name": "stdout",
     "text": [
      "Regent Park, Harbourfront\n",
      "Queen's Park, Ontario Provincial Government\n",
      "Garden District, Ryerson\n",
      "St. James Town\n",
      "The Beaches\n",
      "Berczy Park\n",
      "Central Bay Street\n",
      "Christie\n",
      "Richmond, Adelaide, King\n",
      "Dufferin, Dovercourt Village\n",
      "Harbourfront East, Union Station, Toronto Islands\n",
      "Little Portugal, Trinity\n",
      "The Danforth West, Riverdale\n",
      "Toronto Dominion Centre, Design Exchange\n",
      "Brockton, Parkdale Village, Exhibition Place\n",
      "India Bazaar, The Beaches West\n",
      "Commerce Court, Victoria Hotel\n",
      "Studio District\n",
      "Lawrence Park\n",
      "Roselawn\n",
      "Davisville North\n",
      "Forest Hill North & West, Forest Hill Road Park\n",
      "High Park, The Junction South\n",
      "North Toronto West, Lawrence Park\n",
      "The Annex, North Midtown, Yorkville\n",
      "Parkdale, Roncesvalles\n",
      "Davisville\n",
      "University of Toronto, Harbord\n",
      "Runnymede, Swansea\n",
      "Moore Park, Summerhill East\n",
      "Kensington Market, Chinatown, Grange Park\n",
      "Summerhill West, Rathnelly, South Hill, Forest Hill SE, Deer Park\n",
      "CN Tower, King and Spadina, Railway Lands, Harbourfront West, Bathurst Quay, South Niagara, Island airport\n",
      "Rosedale\n",
      "Stn A PO Boxes\n",
      "St. James Town, Cabbagetown\n",
      "First Canadian Place, Underground city\n",
      "Church and Wellesley\n",
      "Business reply mail Processing Centre, South Central Letter Processing Plant Toronto\n"
     ]
    }
   ],
   "source": [
    "toronto_venues = getNearbyVenues(names = df3['Neighbourhood'], latitudes = df3['Latitude'], longitudes = df3['Longitude'])"
   ]
  },
  {
   "source": [
    "### What's the size of the resulting dataframe?"
   ],
   "cell_type": "markdown",
   "metadata": {}
  },
  {
   "cell_type": "code",
   "execution_count": 30,
   "metadata": {},
   "outputs": [
    {
     "output_type": "stream",
     "name": "stdout",
     "text": [
      "(1624, 7)\n"
     ]
    },
    {
     "output_type": "execute_result",
     "data": {
      "text/plain": [
       "               Neighbourhood  Neighbourhood Latitude  Neighbourhood Longitude  \\\n",
       "0  Regent Park, Harbourfront                43.65426               -79.360636   \n",
       "1  Regent Park, Harbourfront                43.65426               -79.360636   \n",
       "2  Regent Park, Harbourfront                43.65426               -79.360636   \n",
       "3  Regent Park, Harbourfront                43.65426               -79.360636   \n",
       "4  Regent Park, Harbourfront                43.65426               -79.360636   \n",
       "\n",
       "                    Venue  Venue Latitude  Venue Longitude  \\\n",
       "0        Roselle Desserts       43.653447       -79.362017   \n",
       "1           Tandem Coffee       43.653559       -79.361809   \n",
       "2  Cooper Koo Family YMCA       43.653249       -79.358008   \n",
       "3          Impact Kitchen       43.656369       -79.356980   \n",
       "4     Body Blitz Spa East       43.654735       -79.359874   \n",
       "\n",
       "        Venue Category  \n",
       "0               Bakery  \n",
       "1          Coffee Shop  \n",
       "2  Distribution Center  \n",
       "3           Restaurant  \n",
       "4                  Spa  "
      ],
      "text/html": "<div>\n<style scoped>\n    .dataframe tbody tr th:only-of-type {\n        vertical-align: middle;\n    }\n\n    .dataframe tbody tr th {\n        vertical-align: top;\n    }\n\n    .dataframe thead th {\n        text-align: right;\n    }\n</style>\n<table border=\"1\" class=\"dataframe\">\n  <thead>\n    <tr style=\"text-align: right;\">\n      <th></th>\n      <th>Neighbourhood</th>\n      <th>Neighbourhood Latitude</th>\n      <th>Neighbourhood Longitude</th>\n      <th>Venue</th>\n      <th>Venue Latitude</th>\n      <th>Venue Longitude</th>\n      <th>Venue Category</th>\n    </tr>\n  </thead>\n  <tbody>\n    <tr>\n      <th>0</th>\n      <td>Regent Park, Harbourfront</td>\n      <td>43.65426</td>\n      <td>-79.360636</td>\n      <td>Roselle Desserts</td>\n      <td>43.653447</td>\n      <td>-79.362017</td>\n      <td>Bakery</td>\n    </tr>\n    <tr>\n      <th>1</th>\n      <td>Regent Park, Harbourfront</td>\n      <td>43.65426</td>\n      <td>-79.360636</td>\n      <td>Tandem Coffee</td>\n      <td>43.653559</td>\n      <td>-79.361809</td>\n      <td>Coffee Shop</td>\n    </tr>\n    <tr>\n      <th>2</th>\n      <td>Regent Park, Harbourfront</td>\n      <td>43.65426</td>\n      <td>-79.360636</td>\n      <td>Cooper Koo Family YMCA</td>\n      <td>43.653249</td>\n      <td>-79.358008</td>\n      <td>Distribution Center</td>\n    </tr>\n    <tr>\n      <th>3</th>\n      <td>Regent Park, Harbourfront</td>\n      <td>43.65426</td>\n      <td>-79.360636</td>\n      <td>Impact Kitchen</td>\n      <td>43.656369</td>\n      <td>-79.356980</td>\n      <td>Restaurant</td>\n    </tr>\n    <tr>\n      <th>4</th>\n      <td>Regent Park, Harbourfront</td>\n      <td>43.65426</td>\n      <td>-79.360636</td>\n      <td>Body Blitz Spa East</td>\n      <td>43.654735</td>\n      <td>-79.359874</td>\n      <td>Spa</td>\n    </tr>\n  </tbody>\n</table>\n</div>"
     },
     "metadata": {},
     "execution_count": 30
    }
   ],
   "source": [
    "print(toronto_venues.shape)\n",
    "toronto_venues.head()"
   ]
  },
  {
   "source": [
    "### How many venues are there for each of the neighbourhoods?"
   ],
   "cell_type": "markdown",
   "metadata": {}
  },
  {
   "cell_type": "code",
   "execution_count": 31,
   "metadata": {},
   "outputs": [
    {
     "output_type": "execute_result",
     "data": {
      "text/plain": [
       "                                                    Neighbourhood Latitude  \\\n",
       "Neighbourhood                                                                \n",
       "Berczy Park                                                             55   \n",
       "Brockton, Parkdale Village, Exhibition Place                            23   \n",
       "Business reply mail Processing Centre, South Ce...                      16   \n",
       "CN Tower, King and Spadina, Railway Lands, Harb...                      16   \n",
       "Central Bay Street                                                      68   \n",
       "Christie                                                                16   \n",
       "Church and Wellesley                                                    75   \n",
       "Commerce Court, Victoria Hotel                                         100   \n",
       "Davisville                                                              33   \n",
       "Davisville North                                                         9   \n",
       "Dufferin, Dovercourt Village                                            13   \n",
       "First Canadian Place, Underground city                                 100   \n",
       "Forest Hill North & West, Forest Hill Road Park                          4   \n",
       "Garden District, Ryerson                                               100   \n",
       "Harbourfront East, Union Station, Toronto Islands                      100   \n",
       "High Park, The Junction South                                           25   \n",
       "India Bazaar, The Beaches West                                          19   \n",
       "Kensington Market, Chinatown, Grange Park                               74   \n",
       "Lawrence Park                                                            3   \n",
       "Little Portugal, Trinity                                                45   \n",
       "Moore Park, Summerhill East                                              2   \n",
       "North Toronto West, Lawrence Park                                       18   \n",
       "Parkdale, Roncesvalles                                                  14   \n",
       "Queen's Park, Ontario Provincial Government                             33   \n",
       "Regent Park, Harbourfront                                               44   \n",
       "Richmond, Adelaide, King                                               100   \n",
       "Rosedale                                                                 4   \n",
       "Roselawn                                                                 2   \n",
       "Runnymede, Swansea                                                      33   \n",
       "St. James Town                                                          85   \n",
       "St. James Town, Cabbagetown                                             48   \n",
       "Stn A PO Boxes                                                          96   \n",
       "Studio District                                                         37   \n",
       "Summerhill West, Rathnelly, South Hill, Forest ...                      14   \n",
       "The Annex, North Midtown, Yorkville                                     19   \n",
       "The Beaches                                                              4   \n",
       "The Danforth West, Riverdale                                            43   \n",
       "Toronto Dominion Centre, Design Exchange                               100   \n",
       "University of Toronto, Harbord                                          34   \n",
       "\n",
       "                                                    Neighbourhood Longitude  \\\n",
       "Neighbourhood                                                                 \n",
       "Berczy Park                                                              55   \n",
       "Brockton, Parkdale Village, Exhibition Place                             23   \n",
       "Business reply mail Processing Centre, South Ce...                       16   \n",
       "CN Tower, King and Spadina, Railway Lands, Harb...                       16   \n",
       "Central Bay Street                                                       68   \n",
       "Christie                                                                 16   \n",
       "Church and Wellesley                                                     75   \n",
       "Commerce Court, Victoria Hotel                                          100   \n",
       "Davisville                                                               33   \n",
       "Davisville North                                                          9   \n",
       "Dufferin, Dovercourt Village                                             13   \n",
       "First Canadian Place, Underground city                                  100   \n",
       "Forest Hill North & West, Forest Hill Road Park                           4   \n",
       "Garden District, Ryerson                                                100   \n",
       "Harbourfront East, Union Station, Toronto Islands                       100   \n",
       "High Park, The Junction South                                            25   \n",
       "India Bazaar, The Beaches West                                           19   \n",
       "Kensington Market, Chinatown, Grange Park                                74   \n",
       "Lawrence Park                                                             3   \n",
       "Little Portugal, Trinity                                                 45   \n",
       "Moore Park, Summerhill East                                               2   \n",
       "North Toronto West, Lawrence Park                                        18   \n",
       "Parkdale, Roncesvalles                                                   14   \n",
       "Queen's Park, Ontario Provincial Government                              33   \n",
       "Regent Park, Harbourfront                                                44   \n",
       "Richmond, Adelaide, King                                                100   \n",
       "Rosedale                                                                  4   \n",
       "Roselawn                                                                  2   \n",
       "Runnymede, Swansea                                                       33   \n",
       "St. James Town                                                           85   \n",
       "St. James Town, Cabbagetown                                              48   \n",
       "Stn A PO Boxes                                                           96   \n",
       "Studio District                                                          37   \n",
       "Summerhill West, Rathnelly, South Hill, Forest ...                       14   \n",
       "The Annex, North Midtown, Yorkville                                      19   \n",
       "The Beaches                                                               4   \n",
       "The Danforth West, Riverdale                                             43   \n",
       "Toronto Dominion Centre, Design Exchange                                100   \n",
       "University of Toronto, Harbord                                           34   \n",
       "\n",
       "                                                    Venue  Venue Latitude  \\\n",
       "Neighbourhood                                                               \n",
       "Berczy Park                                            55              55   \n",
       "Brockton, Parkdale Village, Exhibition Place           23              23   \n",
       "Business reply mail Processing Centre, South Ce...     16              16   \n",
       "CN Tower, King and Spadina, Railway Lands, Harb...     16              16   \n",
       "Central Bay Street                                     68              68   \n",
       "Christie                                               16              16   \n",
       "Church and Wellesley                                   75              75   \n",
       "Commerce Court, Victoria Hotel                        100             100   \n",
       "Davisville                                             33              33   \n",
       "Davisville North                                        9               9   \n",
       "Dufferin, Dovercourt Village                           13              13   \n",
       "First Canadian Place, Underground city                100             100   \n",
       "Forest Hill North & West, Forest Hill Road Park         4               4   \n",
       "Garden District, Ryerson                              100             100   \n",
       "Harbourfront East, Union Station, Toronto Islands     100             100   \n",
       "High Park, The Junction South                          25              25   \n",
       "India Bazaar, The Beaches West                         19              19   \n",
       "Kensington Market, Chinatown, Grange Park              74              74   \n",
       "Lawrence Park                                           3               3   \n",
       "Little Portugal, Trinity                               45              45   \n",
       "Moore Park, Summerhill East                             2               2   \n",
       "North Toronto West, Lawrence Park                      18              18   \n",
       "Parkdale, Roncesvalles                                 14              14   \n",
       "Queen's Park, Ontario Provincial Government            33              33   \n",
       "Regent Park, Harbourfront                              44              44   \n",
       "Richmond, Adelaide, King                              100             100   \n",
       "Rosedale                                                4               4   \n",
       "Roselawn                                                2               2   \n",
       "Runnymede, Swansea                                     33              33   \n",
       "St. James Town                                         85              85   \n",
       "St. James Town, Cabbagetown                            48              48   \n",
       "Stn A PO Boxes                                         96              96   \n",
       "Studio District                                        37              37   \n",
       "Summerhill West, Rathnelly, South Hill, Forest ...     14              14   \n",
       "The Annex, North Midtown, Yorkville                    19              19   \n",
       "The Beaches                                             4               4   \n",
       "The Danforth West, Riverdale                           43              43   \n",
       "Toronto Dominion Centre, Design Exchange              100             100   \n",
       "University of Toronto, Harbord                         34              34   \n",
       "\n",
       "                                                    Venue Longitude  \\\n",
       "Neighbourhood                                                         \n",
       "Berczy Park                                                      55   \n",
       "Brockton, Parkdale Village, Exhibition Place                     23   \n",
       "Business reply mail Processing Centre, South Ce...               16   \n",
       "CN Tower, King and Spadina, Railway Lands, Harb...               16   \n",
       "Central Bay Street                                               68   \n",
       "Christie                                                         16   \n",
       "Church and Wellesley                                             75   \n",
       "Commerce Court, Victoria Hotel                                  100   \n",
       "Davisville                                                       33   \n",
       "Davisville North                                                  9   \n",
       "Dufferin, Dovercourt Village                                     13   \n",
       "First Canadian Place, Underground city                          100   \n",
       "Forest Hill North & West, Forest Hill Road Park                   4   \n",
       "Garden District, Ryerson                                        100   \n",
       "Harbourfront East, Union Station, Toronto Islands               100   \n",
       "High Park, The Junction South                                    25   \n",
       "India Bazaar, The Beaches West                                   19   \n",
       "Kensington Market, Chinatown, Grange Park                        74   \n",
       "Lawrence Park                                                     3   \n",
       "Little Portugal, Trinity                                         45   \n",
       "Moore Park, Summerhill East                                       2   \n",
       "North Toronto West, Lawrence Park                                18   \n",
       "Parkdale, Roncesvalles                                           14   \n",
       "Queen's Park, Ontario Provincial Government                      33   \n",
       "Regent Park, Harbourfront                                        44   \n",
       "Richmond, Adelaide, King                                        100   \n",
       "Rosedale                                                          4   \n",
       "Roselawn                                                          2   \n",
       "Runnymede, Swansea                                               33   \n",
       "St. James Town                                                   85   \n",
       "St. James Town, Cabbagetown                                      48   \n",
       "Stn A PO Boxes                                                   96   \n",
       "Studio District                                                  37   \n",
       "Summerhill West, Rathnelly, South Hill, Forest ...               14   \n",
       "The Annex, North Midtown, Yorkville                              19   \n",
       "The Beaches                                                       4   \n",
       "The Danforth West, Riverdale                                     43   \n",
       "Toronto Dominion Centre, Design Exchange                        100   \n",
       "University of Toronto, Harbord                                   34   \n",
       "\n",
       "                                                    Venue Category  \n",
       "Neighbourhood                                                       \n",
       "Berczy Park                                                     55  \n",
       "Brockton, Parkdale Village, Exhibition Place                    23  \n",
       "Business reply mail Processing Centre, South Ce...              16  \n",
       "CN Tower, King and Spadina, Railway Lands, Harb...              16  \n",
       "Central Bay Street                                              68  \n",
       "Christie                                                        16  \n",
       "Church and Wellesley                                            75  \n",
       "Commerce Court, Victoria Hotel                                 100  \n",
       "Davisville                                                      33  \n",
       "Davisville North                                                 9  \n",
       "Dufferin, Dovercourt Village                                    13  \n",
       "First Canadian Place, Underground city                         100  \n",
       "Forest Hill North & West, Forest Hill Road Park                  4  \n",
       "Garden District, Ryerson                                       100  \n",
       "Harbourfront East, Union Station, Toronto Islands              100  \n",
       "High Park, The Junction South                                   25  \n",
       "India Bazaar, The Beaches West                                  19  \n",
       "Kensington Market, Chinatown, Grange Park                       74  \n",
       "Lawrence Park                                                    3  \n",
       "Little Portugal, Trinity                                        45  \n",
       "Moore Park, Summerhill East                                      2  \n",
       "North Toronto West, Lawrence Park                               18  \n",
       "Parkdale, Roncesvalles                                          14  \n",
       "Queen's Park, Ontario Provincial Government                     33  \n",
       "Regent Park, Harbourfront                                       44  \n",
       "Richmond, Adelaide, King                                       100  \n",
       "Rosedale                                                         4  \n",
       "Roselawn                                                         2  \n",
       "Runnymede, Swansea                                              33  \n",
       "St. James Town                                                  85  \n",
       "St. James Town, Cabbagetown                                     48  \n",
       "Stn A PO Boxes                                                  96  \n",
       "Studio District                                                 37  \n",
       "Summerhill West, Rathnelly, South Hill, Forest ...              14  \n",
       "The Annex, North Midtown, Yorkville                             19  \n",
       "The Beaches                                                      4  \n",
       "The Danforth West, Riverdale                                    43  \n",
       "Toronto Dominion Centre, Design Exchange                       100  \n",
       "University of Toronto, Harbord                                  34  "
      ],
      "text/html": "<div>\n<style scoped>\n    .dataframe tbody tr th:only-of-type {\n        vertical-align: middle;\n    }\n\n    .dataframe tbody tr th {\n        vertical-align: top;\n    }\n\n    .dataframe thead th {\n        text-align: right;\n    }\n</style>\n<table border=\"1\" class=\"dataframe\">\n  <thead>\n    <tr style=\"text-align: right;\">\n      <th></th>\n      <th>Neighbourhood Latitude</th>\n      <th>Neighbourhood Longitude</th>\n      <th>Venue</th>\n      <th>Venue Latitude</th>\n      <th>Venue Longitude</th>\n      <th>Venue Category</th>\n    </tr>\n    <tr>\n      <th>Neighbourhood</th>\n      <th></th>\n      <th></th>\n      <th></th>\n      <th></th>\n      <th></th>\n      <th></th>\n    </tr>\n  </thead>\n  <tbody>\n    <tr>\n      <th>Berczy Park</th>\n      <td>55</td>\n      <td>55</td>\n      <td>55</td>\n      <td>55</td>\n      <td>55</td>\n      <td>55</td>\n    </tr>\n    <tr>\n      <th>Brockton, Parkdale Village, Exhibition Place</th>\n      <td>23</td>\n      <td>23</td>\n      <td>23</td>\n      <td>23</td>\n      <td>23</td>\n      <td>23</td>\n    </tr>\n    <tr>\n      <th>Business reply mail Processing Centre, South Central Letter Processing Plant Toronto</th>\n      <td>16</td>\n      <td>16</td>\n      <td>16</td>\n      <td>16</td>\n      <td>16</td>\n      <td>16</td>\n    </tr>\n    <tr>\n      <th>CN Tower, King and Spadina, Railway Lands, Harbourfront West, Bathurst Quay, South Niagara, Island airport</th>\n      <td>16</td>\n      <td>16</td>\n      <td>16</td>\n      <td>16</td>\n      <td>16</td>\n      <td>16</td>\n    </tr>\n    <tr>\n      <th>Central Bay Street</th>\n      <td>68</td>\n      <td>68</td>\n      <td>68</td>\n      <td>68</td>\n      <td>68</td>\n      <td>68</td>\n    </tr>\n    <tr>\n      <th>Christie</th>\n      <td>16</td>\n      <td>16</td>\n      <td>16</td>\n      <td>16</td>\n      <td>16</td>\n      <td>16</td>\n    </tr>\n    <tr>\n      <th>Church and Wellesley</th>\n      <td>75</td>\n      <td>75</td>\n      <td>75</td>\n      <td>75</td>\n      <td>75</td>\n      <td>75</td>\n    </tr>\n    <tr>\n      <th>Commerce Court, Victoria Hotel</th>\n      <td>100</td>\n      <td>100</td>\n      <td>100</td>\n      <td>100</td>\n      <td>100</td>\n      <td>100</td>\n    </tr>\n    <tr>\n      <th>Davisville</th>\n      <td>33</td>\n      <td>33</td>\n      <td>33</td>\n      <td>33</td>\n      <td>33</td>\n      <td>33</td>\n    </tr>\n    <tr>\n      <th>Davisville North</th>\n      <td>9</td>\n      <td>9</td>\n      <td>9</td>\n      <td>9</td>\n      <td>9</td>\n      <td>9</td>\n    </tr>\n    <tr>\n      <th>Dufferin, Dovercourt Village</th>\n      <td>13</td>\n      <td>13</td>\n      <td>13</td>\n      <td>13</td>\n      <td>13</td>\n      <td>13</td>\n    </tr>\n    <tr>\n      <th>First Canadian Place, Underground city</th>\n      <td>100</td>\n      <td>100</td>\n      <td>100</td>\n      <td>100</td>\n      <td>100</td>\n      <td>100</td>\n    </tr>\n    <tr>\n      <th>Forest Hill North &amp; West, Forest Hill Road Park</th>\n      <td>4</td>\n      <td>4</td>\n      <td>4</td>\n      <td>4</td>\n      <td>4</td>\n      <td>4</td>\n    </tr>\n    <tr>\n      <th>Garden District, Ryerson</th>\n      <td>100</td>\n      <td>100</td>\n      <td>100</td>\n      <td>100</td>\n      <td>100</td>\n      <td>100</td>\n    </tr>\n    <tr>\n      <th>Harbourfront East, Union Station, Toronto Islands</th>\n      <td>100</td>\n      <td>100</td>\n      <td>100</td>\n      <td>100</td>\n      <td>100</td>\n      <td>100</td>\n    </tr>\n    <tr>\n      <th>High Park, The Junction South</th>\n      <td>25</td>\n      <td>25</td>\n      <td>25</td>\n      <td>25</td>\n      <td>25</td>\n      <td>25</td>\n    </tr>\n    <tr>\n      <th>India Bazaar, The Beaches West</th>\n      <td>19</td>\n      <td>19</td>\n      <td>19</td>\n      <td>19</td>\n      <td>19</td>\n      <td>19</td>\n    </tr>\n    <tr>\n      <th>Kensington Market, Chinatown, Grange Park</th>\n      <td>74</td>\n      <td>74</td>\n      <td>74</td>\n      <td>74</td>\n      <td>74</td>\n      <td>74</td>\n    </tr>\n    <tr>\n      <th>Lawrence Park</th>\n      <td>3</td>\n      <td>3</td>\n      <td>3</td>\n      <td>3</td>\n      <td>3</td>\n      <td>3</td>\n    </tr>\n    <tr>\n      <th>Little Portugal, Trinity</th>\n      <td>45</td>\n      <td>45</td>\n      <td>45</td>\n      <td>45</td>\n      <td>45</td>\n      <td>45</td>\n    </tr>\n    <tr>\n      <th>Moore Park, Summerhill East</th>\n      <td>2</td>\n      <td>2</td>\n      <td>2</td>\n      <td>2</td>\n      <td>2</td>\n      <td>2</td>\n    </tr>\n    <tr>\n      <th>North Toronto West, Lawrence Park</th>\n      <td>18</td>\n      <td>18</td>\n      <td>18</td>\n      <td>18</td>\n      <td>18</td>\n      <td>18</td>\n    </tr>\n    <tr>\n      <th>Parkdale, Roncesvalles</th>\n      <td>14</td>\n      <td>14</td>\n      <td>14</td>\n      <td>14</td>\n      <td>14</td>\n      <td>14</td>\n    </tr>\n    <tr>\n      <th>Queen's Park, Ontario Provincial Government</th>\n      <td>33</td>\n      <td>33</td>\n      <td>33</td>\n      <td>33</td>\n      <td>33</td>\n      <td>33</td>\n    </tr>\n    <tr>\n      <th>Regent Park, Harbourfront</th>\n      <td>44</td>\n      <td>44</td>\n      <td>44</td>\n      <td>44</td>\n      <td>44</td>\n      <td>44</td>\n    </tr>\n    <tr>\n      <th>Richmond, Adelaide, King</th>\n      <td>100</td>\n      <td>100</td>\n      <td>100</td>\n      <td>100</td>\n      <td>100</td>\n      <td>100</td>\n    </tr>\n    <tr>\n      <th>Rosedale</th>\n      <td>4</td>\n      <td>4</td>\n      <td>4</td>\n      <td>4</td>\n      <td>4</td>\n      <td>4</td>\n    </tr>\n    <tr>\n      <th>Roselawn</th>\n      <td>2</td>\n      <td>2</td>\n      <td>2</td>\n      <td>2</td>\n      <td>2</td>\n      <td>2</td>\n    </tr>\n    <tr>\n      <th>Runnymede, Swansea</th>\n      <td>33</td>\n      <td>33</td>\n      <td>33</td>\n      <td>33</td>\n      <td>33</td>\n      <td>33</td>\n    </tr>\n    <tr>\n      <th>St. James Town</th>\n      <td>85</td>\n      <td>85</td>\n      <td>85</td>\n      <td>85</td>\n      <td>85</td>\n      <td>85</td>\n    </tr>\n    <tr>\n      <th>St. James Town, Cabbagetown</th>\n      <td>48</td>\n      <td>48</td>\n      <td>48</td>\n      <td>48</td>\n      <td>48</td>\n      <td>48</td>\n    </tr>\n    <tr>\n      <th>Stn A PO Boxes</th>\n      <td>96</td>\n      <td>96</td>\n      <td>96</td>\n      <td>96</td>\n      <td>96</td>\n      <td>96</td>\n    </tr>\n    <tr>\n      <th>Studio District</th>\n      <td>37</td>\n      <td>37</td>\n      <td>37</td>\n      <td>37</td>\n      <td>37</td>\n      <td>37</td>\n    </tr>\n    <tr>\n      <th>Summerhill West, Rathnelly, South Hill, Forest Hill SE, Deer Park</th>\n      <td>14</td>\n      <td>14</td>\n      <td>14</td>\n      <td>14</td>\n      <td>14</td>\n      <td>14</td>\n    </tr>\n    <tr>\n      <th>The Annex, North Midtown, Yorkville</th>\n      <td>19</td>\n      <td>19</td>\n      <td>19</td>\n      <td>19</td>\n      <td>19</td>\n      <td>19</td>\n    </tr>\n    <tr>\n      <th>The Beaches</th>\n      <td>4</td>\n      <td>4</td>\n      <td>4</td>\n      <td>4</td>\n      <td>4</td>\n      <td>4</td>\n    </tr>\n    <tr>\n      <th>The Danforth West, Riverdale</th>\n      <td>43</td>\n      <td>43</td>\n      <td>43</td>\n      <td>43</td>\n      <td>43</td>\n      <td>43</td>\n    </tr>\n    <tr>\n      <th>Toronto Dominion Centre, Design Exchange</th>\n      <td>100</td>\n      <td>100</td>\n      <td>100</td>\n      <td>100</td>\n      <td>100</td>\n      <td>100</td>\n    </tr>\n    <tr>\n      <th>University of Toronto, Harbord</th>\n      <td>34</td>\n      <td>34</td>\n      <td>34</td>\n      <td>34</td>\n      <td>34</td>\n      <td>34</td>\n    </tr>\n  </tbody>\n</table>\n</div>"
     },
     "metadata": {},
     "execution_count": 31
    }
   ],
   "source": [
    "toronto_venues.groupby('Neighbourhood').count()"
   ]
  },
  {
   "source": [
    "### How many unique categories that can be curated?"
   ],
   "cell_type": "markdown",
   "metadata": {}
  },
  {
   "cell_type": "code",
   "execution_count": 32,
   "metadata": {},
   "outputs": [
    {
     "output_type": "stream",
     "name": "stdout",
     "text": [
      "There are 236 uniques categories.\n"
     ]
    }
   ],
   "source": [
    "print('There are {} uniques categories.'.format(len(toronto_venues['Venue Category'].unique())))"
   ]
  },
  {
   "source": [
    "## Analysing Each Neighbourhood"
   ],
   "cell_type": "markdown",
   "metadata": {}
  },
  {
   "cell_type": "code",
   "execution_count": 33,
   "metadata": {},
   "outputs": [
    {
     "output_type": "execute_result",
     "data": {
      "text/plain": [
       "               Neighbourhood  Afghan Restaurant  Airport  Airport Food Court  \\\n",
       "0  Regent Park, Harbourfront                  0        0                   0   \n",
       "1  Regent Park, Harbourfront                  0        0                   0   \n",
       "2  Regent Park, Harbourfront                  0        0                   0   \n",
       "3  Regent Park, Harbourfront                  0        0                   0   \n",
       "4  Regent Park, Harbourfront                  0        0                   0   \n",
       "\n",
       "   Airport Gate  Airport Lounge  Airport Service  Airport Terminal  \\\n",
       "0             0               0                0                 0   \n",
       "1             0               0                0                 0   \n",
       "2             0               0                0                 0   \n",
       "3             0               0                0                 0   \n",
       "4             0               0                0                 0   \n",
       "\n",
       "   American Restaurant  Antique Shop  ...  Theme Restaurant  Toy / Game Store  \\\n",
       "0                    0             0  ...                 0                 0   \n",
       "1                    0             0  ...                 0                 0   \n",
       "2                    0             0  ...                 0                 0   \n",
       "3                    0             0  ...                 0                 0   \n",
       "4                    0             0  ...                 0                 0   \n",
       "\n",
       "   Trail  Train Station  Vegetarian / Vegan Restaurant  Video Game Store  \\\n",
       "0      0              0                              0                 0   \n",
       "1      0              0                              0                 0   \n",
       "2      0              0                              0                 0   \n",
       "3      0              0                              0                 0   \n",
       "4      0              0                              0                 0   \n",
       "\n",
       "   Vietnamese Restaurant  Wine Bar  Women's Store  Yoga Studio  \n",
       "0                      0         0              0            0  \n",
       "1                      0         0              0            0  \n",
       "2                      0         0              0            0  \n",
       "3                      0         0              0            0  \n",
       "4                      0         0              0            0  \n",
       "\n",
       "[5 rows x 237 columns]"
      ],
      "text/html": "<div>\n<style scoped>\n    .dataframe tbody tr th:only-of-type {\n        vertical-align: middle;\n    }\n\n    .dataframe tbody tr th {\n        vertical-align: top;\n    }\n\n    .dataframe thead th {\n        text-align: right;\n    }\n</style>\n<table border=\"1\" class=\"dataframe\">\n  <thead>\n    <tr style=\"text-align: right;\">\n      <th></th>\n      <th>Neighbourhood</th>\n      <th>Afghan Restaurant</th>\n      <th>Airport</th>\n      <th>Airport Food Court</th>\n      <th>Airport Gate</th>\n      <th>Airport Lounge</th>\n      <th>Airport Service</th>\n      <th>Airport Terminal</th>\n      <th>American Restaurant</th>\n      <th>Antique Shop</th>\n      <th>...</th>\n      <th>Theme Restaurant</th>\n      <th>Toy / Game Store</th>\n      <th>Trail</th>\n      <th>Train Station</th>\n      <th>Vegetarian / Vegan Restaurant</th>\n      <th>Video Game Store</th>\n      <th>Vietnamese Restaurant</th>\n      <th>Wine Bar</th>\n      <th>Women's Store</th>\n      <th>Yoga Studio</th>\n    </tr>\n  </thead>\n  <tbody>\n    <tr>\n      <th>0</th>\n      <td>Regent Park, Harbourfront</td>\n      <td>0</td>\n      <td>0</td>\n      <td>0</td>\n      <td>0</td>\n      <td>0</td>\n      <td>0</td>\n      <td>0</td>\n      <td>0</td>\n      <td>0</td>\n      <td>...</td>\n      <td>0</td>\n      <td>0</td>\n      <td>0</td>\n      <td>0</td>\n      <td>0</td>\n      <td>0</td>\n      <td>0</td>\n      <td>0</td>\n      <td>0</td>\n      <td>0</td>\n    </tr>\n    <tr>\n      <th>1</th>\n      <td>Regent Park, Harbourfront</td>\n      <td>0</td>\n      <td>0</td>\n      <td>0</td>\n      <td>0</td>\n      <td>0</td>\n      <td>0</td>\n      <td>0</td>\n      <td>0</td>\n      <td>0</td>\n      <td>...</td>\n      <td>0</td>\n      <td>0</td>\n      <td>0</td>\n      <td>0</td>\n      <td>0</td>\n      <td>0</td>\n      <td>0</td>\n      <td>0</td>\n      <td>0</td>\n      <td>0</td>\n    </tr>\n    <tr>\n      <th>2</th>\n      <td>Regent Park, Harbourfront</td>\n      <td>0</td>\n      <td>0</td>\n      <td>0</td>\n      <td>0</td>\n      <td>0</td>\n      <td>0</td>\n      <td>0</td>\n      <td>0</td>\n      <td>0</td>\n      <td>...</td>\n      <td>0</td>\n      <td>0</td>\n      <td>0</td>\n      <td>0</td>\n      <td>0</td>\n      <td>0</td>\n      <td>0</td>\n      <td>0</td>\n      <td>0</td>\n      <td>0</td>\n    </tr>\n    <tr>\n      <th>3</th>\n      <td>Regent Park, Harbourfront</td>\n      <td>0</td>\n      <td>0</td>\n      <td>0</td>\n      <td>0</td>\n      <td>0</td>\n      <td>0</td>\n      <td>0</td>\n      <td>0</td>\n      <td>0</td>\n      <td>...</td>\n      <td>0</td>\n      <td>0</td>\n      <td>0</td>\n      <td>0</td>\n      <td>0</td>\n      <td>0</td>\n      <td>0</td>\n      <td>0</td>\n      <td>0</td>\n      <td>0</td>\n    </tr>\n    <tr>\n      <th>4</th>\n      <td>Regent Park, Harbourfront</td>\n      <td>0</td>\n      <td>0</td>\n      <td>0</td>\n      <td>0</td>\n      <td>0</td>\n      <td>0</td>\n      <td>0</td>\n      <td>0</td>\n      <td>0</td>\n      <td>...</td>\n      <td>0</td>\n      <td>0</td>\n      <td>0</td>\n      <td>0</td>\n      <td>0</td>\n      <td>0</td>\n      <td>0</td>\n      <td>0</td>\n      <td>0</td>\n      <td>0</td>\n    </tr>\n  </tbody>\n</table>\n<p>5 rows × 237 columns</p>\n</div>"
     },
     "metadata": {},
     "execution_count": 33
    }
   ],
   "source": [
    "# one hot encoding\n",
    "toronto_onehot = pd.get_dummies(toronto_venues[['Venue Category']], prefix = \"\", prefix_sep = \"\")\n",
    "\n",
    "# add neighbourhood column back to dataframe\n",
    "toronto_onehot['Neighbourhood'] = toronto_venues['Neighbourhood'] \n",
    "\n",
    "# move neighbourhood column to the first column\n",
    "fixed_columns = [toronto_onehot.columns[-1]] + list(toronto_onehot.columns[:-1])\n",
    "toronto_onehot = toronto_onehot[fixed_columns]\n",
    "\n",
    "toronto_onehot.head()"
   ]
  },
  {
   "cell_type": "code",
   "execution_count": 34,
   "metadata": {},
   "outputs": [
    {
     "output_type": "execute_result",
     "data": {
      "text/plain": [
       "(1624, 237)"
      ]
     },
     "metadata": {},
     "execution_count": 34
    }
   ],
   "source": [
    "toronto_onehot.shape"
   ]
  },
  {
   "source": [
    "### Group the rows by neighbourhood and by taking the mean of the frequency of occurance of each category."
   ],
   "cell_type": "markdown",
   "metadata": {}
  },
  {
   "cell_type": "code",
   "execution_count": 35,
   "metadata": {},
   "outputs": [
    {
     "output_type": "execute_result",
     "data": {
      "text/plain": [
       "                                        Neighbourhood  Afghan Restaurant  \\\n",
       "0                                         Berczy Park           0.000000   \n",
       "1        Brockton, Parkdale Village, Exhibition Place           0.000000   \n",
       "2   Business reply mail Processing Centre, South C...           0.000000   \n",
       "3   CN Tower, King and Spadina, Railway Lands, Har...           0.000000   \n",
       "4                                  Central Bay Street           0.000000   \n",
       "5                                            Christie           0.000000   \n",
       "6                                Church and Wellesley           0.013333   \n",
       "7                      Commerce Court, Victoria Hotel           0.000000   \n",
       "8                                          Davisville           0.000000   \n",
       "9                                    Davisville North           0.000000   \n",
       "10                       Dufferin, Dovercourt Village           0.000000   \n",
       "11             First Canadian Place, Underground city           0.000000   \n",
       "12    Forest Hill North & West, Forest Hill Road Park           0.000000   \n",
       "13                           Garden District, Ryerson           0.000000   \n",
       "14  Harbourfront East, Union Station, Toronto Islands           0.000000   \n",
       "15                      High Park, The Junction South           0.000000   \n",
       "16                     India Bazaar, The Beaches West           0.000000   \n",
       "17          Kensington Market, Chinatown, Grange Park           0.000000   \n",
       "18                                      Lawrence Park           0.000000   \n",
       "19                           Little Portugal, Trinity           0.000000   \n",
       "20                        Moore Park, Summerhill East           0.000000   \n",
       "21                  North Toronto West, Lawrence Park           0.000000   \n",
       "22                             Parkdale, Roncesvalles           0.000000   \n",
       "23        Queen's Park, Ontario Provincial Government           0.000000   \n",
       "24                          Regent Park, Harbourfront           0.000000   \n",
       "25                           Richmond, Adelaide, King           0.000000   \n",
       "26                                           Rosedale           0.000000   \n",
       "27                                           Roselawn           0.000000   \n",
       "28                                 Runnymede, Swansea           0.000000   \n",
       "29                                     St. James Town           0.000000   \n",
       "30                        St. James Town, Cabbagetown           0.000000   \n",
       "31                                     Stn A PO Boxes           0.000000   \n",
       "32                                    Studio District           0.000000   \n",
       "33  Summerhill West, Rathnelly, South Hill, Forest...           0.000000   \n",
       "34                The Annex, North Midtown, Yorkville           0.000000   \n",
       "35                                        The Beaches           0.000000   \n",
       "36                       The Danforth West, Riverdale           0.000000   \n",
       "37           Toronto Dominion Centre, Design Exchange           0.000000   \n",
       "38                     University of Toronto, Harbord           0.000000   \n",
       "\n",
       "    Airport  Airport Food Court  Airport Gate  Airport Lounge  \\\n",
       "0    0.0000              0.0000        0.0000           0.000   \n",
       "1    0.0000              0.0000        0.0000           0.000   \n",
       "2    0.0000              0.0000        0.0000           0.000   \n",
       "3    0.0625              0.0625        0.0625           0.125   \n",
       "4    0.0000              0.0000        0.0000           0.000   \n",
       "5    0.0000              0.0000        0.0000           0.000   \n",
       "6    0.0000              0.0000        0.0000           0.000   \n",
       "7    0.0000              0.0000        0.0000           0.000   \n",
       "8    0.0000              0.0000        0.0000           0.000   \n",
       "9    0.0000              0.0000        0.0000           0.000   \n",
       "10   0.0000              0.0000        0.0000           0.000   \n",
       "11   0.0000              0.0000        0.0000           0.000   \n",
       "12   0.0000              0.0000        0.0000           0.000   \n",
       "13   0.0000              0.0000        0.0000           0.000   \n",
       "14   0.0000              0.0000        0.0000           0.000   \n",
       "15   0.0000              0.0000        0.0000           0.000   \n",
       "16   0.0000              0.0000        0.0000           0.000   \n",
       "17   0.0000              0.0000        0.0000           0.000   \n",
       "18   0.0000              0.0000        0.0000           0.000   \n",
       "19   0.0000              0.0000        0.0000           0.000   \n",
       "20   0.0000              0.0000        0.0000           0.000   \n",
       "21   0.0000              0.0000        0.0000           0.000   \n",
       "22   0.0000              0.0000        0.0000           0.000   \n",
       "23   0.0000              0.0000        0.0000           0.000   \n",
       "24   0.0000              0.0000        0.0000           0.000   \n",
       "25   0.0000              0.0000        0.0000           0.000   \n",
       "26   0.0000              0.0000        0.0000           0.000   \n",
       "27   0.0000              0.0000        0.0000           0.000   \n",
       "28   0.0000              0.0000        0.0000           0.000   \n",
       "29   0.0000              0.0000        0.0000           0.000   \n",
       "30   0.0000              0.0000        0.0000           0.000   \n",
       "31   0.0000              0.0000        0.0000           0.000   \n",
       "32   0.0000              0.0000        0.0000           0.000   \n",
       "33   0.0000              0.0000        0.0000           0.000   \n",
       "34   0.0000              0.0000        0.0000           0.000   \n",
       "35   0.0000              0.0000        0.0000           0.000   \n",
       "36   0.0000              0.0000        0.0000           0.000   \n",
       "37   0.0000              0.0000        0.0000           0.000   \n",
       "38   0.0000              0.0000        0.0000           0.000   \n",
       "\n",
       "    Airport Service  Airport Terminal  American Restaurant  Antique Shop  ...  \\\n",
       "0             0.000            0.0000             0.000000      0.000000  ...   \n",
       "1             0.000            0.0000             0.000000      0.000000  ...   \n",
       "2             0.000            0.0000             0.000000      0.000000  ...   \n",
       "3             0.125            0.0625             0.000000      0.000000  ...   \n",
       "4             0.000            0.0000             0.000000      0.000000  ...   \n",
       "5             0.000            0.0000             0.000000      0.000000  ...   \n",
       "6             0.000            0.0000             0.013333      0.000000  ...   \n",
       "7             0.000            0.0000             0.040000      0.000000  ...   \n",
       "8             0.000            0.0000             0.000000      0.000000  ...   \n",
       "9             0.000            0.0000             0.000000      0.000000  ...   \n",
       "10            0.000            0.0000             0.000000      0.000000  ...   \n",
       "11            0.000            0.0000             0.030000      0.000000  ...   \n",
       "12            0.000            0.0000             0.000000      0.000000  ...   \n",
       "13            0.000            0.0000             0.000000      0.000000  ...   \n",
       "14            0.000            0.0000             0.000000      0.000000  ...   \n",
       "15            0.000            0.0000             0.000000      0.040000  ...   \n",
       "16            0.000            0.0000             0.000000      0.000000  ...   \n",
       "17            0.000            0.0000             0.000000      0.000000  ...   \n",
       "18            0.000            0.0000             0.000000      0.000000  ...   \n",
       "19            0.000            0.0000             0.000000      0.000000  ...   \n",
       "20            0.000            0.0000             0.000000      0.000000  ...   \n",
       "21            0.000            0.0000             0.000000      0.000000  ...   \n",
       "22            0.000            0.0000             0.000000      0.000000  ...   \n",
       "23            0.000            0.0000             0.000000      0.000000  ...   \n",
       "24            0.000            0.0000             0.000000      0.022727  ...   \n",
       "25            0.000            0.0000             0.020000      0.000000  ...   \n",
       "26            0.000            0.0000             0.000000      0.000000  ...   \n",
       "27            0.000            0.0000             0.000000      0.000000  ...   \n",
       "28            0.000            0.0000             0.000000      0.000000  ...   \n",
       "29            0.000            0.0000             0.035294      0.000000  ...   \n",
       "30            0.000            0.0000             0.000000      0.000000  ...   \n",
       "31            0.000            0.0000             0.010417      0.010417  ...   \n",
       "32            0.000            0.0000             0.054054      0.000000  ...   \n",
       "33            0.000            0.0000             0.071429      0.000000  ...   \n",
       "34            0.000            0.0000             0.000000      0.000000  ...   \n",
       "35            0.000            0.0000             0.000000      0.000000  ...   \n",
       "36            0.000            0.0000             0.023256      0.000000  ...   \n",
       "37            0.000            0.0000             0.030000      0.000000  ...   \n",
       "38            0.000            0.0000             0.000000      0.000000  ...   \n",
       "\n",
       "    Theme Restaurant  Toy / Game Store     Trail  Train Station  \\\n",
       "0           0.000000          0.000000  0.000000           0.00   \n",
       "1           0.000000          0.000000  0.000000           0.00   \n",
       "2           0.000000          0.000000  0.000000           0.00   \n",
       "3           0.000000          0.000000  0.000000           0.00   \n",
       "4           0.000000          0.000000  0.000000           0.00   \n",
       "5           0.000000          0.000000  0.000000           0.00   \n",
       "6           0.013333          0.000000  0.000000           0.00   \n",
       "7           0.000000          0.000000  0.000000           0.00   \n",
       "8           0.000000          0.030303  0.000000           0.00   \n",
       "9           0.000000          0.000000  0.000000           0.00   \n",
       "10          0.000000          0.000000  0.000000           0.00   \n",
       "11          0.000000          0.000000  0.000000           0.01   \n",
       "12          0.000000          0.000000  0.250000           0.00   \n",
       "13          0.000000          0.010000  0.000000           0.00   \n",
       "14          0.000000          0.000000  0.000000           0.01   \n",
       "15          0.000000          0.000000  0.000000           0.00   \n",
       "16          0.000000          0.000000  0.000000           0.00   \n",
       "17          0.000000          0.000000  0.000000           0.00   \n",
       "18          0.000000          0.000000  0.000000           0.00   \n",
       "19          0.000000          0.000000  0.000000           0.00   \n",
       "20          0.000000          0.000000  0.500000           0.00   \n",
       "21          0.000000          0.000000  0.000000           0.00   \n",
       "22          0.000000          0.000000  0.000000           0.00   \n",
       "23          0.000000          0.000000  0.000000           0.00   \n",
       "24          0.000000          0.000000  0.000000           0.00   \n",
       "25          0.000000          0.010000  0.000000           0.00   \n",
       "26          0.000000          0.000000  0.250000           0.00   \n",
       "27          0.000000          0.000000  0.000000           0.00   \n",
       "28          0.000000          0.000000  0.000000           0.00   \n",
       "29          0.000000          0.000000  0.000000           0.00   \n",
       "30          0.000000          0.000000  0.000000           0.00   \n",
       "31          0.000000          0.000000  0.000000           0.00   \n",
       "32          0.000000          0.000000  0.000000           0.00   \n",
       "33          0.000000          0.000000  0.000000           0.00   \n",
       "34          0.000000          0.000000  0.000000           0.00   \n",
       "35          0.000000          0.000000  0.250000           0.00   \n",
       "36          0.000000          0.000000  0.023256           0.00   \n",
       "37          0.000000          0.000000  0.000000           0.01   \n",
       "38          0.000000          0.000000  0.000000           0.00   \n",
       "\n",
       "    Vegetarian / Vegan Restaurant  Video Game Store  Vietnamese Restaurant  \\\n",
       "0                        0.018182          0.000000               0.000000   \n",
       "1                        0.000000          0.000000               0.000000   \n",
       "2                        0.000000          0.000000               0.000000   \n",
       "3                        0.000000          0.000000               0.000000   \n",
       "4                        0.014706          0.000000               0.000000   \n",
       "5                        0.000000          0.000000               0.000000   \n",
       "6                        0.000000          0.000000               0.013333   \n",
       "7                        0.020000          0.000000               0.000000   \n",
       "8                        0.000000          0.000000               0.000000   \n",
       "9                        0.000000          0.000000               0.000000   \n",
       "10                       0.000000          0.000000               0.000000   \n",
       "11                       0.010000          0.000000               0.000000   \n",
       "12                       0.000000          0.000000               0.000000   \n",
       "13                       0.000000          0.010000               0.010000   \n",
       "14                       0.010000          0.000000               0.000000   \n",
       "15                       0.000000          0.000000               0.000000   \n",
       "16                       0.000000          0.000000               0.000000   \n",
       "17                       0.054054          0.000000               0.040541   \n",
       "18                       0.000000          0.000000               0.000000   \n",
       "19                       0.022222          0.000000               0.044444   \n",
       "20                       0.000000          0.000000               0.000000   \n",
       "21                       0.000000          0.000000               0.000000   \n",
       "22                       0.000000          0.000000               0.000000   \n",
       "23                       0.000000          0.000000               0.000000   \n",
       "24                       0.000000          0.000000               0.000000   \n",
       "25                       0.010000          0.000000               0.000000   \n",
       "26                       0.000000          0.000000               0.000000   \n",
       "27                       0.000000          0.000000               0.000000   \n",
       "28                       0.030303          0.000000               0.000000   \n",
       "29                       0.011765          0.000000               0.000000   \n",
       "30                       0.000000          0.000000               0.000000   \n",
       "31                       0.010417          0.000000               0.000000   \n",
       "32                       0.000000          0.000000               0.000000   \n",
       "33                       0.000000          0.000000               0.071429   \n",
       "34                       0.000000          0.000000               0.000000   \n",
       "35                       0.000000          0.000000               0.000000   \n",
       "36                       0.000000          0.000000               0.000000   \n",
       "37                       0.010000          0.000000               0.000000   \n",
       "38                       0.000000          0.029412               0.000000   \n",
       "\n",
       "    Wine Bar  Women's Store  Yoga Studio  \n",
       "0   0.000000           0.00     0.000000  \n",
       "1   0.000000           0.00     0.000000  \n",
       "2   0.000000           0.00     0.000000  \n",
       "3   0.000000           0.00     0.000000  \n",
       "4   0.014706           0.00     0.014706  \n",
       "5   0.000000           0.00     0.000000  \n",
       "6   0.000000           0.00     0.026667  \n",
       "7   0.010000           0.00     0.000000  \n",
       "8   0.000000           0.00     0.000000  \n",
       "9   0.000000           0.00     0.000000  \n",
       "10  0.000000           0.00     0.000000  \n",
       "11  0.010000           0.00     0.000000  \n",
       "12  0.000000           0.00     0.000000  \n",
       "13  0.010000           0.00     0.000000  \n",
       "14  0.010000           0.00     0.000000  \n",
       "15  0.000000           0.00     0.000000  \n",
       "16  0.000000           0.00     0.000000  \n",
       "17  0.013514           0.00     0.000000  \n",
       "18  0.000000           0.00     0.000000  \n",
       "19  0.022222           0.00     0.022222  \n",
       "20  0.000000           0.00     0.000000  \n",
       "21  0.000000           0.00     0.055556  \n",
       "22  0.000000           0.00     0.000000  \n",
       "23  0.000000           0.00     0.030303  \n",
       "24  0.000000           0.00     0.022727  \n",
       "25  0.000000           0.01     0.000000  \n",
       "26  0.000000           0.00     0.000000  \n",
       "27  0.000000           0.00     0.000000  \n",
       "28  0.000000           0.00     0.030303  \n",
       "29  0.011765           0.00     0.000000  \n",
       "30  0.000000           0.00     0.000000  \n",
       "31  0.000000           0.00     0.010417  \n",
       "32  0.027027           0.00     0.027027  \n",
       "33  0.000000           0.00     0.000000  \n",
       "34  0.000000           0.00     0.000000  \n",
       "35  0.000000           0.00     0.000000  \n",
       "36  0.000000           0.00     0.023256  \n",
       "37  0.010000           0.00     0.000000  \n",
       "38  0.000000           0.00     0.029412  \n",
       "\n",
       "[39 rows x 237 columns]"
      ],
      "text/html": "<div>\n<style scoped>\n    .dataframe tbody tr th:only-of-type {\n        vertical-align: middle;\n    }\n\n    .dataframe tbody tr th {\n        vertical-align: top;\n    }\n\n    .dataframe thead th {\n        text-align: right;\n    }\n</style>\n<table border=\"1\" class=\"dataframe\">\n  <thead>\n    <tr style=\"text-align: right;\">\n      <th></th>\n      <th>Neighbourhood</th>\n      <th>Afghan Restaurant</th>\n      <th>Airport</th>\n      <th>Airport Food Court</th>\n      <th>Airport Gate</th>\n      <th>Airport Lounge</th>\n      <th>Airport Service</th>\n      <th>Airport Terminal</th>\n      <th>American Restaurant</th>\n      <th>Antique Shop</th>\n      <th>...</th>\n      <th>Theme Restaurant</th>\n      <th>Toy / Game Store</th>\n      <th>Trail</th>\n      <th>Train Station</th>\n      <th>Vegetarian / Vegan Restaurant</th>\n      <th>Video Game Store</th>\n      <th>Vietnamese Restaurant</th>\n      <th>Wine Bar</th>\n      <th>Women's Store</th>\n      <th>Yoga Studio</th>\n    </tr>\n  </thead>\n  <tbody>\n    <tr>\n      <th>0</th>\n      <td>Berczy Park</td>\n      <td>0.000000</td>\n      <td>0.0000</td>\n      <td>0.0000</td>\n      <td>0.0000</td>\n      <td>0.000</td>\n      <td>0.000</td>\n      <td>0.0000</td>\n      <td>0.000000</td>\n      <td>0.000000</td>\n      <td>...</td>\n      <td>0.000000</td>\n      <td>0.000000</td>\n      <td>0.000000</td>\n      <td>0.00</td>\n      <td>0.018182</td>\n      <td>0.000000</td>\n      <td>0.000000</td>\n      <td>0.000000</td>\n      <td>0.00</td>\n      <td>0.000000</td>\n    </tr>\n    <tr>\n      <th>1</th>\n      <td>Brockton, Parkdale Village, Exhibition Place</td>\n      <td>0.000000</td>\n      <td>0.0000</td>\n      <td>0.0000</td>\n      <td>0.0000</td>\n      <td>0.000</td>\n      <td>0.000</td>\n      <td>0.0000</td>\n      <td>0.000000</td>\n      <td>0.000000</td>\n      <td>...</td>\n      <td>0.000000</td>\n      <td>0.000000</td>\n      <td>0.000000</td>\n      <td>0.00</td>\n      <td>0.000000</td>\n      <td>0.000000</td>\n      <td>0.000000</td>\n      <td>0.000000</td>\n      <td>0.00</td>\n      <td>0.000000</td>\n    </tr>\n    <tr>\n      <th>2</th>\n      <td>Business reply mail Processing Centre, South C...</td>\n      <td>0.000000</td>\n      <td>0.0000</td>\n      <td>0.0000</td>\n      <td>0.0000</td>\n      <td>0.000</td>\n      <td>0.000</td>\n      <td>0.0000</td>\n      <td>0.000000</td>\n      <td>0.000000</td>\n      <td>...</td>\n      <td>0.000000</td>\n      <td>0.000000</td>\n      <td>0.000000</td>\n      <td>0.00</td>\n      <td>0.000000</td>\n      <td>0.000000</td>\n      <td>0.000000</td>\n      <td>0.000000</td>\n      <td>0.00</td>\n      <td>0.000000</td>\n    </tr>\n    <tr>\n      <th>3</th>\n      <td>CN Tower, King and Spadina, Railway Lands, Har...</td>\n      <td>0.000000</td>\n      <td>0.0625</td>\n      <td>0.0625</td>\n      <td>0.0625</td>\n      <td>0.125</td>\n      <td>0.125</td>\n      <td>0.0625</td>\n      <td>0.000000</td>\n      <td>0.000000</td>\n      <td>...</td>\n      <td>0.000000</td>\n      <td>0.000000</td>\n      <td>0.000000</td>\n      <td>0.00</td>\n      <td>0.000000</td>\n      <td>0.000000</td>\n      <td>0.000000</td>\n      <td>0.000000</td>\n      <td>0.00</td>\n      <td>0.000000</td>\n    </tr>\n    <tr>\n      <th>4</th>\n      <td>Central Bay Street</td>\n      <td>0.000000</td>\n      <td>0.0000</td>\n      <td>0.0000</td>\n      <td>0.0000</td>\n      <td>0.000</td>\n      <td>0.000</td>\n      <td>0.0000</td>\n      <td>0.000000</td>\n      <td>0.000000</td>\n      <td>...</td>\n      <td>0.000000</td>\n      <td>0.000000</td>\n      <td>0.000000</td>\n      <td>0.00</td>\n      <td>0.014706</td>\n      <td>0.000000</td>\n      <td>0.000000</td>\n      <td>0.014706</td>\n      <td>0.00</td>\n      <td>0.014706</td>\n    </tr>\n    <tr>\n      <th>5</th>\n      <td>Christie</td>\n      <td>0.000000</td>\n      <td>0.0000</td>\n      <td>0.0000</td>\n      <td>0.0000</td>\n      <td>0.000</td>\n      <td>0.000</td>\n      <td>0.0000</td>\n      <td>0.000000</td>\n      <td>0.000000</td>\n      <td>...</td>\n      <td>0.000000</td>\n      <td>0.000000</td>\n      <td>0.000000</td>\n      <td>0.00</td>\n      <td>0.000000</td>\n      <td>0.000000</td>\n      <td>0.000000</td>\n      <td>0.000000</td>\n      <td>0.00</td>\n      <td>0.000000</td>\n    </tr>\n    <tr>\n      <th>6</th>\n      <td>Church and Wellesley</td>\n      <td>0.013333</td>\n      <td>0.0000</td>\n      <td>0.0000</td>\n      <td>0.0000</td>\n      <td>0.000</td>\n      <td>0.000</td>\n      <td>0.0000</td>\n      <td>0.013333</td>\n      <td>0.000000</td>\n      <td>...</td>\n      <td>0.013333</td>\n      <td>0.000000</td>\n      <td>0.000000</td>\n      <td>0.00</td>\n      <td>0.000000</td>\n      <td>0.000000</td>\n      <td>0.013333</td>\n      <td>0.000000</td>\n      <td>0.00</td>\n      <td>0.026667</td>\n    </tr>\n    <tr>\n      <th>7</th>\n      <td>Commerce Court, Victoria Hotel</td>\n      <td>0.000000</td>\n      <td>0.0000</td>\n      <td>0.0000</td>\n      <td>0.0000</td>\n      <td>0.000</td>\n      <td>0.000</td>\n      <td>0.0000</td>\n      <td>0.040000</td>\n      <td>0.000000</td>\n      <td>...</td>\n      <td>0.000000</td>\n      <td>0.000000</td>\n      <td>0.000000</td>\n      <td>0.00</td>\n      <td>0.020000</td>\n      <td>0.000000</td>\n      <td>0.000000</td>\n      <td>0.010000</td>\n      <td>0.00</td>\n      <td>0.000000</td>\n    </tr>\n    <tr>\n      <th>8</th>\n      <td>Davisville</td>\n      <td>0.000000</td>\n      <td>0.0000</td>\n      <td>0.0000</td>\n      <td>0.0000</td>\n      <td>0.000</td>\n      <td>0.000</td>\n      <td>0.0000</td>\n      <td>0.000000</td>\n      <td>0.000000</td>\n      <td>...</td>\n      <td>0.000000</td>\n      <td>0.030303</td>\n      <td>0.000000</td>\n      <td>0.00</td>\n      <td>0.000000</td>\n      <td>0.000000</td>\n      <td>0.000000</td>\n      <td>0.000000</td>\n      <td>0.00</td>\n      <td>0.000000</td>\n    </tr>\n    <tr>\n      <th>9</th>\n      <td>Davisville North</td>\n      <td>0.000000</td>\n      <td>0.0000</td>\n      <td>0.0000</td>\n      <td>0.0000</td>\n      <td>0.000</td>\n      <td>0.000</td>\n      <td>0.0000</td>\n      <td>0.000000</td>\n      <td>0.000000</td>\n      <td>...</td>\n      <td>0.000000</td>\n      <td>0.000000</td>\n      <td>0.000000</td>\n      <td>0.00</td>\n      <td>0.000000</td>\n      <td>0.000000</td>\n      <td>0.000000</td>\n      <td>0.000000</td>\n      <td>0.00</td>\n      <td>0.000000</td>\n    </tr>\n    <tr>\n      <th>10</th>\n      <td>Dufferin, Dovercourt Village</td>\n      <td>0.000000</td>\n      <td>0.0000</td>\n      <td>0.0000</td>\n      <td>0.0000</td>\n      <td>0.000</td>\n      <td>0.000</td>\n      <td>0.0000</td>\n      <td>0.000000</td>\n      <td>0.000000</td>\n      <td>...</td>\n      <td>0.000000</td>\n      <td>0.000000</td>\n      <td>0.000000</td>\n      <td>0.00</td>\n      <td>0.000000</td>\n      <td>0.000000</td>\n      <td>0.000000</td>\n      <td>0.000000</td>\n      <td>0.00</td>\n      <td>0.000000</td>\n    </tr>\n    <tr>\n      <th>11</th>\n      <td>First Canadian Place, Underground city</td>\n      <td>0.000000</td>\n      <td>0.0000</td>\n      <td>0.0000</td>\n      <td>0.0000</td>\n      <td>0.000</td>\n      <td>0.000</td>\n      <td>0.0000</td>\n      <td>0.030000</td>\n      <td>0.000000</td>\n      <td>...</td>\n      <td>0.000000</td>\n      <td>0.000000</td>\n      <td>0.000000</td>\n      <td>0.01</td>\n      <td>0.010000</td>\n      <td>0.000000</td>\n      <td>0.000000</td>\n      <td>0.010000</td>\n      <td>0.00</td>\n      <td>0.000000</td>\n    </tr>\n    <tr>\n      <th>12</th>\n      <td>Forest Hill North &amp; West, Forest Hill Road Park</td>\n      <td>0.000000</td>\n      <td>0.0000</td>\n      <td>0.0000</td>\n      <td>0.0000</td>\n      <td>0.000</td>\n      <td>0.000</td>\n      <td>0.0000</td>\n      <td>0.000000</td>\n      <td>0.000000</td>\n      <td>...</td>\n      <td>0.000000</td>\n      <td>0.000000</td>\n      <td>0.250000</td>\n      <td>0.00</td>\n      <td>0.000000</td>\n      <td>0.000000</td>\n      <td>0.000000</td>\n      <td>0.000000</td>\n      <td>0.00</td>\n      <td>0.000000</td>\n    </tr>\n    <tr>\n      <th>13</th>\n      <td>Garden District, Ryerson</td>\n      <td>0.000000</td>\n      <td>0.0000</td>\n      <td>0.0000</td>\n      <td>0.0000</td>\n      <td>0.000</td>\n      <td>0.000</td>\n      <td>0.0000</td>\n      <td>0.000000</td>\n      <td>0.000000</td>\n      <td>...</td>\n      <td>0.000000</td>\n      <td>0.010000</td>\n      <td>0.000000</td>\n      <td>0.00</td>\n      <td>0.000000</td>\n      <td>0.010000</td>\n      <td>0.010000</td>\n      <td>0.010000</td>\n      <td>0.00</td>\n      <td>0.000000</td>\n    </tr>\n    <tr>\n      <th>14</th>\n      <td>Harbourfront East, Union Station, Toronto Islands</td>\n      <td>0.000000</td>\n      <td>0.0000</td>\n      <td>0.0000</td>\n      <td>0.0000</td>\n      <td>0.000</td>\n      <td>0.000</td>\n      <td>0.0000</td>\n      <td>0.000000</td>\n      <td>0.000000</td>\n      <td>...</td>\n      <td>0.000000</td>\n      <td>0.000000</td>\n      <td>0.000000</td>\n      <td>0.01</td>\n      <td>0.010000</td>\n      <td>0.000000</td>\n      <td>0.000000</td>\n      <td>0.010000</td>\n      <td>0.00</td>\n      <td>0.000000</td>\n    </tr>\n    <tr>\n      <th>15</th>\n      <td>High Park, The Junction South</td>\n      <td>0.000000</td>\n      <td>0.0000</td>\n      <td>0.0000</td>\n      <td>0.0000</td>\n      <td>0.000</td>\n      <td>0.000</td>\n      <td>0.0000</td>\n      <td>0.000000</td>\n      <td>0.040000</td>\n      <td>...</td>\n      <td>0.000000</td>\n      <td>0.000000</td>\n      <td>0.000000</td>\n      <td>0.00</td>\n      <td>0.000000</td>\n      <td>0.000000</td>\n      <td>0.000000</td>\n      <td>0.000000</td>\n      <td>0.00</td>\n      <td>0.000000</td>\n    </tr>\n    <tr>\n      <th>16</th>\n      <td>India Bazaar, The Beaches West</td>\n      <td>0.000000</td>\n      <td>0.0000</td>\n      <td>0.0000</td>\n      <td>0.0000</td>\n      <td>0.000</td>\n      <td>0.000</td>\n      <td>0.0000</td>\n      <td>0.000000</td>\n      <td>0.000000</td>\n      <td>...</td>\n      <td>0.000000</td>\n      <td>0.000000</td>\n      <td>0.000000</td>\n      <td>0.00</td>\n      <td>0.000000</td>\n      <td>0.000000</td>\n      <td>0.000000</td>\n      <td>0.000000</td>\n      <td>0.00</td>\n      <td>0.000000</td>\n    </tr>\n    <tr>\n      <th>17</th>\n      <td>Kensington Market, Chinatown, Grange Park</td>\n      <td>0.000000</td>\n      <td>0.0000</td>\n      <td>0.0000</td>\n      <td>0.0000</td>\n      <td>0.000</td>\n      <td>0.000</td>\n      <td>0.0000</td>\n      <td>0.000000</td>\n      <td>0.000000</td>\n      <td>...</td>\n      <td>0.000000</td>\n      <td>0.000000</td>\n      <td>0.000000</td>\n      <td>0.00</td>\n      <td>0.054054</td>\n      <td>0.000000</td>\n      <td>0.040541</td>\n      <td>0.013514</td>\n      <td>0.00</td>\n      <td>0.000000</td>\n    </tr>\n    <tr>\n      <th>18</th>\n      <td>Lawrence Park</td>\n      <td>0.000000</td>\n      <td>0.0000</td>\n      <td>0.0000</td>\n      <td>0.0000</td>\n      <td>0.000</td>\n      <td>0.000</td>\n      <td>0.0000</td>\n      <td>0.000000</td>\n      <td>0.000000</td>\n      <td>...</td>\n      <td>0.000000</td>\n      <td>0.000000</td>\n      <td>0.000000</td>\n      <td>0.00</td>\n      <td>0.000000</td>\n      <td>0.000000</td>\n      <td>0.000000</td>\n      <td>0.000000</td>\n      <td>0.00</td>\n      <td>0.000000</td>\n    </tr>\n    <tr>\n      <th>19</th>\n      <td>Little Portugal, Trinity</td>\n      <td>0.000000</td>\n      <td>0.0000</td>\n      <td>0.0000</td>\n      <td>0.0000</td>\n      <td>0.000</td>\n      <td>0.000</td>\n      <td>0.0000</td>\n      <td>0.000000</td>\n      <td>0.000000</td>\n      <td>...</td>\n      <td>0.000000</td>\n      <td>0.000000</td>\n      <td>0.000000</td>\n      <td>0.00</td>\n      <td>0.022222</td>\n      <td>0.000000</td>\n      <td>0.044444</td>\n      <td>0.022222</td>\n      <td>0.00</td>\n      <td>0.022222</td>\n    </tr>\n    <tr>\n      <th>20</th>\n      <td>Moore Park, Summerhill East</td>\n      <td>0.000000</td>\n      <td>0.0000</td>\n      <td>0.0000</td>\n      <td>0.0000</td>\n      <td>0.000</td>\n      <td>0.000</td>\n      <td>0.0000</td>\n      <td>0.000000</td>\n      <td>0.000000</td>\n      <td>...</td>\n      <td>0.000000</td>\n      <td>0.000000</td>\n      <td>0.500000</td>\n      <td>0.00</td>\n      <td>0.000000</td>\n      <td>0.000000</td>\n      <td>0.000000</td>\n      <td>0.000000</td>\n      <td>0.00</td>\n      <td>0.000000</td>\n    </tr>\n    <tr>\n      <th>21</th>\n      <td>North Toronto West, Lawrence Park</td>\n      <td>0.000000</td>\n      <td>0.0000</td>\n      <td>0.0000</td>\n      <td>0.0000</td>\n      <td>0.000</td>\n      <td>0.000</td>\n      <td>0.0000</td>\n      <td>0.000000</td>\n      <td>0.000000</td>\n      <td>...</td>\n      <td>0.000000</td>\n      <td>0.000000</td>\n      <td>0.000000</td>\n      <td>0.00</td>\n      <td>0.000000</td>\n      <td>0.000000</td>\n      <td>0.000000</td>\n      <td>0.000000</td>\n      <td>0.00</td>\n      <td>0.055556</td>\n    </tr>\n    <tr>\n      <th>22</th>\n      <td>Parkdale, Roncesvalles</td>\n      <td>0.000000</td>\n      <td>0.0000</td>\n      <td>0.0000</td>\n      <td>0.0000</td>\n      <td>0.000</td>\n      <td>0.000</td>\n      <td>0.0000</td>\n      <td>0.000000</td>\n      <td>0.000000</td>\n      <td>...</td>\n      <td>0.000000</td>\n      <td>0.000000</td>\n      <td>0.000000</td>\n      <td>0.00</td>\n      <td>0.000000</td>\n      <td>0.000000</td>\n      <td>0.000000</td>\n      <td>0.000000</td>\n      <td>0.00</td>\n      <td>0.000000</td>\n    </tr>\n    <tr>\n      <th>23</th>\n      <td>Queen's Park, Ontario Provincial Government</td>\n      <td>0.000000</td>\n      <td>0.0000</td>\n      <td>0.0000</td>\n      <td>0.0000</td>\n      <td>0.000</td>\n      <td>0.000</td>\n      <td>0.0000</td>\n      <td>0.000000</td>\n      <td>0.000000</td>\n      <td>...</td>\n      <td>0.000000</td>\n      <td>0.000000</td>\n      <td>0.000000</td>\n      <td>0.00</td>\n      <td>0.000000</td>\n      <td>0.000000</td>\n      <td>0.000000</td>\n      <td>0.000000</td>\n      <td>0.00</td>\n      <td>0.030303</td>\n    </tr>\n    <tr>\n      <th>24</th>\n      <td>Regent Park, Harbourfront</td>\n      <td>0.000000</td>\n      <td>0.0000</td>\n      <td>0.0000</td>\n      <td>0.0000</td>\n      <td>0.000</td>\n      <td>0.000</td>\n      <td>0.0000</td>\n      <td>0.000000</td>\n      <td>0.022727</td>\n      <td>...</td>\n      <td>0.000000</td>\n      <td>0.000000</td>\n      <td>0.000000</td>\n      <td>0.00</td>\n      <td>0.000000</td>\n      <td>0.000000</td>\n      <td>0.000000</td>\n      <td>0.000000</td>\n      <td>0.00</td>\n      <td>0.022727</td>\n    </tr>\n    <tr>\n      <th>25</th>\n      <td>Richmond, Adelaide, King</td>\n      <td>0.000000</td>\n      <td>0.0000</td>\n      <td>0.0000</td>\n      <td>0.0000</td>\n      <td>0.000</td>\n      <td>0.000</td>\n      <td>0.0000</td>\n      <td>0.020000</td>\n      <td>0.000000</td>\n      <td>...</td>\n      <td>0.000000</td>\n      <td>0.010000</td>\n      <td>0.000000</td>\n      <td>0.00</td>\n      <td>0.010000</td>\n      <td>0.000000</td>\n      <td>0.000000</td>\n      <td>0.000000</td>\n      <td>0.01</td>\n      <td>0.000000</td>\n    </tr>\n    <tr>\n      <th>26</th>\n      <td>Rosedale</td>\n      <td>0.000000</td>\n      <td>0.0000</td>\n      <td>0.0000</td>\n      <td>0.0000</td>\n      <td>0.000</td>\n      <td>0.000</td>\n      <td>0.0000</td>\n      <td>0.000000</td>\n      <td>0.000000</td>\n      <td>...</td>\n      <td>0.000000</td>\n      <td>0.000000</td>\n      <td>0.250000</td>\n      <td>0.00</td>\n      <td>0.000000</td>\n      <td>0.000000</td>\n      <td>0.000000</td>\n      <td>0.000000</td>\n      <td>0.00</td>\n      <td>0.000000</td>\n    </tr>\n    <tr>\n      <th>27</th>\n      <td>Roselawn</td>\n      <td>0.000000</td>\n      <td>0.0000</td>\n      <td>0.0000</td>\n      <td>0.0000</td>\n      <td>0.000</td>\n      <td>0.000</td>\n      <td>0.0000</td>\n      <td>0.000000</td>\n      <td>0.000000</td>\n      <td>...</td>\n      <td>0.000000</td>\n      <td>0.000000</td>\n      <td>0.000000</td>\n      <td>0.00</td>\n      <td>0.000000</td>\n      <td>0.000000</td>\n      <td>0.000000</td>\n      <td>0.000000</td>\n      <td>0.00</td>\n      <td>0.000000</td>\n    </tr>\n    <tr>\n      <th>28</th>\n      <td>Runnymede, Swansea</td>\n      <td>0.000000</td>\n      <td>0.0000</td>\n      <td>0.0000</td>\n      <td>0.0000</td>\n      <td>0.000</td>\n      <td>0.000</td>\n      <td>0.0000</td>\n      <td>0.000000</td>\n      <td>0.000000</td>\n      <td>...</td>\n      <td>0.000000</td>\n      <td>0.000000</td>\n      <td>0.000000</td>\n      <td>0.00</td>\n      <td>0.030303</td>\n      <td>0.000000</td>\n      <td>0.000000</td>\n      <td>0.000000</td>\n      <td>0.00</td>\n      <td>0.030303</td>\n    </tr>\n    <tr>\n      <th>29</th>\n      <td>St. James Town</td>\n      <td>0.000000</td>\n      <td>0.0000</td>\n      <td>0.0000</td>\n      <td>0.0000</td>\n      <td>0.000</td>\n      <td>0.000</td>\n      <td>0.0000</td>\n      <td>0.035294</td>\n      <td>0.000000</td>\n      <td>...</td>\n      <td>0.000000</td>\n      <td>0.000000</td>\n      <td>0.000000</td>\n      <td>0.00</td>\n      <td>0.011765</td>\n      <td>0.000000</td>\n      <td>0.000000</td>\n      <td>0.011765</td>\n      <td>0.00</td>\n      <td>0.000000</td>\n    </tr>\n    <tr>\n      <th>30</th>\n      <td>St. James Town, Cabbagetown</td>\n      <td>0.000000</td>\n      <td>0.0000</td>\n      <td>0.0000</td>\n      <td>0.0000</td>\n      <td>0.000</td>\n      <td>0.000</td>\n      <td>0.0000</td>\n      <td>0.000000</td>\n      <td>0.000000</td>\n      <td>...</td>\n      <td>0.000000</td>\n      <td>0.000000</td>\n      <td>0.000000</td>\n      <td>0.00</td>\n      <td>0.000000</td>\n      <td>0.000000</td>\n      <td>0.000000</td>\n      <td>0.000000</td>\n      <td>0.00</td>\n      <td>0.000000</td>\n    </tr>\n    <tr>\n      <th>31</th>\n      <td>Stn A PO Boxes</td>\n      <td>0.000000</td>\n      <td>0.0000</td>\n      <td>0.0000</td>\n      <td>0.0000</td>\n      <td>0.000</td>\n      <td>0.000</td>\n      <td>0.0000</td>\n      <td>0.010417</td>\n      <td>0.010417</td>\n      <td>...</td>\n      <td>0.000000</td>\n      <td>0.000000</td>\n      <td>0.000000</td>\n      <td>0.00</td>\n      <td>0.010417</td>\n      <td>0.000000</td>\n      <td>0.000000</td>\n      <td>0.000000</td>\n      <td>0.00</td>\n      <td>0.010417</td>\n    </tr>\n    <tr>\n      <th>32</th>\n      <td>Studio District</td>\n      <td>0.000000</td>\n      <td>0.0000</td>\n      <td>0.0000</td>\n      <td>0.0000</td>\n      <td>0.000</td>\n      <td>0.000</td>\n      <td>0.0000</td>\n      <td>0.054054</td>\n      <td>0.000000</td>\n      <td>...</td>\n      <td>0.000000</td>\n      <td>0.000000</td>\n      <td>0.000000</td>\n      <td>0.00</td>\n      <td>0.000000</td>\n      <td>0.000000</td>\n      <td>0.000000</td>\n      <td>0.027027</td>\n      <td>0.00</td>\n      <td>0.027027</td>\n    </tr>\n    <tr>\n      <th>33</th>\n      <td>Summerhill West, Rathnelly, South Hill, Forest...</td>\n      <td>0.000000</td>\n      <td>0.0000</td>\n      <td>0.0000</td>\n      <td>0.0000</td>\n      <td>0.000</td>\n      <td>0.000</td>\n      <td>0.0000</td>\n      <td>0.071429</td>\n      <td>0.000000</td>\n      <td>...</td>\n      <td>0.000000</td>\n      <td>0.000000</td>\n      <td>0.000000</td>\n      <td>0.00</td>\n      <td>0.000000</td>\n      <td>0.000000</td>\n      <td>0.071429</td>\n      <td>0.000000</td>\n      <td>0.00</td>\n      <td>0.000000</td>\n    </tr>\n    <tr>\n      <th>34</th>\n      <td>The Annex, North Midtown, Yorkville</td>\n      <td>0.000000</td>\n      <td>0.0000</td>\n      <td>0.0000</td>\n      <td>0.0000</td>\n      <td>0.000</td>\n      <td>0.000</td>\n      <td>0.0000</td>\n      <td>0.000000</td>\n      <td>0.000000</td>\n      <td>...</td>\n      <td>0.000000</td>\n      <td>0.000000</td>\n      <td>0.000000</td>\n      <td>0.00</td>\n      <td>0.000000</td>\n      <td>0.000000</td>\n      <td>0.000000</td>\n      <td>0.000000</td>\n      <td>0.00</td>\n      <td>0.000000</td>\n    </tr>\n    <tr>\n      <th>35</th>\n      <td>The Beaches</td>\n      <td>0.000000</td>\n      <td>0.0000</td>\n      <td>0.0000</td>\n      <td>0.0000</td>\n      <td>0.000</td>\n      <td>0.000</td>\n      <td>0.0000</td>\n      <td>0.000000</td>\n      <td>0.000000</td>\n      <td>...</td>\n      <td>0.000000</td>\n      <td>0.000000</td>\n      <td>0.250000</td>\n      <td>0.00</td>\n      <td>0.000000</td>\n      <td>0.000000</td>\n      <td>0.000000</td>\n      <td>0.000000</td>\n      <td>0.00</td>\n      <td>0.000000</td>\n    </tr>\n    <tr>\n      <th>36</th>\n      <td>The Danforth West, Riverdale</td>\n      <td>0.000000</td>\n      <td>0.0000</td>\n      <td>0.0000</td>\n      <td>0.0000</td>\n      <td>0.000</td>\n      <td>0.000</td>\n      <td>0.0000</td>\n      <td>0.023256</td>\n      <td>0.000000</td>\n      <td>...</td>\n      <td>0.000000</td>\n      <td>0.000000</td>\n      <td>0.023256</td>\n      <td>0.00</td>\n      <td>0.000000</td>\n      <td>0.000000</td>\n      <td>0.000000</td>\n      <td>0.000000</td>\n      <td>0.00</td>\n      <td>0.023256</td>\n    </tr>\n    <tr>\n      <th>37</th>\n      <td>Toronto Dominion Centre, Design Exchange</td>\n      <td>0.000000</td>\n      <td>0.0000</td>\n      <td>0.0000</td>\n      <td>0.0000</td>\n      <td>0.000</td>\n      <td>0.000</td>\n      <td>0.0000</td>\n      <td>0.030000</td>\n      <td>0.000000</td>\n      <td>...</td>\n      <td>0.000000</td>\n      <td>0.000000</td>\n      <td>0.000000</td>\n      <td>0.01</td>\n      <td>0.010000</td>\n      <td>0.000000</td>\n      <td>0.000000</td>\n      <td>0.010000</td>\n      <td>0.00</td>\n      <td>0.000000</td>\n    </tr>\n    <tr>\n      <th>38</th>\n      <td>University of Toronto, Harbord</td>\n      <td>0.000000</td>\n      <td>0.0000</td>\n      <td>0.0000</td>\n      <td>0.0000</td>\n      <td>0.000</td>\n      <td>0.000</td>\n      <td>0.0000</td>\n      <td>0.000000</td>\n      <td>0.000000</td>\n      <td>...</td>\n      <td>0.000000</td>\n      <td>0.000000</td>\n      <td>0.000000</td>\n      <td>0.00</td>\n      <td>0.000000</td>\n      <td>0.029412</td>\n      <td>0.000000</td>\n      <td>0.000000</td>\n      <td>0.00</td>\n      <td>0.029412</td>\n    </tr>\n  </tbody>\n</table>\n<p>39 rows × 237 columns</p>\n</div>"
     },
     "metadata": {},
     "execution_count": 35
    }
   ],
   "source": [
    "toronto_grouped = toronto_onehot.groupby('Neighbourhood').mean().reset_index()\n",
    "toronto_grouped"
   ]
  },
  {
   "cell_type": "code",
   "execution_count": 36,
   "metadata": {},
   "outputs": [
    {
     "output_type": "execute_result",
     "data": {
      "text/plain": [
       "(39, 237)"
      ]
     },
     "metadata": {},
     "execution_count": 36
    }
   ],
   "source": [
    "toronto_grouped.shape"
   ]
  },
  {
   "source": [
    "### What are the top 5 most common venues of each neighbourhood?"
   ],
   "cell_type": "markdown",
   "metadata": {}
  },
  {
   "cell_type": "code",
   "execution_count": 37,
   "metadata": {},
   "outputs": [
    {
     "output_type": "stream",
     "name": "stdout",
     "text": [
      "----Berczy Park----\n",
      "                venue  freq\n",
      "0         Coffee Shop  0.09\n",
      "1         Cheese Shop  0.04\n",
      "2      Farmers Market  0.04\n",
      "3              Bakery  0.04\n",
      "4  Seafood Restaurant  0.04\n",
      "\n",
      "\n",
      "----Brockton, Parkdale Village, Exhibition Place----\n",
      "                   venue  freq\n",
      "0                   Café  0.13\n",
      "1         Breakfast Spot  0.09\n",
      "2            Coffee Shop  0.09\n",
      "3              Nightclub  0.09\n",
      "4  Performing Arts Venue  0.04\n",
      "\n",
      "\n",
      "----Business reply mail Processing Centre, South Central Letter Processing Plant Toronto----\n",
      "                  venue  freq\n",
      "0  Gym / Fitness Center  0.06\n",
      "1         Auto Workshop  0.06\n",
      "2         Garden Center  0.06\n",
      "3                Garden  0.06\n",
      "4    Light Rail Station  0.06\n",
      "\n",
      "\n",
      "----CN Tower, King and Spadina, Railway Lands, Harbourfront West, Bathurst Quay, South Niagara, Island airport----\n",
      "                 venue  freq\n",
      "0       Airport Lounge  0.12\n",
      "1      Airport Service  0.12\n",
      "2  Rental Car Location  0.06\n",
      "3      Harbor / Marina  0.06\n",
      "4             Boutique  0.06\n",
      "\n",
      "\n",
      "----Central Bay Street----\n",
      "                venue  freq\n",
      "0         Coffee Shop  0.18\n",
      "1                Café  0.06\n",
      "2      Sandwich Place  0.04\n",
      "3  Italian Restaurant  0.04\n",
      "4     Thai Restaurant  0.03\n",
      "\n",
      "\n",
      "----Christie----\n",
      "           venue  freq\n",
      "0  Grocery Store  0.25\n",
      "1           Café  0.19\n",
      "2           Park  0.12\n",
      "3     Restaurant  0.06\n",
      "4      Nightclub  0.06\n",
      "\n",
      "\n",
      "----Church and Wellesley----\n",
      "                 venue  freq\n",
      "0          Coffee Shop  0.09\n",
      "1  Japanese Restaurant  0.05\n",
      "2     Sushi Restaurant  0.05\n",
      "3              Gay Bar  0.05\n",
      "4           Restaurant  0.04\n",
      "\n",
      "\n",
      "----Commerce Court, Victoria Hotel----\n",
      "         venue  freq\n",
      "0  Coffee Shop  0.12\n",
      "1   Restaurant  0.07\n",
      "2        Hotel  0.06\n",
      "3         Café  0.06\n",
      "4          Gym  0.04\n",
      "\n",
      "\n",
      "----Davisville----\n",
      "            venue  freq\n",
      "0  Sandwich Place  0.09\n",
      "1     Pizza Place  0.09\n",
      "2    Dessert Shop  0.09\n",
      "3            Café  0.06\n",
      "4             Gym  0.06\n",
      "\n",
      "\n",
      "----Davisville North----\n",
      "                  venue  freq\n",
      "0  Gym / Fitness Center  0.11\n",
      "1     Food & Drink Shop  0.11\n",
      "2          Dance Studio  0.11\n",
      "3      Department Store  0.11\n",
      "4               Dog Run  0.11\n",
      "\n",
      "\n",
      "----Dufferin, Dovercourt Village----\n",
      "         venue  freq\n",
      "0     Pharmacy  0.15\n",
      "1       Bakery  0.15\n",
      "2      Brewery  0.08\n",
      "3          Bar  0.08\n",
      "4  Supermarket  0.08\n",
      "\n",
      "\n",
      "----First Canadian Place, Underground city----\n",
      "                 venue  freq\n",
      "0          Coffee Shop  0.10\n",
      "1                 Café  0.07\n",
      "2           Restaurant  0.04\n",
      "3  Japanese Restaurant  0.04\n",
      "4                  Gym  0.04\n",
      "\n",
      "\n",
      "----Forest Hill North & West, Forest Hill Road Park----\n",
      "                 venue  freq\n",
      "0                 Park  0.25\n",
      "1        Jewelry Store  0.25\n",
      "2                Trail  0.25\n",
      "3     Sushi Restaurant  0.25\n",
      "4  Monument / Landmark  0.00\n",
      "\n",
      "\n",
      "----Garden District, Ryerson----\n",
      "                 venue  freq\n",
      "0       Clothing Store  0.09\n",
      "1          Coffee Shop  0.09\n",
      "2                 Café  0.04\n",
      "3       Cosmetics Shop  0.03\n",
      "4  Japanese Restaurant  0.03\n",
      "\n",
      "\n",
      "----Harbourfront East, Union Station, Toronto Islands----\n",
      "                 venue  freq\n",
      "0          Coffee Shop  0.13\n",
      "1             Aquarium  0.05\n",
      "2                Hotel  0.04\n",
      "3                 Café  0.04\n",
      "4  Fried Chicken Joint  0.03\n",
      "\n",
      "\n",
      "----High Park, The Junction South----\n",
      "                 venue  freq\n",
      "0   Mexican Restaurant  0.08\n",
      "1                 Café  0.08\n",
      "2      Thai Restaurant  0.08\n",
      "3                  Bar  0.08\n",
      "4  Fried Chicken Joint  0.04\n",
      "\n",
      "\n",
      "----India Bazaar, The Beaches West----\n",
      "                venue  freq\n",
      "0                Park  0.11\n",
      "1  Italian Restaurant  0.05\n",
      "2           Pet Store  0.05\n",
      "3         Coffee Shop  0.05\n",
      "4                 Pub  0.05\n",
      "\n",
      "\n",
      "----Kensington Market, Chinatown, Grange Park----\n",
      "                           venue  freq\n",
      "0             Mexican Restaurant  0.05\n",
      "1                            Bar  0.05\n",
      "2                    Coffee Shop  0.05\n",
      "3  Vegetarian / Vegan Restaurant  0.05\n",
      "4                           Café  0.05\n",
      "\n",
      "\n",
      "----Lawrence Park----\n",
      "                 venue  freq\n",
      "0                 Park  0.33\n",
      "1             Bus Line  0.33\n",
      "2          Swim School  0.33\n",
      "3    Afghan Restaurant  0.00\n",
      "4  Monument / Landmark  0.00\n",
      "\n",
      "\n",
      "----Little Portugal, Trinity----\n",
      "                   venue  freq\n",
      "0                    Bar  0.09\n",
      "1            Coffee Shop  0.07\n",
      "2             Restaurant  0.04\n",
      "3       Asian Restaurant  0.04\n",
      "4  Vietnamese Restaurant  0.04\n",
      "\n",
      "\n",
      "----Moore Park, Summerhill East----\n",
      "                 venue  freq\n",
      "0           Playground   0.5\n",
      "1                Trail   0.5\n",
      "2    Afghan Restaurant   0.0\n",
      "3  Moroccan Restaurant   0.0\n",
      "4     Malay Restaurant   0.0\n",
      "\n",
      "\n",
      "----North Toronto West, Lawrence Park----\n",
      "            venue  freq\n",
      "0  Clothing Store  0.11\n",
      "1     Coffee Shop  0.11\n",
      "2     Yoga Studio  0.06\n",
      "3           Diner  0.06\n",
      "4      Restaurant  0.06\n",
      "\n",
      "\n",
      "----Parkdale, Roncesvalles----\n",
      "                         venue  freq\n",
      "0               Breakfast Spot  0.14\n",
      "1                    Gift Shop  0.14\n",
      "2  Eastern European Restaurant  0.07\n",
      "3                          Bar  0.07\n",
      "4                Movie Theater  0.07\n",
      "\n",
      "\n",
      "----Queen's Park, Ontario Provincial Government----\n",
      "                   venue  freq\n",
      "0            Coffee Shop  0.24\n",
      "1            Yoga Studio  0.03\n",
      "2  Portuguese Restaurant  0.03\n",
      "3          Smoothie Shop  0.03\n",
      "4                   Café  0.03\n",
      "\n",
      "\n",
      "----Regent Park, Harbourfront----\n",
      "            venue  freq\n",
      "0     Coffee Shop  0.18\n",
      "1             Pub  0.07\n",
      "2          Bakery  0.07\n",
      "3            Park  0.07\n",
      "4  Breakfast Spot  0.05\n",
      "\n",
      "\n",
      "----Richmond, Adelaide, King----\n",
      "         venue  freq\n",
      "0  Coffee Shop  0.08\n",
      "1         Café  0.05\n",
      "2        Hotel  0.04\n",
      "3          Gym  0.04\n",
      "4   Restaurant  0.04\n",
      "\n",
      "\n",
      "----Rosedale----\n",
      "                 venue  freq\n",
      "0                 Park  0.50\n",
      "1           Playground  0.25\n",
      "2                Trail  0.25\n",
      "3  Moroccan Restaurant  0.00\n",
      "4     Malay Restaurant  0.00\n",
      "\n",
      "\n",
      "----Roselawn----\n",
      "                 venue  freq\n",
      "0          Music Venue   0.5\n",
      "1               Garden   0.5\n",
      "2    Afghan Restaurant   0.0\n",
      "3  Moroccan Restaurant   0.0\n",
      "4     Malay Restaurant   0.0\n",
      "\n",
      "\n",
      "----Runnymede, Swansea----\n",
      "                venue  freq\n",
      "0         Coffee Shop  0.09\n",
      "1                Café  0.09\n",
      "2    Sushi Restaurant  0.06\n",
      "3         Pizza Place  0.06\n",
      "4  Italian Restaurant  0.06\n",
      "\n",
      "\n",
      "----St. James Town----\n",
      "          venue  freq\n",
      "0   Coffee Shop  0.07\n",
      "1          Café  0.06\n",
      "2  Cocktail Bar  0.05\n",
      "3    Restaurant  0.05\n",
      "4     Gastropub  0.04\n",
      "\n",
      "\n",
      "----St. James Town, Cabbagetown----\n",
      "                venue  freq\n",
      "0         Coffee Shop  0.08\n",
      "1         Pizza Place  0.06\n",
      "2          Restaurant  0.06\n",
      "3                Café  0.06\n",
      "4  Chinese Restaurant  0.04\n",
      "\n",
      "\n",
      "----Stn A PO Boxes----\n",
      "                venue  freq\n",
      "0         Coffee Shop  0.10\n",
      "1  Italian Restaurant  0.04\n",
      "2                 Pub  0.03\n",
      "3                Café  0.03\n",
      "4  Seafood Restaurant  0.03\n",
      "\n",
      "\n",
      "----Studio District----\n",
      "                 venue  freq\n",
      "0          Coffee Shop  0.08\n",
      "1              Brewery  0.05\n",
      "2                 Café  0.05\n",
      "3  American Restaurant  0.05\n",
      "4               Bakery  0.05\n",
      "\n",
      "\n",
      "----Summerhill West, Rathnelly, South Hill, Forest Hill SE, Deer Park----\n",
      "                 venue  freq\n",
      "0          Coffee Shop  0.14\n",
      "1   Light Rail Station  0.07\n",
      "2         Liquor Store  0.07\n",
      "3  Fried Chicken Joint  0.07\n",
      "4           Restaurant  0.07\n",
      "\n",
      "\n",
      "----The Annex, North Midtown, Yorkville----\n",
      "            venue  freq\n",
      "0            Café  0.16\n",
      "1  Sandwich Place  0.16\n",
      "2     Coffee Shop  0.11\n",
      "3            Park  0.05\n",
      "4  History Museum  0.05\n",
      "\n",
      "\n",
      "----The Beaches----\n",
      "               venue  freq\n",
      "0              Trail  0.25\n",
      "1  Health Food Store  0.25\n",
      "2       Neighborhood  0.25\n",
      "3                Pub  0.25\n",
      "4        Men's Store  0.00\n",
      "\n",
      "\n",
      "----The Danforth West, Riverdale----\n",
      "                    venue  freq\n",
      "0        Greek Restaurant  0.16\n",
      "1             Coffee Shop  0.09\n",
      "2      Italian Restaurant  0.07\n",
      "3  Furniture / Home Store  0.05\n",
      "4          Ice Cream Shop  0.05\n",
      "\n",
      "\n",
      "----Toronto Dominion Centre, Design Exchange----\n",
      "         venue  freq\n",
      "0  Coffee Shop  0.14\n",
      "1        Hotel  0.08\n",
      "2         Café  0.05\n",
      "3   Restaurant  0.05\n",
      "4  Salad Place  0.03\n",
      "\n",
      "\n",
      "----University of Toronto, Harbord----\n",
      "                 venue  freq\n",
      "0                 Café  0.15\n",
      "1            Bookstore  0.09\n",
      "2                  Bar  0.06\n",
      "3  Japanese Restaurant  0.06\n",
      "4       Sandwich Place  0.06\n",
      "\n",
      "\n"
     ]
    }
   ],
   "source": [
    "num_top_venues = 5\n",
    "\n",
    "for hood in toronto_grouped['Neighbourhood']:\n",
    "    print(\"----\" + hood + \"----\")\n",
    "    temp = toronto_grouped[toronto_grouped['Neighbourhood'] == hood].T.reset_index()\n",
    "    temp.columns = ['venue', 'freq']\n",
    "    temp = temp.iloc[1:]\n",
    "    temp['freq'] = temp['freq'].astype(float)\n",
    "    temp = temp.round({'freq': 2})\n",
    "    print(temp.sort_values('freq', ascending = False).reset_index(drop = True).head(num_top_venues))\n",
    "    print('\\n')"
   ]
  },
  {
   "source": [
    "### Define a function to sort the venues in descending order."
   ],
   "cell_type": "markdown",
   "metadata": {}
  },
  {
   "cell_type": "code",
   "execution_count": 38,
   "metadata": {},
   "outputs": [],
   "source": [
    "def most_common_venues(row, num_top_venues):\n",
    "    row_categories = row.iloc[1:]\n",
    "    row_categories_sorted = row_categories.sort_values(ascending = False)\n",
    "    \n",
    "    return row_categories_sorted.index.values[0:num_top_venues]"
   ]
  },
  {
   "source": [
    "### Create a dataframe and Display the top 10 venues for each neighbourhood."
   ],
   "cell_type": "markdown",
   "metadata": {}
  },
  {
   "cell_type": "code",
   "execution_count": 39,
   "metadata": {},
   "outputs": [
    {
     "output_type": "execute_result",
     "data": {
      "text/plain": [
       "                                       Neighbourhood 1st Most Common Venue  \\\n",
       "0                                        Berczy Park           Coffee Shop   \n",
       "1       Brockton, Parkdale Village, Exhibition Place                  Café   \n",
       "2  Business reply mail Processing Centre, South C...                  Park   \n",
       "3  CN Tower, King and Spadina, Railway Lands, Har...        Airport Lounge   \n",
       "4                                 Central Bay Street           Coffee Shop   \n",
       "\n",
       "  2nd Most Common Venue 3rd Most Common Venue 4th Most Common Venue  \\\n",
       "0    Seafood Restaurant          Cocktail Bar        Farmers Market   \n",
       "1        Breakfast Spot             Nightclub           Coffee Shop   \n",
       "2           Pizza Place    Light Rail Station            Skate Park   \n",
       "3       Airport Service              Boutique       Harbor / Marina   \n",
       "4                  Café    Italian Restaurant        Sandwich Place   \n",
       "\n",
       "  5th Most Common Venue 6th Most Common Venue 7th Most Common Venue  \\\n",
       "0              Beer Bar            Restaurant           Cheese Shop   \n",
       "1          Climbing Gym         Burrito Place            Restaurant   \n",
       "2         Burrito Place        Farmers Market  Fast Food Restaurant   \n",
       "3         Boat or Ferry   Rental Car Location                   Bar   \n",
       "4           Salad Place       Bubble Tea Shop      Department Store   \n",
       "\n",
       "  8th Most Common Venue 9th Most Common Venue 10th Most Common Venue  \n",
       "0                Bakery        Sandwich Place       Department Store  \n",
       "1    Italian Restaurant          Intersection                    Bar  \n",
       "2               Butcher            Restaurant       Recording Studio  \n",
       "3                 Plane           Coffee Shop       Sculpture Garden  \n",
       "4          Burger Joint   Japanese Restaurant        Thai Restaurant  "
      ],
      "text/html": "<div>\n<style scoped>\n    .dataframe tbody tr th:only-of-type {\n        vertical-align: middle;\n    }\n\n    .dataframe tbody tr th {\n        vertical-align: top;\n    }\n\n    .dataframe thead th {\n        text-align: right;\n    }\n</style>\n<table border=\"1\" class=\"dataframe\">\n  <thead>\n    <tr style=\"text-align: right;\">\n      <th></th>\n      <th>Neighbourhood</th>\n      <th>1st Most Common Venue</th>\n      <th>2nd Most Common Venue</th>\n      <th>3rd Most Common Venue</th>\n      <th>4th Most Common Venue</th>\n      <th>5th Most Common Venue</th>\n      <th>6th Most Common Venue</th>\n      <th>7th Most Common Venue</th>\n      <th>8th Most Common Venue</th>\n      <th>9th Most Common Venue</th>\n      <th>10th Most Common Venue</th>\n    </tr>\n  </thead>\n  <tbody>\n    <tr>\n      <th>0</th>\n      <td>Berczy Park</td>\n      <td>Coffee Shop</td>\n      <td>Seafood Restaurant</td>\n      <td>Cocktail Bar</td>\n      <td>Farmers Market</td>\n      <td>Beer Bar</td>\n      <td>Restaurant</td>\n      <td>Cheese Shop</td>\n      <td>Bakery</td>\n      <td>Sandwich Place</td>\n      <td>Department Store</td>\n    </tr>\n    <tr>\n      <th>1</th>\n      <td>Brockton, Parkdale Village, Exhibition Place</td>\n      <td>Café</td>\n      <td>Breakfast Spot</td>\n      <td>Nightclub</td>\n      <td>Coffee Shop</td>\n      <td>Climbing Gym</td>\n      <td>Burrito Place</td>\n      <td>Restaurant</td>\n      <td>Italian Restaurant</td>\n      <td>Intersection</td>\n      <td>Bar</td>\n    </tr>\n    <tr>\n      <th>2</th>\n      <td>Business reply mail Processing Centre, South C...</td>\n      <td>Park</td>\n      <td>Pizza Place</td>\n      <td>Light Rail Station</td>\n      <td>Skate Park</td>\n      <td>Burrito Place</td>\n      <td>Farmers Market</td>\n      <td>Fast Food Restaurant</td>\n      <td>Butcher</td>\n      <td>Restaurant</td>\n      <td>Recording Studio</td>\n    </tr>\n    <tr>\n      <th>3</th>\n      <td>CN Tower, King and Spadina, Railway Lands, Har...</td>\n      <td>Airport Lounge</td>\n      <td>Airport Service</td>\n      <td>Boutique</td>\n      <td>Harbor / Marina</td>\n      <td>Boat or Ferry</td>\n      <td>Rental Car Location</td>\n      <td>Bar</td>\n      <td>Plane</td>\n      <td>Coffee Shop</td>\n      <td>Sculpture Garden</td>\n    </tr>\n    <tr>\n      <th>4</th>\n      <td>Central Bay Street</td>\n      <td>Coffee Shop</td>\n      <td>Café</td>\n      <td>Italian Restaurant</td>\n      <td>Sandwich Place</td>\n      <td>Salad Place</td>\n      <td>Bubble Tea Shop</td>\n      <td>Department Store</td>\n      <td>Burger Joint</td>\n      <td>Japanese Restaurant</td>\n      <td>Thai Restaurant</td>\n    </tr>\n  </tbody>\n</table>\n</div>"
     },
     "metadata": {},
     "execution_count": 39
    }
   ],
   "source": [
    "num_top_venues = 10\n",
    "\n",
    "indicators = ['st', 'nd', 'rd']\n",
    "\n",
    "# create columns according to number of top venues\n",
    "columns = ['Neighbourhood']\n",
    "for ind in np.arange(num_top_venues):\n",
    "    try:\n",
    "        columns.append('{}{} Most Common Venue'.format(ind + 1, indicators[ind]))\n",
    "    except:\n",
    "        columns.append('{}th Most Common Venue'.format(ind + 1))\n",
    "\n",
    "# create a new dataframe\n",
    "nbh_venues_sorted = pd.DataFrame(columns = columns)\n",
    "nbh_venues_sorted['Neighbourhood'] = toronto_grouped['Neighbourhood']\n",
    "\n",
    "for ind in np.arange(toronto_grouped.shape[0]):\n",
    "    nbh_venues_sorted.iloc[ind, 1:] = most_common_venues(toronto_grouped.iloc[ind, :], num_top_venues)\n",
    "\n",
    "nbh_venues_sorted.head()"
   ]
  },
  {
   "source": [
    "## Cluster Neighbourhoods\n",
    "### Run K-Means to cluster the neighbourhoods into 5 clusters."
   ],
   "cell_type": "markdown",
   "metadata": {}
  },
  {
   "cell_type": "code",
   "execution_count": 40,
   "metadata": {},
   "outputs": [
    {
     "output_type": "execute_result",
     "data": {
      "text/plain": [
       "array([2, 2, 2, 2, 2, 2, 2, 2, 2, 2])"
      ]
     },
     "metadata": {},
     "execution_count": 40
    }
   ],
   "source": [
    "# set number of clusters\n",
    "kclusters = 5\n",
    "\n",
    "toronto_grouped_clustering = toronto_grouped.drop('Neighbourhood', 1)\n",
    "\n",
    "# run k-means clustering\n",
    "kmeans = KMeans(n_clusters = kclusters, random_state = 0).fit(toronto_grouped_clustering)\n",
    "\n",
    "# check cluster labels generated for each row in the dataframe\n",
    "kmeans.labels_[0:10] "
   ]
  },
  {
   "source": [
    "### Create a dataframe to store the cluster as well as the top 10 venues of each neighbourhood."
   ],
   "cell_type": "markdown",
   "metadata": {}
  },
  {
   "cell_type": "code",
   "execution_count": 41,
   "metadata": {},
   "outputs": [
    {
     "output_type": "execute_result",
     "data": {
      "text/plain": [
       "            Borough                                Neighbourhood   Latitude  \\\n",
       "0  Downtown Toronto                    Regent Park, Harbourfront  43.654260   \n",
       "1  Downtown Toronto  Queen's Park, Ontario Provincial Government  43.662301   \n",
       "2  Downtown Toronto                     Garden District, Ryerson  43.657162   \n",
       "3  Downtown Toronto                               St. James Town  43.651494   \n",
       "4      East Toronto                                  The Beaches  43.676357   \n",
       "\n",
       "   Longitude  Cluster Labels 1st Most Common Venue 2nd Most Common Venue  \\\n",
       "0 -79.360636               2           Coffee Shop                  Park   \n",
       "1 -79.389494               2           Coffee Shop           Yoga Studio   \n",
       "2 -79.378937               2        Clothing Store           Coffee Shop   \n",
       "3 -79.375418               2           Coffee Shop                  Café   \n",
       "4 -79.293031               3          Neighborhood                   Pub   \n",
       "\n",
       "  3rd Most Common Venue 4th Most Common Venue  5th Most Common Venue  \\\n",
       "0                   Pub                Bakery                Theater   \n",
       "1                 Diner            Restaurant  Portuguese Restaurant   \n",
       "2                  Café       Bubble Tea Shop    Japanese Restaurant   \n",
       "3          Cocktail Bar            Restaurant               Beer Bar   \n",
       "4     Health Food Store                 Trail            Yoga Studio   \n",
       "\n",
       "  6th Most Common Venue 7th Most Common Venue 8th Most Common Venue  \\\n",
       "0        Breakfast Spot                  Café     Electronics Store   \n",
       "1                  Park           Music Venue    Mexican Restaurant   \n",
       "2        Cosmetics Shop                 Hotel             Bookstore   \n",
       "3             Gastropub   American Restaurant        Farmers Market   \n",
       "4    Dim Sum Restaurant                 Diner        Discount Store   \n",
       "\n",
       "  9th Most Common Venue     10th Most Common Venue  \n",
       "0                   Spa                 Beer Store  \n",
       "1    Italian Restaurant                 Hobby Shop  \n",
       "2           Pizza Place  Middle Eastern Restaurant  \n",
       "3                 Hotel        Japanese Restaurant  \n",
       "4   Distribution Center           Doner Restaurant  "
      ],
      "text/html": "<div>\n<style scoped>\n    .dataframe tbody tr th:only-of-type {\n        vertical-align: middle;\n    }\n\n    .dataframe tbody tr th {\n        vertical-align: top;\n    }\n\n    .dataframe thead th {\n        text-align: right;\n    }\n</style>\n<table border=\"1\" class=\"dataframe\">\n  <thead>\n    <tr style=\"text-align: right;\">\n      <th></th>\n      <th>Borough</th>\n      <th>Neighbourhood</th>\n      <th>Latitude</th>\n      <th>Longitude</th>\n      <th>Cluster Labels</th>\n      <th>1st Most Common Venue</th>\n      <th>2nd Most Common Venue</th>\n      <th>3rd Most Common Venue</th>\n      <th>4th Most Common Venue</th>\n      <th>5th Most Common Venue</th>\n      <th>6th Most Common Venue</th>\n      <th>7th Most Common Venue</th>\n      <th>8th Most Common Venue</th>\n      <th>9th Most Common Venue</th>\n      <th>10th Most Common Venue</th>\n    </tr>\n  </thead>\n  <tbody>\n    <tr>\n      <th>0</th>\n      <td>Downtown Toronto</td>\n      <td>Regent Park, Harbourfront</td>\n      <td>43.654260</td>\n      <td>-79.360636</td>\n      <td>2</td>\n      <td>Coffee Shop</td>\n      <td>Park</td>\n      <td>Pub</td>\n      <td>Bakery</td>\n      <td>Theater</td>\n      <td>Breakfast Spot</td>\n      <td>Café</td>\n      <td>Electronics Store</td>\n      <td>Spa</td>\n      <td>Beer Store</td>\n    </tr>\n    <tr>\n      <th>1</th>\n      <td>Downtown Toronto</td>\n      <td>Queen's Park, Ontario Provincial Government</td>\n      <td>43.662301</td>\n      <td>-79.389494</td>\n      <td>2</td>\n      <td>Coffee Shop</td>\n      <td>Yoga Studio</td>\n      <td>Diner</td>\n      <td>Restaurant</td>\n      <td>Portuguese Restaurant</td>\n      <td>Park</td>\n      <td>Music Venue</td>\n      <td>Mexican Restaurant</td>\n      <td>Italian Restaurant</td>\n      <td>Hobby Shop</td>\n    </tr>\n    <tr>\n      <th>2</th>\n      <td>Downtown Toronto</td>\n      <td>Garden District, Ryerson</td>\n      <td>43.657162</td>\n      <td>-79.378937</td>\n      <td>2</td>\n      <td>Clothing Store</td>\n      <td>Coffee Shop</td>\n      <td>Café</td>\n      <td>Bubble Tea Shop</td>\n      <td>Japanese Restaurant</td>\n      <td>Cosmetics Shop</td>\n      <td>Hotel</td>\n      <td>Bookstore</td>\n      <td>Pizza Place</td>\n      <td>Middle Eastern Restaurant</td>\n    </tr>\n    <tr>\n      <th>3</th>\n      <td>Downtown Toronto</td>\n      <td>St. James Town</td>\n      <td>43.651494</td>\n      <td>-79.375418</td>\n      <td>2</td>\n      <td>Coffee Shop</td>\n      <td>Café</td>\n      <td>Cocktail Bar</td>\n      <td>Restaurant</td>\n      <td>Beer Bar</td>\n      <td>Gastropub</td>\n      <td>American Restaurant</td>\n      <td>Farmers Market</td>\n      <td>Hotel</td>\n      <td>Japanese Restaurant</td>\n    </tr>\n    <tr>\n      <th>4</th>\n      <td>East Toronto</td>\n      <td>The Beaches</td>\n      <td>43.676357</td>\n      <td>-79.293031</td>\n      <td>3</td>\n      <td>Neighborhood</td>\n      <td>Pub</td>\n      <td>Health Food Store</td>\n      <td>Trail</td>\n      <td>Yoga Studio</td>\n      <td>Dim Sum Restaurant</td>\n      <td>Diner</td>\n      <td>Discount Store</td>\n      <td>Distribution Center</td>\n      <td>Doner Restaurant</td>\n    </tr>\n  </tbody>\n</table>\n</div>"
     },
     "metadata": {},
     "execution_count": 41
    }
   ],
   "source": [
    "# add clustering labels\n",
    "nbh_venues_sorted.insert(0, 'Cluster Labels', kmeans.labels_)\n",
    "\n",
    "toronto_merged = df3\n",
    "\n",
    "# merge toronto_grouped with toronto_data to add latitude/longitude for each neighbourhood\n",
    "toronto_merged = toronto_merged.join(nbh_venues_sorted.set_index('Neighbourhood'), on = 'Neighbourhood')\n",
    "\n",
    "toronto_merged.head()"
   ]
  },
  {
   "source": [
    "### Visualise the resulting cluster."
   ],
   "cell_type": "markdown",
   "metadata": {}
  },
  {
   "cell_type": "code",
   "execution_count": 42,
   "metadata": {},
   "outputs": [
    {
     "output_type": "execute_result",
     "data": {
      "text/plain": [
       "<folium.folium.Map at 0x203ac87e310>"
      ],
      "text/html": "<div style=\"width:100%;\"><div style=\"position:relative;width:100%;height:0;padding-bottom:60%;\"><span style=\"color:#565656\">Make this Notebook Trusted to load map: File -> Trust Notebook</span><iframe src=\"about:blank\" style=\"position:absolute;width:100%;height:100%;left:0;top:0;border:none !important;\" data-html=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 onload=\"this.contentDocument.open();this.contentDocument.write(atob(this.getAttribute('data-html')));this.contentDocument.close();\" allowfullscreen webkitallowfullscreen mozallowfullscreen></iframe></div></div>"
     },
     "metadata": {},
     "execution_count": 42
    }
   ],
   "source": [
    "# create map\n",
    "map_clusters = folium.Map(location=[latitude, longitude], zoom_start=12)\n",
    "\n",
    "# set colour scheme for the clusters\n",
    "x = np.arange(kclusters)\n",
    "ys = [i + x + (i * x)**2 for i in range(kclusters)]\n",
    "colours_array = cm.rainbow(np.linspace(0, 1, len(ys)))\n",
    "rainbow = [colors.rgb2hex(i) for i in colours_array]\n",
    "\n",
    "# add markers to the map\n",
    "markers_colours = []\n",
    "for lat, lon, poi, cluster in zip(toronto_merged['Latitude'], toronto_merged['Longitude'], toronto_merged['Neighbourhood'], toronto_merged['Cluster Labels']):\n",
    "    label = folium.Popup(str(poi) + ' Cluster ' + str(cluster), parse_html = True)\n",
    "    folium.CircleMarker(\n",
    "        [lat, lon],\n",
    "        radius = 5,\n",
    "        popup = label,\n",
    "        color = rainbow[cluster - 1],\n",
    "        fill = True,\n",
    "        fill_color = rainbow[cluster - 1],\n",
    "        fill_opacity = 0.7).add_to(map_clusters)\n",
    "       \n",
    "map_clusters"
   ]
  },
  {
   "cell_type": "code",
   "execution_count": null,
   "metadata": {},
   "outputs": [],
   "source": []
  }
 ]
}